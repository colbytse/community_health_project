{
 "cells": [
  {
   "cell_type": "code",
   "execution_count": 194,
   "id": "b99f88cc-099b-494f-a18d-47bca4d2279f",
   "metadata": {
    "tags": []
   },
   "outputs": [],
   "source": [
    "import numpy as np\n",
    "import pandas as pd\n",
    "import re\n",
    "from glob import glob\n",
    "import pandas as pd\n",
    "import matplotlib.pyplot as plt\n",
    "import seaborn as sns"
   ]
  },
  {
   "cell_type": "markdown",
   "id": "43e41ea5-fdcb-47dd-872e-aeb19f03a7db",
   "metadata": {},
   "source": [
    "[loading file paths source](https://www.youtube.com/watch?v=kem2y-SawPw)"
   ]
  },
  {
   "cell_type": "code",
   "execution_count": 210,
   "id": "3ec6c131-178f-423e-abb4-1a1aa6a31307",
   "metadata": {},
   "outputs": [],
   "source": [
    "ch83dg = pd.read_csv('./cleaned_data/ch83dg.csv')\n",
    "ch83m = pd.read_csv('./cleaned_data/ch83m.csv')\n",
    "ch83pru = pd.read_csv('./cleaned_data/ch83pru.csv')\n",
    "ch83q = pd.read_csv('./cleaned_data/ch83q.csv')\n",
    "ch89dg = pd.read_csv('./cleaned_data/CH89DG.csv')\n",
    "ch89m = pd.read_csv('./cleaned_data/ch89m.csv')\n",
    "ch89pru = pd.read_csv('./cleaned_data/ch89pru.csv')\n",
    "ch89q = pd.read_csv('./cleaned_data/ch89q.csv')\n",
    "ch93pru = pd.read_csv('./cleaned_data/ch93pru.csv')\n",
    "ch93q = pd.read_csv('./cleaned_data/ch93q.csv')\n",
    "chtaim = pd.read_csv('./cleaned_data/chtaim.csv')\n",
    "chtaipru = pd.read_csv('./cleaned_data/chtaipru.csv')\n",
    "chtaiq = pd.read_csv('./cleaned_data/chtaiq.csv')"
   ]
  },
  {
   "cell_type": "markdown",
   "id": "475d0c6b-cf74-439f-a174-ebd5b0251709",
   "metadata": {
    "jp-MarkdownHeadingCollapsed": true,
    "tags": []
   },
   "source": [
    "###### general EDA ideas"
   ]
  },
  {
   "cell_type": "markdown",
   "id": "56a31693-9c70-45cc-9d8a-fdf71e3697d8",
   "metadata": {},
   "source": [
    "EDA ideas:\n",
    "\n",
    "smoking and respiratory questionaire results\n",
    "\n",
    "cancer and food consumption\n",
    "\n",
    "infections and income\n",
    "\n",
    "all vascular disease mortality and food consumption\n",
    "\n",
    "liver disease and alcohol\n",
    "\n",
    "\n"
   ]
  },
  {
   "cell_type": "markdown",
   "id": "a2e507b1-d226-48c1-863c-8dc8c5194bfa",
   "metadata": {
    "tags": []
   },
   "source": [
    "###### Mortality data EDA"
   ]
  },
  {
   "cell_type": "code",
   "execution_count": 214,
   "id": "dc7966b4-6063-4316-9bae-58636e910acc",
   "metadata": {},
   "outputs": [
    {
     "data": {
      "text/plain": [
       "((201, 123), (207, 72))"
      ]
     },
     "execution_count": 214,
     "metadata": {},
     "output_type": "execute_result"
    }
   ],
   "source": [
    "ch89m.shape, ch83m.shape \n",
    "# there are more mortality features in \n",
    "# ch89m than in ch83m"
   ]
  },
  {
   "cell_type": "code",
   "execution_count": null,
   "id": "360ca358-f5ff-43e0-95cc-3ca3ba7ed305",
   "metadata": {},
   "outputs": [],
   "source": []
  },
  {
   "cell_type": "code",
   "execution_count": 196,
   "id": "63841b51-e8e5-4634-92f6-37a05a9eab76",
   "metadata": {},
   "outputs": [
    {
     "data": {
      "text/html": [
       "<div>\n",
       "<style scoped>\n",
       "    .dataframe tbody tr th:only-of-type {\n",
       "        vertical-align: middle;\n",
       "    }\n",
       "\n",
       "    .dataframe tbody tr th {\n",
       "        vertical-align: top;\n",
       "    }\n",
       "\n",
       "    .dataframe thead th {\n",
       "        text-align: right;\n",
       "    }\n",
       "</style>\n",
       "<table border=\"1\" class=\"dataframe\">\n",
       "  <thead>\n",
       "    <tr style=\"text-align: right;\">\n",
       "      <th></th>\n",
       "      <th>Unnamed: 0</th>\n",
       "      <th>county</th>\n",
       "      <th>sex</th>\n",
       "      <th>xiang</th>\n",
       "      <th>m001</th>\n",
       "      <th>m002</th>\n",
       "      <th>m003</th>\n",
       "      <th>m004</th>\n",
       "      <th>m005</th>\n",
       "      <th>m006</th>\n",
       "      <th>...</th>\n",
       "      <th>m086</th>\n",
       "      <th>m087</th>\n",
       "      <th>m088</th>\n",
       "      <th>m103</th>\n",
       "      <th>m104</th>\n",
       "      <th>m105</th>\n",
       "      <th>m106</th>\n",
       "      <th>m107</th>\n",
       "      <th>m113</th>\n",
       "      <th>m117</th>\n",
       "    </tr>\n",
       "  </thead>\n",
       "  <tbody>\n",
       "    <tr>\n",
       "      <th>0</th>\n",
       "      <td>2</td>\n",
       "      <td>AA</td>\n",
       "      <td>M</td>\n",
       "      <td>3</td>\n",
       "      <td>3.67</td>\n",
       "      <td>72.03</td>\n",
       "      <td>124.01</td>\n",
       "      <td>143.89</td>\n",
       "      <td>14.87</td>\n",
       "      <td>97.10</td>\n",
       "      <td>...</td>\n",
       "      <td>15.59</td>\n",
       "      <td>NaN</td>\n",
       "      <td>NaN</td>\n",
       "      <td>14.44</td>\n",
       "      <td>NaN</td>\n",
       "      <td>18.36</td>\n",
       "      <td>10.61</td>\n",
       "      <td>7.75</td>\n",
       "      <td>4.13</td>\n",
       "      <td>0.00</td>\n",
       "    </tr>\n",
       "    <tr>\n",
       "      <th>1</th>\n",
       "      <td>5</td>\n",
       "      <td>AA</td>\n",
       "      <td>F</td>\n",
       "      <td>3</td>\n",
       "      <td>3.20</td>\n",
       "      <td>42.49</td>\n",
       "      <td>74.48</td>\n",
       "      <td>100.46</td>\n",
       "      <td>7.67</td>\n",
       "      <td>59.48</td>\n",
       "      <td>...</td>\n",
       "      <td>12.62</td>\n",
       "      <td>1.00</td>\n",
       "      <td>0.0</td>\n",
       "      <td>12.64</td>\n",
       "      <td>0.31</td>\n",
       "      <td>16.02</td>\n",
       "      <td>9.71</td>\n",
       "      <td>6.30</td>\n",
       "      <td>4.73</td>\n",
       "      <td>0.09</td>\n",
       "    </tr>\n",
       "    <tr>\n",
       "      <th>2</th>\n",
       "      <td>8</td>\n",
       "      <td>AA</td>\n",
       "      <td>T</td>\n",
       "      <td>3</td>\n",
       "      <td>3.44</td>\n",
       "      <td>57.26</td>\n",
       "      <td>99.25</td>\n",
       "      <td>122.17</td>\n",
       "      <td>11.27</td>\n",
       "      <td>78.29</td>\n",
       "      <td>...</td>\n",
       "      <td>14.11</td>\n",
       "      <td>NaN</td>\n",
       "      <td>NaN</td>\n",
       "      <td>13.54</td>\n",
       "      <td>NaN</td>\n",
       "      <td>17.19</td>\n",
       "      <td>10.16</td>\n",
       "      <td>7.03</td>\n",
       "      <td>4.43</td>\n",
       "      <td>0.04</td>\n",
       "    </tr>\n",
       "    <tr>\n",
       "      <th>3</th>\n",
       "      <td>11</td>\n",
       "      <td>AB</td>\n",
       "      <td>M</td>\n",
       "      <td>3</td>\n",
       "      <td>5.01</td>\n",
       "      <td>67.69</td>\n",
       "      <td>138.61</td>\n",
       "      <td>170.09</td>\n",
       "      <td>16.66</td>\n",
       "      <td>110.54</td>\n",
       "      <td>...</td>\n",
       "      <td>21.42</td>\n",
       "      <td>NaN</td>\n",
       "      <td>NaN</td>\n",
       "      <td>13.81</td>\n",
       "      <td>NaN</td>\n",
       "      <td>25.04</td>\n",
       "      <td>14.33</td>\n",
       "      <td>10.71</td>\n",
       "      <td>3.97</td>\n",
       "      <td>0.00</td>\n",
       "    </tr>\n",
       "    <tr>\n",
       "      <th>4</th>\n",
       "      <td>14</td>\n",
       "      <td>AB</td>\n",
       "      <td>F</td>\n",
       "      <td>3</td>\n",
       "      <td>3.84</td>\n",
       "      <td>51.36</td>\n",
       "      <td>101.97</td>\n",
       "      <td>127.78</td>\n",
       "      <td>8.83</td>\n",
       "      <td>65.11</td>\n",
       "      <td>...</td>\n",
       "      <td>19.69</td>\n",
       "      <td>1.75</td>\n",
       "      <td>0.4</td>\n",
       "      <td>11.57</td>\n",
       "      <td>0.37</td>\n",
       "      <td>19.19</td>\n",
       "      <td>11.97</td>\n",
       "      <td>7.22</td>\n",
       "      <td>3.75</td>\n",
       "      <td>0.00</td>\n",
       "    </tr>\n",
       "  </tbody>\n",
       "</table>\n",
       "<p>5 rows × 72 columns</p>\n",
       "</div>"
      ],
      "text/plain": [
       "   Unnamed: 0 county sex  xiang  m001   m002    m003    m004   m005    m006  \\\n",
       "0           2     AA   M      3  3.67  72.03  124.01  143.89  14.87   97.10   \n",
       "1           5     AA   F      3  3.20  42.49   74.48  100.46   7.67   59.48   \n",
       "2           8     AA   T      3  3.44  57.26   99.25  122.17  11.27   78.29   \n",
       "3          11     AB   M      3  5.01  67.69  138.61  170.09  16.66  110.54   \n",
       "4          14     AB   F      3  3.84  51.36  101.97  127.78   8.83   65.11   \n",
       "\n",
       "   ...   m086  m087  m088   m103  m104   m105   m106   m107  m113  m117  \n",
       "0  ...  15.59   NaN   NaN  14.44   NaN  18.36  10.61   7.75  4.13  0.00  \n",
       "1  ...  12.62  1.00   0.0  12.64  0.31  16.02   9.71   6.30  4.73  0.09  \n",
       "2  ...  14.11   NaN   NaN  13.54   NaN  17.19  10.16   7.03  4.43  0.04  \n",
       "3  ...  21.42   NaN   NaN  13.81   NaN  25.04  14.33  10.71  3.97  0.00  \n",
       "4  ...  19.69  1.75   0.4  11.57  0.37  19.19  11.97   7.22  3.75  0.00  \n",
       "\n",
       "[5 rows x 72 columns]"
      ]
     },
     "execution_count": 196,
     "metadata": {},
     "output_type": "execute_result"
    }
   ],
   "source": [
    "ch83m.head()"
   ]
  },
  {
   "cell_type": "code",
   "execution_count": 197,
   "id": "57ab5ca4-4d57-41cb-bc2b-6814e6043318",
   "metadata": {},
   "outputs": [],
   "source": [
    "ch83m.drop('Unnamed: 0', axis = 1, inplace=True)"
   ]
  },
  {
   "cell_type": "code",
   "execution_count": null,
   "id": "a0c354cc-f3be-4210-8d79-0050e2ae46f5",
   "metadata": {},
   "outputs": [],
   "source": []
  },
  {
   "cell_type": "markdown",
   "id": "a60acee2-4457-4d6a-b67c-e3795c9a32fa",
   "metadata": {},
   "source": [
    "I will inspect the mortality dataframe."
   ]
  },
  {
   "cell_type": "code",
   "execution_count": 198,
   "id": "aeed31d0-d38d-4e11-926a-c9de8bd86fa2",
   "metadata": {},
   "outputs": [
    {
     "data": {
      "text/plain": [
       "0      False\n",
       "1      False\n",
       "2      False\n",
       "3      False\n",
       "4      False\n",
       "       ...  \n",
       "202    False\n",
       "203    False\n",
       "204    False\n",
       "205    False\n",
       "206    False\n",
       "Name: county, Length: 207, dtype: bool"
      ]
     },
     "execution_count": 198,
     "metadata": {},
     "output_type": "execute_result"
    }
   ],
   "source": [
    "ch83m.loc[:,\"county\"].isna()==1"
   ]
  },
  {
   "cell_type": "code",
   "execution_count": 199,
   "id": "99cf8bf8-6b6e-49d9-b661-3bebee72829a",
   "metadata": {},
   "outputs": [
    {
     "data": {
      "text/plain": [
       "[102, 103, 104]"
      ]
     },
     "execution_count": 199,
     "metadata": {},
     "output_type": "execute_result"
    }
   ],
   "source": [
    "list(ch83m[ch83m.loc[:,\"county\"].isna()==1].index.values)"
   ]
  },
  {
   "cell_type": "code",
   "execution_count": 200,
   "id": "29a3ab61-586b-4854-8224-e5b229e63128",
   "metadata": {},
   "outputs": [],
   "source": [
    "# county with name NA was made into a nan value durring data cleaning,\n",
    "# and so I am manually updating the value\n",
    "ch83m.loc[ch83m[ch83m.loc[:,\"county\"].isna()==1].index.values,'county'] = \"NA\""
   ]
  },
  {
   "cell_type": "markdown",
   "id": "3a0a07ba-03ba-42a3-9abd-108ca58d1a60",
   "metadata": {},
   "source": [
    "The data are in floating point numbers and there are 68 categories/subcategories of death attribution."
   ]
  },
  {
   "cell_type": "code",
   "execution_count": 201,
   "id": "a4c2a8f4-a885-4e0b-86f0-b16a75343e2d",
   "metadata": {},
   "outputs": [
    {
     "data": {
      "text/plain": [
       "Index(['county', 'sex', 'xiang', 'm001', 'm002', 'm003', 'm004', 'm005',\n",
       "       'm006', 'm007', 'm008', 'm009', 'm010', 'm011', 'm012', 'm015', 'm016',\n",
       "       'm017', 'm018', 'm021', 'm022', 'm023', 'm025', 'm027', 'm028', 'm029',\n",
       "       'm030', 'm031', 'm033', 'm035', 'm036', 'm037', 'm038', 'm039', 'm040',\n",
       "       'm041', 'm042', 'm043', 'm044', 'm045', 'm048', 'm049', 'm058', 'm059',\n",
       "       'm060', 'm061', 'm062', 'm063', 'm064', 'm065', 'm066', 'm067', 'm068',\n",
       "       'm069', 'm070', 'm071', 'm072', 'm073', 'm074', 'm075', 'm077', 'm086',\n",
       "       'm087', 'm088', 'm103', 'm104', 'm105', 'm106', 'm107', 'm113', 'm117'],\n",
       "      dtype='object')"
      ]
     },
     "execution_count": 201,
     "metadata": {},
     "output_type": "execute_result"
    }
   ],
   "source": [
    "ch83m.columns"
   ]
  },
  {
   "cell_type": "code",
   "execution_count": 202,
   "id": "551ebb3a-bbc3-45f5-848c-e409c1ebac3f",
   "metadata": {},
   "outputs": [
    {
     "data": {
      "text/plain": [
       "(207, 71)"
      ]
     },
     "execution_count": 202,
     "metadata": {},
     "output_type": "execute_result"
    }
   ],
   "source": [
    "ch83m.shape"
   ]
  },
  {
   "cell_type": "code",
   "execution_count": 203,
   "id": "3e2d2891-ec7d-4f60-bbd7-476ea2e50282",
   "metadata": {},
   "outputs": [
    {
     "data": {
      "text/plain": [
       "''"
      ]
     },
     "execution_count": 203,
     "metadata": {},
     "output_type": "execute_result"
    },
    {
     "data": {
      "image/png": "[encoded data removed]",
      "text/plain": [
       "<Figure size 640x480 with 1 Axes>"
      ]
     },
     "metadata": {},
     "output_type": "display_data"
    }
   ],
   "source": [
    "# how many nan values?\n",
    "\n",
    "plt.hist(ch83m.isna().sum().values, bins = 20)\n",
    "plt.title('Mortality NaN Value Counts')\n",
    "plt.xlabel('NaN counts')\n",
    "plt.ylabel('frequency')\n",
    ";"
   ]
  },
  {
   "cell_type": "code",
   "execution_count": 204,
   "id": "42aa5020-3242-4fc1-80aa-796acbe04320",
   "metadata": {},
   "outputs": [
    {
     "data": {
      "image/png": "[encoded data removed]",
      "text/plain": [
       "<Figure size 640x480 with 1 Axes>"
      ]
     },
     "metadata": {},
     "output_type": "display_data"
    }
   ],
   "source": [
    "sns.histplot(ch83m.isna().sum().values, bins = 100).set(\n",
    "    title=\"Frequencies of NaN Counts\", xlabel='NaN Counts', ylabel='Frequency');"
   ]
  },
  {
   "cell_type": "code",
   "execution_count": 205,
   "id": "987280cc-f286-4caa-86c7-5a143a56aad9",
   "metadata": {
    "tags": []
   },
   "outputs": [
    {
     "data": {
      "text/html": [
       "<div>\n",
       "<style scoped>\n",
       "    .dataframe tbody tr th:only-of-type {\n",
       "        vertical-align: middle;\n",
       "    }\n",
       "\n",
       "    .dataframe tbody tr th {\n",
       "        vertical-align: top;\n",
       "    }\n",
       "\n",
       "    .dataframe thead th {\n",
       "        text-align: right;\n",
       "    }\n",
       "</style>\n",
       "<table border=\"1\" class=\"dataframe\">\n",
       "  <thead>\n",
       "    <tr style=\"text-align: right;\">\n",
       "      <th></th>\n",
       "      <th>M</th>\n",
       "      <th>F</th>\n",
       "      <th>T</th>\n",
       "    </tr>\n",
       "  </thead>\n",
       "  <tbody>\n",
       "    <tr>\n",
       "      <th>county</th>\n",
       "      <td>0</td>\n",
       "      <td>0</td>\n",
       "      <td>0</td>\n",
       "    </tr>\n",
       "    <tr>\n",
       "      <th>sex</th>\n",
       "      <td>0</td>\n",
       "      <td>0</td>\n",
       "      <td>0</td>\n",
       "    </tr>\n",
       "    <tr>\n",
       "      <th>xiang</th>\n",
       "      <td>0</td>\n",
       "      <td>0</td>\n",
       "      <td>0</td>\n",
       "    </tr>\n",
       "    <tr>\n",
       "      <th>m001</th>\n",
       "      <td>9</td>\n",
       "      <td>9</td>\n",
       "      <td>9</td>\n",
       "    </tr>\n",
       "    <tr>\n",
       "      <th>m002</th>\n",
       "      <td>9</td>\n",
       "      <td>9</td>\n",
       "      <td>9</td>\n",
       "    </tr>\n",
       "  </tbody>\n",
       "</table>\n",
       "</div>"
      ],
      "text/plain": [
       "        M  F  T\n",
       "county  0  0  0\n",
       "sex     0  0  0\n",
       "xiang   0  0  0\n",
       "m001    9  9  9\n",
       "m002    9  9  9"
      ]
     },
     "execution_count": 205,
     "metadata": {},
     "output_type": "execute_result"
    }
   ],
   "source": [
    "nan_dict = {'M':ch83m[ch83m['sex']=='M'].isna().sum(), \n",
    "            'F':ch83m[ch83m['sex']=='F'].isna().sum(), \n",
    "            'T':ch83m[ch83m['sex']=='T'].isna().sum()}\n",
    "missing_vals = pd.DataFrame.from_dict(nan_dict)\n",
    "missing_vals.head()"
   ]
  },
  {
   "cell_type": "markdown",
   "id": "dc77e814-08a4-4787-b55c-d9181823e831",
   "metadata": {},
   "source": [
    "I'll check if missing values are consistent by sex. This [source](https://www.statology.org/pandas-check-if-multiple-columns-are-equal/) provided code."
   ]
  },
  {
   "cell_type": "code",
   "execution_count": 206,
   "id": "d9aace07-6b4c-40be-982a-8e49aed0443c",
   "metadata": {},
   "outputs": [
    {
     "data": {
      "text/plain": [
       "64"
      ]
     },
     "execution_count": 206,
     "metadata": {},
     "output_type": "execute_result"
    }
   ],
   "source": [
    "# I'll check if missing values are consistent my sex\n",
    "missing_vals.eq(missing_vals.iloc[:, 0], axis=0).all(1).sum()\n"
   ]
  },
  {
   "cell_type": "code",
   "execution_count": 207,
   "id": "ef8d5732-5907-4ace-9ced-5636f77ffbdf",
   "metadata": {},
   "outputs": [
    {
     "data": {
      "text/plain": [
       "M    1143\n",
       "F     846\n",
       "T    1212\n",
       "dtype: int64"
      ]
     },
     "execution_count": 207,
     "metadata": {},
     "output_type": "execute_result"
    }
   ],
   "source": [
    "# there are slightly more nan values for the male categories than female.\n",
    "missing_vals.sum()"
   ]
  },
  {
   "cell_type": "code",
   "execution_count": 208,
   "id": "5f6dc997-4d9b-49d8-aa03-1cadc628547e",
   "metadata": {},
   "outputs": [],
   "source": [
    "# all the descriptive columns for ch89m\n",
    "\n",
    "mortality_cols_descriptive = \\\n",
    "['ALL0_4','ALL5_14','ALL15_34','ALL0_34','ALL35_69','ALL70_79','MEDICALb', 'MEDICALc',\n",
    "'NONMEDb', 'NONMEDc', 'INFECTb', 'INFECTc', 'INTESTINb', 'INTESTINc','PULMTBb',\n",
    "'PULMTBc', 'OTHERTBb', 'OTHERTBc', 'VIRALHEPb', 'VIRALHEPc', 'SCHISTOc', 'ALLCAb', \n",
    "'ALLCAc', 'MOUTHCAc', 'NASOPCAc', 'NPConlyc', 'OESOPHCAc', 'OESOPHCAc', 'COLRECCAc', 'LIVERCAb', \n",
    "'LIVERCAc', 'PANCRSCAc', 'BLADDCAc', 'LARYNXCAc', 'LUNGCAmc', 'LUNGCAfc', 'BREASTCAc', 'CERVIXCAc', \n",
    "'BRAINCAc', 'LYMPHOMAc', 'LEUKEMIAb', 'LEUKEMIAc', 'ENDOCRINb', 'ENDOCRINc', 'DIABETESc', 'MALNUTRIb', \n",
    "'MALNUTRIc', 'BLOODb', 'BLOODc', 'MENTALb', 'MENTALc', 'NERVOUSb', 'NERVOUSc', 'MENINGITb', 'MENINGITc', \n",
    "'EPILEPSYb', 'EPILEPSYc', 'ALLVASCb', 'ALLVASCc', 'RHEUMHDb', 'RHEUMHDc', 'HYPTENSc', 'IHDc', 'STROKEb', 'STROKEc',\n",
    "'VASC_STRb', 'VASC-STRc', 'ALLRESPb', 'ALLRESPc', 'PNEUMONb', 'PNEUMONc', 'COPDc', 'DIGESTIVb', 'DIGESTIVc',\n",
    "'PEPULCERc', 'ENTCOLc', 'INTESTOBc', 'CIRRHOSb', 'CIRRHOSc', 'TOTLIVRb', 'TOTLIVRc', 'GALLBILc', 'GENITURc',\n",
    "'GENITURmc', 'GENITURfc', 'RENALc', 'PREGBRTHb', 'PREGBRTHc', 'ALLSKINc', 'MUSCSKELc', 'ILL_DEFb', 'ILL_DEFc',\n",
    "'ACCIDENTb', 'ACCIDENTc', 'ROADACCb', 'ROADACCc', 'DROWNb', 'DROWNc', 'SUICIDEb', 'SUICIDEc', 'HOMICIDEb',\n",
    "'HOMICIDEc', 'INFANT', 'MATERNAL', 'ALLCUMa', 'MEDICALa', 'NONMEDa', 'RESPINFa', 'ALLGIa', 'CONGENITa', \n",
    "'NTDa', 'CONGENHDa', 'PERINATa', 'LOWBTHWTa', 'BTHTRAUMa', 'RDSa', 'NEOTETANa', 'MALNUTRIa', 'DROWNa'\n",
    "]"
   ]
  },
  {
   "cell_type": "code",
   "execution_count": 209,
   "id": "33f0f489-3c01-4ddd-957e-4012391b6a61",
   "metadata": {},
   "outputs": [
    {
     "data": {
      "text/plain": [
       "Index(['Unnamed: 0', 'county', 'sex', 'xiang', 'm001', 'm002', 'm003', 'm004',\n",
       "       'm005', 'm006',\n",
       "       ...\n",
       "       'm110', 'm111', 'm112', 'm113', 'm114', 'm115', 'm116', 'm117', 'm118',\n",
       "       'm119'],\n",
       "      dtype='object', length=123)"
      ]
     },
     "execution_count": 209,
     "metadata": {},
     "output_type": "execute_result"
    }
   ],
   "source": [
    "ch89m.columns"
   ]
  },
  {
   "cell_type": "code",
   "execution_count": 181,
   "id": "69c66b11-c02b-41b5-8b3b-7ce103b04db3",
   "metadata": {},
   "outputs": [],
   "source": [
    "cols_0_3 = ch89m.columns[0:4]"
   ]
  },
  {
   "cell_type": "code",
   "execution_count": 182,
   "id": "5ad1a81b-da73-41cc-b90f-8030e7d4fe21",
   "metadata": {},
   "outputs": [],
   "source": [
    "new_cols = list(cols_0_3) + list(mortality_cols_descriptive)"
   ]
  },
  {
   "cell_type": "markdown",
   "id": "684fe78d-94f2-4112-a091-2d4484d0c8bc",
   "metadata": {},
   "source": [
    "[concatenate elementwise](https://stackoverflow.com/questions/51482134/concatenate-zipped-values-in-python)"
   ]
  },
  {
   "cell_type": "code",
   "execution_count": 185,
   "id": "bc28d6ba-62b0-4c3d-a77b-1dec8fbf2ab3",
   "metadata": {},
   "outputs": [],
   "source": [
    "new_cols[4:] = [f'{code}_{descr}' for code, descr in \\\n",
    "                zip(ch89m.columns.values[4:], mortality_cols_descriptive)]"
   ]
  },
  {
   "cell_type": "code",
   "execution_count": 186,
   "id": "5a98015a-756e-405c-8d23-1da620051e95",
   "metadata": {
    "collapsed": true,
    "jupyter": {
     "outputs_hidden": true
    },
    "tags": []
   },
   "outputs": [
    {
     "data": {
      "text/plain": [
       "['Unnamed: 0',\n",
       " 'county',\n",
       " 'sex',\n",
       " 'xiang',\n",
       " 'm001_ALL0_4',\n",
       " 'm002_ALL5_14',\n",
       " 'm003_ALL15_34',\n",
       " 'm004_ALL0_34',\n",
       " 'm005_ALL35_69',\n",
       " 'm006_ALL70_79',\n",
       " 'm007_MEDICALb',\n",
       " 'm008_MEDICALc',\n",
       " 'm009_NONMEDb',\n",
       " 'm010_NONMEDc',\n",
       " 'm011_INFECTb',\n",
       " 'm012_INFECTc',\n",
       " 'm013_INTESTINb',\n",
       " 'm014_INTESTINc',\n",
       " 'm015_PULMTBb',\n",
       " 'm016_PULMTBc',\n",
       " 'm017_OTHERTBb',\n",
       " 'm018_OTHERTBc',\n",
       " 'm019_VIRALHEPb',\n",
       " 'm020_VIRALHEPc',\n",
       " 'm021_SCHISTOc',\n",
       " 'm022_ALLCAb',\n",
       " 'm023_ALLCAc',\n",
       " 'm024_MOUTHCAc',\n",
       " 'm025_NASOPCAc',\n",
       " 'm026_NPConlyc',\n",
       " 'm027_OESOPHCAc',\n",
       " 'm028_OESOPHCAc',\n",
       " 'm029_COLRECCAc',\n",
       " 'm030_LIVERCAb',\n",
       " 'm031_LIVERCAc',\n",
       " 'm032_PANCRSCAc',\n",
       " 'm033_BLADDCAc',\n",
       " 'm034_LARYNXCAc',\n",
       " 'm035_LUNGCAmc',\n",
       " 'm036_LUNGCAfc',\n",
       " 'm037_BREASTCAc',\n",
       " 'm038_CERVIXCAc',\n",
       " 'm039_BRAINCAc',\n",
       " 'm040_LYMPHOMAc',\n",
       " 'm041_LEUKEMIAb',\n",
       " 'm042_LEUKEMIAc',\n",
       " 'm043_ENDOCRINb',\n",
       " 'm044_ENDOCRINc',\n",
       " 'm045_DIABETESc',\n",
       " 'm046_MALNUTRIb',\n",
       " 'm047_MALNUTRIc',\n",
       " 'm048_BLOODb',\n",
       " 'm049_BLOODc',\n",
       " 'm050_MENTALb',\n",
       " 'm051_MENTALc',\n",
       " 'm052_NERVOUSb',\n",
       " 'm053_NERVOUSc',\n",
       " 'm054_MENINGITb',\n",
       " 'm055_MENINGITc',\n",
       " 'm056_EPILEPSYb',\n",
       " 'm057_EPILEPSYc',\n",
       " 'm058_ALLVASCb',\n",
       " 'm059_ALLVASCc',\n",
       " 'm060_RHEUMHDb',\n",
       " 'm061_RHEUMHDc',\n",
       " 'm062_HYPTENSc',\n",
       " 'm063_IHDc',\n",
       " 'm064_STROKEb',\n",
       " 'm065_STROKEc',\n",
       " 'm066_VASC_STRb',\n",
       " 'm067_VASC-STRc',\n",
       " 'm068_ALLRESPb',\n",
       " 'm069_ALLRESPc',\n",
       " 'm070_PNEUMONb',\n",
       " 'm071_PNEUMONc',\n",
       " 'm072_COPDc',\n",
       " 'm073_DIGESTIVb',\n",
       " 'm074_DIGESTIVc',\n",
       " 'm075_PEPULCERc',\n",
       " 'm076_ENTCOLc',\n",
       " 'm077_INTESTOBc',\n",
       " 'm078_CIRRHOSb',\n",
       " 'm079_CIRRHOSc',\n",
       " 'm080_TOTLIVRb',\n",
       " 'm081_TOTLIVRc',\n",
       " 'm082_GALLBILc',\n",
       " 'm083_GENITURc',\n",
       " 'm084_GENITURmc',\n",
       " 'm085_GENITURfc',\n",
       " 'm086_RENALc',\n",
       " 'm087_PREGBRTHb',\n",
       " 'm088_PREGBRTHc',\n",
       " 'm089_ALLSKINc',\n",
       " 'm090_MUSCSKELc',\n",
       " 'm091_ILL_DEFb',\n",
       " 'm092_ILL_DEFc',\n",
       " 'm093_ACCIDENTb',\n",
       " 'm094_ACCIDENTc',\n",
       " 'm095_ROADACCb',\n",
       " 'm096_ROADACCc',\n",
       " 'm097_DROWNb',\n",
       " 'm098_DROWNc',\n",
       " 'm099_SUICIDEb',\n",
       " 'm100_SUICIDEc',\n",
       " 'm101_HOMICIDEb',\n",
       " 'm102_HOMICIDEc',\n",
       " 'm103_INFANT',\n",
       " 'm104_MATERNAL',\n",
       " 'm105_ALLCUMa',\n",
       " 'm106_MEDICALa',\n",
       " 'm107_NONMEDa',\n",
       " 'm108_RESPINFa',\n",
       " 'm109_ALLGIa',\n",
       " 'm110_CONGENITa',\n",
       " 'm111_NTDa',\n",
       " 'm112_CONGENHDa',\n",
       " 'm113_PERINATa',\n",
       " 'm114_LOWBTHWTa',\n",
       " 'm115_BTHTRAUMa',\n",
       " 'm116_RDSa',\n",
       " 'm117_NEOTETANa',\n",
       " 'm118_MALNUTRIa',\n",
       " 'm119_DROWNa']"
      ]
     },
     "execution_count": 186,
     "metadata": {},
     "output_type": "execute_result"
    }
   ],
   "source": [
    "new_cols"
   ]
  },
  {
   "cell_type": "code",
   "execution_count": 187,
   "id": "8da3fa74-2b2d-4285-8006-7fd50a6e8bef",
   "metadata": {},
   "outputs": [],
   "source": [
    "ch89m_cols_descr = pd.Series(data=new_cols, name='ch89m_cols_descr')\n",
    "ch89m_cols_descr.to_csv('./descriptive_columns/ch89m_cols_descr.csv')"
   ]
  },
  {
   "cell_type": "code",
   "execution_count": 188,
   "id": "1fd1b271-ac67-4852-9c06-81f67423d9ae",
   "metadata": {},
   "outputs": [],
   "source": [
    "ch89m_rename = dict(zip(ch89m.columns.values,new_cols))\n",
    "ch89m = ch89m.rename(ch89m_rename,axis=1)"
   ]
  },
  {
   "cell_type": "code",
   "execution_count": 189,
   "id": "439fdaea-c46d-4b38-bfae-3560138de54c",
   "metadata": {},
   "outputs": [
    {
     "data": {
      "text/plain": [
       "Index(['Unnamed: 0', 'county', 'sex', 'xiang', 'm001_ALL0_4', 'm002_ALL5_14',\n",
       "       'm003_ALL15_34', 'm004_ALL0_34', 'm005_ALL35_69', 'm006_ALL70_79',\n",
       "       'm007_MEDICALb', 'm008_MEDICALc', 'm009_NONMEDb', 'm010_NONMEDc',\n",
       "       'm011_INFECTb', 'm012_INFECTc', 'm013_INTESTINb', 'm014_INTESTINc',\n",
       "       'm015_PULMTBb', 'm016_PULMTBc'],\n",
       "      dtype='object')"
      ]
     },
     "execution_count": 189,
     "metadata": {},
     "output_type": "execute_result"
    }
   ],
   "source": [
    "ch89m.columns[0:20]"
   ]
  },
  {
   "cell_type": "code",
   "execution_count": null,
   "id": "62c671c9-9d62-4241-8905-a8183064c04a",
   "metadata": {},
   "outputs": [],
   "source": [
    "ch89m.drop()"
   ]
  },
  {
   "cell_type": "markdown",
   "id": "c9dafc50-b0e2-4ccf-a515-41f3d39cf873",
   "metadata": {},
   "source": [
    "There may be different age distributions between counties.  Not sure how to correct for this, get deaths per 100_000 of folks in that age band..."
   ]
  },
  {
   "cell_type": "markdown",
   "id": "617db201-846f-4ae6-81bd-eb92729f26ab",
   "metadata": {},
   "source": [
    "Now looking for the most prevalent **recorded** causes of mortality ..."
   ]
  },
  {
   "cell_type": "code",
   "execution_count": null,
   "id": "c6128f73-78cb-49c3-ad0e-28fc90661fd6",
   "metadata": {},
   "outputs": [],
   "source": []
  },
  {
   "cell_type": "code",
   "execution_count": 190,
   "id": "e948d7f1-03b6-4ecc-bcb0-064dc421704a",
   "metadata": {
    "tags": []
   },
   "outputs": [
    {
     "data": {
      "text/plain": [
       "Unnamed: 0        304.820896\n",
       "m069_ALLRESPc     270.939950\n",
       "m072_COPDc        251.440299\n",
       "m004_ALL0_34      220.173990\n",
       "m065_STROKEc      213.171642\n",
       "                     ...    \n",
       "m047_MALNUTRIc      0.859303\n",
       "m118_MALNUTRIa      0.655202\n",
       "m117_NEOTETANa      0.568939\n",
       "m019_VIRALHEPb      0.548030\n",
       "m111_NTDa           0.321465\n",
       "Name: mean, Length: 121, dtype: float64"
      ]
     },
     "execution_count": 190,
     "metadata": {},
     "output_type": "execute_result"
    }
   ],
   "source": [
    "ch89m.describe().loc['mean',:].sort_values(ascending=False)"
   ]
  },
  {
   "cell_type": "markdown",
   "id": "62762a42-9037-4de0-9acb-7c25f957b5b0",
   "metadata": {},
   "source": []
  }
 ],
 "metadata": {
  "kernelspec": {
   "display_name": "Python 3 (ipykernel)",
   "language": "python",
   "name": "python3"
  },
  "language_info": {
   "codemirror_mode": {
    "name": "ipython",
    "version": 3
   },
   "file_extension": ".py",
   "mimetype": "text/x-python",
   "name": "python",
   "nbconvert_exporter": "python",
   "pygments_lexer": "ipython3",
   "version": "3.9.13"
  }
 },
 "nbformat": 4,
 "nbformat_minor": 5
}
