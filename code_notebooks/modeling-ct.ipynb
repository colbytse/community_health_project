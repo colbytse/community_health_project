{
 "cells": [
  {
   "cell_type": "code",
   "execution_count": 1,
   "id": "19d829c5-7f0b-4918-91ff-5f8b0dc18f5e",
   "metadata": {
    "execution": {
     "iopub.execute_input": "2023-01-20T01:01:12.206345Z",
     "iopub.status.busy": "2023-01-20T01:01:12.206242Z",
     "iopub.status.idle": "2023-01-20T01:01:13.138988Z",
     "shell.execute_reply": "2023-01-20T01:01:13.138622Z",
     "shell.execute_reply.started": "2023-01-20T01:01:12.206331Z"
    },
    "tags": []
   },
   "outputs": [],
   "source": [
    "import numpy as np\n",
    "import pandas as pd\n",
    "import matplotlib.pyplot as plt\n",
    "import seaborn as sns\n",
    "\n",
    "from sklearn.model_selection import train_test_split, cross_val_score\n",
    "from sklearn.linear_model import LinearRegression,\\\n",
    "                                RidgeCV, LassoCV\n",
    "from sklearn.preprocessing import StandardScaler, PolynomialFeatures, OneHotEncoder\n",
    "from sklearn.metrics import r2_score, mean_squared_error\n",
    "from sklearn.decomposition import PCA\n",
    "from sklearn.impute import SimpleImputer\n",
    "from sklearn.compose import ColumnTransformer\n",
    "from sklearn.pipeline import Pipeline"
   ]
  },
  {
   "cell_type": "markdown",
   "id": "089ef8c3-750c-4b57-a1fd-74f10674b8a5",
   "metadata": {},
   "source": [
    "### Functions"
   ]
  },
  {
   "cell_type": "code",
   "execution_count": 2,
   "id": "0995fed4-9c2e-4ca6-b541-4b586190707b",
   "metadata": {
    "execution": {
     "iopub.execute_input": "2023-01-20T01:01:13.140485Z",
     "iopub.status.busy": "2023-01-20T01:01:13.140187Z",
     "iopub.status.idle": "2023-01-20T01:01:13.144666Z",
     "shell.execute_reply": "2023-01-20T01:01:13.144334Z",
     "shell.execute_reply.started": "2023-01-20T01:01:13.140473Z"
    }
   },
   "outputs": [],
   "source": [
    "results = pd.DataFrame(columns = ['Model', 'Train Score', 'Val Score', 'X Val Score', 'RMSE Train', 'RMSE Val'])\n",
    "\n",
    "def update_df(model, model_name):\n",
    "    '''fn updates a dataframe for quick reference of R squared scores and RMSE'''\n",
    "    import warnings\n",
    "    with warnings.catch_warnings():\n",
    "        warnings.simplefilter(\"ignore\")\n",
    "        \n",
    "        train_score = model.score(Xs_train, y_train)\n",
    "        val_score = model.score(Xs_test, y_test)\n",
    "        x_val_score = cross_val_score(model, Xs_train, y_train).mean()\n",
    "        rmse1 = mean_squared_error(y_train, lr.predict(Xs_train))**0.5\n",
    "        rmse2 = mean_squared_error(y_test, lr.predict(Xs_test))**0.5\n",
    "        \n",
    "        results.loc[len(results.index)] = [model_name, train_score, val_score, x_val_score, rmse1, rmse2] \n",
    "        \n",
    "    return results"
   ]
  },
  {
   "cell_type": "code",
   "execution_count": 3,
   "id": "d42191d9-8265-48f8-bac9-f40a7bdf97e7",
   "metadata": {
    "execution": {
     "iopub.execute_input": "2023-01-20T01:01:13.145310Z",
     "iopub.status.busy": "2023-01-20T01:01:13.145197Z",
     "iopub.status.idle": "2023-01-20T01:01:13.148832Z",
     "shell.execute_reply": "2023-01-20T01:01:13.148536Z",
     "shell.execute_reply.started": "2023-01-20T01:01:13.145299Z"
    },
    "tags": []
   },
   "outputs": [],
   "source": [
    "pca_result = pd.DataFrame(columns = ['Model', 'Train Score', 'Val Score', 'X Val Score', 'RMSE Train', 'RMSE Val'])\n",
    "\n",
    "def update_df2(model, model_name, X_train, X_test, y_train, y_test):\n",
    "    '''fn updates a dataframe for quick reference of R squared scores and RMSE'''\n",
    "    import warnings\n",
    "    with warnings.catch_warnings():\n",
    "        warnings.simplefilter(\"ignore\")\n",
    "        \n",
    "        train_score = model.score(X_train, y_train)\n",
    "        val_score = model.score(X_test, y_test)\n",
    "        x_val_score = cross_val_score(model, X_train, y_train).mean()\n",
    "        rmse1 = mean_squared_error(y_train, lr.predict(X_train))**0.5\n",
    "        rmse2 = mean_squared_error(y_test, lr.predict(X_test))**0.5\n",
    "        \n",
    "        pca_result.loc[len(pca_result.index)] = [model_name, train_score, val_score, x_val_score, rmse1, rmse2] \n",
    "        \n",
    "    return pca_result"
   ]
  },
  {
   "cell_type": "code",
   "execution_count": 4,
   "id": "a7801f23-beb2-4d9d-ab49-86bc680439da",
   "metadata": {
    "execution": {
     "iopub.execute_input": "2023-01-20T01:01:13.149546Z",
     "iopub.status.busy": "2023-01-20T01:01:13.149415Z",
     "iopub.status.idle": "2023-01-20T01:01:13.152976Z",
     "shell.execute_reply": "2023-01-20T01:01:13.152711Z",
     "shell.execute_reply.started": "2023-01-20T01:01:13.149535Z"
    },
    "tags": []
   },
   "outputs": [],
   "source": [
    "pca_m = pd.DataFrame(columns = ['Model', 'Train Score', 'Val Score', 'X Val Score', 'RMSE Train', 'RMSE Val'])\n",
    "\n",
    "def update_dfm(model, model_name, X_train, X_test, y_train, y_test):\n",
    "    '''fn updates a dataframe for quick reference of R squared scores and RMSE'''\n",
    "    import warnings\n",
    "    with warnings.catch_warnings():\n",
    "        warnings.simplefilter(\"ignore\")\n",
    "        \n",
    "        train_score = model.score(X_train, y_train)\n",
    "        val_score = model.score(X_test, y_test)\n",
    "        x_val_score = cross_val_score(model, X_train, y_train).mean()\n",
    "        rmse1 = mean_squared_error(y_train, lr.predict(X_train))**0.5\n",
    "        rmse2 = mean_squared_error(y_test, lr.predict(X_test))**0.5\n",
    "        \n",
    "        pca_m.loc[len(pca_m.index)] = [model_name, train_score, val_score, x_val_score, rmse1, rmse2] \n",
    "        \n",
    "    return pca_m"
   ]
  },
  {
   "cell_type": "code",
   "execution_count": 5,
   "id": "6c48a997-1ac6-446a-970d-8dbb0fb31232",
   "metadata": {
    "execution": {
     "iopub.execute_input": "2023-01-20T01:01:13.153678Z",
     "iopub.status.busy": "2023-01-20T01:01:13.153537Z",
     "iopub.status.idle": "2023-01-20T01:01:13.157762Z",
     "shell.execute_reply": "2023-01-20T01:01:13.157339Z",
     "shell.execute_reply.started": "2023-01-20T01:01:13.153666Z"
    },
    "tags": []
   },
   "outputs": [],
   "source": [
    "pca_f = pd.DataFrame(columns = ['Model', 'Train Score', 'Val Score', 'X Val Score', 'RMSE Train', 'RMSE Val'])\n",
    "\n",
    "def update_dff(model, model_name, X_train, X_test, y_train, y_test):\n",
    "    '''fn updates a dataframe for quick reference of R squared scores and RMSE'''\n",
    "    import warnings\n",
    "    with warnings.catch_warnings():\n",
    "        warnings.simplefilter(\"ignore\")\n",
    "        \n",
    "        train_score = model.score(X_train, y_train)\n",
    "        val_score = model.score(X_test, y_test)\n",
    "        x_val_score = cross_val_score(model, X_train, y_train).mean()\n",
    "        rmse1 = mean_squared_error(y_train, lr.predict(X_train))**0.5\n",
    "        rmse2 = mean_squared_error(y_test, lr.predict(X_test))**0.5\n",
    "        \n",
    "        pca_f.loc[len(pca_f.index)] = [model_name, train_score, val_score, x_val_score, rmse1, rmse2] \n",
    "        \n",
    "    return pca_f"
   ]
  },
  {
   "cell_type": "code",
   "execution_count": 6,
   "id": "cea50b3c-0de1-4b2d-b7ee-34688c37b295",
   "metadata": {
    "execution": {
     "iopub.execute_input": "2023-01-20T01:01:13.158438Z",
     "iopub.status.busy": "2023-01-20T01:01:13.158300Z",
     "iopub.status.idle": "2023-01-20T01:01:13.162257Z",
     "shell.execute_reply": "2023-01-20T01:01:13.161896Z",
     "shell.execute_reply.started": "2023-01-20T01:01:13.158426Z"
    },
    "tags": []
   },
   "outputs": [],
   "source": [
    "lr_m = pd.DataFrame(columns = ['Model', 'Train Score', 'Val Score', 'X Val Score', 'RMSE Train', 'RMSE Val'])\n",
    "\n",
    "def update_lrm(model, model_name, X_train, X_test, y_train, y_test):\n",
    "    '''fn updates a dataframe for quick reference of R squared scores and RMSE'''\n",
    "    import warnings\n",
    "    with warnings.catch_warnings():\n",
    "        warnings.simplefilter(\"ignore\")\n",
    "        \n",
    "        train_score = model.score(X_train, y_train)\n",
    "        val_score = model.score(X_test, y_test)\n",
    "        x_val_score = cross_val_score(model, X_train, y_train).mean()\n",
    "        rmse1 = mean_squared_error(y_train, lr.predict(X_train))**0.5\n",
    "        rmse2 = mean_squared_error(y_test, lr.predict(X_test))**0.5\n",
    "        \n",
    "        lr_m.loc[len(lr_m.index)] = [model_name, train_score, val_score, x_val_score, rmse1, rmse2] \n",
    "        \n",
    "    return lr_m"
   ]
  },
  {
   "cell_type": "code",
   "execution_count": 7,
   "id": "b5efa66d-f09e-49ed-a2a2-e41aef69a1ef",
   "metadata": {
    "execution": {
     "iopub.execute_input": "2023-01-20T01:01:13.164522Z",
     "iopub.status.busy": "2023-01-20T01:01:13.164292Z",
     "iopub.status.idle": "2023-01-20T01:01:13.168598Z",
     "shell.execute_reply": "2023-01-20T01:01:13.168161Z",
     "shell.execute_reply.started": "2023-01-20T01:01:13.164509Z"
    }
   },
   "outputs": [],
   "source": [
    "lr_f = pd.DataFrame(columns = ['Model', 'Train Score', 'Val Score', 'X Val Score', 'RMSE Train', 'RMSE Val'])\n",
    "\n",
    "def update_lrf(model, model_name, X_train, X_test, y_train, y_test):\n",
    "    '''fn updates a dataframe for quick reference of R squared scores and RMSE'''\n",
    "    import warnings\n",
    "    with warnings.catch_warnings():\n",
    "        warnings.simplefilter(\"ignore\")\n",
    "        \n",
    "        train_score = model.score(X_train, y_train)\n",
    "        val_score = model.score(X_test, y_test)\n",
    "        x_val_score = cross_val_score(model, X_train, y_train).mean()\n",
    "        rmse1 = mean_squared_error(y_train, lr.predict(X_train))**0.5\n",
    "        rmse2 = mean_squared_error(y_test, lr.predict(X_test))**0.5\n",
    "        \n",
    "        lr_f.loc[len(lr_f.index)] = [model_name, train_score, val_score, x_val_score, rmse1, rmse2] \n",
    "        \n",
    "    return lr_f"
   ]
  },
  {
   "cell_type": "markdown",
   "id": "ac7a48a4-e299-47dc-ad51-cf5ff7614e3b",
   "metadata": {},
   "source": [
    "#### Scope\n",
    "\n",
    "Using the data from The China Study we aim to create a predictive model for mortality rates/chances based on the various features collected by the study. Shy of a predictive model, we hope to glean any insights related to health and exume any correlations."
   ]
  },
  {
   "cell_type": "markdown",
   "id": "7d0cbefb-b06f-4fe8-bbb0-aa97799c4f7e",
   "metadata": {},
   "source": [
    "### Read in data"
   ]
  },
  {
   "cell_type": "code",
   "execution_count": 8,
   "id": "d4298f6e-bd61-4362-95ad-dccf9d7a16e6",
   "metadata": {
    "execution": {
     "iopub.execute_input": "2023-01-20T01:01:13.169330Z",
     "iopub.status.busy": "2023-01-20T01:01:13.169209Z",
     "iopub.status.idle": "2023-01-20T01:01:13.182101Z",
     "shell.execute_reply": "2023-01-20T01:01:13.181669Z",
     "shell.execute_reply.started": "2023-01-20T01:01:13.169318Z"
    },
    "tags": []
   },
   "outputs": [],
   "source": [
    "df = pd.read_csv('./cleaned_data_descriptive/combined_df.csv',index_col=[0])"
   ]
  },
  {
   "cell_type": "code",
   "execution_count": 9,
   "id": "b83462ef-f795-4a78-8cda-087ba6d08238",
   "metadata": {
    "execution": {
     "iopub.execute_input": "2023-01-20T01:01:13.182900Z",
     "iopub.status.busy": "2023-01-20T01:01:13.182746Z",
     "iopub.status.idle": "2023-01-20T01:01:13.194791Z",
     "shell.execute_reply": "2023-01-20T01:01:13.194401Z",
     "shell.execute_reply.started": "2023-01-20T01:01:13.182887Z"
    },
    "tags": []
   },
   "outputs": [
    {
     "data": {
      "text/html": [
       "<div>\n",
       "<style scoped>\n",
       "    .dataframe tbody tr th:only-of-type {\n",
       "        vertical-align: middle;\n",
       "    }\n",
       "\n",
       "    .dataframe tbody tr th {\n",
       "        vertical-align: top;\n",
       "    }\n",
       "\n",
       "    .dataframe thead th {\n",
       "        text-align: right;\n",
       "    }\n",
       "</style>\n",
       "<table border=\"1\" class=\"dataframe\">\n",
       "  <thead>\n",
       "    <tr style=\"text-align: right;\">\n",
       "      <th></th>\n",
       "      <th>county</th>\n",
       "      <th>sex</th>\n",
       "      <th>xiang</th>\n",
       "      <th>q010</th>\n",
       "      <th>q015</th>\n",
       "      <th>q016</th>\n",
       "      <th>q022</th>\n",
       "      <th>q023</th>\n",
       "      <th>q024</th>\n",
       "      <th>q025</th>\n",
       "      <th>...</th>\n",
       "      <th>u024</th>\n",
       "      <th>u025</th>\n",
       "      <th>u026</th>\n",
       "      <th>u027</th>\n",
       "      <th>u028</th>\n",
       "      <th>u029</th>\n",
       "      <th>u030</th>\n",
       "      <th>u031</th>\n",
       "      <th>u032</th>\n",
       "      <th>u033</th>\n",
       "    </tr>\n",
       "  </thead>\n",
       "  <tbody>\n",
       "    <tr>\n",
       "      <th>0</th>\n",
       "      <td>AA</td>\n",
       "      <td>F</td>\n",
       "      <td>1</td>\n",
       "      <td>NaN</td>\n",
       "      <td>NaN</td>\n",
       "      <td>NaN</td>\n",
       "      <td>0.0</td>\n",
       "      <td>NaN</td>\n",
       "      <td>NaN</td>\n",
       "      <td>NaN</td>\n",
       "      <td>...</td>\n",
       "      <td>NaN</td>\n",
       "      <td>NaN</td>\n",
       "      <td>NaN</td>\n",
       "      <td>NaN</td>\n",
       "      <td>NaN</td>\n",
       "      <td>NaN</td>\n",
       "      <td>NaN</td>\n",
       "      <td>NaN</td>\n",
       "      <td>NaN</td>\n",
       "      <td>NaN</td>\n",
       "    </tr>\n",
       "    <tr>\n",
       "      <th>1</th>\n",
       "      <td>AA</td>\n",
       "      <td>F</td>\n",
       "      <td>2</td>\n",
       "      <td>NaN</td>\n",
       "      <td>NaN</td>\n",
       "      <td>NaN</td>\n",
       "      <td>0.0</td>\n",
       "      <td>NaN</td>\n",
       "      <td>NaN</td>\n",
       "      <td>NaN</td>\n",
       "      <td>...</td>\n",
       "      <td>NaN</td>\n",
       "      <td>NaN</td>\n",
       "      <td>NaN</td>\n",
       "      <td>NaN</td>\n",
       "      <td>NaN</td>\n",
       "      <td>NaN</td>\n",
       "      <td>NaN</td>\n",
       "      <td>NaN</td>\n",
       "      <td>NaN</td>\n",
       "      <td>NaN</td>\n",
       "    </tr>\n",
       "    <tr>\n",
       "      <th>2</th>\n",
       "      <td>AA</td>\n",
       "      <td>F</td>\n",
       "      <td>3</td>\n",
       "      <td>NaN</td>\n",
       "      <td>NaN</td>\n",
       "      <td>NaN</td>\n",
       "      <td>0.0</td>\n",
       "      <td>NaN</td>\n",
       "      <td>NaN</td>\n",
       "      <td>NaN</td>\n",
       "      <td>...</td>\n",
       "      <td>NaN</td>\n",
       "      <td>NaN</td>\n",
       "      <td>NaN</td>\n",
       "      <td>NaN</td>\n",
       "      <td>NaN</td>\n",
       "      <td>NaN</td>\n",
       "      <td>NaN</td>\n",
       "      <td>NaN</td>\n",
       "      <td>NaN</td>\n",
       "      <td>NaN</td>\n",
       "    </tr>\n",
       "    <tr>\n",
       "      <th>3</th>\n",
       "      <td>AA</td>\n",
       "      <td>T</td>\n",
       "      <td>3</td>\n",
       "      <td>40.2</td>\n",
       "      <td>60.0</td>\n",
       "      <td>70.0</td>\n",
       "      <td>3.3</td>\n",
       "      <td>22.4</td>\n",
       "      <td>41.9</td>\n",
       "      <td>35.7</td>\n",
       "      <td>...</td>\n",
       "      <td>NaN</td>\n",
       "      <td>NaN</td>\n",
       "      <td>NaN</td>\n",
       "      <td>NaN</td>\n",
       "      <td>NaN</td>\n",
       "      <td>NaN</td>\n",
       "      <td>NaN</td>\n",
       "      <td>NaN</td>\n",
       "      <td>NaN</td>\n",
       "      <td>NaN</td>\n",
       "    </tr>\n",
       "    <tr>\n",
       "      <th>4</th>\n",
       "      <td>AB</td>\n",
       "      <td>F</td>\n",
       "      <td>1</td>\n",
       "      <td>NaN</td>\n",
       "      <td>NaN</td>\n",
       "      <td>NaN</td>\n",
       "      <td>0.0</td>\n",
       "      <td>NaN</td>\n",
       "      <td>NaN</td>\n",
       "      <td>NaN</td>\n",
       "      <td>...</td>\n",
       "      <td>NaN</td>\n",
       "      <td>NaN</td>\n",
       "      <td>NaN</td>\n",
       "      <td>NaN</td>\n",
       "      <td>NaN</td>\n",
       "      <td>NaN</td>\n",
       "      <td>NaN</td>\n",
       "      <td>NaN</td>\n",
       "      <td>NaN</td>\n",
       "      <td>NaN</td>\n",
       "    </tr>\n",
       "  </tbody>\n",
       "</table>\n",
       "<p>5 rows × 296 columns</p>\n",
       "</div>"
      ],
      "text/plain": [
       "  county sex  xiang  q010  q015  q016  q022  q023  q024  q025  ...  u024  \\\n",
       "0     AA   F      1   NaN   NaN   NaN   0.0   NaN   NaN   NaN  ...   NaN   \n",
       "1     AA   F      2   NaN   NaN   NaN   0.0   NaN   NaN   NaN  ...   NaN   \n",
       "2     AA   F      3   NaN   NaN   NaN   0.0   NaN   NaN   NaN  ...   NaN   \n",
       "3     AA   T      3  40.2  60.0  70.0   3.3  22.4  41.9  35.7  ...   NaN   \n",
       "4     AB   F      1   NaN   NaN   NaN   0.0   NaN   NaN   NaN  ...   NaN   \n",
       "\n",
       "   u025  u026  u027  u028  u029  u030  u031  u032  u033  \n",
       "0   NaN   NaN   NaN   NaN   NaN   NaN   NaN   NaN   NaN  \n",
       "1   NaN   NaN   NaN   NaN   NaN   NaN   NaN   NaN   NaN  \n",
       "2   NaN   NaN   NaN   NaN   NaN   NaN   NaN   NaN   NaN  \n",
       "3   NaN   NaN   NaN   NaN   NaN   NaN   NaN   NaN   NaN  \n",
       "4   NaN   NaN   NaN   NaN   NaN   NaN   NaN   NaN   NaN  \n",
       "\n",
       "[5 rows x 296 columns]"
      ]
     },
     "execution_count": 9,
     "metadata": {},
     "output_type": "execute_result"
    }
   ],
   "source": [
    "df.head()"
   ]
  },
  {
   "cell_type": "code",
   "execution_count": 10,
   "id": "65da9bf1-daf3-4473-a836-8724c2c85d73",
   "metadata": {
    "execution": {
     "iopub.execute_input": "2023-01-20T01:01:13.195542Z",
     "iopub.status.busy": "2023-01-20T01:01:13.195426Z",
     "iopub.status.idle": "2023-01-20T01:01:13.198102Z",
     "shell.execute_reply": "2023-01-20T01:01:13.197771Z",
     "shell.execute_reply.started": "2023-01-20T01:01:13.195529Z"
    },
    "tags": []
   },
   "outputs": [
    {
     "data": {
      "text/plain": [
       "(275, 296)"
      ]
     },
     "execution_count": 10,
     "metadata": {},
     "output_type": "execute_result"
    }
   ],
   "source": [
    "df.shape"
   ]
  },
  {
   "cell_type": "code",
   "execution_count": 11,
   "id": "652ceaf4-0ca1-40e7-809d-4af211463245",
   "metadata": {
    "execution": {
     "iopub.execute_input": "2023-01-20T01:01:13.198862Z",
     "iopub.status.busy": "2023-01-20T01:01:13.198736Z",
     "iopub.status.idle": "2023-01-20T01:01:13.202024Z",
     "shell.execute_reply": "2023-01-20T01:01:13.201708Z",
     "shell.execute_reply.started": "2023-01-20T01:01:13.198849Z"
    },
    "tags": []
   },
   "outputs": [
    {
     "data": {
      "text/plain": [
       "(69, 296)"
      ]
     },
     "execution_count": 11,
     "metadata": {},
     "output_type": "execute_result"
    }
   ],
   "source": [
    "df[df['sex'] == 'T'].shape"
   ]
  },
  {
   "cell_type": "code",
   "execution_count": 12,
   "id": "8ca9665d-8ec7-45ce-96c5-fefd4aaf1a35",
   "metadata": {
    "execution": {
     "iopub.execute_input": "2023-01-20T01:01:13.202737Z",
     "iopub.status.busy": "2023-01-20T01:01:13.202596Z",
     "iopub.status.idle": "2023-01-20T01:01:13.204754Z",
     "shell.execute_reply": "2023-01-20T01:01:13.204466Z",
     "shell.execute_reply.started": "2023-01-20T01:01:13.202725Z"
    },
    "tags": []
   },
   "outputs": [],
   "source": [
    "ss = StandardScaler()"
   ]
  },
  {
   "cell_type": "code",
   "execution_count": 13,
   "id": "313a23a9-2096-41e8-bcf1-792c6b21e369",
   "metadata": {
    "execution": {
     "iopub.execute_input": "2023-01-20T01:01:13.205414Z",
     "iopub.status.busy": "2023-01-20T01:01:13.205303Z",
     "iopub.status.idle": "2023-01-20T01:01:13.207169Z",
     "shell.execute_reply": "2023-01-20T01:01:13.206828Z",
     "shell.execute_reply.started": "2023-01-20T01:01:13.205403Z"
    },
    "tags": []
   },
   "outputs": [],
   "source": [
    "# df.columns.to_list() # sanity check"
   ]
  },
  {
   "cell_type": "markdown",
   "id": "0b931cce-2417-49ab-8129-cc1ec1533294",
   "metadata": {},
   "source": [
    "The data is separated by county -> sex -> xiang (village or small community)\n",
    "\n",
    "Since a great majority of the data is missing M and F specific values, we can only rely on sex = 'T' which is an average of male and female according to the documents. 'xiang' is also split into 1, 2, and 3 where 3 is the average of 1 and 2. Like the 'sex' column we also do not have the more granular breakdowns for xiang 1 and 2. Thus we must rely on 'sex' = 'T' and 'xiang' == 3 for our dataset. "
   ]
  },
  {
   "cell_type": "code",
   "execution_count": 14,
   "id": "66346def-6928-460e-bd86-5bcef9de8fad",
   "metadata": {
    "execution": {
     "iopub.execute_input": "2023-01-20T01:01:13.207936Z",
     "iopub.status.busy": "2023-01-20T01:01:13.207775Z",
     "iopub.status.idle": "2023-01-20T01:01:13.212366Z",
     "shell.execute_reply": "2023-01-20T01:01:13.212017Z",
     "shell.execute_reply.started": "2023-01-20T01:01:13.207924Z"
    },
    "tags": []
   },
   "outputs": [],
   "source": [
    "clean_df = df[(df['sex'] == 'T') & (df['xiang'] == 3)]\\\n",
    ".dropna(subset='m005_ALL35_69').dropna(axis = 'columns')"
   ]
  },
  {
   "cell_type": "code",
   "execution_count": 15,
   "id": "826be448-e763-41c9-a761-6bbd7fed9cee",
   "metadata": {
    "execution": {
     "iopub.execute_input": "2023-01-20T01:01:13.212998Z",
     "iopub.status.busy": "2023-01-20T01:01:13.212886Z",
     "iopub.status.idle": "2023-01-20T01:01:13.216316Z",
     "shell.execute_reply": "2023-01-20T01:01:13.215996Z",
     "shell.execute_reply.started": "2023-01-20T01:01:13.212987Z"
    },
    "tags": []
   },
   "outputs": [
    {
     "data": {
      "text/plain": [
       "3      11.29\n",
       "7      11.82\n",
       "11     10.55\n",
       "15     16.19\n",
       "19     13.59\n",
       "       ...  \n",
       "259    17.05\n",
       "263    13.29\n",
       "266    15.63\n",
       "270    18.88\n",
       "274    17.95\n",
       "Name: m005_ALL35_69, Length: 66, dtype: float64"
      ]
     },
     "execution_count": 15,
     "metadata": {},
     "output_type": "execute_result"
    }
   ],
   "source": [
    "clean_df['m005_ALL35_69']"
   ]
  },
  {
   "cell_type": "code",
   "execution_count": 16,
   "id": "6cdde86d-c049-4acc-a64a-f38c132f340e",
   "metadata": {
    "execution": {
     "iopub.execute_input": "2023-01-20T01:01:13.216894Z",
     "iopub.status.busy": "2023-01-20T01:01:13.216775Z",
     "iopub.status.idle": "2023-01-20T01:01:13.219529Z",
     "shell.execute_reply": "2023-01-20T01:01:13.219234Z",
     "shell.execute_reply.started": "2023-01-20T01:01:13.216883Z"
    },
    "tags": []
   },
   "outputs": [
    {
     "data": {
      "text/plain": [
       "(66, 201)"
      ]
     },
     "execution_count": 16,
     "metadata": {},
     "output_type": "execute_result"
    }
   ],
   "source": [
    "clean_df.shape"
   ]
  },
  {
   "cell_type": "markdown",
   "id": "f8483677-fda8-48aa-872a-569d34474ede",
   "metadata": {},
   "source": [
    "### Linear Regression\n",
    "\n",
    "Linear Regression makes the most sense. All of our data is continous and numeric albeit some on different numeric scales. We can use standard scaler and go from there."
   ]
  },
  {
   "cell_type": "code",
   "execution_count": 17,
   "id": "52eed53e-6216-4f95-b536-efcd48d84028",
   "metadata": {
    "execution": {
     "iopub.execute_input": "2023-01-20T01:01:13.220086Z",
     "iopub.status.busy": "2023-01-20T01:01:13.219973Z",
     "iopub.status.idle": "2023-01-20T01:01:13.223476Z",
     "shell.execute_reply": "2023-01-20T01:01:13.223183Z",
     "shell.execute_reply.started": "2023-01-20T01:01:13.220075Z"
    },
    "tags": []
   },
   "outputs": [],
   "source": [
    "X = clean_df.drop(columns = ['county', 'sex', 'xiang','m005_ALL35_69'])\n",
    "y = clean_df['m005_ALL35_69']\n",
    "\n",
    "X_train, X_test, y_train, y_test = train_test_split(X, y, random_state=33)"
   ]
  },
  {
   "cell_type": "markdown",
   "id": "5b37aa63-fdbc-49f2-b4a0-d32d99874089",
   "metadata": {},
   "source": [
    "We're suffering from dimensionality here; we have too many features. We need to figure out which ones to focus on; trying to limit to 10 features for our 69 or so rows. Lasso and/or Ridge could help us out here."
   ]
  },
  {
   "cell_type": "code",
   "execution_count": 18,
   "id": "fb1a77f0-3ea2-46ee-9bd0-64a5b0f78e50",
   "metadata": {
    "execution": {
     "iopub.execute_input": "2023-01-20T01:01:13.224111Z",
     "iopub.status.busy": "2023-01-20T01:01:13.224003Z",
     "iopub.status.idle": "2023-01-20T01:01:13.226792Z",
     "shell.execute_reply": "2023-01-20T01:01:13.226508Z",
     "shell.execute_reply.started": "2023-01-20T01:01:13.224101Z"
    },
    "tags": []
   },
   "outputs": [
    {
     "data": {
      "text/plain": [
       "((49, 197), (17, 197), (49,), (17,))"
      ]
     },
     "execution_count": 18,
     "metadata": {},
     "output_type": "execute_result"
    }
   ],
   "source": [
    "X_train.shape, X_test.shape, y_train.shape, y_test.shape"
   ]
  },
  {
   "cell_type": "markdown",
   "id": "2437cc61-aaec-4de8-8461-a4f05328c5df",
   "metadata": {},
   "source": [
    "Standard scaler to get everything on a comparable scale."
   ]
  },
  {
   "cell_type": "code",
   "execution_count": 19,
   "id": "d38f35c1-d62f-439b-be79-699a53811cc0",
   "metadata": {
    "execution": {
     "iopub.execute_input": "2023-01-20T01:01:13.227411Z",
     "iopub.status.busy": "2023-01-20T01:01:13.227303Z",
     "iopub.status.idle": "2023-01-20T01:01:13.234135Z",
     "shell.execute_reply": "2023-01-20T01:01:13.233791Z",
     "shell.execute_reply.started": "2023-01-20T01:01:13.227400Z"
    },
    "tags": []
   },
   "outputs": [],
   "source": [
    "Xs_train = ss.fit_transform(X_train)\n",
    "Xs_test = ss.transform(X_test)"
   ]
  },
  {
   "cell_type": "code",
   "execution_count": 20,
   "id": "94edd8b9-0c2e-4180-b200-4632e4085cf2",
   "metadata": {
    "execution": {
     "iopub.execute_input": "2023-01-20T01:01:13.234775Z",
     "iopub.status.busy": "2023-01-20T01:01:13.234655Z",
     "iopub.status.idle": "2023-01-20T01:01:13.236633Z",
     "shell.execute_reply": "2023-01-20T01:01:13.236315Z",
     "shell.execute_reply.started": "2023-01-20T01:01:13.234764Z"
    },
    "tags": []
   },
   "outputs": [],
   "source": [
    "lr = LinearRegression()"
   ]
  },
  {
   "cell_type": "code",
   "execution_count": 21,
   "id": "65cad832-483b-4ce8-9a92-a1c736f89508",
   "metadata": {
    "execution": {
     "iopub.execute_input": "2023-01-20T01:01:13.237144Z",
     "iopub.status.busy": "2023-01-20T01:01:13.237041Z",
     "iopub.status.idle": "2023-01-20T01:01:13.245047Z",
     "shell.execute_reply": "2023-01-20T01:01:13.244558Z",
     "shell.execute_reply.started": "2023-01-20T01:01:13.237134Z"
    },
    "tags": []
   },
   "outputs": [
    {
     "data": {
      "text/html": [
       "<style>#sk-container-id-1 {color: black;background-color: white;}#sk-container-id-1 pre{padding: 0;}#sk-container-id-1 div.sk-toggleable {background-color: white;}#sk-container-id-1 label.sk-toggleable__label {cursor: pointer;display: block;width: 100%;margin-bottom: 0;padding: 0.3em;box-sizing: border-box;text-align: center;}#sk-container-id-1 label.sk-toggleable__label-arrow:before {content: \"▸\";float: left;margin-right: 0.25em;color: #696969;}#sk-container-id-1 label.sk-toggleable__label-arrow:hover:before {color: black;}#sk-container-id-1 div.sk-estimator:hover label.sk-toggleable__label-arrow:before {color: black;}#sk-container-id-1 div.sk-toggleable__content {max-height: 0;max-width: 0;overflow: hidden;text-align: left;background-color: #f0f8ff;}#sk-container-id-1 div.sk-toggleable__content pre {margin: 0.2em;color: black;border-radius: 0.25em;background-color: #f0f8ff;}#sk-container-id-1 input.sk-toggleable__control:checked~div.sk-toggleable__content {max-height: 200px;max-width: 100%;overflow: auto;}#sk-container-id-1 input.sk-toggleable__control:checked~label.sk-toggleable__label-arrow:before {content: \"▾\";}#sk-container-id-1 div.sk-estimator input.sk-toggleable__control:checked~label.sk-toggleable__label {background-color: #d4ebff;}#sk-container-id-1 div.sk-label input.sk-toggleable__control:checked~label.sk-toggleable__label {background-color: #d4ebff;}#sk-container-id-1 input.sk-hidden--visually {border: 0;clip: rect(1px 1px 1px 1px);clip: rect(1px, 1px, 1px, 1px);height: 1px;margin: -1px;overflow: hidden;padding: 0;position: absolute;width: 1px;}#sk-container-id-1 div.sk-estimator {font-family: monospace;background-color: #f0f8ff;border: 1px dotted black;border-radius: 0.25em;box-sizing: border-box;margin-bottom: 0.5em;}#sk-container-id-1 div.sk-estimator:hover {background-color: #d4ebff;}#sk-container-id-1 div.sk-parallel-item::after {content: \"\";width: 100%;border-bottom: 1px solid gray;flex-grow: 1;}#sk-container-id-1 div.sk-label:hover label.sk-toggleable__label {background-color: #d4ebff;}#sk-container-id-1 div.sk-serial::before {content: \"\";position: absolute;border-left: 1px solid gray;box-sizing: border-box;top: 0;bottom: 0;left: 50%;z-index: 0;}#sk-container-id-1 div.sk-serial {display: flex;flex-direction: column;align-items: center;background-color: white;padding-right: 0.2em;padding-left: 0.2em;position: relative;}#sk-container-id-1 div.sk-item {position: relative;z-index: 1;}#sk-container-id-1 div.sk-parallel {display: flex;align-items: stretch;justify-content: center;background-color: white;position: relative;}#sk-container-id-1 div.sk-item::before, #sk-container-id-1 div.sk-parallel-item::before {content: \"\";position: absolute;border-left: 1px solid gray;box-sizing: border-box;top: 0;bottom: 0;left: 50%;z-index: -1;}#sk-container-id-1 div.sk-parallel-item {display: flex;flex-direction: column;z-index: 1;position: relative;background-color: white;}#sk-container-id-1 div.sk-parallel-item:first-child::after {align-self: flex-end;width: 50%;}#sk-container-id-1 div.sk-parallel-item:last-child::after {align-self: flex-start;width: 50%;}#sk-container-id-1 div.sk-parallel-item:only-child::after {width: 0;}#sk-container-id-1 div.sk-dashed-wrapped {border: 1px dashed gray;margin: 0 0.4em 0.5em 0.4em;box-sizing: border-box;padding-bottom: 0.4em;background-color: white;}#sk-container-id-1 div.sk-label label {font-family: monospace;font-weight: bold;display: inline-block;line-height: 1.2em;}#sk-container-id-1 div.sk-label-container {text-align: center;}#sk-container-id-1 div.sk-container {/* jupyter's `normalize.less` sets `[hidden] { display: none; }` but bootstrap.min.css set `[hidden] { display: none !important; }` so we also need the `!important` here to be able to override the default hidden behavior on the sphinx rendered scikit-learn.org. See: https://github.com/scikit-learn/scikit-learn/issues/21755 */display: inline-block !important;position: relative;}#sk-container-id-1 div.sk-text-repr-fallback {display: none;}</style><div id=\"sk-container-id-1\" class=\"sk-top-container\"><div class=\"sk-text-repr-fallback\"><pre>LinearRegression()</pre><b>In a Jupyter environment, please rerun this cell to show the HTML representation or trust the notebook. <br />On GitHub, the HTML representation is unable to render, please try loading this page with nbviewer.org.</b></div><div class=\"sk-container\" hidden><div class=\"sk-item\"><div class=\"sk-estimator sk-toggleable\"><input class=\"sk-toggleable__control sk-hidden--visually\" id=\"sk-estimator-id-1\" type=\"checkbox\" checked><label for=\"sk-estimator-id-1\" class=\"sk-toggleable__label sk-toggleable__label-arrow\">LinearRegression</label><div class=\"sk-toggleable__content\"><pre>LinearRegression()</pre></div></div></div></div></div>"
      ],
      "text/plain": [
       "LinearRegression()"
      ]
     },
     "execution_count": 21,
     "metadata": {},
     "output_type": "execute_result"
    }
   ],
   "source": [
    "lr.fit(Xs_train, y_train)"
   ]
  },
  {
   "cell_type": "code",
   "execution_count": 22,
   "id": "020a8e63-56e2-474f-8d49-425d5fe59fe0",
   "metadata": {
    "execution": {
     "iopub.execute_input": "2023-01-20T01:01:13.251048Z",
     "iopub.status.busy": "2023-01-20T01:01:13.250923Z",
     "iopub.status.idle": "2023-01-20T01:01:13.268096Z",
     "shell.execute_reply": "2023-01-20T01:01:13.267717Z",
     "shell.execute_reply.started": "2023-01-20T01:01:13.251037Z"
    }
   },
   "outputs": [
    {
     "data": {
      "text/html": [
       "<div>\n",
       "<style scoped>\n",
       "    .dataframe tbody tr th:only-of-type {\n",
       "        vertical-align: middle;\n",
       "    }\n",
       "\n",
       "    .dataframe tbody tr th {\n",
       "        vertical-align: top;\n",
       "    }\n",
       "\n",
       "    .dataframe thead th {\n",
       "        text-align: right;\n",
       "    }\n",
       "</style>\n",
       "<table border=\"1\" class=\"dataframe\">\n",
       "  <thead>\n",
       "    <tr style=\"text-align: right;\">\n",
       "      <th></th>\n",
       "      <th>Model</th>\n",
       "      <th>Train Score</th>\n",
       "      <th>Val Score</th>\n",
       "      <th>X Val Score</th>\n",
       "      <th>RMSE Train</th>\n",
       "      <th>RMSE Val</th>\n",
       "    </tr>\n",
       "  </thead>\n",
       "  <tbody>\n",
       "    <tr>\n",
       "      <th>0</th>\n",
       "      <td>m005_ALL_35-69.LinReg</td>\n",
       "      <td>1.0</td>\n",
       "      <td>0.88294</td>\n",
       "      <td>0.616316</td>\n",
       "      <td>8.404957e-15</td>\n",
       "      <td>1.206978</td>\n",
       "    </tr>\n",
       "  </tbody>\n",
       "</table>\n",
       "</div>"
      ],
      "text/plain": [
       "                   Model  Train Score  Val Score  X Val Score    RMSE Train  \\\n",
       "0  m005_ALL_35-69.LinReg          1.0    0.88294     0.616316  8.404957e-15   \n",
       "\n",
       "   RMSE Val  \n",
       "0  1.206978  "
      ]
     },
     "execution_count": 22,
     "metadata": {},
     "output_type": "execute_result"
    }
   ],
   "source": [
    "update_df(lr, 'm005_ALL_35-69.LinReg')"
   ]
  },
  {
   "cell_type": "markdown",
   "id": "55cec1bc-1384-4576-8ada-63ea1593c55b",
   "metadata": {
    "execution": {
     "iopub.execute_input": "2023-01-19T03:41:41.788861Z",
     "iopub.status.busy": "2023-01-19T03:41:41.788118Z",
     "iopub.status.idle": "2023-01-19T03:41:41.802559Z",
     "shell.execute_reply": "2023-01-19T03:41:41.801147Z",
     "shell.execute_reply.started": "2023-01-19T03:41:41.788815Z"
    }
   },
   "source": [
    "Basic regression model is overfit. Diving into Ridge and Lasso to see if we can address it. We suspect there may be data leakage between the mortality columns."
   ]
  },
  {
   "cell_type": "code",
   "execution_count": 23,
   "id": "b9b05d45-d227-45da-a109-8d622feb3ed6",
   "metadata": {
    "execution": {
     "iopub.execute_input": "2023-01-20T01:01:13.269111Z",
     "iopub.status.busy": "2023-01-20T01:01:13.268902Z",
     "iopub.status.idle": "2023-01-20T01:01:13.271936Z",
     "shell.execute_reply": "2023-01-20T01:01:13.271532Z",
     "shell.execute_reply.started": "2023-01-20T01:01:13.269097Z"
    },
    "tags": []
   },
   "outputs": [],
   "source": [
    "ridge = RidgeCV(alphas = np.logspace(0,2,100)) # "
   ]
  },
  {
   "cell_type": "code",
   "execution_count": 24,
   "id": "bf7e8c70-5ab7-44ba-8bba-73ae4a8257a9",
   "metadata": {
    "execution": {
     "iopub.execute_input": "2023-01-20T01:01:13.272720Z",
     "iopub.status.busy": "2023-01-20T01:01:13.272596Z",
     "iopub.status.idle": "2023-01-20T01:01:13.275240Z",
     "shell.execute_reply": "2023-01-20T01:01:13.274888Z",
     "shell.execute_reply.started": "2023-01-20T01:01:13.272707Z"
    }
   },
   "outputs": [],
   "source": [
    "lasso = LassoCV(alphas = np.arange(0.001, 10, 1))"
   ]
  },
  {
   "cell_type": "code",
   "execution_count": 25,
   "id": "ebaaad19-e003-47d0-9c1f-c829f47fca10",
   "metadata": {
    "execution": {
     "iopub.execute_input": "2023-01-20T01:01:13.276086Z",
     "iopub.status.busy": "2023-01-20T01:01:13.275972Z",
     "iopub.status.idle": "2023-01-20T01:01:13.291965Z",
     "shell.execute_reply": "2023-01-20T01:01:13.291516Z",
     "shell.execute_reply.started": "2023-01-20T01:01:13.276075Z"
    }
   },
   "outputs": [
    {
     "data": {
      "text/html": [
       "<style>#sk-container-id-2 {color: black;background-color: white;}#sk-container-id-2 pre{padding: 0;}#sk-container-id-2 div.sk-toggleable {background-color: white;}#sk-container-id-2 label.sk-toggleable__label {cursor: pointer;display: block;width: 100%;margin-bottom: 0;padding: 0.3em;box-sizing: border-box;text-align: center;}#sk-container-id-2 label.sk-toggleable__label-arrow:before {content: \"▸\";float: left;margin-right: 0.25em;color: #696969;}#sk-container-id-2 label.sk-toggleable__label-arrow:hover:before {color: black;}#sk-container-id-2 div.sk-estimator:hover label.sk-toggleable__label-arrow:before {color: black;}#sk-container-id-2 div.sk-toggleable__content {max-height: 0;max-width: 0;overflow: hidden;text-align: left;background-color: #f0f8ff;}#sk-container-id-2 div.sk-toggleable__content pre {margin: 0.2em;color: black;border-radius: 0.25em;background-color: #f0f8ff;}#sk-container-id-2 input.sk-toggleable__control:checked~div.sk-toggleable__content {max-height: 200px;max-width: 100%;overflow: auto;}#sk-container-id-2 input.sk-toggleable__control:checked~label.sk-toggleable__label-arrow:before {content: \"▾\";}#sk-container-id-2 div.sk-estimator input.sk-toggleable__control:checked~label.sk-toggleable__label {background-color: #d4ebff;}#sk-container-id-2 div.sk-label input.sk-toggleable__control:checked~label.sk-toggleable__label {background-color: #d4ebff;}#sk-container-id-2 input.sk-hidden--visually {border: 0;clip: rect(1px 1px 1px 1px);clip: rect(1px, 1px, 1px, 1px);height: 1px;margin: -1px;overflow: hidden;padding: 0;position: absolute;width: 1px;}#sk-container-id-2 div.sk-estimator {font-family: monospace;background-color: #f0f8ff;border: 1px dotted black;border-radius: 0.25em;box-sizing: border-box;margin-bottom: 0.5em;}#sk-container-id-2 div.sk-estimator:hover {background-color: #d4ebff;}#sk-container-id-2 div.sk-parallel-item::after {content: \"\";width: 100%;border-bottom: 1px solid gray;flex-grow: 1;}#sk-container-id-2 div.sk-label:hover label.sk-toggleable__label {background-color: #d4ebff;}#sk-container-id-2 div.sk-serial::before {content: \"\";position: absolute;border-left: 1px solid gray;box-sizing: border-box;top: 0;bottom: 0;left: 50%;z-index: 0;}#sk-container-id-2 div.sk-serial {display: flex;flex-direction: column;align-items: center;background-color: white;padding-right: 0.2em;padding-left: 0.2em;position: relative;}#sk-container-id-2 div.sk-item {position: relative;z-index: 1;}#sk-container-id-2 div.sk-parallel {display: flex;align-items: stretch;justify-content: center;background-color: white;position: relative;}#sk-container-id-2 div.sk-item::before, #sk-container-id-2 div.sk-parallel-item::before {content: \"\";position: absolute;border-left: 1px solid gray;box-sizing: border-box;top: 0;bottom: 0;left: 50%;z-index: -1;}#sk-container-id-2 div.sk-parallel-item {display: flex;flex-direction: column;z-index: 1;position: relative;background-color: white;}#sk-container-id-2 div.sk-parallel-item:first-child::after {align-self: flex-end;width: 50%;}#sk-container-id-2 div.sk-parallel-item:last-child::after {align-self: flex-start;width: 50%;}#sk-container-id-2 div.sk-parallel-item:only-child::after {width: 0;}#sk-container-id-2 div.sk-dashed-wrapped {border: 1px dashed gray;margin: 0 0.4em 0.5em 0.4em;box-sizing: border-box;padding-bottom: 0.4em;background-color: white;}#sk-container-id-2 div.sk-label label {font-family: monospace;font-weight: bold;display: inline-block;line-height: 1.2em;}#sk-container-id-2 div.sk-label-container {text-align: center;}#sk-container-id-2 div.sk-container {/* jupyter's `normalize.less` sets `[hidden] { display: none; }` but bootstrap.min.css set `[hidden] { display: none !important; }` so we also need the `!important` here to be able to override the default hidden behavior on the sphinx rendered scikit-learn.org. See: https://github.com/scikit-learn/scikit-learn/issues/21755 */display: inline-block !important;position: relative;}#sk-container-id-2 div.sk-text-repr-fallback {display: none;}</style><div id=\"sk-container-id-2\" class=\"sk-top-container\"><div class=\"sk-text-repr-fallback\"><pre>RidgeCV(alphas=array([  1.        ,   1.04761575,   1.09749877,   1.149757  ,\n",
       "         1.20450354,   1.26185688,   1.32194115,   1.38488637,\n",
       "         1.45082878,   1.51991108,   1.59228279,   1.66810054,\n",
       "         1.7475284 ,   1.83073828,   1.91791026,   2.009233  ,\n",
       "         2.10490414,   2.20513074,   2.3101297 ,   2.42012826,\n",
       "         2.53536449,   2.65608778,   2.7825594 ,   2.91505306,\n",
       "         3.05385551,   3.19926714,   3.35160265,   3.51119173,\n",
       "         3.67837977,   3.85352859,   4.03701726,   4....\n",
       "        23.64489413,  24.77076356,  25.95024211,  27.18588243,\n",
       "        28.48035868,  29.8364724 ,  31.2571585 ,  32.74549163,\n",
       "        34.30469286,  35.93813664,  37.64935807,  39.44206059,\n",
       "        41.320124  ,  43.28761281,  45.34878508,  47.50810162,\n",
       "        49.77023564,  52.14008288,  54.62277218,  57.22367659,\n",
       "        59.94842503,  62.80291442,  65.79332247,  68.92612104,\n",
       "        72.20809018,  75.64633276,  79.24828984,  83.02175681,\n",
       "        86.97490026,  91.11627561,  95.45484567, 100.        ]))</pre><b>In a Jupyter environment, please rerun this cell to show the HTML representation or trust the notebook. <br />On GitHub, the HTML representation is unable to render, please try loading this page with nbviewer.org.</b></div><div class=\"sk-container\" hidden><div class=\"sk-item\"><div class=\"sk-estimator sk-toggleable\"><input class=\"sk-toggleable__control sk-hidden--visually\" id=\"sk-estimator-id-2\" type=\"checkbox\" checked><label for=\"sk-estimator-id-2\" class=\"sk-toggleable__label sk-toggleable__label-arrow\">RidgeCV</label><div class=\"sk-toggleable__content\"><pre>RidgeCV(alphas=array([  1.        ,   1.04761575,   1.09749877,   1.149757  ,\n",
       "         1.20450354,   1.26185688,   1.32194115,   1.38488637,\n",
       "         1.45082878,   1.51991108,   1.59228279,   1.66810054,\n",
       "         1.7475284 ,   1.83073828,   1.91791026,   2.009233  ,\n",
       "         2.10490414,   2.20513074,   2.3101297 ,   2.42012826,\n",
       "         2.53536449,   2.65608778,   2.7825594 ,   2.91505306,\n",
       "         3.05385551,   3.19926714,   3.35160265,   3.51119173,\n",
       "         3.67837977,   3.85352859,   4.03701726,   4....\n",
       "        23.64489413,  24.77076356,  25.95024211,  27.18588243,\n",
       "        28.48035868,  29.8364724 ,  31.2571585 ,  32.74549163,\n",
       "        34.30469286,  35.93813664,  37.64935807,  39.44206059,\n",
       "        41.320124  ,  43.28761281,  45.34878508,  47.50810162,\n",
       "        49.77023564,  52.14008288,  54.62277218,  57.22367659,\n",
       "        59.94842503,  62.80291442,  65.79332247,  68.92612104,\n",
       "        72.20809018,  75.64633276,  79.24828984,  83.02175681,\n",
       "        86.97490026,  91.11627561,  95.45484567, 100.        ]))</pre></div></div></div></div></div>"
      ],
      "text/plain": [
       "RidgeCV(alphas=array([  1.        ,   1.04761575,   1.09749877,   1.149757  ,\n",
       "         1.20450354,   1.26185688,   1.32194115,   1.38488637,\n",
       "         1.45082878,   1.51991108,   1.59228279,   1.66810054,\n",
       "         1.7475284 ,   1.83073828,   1.91791026,   2.009233  ,\n",
       "         2.10490414,   2.20513074,   2.3101297 ,   2.42012826,\n",
       "         2.53536449,   2.65608778,   2.7825594 ,   2.91505306,\n",
       "         3.05385551,   3.19926714,   3.35160265,   3.51119173,\n",
       "         3.67837977,   3.85352859,   4.03701726,   4....\n",
       "        23.64489413,  24.77076356,  25.95024211,  27.18588243,\n",
       "        28.48035868,  29.8364724 ,  31.2571585 ,  32.74549163,\n",
       "        34.30469286,  35.93813664,  37.64935807,  39.44206059,\n",
       "        41.320124  ,  43.28761281,  45.34878508,  47.50810162,\n",
       "        49.77023564,  52.14008288,  54.62277218,  57.22367659,\n",
       "        59.94842503,  62.80291442,  65.79332247,  68.92612104,\n",
       "        72.20809018,  75.64633276,  79.24828984,  83.02175681,\n",
       "        86.97490026,  91.11627561,  95.45484567, 100.        ]))"
      ]
     },
     "execution_count": 25,
     "metadata": {},
     "output_type": "execute_result"
    }
   ],
   "source": [
    "ridge.fit(Xs_train, y_train)"
   ]
  },
  {
   "cell_type": "code",
   "execution_count": 26,
   "id": "5d28e5c4-1304-4414-bcc3-7bf1f291cc83",
   "metadata": {
    "execution": {
     "iopub.execute_input": "2023-01-20T01:01:13.292797Z",
     "iopub.status.busy": "2023-01-20T01:01:13.292643Z",
     "iopub.status.idle": "2023-01-20T01:01:13.295800Z",
     "shell.execute_reply": "2023-01-20T01:01:13.295394Z",
     "shell.execute_reply.started": "2023-01-20T01:01:13.292782Z"
    }
   },
   "outputs": [
    {
     "data": {
      "text/plain": [
       "1.0"
      ]
     },
     "execution_count": 26,
     "metadata": {},
     "output_type": "execute_result"
    }
   ],
   "source": [
    "ridge.alpha_"
   ]
  },
  {
   "cell_type": "code",
   "execution_count": 27,
   "id": "57d9a9ed-068c-4009-a2c3-a482f118a69a",
   "metadata": {
    "execution": {
     "iopub.execute_input": "2023-01-20T01:01:13.296641Z",
     "iopub.status.busy": "2023-01-20T01:01:13.296518Z",
     "iopub.status.idle": "2023-01-20T01:01:13.325033Z",
     "shell.execute_reply": "2023-01-20T01:01:13.324354Z",
     "shell.execute_reply.started": "2023-01-20T01:01:13.296626Z"
    }
   },
   "outputs": [
    {
     "data": {
      "text/html": [
       "<div>\n",
       "<style scoped>\n",
       "    .dataframe tbody tr th:only-of-type {\n",
       "        vertical-align: middle;\n",
       "    }\n",
       "\n",
       "    .dataframe tbody tr th {\n",
       "        vertical-align: top;\n",
       "    }\n",
       "\n",
       "    .dataframe thead th {\n",
       "        text-align: right;\n",
       "    }\n",
       "</style>\n",
       "<table border=\"1\" class=\"dataframe\">\n",
       "  <thead>\n",
       "    <tr style=\"text-align: right;\">\n",
       "      <th></th>\n",
       "      <th>Model</th>\n",
       "      <th>Train Score</th>\n",
       "      <th>Val Score</th>\n",
       "      <th>X Val Score</th>\n",
       "      <th>RMSE Train</th>\n",
       "      <th>RMSE Val</th>\n",
       "    </tr>\n",
       "  </thead>\n",
       "  <tbody>\n",
       "    <tr>\n",
       "      <th>0</th>\n",
       "      <td>m005_ALL_35-69.LinReg</td>\n",
       "      <td>1.000000</td>\n",
       "      <td>0.882940</td>\n",
       "      <td>0.616316</td>\n",
       "      <td>8.404957e-15</td>\n",
       "      <td>1.206978</td>\n",
       "    </tr>\n",
       "    <tr>\n",
       "      <th>1</th>\n",
       "      <td>m005_ALL_35-69.L2-1</td>\n",
       "      <td>0.999965</td>\n",
       "      <td>0.881611</td>\n",
       "      <td>0.614525</td>\n",
       "      <td>8.404957e-15</td>\n",
       "      <td>1.206978</td>\n",
       "    </tr>\n",
       "  </tbody>\n",
       "</table>\n",
       "</div>"
      ],
      "text/plain": [
       "                   Model  Train Score  Val Score  X Val Score    RMSE Train  \\\n",
       "0  m005_ALL_35-69.LinReg     1.000000   0.882940     0.616316  8.404957e-15   \n",
       "1    m005_ALL_35-69.L2-1     0.999965   0.881611     0.614525  8.404957e-15   \n",
       "\n",
       "   RMSE Val  \n",
       "0  1.206978  \n",
       "1  1.206978  "
      ]
     },
     "execution_count": 27,
     "metadata": {},
     "output_type": "execute_result"
    }
   ],
   "source": [
    "update_df(ridge, \"m005_ALL_35-69.L2-1\")"
   ]
  },
  {
   "cell_type": "code",
   "execution_count": 28,
   "id": "ea838d5d-de79-4499-8dbd-821a00d8a1be",
   "metadata": {
    "execution": {
     "iopub.execute_input": "2023-01-20T01:01:13.326147Z",
     "iopub.status.busy": "2023-01-20T01:01:13.325957Z",
     "iopub.status.idle": "2023-01-20T01:01:13.362104Z",
     "shell.execute_reply": "2023-01-20T01:01:13.361679Z",
     "shell.execute_reply.started": "2023-01-20T01:01:13.326129Z"
    },
    "tags": []
   },
   "outputs": [
    {
     "data": {
      "text/html": [
       "<style>#sk-container-id-3 {color: black;background-color: white;}#sk-container-id-3 pre{padding: 0;}#sk-container-id-3 div.sk-toggleable {background-color: white;}#sk-container-id-3 label.sk-toggleable__label {cursor: pointer;display: block;width: 100%;margin-bottom: 0;padding: 0.3em;box-sizing: border-box;text-align: center;}#sk-container-id-3 label.sk-toggleable__label-arrow:before {content: \"▸\";float: left;margin-right: 0.25em;color: #696969;}#sk-container-id-3 label.sk-toggleable__label-arrow:hover:before {color: black;}#sk-container-id-3 div.sk-estimator:hover label.sk-toggleable__label-arrow:before {color: black;}#sk-container-id-3 div.sk-toggleable__content {max-height: 0;max-width: 0;overflow: hidden;text-align: left;background-color: #f0f8ff;}#sk-container-id-3 div.sk-toggleable__content pre {margin: 0.2em;color: black;border-radius: 0.25em;background-color: #f0f8ff;}#sk-container-id-3 input.sk-toggleable__control:checked~div.sk-toggleable__content {max-height: 200px;max-width: 100%;overflow: auto;}#sk-container-id-3 input.sk-toggleable__control:checked~label.sk-toggleable__label-arrow:before {content: \"▾\";}#sk-container-id-3 div.sk-estimator input.sk-toggleable__control:checked~label.sk-toggleable__label {background-color: #d4ebff;}#sk-container-id-3 div.sk-label input.sk-toggleable__control:checked~label.sk-toggleable__label {background-color: #d4ebff;}#sk-container-id-3 input.sk-hidden--visually {border: 0;clip: rect(1px 1px 1px 1px);clip: rect(1px, 1px, 1px, 1px);height: 1px;margin: -1px;overflow: hidden;padding: 0;position: absolute;width: 1px;}#sk-container-id-3 div.sk-estimator {font-family: monospace;background-color: #f0f8ff;border: 1px dotted black;border-radius: 0.25em;box-sizing: border-box;margin-bottom: 0.5em;}#sk-container-id-3 div.sk-estimator:hover {background-color: #d4ebff;}#sk-container-id-3 div.sk-parallel-item::after {content: \"\";width: 100%;border-bottom: 1px solid gray;flex-grow: 1;}#sk-container-id-3 div.sk-label:hover label.sk-toggleable__label {background-color: #d4ebff;}#sk-container-id-3 div.sk-serial::before {content: \"\";position: absolute;border-left: 1px solid gray;box-sizing: border-box;top: 0;bottom: 0;left: 50%;z-index: 0;}#sk-container-id-3 div.sk-serial {display: flex;flex-direction: column;align-items: center;background-color: white;padding-right: 0.2em;padding-left: 0.2em;position: relative;}#sk-container-id-3 div.sk-item {position: relative;z-index: 1;}#sk-container-id-3 div.sk-parallel {display: flex;align-items: stretch;justify-content: center;background-color: white;position: relative;}#sk-container-id-3 div.sk-item::before, #sk-container-id-3 div.sk-parallel-item::before {content: \"\";position: absolute;border-left: 1px solid gray;box-sizing: border-box;top: 0;bottom: 0;left: 50%;z-index: -1;}#sk-container-id-3 div.sk-parallel-item {display: flex;flex-direction: column;z-index: 1;position: relative;background-color: white;}#sk-container-id-3 div.sk-parallel-item:first-child::after {align-self: flex-end;width: 50%;}#sk-container-id-3 div.sk-parallel-item:last-child::after {align-self: flex-start;width: 50%;}#sk-container-id-3 div.sk-parallel-item:only-child::after {width: 0;}#sk-container-id-3 div.sk-dashed-wrapped {border: 1px dashed gray;margin: 0 0.4em 0.5em 0.4em;box-sizing: border-box;padding-bottom: 0.4em;background-color: white;}#sk-container-id-3 div.sk-label label {font-family: monospace;font-weight: bold;display: inline-block;line-height: 1.2em;}#sk-container-id-3 div.sk-label-container {text-align: center;}#sk-container-id-3 div.sk-container {/* jupyter's `normalize.less` sets `[hidden] { display: none; }` but bootstrap.min.css set `[hidden] { display: none !important; }` so we also need the `!important` here to be able to override the default hidden behavior on the sphinx rendered scikit-learn.org. See: https://github.com/scikit-learn/scikit-learn/issues/21755 */display: inline-block !important;position: relative;}#sk-container-id-3 div.sk-text-repr-fallback {display: none;}</style><div id=\"sk-container-id-3\" class=\"sk-top-container\"><div class=\"sk-text-repr-fallback\"><pre>LassoCV(alphas=array([1.000e-03, 1.001e+00, 2.001e+00, 3.001e+00, 4.001e+00, 5.001e+00,\n",
       "       6.001e+00, 7.001e+00, 8.001e+00, 9.001e+00]))</pre><b>In a Jupyter environment, please rerun this cell to show the HTML representation or trust the notebook. <br />On GitHub, the HTML representation is unable to render, please try loading this page with nbviewer.org.</b></div><div class=\"sk-container\" hidden><div class=\"sk-item\"><div class=\"sk-estimator sk-toggleable\"><input class=\"sk-toggleable__control sk-hidden--visually\" id=\"sk-estimator-id-3\" type=\"checkbox\" checked><label for=\"sk-estimator-id-3\" class=\"sk-toggleable__label sk-toggleable__label-arrow\">LassoCV</label><div class=\"sk-toggleable__content\"><pre>LassoCV(alphas=array([1.000e-03, 1.001e+00, 2.001e+00, 3.001e+00, 4.001e+00, 5.001e+00,\n",
       "       6.001e+00, 7.001e+00, 8.001e+00, 9.001e+00]))</pre></div></div></div></div></div>"
      ],
      "text/plain": [
       "LassoCV(alphas=array([1.000e-03, 1.001e+00, 2.001e+00, 3.001e+00, 4.001e+00, 5.001e+00,\n",
       "       6.001e+00, 7.001e+00, 8.001e+00, 9.001e+00]))"
      ]
     },
     "execution_count": 28,
     "metadata": {},
     "output_type": "execute_result"
    }
   ],
   "source": [
    "lasso.fit(Xs_train, y_train)"
   ]
  },
  {
   "cell_type": "code",
   "execution_count": 29,
   "id": "9987b850-329b-43cf-b193-5a4b9774d91f",
   "metadata": {
    "execution": {
     "iopub.execute_input": "2023-01-20T01:01:13.362745Z",
     "iopub.status.busy": "2023-01-20T01:01:13.362614Z",
     "iopub.status.idle": "2023-01-20T01:01:13.537964Z",
     "shell.execute_reply": "2023-01-20T01:01:13.537430Z",
     "shell.execute_reply.started": "2023-01-20T01:01:13.362735Z"
    }
   },
   "outputs": [
    {
     "data": {
      "text/html": [
       "<div>\n",
       "<style scoped>\n",
       "    .dataframe tbody tr th:only-of-type {\n",
       "        vertical-align: middle;\n",
       "    }\n",
       "\n",
       "    .dataframe tbody tr th {\n",
       "        vertical-align: top;\n",
       "    }\n",
       "\n",
       "    .dataframe thead th {\n",
       "        text-align: right;\n",
       "    }\n",
       "</style>\n",
       "<table border=\"1\" class=\"dataframe\">\n",
       "  <thead>\n",
       "    <tr style=\"text-align: right;\">\n",
       "      <th></th>\n",
       "      <th>Model</th>\n",
       "      <th>Train Score</th>\n",
       "      <th>Val Score</th>\n",
       "      <th>X Val Score</th>\n",
       "      <th>RMSE Train</th>\n",
       "      <th>RMSE Val</th>\n",
       "    </tr>\n",
       "  </thead>\n",
       "  <tbody>\n",
       "    <tr>\n",
       "      <th>0</th>\n",
       "      <td>m005_ALL_35-69.LinReg</td>\n",
       "      <td>1.000000</td>\n",
       "      <td>0.882940</td>\n",
       "      <td>0.616316</td>\n",
       "      <td>8.404957e-15</td>\n",
       "      <td>1.206978</td>\n",
       "    </tr>\n",
       "    <tr>\n",
       "      <th>1</th>\n",
       "      <td>m005_ALL_35-69.L2-1</td>\n",
       "      <td>0.999965</td>\n",
       "      <td>0.881611</td>\n",
       "      <td>0.614525</td>\n",
       "      <td>8.404957e-15</td>\n",
       "      <td>1.206978</td>\n",
       "    </tr>\n",
       "    <tr>\n",
       "      <th>2</th>\n",
       "      <td>m005_ALL_35-69.L1-1</td>\n",
       "      <td>0.999998</td>\n",
       "      <td>0.999996</td>\n",
       "      <td>0.999285</td>\n",
       "      <td>8.404957e-15</td>\n",
       "      <td>1.206978</td>\n",
       "    </tr>\n",
       "  </tbody>\n",
       "</table>\n",
       "</div>"
      ],
      "text/plain": [
       "                   Model  Train Score  Val Score  X Val Score    RMSE Train  \\\n",
       "0  m005_ALL_35-69.LinReg     1.000000   0.882940     0.616316  8.404957e-15   \n",
       "1    m005_ALL_35-69.L2-1     0.999965   0.881611     0.614525  8.404957e-15   \n",
       "2    m005_ALL_35-69.L1-1     0.999998   0.999996     0.999285  8.404957e-15   \n",
       "\n",
       "   RMSE Val  \n",
       "0  1.206978  \n",
       "1  1.206978  \n",
       "2  1.206978  "
      ]
     },
     "execution_count": 29,
     "metadata": {},
     "output_type": "execute_result"
    }
   ],
   "source": [
    "update_df(lasso, \"m005_ALL_35-69.L1-1\")"
   ]
  },
  {
   "cell_type": "code",
   "execution_count": 30,
   "id": "08bd36d3-952a-492e-8b36-886a6c1a1fc9",
   "metadata": {
    "execution": {
     "iopub.execute_input": "2023-01-20T01:01:13.539058Z",
     "iopub.status.busy": "2023-01-20T01:01:13.538696Z",
     "iopub.status.idle": "2023-01-20T01:01:13.543567Z",
     "shell.execute_reply": "2023-01-20T01:01:13.543073Z",
     "shell.execute_reply.started": "2023-01-20T01:01:13.539044Z"
    },
    "tags": []
   },
   "outputs": [
    {
     "data": {
      "text/plain": [
       "array(['q022', 'q096', 'q102', 'q105', 'q121', 'q122', 'q126', 'q152',\n",
       "       'd038', 'm008_MEDICALc', 'm010_NONMEDc', 'p027', 'p034', 'p042',\n",
       "       'r002', 'r016', 'r026'], dtype=object)"
      ]
     },
     "execution_count": 30,
     "metadata": {},
     "output_type": "execute_result"
    }
   ],
   "source": [
    "importance = np.abs(lasso.coef_)\n",
    "features = X.columns\n",
    "np.array(features)[importance>0]"
   ]
  },
  {
   "cell_type": "code",
   "execution_count": 31,
   "id": "063869ca-3418-4d77-ae5b-c729b6243277",
   "metadata": {
    "execution": {
     "iopub.execute_input": "2023-01-20T01:01:13.544537Z",
     "iopub.status.busy": "2023-01-20T01:01:13.544410Z",
     "iopub.status.idle": "2023-01-20T01:01:13.547745Z",
     "shell.execute_reply": "2023-01-20T01:01:13.547374Z",
     "shell.execute_reply.started": "2023-01-20T01:01:13.544527Z"
    },
    "tags": []
   },
   "outputs": [],
   "source": [
    "# np.array(features)\n",
    "# importance\n",
    "feat_imp = pd.DataFrame({'features':features, 'importance':importance}, columns=['features','importance'])"
   ]
  },
  {
   "cell_type": "markdown",
   "id": "c8f5f131-72dd-4497-9bf2-7667d9b53907",
   "metadata": {},
   "source": [
    "It'd be nice to be able to pull the code descriptions without searching the whole sheet one at a time. "
   ]
  },
  {
   "cell_type": "code",
   "execution_count": 32,
   "id": "8d32645f-9592-44fb-a518-dc6bb08616f5",
   "metadata": {
    "execution": {
     "iopub.execute_input": "2023-01-20T01:01:13.548404Z",
     "iopub.status.busy": "2023-01-20T01:01:13.548291Z",
     "iopub.status.idle": "2023-01-20T01:01:13.552107Z",
     "shell.execute_reply": "2023-01-20T01:01:13.551725Z",
     "shell.execute_reply.started": "2023-01-20T01:01:13.548392Z"
    },
    "tags": []
   },
   "outputs": [],
   "source": [
    "with open('./data/CHNAME.txt', 'r') as file:\n",
    "    data = file.read()\n",
    "    rows = data.split('\\n')\n",
    "\n",
    "descriptions = pd.DataFrame(rows)"
   ]
  },
  {
   "cell_type": "code",
   "execution_count": 33,
   "id": "de082cd4-a5f9-4b62-a941-cd9c3bda3cac",
   "metadata": {
    "execution": {
     "iopub.execute_input": "2023-01-20T01:01:13.552733Z",
     "iopub.status.busy": "2023-01-20T01:01:13.552623Z",
     "iopub.status.idle": "2023-01-20T01:01:13.560871Z",
     "shell.execute_reply": "2023-01-20T01:01:13.560147Z",
     "shell.execute_reply.started": "2023-01-20T01:01:13.552722Z"
    },
    "tags": []
   },
   "outputs": [
    {
     "name": "stderr",
     "output_type": "stream",
     "text": [
      "/var/folders/2f/m4z0nfhn5px0p2mdppmmrlxr0000gn/T/ipykernel_37490/2593100514.py:4: SettingWithCopyWarning: \n",
      "A value is trying to be set on a copy of a slice from a DataFrame.\n",
      "Try using .loc[row_indexer,col_indexer] = value instead\n",
      "\n",
      "See the caveats in the documentation: https://pandas.pydata.org/pandas-docs/stable/user_guide/indexing.html#returning-a-view-versus-a-copy\n",
      "  text_df['code'] = text_df[0].str.split(expand=True).iloc[:,0]\n"
     ]
    },
    {
     "data": {
      "text/html": [
       "<div>\n",
       "<style scoped>\n",
       "    .dataframe tbody tr th:only-of-type {\n",
       "        vertical-align: middle;\n",
       "    }\n",
       "\n",
       "    .dataframe tbody tr th {\n",
       "        vertical-align: top;\n",
       "    }\n",
       "\n",
       "    .dataframe thead th {\n",
       "        text-align: right;\n",
       "    }\n",
       "</style>\n",
       "<table border=\"1\" class=\"dataframe\">\n",
       "  <thead>\n",
       "    <tr style=\"text-align: right;\">\n",
       "      <th></th>\n",
       "      <th>0</th>\n",
       "      <th>code</th>\n",
       "    </tr>\n",
       "  </thead>\n",
       "  <tbody>\n",
       "    <tr>\n",
       "      <th>0</th>\n",
       "      <td>M001 ALL0-4     mortality ALL CAUSES AGE 0-4 (...</td>\n",
       "      <td>M001</td>\n",
       "    </tr>\n",
       "    <tr>\n",
       "      <th>2</th>\n",
       "      <td>M002 ALL5-14    mortality ALL CAUSES AGE 5-14 ...</td>\n",
       "      <td>M002</td>\n",
       "    </tr>\n",
       "    <tr>\n",
       "      <th>4</th>\n",
       "      <td>M003 ALL15-34   mortality ALL CAUSES AGE 15-34...</td>\n",
       "      <td>M003</td>\n",
       "    </tr>\n",
       "    <tr>\n",
       "      <th>6</th>\n",
       "      <td>M004 ALL0-34    mortality ALL CAUSES AGE 0-34 ...</td>\n",
       "      <td>M004</td>\n",
       "    </tr>\n",
       "    <tr>\n",
       "      <th>8</th>\n",
       "      <td>M005 ALL35-69   mortality ALL CAUSES AGE 35-69...</td>\n",
       "      <td>M005</td>\n",
       "    </tr>\n",
       "  </tbody>\n",
       "</table>\n",
       "</div>"
      ],
      "text/plain": [
       "                                                   0  code\n",
       "0  M001 ALL0-4     mortality ALL CAUSES AGE 0-4 (...  M001\n",
       "2  M002 ALL5-14    mortality ALL CAUSES AGE 5-14 ...  M002\n",
       "4  M003 ALL15-34   mortality ALL CAUSES AGE 15-34...  M003\n",
       "6  M004 ALL0-34    mortality ALL CAUSES AGE 0-34 ...  M004\n",
       "8  M005 ALL35-69   mortality ALL CAUSES AGE 35-69...  M005"
      ]
     },
     "execution_count": 33,
     "metadata": {},
     "output_type": "execute_result"
    }
   ],
   "source": [
    "# descriptions.head()\n",
    "# return every other row\n",
    "text_df = descriptions.iloc[::2,:]\n",
    "text_df['code'] = text_df[0].str.split(expand=True).iloc[:,0]\n",
    "text_df.head()"
   ]
  },
  {
   "cell_type": "code",
   "execution_count": 34,
   "id": "a25b2aed-a0c3-40c4-b43b-8eafa4192151",
   "metadata": {
    "execution": {
     "iopub.execute_input": "2023-01-20T01:01:13.561913Z",
     "iopub.status.busy": "2023-01-20T01:01:13.561781Z",
     "iopub.status.idle": "2023-01-20T01:01:13.565059Z",
     "shell.execute_reply": "2023-01-20T01:01:13.564674Z",
     "shell.execute_reply.started": "2023-01-20T01:01:13.561901Z"
    },
    "tags": []
   },
   "outputs": [
    {
     "name": "stderr",
     "output_type": "stream",
     "text": [
      "/var/folders/2f/m4z0nfhn5px0p2mdppmmrlxr0000gn/T/ipykernel_37490/360386991.py:1: SettingWithCopyWarning: \n",
      "A value is trying to be set on a copy of a slice from a DataFrame\n",
      "\n",
      "See the caveats in the documentation: https://pandas.pydata.org/pandas-docs/stable/user_guide/indexing.html#returning-a-view-versus-a-copy\n",
      "  text_df.rename(columns={0:'description'}, inplace=True)\n"
     ]
    }
   ],
   "source": [
    "text_df.rename(columns={0:'description'}, inplace=True)"
   ]
  },
  {
   "cell_type": "code",
   "execution_count": 35,
   "id": "844bb26d-3fda-4cd4-9d4c-4c23d8165965",
   "metadata": {
    "execution": {
     "iopub.execute_input": "2023-01-20T01:01:13.565873Z",
     "iopub.status.busy": "2023-01-20T01:01:13.565740Z",
     "iopub.status.idle": "2023-01-20T01:01:13.568688Z",
     "shell.execute_reply": "2023-01-20T01:01:13.568151Z",
     "shell.execute_reply.started": "2023-01-20T01:01:13.565862Z"
    },
    "tags": []
   },
   "outputs": [
    {
     "name": "stderr",
     "output_type": "stream",
     "text": [
      "/var/folders/2f/m4z0nfhn5px0p2mdppmmrlxr0000gn/T/ipykernel_37490/2186823998.py:1: SettingWithCopyWarning: \n",
      "A value is trying to be set on a copy of a slice from a DataFrame.\n",
      "Try using .loc[row_indexer,col_indexer] = value instead\n",
      "\n",
      "See the caveats in the documentation: https://pandas.pydata.org/pandas-docs/stable/user_guide/indexing.html#returning-a-view-versus-a-copy\n",
      "  text_df['code'] = text_df['code'].str.lower()\n"
     ]
    }
   ],
   "source": [
    "text_df['code'] = text_df['code'].str.lower()"
   ]
  },
  {
   "cell_type": "code",
   "execution_count": 36,
   "id": "8756f353-5db8-4086-afd2-4d6faf6055de",
   "metadata": {
    "execution": {
     "iopub.execute_input": "2023-01-20T01:01:13.569711Z",
     "iopub.status.busy": "2023-01-20T01:01:13.569594Z",
     "iopub.status.idle": "2023-01-20T01:01:13.573842Z",
     "shell.execute_reply": "2023-01-20T01:01:13.573507Z",
     "shell.execute_reply.started": "2023-01-20T01:01:13.569699Z"
    }
   },
   "outputs": [
    {
     "data": {
      "text/html": [
       "<div>\n",
       "<style scoped>\n",
       "    .dataframe tbody tr th:only-of-type {\n",
       "        vertical-align: middle;\n",
       "    }\n",
       "\n",
       "    .dataframe tbody tr th {\n",
       "        vertical-align: top;\n",
       "    }\n",
       "\n",
       "    .dataframe thead th {\n",
       "        text-align: right;\n",
       "    }\n",
       "</style>\n",
       "<table border=\"1\" class=\"dataframe\">\n",
       "  <thead>\n",
       "    <tr style=\"text-align: right;\">\n",
       "      <th></th>\n",
       "      <th>description</th>\n",
       "      <th>code</th>\n",
       "    </tr>\n",
       "  </thead>\n",
       "  <tbody>\n",
       "    <tr>\n",
       "      <th>0</th>\n",
       "      <td>M001 ALL0-4     mortality ALL CAUSES AGE 0-4 (...</td>\n",
       "      <td>m001</td>\n",
       "    </tr>\n",
       "    <tr>\n",
       "      <th>2</th>\n",
       "      <td>M002 ALL5-14    mortality ALL CAUSES AGE 5-14 ...</td>\n",
       "      <td>m002</td>\n",
       "    </tr>\n",
       "    <tr>\n",
       "      <th>4</th>\n",
       "      <td>M003 ALL15-34   mortality ALL CAUSES AGE 15-34...</td>\n",
       "      <td>m003</td>\n",
       "    </tr>\n",
       "    <tr>\n",
       "      <th>6</th>\n",
       "      <td>M004 ALL0-34    mortality ALL CAUSES AGE 0-34 ...</td>\n",
       "      <td>m004</td>\n",
       "    </tr>\n",
       "    <tr>\n",
       "      <th>8</th>\n",
       "      <td>M005 ALL35-69   mortality ALL CAUSES AGE 35-69...</td>\n",
       "      <td>m005</td>\n",
       "    </tr>\n",
       "  </tbody>\n",
       "</table>\n",
       "</div>"
      ],
      "text/plain": [
       "                                         description  code\n",
       "0  M001 ALL0-4     mortality ALL CAUSES AGE 0-4 (...  m001\n",
       "2  M002 ALL5-14    mortality ALL CAUSES AGE 5-14 ...  m002\n",
       "4  M003 ALL15-34   mortality ALL CAUSES AGE 15-34...  m003\n",
       "6  M004 ALL0-34    mortality ALL CAUSES AGE 0-34 ...  m004\n",
       "8  M005 ALL35-69   mortality ALL CAUSES AGE 35-69...  m005"
      ]
     },
     "execution_count": 36,
     "metadata": {},
     "output_type": "execute_result"
    }
   ],
   "source": [
    "text_df.head()"
   ]
  },
  {
   "cell_type": "code",
   "execution_count": 37,
   "id": "1f5bbf94-7d15-4f7e-8a6c-ee2e1e057478",
   "metadata": {
    "execution": {
     "iopub.execute_input": "2023-01-20T01:01:13.574621Z",
     "iopub.status.busy": "2023-01-20T01:01:13.574512Z",
     "iopub.status.idle": "2023-01-20T01:01:13.578882Z",
     "shell.execute_reply": "2023-01-20T01:01:13.578402Z",
     "shell.execute_reply.started": "2023-01-20T01:01:13.574610Z"
    },
    "tags": []
   },
   "outputs": [],
   "source": [
    "feat_imp = feat_imp.merge(text_df, left_on='features', right_on='code', how='left').drop(columns = ['code'])"
   ]
  },
  {
   "cell_type": "code",
   "execution_count": 38,
   "id": "10d7111e-02ce-4031-a986-bb6c6991a9e9",
   "metadata": {
    "execution": {
     "iopub.execute_input": "2023-01-20T01:01:13.579752Z",
     "iopub.status.busy": "2023-01-20T01:01:13.579636Z",
     "iopub.status.idle": "2023-01-20T01:01:13.581575Z",
     "shell.execute_reply": "2023-01-20T01:01:13.581293Z",
     "shell.execute_reply.started": "2023-01-20T01:01:13.579745Z"
    },
    "tags": []
   },
   "outputs": [],
   "source": [
    "pd.set_option('max_colwidth', 150) # so I can see the full descriptions"
   ]
  },
  {
   "cell_type": "code",
   "execution_count": 39,
   "id": "7dc6061d-080b-4eb6-a6b1-e5f0690908a8",
   "metadata": {
    "execution": {
     "iopub.execute_input": "2023-01-20T01:01:13.582038Z",
     "iopub.status.busy": "2023-01-20T01:01:13.581962Z",
     "iopub.status.idle": "2023-01-20T01:01:13.587237Z",
     "shell.execute_reply": "2023-01-20T01:01:13.586908Z",
     "shell.execute_reply.started": "2023-01-20T01:01:13.582030Z"
    },
    "tags": []
   },
   "outputs": [
    {
     "data": {
      "text/html": [
       "<div>\n",
       "<style scoped>\n",
       "    .dataframe tbody tr th:only-of-type {\n",
       "        vertical-align: middle;\n",
       "    }\n",
       "\n",
       "    .dataframe tbody tr th {\n",
       "        vertical-align: top;\n",
       "    }\n",
       "\n",
       "    .dataframe thead th {\n",
       "        text-align: right;\n",
       "    }\n",
       "</style>\n",
       "<table border=\"1\" class=\"dataframe\">\n",
       "  <thead>\n",
       "    <tr style=\"text-align: right;\">\n",
       "      <th></th>\n",
       "      <th>features</th>\n",
       "      <th>importance</th>\n",
       "      <th>description</th>\n",
       "    </tr>\n",
       "  </thead>\n",
       "  <tbody>\n",
       "    <tr>\n",
       "      <th>3</th>\n",
       "      <td>q022</td>\n",
       "      <td>0.000505</td>\n",
       "      <td>Q022 dEDUCATED  questionnaire PERCENTAGE WHO ARE WELL-EDUCATED</td>\n",
       "    </tr>\n",
       "    <tr>\n",
       "      <th>23</th>\n",
       "      <td>q096</td>\n",
       "      <td>0.000027</td>\n",
       "      <td>Q096 dMALARIA   questionnaire PERCENTAGE WITH HISTORY OF MALARIA DIAGNOSIS</td>\n",
       "    </tr>\n",
       "    <tr>\n",
       "      <th>29</th>\n",
       "      <td>q102</td>\n",
       "      <td>0.000886</td>\n",
       "      <td>Q102 dPHLEGMw   questionnaire PERCENTAGE WHO COUGH UP PHLEGM MOST MORNINGS IN WINTER</td>\n",
       "    </tr>\n",
       "    <tr>\n",
       "      <th>32</th>\n",
       "      <td>q105</td>\n",
       "      <td>0.000454</td>\n",
       "      <td>Q105 dPHLEGMyr  questionnaire NUMBER OF YEARS TROUBLED BY PHLEGM (years)</td>\n",
       "    </tr>\n",
       "    <tr>\n",
       "      <th>40</th>\n",
       "      <td>q121</td>\n",
       "      <td>0.000025</td>\n",
       "      <td>Q121 dANTIBIOT  questionnaire PERCENTAGE USED MAINLY WESTERN ANTIBIOTICS DURING PAST 6 MONTHS</td>\n",
       "    </tr>\n",
       "    <tr>\n",
       "      <th>41</th>\n",
       "      <td>q122</td>\n",
       "      <td>0.000499</td>\n",
       "      <td>Q122 dANTACID   questionnaire PERCENTAGE USED MAINLY WESTERN ANTACIDS DURING PAST 6 MONTHS</td>\n",
       "    </tr>\n",
       "    <tr>\n",
       "      <th>45</th>\n",
       "      <td>q126</td>\n",
       "      <td>0.000855</td>\n",
       "      <td>Q126 dWTLOSS    questionnaire PERCENTAGE WHO LOST WEIGHT DURING FOOD SHORTAGE</td>\n",
       "    </tr>\n",
       "    <tr>\n",
       "      <th>61</th>\n",
       "      <td>q152</td>\n",
       "      <td>0.000007</td>\n",
       "      <td>Q152 dWINE      questionnaire PERCENTAGE WHO HAVE EVER DRUNK WINE 3 OR MORE DAYS A WEEK FOR 6 MONTHS</td>\n",
       "    </tr>\n",
       "    <tr>\n",
       "      <th>107</th>\n",
       "      <td>d038</td>\n",
       "      <td>0.000116</td>\n",
       "      <td>D038 WHTFLOUR   diet survey WHEAT FLOUR INTAKE (g/day/reference man, air-dry basis)</td>\n",
       "    </tr>\n",
       "    <tr>\n",
       "      <th>127</th>\n",
       "      <td>m008_MEDICALc</td>\n",
       "      <td>2.879213</td>\n",
       "      <td>NaN</td>\n",
       "    </tr>\n",
       "    <tr>\n",
       "      <th>133</th>\n",
       "      <td>m010_NONMEDc</td>\n",
       "      <td>0.441840</td>\n",
       "      <td>NaN</td>\n",
       "    </tr>\n",
       "    <tr>\n",
       "      <th>159</th>\n",
       "      <td>p027</td>\n",
       "      <td>0.000771</td>\n",
       "      <td>P027 Cu         plasma COPPER (mg/dL)</td>\n",
       "    </tr>\n",
       "    <tr>\n",
       "      <th>164</th>\n",
       "      <td>p034</td>\n",
       "      <td>0.000505</td>\n",
       "      <td>P034 TIBC       plasma TOTAL IRON BINDING CAPACITY (ug/dL)</td>\n",
       "    </tr>\n",
       "    <tr>\n",
       "      <th>168</th>\n",
       "      <td>p042</td>\n",
       "      <td>0.000800</td>\n",
       "      <td>P042 HBsAg      plasma HEPATITIS B SURFACE ANTIGEN</td>\n",
       "    </tr>\n",
       "    <tr>\n",
       "      <th>172</th>\n",
       "      <td>r002</td>\n",
       "      <td>0.000232</td>\n",
       "      <td>R002 RIBOFDEF   red blood cell RIBOFLAVIN DEFICIENCY (glutathione reductase activity coefficient)</td>\n",
       "    </tr>\n",
       "    <tr>\n",
       "      <th>186</th>\n",
       "      <td>r016</td>\n",
       "      <td>0.000822</td>\n",
       "      <td>R016 18:1n9     red blood cell TOTAL LIPID OLEIC ACID (18:1(9)) (% of total fatty acid by weight)</td>\n",
       "    </tr>\n",
       "    <tr>\n",
       "      <th>196</th>\n",
       "      <td>r026</td>\n",
       "      <td>0.000305</td>\n",
       "      <td>R026 20:4n6     red blood cell TOTAL LIPID ARACHIDONIC ACID (20:4(6)) (% of total fatty acid by weight)</td>\n",
       "    </tr>\n",
       "  </tbody>\n",
       "</table>\n",
       "</div>"
      ],
      "text/plain": [
       "          features  importance  \\\n",
       "3             q022    0.000505   \n",
       "23            q096    0.000027   \n",
       "29            q102    0.000886   \n",
       "32            q105    0.000454   \n",
       "40            q121    0.000025   \n",
       "41            q122    0.000499   \n",
       "45            q126    0.000855   \n",
       "61            q152    0.000007   \n",
       "107           d038    0.000116   \n",
       "127  m008_MEDICALc    2.879213   \n",
       "133   m010_NONMEDc    0.441840   \n",
       "159           p027    0.000771   \n",
       "164           p034    0.000505   \n",
       "168           p042    0.000800   \n",
       "172           r002    0.000232   \n",
       "186           r016    0.000822   \n",
       "196           r026    0.000305   \n",
       "\n",
       "                                                                                                                           description  \n",
       "3    Q022 dEDUCATED  questionnaire PERCENTAGE WHO ARE WELL-EDUCATED                                                                     \n",
       "23   Q096 dMALARIA   questionnaire PERCENTAGE WITH HISTORY OF MALARIA DIAGNOSIS                                                         \n",
       "29   Q102 dPHLEGMw   questionnaire PERCENTAGE WHO COUGH UP PHLEGM MOST MORNINGS IN WINTER                                               \n",
       "32   Q105 dPHLEGMyr  questionnaire NUMBER OF YEARS TROUBLED BY PHLEGM (years)                                                           \n",
       "40   Q121 dANTIBIOT  questionnaire PERCENTAGE USED MAINLY WESTERN ANTIBIOTICS DURING PAST 6 MONTHS                                      \n",
       "41   Q122 dANTACID   questionnaire PERCENTAGE USED MAINLY WESTERN ANTACIDS DURING PAST 6 MONTHS                                         \n",
       "45   Q126 dWTLOSS    questionnaire PERCENTAGE WHO LOST WEIGHT DURING FOOD SHORTAGE                                                      \n",
       "61   Q152 dWINE      questionnaire PERCENTAGE WHO HAVE EVER DRUNK WINE 3 OR MORE DAYS A WEEK FOR 6 MONTHS                               \n",
       "107  D038 WHTFLOUR   diet survey WHEAT FLOUR INTAKE (g/day/reference man, air-dry basis)                                                \n",
       "127                                                                                                                                NaN  \n",
       "133                                                                                                                                NaN  \n",
       "159  P027 Cu         plasma COPPER (mg/dL)                                                                                              \n",
       "164  P034 TIBC       plasma TOTAL IRON BINDING CAPACITY (ug/dL)                                                                         \n",
       "168  P042 HBsAg      plasma HEPATITIS B SURFACE ANTIGEN                                                                                 \n",
       "172  R002 RIBOFDEF   red blood cell RIBOFLAVIN DEFICIENCY (glutathione reductase activity coefficient)                                  \n",
       "186  R016 18:1n9     red blood cell TOTAL LIPID OLEIC ACID (18:1(9)) (% of total fatty acid by weight)                                  \n",
       "196  R026 20:4n6     red blood cell TOTAL LIPID ARACHIDONIC ACID (20:4(6)) (% of total fatty acid by weight)                            "
      ]
     },
     "execution_count": 39,
     "metadata": {},
     "output_type": "execute_result"
    }
   ],
   "source": [
    "feat_imp[feat_imp['importance']>0]"
   ]
  },
  {
   "cell_type": "markdown",
   "id": "2645033f-49aa-4857-b5ac-15bcf398907a",
   "metadata": {
    "execution": {
     "iopub.execute_input": "2023-01-18T01:42:07.859347Z",
     "iopub.status.busy": "2023-01-18T01:42:07.858730Z",
     "iopub.status.idle": "2023-01-18T01:42:07.864720Z",
     "shell.execute_reply": "2023-01-18T01:42:07.863787Z",
     "shell.execute_reply.started": "2023-01-18T01:42:07.859303Z"
    }
   },
   "source": [
    "We don't want other mortality reasons to affect our predictors. We will remove them from the feature list moving forward. For now, let's see what happens without the nonmedical mortality column"
   ]
  },
  {
   "cell_type": "code",
   "execution_count": 40,
   "id": "057b2380-6928-4daf-a72b-9ead71cc1e04",
   "metadata": {
    "execution": {
     "iopub.execute_input": "2023-01-20T01:01:13.587775Z",
     "iopub.status.busy": "2023-01-20T01:01:13.587693Z",
     "iopub.status.idle": "2023-01-20T01:01:13.591446Z",
     "shell.execute_reply": "2023-01-20T01:01:13.591161Z",
     "shell.execute_reply.started": "2023-01-20T01:01:13.587766Z"
    }
   },
   "outputs": [
    {
     "data": {
      "text/plain": [
       "count    66.000000\n",
       "mean     12.991667\n",
       "std       3.039937\n",
       "min       8.010000\n",
       "25%      10.467500\n",
       "50%      13.040000\n",
       "75%      14.940000\n",
       "max      21.230000\n",
       "Name: m008_MEDICALc, dtype: float64"
      ]
     },
     "execution_count": 40,
     "metadata": {},
     "output_type": "execute_result"
    }
   ],
   "source": [
    "clean_df['m008_MEDICALc'].describe()"
   ]
  },
  {
   "cell_type": "code",
   "execution_count": 41,
   "id": "086200dc-8cd6-4fe4-83c6-8bd65e1d05d3",
   "metadata": {
    "execution": {
     "iopub.execute_input": "2023-01-20T01:01:13.592011Z",
     "iopub.status.busy": "2023-01-20T01:01:13.591925Z",
     "iopub.status.idle": "2023-01-20T01:01:13.593779Z",
     "shell.execute_reply": "2023-01-20T01:01:13.593523Z",
     "shell.execute_reply.started": "2023-01-20T01:01:13.592003Z"
    },
    "tags": []
   },
   "outputs": [],
   "source": [
    "drop_columns = ['county', 'sex', 'xiang','m010_NONMEDc','m005_ALL35_69']"
   ]
  },
  {
   "cell_type": "code",
   "execution_count": 42,
   "id": "e8af630d-2d68-46a9-ac2a-79acd547cb8e",
   "metadata": {
    "execution": {
     "iopub.execute_input": "2023-01-20T01:01:13.594246Z",
     "iopub.status.busy": "2023-01-20T01:01:13.594173Z",
     "iopub.status.idle": "2023-01-20T01:01:13.598188Z",
     "shell.execute_reply": "2023-01-20T01:01:13.597715Z",
     "shell.execute_reply.started": "2023-01-20T01:01:13.594239Z"
    },
    "tags": []
   },
   "outputs": [],
   "source": [
    "X = clean_df.drop(columns = drop_columns)\n",
    "y = clean_df['m005_ALL35_69']\n",
    "\n",
    "X_train, X_test, y_train, y_test = train_test_split(X, y, random_state=33)"
   ]
  },
  {
   "cell_type": "code",
   "execution_count": 43,
   "id": "bb228080-b961-4674-98be-af0c6128c929",
   "metadata": {
    "execution": {
     "iopub.execute_input": "2023-01-20T01:01:13.598900Z",
     "iopub.status.busy": "2023-01-20T01:01:13.598786Z",
     "iopub.status.idle": "2023-01-20T01:01:13.606020Z",
     "shell.execute_reply": "2023-01-20T01:01:13.605641Z",
     "shell.execute_reply.started": "2023-01-20T01:01:13.598889Z"
    }
   },
   "outputs": [],
   "source": [
    "Xs_train = ss.fit_transform(X_train)\n",
    "Xs_test = ss.transform(X_test)"
   ]
  },
  {
   "cell_type": "code",
   "execution_count": 44,
   "id": "aa0352cf-1a2e-4227-be4d-a9b031a763b3",
   "metadata": {
    "execution": {
     "iopub.execute_input": "2023-01-20T01:01:13.606631Z",
     "iopub.status.busy": "2023-01-20T01:01:13.606521Z",
     "iopub.status.idle": "2023-01-20T01:01:13.892871Z",
     "shell.execute_reply": "2023-01-20T01:01:13.892281Z",
     "shell.execute_reply.started": "2023-01-20T01:01:13.606620Z"
    },
    "tags": []
   },
   "outputs": [
    {
     "name": "stderr",
     "output_type": "stream",
     "text": [
      "/Users/colby/miniforge3/envs/tfm1/lib/python3.9/site-packages/sklearn/linear_model/_coordinate_descent.py:648: ConvergenceWarning: Objective did not converge. You might want to increase the number of iterations, check the scale of the features or consider increasing regularisation. Duality gap: 8.310e-02, tolerance: 4.664e-02\n",
      "  model = cd_fast.enet_coordinate_descent(\n"
     ]
    },
    {
     "data": {
      "text/html": [
       "<div>\n",
       "<style scoped>\n",
       "    .dataframe tbody tr th:only-of-type {\n",
       "        vertical-align: middle;\n",
       "    }\n",
       "\n",
       "    .dataframe tbody tr th {\n",
       "        vertical-align: top;\n",
       "    }\n",
       "\n",
       "    .dataframe thead th {\n",
       "        text-align: right;\n",
       "    }\n",
       "</style>\n",
       "<table border=\"1\" class=\"dataframe\">\n",
       "  <thead>\n",
       "    <tr style=\"text-align: right;\">\n",
       "      <th></th>\n",
       "      <th>Model</th>\n",
       "      <th>Train Score</th>\n",
       "      <th>Val Score</th>\n",
       "      <th>X Val Score</th>\n",
       "      <th>RMSE Train</th>\n",
       "      <th>RMSE Val</th>\n",
       "    </tr>\n",
       "  </thead>\n",
       "  <tbody>\n",
       "    <tr>\n",
       "      <th>0</th>\n",
       "      <td>m005_ALL_35-69.LinReg</td>\n",
       "      <td>1.000000</td>\n",
       "      <td>0.882940</td>\n",
       "      <td>0.616316</td>\n",
       "      <td>8.404957e-15</td>\n",
       "      <td>1.206978</td>\n",
       "    </tr>\n",
       "    <tr>\n",
       "      <th>1</th>\n",
       "      <td>m005_ALL_35-69.L2-1</td>\n",
       "      <td>0.999965</td>\n",
       "      <td>0.881611</td>\n",
       "      <td>0.614525</td>\n",
       "      <td>8.404957e-15</td>\n",
       "      <td>1.206978</td>\n",
       "    </tr>\n",
       "    <tr>\n",
       "      <th>2</th>\n",
       "      <td>m005_ALL_35-69.L1-1</td>\n",
       "      <td>0.999998</td>\n",
       "      <td>0.999996</td>\n",
       "      <td>0.999285</td>\n",
       "      <td>8.404957e-15</td>\n",
       "      <td>1.206978</td>\n",
       "    </tr>\n",
       "    <tr>\n",
       "      <th>3</th>\n",
       "      <td>m005_ALL_35-69.L1-2</td>\n",
       "      <td>0.999989</td>\n",
       "      <td>0.988186</td>\n",
       "      <td>0.931555</td>\n",
       "      <td>5.548124e-15</td>\n",
       "      <td>1.264333</td>\n",
       "    </tr>\n",
       "  </tbody>\n",
       "</table>\n",
       "</div>"
      ],
      "text/plain": [
       "                   Model  Train Score  Val Score  X Val Score    RMSE Train  \\\n",
       "0  m005_ALL_35-69.LinReg     1.000000   0.882940     0.616316  8.404957e-15   \n",
       "1    m005_ALL_35-69.L2-1     0.999965   0.881611     0.614525  8.404957e-15   \n",
       "2    m005_ALL_35-69.L1-1     0.999998   0.999996     0.999285  8.404957e-15   \n",
       "3    m005_ALL_35-69.L1-2     0.999989   0.988186     0.931555  5.548124e-15   \n",
       "\n",
       "   RMSE Val  \n",
       "0  1.206978  \n",
       "1  1.206978  \n",
       "2  1.206978  \n",
       "3  1.264333  "
      ]
     },
     "execution_count": 44,
     "metadata": {},
     "output_type": "execute_result"
    }
   ],
   "source": [
    "lr.fit(Xs_train, y_train)\n",
    "lasso.fit(Xs_train, y_train)\n",
    "update_df(lasso, \"m005_ALL_35-69.L1-2\")"
   ]
  },
  {
   "cell_type": "markdown",
   "id": "0ad7404d-0f84-44a2-a217-4cd190171096",
   "metadata": {},
   "source": [
    "These initial models all hold the mortality columns to train off of. Since we want to predict these columns, let's remove them all from the training data entirely to see if we're truly leaking data."
   ]
  },
  {
   "cell_type": "code",
   "execution_count": 45,
   "id": "625feeb7-df3a-400b-ab01-61433eb1cdfd",
   "metadata": {
    "execution": {
     "iopub.execute_input": "2023-01-20T01:01:13.894055Z",
     "iopub.status.busy": "2023-01-20T01:01:13.893639Z",
     "iopub.status.idle": "2023-01-20T01:01:13.897057Z",
     "shell.execute_reply": "2023-01-20T01:01:13.896435Z",
     "shell.execute_reply.started": "2023-01-20T01:01:13.894037Z"
    },
    "tags": []
   },
   "outputs": [],
   "source": [
    "# clean_df.columns.to_list()\n",
    " # All the mortality columns\n",
    " # 'm005_ALL35_69',\n",
    " # 'm008_MEDICALc',\n",
    " # 'm065_STROKEc',\n",
    " # 'm023_ALLCAc',\n",
    " # 'm059_ALLVASCc',\n",
    " # 'm028_OESOPHCAc',\n",
    " # 'm072_COPDc',\n",
    " # 'm010_NONMEDc',"
   ]
  },
  {
   "cell_type": "code",
   "execution_count": 46,
   "id": "80913c17-3c62-4fd0-a224-cec91b6a9348",
   "metadata": {
    "execution": {
     "iopub.execute_input": "2023-01-20T01:01:13.898027Z",
     "iopub.status.busy": "2023-01-20T01:01:13.897842Z",
     "iopub.status.idle": "2023-01-20T01:01:13.901550Z",
     "shell.execute_reply": "2023-01-20T01:01:13.901044Z",
     "shell.execute_reply.started": "2023-01-20T01:01:13.898015Z"
    },
    "tags": []
   },
   "outputs": [],
   "source": [
    "features_dropped = ['county', 'sex', 'xiang','m010_NONMEDc',\\\n",
    "                    'm005_ALL35_69', 'm008_MEDICALc', 'm065_STROKEc',\\\n",
    "                   'm023_ALLCAc', 'm059_ALLVASCc', 'm028_OESOPHCAc', 'm072_COPDc',\\\n",
    "                   'm072_COPDc']\n",
    "\n",
    "mortality_feat = ['m010_NONMEDc', 'm005_ALL35_69', 'm008_MEDICALc', 'm065_STROKEc',\\\n",
    "                   'm023_ALLCAc', 'm059_ALLVASCc', 'm028_OESOPHCAc', 'm072_COPDc']"
   ]
  },
  {
   "cell_type": "code",
   "execution_count": 47,
   "id": "5f838ef6-7247-44f1-96f4-f4767202c6c6",
   "metadata": {
    "execution": {
     "iopub.execute_input": "2023-01-20T01:01:13.902365Z",
     "iopub.status.busy": "2023-01-20T01:01:13.902251Z",
     "iopub.status.idle": "2023-01-20T01:01:16.746883Z",
     "shell.execute_reply": "2023-01-20T01:01:16.746384Z",
     "shell.execute_reply.started": "2023-01-20T01:01:13.902353Z"
    },
    "tags": []
   },
   "outputs": [],
   "source": [
    "# Creating one code block to take care of all the models in one go:\n",
    "lr = LinearRegression()\n",
    "ss = StandardScaler()\n",
    "lasso = LassoCV(alphas = np.arange(0.001, 10, 1))\n",
    "# imp_features df will contain all the corr. coef/weights from each feature\n",
    "imp_features = pd.DataFrame()\n",
    "# base code modified from Jahnavi's new_model function\n",
    "# looping over each target\n",
    "for i in mortality_feat:\n",
    "    # suppressing the convergence warnings if any\n",
    "    import warnings\n",
    "    warnings.filterwarnings(\"ignore\")\n",
    "\n",
    "    X = clean_df.drop(columns = features_dropped)\n",
    "    y = clean_df[i]\n",
    "    # train test split ('X before y, train before test' -James 2022)\n",
    "    \n",
    "    X_train, X_test, y_train, y_test = train_test_split(X, y, random_state=33)\n",
    "    \n",
    "    ss.fit(X_train)\n",
    "    Xs_train = ss.transform(X_train)\n",
    "    Xs_test = ss.transform(X_test)\n",
    "    \n",
    "    lr.fit(Xs_train, y_train)\n",
    "    lasso.fit(Xs_train, y_train)\n",
    "    \n",
    "    mortal = i\n",
    "\n",
    "    update_df(lasso, mortal)\n",
    "    \n",
    "    # appending df to get feature importance (corr. coef) out\n",
    "    feature_imp = pd.Series(lasso.coef_, index = X.columns)\n",
    "    feature_imp = feature_imp.sort_values(ascending=False)\n",
    "    \n",
    "    imp_features[i] = feature_imp\n"
   ]
  },
  {
   "cell_type": "code",
   "execution_count": 48,
   "id": "449369f9-78c5-4301-9883-212bbc2c7f3b",
   "metadata": {
    "execution": {
     "iopub.execute_input": "2023-01-20T01:01:16.747601Z",
     "iopub.status.busy": "2023-01-20T01:01:16.747474Z",
     "iopub.status.idle": "2023-01-20T01:01:16.754290Z",
     "shell.execute_reply": "2023-01-20T01:01:16.753926Z",
     "shell.execute_reply.started": "2023-01-20T01:01:16.747586Z"
    },
    "tags": []
   },
   "outputs": [
    {
     "data": {
      "text/html": [
       "<div>\n",
       "<style scoped>\n",
       "    .dataframe tbody tr th:only-of-type {\n",
       "        vertical-align: middle;\n",
       "    }\n",
       "\n",
       "    .dataframe tbody tr th {\n",
       "        vertical-align: top;\n",
       "    }\n",
       "\n",
       "    .dataframe thead th {\n",
       "        text-align: right;\n",
       "    }\n",
       "</style>\n",
       "<table border=\"1\" class=\"dataframe\">\n",
       "  <thead>\n",
       "    <tr style=\"text-align: right;\">\n",
       "      <th></th>\n",
       "      <th>Model</th>\n",
       "      <th>Train Score</th>\n",
       "      <th>Val Score</th>\n",
       "      <th>X Val Score</th>\n",
       "      <th>RMSE Train</th>\n",
       "      <th>RMSE Val</th>\n",
       "    </tr>\n",
       "  </thead>\n",
       "  <tbody>\n",
       "    <tr>\n",
       "      <th>0</th>\n",
       "      <td>m005_ALL_35-69.LinReg</td>\n",
       "      <td>1.000000</td>\n",
       "      <td>0.882940</td>\n",
       "      <td>0.616316</td>\n",
       "      <td>8.404957e-15</td>\n",
       "      <td>1.206978</td>\n",
       "    </tr>\n",
       "    <tr>\n",
       "      <th>1</th>\n",
       "      <td>m005_ALL_35-69.L2-1</td>\n",
       "      <td>0.999965</td>\n",
       "      <td>0.881611</td>\n",
       "      <td>0.614525</td>\n",
       "      <td>8.404957e-15</td>\n",
       "      <td>1.206978</td>\n",
       "    </tr>\n",
       "    <tr>\n",
       "      <th>2</th>\n",
       "      <td>m005_ALL_35-69.L1-1</td>\n",
       "      <td>0.999998</td>\n",
       "      <td>0.999996</td>\n",
       "      <td>0.999285</td>\n",
       "      <td>8.404957e-15</td>\n",
       "      <td>1.206978</td>\n",
       "    </tr>\n",
       "    <tr>\n",
       "      <th>3</th>\n",
       "      <td>m005_ALL_35-69.L1-2</td>\n",
       "      <td>0.999989</td>\n",
       "      <td>0.988186</td>\n",
       "      <td>0.931555</td>\n",
       "      <td>5.548124e-15</td>\n",
       "      <td>1.264333</td>\n",
       "    </tr>\n",
       "    <tr>\n",
       "      <th>4</th>\n",
       "      <td>m010_NONMEDc</td>\n",
       "      <td>0.482118</td>\n",
       "      <td>0.169658</td>\n",
       "      <td>-0.124616</td>\n",
       "      <td>1.332323e-13</td>\n",
       "      <td>44.534195</td>\n",
       "    </tr>\n",
       "    <tr>\n",
       "      <th>5</th>\n",
       "      <td>m005_ALL35_69</td>\n",
       "      <td>0.999993</td>\n",
       "      <td>0.056338</td>\n",
       "      <td>0.070911</td>\n",
       "      <td>7.825686e-15</td>\n",
       "      <td>2.689775</td>\n",
       "    </tr>\n",
       "    <tr>\n",
       "      <th>6</th>\n",
       "      <td>m008_MEDICALc</td>\n",
       "      <td>0.999991</td>\n",
       "      <td>0.107569</td>\n",
       "      <td>0.160962</td>\n",
       "      <td>6.704399e-15</td>\n",
       "      <td>2.591834</td>\n",
       "    </tr>\n",
       "    <tr>\n",
       "      <th>7</th>\n",
       "      <td>m065_STROKEc</td>\n",
       "      <td>0.770332</td>\n",
       "      <td>0.290192</td>\n",
       "      <td>0.009490</td>\n",
       "      <td>2.591966e-13</td>\n",
       "      <td>130.003377</td>\n",
       "    </tr>\n",
       "    <tr>\n",
       "      <th>8</th>\n",
       "      <td>m023_ALLCAc</td>\n",
       "      <td>0.999981</td>\n",
       "      <td>-0.538021</td>\n",
       "      <td>-0.466490</td>\n",
       "      <td>5.398386e-15</td>\n",
       "      <td>1.862238</td>\n",
       "    </tr>\n",
       "    <tr>\n",
       "      <th>9</th>\n",
       "      <td>m059_ALLVASCc</td>\n",
       "      <td>0.999958</td>\n",
       "      <td>0.138958</td>\n",
       "      <td>-0.104030</td>\n",
       "      <td>3.350999e-15</td>\n",
       "      <td>1.742879</td>\n",
       "    </tr>\n",
       "    <tr>\n",
       "      <th>10</th>\n",
       "      <td>m028_OESOPHCAc</td>\n",
       "      <td>0.781582</td>\n",
       "      <td>-0.451826</td>\n",
       "      <td>0.175367</td>\n",
       "      <td>3.037803e-13</td>\n",
       "      <td>129.170541</td>\n",
       "    </tr>\n",
       "    <tr>\n",
       "      <th>11</th>\n",
       "      <td>m072_COPDc</td>\n",
       "      <td>0.862999</td>\n",
       "      <td>0.021564</td>\n",
       "      <td>-0.461298</td>\n",
       "      <td>3.149389e-13</td>\n",
       "      <td>109.827272</td>\n",
       "    </tr>\n",
       "  </tbody>\n",
       "</table>\n",
       "</div>"
      ],
      "text/plain": [
       "                    Model  Train Score  Val Score  X Val Score    RMSE Train  \\\n",
       "0   m005_ALL_35-69.LinReg     1.000000   0.882940     0.616316  8.404957e-15   \n",
       "1     m005_ALL_35-69.L2-1     0.999965   0.881611     0.614525  8.404957e-15   \n",
       "2     m005_ALL_35-69.L1-1     0.999998   0.999996     0.999285  8.404957e-15   \n",
       "3     m005_ALL_35-69.L1-2     0.999989   0.988186     0.931555  5.548124e-15   \n",
       "4            m010_NONMEDc     0.482118   0.169658    -0.124616  1.332323e-13   \n",
       "5           m005_ALL35_69     0.999993   0.056338     0.070911  7.825686e-15   \n",
       "6           m008_MEDICALc     0.999991   0.107569     0.160962  6.704399e-15   \n",
       "7            m065_STROKEc     0.770332   0.290192     0.009490  2.591966e-13   \n",
       "8             m023_ALLCAc     0.999981  -0.538021    -0.466490  5.398386e-15   \n",
       "9           m059_ALLVASCc     0.999958   0.138958    -0.104030  3.350999e-15   \n",
       "10         m028_OESOPHCAc     0.781582  -0.451826     0.175367  3.037803e-13   \n",
       "11             m072_COPDc     0.862999   0.021564    -0.461298  3.149389e-13   \n",
       "\n",
       "      RMSE Val  \n",
       "0     1.206978  \n",
       "1     1.206978  \n",
       "2     1.206978  \n",
       "3     1.264333  \n",
       "4    44.534195  \n",
       "5     2.689775  \n",
       "6     2.591834  \n",
       "7   130.003377  \n",
       "8     1.862238  \n",
       "9     1.742879  \n",
       "10  129.170541  \n",
       "11  109.827272  "
      ]
     },
     "execution_count": 48,
     "metadata": {},
     "output_type": "execute_result"
    }
   ],
   "source": [
    "results"
   ]
  },
  {
   "cell_type": "markdown",
   "id": "756a1737-081c-4d57-befa-3f8cea2e8fe4",
   "metadata": {},
   "source": [
    "We suspected as much. There is definitely a data leakage between the mortality features and should be withheld. With the data we have, there is effectively no predictive value in our models generated but may offer insight to any correlative features with mortality. \n",
    "\n",
    "Will is exploring PCA in his EDA notebook"
   ]
  },
  {
   "cell_type": "code",
   "execution_count": 49,
   "id": "2135cfa5-6188-46be-b266-c5350b2d1390",
   "metadata": {
    "execution": {
     "iopub.execute_input": "2023-01-20T01:01:16.755315Z",
     "iopub.status.busy": "2023-01-20T01:01:16.754924Z",
     "iopub.status.idle": "2023-01-20T01:01:16.757230Z",
     "shell.execute_reply": "2023-01-20T01:01:16.756849Z",
     "shell.execute_reply.started": "2023-01-20T01:01:16.755276Z"
    },
    "tags": []
   },
   "outputs": [],
   "source": [
    "# imp_features['m010_NONMEDc'][imp_features['m010_NONMEDc'] != 0].to_frame().sort_values(by='m010_NONMEDc', ascending=False)\n",
    "# Forming a new df to store scores with the desciptive codes"
   ]
  },
  {
   "cell_type": "code",
   "execution_count": 50,
   "id": "d218d997-d90a-4627-ad0d-75d6af36d869",
   "metadata": {
    "execution": {
     "iopub.execute_input": "2023-01-20T01:01:16.757805Z",
     "iopub.status.busy": "2023-01-20T01:01:16.757687Z",
     "iopub.status.idle": "2023-01-20T01:01:16.760382Z",
     "shell.execute_reply": "2023-01-20T01:01:16.760093Z",
     "shell.execute_reply.started": "2023-01-20T01:01:16.757794Z"
    },
    "tags": []
   },
   "outputs": [
    {
     "data": {
      "text/plain": [
       "Index(['description', 'code'], dtype='object')"
      ]
     },
     "execution_count": 50,
     "metadata": {},
     "output_type": "execute_result"
    }
   ],
   "source": [
    "text_df.columns"
   ]
  },
  {
   "cell_type": "code",
   "execution_count": 51,
   "id": "ea4e868d-b8b2-416f-bfa1-6af8e2de2cb6",
   "metadata": {
    "execution": {
     "iopub.execute_input": "2023-01-20T01:01:16.760982Z",
     "iopub.status.busy": "2023-01-20T01:01:16.760875Z",
     "iopub.status.idle": "2023-01-20T01:01:16.763111Z",
     "shell.execute_reply": "2023-01-20T01:01:16.762810Z",
     "shell.execute_reply.started": "2023-01-20T01:01:16.760971Z"
    },
    "tags": []
   },
   "outputs": [],
   "source": [
    "imp_features.reset_index(inplace=True)"
   ]
  },
  {
   "cell_type": "code",
   "execution_count": 52,
   "id": "92c0f248-0699-4399-b53a-4bc3f97e9c55",
   "metadata": {
    "execution": {
     "iopub.execute_input": "2023-01-20T01:01:16.763702Z",
     "iopub.status.busy": "2023-01-20T01:01:16.763591Z",
     "iopub.status.idle": "2023-01-20T01:01:16.768538Z",
     "shell.execute_reply": "2023-01-20T01:01:16.768156Z",
     "shell.execute_reply.started": "2023-01-20T01:01:16.763691Z"
    },
    "tags": []
   },
   "outputs": [],
   "source": [
    "score_df = imp_features.merge(text_df, left_on='index', right_on='code', how='left').drop(columns = ['index'])"
   ]
  },
  {
   "cell_type": "code",
   "execution_count": 53,
   "id": "85e51294-1288-43ea-95c5-cbf628b978eb",
   "metadata": {
    "execution": {
     "iopub.execute_input": "2023-01-20T01:01:16.769459Z",
     "iopub.status.busy": "2023-01-20T01:01:16.769333Z",
     "iopub.status.idle": "2023-01-20T01:01:16.776125Z",
     "shell.execute_reply": "2023-01-20T01:01:16.775649Z",
     "shell.execute_reply.started": "2023-01-20T01:01:16.769447Z"
    },
    "tags": []
   },
   "outputs": [
    {
     "data": {
      "text/html": [
       "<div>\n",
       "<style scoped>\n",
       "    .dataframe tbody tr th:only-of-type {\n",
       "        vertical-align: middle;\n",
       "    }\n",
       "\n",
       "    .dataframe tbody tr th {\n",
       "        vertical-align: top;\n",
       "    }\n",
       "\n",
       "    .dataframe thead th {\n",
       "        text-align: right;\n",
       "    }\n",
       "</style>\n",
       "<table border=\"1\" class=\"dataframe\">\n",
       "  <thead>\n",
       "    <tr style=\"text-align: right;\">\n",
       "      <th></th>\n",
       "      <th>m010_NONMEDc</th>\n",
       "      <th>m005_ALL35_69</th>\n",
       "      <th>m008_MEDICALc</th>\n",
       "      <th>m065_STROKEc</th>\n",
       "      <th>m023_ALLCAc</th>\n",
       "      <th>m059_ALLVASCc</th>\n",
       "      <th>m028_OESOPHCAc</th>\n",
       "      <th>m072_COPDc</th>\n",
       "      <th>description</th>\n",
       "      <th>code</th>\n",
       "    </tr>\n",
       "  </thead>\n",
       "  <tbody>\n",
       "    <tr>\n",
       "      <th>0</th>\n",
       "      <td>7.084762</td>\n",
       "      <td>0.000000</td>\n",
       "      <td>-0.0</td>\n",
       "      <td>0.00000</td>\n",
       "      <td>-0.000000</td>\n",
       "      <td>0.000000</td>\n",
       "      <td>-0.000000</td>\n",
       "      <td>0.0</td>\n",
       "      <td>Q153 dWINEday   questionnaire CURRENT DAILY CONSUMPTION OF WINE (g per person)</td>\n",
       "      <td>q153</td>\n",
       "    </tr>\n",
       "    <tr>\n",
       "      <th>1</th>\n",
       "      <td>5.215087</td>\n",
       "      <td>0.087319</td>\n",
       "      <td>0.0</td>\n",
       "      <td>-1.88745</td>\n",
       "      <td>0.056419</td>\n",
       "      <td>-0.047364</td>\n",
       "      <td>4.606957</td>\n",
       "      <td>0.0</td>\n",
       "      <td>Q023 c%NOSCHL   questionnaire PERCENTAGE OF HOUSEHOLD HEADS ATTENDED NO SCHOOL</td>\n",
       "      <td>q023</td>\n",
       "    </tr>\n",
       "  </tbody>\n",
       "</table>\n",
       "</div>"
      ],
      "text/plain": [
       "   m010_NONMEDc  m005_ALL35_69  m008_MEDICALc  m065_STROKEc  m023_ALLCAc  \\\n",
       "0      7.084762       0.000000           -0.0       0.00000    -0.000000   \n",
       "1      5.215087       0.087319            0.0      -1.88745     0.056419   \n",
       "\n",
       "   m059_ALLVASCc  m028_OESOPHCAc  m072_COPDc  \\\n",
       "0       0.000000       -0.000000         0.0   \n",
       "1      -0.047364        4.606957         0.0   \n",
       "\n",
       "                                                                                                                         description  \\\n",
       "0  Q153 dWINEday   questionnaire CURRENT DAILY CONSUMPTION OF WINE (g per person)                                                      \n",
       "1  Q023 c%NOSCHL   questionnaire PERCENTAGE OF HOUSEHOLD HEADS ATTENDED NO SCHOOL                                                      \n",
       "\n",
       "   code  \n",
       "0  q153  \n",
       "1  q023  "
      ]
     },
     "execution_count": 53,
     "metadata": {},
     "output_type": "execute_result"
    }
   ],
   "source": [
    "score_df.head(2)"
   ]
  },
  {
   "cell_type": "code",
   "execution_count": 54,
   "id": "ce2d303b-7592-471a-8f71-75c936a3230b",
   "metadata": {
    "execution": {
     "iopub.execute_input": "2023-01-20T01:01:16.777062Z",
     "iopub.status.busy": "2023-01-20T01:01:16.776840Z",
     "iopub.status.idle": "2023-01-20T01:01:16.779639Z",
     "shell.execute_reply": "2023-01-20T01:01:16.779077Z",
     "shell.execute_reply.started": "2023-01-20T01:01:16.777048Z"
    },
    "tags": []
   },
   "outputs": [],
   "source": [
    "pd.set_option('display.max_rows', 100) \n",
    "# To see all the descriptions we need. I'll filter this down to top 10 later."
   ]
  },
  {
   "cell_type": "code",
   "execution_count": 55,
   "id": "6e634fd7-82b1-4b30-aef9-c45ff5fc729a",
   "metadata": {
    "execution": {
     "iopub.execute_input": "2023-01-20T01:01:16.780250Z",
     "iopub.status.busy": "2023-01-20T01:01:16.780146Z",
     "iopub.status.idle": "2023-01-20T01:01:16.785598Z",
     "shell.execute_reply": "2023-01-20T01:01:16.785267Z",
     "shell.execute_reply.started": "2023-01-20T01:01:16.780241Z"
    },
    "tags": []
   },
   "outputs": [
    {
     "data": {
      "text/html": [
       "<div>\n",
       "<style scoped>\n",
       "    .dataframe tbody tr th:only-of-type {\n",
       "        vertical-align: middle;\n",
       "    }\n",
       "\n",
       "    .dataframe tbody tr th {\n",
       "        vertical-align: top;\n",
       "    }\n",
       "\n",
       "    .dataframe thead th {\n",
       "        text-align: right;\n",
       "    }\n",
       "</style>\n",
       "<table border=\"1\" class=\"dataframe\">\n",
       "  <thead>\n",
       "    <tr style=\"text-align: right;\">\n",
       "      <th></th>\n",
       "      <th>m005_ALL35_69</th>\n",
       "      <th>description</th>\n",
       "      <th>code</th>\n",
       "    </tr>\n",
       "  </thead>\n",
       "  <tbody>\n",
       "    <tr>\n",
       "      <th>117</th>\n",
       "      <td>1.352670</td>\n",
       "      <td>Q099 dBRTHFAST  questionnaire PERCENTAGE WHO SUFFER BREATHLESSNESS WHEN HURRYING OR WALKING UPHILL</td>\n",
       "      <td>q099</td>\n",
       "    </tr>\n",
       "    <tr>\n",
       "      <th>92</th>\n",
       "      <td>0.726593</td>\n",
       "      <td>P043 HBsAb      plasma HEPATITIS B ANTI-SURFACE ANTIGEN ANTIBODY</td>\n",
       "      <td>p043</td>\n",
       "    </tr>\n",
       "    <tr>\n",
       "      <th>8</th>\n",
       "      <td>0.658357</td>\n",
       "      <td>D044 SALTVEG    diet survey DRIED AND SALT-PRESERVED VEGETABLE INTAKE (g/day/reference man, as-consumed basis)</td>\n",
       "      <td>d044</td>\n",
       "    </tr>\n",
       "    <tr>\n",
       "      <th>42</th>\n",
       "      <td>0.482376</td>\n",
       "      <td>D042 LIGHTVEG   diet survey LIGHT COLOURED VEGETABLE INTAKE (g/day/reference man, fresh weight)</td>\n",
       "      <td>d042</td>\n",
       "    </tr>\n",
       "    <tr>\n",
       "      <th>150</th>\n",
       "      <td>0.454607</td>\n",
       "      <td>Q171 dSALTVEG   questionnaire DAYS PER YEAR EAT SALT PRESERVED VEGETABLES</td>\n",
       "      <td>q171</td>\n",
       "    </tr>\n",
       "    <tr>\n",
       "      <th>107</th>\n",
       "      <td>0.425345</td>\n",
       "      <td>Q119 dCHINAMED  questionnaire PERCENTAGE USED CHINESE MEDICINE REGULARLY DURING PAST 6 MONTHS</td>\n",
       "      <td>q119</td>\n",
       "    </tr>\n",
       "    <tr>\n",
       "      <th>128</th>\n",
       "      <td>-0.410812</td>\n",
       "      <td>Q040 c%INCALC   questionnaire PERCENTAGE OF 1989 HOUSEHOLD INCOME SPENT ON ALCOHOL</td>\n",
       "      <td>q040</td>\n",
       "    </tr>\n",
       "    <tr>\n",
       "      <th>25</th>\n",
       "      <td>-0.545873</td>\n",
       "      <td>P009 B-CAROT    plasma BETA CAROTENE (ug/dL)</td>\n",
       "      <td>p009</td>\n",
       "    </tr>\n",
       "    <tr>\n",
       "      <th>88</th>\n",
       "      <td>-0.673292</td>\n",
       "      <td>P038 PEPSIN     plasma PEPSINOGEN I/II</td>\n",
       "      <td>p038</td>\n",
       "    </tr>\n",
       "    <tr>\n",
       "      <th>188</th>\n",
       "      <td>-0.683745</td>\n",
       "      <td>P027 Cu         plasma COPPER (mg/dL)</td>\n",
       "      <td>p027</td>\n",
       "    </tr>\n",
       "  </tbody>\n",
       "</table>\n",
       "</div>"
      ],
      "text/plain": [
       "     m005_ALL35_69  \\\n",
       "117       1.352670   \n",
       "92        0.726593   \n",
       "8         0.658357   \n",
       "42        0.482376   \n",
       "150       0.454607   \n",
       "107       0.425345   \n",
       "128      -0.410812   \n",
       "25       -0.545873   \n",
       "88       -0.673292   \n",
       "188      -0.683745   \n",
       "\n",
       "                                                                                                                           description  \\\n",
       "117  Q099 dBRTHFAST  questionnaire PERCENTAGE WHO SUFFER BREATHLESSNESS WHEN HURRYING OR WALKING UPHILL                                  \n",
       "92   P043 HBsAb      plasma HEPATITIS B ANTI-SURFACE ANTIGEN ANTIBODY                                                                    \n",
       "8    D044 SALTVEG    diet survey DRIED AND SALT-PRESERVED VEGETABLE INTAKE (g/day/reference man, as-consumed basis)                      \n",
       "42   D042 LIGHTVEG   diet survey LIGHT COLOURED VEGETABLE INTAKE (g/day/reference man, fresh weight)                                     \n",
       "150  Q171 dSALTVEG   questionnaire DAYS PER YEAR EAT SALT PRESERVED VEGETABLES                                                           \n",
       "107  Q119 dCHINAMED  questionnaire PERCENTAGE USED CHINESE MEDICINE REGULARLY DURING PAST 6 MONTHS                                       \n",
       "128  Q040 c%INCALC   questionnaire PERCENTAGE OF 1989 HOUSEHOLD INCOME SPENT ON ALCOHOL                                                  \n",
       "25   P009 B-CAROT    plasma BETA CAROTENE (ug/dL)                                                                                        \n",
       "88   P038 PEPSIN     plasma PEPSINOGEN I/II                                                                                              \n",
       "188  P027 Cu         plasma COPPER (mg/dL)                                                                                               \n",
       "\n",
       "     code  \n",
       "117  q099  \n",
       "92   p043  \n",
       "8    d044  \n",
       "42   d042  \n",
       "150  q171  \n",
       "107  q119  \n",
       "128  q040  \n",
       "25   p009  \n",
       "88   p038  \n",
       "188  p027  "
      ]
     },
     "execution_count": 55,
     "metadata": {},
     "output_type": "execute_result"
    }
   ],
   "source": [
    "# This filtering will show only non-zero scores; \n",
    "# showing the weights of what the lasso regression actually used and how.\n",
    "score_df[['m005_ALL35_69', 'description', 'code']][np.abs(score_df['m005_ALL35_69']) >0.40]\\\n",
    ".sort_values(by='m005_ALL35_69', ascending=False)"
   ]
  },
  {
   "cell_type": "code",
   "execution_count": 56,
   "id": "d928cf39-3c95-42ec-bb7c-d6cc4c064a56",
   "metadata": {
    "execution": {
     "iopub.execute_input": "2023-01-20T01:01:16.786097Z",
     "iopub.status.busy": "2023-01-20T01:01:16.786015Z",
     "iopub.status.idle": "2023-01-20T01:01:16.790625Z",
     "shell.execute_reply": "2023-01-20T01:01:16.790396Z",
     "shell.execute_reply.started": "2023-01-20T01:01:16.786088Z"
    },
    "tags": []
   },
   "outputs": [
    {
     "data": {
      "text/html": [
       "<div>\n",
       "<style scoped>\n",
       "    .dataframe tbody tr th:only-of-type {\n",
       "        vertical-align: middle;\n",
       "    }\n",
       "\n",
       "    .dataframe tbody tr th {\n",
       "        vertical-align: top;\n",
       "    }\n",
       "\n",
       "    .dataframe thead th {\n",
       "        text-align: right;\n",
       "    }\n",
       "</style>\n",
       "<table border=\"1\" class=\"dataframe\">\n",
       "  <thead>\n",
       "    <tr style=\"text-align: right;\">\n",
       "      <th></th>\n",
       "      <th>m008_MEDICALc</th>\n",
       "      <th>description</th>\n",
       "      <th>code</th>\n",
       "    </tr>\n",
       "  </thead>\n",
       "  <tbody>\n",
       "    <tr>\n",
       "      <th>117</th>\n",
       "      <td>1.446953</td>\n",
       "      <td>Q099 dBRTHFAST  questionnaire PERCENTAGE WHO SUFFER BREATHLESSNESS WHEN HURRYING OR WALKING UPHILL</td>\n",
       "      <td>q099</td>\n",
       "    </tr>\n",
       "    <tr>\n",
       "      <th>92</th>\n",
       "      <td>0.578106</td>\n",
       "      <td>P043 HBsAb      plasma HEPATITIS B ANTI-SURFACE ANTIGEN ANTIBODY</td>\n",
       "      <td>p043</td>\n",
       "    </tr>\n",
       "    <tr>\n",
       "      <th>8</th>\n",
       "      <td>0.488523</td>\n",
       "      <td>D044 SALTVEG    diet survey DRIED AND SALT-PRESERVED VEGETABLE INTAKE (g/day/reference man, as-consumed basis)</td>\n",
       "      <td>d044</td>\n",
       "    </tr>\n",
       "    <tr>\n",
       "      <th>42</th>\n",
       "      <td>0.484209</td>\n",
       "      <td>D042 LIGHTVEG   diet survey LIGHT COLOURED VEGETABLE INTAKE (g/day/reference man, fresh weight)</td>\n",
       "      <td>d042</td>\n",
       "    </tr>\n",
       "    <tr>\n",
       "      <th>113</th>\n",
       "      <td>0.420315</td>\n",
       "      <td>Q125 dFAMINDUR  questionnaire TOTAL DURATION OF SEVERE FOOD SHORTAGES DURING THE LAST 30 YEARS (months)</td>\n",
       "      <td>q125</td>\n",
       "    </tr>\n",
       "    <tr>\n",
       "      <th>119</th>\n",
       "      <td>0.416942</td>\n",
       "      <td>Q136 dMFCTCIG   questionnaire PERCENTAGE WHO HAVE EVER SMOKED MANUFACTURED CIGARETTES DAILY FOR MORE THAN 6 MONTHS</td>\n",
       "      <td>q136</td>\n",
       "    </tr>\n",
       "    <tr>\n",
       "      <th>107</th>\n",
       "      <td>0.388985</td>\n",
       "      <td>Q119 dCHINAMED  questionnaire PERCENTAGE USED CHINESE MEDICINE REGULARLY DURING PAST 6 MONTHS</td>\n",
       "      <td>q119</td>\n",
       "    </tr>\n",
       "    <tr>\n",
       "      <th>150</th>\n",
       "      <td>0.378863</td>\n",
       "      <td>Q171 dSALTVEG   questionnaire DAYS PER YEAR EAT SALT PRESERVED VEGETABLES</td>\n",
       "      <td>q171</td>\n",
       "    </tr>\n",
       "    <tr>\n",
       "      <th>89</th>\n",
       "      <td>-0.354926</td>\n",
       "      <td>P039 THYROXINE  plasma TOTAL THYROXINE (ug/dL)</td>\n",
       "      <td>p039</td>\n",
       "    </tr>\n",
       "    <tr>\n",
       "      <th>28</th>\n",
       "      <td>-0.364767</td>\n",
       "      <td>D051 POULTRY    diet survey POULTRY INTAKE (g/day/reference man, as-consumed basis)</td>\n",
       "      <td>d051</td>\n",
       "    </tr>\n",
       "    <tr>\n",
       "      <th>25</th>\n",
       "      <td>-0.368200</td>\n",
       "      <td>P009 B-CAROT    plasma BETA CAROTENE (ug/dL)</td>\n",
       "      <td>p009</td>\n",
       "    </tr>\n",
       "    <tr>\n",
       "      <th>50</th>\n",
       "      <td>-0.398946</td>\n",
       "      <td>Q010 c%AGRICUL  questionnaire PERCENTAGE OF HOUSEHOLD HEADS WHOSE PRIMARY OCCUPATION IS AGRICULTURE</td>\n",
       "      <td>q010</td>\n",
       "    </tr>\n",
       "    <tr>\n",
       "      <th>10</th>\n",
       "      <td>-0.489826</td>\n",
       "      <td>P002 HDLCHOL    plasma HIGH DENSITY LIPOPROTEIN CHOLESTEROL (mg/dL)</td>\n",
       "      <td>p002</td>\n",
       "    </tr>\n",
       "    <tr>\n",
       "      <th>188</th>\n",
       "      <td>-0.562347</td>\n",
       "      <td>P027 Cu         plasma COPPER (mg/dL)</td>\n",
       "      <td>p027</td>\n",
       "    </tr>\n",
       "    <tr>\n",
       "      <th>88</th>\n",
       "      <td>-0.663667</td>\n",
       "      <td>P038 PEPSIN     plasma PEPSINOGEN I/II</td>\n",
       "      <td>p038</td>\n",
       "    </tr>\n",
       "  </tbody>\n",
       "</table>\n",
       "</div>"
      ],
      "text/plain": [
       "     m008_MEDICALc  \\\n",
       "117       1.446953   \n",
       "92        0.578106   \n",
       "8         0.488523   \n",
       "42        0.484209   \n",
       "113       0.420315   \n",
       "119       0.416942   \n",
       "107       0.388985   \n",
       "150       0.378863   \n",
       "89       -0.354926   \n",
       "28       -0.364767   \n",
       "25       -0.368200   \n",
       "50       -0.398946   \n",
       "10       -0.489826   \n",
       "188      -0.562347   \n",
       "88       -0.663667   \n",
       "\n",
       "                                                                                                                           description  \\\n",
       "117  Q099 dBRTHFAST  questionnaire PERCENTAGE WHO SUFFER BREATHLESSNESS WHEN HURRYING OR WALKING UPHILL                                  \n",
       "92   P043 HBsAb      plasma HEPATITIS B ANTI-SURFACE ANTIGEN ANTIBODY                                                                    \n",
       "8    D044 SALTVEG    diet survey DRIED AND SALT-PRESERVED VEGETABLE INTAKE (g/day/reference man, as-consumed basis)                      \n",
       "42   D042 LIGHTVEG   diet survey LIGHT COLOURED VEGETABLE INTAKE (g/day/reference man, fresh weight)                                     \n",
       "113  Q125 dFAMINDUR  questionnaire TOTAL DURATION OF SEVERE FOOD SHORTAGES DURING THE LAST 30 YEARS (months)                             \n",
       "119  Q136 dMFCTCIG   questionnaire PERCENTAGE WHO HAVE EVER SMOKED MANUFACTURED CIGARETTES DAILY FOR MORE THAN 6 MONTHS                  \n",
       "107  Q119 dCHINAMED  questionnaire PERCENTAGE USED CHINESE MEDICINE REGULARLY DURING PAST 6 MONTHS                                       \n",
       "150  Q171 dSALTVEG   questionnaire DAYS PER YEAR EAT SALT PRESERVED VEGETABLES                                                           \n",
       "89   P039 THYROXINE  plasma TOTAL THYROXINE (ug/dL)                                                                                      \n",
       "28   D051 POULTRY    diet survey POULTRY INTAKE (g/day/reference man, as-consumed basis)                                                 \n",
       "25   P009 B-CAROT    plasma BETA CAROTENE (ug/dL)                                                                                        \n",
       "50   Q010 c%AGRICUL  questionnaire PERCENTAGE OF HOUSEHOLD HEADS WHOSE PRIMARY OCCUPATION IS AGRICULTURE                                 \n",
       "10   P002 HDLCHOL    plasma HIGH DENSITY LIPOPROTEIN CHOLESTEROL (mg/dL)                                                                 \n",
       "188  P027 Cu         plasma COPPER (mg/dL)                                                                                               \n",
       "88   P038 PEPSIN     plasma PEPSINOGEN I/II                                                                                              \n",
       "\n",
       "     code  \n",
       "117  q099  \n",
       "92   p043  \n",
       "8    d044  \n",
       "42   d042  \n",
       "113  q125  \n",
       "119  q136  \n",
       "107  q119  \n",
       "150  q171  \n",
       "89   p039  \n",
       "28   d051  \n",
       "25   p009  \n",
       "50   q010  \n",
       "10   p002  \n",
       "188  p027  \n",
       "88   p038  "
      ]
     },
     "execution_count": 56,
     "metadata": {},
     "output_type": "execute_result"
    }
   ],
   "source": [
    "# imp_features['m008_MEDICALc'][imp_features['m008_MEDICALc'] != 0].to_frame().sort_values(by='m008_MEDICALc', ascending=False)\n",
    "score_df[['m008_MEDICALc', 'description', 'code']][np.abs(score_df['m008_MEDICALc']) > 0.35]\\\n",
    ".sort_values(by='m008_MEDICALc', ascending=False)"
   ]
  },
  {
   "cell_type": "code",
   "execution_count": 57,
   "id": "ac739581-a6ff-4fdd-9bc8-c20efe124160",
   "metadata": {
    "execution": {
     "iopub.execute_input": "2023-01-20T01:01:16.791081Z",
     "iopub.status.busy": "2023-01-20T01:01:16.791005Z",
     "iopub.status.idle": "2023-01-20T01:01:16.796283Z",
     "shell.execute_reply": "2023-01-20T01:01:16.795926Z",
     "shell.execute_reply.started": "2023-01-20T01:01:16.791073Z"
    },
    "tags": []
   },
   "outputs": [
    {
     "data": {
      "text/html": [
       "<div>\n",
       "<style scoped>\n",
       "    .dataframe tbody tr th:only-of-type {\n",
       "        vertical-align: middle;\n",
       "    }\n",
       "\n",
       "    .dataframe tbody tr th {\n",
       "        vertical-align: top;\n",
       "    }\n",
       "\n",
       "    .dataframe thead th {\n",
       "        text-align: right;\n",
       "    }\n",
       "</style>\n",
       "<table border=\"1\" class=\"dataframe\">\n",
       "  <thead>\n",
       "    <tr style=\"text-align: right;\">\n",
       "      <th></th>\n",
       "      <th>m065_STROKEc</th>\n",
       "      <th>description</th>\n",
       "      <th>code</th>\n",
       "    </tr>\n",
       "  </thead>\n",
       "  <tbody>\n",
       "    <tr>\n",
       "      <th>98</th>\n",
       "      <td>26.612120</td>\n",
       "      <td>Q100 dBRTHLEV   questionnaire PERCENTAGE WHO SUFFER BREATHLESSNESS WHEN WALKING WITH OTHERS ON LEVEL GROUND</td>\n",
       "      <td>q100</td>\n",
       "    </tr>\n",
       "    <tr>\n",
       "      <th>182</th>\n",
       "      <td>17.366433</td>\n",
       "      <td>Q158 dWHEAT     questionnaire DAILY CONSUMPTION OF WHEAT (g/day air-dry basis)</td>\n",
       "      <td>q158</td>\n",
       "    </tr>\n",
       "    <tr>\n",
       "      <th>103</th>\n",
       "      <td>17.271656</td>\n",
       "      <td>Q106 dWHEEZE    questionnaire PERCENTAGE WHOSE CHEST OFTEN SOUNDS WHEEZY</td>\n",
       "      <td>q106</td>\n",
       "    </tr>\n",
       "    <tr>\n",
       "      <th>5</th>\n",
       "      <td>12.302131</td>\n",
       "      <td>R024 20:2n6     red blood cell TOTAL LIPID EICOSADIENOIC ACID (20:2(6)) (% of total fatty acid by weight)</td>\n",
       "      <td>r024</td>\n",
       "    </tr>\n",
       "    <tr>\n",
       "      <th>61</th>\n",
       "      <td>7.621683</td>\n",
       "      <td>R013 22:0       red blood cell TOTAL LIPID BEHENIC ACID (22:0) (% of total fatty acid by weight)</td>\n",
       "      <td>r013</td>\n",
       "    </tr>\n",
       "    <tr>\n",
       "      <th>92</th>\n",
       "      <td>6.231466</td>\n",
       "      <td>P043 HBsAb      plasma HEPATITIS B ANTI-SURFACE ANTIGEN ANTIBODY</td>\n",
       "      <td>p043</td>\n",
       "    </tr>\n",
       "    <tr>\n",
       "      <th>142</th>\n",
       "      <td>6.158920</td>\n",
       "      <td>Q137 dCIGCONS   questionnaire CURRENT DAILY CONSUMPTION OF MANUFACTURED CIGARETTES (no. per person)</td>\n",
       "      <td>q137</td>\n",
       "    </tr>\n",
       "    <tr>\n",
       "      <th>105</th>\n",
       "      <td>1.866571</td>\n",
       "      <td>Q109 dDBP       questionnaire DIASTOLIC BLOOD PRESSURE (mm Hg)</td>\n",
       "      <td>q109</td>\n",
       "    </tr>\n",
       "    <tr>\n",
       "      <th>60</th>\n",
       "      <td>0.316645</td>\n",
       "      <td>R012 20:0       red blood cell TOTAL LIPID ARACHIDIC ACID (20:0) (% of total fatty acid by weight)</td>\n",
       "      <td>r012</td>\n",
       "    </tr>\n",
       "    <tr>\n",
       "      <th>117</th>\n",
       "      <td>0.217354</td>\n",
       "      <td>Q099 dBRTHFAST  questionnaire PERCENTAGE WHO SUFFER BREATHLESSNESS WHEN HURRYING OR WALKING UPHILL</td>\n",
       "      <td>q099</td>\n",
       "    </tr>\n",
       "    <tr>\n",
       "      <th>52</th>\n",
       "      <td>-1.757330</td>\n",
       "      <td>P018 ANHYDLUT   plasma ANHYDRO LUTEIN (ug/dL)</td>\n",
       "      <td>p018</td>\n",
       "    </tr>\n",
       "    <tr>\n",
       "      <th>1</th>\n",
       "      <td>-1.887450</td>\n",
       "      <td>Q023 c%NOSCHL   questionnaire PERCENTAGE OF HOUSEHOLD HEADS ATTENDED NO SCHOOL</td>\n",
       "      <td>q023</td>\n",
       "    </tr>\n",
       "    <tr>\n",
       "      <th>154</th>\n",
       "      <td>-2.738332</td>\n",
       "      <td>Q140 dTOBCONS   questionnaire CURRENT DAILY CONSUMPTION OF \"OTHER\" TOBACCO (EXCLUDING MANUFACTURED CIGARETTES)</td>\n",
       "      <td>q140</td>\n",
       "    </tr>\n",
       "    <tr>\n",
       "      <th>188</th>\n",
       "      <td>-19.977605</td>\n",
       "      <td>P027 Cu         plasma COPPER (mg/dL)</td>\n",
       "      <td>p027</td>\n",
       "    </tr>\n",
       "  </tbody>\n",
       "</table>\n",
       "</div>"
      ],
      "text/plain": [
       "     m065_STROKEc  \\\n",
       "98      26.612120   \n",
       "182     17.366433   \n",
       "103     17.271656   \n",
       "5       12.302131   \n",
       "61       7.621683   \n",
       "92       6.231466   \n",
       "142      6.158920   \n",
       "105      1.866571   \n",
       "60       0.316645   \n",
       "117      0.217354   \n",
       "52      -1.757330   \n",
       "1       -1.887450   \n",
       "154     -2.738332   \n",
       "188    -19.977605   \n",
       "\n",
       "                                                                                                                           description  \\\n",
       "98   Q100 dBRTHLEV   questionnaire PERCENTAGE WHO SUFFER BREATHLESSNESS WHEN WALKING WITH OTHERS ON LEVEL GROUND                         \n",
       "182  Q158 dWHEAT     questionnaire DAILY CONSUMPTION OF WHEAT (g/day air-dry basis)                                                      \n",
       "103  Q106 dWHEEZE    questionnaire PERCENTAGE WHOSE CHEST OFTEN SOUNDS WHEEZY                                                            \n",
       "5    R024 20:2n6     red blood cell TOTAL LIPID EICOSADIENOIC ACID (20:2(6)) (% of total fatty acid by weight)                           \n",
       "61   R013 22:0       red blood cell TOTAL LIPID BEHENIC ACID (22:0) (% of total fatty acid by weight)                                    \n",
       "92   P043 HBsAb      plasma HEPATITIS B ANTI-SURFACE ANTIGEN ANTIBODY                                                                    \n",
       "142  Q137 dCIGCONS   questionnaire CURRENT DAILY CONSUMPTION OF MANUFACTURED CIGARETTES (no. per person)                                 \n",
       "105  Q109 dDBP       questionnaire DIASTOLIC BLOOD PRESSURE (mm Hg)                                                                      \n",
       "60   R012 20:0       red blood cell TOTAL LIPID ARACHIDIC ACID (20:0) (% of total fatty acid by weight)                                  \n",
       "117  Q099 dBRTHFAST  questionnaire PERCENTAGE WHO SUFFER BREATHLESSNESS WHEN HURRYING OR WALKING UPHILL                                  \n",
       "52   P018 ANHYDLUT   plasma ANHYDRO LUTEIN (ug/dL)                                                                                       \n",
       "1    Q023 c%NOSCHL   questionnaire PERCENTAGE OF HOUSEHOLD HEADS ATTENDED NO SCHOOL                                                      \n",
       "154  Q140 dTOBCONS   questionnaire CURRENT DAILY CONSUMPTION OF \"OTHER\" TOBACCO (EXCLUDING MANUFACTURED CIGARETTES)                      \n",
       "188  P027 Cu         plasma COPPER (mg/dL)                                                                                               \n",
       "\n",
       "     code  \n",
       "98   q100  \n",
       "182  q158  \n",
       "103  q106  \n",
       "5    r024  \n",
       "61   r013  \n",
       "92   p043  \n",
       "142  q137  \n",
       "105  q109  \n",
       "60   r012  \n",
       "117  q099  \n",
       "52   p018  \n",
       "1    q023  \n",
       "154  q140  \n",
       "188  p027  "
      ]
     },
     "execution_count": 57,
     "metadata": {},
     "output_type": "execute_result"
    }
   ],
   "source": [
    "imp_features['m065_STROKEc'][imp_features['m065_STROKEc'] != 0].to_frame().sort_values(by='m065_STROKEc', ascending=False)\n",
    "score_df[['m065_STROKEc', 'description', 'code']][score_df['m065_STROKEc'] != 0]\\\n",
    ".sort_values(by='m065_STROKEc', ascending=False)"
   ]
  },
  {
   "cell_type": "code",
   "execution_count": 58,
   "id": "f6d3ea7f-089f-4e6e-ba71-75041979f1aa",
   "metadata": {
    "execution": {
     "iopub.execute_input": "2023-01-20T01:01:16.797047Z",
     "iopub.status.busy": "2023-01-20T01:01:16.796933Z",
     "iopub.status.idle": "2023-01-20T01:01:16.803397Z",
     "shell.execute_reply": "2023-01-20T01:01:16.803032Z",
     "shell.execute_reply.started": "2023-01-20T01:01:16.797036Z"
    },
    "tags": []
   },
   "outputs": [
    {
     "data": {
      "text/html": [
       "<div>\n",
       "<style scoped>\n",
       "    .dataframe tbody tr th:only-of-type {\n",
       "        vertical-align: middle;\n",
       "    }\n",
       "\n",
       "    .dataframe tbody tr th {\n",
       "        vertical-align: top;\n",
       "    }\n",
       "\n",
       "    .dataframe thead th {\n",
       "        text-align: right;\n",
       "    }\n",
       "</style>\n",
       "<table border=\"1\" class=\"dataframe\">\n",
       "  <thead>\n",
       "    <tr style=\"text-align: right;\">\n",
       "      <th></th>\n",
       "      <th>m023_ALLCAc</th>\n",
       "      <th>description</th>\n",
       "      <th>code</th>\n",
       "    </tr>\n",
       "  </thead>\n",
       "  <tbody>\n",
       "    <tr>\n",
       "      <th>117</th>\n",
       "      <td>0.683157</td>\n",
       "      <td>Q099 dBRTHFAST  questionnaire PERCENTAGE WHO SUFFER BREATHLESSNESS WHEN HURRYING OR WALKING UPHILL</td>\n",
       "      <td>q099</td>\n",
       "    </tr>\n",
       "    <tr>\n",
       "      <th>113</th>\n",
       "      <td>0.576475</td>\n",
       "      <td>Q125 dFAMINDUR  questionnaire TOTAL DURATION OF SEVERE FOOD SHORTAGES DURING THE LAST 30 YEARS (months)</td>\n",
       "      <td>q125</td>\n",
       "    </tr>\n",
       "    <tr>\n",
       "      <th>24</th>\n",
       "      <td>0.483848</td>\n",
       "      <td>P008 A-CAROT    plasma ALPHA CAROTENE (ug/dL)</td>\n",
       "      <td>p008</td>\n",
       "    </tr>\n",
       "    <tr>\n",
       "      <th>163</th>\n",
       "      <td>0.475164</td>\n",
       "      <td>D013 VITE       diet survey TOTAL VITAMIN E INTAKE (mg/day/reference man)</td>\n",
       "      <td>d013</td>\n",
       "    </tr>\n",
       "    <tr>\n",
       "      <th>127</th>\n",
       "      <td>0.453919</td>\n",
       "      <td>Q039 cSUPINC89  questionnaire HOUSEHOLD SIDELINE AND BUSINESS INCOME FOR 1989 (Yuan)</td>\n",
       "      <td>q039</td>\n",
       "    </tr>\n",
       "    <tr>\n",
       "      <th>21</th>\n",
       "      <td>0.366521</td>\n",
       "      <td>P006 ALBUMIN    plasma ALBUMIN (g/dL) (non-pooled analysis)</td>\n",
       "      <td>p006</td>\n",
       "    </tr>\n",
       "    <tr>\n",
       "      <th>164</th>\n",
       "      <td>0.335755</td>\n",
       "      <td>Q164 dOILFAT    questionnaire DAILY CONSUMPTION OF OIL AND FAT (g/day)</td>\n",
       "      <td>q164</td>\n",
       "    </tr>\n",
       "    <tr>\n",
       "      <th>58</th>\n",
       "      <td>0.328760</td>\n",
       "      <td>R010 16:0       red blood cell TOTAL LIPID PALMITIC ACID (16:0) (% of total fatty acid by weight)</td>\n",
       "      <td>r010</td>\n",
       "    </tr>\n",
       "    <tr>\n",
       "      <th>183</th>\n",
       "      <td>0.302693</td>\n",
       "      <td>Q159 dMAIZE     questionnaire DAILY CONSUMPTION OF MAIZE (g/day air-dry basis)</td>\n",
       "      <td>q159</td>\n",
       "    </tr>\n",
       "    <tr>\n",
       "      <th>177</th>\n",
       "      <td>-0.308406</td>\n",
       "      <td>Q152 dWINE      questionnaire PERCENTAGE WHO HAVE EVER DRUNK WINE 3 OR MORE DAYS A WEEK FOR 6 MONTHS</td>\n",
       "      <td>q152</td>\n",
       "    </tr>\n",
       "    <tr>\n",
       "      <th>169</th>\n",
       "      <td>-0.308743</td>\n",
       "      <td>Q144 dHOMECIG   questionnaire PERCENTAGE WHO HAVE EVER SMOKED HOMEMADE CIGARETTES DAILY FOR MORE THAN 6 MONTHS</td>\n",
       "      <td>q144</td>\n",
       "    </tr>\n",
       "    <tr>\n",
       "      <th>172</th>\n",
       "      <td>-0.352945</td>\n",
       "      <td>Q147 dCIGAR     questionnaire PERCENTAGE WHO HAVE EVER SMOKED CIGARS DAILY FOR MORE THAN 6 MONTHS</td>\n",
       "      <td>q147</td>\n",
       "    </tr>\n",
       "    <tr>\n",
       "      <th>88</th>\n",
       "      <td>-0.630836</td>\n",
       "      <td>P038 PEPSIN     plasma PEPSINOGEN I/II</td>\n",
       "      <td>p038</td>\n",
       "    </tr>\n",
       "    <tr>\n",
       "      <th>50</th>\n",
       "      <td>-0.707586</td>\n",
       "      <td>Q010 c%AGRICUL  questionnaire PERCENTAGE OF HOUSEHOLD HEADS WHOSE PRIMARY OCCUPATION IS AGRICULTURE</td>\n",
       "      <td>q010</td>\n",
       "    </tr>\n",
       "  </tbody>\n",
       "</table>\n",
       "</div>"
      ],
      "text/plain": [
       "     m023_ALLCAc  \\\n",
       "117     0.683157   \n",
       "113     0.576475   \n",
       "24      0.483848   \n",
       "163     0.475164   \n",
       "127     0.453919   \n",
       "21      0.366521   \n",
       "164     0.335755   \n",
       "58      0.328760   \n",
       "183     0.302693   \n",
       "177    -0.308406   \n",
       "169    -0.308743   \n",
       "172    -0.352945   \n",
       "88     -0.630836   \n",
       "50     -0.707586   \n",
       "\n",
       "                                                                                                                           description  \\\n",
       "117  Q099 dBRTHFAST  questionnaire PERCENTAGE WHO SUFFER BREATHLESSNESS WHEN HURRYING OR WALKING UPHILL                                  \n",
       "113  Q125 dFAMINDUR  questionnaire TOTAL DURATION OF SEVERE FOOD SHORTAGES DURING THE LAST 30 YEARS (months)                             \n",
       "24   P008 A-CAROT    plasma ALPHA CAROTENE (ug/dL)                                                                                       \n",
       "163  D013 VITE       diet survey TOTAL VITAMIN E INTAKE (mg/day/reference man)                                                           \n",
       "127  Q039 cSUPINC89  questionnaire HOUSEHOLD SIDELINE AND BUSINESS INCOME FOR 1989 (Yuan)                                                \n",
       "21   P006 ALBUMIN    plasma ALBUMIN (g/dL) (non-pooled analysis)                                                                         \n",
       "164  Q164 dOILFAT    questionnaire DAILY CONSUMPTION OF OIL AND FAT (g/day)                                                              \n",
       "58   R010 16:0       red blood cell TOTAL LIPID PALMITIC ACID (16:0) (% of total fatty acid by weight)                                   \n",
       "183  Q159 dMAIZE     questionnaire DAILY CONSUMPTION OF MAIZE (g/day air-dry basis)                                                      \n",
       "177  Q152 dWINE      questionnaire PERCENTAGE WHO HAVE EVER DRUNK WINE 3 OR MORE DAYS A WEEK FOR 6 MONTHS                                \n",
       "169  Q144 dHOMECIG   questionnaire PERCENTAGE WHO HAVE EVER SMOKED HOMEMADE CIGARETTES DAILY FOR MORE THAN 6 MONTHS                      \n",
       "172  Q147 dCIGAR     questionnaire PERCENTAGE WHO HAVE EVER SMOKED CIGARS DAILY FOR MORE THAN 6 MONTHS                                   \n",
       "88   P038 PEPSIN     plasma PEPSINOGEN I/II                                                                                              \n",
       "50   Q010 c%AGRICUL  questionnaire PERCENTAGE OF HOUSEHOLD HEADS WHOSE PRIMARY OCCUPATION IS AGRICULTURE                                 \n",
       "\n",
       "     code  \n",
       "117  q099  \n",
       "113  q125  \n",
       "24   p008  \n",
       "163  d013  \n",
       "127  q039  \n",
       "21   p006  \n",
       "164  q164  \n",
       "58   r010  \n",
       "183  q159  \n",
       "177  q152  \n",
       "169  q144  \n",
       "172  q147  \n",
       "88   p038  \n",
       "50   q010  "
      ]
     },
     "execution_count": 58,
     "metadata": {},
     "output_type": "execute_result"
    }
   ],
   "source": [
    "# imp_features['m023_ALLCAc'][imp_features['m023_ALLCAc'] != 0].to_frame().sort_values(by='m023_ALLCAc', ascending=False)\n",
    "score_df[['m023_ALLCAc', 'description', 'code']][np.abs(score_df['m023_ALLCAc']) > 0.30]\\\n",
    ".sort_values(by='m023_ALLCAc', ascending=False)"
   ]
  },
  {
   "cell_type": "code",
   "execution_count": 59,
   "id": "fe1d9a4f-db24-4d67-a05e-0423913cf9d8",
   "metadata": {
    "execution": {
     "iopub.execute_input": "2023-01-20T01:01:16.804092Z",
     "iopub.status.busy": "2023-01-20T01:01:16.803902Z",
     "iopub.status.idle": "2023-01-20T01:01:16.810385Z",
     "shell.execute_reply": "2023-01-20T01:01:16.809822Z",
     "shell.execute_reply.started": "2023-01-20T01:01:16.804078Z"
    },
    "tags": []
   },
   "outputs": [
    {
     "data": {
      "text/html": [
       "<div>\n",
       "<style scoped>\n",
       "    .dataframe tbody tr th:only-of-type {\n",
       "        vertical-align: middle;\n",
       "    }\n",
       "\n",
       "    .dataframe tbody tr th {\n",
       "        vertical-align: top;\n",
       "    }\n",
       "\n",
       "    .dataframe thead th {\n",
       "        text-align: right;\n",
       "    }\n",
       "</style>\n",
       "<table border=\"1\" class=\"dataframe\">\n",
       "  <thead>\n",
       "    <tr style=\"text-align: right;\">\n",
       "      <th></th>\n",
       "      <th>m059_ALLVASCc</th>\n",
       "      <th>description</th>\n",
       "      <th>code</th>\n",
       "    </tr>\n",
       "  </thead>\n",
       "  <tbody>\n",
       "    <tr>\n",
       "      <th>117</th>\n",
       "      <td>0.400425</td>\n",
       "      <td>Q099 dBRTHFAST  questionnaire PERCENTAGE WHO SUFFER BREATHLESSNESS WHEN HURRYING OR WALKING UPHILL</td>\n",
       "      <td>q099</td>\n",
       "    </tr>\n",
       "    <tr>\n",
       "      <th>182</th>\n",
       "      <td>0.376016</td>\n",
       "      <td>Q158 dWHEAT     questionnaire DAILY CONSUMPTION OF WHEAT (g/day air-dry basis)</td>\n",
       "      <td>q158</td>\n",
       "    </tr>\n",
       "    <tr>\n",
       "      <th>42</th>\n",
       "      <td>0.315672</td>\n",
       "      <td>D042 LIGHTVEG   diet survey LIGHT COLOURED VEGETABLE INTAKE (g/day/reference man, fresh weight)</td>\n",
       "      <td>d042</td>\n",
       "    </tr>\n",
       "    <tr>\n",
       "      <th>92</th>\n",
       "      <td>0.229516</td>\n",
       "      <td>P043 HBsAb      plasma HEPATITIS B ANTI-SURFACE ANTIGEN ANTIBODY</td>\n",
       "      <td>p043</td>\n",
       "    </tr>\n",
       "    <tr>\n",
       "      <th>125</th>\n",
       "      <td>0.221994</td>\n",
       "      <td>Q037 cAGINC89   questionnaire HOUSEHOLD AGRICULTURAL INCOME FOR 1989 (Yuan)</td>\n",
       "      <td>q037</td>\n",
       "    </tr>\n",
       "    <tr>\n",
       "      <th>43</th>\n",
       "      <td>0.159212</td>\n",
       "      <td>D043 GREENVEG   diet survey GREEN VEGETABLE INTAKE (g/day/reference man, fresh weight)</td>\n",
       "      <td>d043</td>\n",
       "    </tr>\n",
       "    <tr>\n",
       "      <th>155</th>\n",
       "      <td>0.150553</td>\n",
       "      <td>Q176 dEGGS      questionnaire DAYS PER YEAR EAT EGGS</td>\n",
       "      <td>q176</td>\n",
       "    </tr>\n",
       "    <tr>\n",
       "      <th>69</th>\n",
       "      <td>0.147163</td>\n",
       "      <td>R022 22:6n3     red blood cell TOTAL LIPID DOCOSAHEXAENOIC ACID (22:6(3)) (% of total fatty acid by weight)</td>\n",
       "      <td>r022</td>\n",
       "    </tr>\n",
       "    <tr>\n",
       "      <th>98</th>\n",
       "      <td>0.142196</td>\n",
       "      <td>Q100 dBRTHLEV   questionnaire PERCENTAGE WHO SUFFER BREATHLESSNESS WHEN WALKING WITH OTHERS ON LEVEL GROUND</td>\n",
       "      <td>q100</td>\n",
       "    </tr>\n",
       "    <tr>\n",
       "      <th>75</th>\n",
       "      <td>-0.149340</td>\n",
       "      <td>P031 Zn         plasma ZINC (mg/dL)</td>\n",
       "      <td>p031</td>\n",
       "    </tr>\n",
       "    <tr>\n",
       "      <th>23</th>\n",
       "      <td>-0.206653</td>\n",
       "      <td>P012 RETINOL    plasma RETINOL (ug/dL)</td>\n",
       "      <td>p012</td>\n",
       "    </tr>\n",
       "    <tr>\n",
       "      <th>20</th>\n",
       "      <td>-0.264602</td>\n",
       "      <td>P004 APOA1      plasma APOLIPOPROTEIN A1 (mg/dL) (non-pooled analysis)</td>\n",
       "      <td>p004</td>\n",
       "    </tr>\n",
       "  </tbody>\n",
       "</table>\n",
       "</div>"
      ],
      "text/plain": [
       "     m059_ALLVASCc  \\\n",
       "117       0.400425   \n",
       "182       0.376016   \n",
       "42        0.315672   \n",
       "92        0.229516   \n",
       "125       0.221994   \n",
       "43        0.159212   \n",
       "155       0.150553   \n",
       "69        0.147163   \n",
       "98        0.142196   \n",
       "75       -0.149340   \n",
       "23       -0.206653   \n",
       "20       -0.264602   \n",
       "\n",
       "                                                                                                                           description  \\\n",
       "117  Q099 dBRTHFAST  questionnaire PERCENTAGE WHO SUFFER BREATHLESSNESS WHEN HURRYING OR WALKING UPHILL                                  \n",
       "182  Q158 dWHEAT     questionnaire DAILY CONSUMPTION OF WHEAT (g/day air-dry basis)                                                      \n",
       "42   D042 LIGHTVEG   diet survey LIGHT COLOURED VEGETABLE INTAKE (g/day/reference man, fresh weight)                                     \n",
       "92   P043 HBsAb      plasma HEPATITIS B ANTI-SURFACE ANTIGEN ANTIBODY                                                                    \n",
       "125  Q037 cAGINC89   questionnaire HOUSEHOLD AGRICULTURAL INCOME FOR 1989 (Yuan)                                                         \n",
       "43   D043 GREENVEG   diet survey GREEN VEGETABLE INTAKE (g/day/reference man, fresh weight)                                              \n",
       "155  Q176 dEGGS      questionnaire DAYS PER YEAR EAT EGGS                                                                                \n",
       "69   R022 22:6n3     red blood cell TOTAL LIPID DOCOSAHEXAENOIC ACID (22:6(3)) (% of total fatty acid by weight)                         \n",
       "98   Q100 dBRTHLEV   questionnaire PERCENTAGE WHO SUFFER BREATHLESSNESS WHEN WALKING WITH OTHERS ON LEVEL GROUND                         \n",
       "75   P031 Zn         plasma ZINC (mg/dL)                                                                                                 \n",
       "23   P012 RETINOL    plasma RETINOL (ug/dL)                                                                                              \n",
       "20   P004 APOA1      plasma APOLIPOPROTEIN A1 (mg/dL) (non-pooled analysis)                                                              \n",
       "\n",
       "     code  \n",
       "117  q099  \n",
       "182  q158  \n",
       "42   d042  \n",
       "92   p043  \n",
       "125  q037  \n",
       "43   d043  \n",
       "155  q176  \n",
       "69   r022  \n",
       "98   q100  \n",
       "75   p031  \n",
       "23   p012  \n",
       "20   p004  "
      ]
     },
     "execution_count": 59,
     "metadata": {},
     "output_type": "execute_result"
    }
   ],
   "source": [
    "# imp_features['m059_ALLVASCc'][imp_features['m059_ALLVASCc'] != 0].to_frame().sort_values(by='m059_ALLVASCc', ascending=False)\n",
    "score_df[['m059_ALLVASCc', 'description', 'code']][np.abs(score_df['m059_ALLVASCc']) > 0.14]\\\n",
    ".sort_values(by='m059_ALLVASCc', ascending=False)"
   ]
  },
  {
   "cell_type": "code",
   "execution_count": 60,
   "id": "d27f6966-818c-4bf8-8c25-70bfec80819a",
   "metadata": {
    "execution": {
     "iopub.execute_input": "2023-01-20T01:01:16.811949Z",
     "iopub.status.busy": "2023-01-20T01:01:16.811551Z",
     "iopub.status.idle": "2023-01-20T01:01:16.819568Z",
     "shell.execute_reply": "2023-01-20T01:01:16.819058Z",
     "shell.execute_reply.started": "2023-01-20T01:01:16.811921Z"
    },
    "tags": []
   },
   "outputs": [
    {
     "data": {
      "text/html": [
       "<div>\n",
       "<style scoped>\n",
       "    .dataframe tbody tr th:only-of-type {\n",
       "        vertical-align: middle;\n",
       "    }\n",
       "\n",
       "    .dataframe tbody tr th {\n",
       "        vertical-align: top;\n",
       "    }\n",
       "\n",
       "    .dataframe thead th {\n",
       "        text-align: right;\n",
       "    }\n",
       "</style>\n",
       "<table border=\"1\" class=\"dataframe\">\n",
       "  <thead>\n",
       "    <tr style=\"text-align: right;\">\n",
       "      <th></th>\n",
       "      <th>m028_OESOPHCAc</th>\n",
       "      <th>description</th>\n",
       "      <th>code</th>\n",
       "    </tr>\n",
       "  </thead>\n",
       "  <tbody>\n",
       "    <tr>\n",
       "      <th>91</th>\n",
       "      <td>27.256861</td>\n",
       "      <td>P042 HBsAg      plasma HEPATITIS B SURFACE ANTIGEN</td>\n",
       "      <td>p042</td>\n",
       "    </tr>\n",
       "    <tr>\n",
       "      <th>24</th>\n",
       "      <td>15.778510</td>\n",
       "      <td>P008 A-CAROT    plasma ALPHA CAROTENE (ug/dL)</td>\n",
       "      <td>p008</td>\n",
       "    </tr>\n",
       "    <tr>\n",
       "      <th>163</th>\n",
       "      <td>12.768285</td>\n",
       "      <td>D013 VITE       diet survey TOTAL VITAMIN E INTAKE (mg/day/reference man)</td>\n",
       "      <td>d013</td>\n",
       "    </tr>\n",
       "    <tr>\n",
       "      <th>113</th>\n",
       "      <td>10.214094</td>\n",
       "      <td>Q125 dFAMINDUR  questionnaire TOTAL DURATION OF SEVERE FOOD SHORTAGES DURING THE LAST 30 YEARS (months)</td>\n",
       "      <td>q125</td>\n",
       "    </tr>\n",
       "    <tr>\n",
       "      <th>25</th>\n",
       "      <td>-5.616304</td>\n",
       "      <td>P009 B-CAROT    plasma BETA CAROTENE (ug/dL)</td>\n",
       "      <td>p009</td>\n",
       "    </tr>\n",
       "    <tr>\n",
       "      <th>71</th>\n",
       "      <td>-9.320177</td>\n",
       "      <td>R025 20:3n6     red blood cell TOTAL LIPID DI-HOMO-GAMMA-LINOLENIC ACID (20:3(6))</td>\n",
       "      <td>r025</td>\n",
       "    </tr>\n",
       "    <tr>\n",
       "      <th>88</th>\n",
       "      <td>-12.848072</td>\n",
       "      <td>P038 PEPSIN     plasma PEPSINOGEN I/II</td>\n",
       "      <td>p038</td>\n",
       "    </tr>\n",
       "    <tr>\n",
       "      <th>174</th>\n",
       "      <td>-13.961973</td>\n",
       "      <td>Q149 dALCEVER   questionnaire PERCENTAGE EVER DRUNK ALCOHOL 3 OR MORE DAYS A WEEK FOR MORE THAN 6 MONTHS</td>\n",
       "      <td>q149</td>\n",
       "    </tr>\n",
       "    <tr>\n",
       "      <th>185</th>\n",
       "      <td>-18.799187</td>\n",
       "      <td>R026 20:4n6     red blood cell TOTAL LIPID ARACHIDONIC ACID (20:4(6)) (% of total fatty acid by weight)</td>\n",
       "      <td>r026</td>\n",
       "    </tr>\n",
       "    <tr>\n",
       "      <th>144</th>\n",
       "      <td>-35.031992</td>\n",
       "      <td>Q165 dSMOKFOOD  questionnaire PERCENTAGE EVER EAT SMOKED FOOD</td>\n",
       "      <td>q165</td>\n",
       "    </tr>\n",
       "  </tbody>\n",
       "</table>\n",
       "</div>"
      ],
      "text/plain": [
       "     m028_OESOPHCAc  \\\n",
       "91        27.256861   \n",
       "24        15.778510   \n",
       "163       12.768285   \n",
       "113       10.214094   \n",
       "25        -5.616304   \n",
       "71        -9.320177   \n",
       "88       -12.848072   \n",
       "174      -13.961973   \n",
       "185      -18.799187   \n",
       "144      -35.031992   \n",
       "\n",
       "                                                                                                                           description  \\\n",
       "91   P042 HBsAg      plasma HEPATITIS B SURFACE ANTIGEN                                                                                  \n",
       "24   P008 A-CAROT    plasma ALPHA CAROTENE (ug/dL)                                                                                       \n",
       "163  D013 VITE       diet survey TOTAL VITAMIN E INTAKE (mg/day/reference man)                                                           \n",
       "113  Q125 dFAMINDUR  questionnaire TOTAL DURATION OF SEVERE FOOD SHORTAGES DURING THE LAST 30 YEARS (months)                             \n",
       "25   P009 B-CAROT    plasma BETA CAROTENE (ug/dL)                                                                                        \n",
       "71   R025 20:3n6     red blood cell TOTAL LIPID DI-HOMO-GAMMA-LINOLENIC ACID (20:3(6))                                                   \n",
       "88   P038 PEPSIN     plasma PEPSINOGEN I/II                                                                                              \n",
       "174  Q149 dALCEVER   questionnaire PERCENTAGE EVER DRUNK ALCOHOL 3 OR MORE DAYS A WEEK FOR MORE THAN 6 MONTHS                            \n",
       "185  R026 20:4n6     red blood cell TOTAL LIPID ARACHIDONIC ACID (20:4(6)) (% of total fatty acid by weight)                             \n",
       "144  Q165 dSMOKFOOD  questionnaire PERCENTAGE EVER EAT SMOKED FOOD                                                                       \n",
       "\n",
       "     code  \n",
       "91   p042  \n",
       "24   p008  \n",
       "163  d013  \n",
       "113  q125  \n",
       "25   p009  \n",
       "71   r025  \n",
       "88   p038  \n",
       "174  q149  \n",
       "185  r026  \n",
       "144  q165  "
      ]
     },
     "execution_count": 60,
     "metadata": {},
     "output_type": "execute_result"
    }
   ],
   "source": [
    "# imp_features['m028_OESOPHCAc'][imp_features['m028_OESOPHCAc'] != 0].to_frame().sort_values(by='m028_OESOPHCAc', ascending=False)\n",
    "score_df[['m028_OESOPHCAc', 'description', 'code']][np.abs(score_df['m028_OESOPHCAc']) > 5]\\\n",
    ".sort_values(by='m028_OESOPHCAc', ascending=False)"
   ]
  },
  {
   "cell_type": "code",
   "execution_count": 61,
   "id": "86d7cc92-7912-430c-b1b2-3941182ced64",
   "metadata": {
    "execution": {
     "iopub.execute_input": "2023-01-20T01:01:16.820427Z",
     "iopub.status.busy": "2023-01-20T01:01:16.820246Z",
     "iopub.status.idle": "2023-01-20T01:01:16.826703Z",
     "shell.execute_reply": "2023-01-20T01:01:16.826327Z",
     "shell.execute_reply.started": "2023-01-20T01:01:16.820414Z"
    },
    "tags": []
   },
   "outputs": [
    {
     "data": {
      "text/html": [
       "<div>\n",
       "<style scoped>\n",
       "    .dataframe tbody tr th:only-of-type {\n",
       "        vertical-align: middle;\n",
       "    }\n",
       "\n",
       "    .dataframe tbody tr th {\n",
       "        vertical-align: top;\n",
       "    }\n",
       "\n",
       "    .dataframe thead th {\n",
       "        text-align: right;\n",
       "    }\n",
       "</style>\n",
       "<table border=\"1\" class=\"dataframe\">\n",
       "  <thead>\n",
       "    <tr style=\"text-align: right;\">\n",
       "      <th></th>\n",
       "      <th>m072_COPDc</th>\n",
       "      <th>description</th>\n",
       "      <th>code</th>\n",
       "    </tr>\n",
       "  </thead>\n",
       "  <tbody>\n",
       "    <tr>\n",
       "      <th>103</th>\n",
       "      <td>29.647219</td>\n",
       "      <td>Q106 dWHEEZE    questionnaire PERCENTAGE WHOSE CHEST OFTEN SOUNDS WHEEZY</td>\n",
       "      <td>q106</td>\n",
       "    </tr>\n",
       "    <tr>\n",
       "      <th>116</th>\n",
       "      <td>20.350247</td>\n",
       "      <td>Q128 dSMOKE     questionnaire PERCENTAGE WHO HAVE EVER SMOKED ANY FORM OF TOBACCO DAILY FOR MORE THAN 6 MONTHS</td>\n",
       "      <td>q128</td>\n",
       "    </tr>\n",
       "    <tr>\n",
       "      <th>5</th>\n",
       "      <td>18.650919</td>\n",
       "      <td>R024 20:2n6     red blood cell TOTAL LIPID EICOSADIENOIC ACID (20:2(6)) (% of total fatty acid by weight)</td>\n",
       "      <td>r024</td>\n",
       "    </tr>\n",
       "    <tr>\n",
       "      <th>7</th>\n",
       "      <td>15.993840</td>\n",
       "      <td>D028 PLNTFOOD   diet survey PLANT FOOD INTAKE (g/day/reference man)</td>\n",
       "      <td>d028</td>\n",
       "    </tr>\n",
       "    <tr>\n",
       "      <th>18</th>\n",
       "      <td>15.980178</td>\n",
       "      <td>P010 G-CAROT    plasma GAMMA CAROTENE (ug/dL)</td>\n",
       "      <td>p010</td>\n",
       "    </tr>\n",
       "    <tr>\n",
       "      <th>42</th>\n",
       "      <td>14.556566</td>\n",
       "      <td>D042 LIGHTVEG   diet survey LIGHT COLOURED VEGETABLE INTAKE (g/day/reference man, fresh weight)</td>\n",
       "      <td>d042</td>\n",
       "    </tr>\n",
       "    <tr>\n",
       "      <th>40</th>\n",
       "      <td>13.283286</td>\n",
       "      <td>D040 STCHTUBER  diet survey STARCHY TUBER INTAKE (g/day/reference man, fresh weight)</td>\n",
       "      <td>d040</td>\n",
       "    </tr>\n",
       "    <tr>\n",
       "      <th>144</th>\n",
       "      <td>12.236443</td>\n",
       "      <td>Q165 dSMOKFOOD  questionnaire PERCENTAGE EVER EAT SMOKED FOOD</td>\n",
       "      <td>q165</td>\n",
       "    </tr>\n",
       "    <tr>\n",
       "      <th>142</th>\n",
       "      <td>-10.747447</td>\n",
       "      <td>Q137 dCIGCONS   questionnaire CURRENT DAILY CONSUMPTION OF MANUFACTURED CIGARETTES (no. per person)</td>\n",
       "      <td>q137</td>\n",
       "    </tr>\n",
       "    <tr>\n",
       "      <th>122</th>\n",
       "      <td>-14.221034</td>\n",
       "      <td>Q022 dEDUCATED  questionnaire PERCENTAGE WHO ARE WELL-EDUCATED</td>\n",
       "      <td>q022</td>\n",
       "    </tr>\n",
       "    <tr>\n",
       "      <th>124</th>\n",
       "      <td>-20.866185</td>\n",
       "      <td>Q025 c%2ndSCHL  questionnaire PERCENTAGE OF HOUSEHOLD HEADS ATTENDED UP TO JUNIOR SCHOOL ONLY</td>\n",
       "      <td>q025</td>\n",
       "    </tr>\n",
       "  </tbody>\n",
       "</table>\n",
       "</div>"
      ],
      "text/plain": [
       "     m072_COPDc  \\\n",
       "103   29.647219   \n",
       "116   20.350247   \n",
       "5     18.650919   \n",
       "7     15.993840   \n",
       "18    15.980178   \n",
       "42    14.556566   \n",
       "40    13.283286   \n",
       "144   12.236443   \n",
       "142  -10.747447   \n",
       "122  -14.221034   \n",
       "124  -20.866185   \n",
       "\n",
       "                                                                                                                           description  \\\n",
       "103  Q106 dWHEEZE    questionnaire PERCENTAGE WHOSE CHEST OFTEN SOUNDS WHEEZY                                                            \n",
       "116  Q128 dSMOKE     questionnaire PERCENTAGE WHO HAVE EVER SMOKED ANY FORM OF TOBACCO DAILY FOR MORE THAN 6 MONTHS                      \n",
       "5    R024 20:2n6     red blood cell TOTAL LIPID EICOSADIENOIC ACID (20:2(6)) (% of total fatty acid by weight)                           \n",
       "7    D028 PLNTFOOD   diet survey PLANT FOOD INTAKE (g/day/reference man)                                                                 \n",
       "18   P010 G-CAROT    plasma GAMMA CAROTENE (ug/dL)                                                                                       \n",
       "42   D042 LIGHTVEG   diet survey LIGHT COLOURED VEGETABLE INTAKE (g/day/reference man, fresh weight)                                     \n",
       "40   D040 STCHTUBER  diet survey STARCHY TUBER INTAKE (g/day/reference man, fresh weight)                                                \n",
       "144  Q165 dSMOKFOOD  questionnaire PERCENTAGE EVER EAT SMOKED FOOD                                                                       \n",
       "142  Q137 dCIGCONS   questionnaire CURRENT DAILY CONSUMPTION OF MANUFACTURED CIGARETTES (no. per person)                                 \n",
       "122  Q022 dEDUCATED  questionnaire PERCENTAGE WHO ARE WELL-EDUCATED                                                                      \n",
       "124  Q025 c%2ndSCHL  questionnaire PERCENTAGE OF HOUSEHOLD HEADS ATTENDED UP TO JUNIOR SCHOOL ONLY                                       \n",
       "\n",
       "     code  \n",
       "103  q106  \n",
       "116  q128  \n",
       "5    r024  \n",
       "7    d028  \n",
       "18   p010  \n",
       "42   d042  \n",
       "40   d040  \n",
       "144  q165  \n",
       "142  q137  \n",
       "122  q022  \n",
       "124  q025  "
      ]
     },
     "execution_count": 61,
     "metadata": {},
     "output_type": "execute_result"
    }
   ],
   "source": [
    "# imp_features['m072_COPDc'][imp_features['m072_COPDc'] > 0].to_frame().sort_values(by='m072_COPDc', ascending=False)\n",
    "score_df[['m072_COPDc', 'description', 'code']][np.abs(score_df['m072_COPDc']) >10]\\\n",
    ".sort_values(by='m072_COPDc', ascending=False)"
   ]
  },
  {
   "cell_type": "code",
   "execution_count": 62,
   "id": "2e92515e-9013-47e3-acf3-f4aa16b9fa6c",
   "metadata": {
    "execution": {
     "iopub.execute_input": "2023-01-20T01:01:16.827497Z",
     "iopub.status.busy": "2023-01-20T01:01:16.827326Z",
     "iopub.status.idle": "2023-01-20T01:01:16.829975Z",
     "shell.execute_reply": "2023-01-20T01:01:16.829602Z",
     "shell.execute_reply.started": "2023-01-20T01:01:16.827485Z"
    },
    "tags": []
   },
   "outputs": [
    {
     "data": {
      "text/plain": [
       "(66, 201)"
      ]
     },
     "execution_count": 62,
     "metadata": {},
     "output_type": "execute_result"
    }
   ],
   "source": [
    "clean_df.shape"
   ]
  },
  {
   "cell_type": "code",
   "execution_count": 63,
   "id": "7418251d-c860-4957-989f-8e5b807537f7",
   "metadata": {
    "execution": {
     "iopub.execute_input": "2023-01-20T01:01:16.830754Z",
     "iopub.status.busy": "2023-01-20T01:01:16.830534Z",
     "iopub.status.idle": "2023-01-20T01:01:16.872809Z",
     "shell.execute_reply": "2023-01-20T01:01:16.872321Z",
     "shell.execute_reply.started": "2023-01-20T01:01:16.830741Z"
    },
    "tags": []
   },
   "outputs": [
    {
     "data": {
      "text/html": [
       "<style>#sk-container-id-4 {color: black;background-color: white;}#sk-container-id-4 pre{padding: 0;}#sk-container-id-4 div.sk-toggleable {background-color: white;}#sk-container-id-4 label.sk-toggleable__label {cursor: pointer;display: block;width: 100%;margin-bottom: 0;padding: 0.3em;box-sizing: border-box;text-align: center;}#sk-container-id-4 label.sk-toggleable__label-arrow:before {content: \"▸\";float: left;margin-right: 0.25em;color: #696969;}#sk-container-id-4 label.sk-toggleable__label-arrow:hover:before {color: black;}#sk-container-id-4 div.sk-estimator:hover label.sk-toggleable__label-arrow:before {color: black;}#sk-container-id-4 div.sk-toggleable__content {max-height: 0;max-width: 0;overflow: hidden;text-align: left;background-color: #f0f8ff;}#sk-container-id-4 div.sk-toggleable__content pre {margin: 0.2em;color: black;border-radius: 0.25em;background-color: #f0f8ff;}#sk-container-id-4 input.sk-toggleable__control:checked~div.sk-toggleable__content {max-height: 200px;max-width: 100%;overflow: auto;}#sk-container-id-4 input.sk-toggleable__control:checked~label.sk-toggleable__label-arrow:before {content: \"▾\";}#sk-container-id-4 div.sk-estimator input.sk-toggleable__control:checked~label.sk-toggleable__label {background-color: #d4ebff;}#sk-container-id-4 div.sk-label input.sk-toggleable__control:checked~label.sk-toggleable__label {background-color: #d4ebff;}#sk-container-id-4 input.sk-hidden--visually {border: 0;clip: rect(1px 1px 1px 1px);clip: rect(1px, 1px, 1px, 1px);height: 1px;margin: -1px;overflow: hidden;padding: 0;position: absolute;width: 1px;}#sk-container-id-4 div.sk-estimator {font-family: monospace;background-color: #f0f8ff;border: 1px dotted black;border-radius: 0.25em;box-sizing: border-box;margin-bottom: 0.5em;}#sk-container-id-4 div.sk-estimator:hover {background-color: #d4ebff;}#sk-container-id-4 div.sk-parallel-item::after {content: \"\";width: 100%;border-bottom: 1px solid gray;flex-grow: 1;}#sk-container-id-4 div.sk-label:hover label.sk-toggleable__label {background-color: #d4ebff;}#sk-container-id-4 div.sk-serial::before {content: \"\";position: absolute;border-left: 1px solid gray;box-sizing: border-box;top: 0;bottom: 0;left: 50%;z-index: 0;}#sk-container-id-4 div.sk-serial {display: flex;flex-direction: column;align-items: center;background-color: white;padding-right: 0.2em;padding-left: 0.2em;position: relative;}#sk-container-id-4 div.sk-item {position: relative;z-index: 1;}#sk-container-id-4 div.sk-parallel {display: flex;align-items: stretch;justify-content: center;background-color: white;position: relative;}#sk-container-id-4 div.sk-item::before, #sk-container-id-4 div.sk-parallel-item::before {content: \"\";position: absolute;border-left: 1px solid gray;box-sizing: border-box;top: 0;bottom: 0;left: 50%;z-index: -1;}#sk-container-id-4 div.sk-parallel-item {display: flex;flex-direction: column;z-index: 1;position: relative;background-color: white;}#sk-container-id-4 div.sk-parallel-item:first-child::after {align-self: flex-end;width: 50%;}#sk-container-id-4 div.sk-parallel-item:last-child::after {align-self: flex-start;width: 50%;}#sk-container-id-4 div.sk-parallel-item:only-child::after {width: 0;}#sk-container-id-4 div.sk-dashed-wrapped {border: 1px dashed gray;margin: 0 0.4em 0.5em 0.4em;box-sizing: border-box;padding-bottom: 0.4em;background-color: white;}#sk-container-id-4 div.sk-label label {font-family: monospace;font-weight: bold;display: inline-block;line-height: 1.2em;}#sk-container-id-4 div.sk-label-container {text-align: center;}#sk-container-id-4 div.sk-container {/* jupyter's `normalize.less` sets `[hidden] { display: none; }` but bootstrap.min.css set `[hidden] { display: none !important; }` so we also need the `!important` here to be able to override the default hidden behavior on the sphinx rendered scikit-learn.org. See: https://github.com/scikit-learn/scikit-learn/issues/21755 */display: inline-block !important;position: relative;}#sk-container-id-4 div.sk-text-repr-fallback {display: none;}</style><div id=\"sk-container-id-4\" class=\"sk-top-container\"><div class=\"sk-text-repr-fallback\"><pre>PCA(random_state=33)</pre><b>In a Jupyter environment, please rerun this cell to show the HTML representation or trust the notebook. <br />On GitHub, the HTML representation is unable to render, please try loading this page with nbviewer.org.</b></div><div class=\"sk-container\" hidden><div class=\"sk-item\"><div class=\"sk-estimator sk-toggleable\"><input class=\"sk-toggleable__control sk-hidden--visually\" id=\"sk-estimator-id-4\" type=\"checkbox\" checked><label for=\"sk-estimator-id-4\" class=\"sk-toggleable__label sk-toggleable__label-arrow\">PCA</label><div class=\"sk-toggleable__content\"><pre>PCA(random_state=33)</pre></div></div></div></div></div>"
      ],
      "text/plain": [
       "PCA(random_state=33)"
      ]
     },
     "execution_count": 63,
     "metadata": {},
     "output_type": "execute_result"
    }
   ],
   "source": [
    "# Steps to take a look using Principle Component Analysis\n",
    "lr = LinearRegression()\n",
    "ss = StandardScaler()\n",
    "\n",
    "X = clean_df.drop(columns = features_dropped)\n",
    "y = clean_df['m005_ALL35_69']\n",
    "\n",
    "X_train, X_test, y_train, y_test = train_test_split(X, y, random_state=33)\n",
    "\n",
    "ss.fit(X_train)\n",
    "Xs_train = ss.transform(X_train)\n",
    "Xs_test = ss.transform(X_test)\n",
    "\n",
    "lr.fit(Xs_train, y_train)\n",
    "\n",
    "pca = PCA(random_state=33)\n",
    "pca.fit(Xs_train)"
   ]
  },
  {
   "cell_type": "code",
   "execution_count": 64,
   "id": "b7c892d6-4780-4eb5-a8c1-030127f80291",
   "metadata": {
    "execution": {
     "iopub.execute_input": "2023-01-20T01:01:16.874012Z",
     "iopub.status.busy": "2023-01-20T01:01:16.873586Z",
     "iopub.status.idle": "2023-01-20T01:01:16.878780Z",
     "shell.execute_reply": "2023-01-20T01:01:16.878309Z",
     "shell.execute_reply.started": "2023-01-20T01:01:16.873990Z"
    }
   },
   "outputs": [],
   "source": [
    "Z_train = pca.transform(Xs_train)"
   ]
  },
  {
   "cell_type": "code",
   "execution_count": 65,
   "id": "c467ad78-135a-4af6-9d95-90faf0af57a9",
   "metadata": {
    "execution": {
     "iopub.execute_input": "2023-01-20T01:01:16.879684Z",
     "iopub.status.busy": "2023-01-20T01:01:16.879523Z",
     "iopub.status.idle": "2023-01-20T01:01:16.889254Z",
     "shell.execute_reply": "2023-01-20T01:01:16.888634Z",
     "shell.execute_reply.started": "2023-01-20T01:01:16.879672Z"
    }
   },
   "outputs": [
    {
     "data": {
      "text/html": [
       "<div>\n",
       "<style scoped>\n",
       "    .dataframe tbody tr th:only-of-type {\n",
       "        vertical-align: middle;\n",
       "    }\n",
       "\n",
       "    .dataframe tbody tr th {\n",
       "        vertical-align: top;\n",
       "    }\n",
       "\n",
       "    .dataframe thead th {\n",
       "        text-align: right;\n",
       "    }\n",
       "</style>\n",
       "<table border=\"1\" class=\"dataframe\">\n",
       "  <thead>\n",
       "    <tr style=\"text-align: right;\">\n",
       "      <th></th>\n",
       "      <th>0</th>\n",
       "      <th>1</th>\n",
       "      <th>2</th>\n",
       "      <th>3</th>\n",
       "      <th>4</th>\n",
       "      <th>5</th>\n",
       "      <th>6</th>\n",
       "      <th>7</th>\n",
       "      <th>8</th>\n",
       "      <th>9</th>\n",
       "      <th>...</th>\n",
       "      <th>39</th>\n",
       "      <th>40</th>\n",
       "      <th>41</th>\n",
       "      <th>42</th>\n",
       "      <th>43</th>\n",
       "      <th>44</th>\n",
       "      <th>45</th>\n",
       "      <th>46</th>\n",
       "      <th>47</th>\n",
       "      <th>48</th>\n",
       "    </tr>\n",
       "  </thead>\n",
       "  <tbody>\n",
       "    <tr>\n",
       "      <th>0</th>\n",
       "      <td>9.952528</td>\n",
       "      <td>0.629171</td>\n",
       "      <td>-7.028745</td>\n",
       "      <td>-2.279879</td>\n",
       "      <td>-1.240563</td>\n",
       "      <td>-2.641488</td>\n",
       "      <td>8.266735</td>\n",
       "      <td>1.295069</td>\n",
       "      <td>1.354876</td>\n",
       "      <td>4.929815</td>\n",
       "      <td>...</td>\n",
       "      <td>-0.561190</td>\n",
       "      <td>-0.373115</td>\n",
       "      <td>0.091482</td>\n",
       "      <td>0.111753</td>\n",
       "      <td>-1.090395</td>\n",
       "      <td>-0.126780</td>\n",
       "      <td>-0.090370</td>\n",
       "      <td>0.270292</td>\n",
       "      <td>0.153665</td>\n",
       "      <td>4.038685e-15</td>\n",
       "    </tr>\n",
       "    <tr>\n",
       "      <th>1</th>\n",
       "      <td>7.486290</td>\n",
       "      <td>4.072615</td>\n",
       "      <td>-0.628459</td>\n",
       "      <td>-3.659016</td>\n",
       "      <td>-2.668780</td>\n",
       "      <td>-1.890410</td>\n",
       "      <td>3.202185</td>\n",
       "      <td>-0.137857</td>\n",
       "      <td>-3.429345</td>\n",
       "      <td>1.132275</td>\n",
       "      <td>...</td>\n",
       "      <td>0.025181</td>\n",
       "      <td>1.110744</td>\n",
       "      <td>0.168822</td>\n",
       "      <td>-0.490297</td>\n",
       "      <td>2.402549</td>\n",
       "      <td>-0.728439</td>\n",
       "      <td>-0.600212</td>\n",
       "      <td>-0.222079</td>\n",
       "      <td>-0.253502</td>\n",
       "      <td>1.859194e-15</td>\n",
       "    </tr>\n",
       "  </tbody>\n",
       "</table>\n",
       "<p>2 rows × 49 columns</p>\n",
       "</div>"
      ],
      "text/plain": [
       "         0         1         2         3         4         5         6   \\\n",
       "0  9.952528  0.629171 -7.028745 -2.279879 -1.240563 -2.641488  8.266735   \n",
       "1  7.486290  4.072615 -0.628459 -3.659016 -2.668780 -1.890410  3.202185   \n",
       "\n",
       "         7         8         9   ...        39        40        41        42  \\\n",
       "0  1.295069  1.354876  4.929815  ... -0.561190 -0.373115  0.091482  0.111753   \n",
       "1 -0.137857 -3.429345  1.132275  ...  0.025181  1.110744  0.168822 -0.490297   \n",
       "\n",
       "         43        44        45        46        47            48  \n",
       "0 -1.090395 -0.126780 -0.090370  0.270292  0.153665  4.038685e-15  \n",
       "1  2.402549 -0.728439 -0.600212 -0.222079 -0.253502  1.859194e-15  \n",
       "\n",
       "[2 rows x 49 columns]"
      ]
     },
     "execution_count": 65,
     "metadata": {},
     "output_type": "execute_result"
    }
   ],
   "source": [
    "# sanity check\n",
    "pd.DataFrame(Z_train).head(2)"
   ]
  },
  {
   "cell_type": "code",
   "execution_count": 66,
   "id": "074ed011-af5e-4fcb-b6d2-9a8834293cd2",
   "metadata": {
    "execution": {
     "iopub.execute_input": "2023-01-20T01:01:16.890330Z",
     "iopub.status.busy": "2023-01-20T01:01:16.890181Z",
     "iopub.status.idle": "2023-01-20T01:01:16.893451Z",
     "shell.execute_reply": "2023-01-20T01:01:16.892940Z",
     "shell.execute_reply.started": "2023-01-20T01:01:16.890317Z"
    },
    "tags": []
   },
   "outputs": [
    {
     "name": "stdout",
     "output_type": "stream",
     "text": [
      "Explained variance (first 20 components): [0.141 0.117 0.075 0.058 0.053 0.037 0.036 0.034 0.03  0.028 0.027 0.025\n",
      " 0.024 0.023 0.022 0.019 0.017 0.017 0.015 0.015]\n"
     ]
    }
   ],
   "source": [
    "# First look at cumulative explained variance.\n",
    "variance_explained = pca.explained_variance_ratio_\n",
    "print(f\"Explained variance (first 20 components): {np.round(variance_explained[:20],3)}\")"
   ]
  },
  {
   "cell_type": "code",
   "execution_count": 67,
   "id": "c9de01a8-888b-4334-8d9f-b480c67b0a1f",
   "metadata": {
    "execution": {
     "iopub.execute_input": "2023-01-20T01:01:16.906993Z",
     "iopub.status.busy": "2023-01-20T01:01:16.906636Z",
     "iopub.status.idle": "2023-01-20T01:01:16.910165Z",
     "shell.execute_reply": "2023-01-20T01:01:16.909680Z",
     "shell.execute_reply.started": "2023-01-20T01:01:16.906979Z"
    },
    "tags": []
   },
   "outputs": [
    {
     "name": "stdout",
     "output_type": "stream",
     "text": [
      "Cumulative explained variance (first 20 components): [0.141 0.258 0.333 0.391 0.445 0.482 0.518 0.551 0.581 0.609 0.636 0.66\n",
      " 0.685 0.707 0.729 0.748 0.765 0.781 0.797 0.812]\n",
      "Cumulative explained variance (next 20 components): [0.826 0.839 0.852 0.863 0.874 0.884 0.894 0.903 0.911 0.92  0.927 0.934\n",
      " 0.941 0.948 0.954 0.959 0.964 0.968 0.973 0.977 0.981]\n"
     ]
    }
   ],
   "source": [
    "cumulative_variance_explained = np.cumsum(variance_explained)\n",
    "print(f\"Cumulative explained variance (first 20 components): {np.round(cumulative_variance_explained[:20],3)}\")\n",
    "print(f\"Cumulative explained variance (next 20 components): {np.round(cumulative_variance_explained[20:41],3)}\")"
   ]
  },
  {
   "cell_type": "code",
   "execution_count": 68,
   "id": "d806b702-b187-4192-9c04-7c6054305c0f",
   "metadata": {
    "execution": {
     "iopub.execute_input": "2023-01-20T01:01:16.910928Z",
     "iopub.status.busy": "2023-01-20T01:01:16.910809Z",
     "iopub.status.idle": "2023-01-20T01:01:16.918441Z",
     "shell.execute_reply": "2023-01-20T01:01:16.918051Z",
     "shell.execute_reply.started": "2023-01-20T01:01:16.910916Z"
    },
    "tags": []
   },
   "outputs": [
    {
     "data": {
      "text/html": [
       "<style>#sk-container-id-5 {color: black;background-color: white;}#sk-container-id-5 pre{padding: 0;}#sk-container-id-5 div.sk-toggleable {background-color: white;}#sk-container-id-5 label.sk-toggleable__label {cursor: pointer;display: block;width: 100%;margin-bottom: 0;padding: 0.3em;box-sizing: border-box;text-align: center;}#sk-container-id-5 label.sk-toggleable__label-arrow:before {content: \"▸\";float: left;margin-right: 0.25em;color: #696969;}#sk-container-id-5 label.sk-toggleable__label-arrow:hover:before {color: black;}#sk-container-id-5 div.sk-estimator:hover label.sk-toggleable__label-arrow:before {color: black;}#sk-container-id-5 div.sk-toggleable__content {max-height: 0;max-width: 0;overflow: hidden;text-align: left;background-color: #f0f8ff;}#sk-container-id-5 div.sk-toggleable__content pre {margin: 0.2em;color: black;border-radius: 0.25em;background-color: #f0f8ff;}#sk-container-id-5 input.sk-toggleable__control:checked~div.sk-toggleable__content {max-height: 200px;max-width: 100%;overflow: auto;}#sk-container-id-5 input.sk-toggleable__control:checked~label.sk-toggleable__label-arrow:before {content: \"▾\";}#sk-container-id-5 div.sk-estimator input.sk-toggleable__control:checked~label.sk-toggleable__label {background-color: #d4ebff;}#sk-container-id-5 div.sk-label input.sk-toggleable__control:checked~label.sk-toggleable__label {background-color: #d4ebff;}#sk-container-id-5 input.sk-hidden--visually {border: 0;clip: rect(1px 1px 1px 1px);clip: rect(1px, 1px, 1px, 1px);height: 1px;margin: -1px;overflow: hidden;padding: 0;position: absolute;width: 1px;}#sk-container-id-5 div.sk-estimator {font-family: monospace;background-color: #f0f8ff;border: 1px dotted black;border-radius: 0.25em;box-sizing: border-box;margin-bottom: 0.5em;}#sk-container-id-5 div.sk-estimator:hover {background-color: #d4ebff;}#sk-container-id-5 div.sk-parallel-item::after {content: \"\";width: 100%;border-bottom: 1px solid gray;flex-grow: 1;}#sk-container-id-5 div.sk-label:hover label.sk-toggleable__label {background-color: #d4ebff;}#sk-container-id-5 div.sk-serial::before {content: \"\";position: absolute;border-left: 1px solid gray;box-sizing: border-box;top: 0;bottom: 0;left: 50%;z-index: 0;}#sk-container-id-5 div.sk-serial {display: flex;flex-direction: column;align-items: center;background-color: white;padding-right: 0.2em;padding-left: 0.2em;position: relative;}#sk-container-id-5 div.sk-item {position: relative;z-index: 1;}#sk-container-id-5 div.sk-parallel {display: flex;align-items: stretch;justify-content: center;background-color: white;position: relative;}#sk-container-id-5 div.sk-item::before, #sk-container-id-5 div.sk-parallel-item::before {content: \"\";position: absolute;border-left: 1px solid gray;box-sizing: border-box;top: 0;bottom: 0;left: 50%;z-index: -1;}#sk-container-id-5 div.sk-parallel-item {display: flex;flex-direction: column;z-index: 1;position: relative;background-color: white;}#sk-container-id-5 div.sk-parallel-item:first-child::after {align-self: flex-end;width: 50%;}#sk-container-id-5 div.sk-parallel-item:last-child::after {align-self: flex-start;width: 50%;}#sk-container-id-5 div.sk-parallel-item:only-child::after {width: 0;}#sk-container-id-5 div.sk-dashed-wrapped {border: 1px dashed gray;margin: 0 0.4em 0.5em 0.4em;box-sizing: border-box;padding-bottom: 0.4em;background-color: white;}#sk-container-id-5 div.sk-label label {font-family: monospace;font-weight: bold;display: inline-block;line-height: 1.2em;}#sk-container-id-5 div.sk-label-container {text-align: center;}#sk-container-id-5 div.sk-container {/* jupyter's `normalize.less` sets `[hidden] { display: none; }` but bootstrap.min.css set `[hidden] { display: none !important; }` so we also need the `!important` here to be able to override the default hidden behavior on the sphinx rendered scikit-learn.org. See: https://github.com/scikit-learn/scikit-learn/issues/21755 */display: inline-block !important;position: relative;}#sk-container-id-5 div.sk-text-repr-fallback {display: none;}</style><div id=\"sk-container-id-5\" class=\"sk-top-container\"><div class=\"sk-text-repr-fallback\"><pre>PCA(n_components=30, random_state=33)</pre><b>In a Jupyter environment, please rerun this cell to show the HTML representation or trust the notebook. <br />On GitHub, the HTML representation is unable to render, please try loading this page with nbviewer.org.</b></div><div class=\"sk-container\" hidden><div class=\"sk-item\"><div class=\"sk-estimator sk-toggleable\"><input class=\"sk-toggleable__control sk-hidden--visually\" id=\"sk-estimator-id-5\" type=\"checkbox\" checked><label for=\"sk-estimator-id-5\" class=\"sk-toggleable__label sk-toggleable__label-arrow\">PCA</label><div class=\"sk-toggleable__content\"><pre>PCA(n_components=30, random_state=33)</pre></div></div></div></div></div>"
      ],
      "text/plain": [
       "PCA(n_components=30, random_state=33)"
      ]
     },
     "execution_count": 68,
     "metadata": {},
     "output_type": "execute_result"
    }
   ],
   "source": [
    "# Taking a look at 90% of cummulative variance first.\n",
    "pca = PCA(n_components=30, random_state=33)\n",
    "pca.fit(Xs_train)"
   ]
  },
  {
   "cell_type": "code",
   "execution_count": 69,
   "id": "2dda9517-9c7e-4b43-9c55-de170b4acb44",
   "metadata": {
    "execution": {
     "iopub.execute_input": "2023-01-20T01:01:16.919064Z",
     "iopub.status.busy": "2023-01-20T01:01:16.918943Z",
     "iopub.status.idle": "2023-01-20T01:01:16.927209Z",
     "shell.execute_reply": "2023-01-20T01:01:16.926845Z",
     "shell.execute_reply.started": "2023-01-20T01:01:16.919052Z"
    },
    "tags": []
   },
   "outputs": [
    {
     "name": "stdout",
     "output_type": "stream",
     "text": [
      "Training Score: 0.8176\n",
      "Testing Score: 0.291\n"
     ]
    }
   ],
   "source": [
    "lr = LinearRegression()\n",
    "\n",
    "Z_train = pca.transform(Xs_train)\n",
    "Z_test = pca.transform(Xs_test)\n",
    "\n",
    "lr.fit(Z_train, y_train)\n",
    "\n",
    "print(f\"Training Score: {round(lr.score(Z_train, y_train), 4)}\")\n",
    "print(f\"Testing Score: {round(lr.score(Z_test, y_test), 4)}\")"
   ]
  },
  {
   "cell_type": "code",
   "execution_count": 70,
   "id": "d345dfa9-4c0f-4819-91e5-190d06d37128",
   "metadata": {
    "execution": {
     "iopub.execute_input": "2023-01-20T01:01:16.927939Z",
     "iopub.status.busy": "2023-01-20T01:01:16.927803Z",
     "iopub.status.idle": "2023-01-20T01:01:16.930199Z",
     "shell.execute_reply": "2023-01-20T01:01:16.929745Z",
     "shell.execute_reply.started": "2023-01-20T01:01:16.927924Z"
    },
    "tags": []
   },
   "outputs": [],
   "source": [
    "# # debugging\n",
    "\n",
    "# weights = pca.explained_variance_ratio_\n",
    "# eigenvalues = pca.explained_variance_\n",
    "# eigenvectors = pca.components_\n",
    "# pca.get_feature_names_out\n",
    "# # weights.shape, eigenvalues.shape, eigenvectors.shape\n",
    "# # pd.DataFrame(eigenvectors)\n",
    "# df = pd.DataFrame(weights, eigenvalues)\n",
    "\n",
    "# df.reset_index(inplace=True)\n",
    "# df.rename(columns={'index':'weight', 0:'eigenvalue'}, inplace=True)\n",
    "# df"
   ]
  },
  {
   "cell_type": "markdown",
   "id": "27443d40-fb84-4d98-a0c1-4b5088a6e921",
   "metadata": {},
   "source": [
    "### The clean df I was using does not have all features. Now that we have a working model, let's get every feature and apply our PCA model."
   ]
  },
  {
   "cell_type": "code",
   "execution_count": 71,
   "id": "add38eb0-913f-4c04-a23e-6d78b0701f65",
   "metadata": {
    "execution": {
     "iopub.execute_input": "2023-01-20T01:01:16.931223Z",
     "iopub.status.busy": "2023-01-20T01:01:16.930905Z",
     "iopub.status.idle": "2023-01-20T01:01:16.956546Z",
     "shell.execute_reply": "2023-01-20T01:01:16.956130Z",
     "shell.execute_reply.started": "2023-01-20T01:01:16.931211Z"
    },
    "tags": []
   },
   "outputs": [],
   "source": [
    "m_df = pd.read_csv('./cleaned_data_descriptive/89all.csv', index_col=[0])"
   ]
  },
  {
   "cell_type": "code",
   "execution_count": 72,
   "id": "d2e2e793-9115-4071-a6ff-d36b0ce0077a",
   "metadata": {
    "execution": {
     "iopub.execute_input": "2023-01-20T01:01:16.957124Z",
     "iopub.status.busy": "2023-01-20T01:01:16.957017Z",
     "iopub.status.idle": "2023-01-20T01:01:16.961727Z",
     "shell.execute_reply": "2023-01-20T01:01:16.961382Z",
     "shell.execute_reply.started": "2023-01-20T01:01:16.957115Z"
    },
    "tags": []
   },
   "outputs": [],
   "source": [
    "clean_m = m_df[(m_df['sex'] == 'T') & (m_df['xiang'] == 3)]\\\n",
    ".dropna(axis = 'columns', thresh=10)"
   ]
  },
  {
   "cell_type": "code",
   "execution_count": 73,
   "id": "2ad98393-0150-4b8b-a370-466a668be33e",
   "metadata": {
    "execution": {
     "iopub.execute_input": "2023-01-20T01:01:16.962297Z",
     "iopub.status.busy": "2023-01-20T01:01:16.962185Z",
     "iopub.status.idle": "2023-01-20T01:01:16.964625Z",
     "shell.execute_reply": "2023-01-20T01:01:16.964286Z",
     "shell.execute_reply.started": "2023-01-20T01:01:16.962285Z"
    },
    "tags": []
   },
   "outputs": [],
   "source": [
    "clean_m['county'].fillna('NA', inplace=True)"
   ]
  },
  {
   "cell_type": "code",
   "execution_count": 74,
   "id": "a099bcc2-e733-4be1-a7a6-52f75c76922d",
   "metadata": {
    "execution": {
     "iopub.execute_input": "2023-01-20T01:01:16.965329Z",
     "iopub.status.busy": "2023-01-20T01:01:16.965185Z",
     "iopub.status.idle": "2023-01-20T01:01:16.968282Z",
     "shell.execute_reply": "2023-01-20T01:01:16.967754Z",
     "shell.execute_reply.started": "2023-01-20T01:01:16.965318Z"
    },
    "tags": []
   },
   "outputs": [],
   "source": [
    "# dropping rows with counties that have no mortality data, since that is our target.\n",
    "clean_m.drop(index=[44, 512, 530], inplace=True)"
   ]
  },
  {
   "cell_type": "code",
   "execution_count": 75,
   "id": "889970b4-c0e3-4f7c-9b2d-6fdb1de6d8ab",
   "metadata": {
    "execution": {
     "iopub.execute_input": "2023-01-20T01:01:16.969355Z",
     "iopub.status.busy": "2023-01-20T01:01:16.968858Z",
     "iopub.status.idle": "2023-01-20T01:01:16.972521Z",
     "shell.execute_reply": "2023-01-20T01:01:16.972132Z",
     "shell.execute_reply.started": "2023-01-20T01:01:16.969341Z"
    },
    "tags": []
   },
   "outputs": [
    {
     "data": {
      "text/plain": [
       "(66, 524)"
      ]
     },
     "execution_count": 75,
     "metadata": {},
     "output_type": "execute_result"
    }
   ],
   "source": [
    "clean_m.shape"
   ]
  },
  {
   "cell_type": "code",
   "execution_count": 76,
   "id": "e1a5ebf7-9bd0-46e9-a4c5-903d2d07ee47",
   "metadata": {
    "execution": {
     "iopub.execute_input": "2023-01-20T01:01:16.973563Z",
     "iopub.status.busy": "2023-01-20T01:01:16.973160Z",
     "iopub.status.idle": "2023-01-20T01:01:16.978435Z",
     "shell.execute_reply": "2023-01-20T01:01:16.978056Z",
     "shell.execute_reply.started": "2023-01-20T01:01:16.973551Z"
    },
    "tags": []
   },
   "outputs": [
    {
     "data": {
      "text/plain": [
       "m119_DROWNa       8\n",
       "m094_ACCIDENTc    8\n",
       "m100_SUICIDEc     8\n",
       "m099_SUICIDEb     8\n",
       "m098_DROWNc       8\n",
       "m097_DROWNb       8\n",
       "m096_ROADACCc     8\n",
       "m095_ROADACCb     8\n",
       "m093_ACCIDENTb    8\n",
       "m102_HOMICIDEc    8\n",
       "m101_HOMICIDEb    8\n",
       "q116              4\n",
       "q114              4\n",
       "q113              4\n",
       "q112              4\n",
       "q111              4\n",
       "p007              4\n",
       "q115              4\n",
       "p029              4\n",
       "p035              3\n",
       "dtype: int64"
      ]
     },
     "execution_count": 76,
     "metadata": {},
     "output_type": "execute_result"
    }
   ],
   "source": [
    "clean_m.isna().sum().sort_values(ascending=False)[:20]"
   ]
  },
  {
   "cell_type": "code",
   "execution_count": 77,
   "id": "4d267da0-5bc1-49e4-aadb-9fe80026626b",
   "metadata": {
    "execution": {
     "iopub.execute_input": "2023-01-20T01:01:16.979800Z",
     "iopub.status.busy": "2023-01-20T01:01:16.979300Z",
     "iopub.status.idle": "2023-01-20T01:01:16.983535Z",
     "shell.execute_reply": "2023-01-20T01:01:16.983080Z",
     "shell.execute_reply.started": "2023-01-20T01:01:16.979787Z"
    },
    "tags": []
   },
   "outputs": [
    {
     "data": {
      "text/plain": [
       "0.4794595183611202"
      ]
     },
     "execution_count": 77,
     "metadata": {},
     "output_type": "execute_result"
    }
   ],
   "source": [
    "clean_m.isna().sum().sum()/(69*399)*100 # Total % missing data"
   ]
  },
  {
   "cell_type": "markdown",
   "id": "ca6b9d0b-eb1c-4cc2-8305-caeca4248c74",
   "metadata": {},
   "source": [
    "For Linear Reg we need continuous data. We have decided to run simple imputer and impute the mean for any missing data. There are at most 8 NA values for some of the columns but not all. Since we have less than 1% missing data, the imputation should not have a reasonably measurable affect on our calculations. "
   ]
  },
  {
   "cell_type": "code",
   "execution_count": 78,
   "id": "ee0b27bf-c47d-4e86-8051-d89484b7245c",
   "metadata": {
    "execution": {
     "iopub.execute_input": "2023-01-20T01:01:16.984277Z",
     "iopub.status.busy": "2023-01-20T01:01:16.984162Z",
     "iopub.status.idle": "2023-01-20T01:01:16.987273Z",
     "shell.execute_reply": "2023-01-20T01:01:16.986742Z",
     "shell.execute_reply.started": "2023-01-20T01:01:16.984266Z"
    },
    "tags": []
   },
   "outputs": [],
   "source": [
    "# We're not using the County, Sex, or Xiang for the modeling step. I will drop these columns for now\n",
    "\n",
    "model_df = clean_m.drop(columns = ['county', 'sex', 'xiang'])"
   ]
  },
  {
   "cell_type": "code",
   "execution_count": 79,
   "id": "173f722a-acf9-4440-a11a-e7ec9837f05a",
   "metadata": {
    "execution": {
     "iopub.execute_input": "2023-01-20T01:01:16.988016Z",
     "iopub.status.busy": "2023-01-20T01:01:16.987844Z",
     "iopub.status.idle": "2023-01-20T01:01:16.997307Z",
     "shell.execute_reply": "2023-01-20T01:01:16.996793Z",
     "shell.execute_reply.started": "2023-01-20T01:01:16.988003Z"
    },
    "tags": []
   },
   "outputs": [
    {
     "data": {
      "text/html": [
       "<div>\n",
       "<style scoped>\n",
       "    .dataframe tbody tr th:only-of-type {\n",
       "        vertical-align: middle;\n",
       "    }\n",
       "\n",
       "    .dataframe tbody tr th {\n",
       "        vertical-align: top;\n",
       "    }\n",
       "\n",
       "    .dataframe thead th {\n",
       "        text-align: right;\n",
       "    }\n",
       "</style>\n",
       "<table border=\"1\" class=\"dataframe\">\n",
       "  <thead>\n",
       "    <tr style=\"text-align: right;\">\n",
       "      <th></th>\n",
       "      <th>q001</th>\n",
       "      <th>q002</th>\n",
       "      <th>q003</th>\n",
       "      <th>q004</th>\n",
       "      <th>q005</th>\n",
       "      <th>q006</th>\n",
       "      <th>q007</th>\n",
       "      <th>q008</th>\n",
       "      <th>q009</th>\n",
       "      <th>q010</th>\n",
       "      <th>...</th>\n",
       "      <th>m110_CONGENITa</th>\n",
       "      <th>m111_NTDa</th>\n",
       "      <th>m112_CONGENHDa</th>\n",
       "      <th>m113_PERINATa</th>\n",
       "      <th>m114_LOWBTHWTa</th>\n",
       "      <th>m115_BTHTRAUMa</th>\n",
       "      <th>m116_RDSa</th>\n",
       "      <th>m117_NEOTETANa</th>\n",
       "      <th>m118_MALNUTRIa</th>\n",
       "      <th>m119_DROWNa</th>\n",
       "    </tr>\n",
       "  </thead>\n",
       "  <tbody>\n",
       "    <tr>\n",
       "      <th>8</th>\n",
       "      <td>19.7</td>\n",
       "      <td>11.0</td>\n",
       "      <td>5.4</td>\n",
       "      <td>1748.0</td>\n",
       "      <td>7.3</td>\n",
       "      <td>0.0</td>\n",
       "      <td>4.2</td>\n",
       "      <td>27.1</td>\n",
       "      <td>20.7</td>\n",
       "      <td>40.2</td>\n",
       "      <td>...</td>\n",
       "      <td>3.26</td>\n",
       "      <td>0.39</td>\n",
       "      <td>1.24</td>\n",
       "      <td>6.99</td>\n",
       "      <td>2.25</td>\n",
       "      <td>2.02</td>\n",
       "      <td>0.54</td>\n",
       "      <td>0.0</td>\n",
       "      <td>0.0</td>\n",
       "      <td>3.09</td>\n",
       "    </tr>\n",
       "  </tbody>\n",
       "</table>\n",
       "<p>1 rows × 521 columns</p>\n",
       "</div>"
      ],
      "text/plain": [
       "   q001  q002  q003    q004  q005  q006  q007  q008  q009  q010  ...  \\\n",
       "8  19.7  11.0   5.4  1748.0   7.3   0.0   4.2  27.1  20.7  40.2  ...   \n",
       "\n",
       "   m110_CONGENITa  m111_NTDa  m112_CONGENHDa  m113_PERINATa  m114_LOWBTHWTa  \\\n",
       "8            3.26       0.39            1.24           6.99            2.25   \n",
       "\n",
       "   m115_BTHTRAUMa  m116_RDSa  m117_NEOTETANa  m118_MALNUTRIa  m119_DROWNa  \n",
       "8            2.02       0.54             0.0             0.0         3.09  \n",
       "\n",
       "[1 rows x 521 columns]"
      ]
     },
     "execution_count": 79,
     "metadata": {},
     "output_type": "execute_result"
    }
   ],
   "source": [
    "model_df.head(1) # sanity check"
   ]
  },
  {
   "cell_type": "code",
   "execution_count": 80,
   "id": "a868f01a-1044-491f-866c-79ea1d671770",
   "metadata": {
    "execution": {
     "iopub.execute_input": "2023-01-20T01:01:16.998562Z",
     "iopub.status.busy": "2023-01-20T01:01:16.998287Z",
     "iopub.status.idle": "2023-01-20T01:01:17.003338Z",
     "shell.execute_reply": "2023-01-20T01:01:17.002757Z",
     "shell.execute_reply.started": "2023-01-20T01:01:16.998531Z"
    },
    "tags": []
   },
   "outputs": [],
   "source": [
    "# code from Will to filter columns\n",
    "filtered_df = model_df[[col for col in model_df.columns if not col.startswith('m')]].columns.to_list() # getting rid of mortality columns\n",
    "mortalities = model_df[[col for col in model_df.columns if col.startswith('m')]].columns.to_list() # target only mortality columns\n",
    "\n",
    "# sanity check\n",
    "# filtered_df\n",
    "# mortalities"
   ]
  },
  {
   "cell_type": "code",
   "execution_count": 81,
   "id": "5f28b18f-d978-4227-8fa2-cfa83af05165",
   "metadata": {
    "execution": {
     "iopub.execute_input": "2023-01-20T01:01:17.004577Z",
     "iopub.status.busy": "2023-01-20T01:01:17.004312Z",
     "iopub.status.idle": "2023-01-20T01:01:19.258033Z",
     "shell.execute_reply": "2023-01-20T01:01:19.257593Z",
     "shell.execute_reply.started": "2023-01-20T01:01:17.004563Z"
    },
    "tags": []
   },
   "outputs": [],
   "source": [
    "# Editing the loop from prior to perform the PCA above in one go.\n",
    "# imp_features df will contain all the corr. coef/weights from each feature\n",
    "# pca_feat = pd.DataFrame()\n",
    "lr = LinearRegression()\n",
    "ss = StandardScaler()\n",
    "imputer = SimpleImputer(strategy='mean')\n",
    "\n",
    "for i in mortalities:\n",
    "\n",
    "    X = model_df.drop(columns = mortalities)\n",
    "    y = model_df[i]\n",
    "    \n",
    "    X_train, X_test, y_train, y_test = train_test_split(X, y, random_state=33)\n",
    "    # addressing NaN with Simple Imputer\n",
    "    pca_pipe = Pipeline([\n",
    "        ('imputer', SimpleImputer(strategy='mean')),\n",
    "        ('pca', PCA(n_components=30, random_state=33))\n",
    "    ])\n",
    "\n",
    "    pca_pipe.fit(X_train)\n",
    "    Z_train = pca_pipe.transform(X_train)\n",
    "    Z_test = pca_pipe.transform(X_test)\n",
    "    # There are missing Y values as well\n",
    "    Zy_train = imputer.fit_transform(y_train.values.reshape(-1,1))\n",
    "    Zy_test = imputer.transform(y_test.values.reshape(-1,1))\n",
    "\n",
    "    lr.fit(Z_train, Zy_train)\n",
    "    \n",
    "    mortal = i\n",
    "\n",
    "    update_df2(lr, mortal, Z_train, Z_test, Zy_train, Zy_test)\n",
    "    "
   ]
  },
  {
   "cell_type": "code",
   "execution_count": 82,
   "id": "c84b3a56-68ec-4f69-86ac-78e2cbf7d37d",
   "metadata": {
    "execution": {
     "iopub.execute_input": "2023-01-20T01:01:19.258953Z",
     "iopub.status.busy": "2023-01-20T01:01:19.258838Z",
     "iopub.status.idle": "2023-01-20T01:01:19.261292Z",
     "shell.execute_reply": "2023-01-20T01:01:19.260894Z",
     "shell.execute_reply.started": "2023-01-20T01:01:19.258944Z"
    },
    "tags": []
   },
   "outputs": [],
   "source": [
    "pd.set_option('display.max_rows', 120) \n",
    "# for the purposes of exploring the dataframe, increasing rows display"
   ]
  },
  {
   "cell_type": "code",
   "execution_count": 83,
   "id": "09aebe31-38c7-438d-a6d6-5ef08c569952",
   "metadata": {
    "execution": {
     "iopub.execute_input": "2023-01-20T01:01:19.261904Z",
     "iopub.status.busy": "2023-01-20T01:01:19.261790Z",
     "iopub.status.idle": "2023-01-20T01:01:19.267144Z",
     "shell.execute_reply": "2023-01-20T01:01:19.266805Z",
     "shell.execute_reply.started": "2023-01-20T01:01:19.261894Z"
    },
    "tags": []
   },
   "outputs": [
    {
     "data": {
      "text/html": [
       "<div>\n",
       "<style scoped>\n",
       "    .dataframe tbody tr th:only-of-type {\n",
       "        vertical-align: middle;\n",
       "    }\n",
       "\n",
       "    .dataframe tbody tr th {\n",
       "        vertical-align: top;\n",
       "    }\n",
       "\n",
       "    .dataframe thead th {\n",
       "        text-align: right;\n",
       "    }\n",
       "</style>\n",
       "<table border=\"1\" class=\"dataframe\">\n",
       "  <thead>\n",
       "    <tr style=\"text-align: right;\">\n",
       "      <th></th>\n",
       "      <th>Model</th>\n",
       "      <th>Train Score</th>\n",
       "      <th>Val Score</th>\n",
       "      <th>X Val Score</th>\n",
       "      <th>RMSE Train</th>\n",
       "      <th>RMSE Val</th>\n",
       "    </tr>\n",
       "  </thead>\n",
       "  <tbody>\n",
       "    <tr>\n",
       "      <th>20</th>\n",
       "      <td>m021_SCHISTOc</td>\n",
       "      <td>0.613914</td>\n",
       "      <td>0.483293</td>\n",
       "      <td>-47.596249</td>\n",
       "      <td>8.353593</td>\n",
       "      <td>13.793917</td>\n",
       "    </tr>\n",
       "    <tr>\n",
       "      <th>28</th>\n",
       "      <td>m029_COLRECCAc</td>\n",
       "      <td>0.667518</td>\n",
       "      <td>0.333005</td>\n",
       "      <td>-36.798132</td>\n",
       "      <td>6.219472</td>\n",
       "      <td>6.719698</td>\n",
       "    </tr>\n",
       "    <tr>\n",
       "      <th>69</th>\n",
       "      <td>m074_DIGESTIVc</td>\n",
       "      <td>0.800639</td>\n",
       "      <td>0.292170</td>\n",
       "      <td>-9.313813</td>\n",
       "      <td>21.770840</td>\n",
       "      <td>34.741611</td>\n",
       "    </tr>\n",
       "  </tbody>\n",
       "</table>\n",
       "</div>"
      ],
      "text/plain": [
       "             Model  Train Score  Val Score  X Val Score  RMSE Train   RMSE Val\n",
       "20   m021_SCHISTOc     0.613914   0.483293   -47.596249    8.353593  13.793917\n",
       "28  m029_COLRECCAc     0.667518   0.333005   -36.798132    6.219472   6.719698\n",
       "69  m074_DIGESTIVc     0.800639   0.292170    -9.313813   21.770840  34.741611"
      ]
     },
     "execution_count": 83,
     "metadata": {},
     "output_type": "execute_result"
    }
   ],
   "source": [
    "pca_result.sort_values(by= 'Val Score', ascending=False).head(3)"
   ]
  },
  {
   "cell_type": "markdown",
   "id": "7618add8-9d7d-4091-a715-46a78b0e0809",
   "metadata": {},
   "source": [
    "Just to be certain, let's see data based on the male/female split if we have it\n",
    "\n",
    "### Note: There are some features that do not have the male/female split and only have the total average. The diet csv in particular does not have this granular split and won't show up in the M/F modelings. "
   ]
  },
  {
   "cell_type": "code",
   "execution_count": 84,
   "id": "8a6f7d64-fd64-458e-98bc-eeb36943e8b8",
   "metadata": {
    "execution": {
     "iopub.execute_input": "2023-01-20T01:01:19.268055Z",
     "iopub.status.busy": "2023-01-20T01:01:19.267756Z",
     "iopub.status.idle": "2023-01-20T01:01:19.274991Z",
     "shell.execute_reply": "2023-01-20T01:01:19.274621Z",
     "shell.execute_reply.started": "2023-01-20T01:01:19.268043Z"
    },
    "tags": []
   },
   "outputs": [],
   "source": [
    "male = m_df[(m_df['sex'] == 'M') & (m_df['xiang'] == 3)]\\\n",
    ".dropna(axis = 'columns', thresh=10)\n",
    "male['county'].fillna('NA', inplace=True)\n",
    "\n",
    "female = m_df[(m_df['sex'] == 'F') & (m_df['xiang'] == 3)]\\\n",
    ".dropna(axis = 'columns', thresh=10)\n",
    "female['county'].fillna('NA', inplace=True)\n",
    "\n",
    "male_df = male.drop(columns = ['county', 'sex', 'xiang'])\n",
    "female_df = female.drop(columns = ['county', 'sex', 'xiang'])"
   ]
  },
  {
   "cell_type": "code",
   "execution_count": 85,
   "id": "6ff8afdc-1906-4926-91e7-fb3ad9170971",
   "metadata": {
    "execution": {
     "iopub.execute_input": "2023-01-20T01:01:19.275681Z",
     "iopub.status.busy": "2023-01-20T01:01:19.275567Z",
     "iopub.status.idle": "2023-01-20T01:01:19.280967Z",
     "shell.execute_reply": "2023-01-20T01:01:19.280513Z",
     "shell.execute_reply.started": "2023-01-20T01:01:19.275669Z"
    },
    "tags": []
   },
   "outputs": [],
   "source": [
    "filtered_m = male_df[[col for col in male_df.columns if not col.startswith('m')]].columns.to_list() # getting rid of mortality columns\n",
    "mortalities_m = male_df[[col for col in male_df.columns if col.startswith('m')]].columns.to_list() # target only mortality columns\n",
    "\n",
    "filtered_f = female_df[[col for col in female_df.columns if not col.startswith('m')]].columns.to_list() # getting rid of mortality columns\n",
    "mortalities_f = female_df[[col for col in female_df.columns if col.startswith('m')]].columns.to_list() # target only mortality columns\n",
    "\n",
    "# mortalities_f.append('m084_GENITURmc')"
   ]
  },
  {
   "cell_type": "code",
   "execution_count": 86,
   "id": "5ca4facc-1a38-42b4-b010-5c717b8ce373",
   "metadata": {
    "execution": {
     "iopub.execute_input": "2023-01-20T01:01:19.281775Z",
     "iopub.status.busy": "2023-01-20T01:01:19.281660Z",
     "iopub.status.idle": "2023-01-20T01:01:19.285248Z",
     "shell.execute_reply": "2023-01-20T01:01:19.284869Z",
     "shell.execute_reply.started": "2023-01-20T01:01:19.281764Z"
    },
    "tags": []
   },
   "outputs": [
    {
     "data": {
      "text/plain": [
       "Int64Index([  5,  14,  23,  32,  41,  50,  59,  68,  77,  86,  95, 104, 113,\n",
       "            122, 131, 140, 149, 158, 167, 176, 185, 194, 203, 212, 221, 230,\n",
       "            239, 248, 257, 266, 275, 284, 293, 302, 311, 320, 329, 338, 347,\n",
       "            356, 365, 374, 383, 392, 401, 410, 419, 428, 437, 446, 455, 464,\n",
       "            473, 482, 491, 500, 509, 518, 527, 536, 545, 554, 563, 572, 581,\n",
       "            590, 599, 608, 617],\n",
       "           dtype='int64')"
      ]
     },
     "execution_count": 86,
     "metadata": {},
     "output_type": "execute_result"
    }
   ],
   "source": [
    "female_df.index"
   ]
  },
  {
   "cell_type": "code",
   "execution_count": 87,
   "id": "f0c0ffe0-feef-492d-97e8-96b5809f9df1",
   "metadata": {
    "execution": {
     "iopub.execute_input": "2023-01-20T01:01:19.285887Z",
     "iopub.status.busy": "2023-01-20T01:01:19.285780Z",
     "iopub.status.idle": "2023-01-20T01:01:19.288115Z",
     "shell.execute_reply": "2023-01-20T01:01:19.287738Z",
     "shell.execute_reply.started": "2023-01-20T01:01:19.285876Z"
    },
    "tags": []
   },
   "outputs": [],
   "source": [
    "# mortalities_f\n",
    "# mortalities_m"
   ]
  },
  {
   "cell_type": "code",
   "execution_count": 88,
   "id": "e0fdcd7f-2e33-46f3-b52e-a0cba6ee887f",
   "metadata": {
    "execution": {
     "iopub.execute_input": "2023-01-20T01:01:19.288775Z",
     "iopub.status.busy": "2023-01-20T01:01:19.288663Z",
     "iopub.status.idle": "2023-01-20T01:01:21.907900Z",
     "shell.execute_reply": "2023-01-20T01:01:21.907455Z",
     "shell.execute_reply.started": "2023-01-20T01:01:19.288764Z"
    }
   },
   "outputs": [],
   "source": [
    "# for only male\n",
    "lr = LinearRegression()\n",
    "ss = StandardScaler()\n",
    "imputer = SimpleImputer(strategy='mean')\n",
    "\n",
    "for i in mortalities_m:\n",
    "\n",
    "    X = male_df.drop(columns = mortalities_m)\n",
    "    y = male_df[i]\n",
    "    \n",
    "    X_train, X_test, y_train, y_test = train_test_split(X, y, random_state=33)\n",
    "    # addressing NaN with Simple Imputer\n",
    "    pca_pipe = Pipeline([\n",
    "        ('imputer', SimpleImputer(strategy='mean')),\n",
    "        ('pca', PCA(n_components=30, random_state=33))\n",
    "    ])\n",
    "\n",
    "    pca_pipe.fit(X_train)\n",
    "    Z_train = pca_pipe.transform(X_train)\n",
    "    Z_test = pca_pipe.transform(X_test)\n",
    "    # There are missing Y values as well\n",
    "    Zy_train = imputer.fit_transform(y_train.values.reshape(-1,1))\n",
    "    Zy_test = imputer.transform(y_test.values.reshape(-1,1))\n",
    "\n",
    "    lr.fit(Z_train, Zy_train)\n",
    "    \n",
    "    mortal = i\n",
    "\n",
    "    update_dfm(lr, mortal, Z_train, Z_test, Zy_train, Zy_test)"
   ]
  },
  {
   "cell_type": "code",
   "execution_count": 89,
   "id": "372fa4e8-3a0e-4e58-904c-da8359ca6d83",
   "metadata": {
    "execution": {
     "iopub.execute_input": "2023-01-20T01:01:21.908554Z",
     "iopub.status.busy": "2023-01-20T01:01:21.908440Z",
     "iopub.status.idle": "2023-01-20T01:01:21.913866Z",
     "shell.execute_reply": "2023-01-20T01:01:21.913499Z",
     "shell.execute_reply.started": "2023-01-20T01:01:21.908546Z"
    },
    "tags": []
   },
   "outputs": [
    {
     "data": {
      "text/html": [
       "<div>\n",
       "<style scoped>\n",
       "    .dataframe tbody tr th:only-of-type {\n",
       "        vertical-align: middle;\n",
       "    }\n",
       "\n",
       "    .dataframe tbody tr th {\n",
       "        vertical-align: top;\n",
       "    }\n",
       "\n",
       "    .dataframe thead th {\n",
       "        text-align: right;\n",
       "    }\n",
       "</style>\n",
       "<table border=\"1\" class=\"dataframe\">\n",
       "  <thead>\n",
       "    <tr style=\"text-align: right;\">\n",
       "      <th></th>\n",
       "      <th>Model</th>\n",
       "      <th>Train Score</th>\n",
       "      <th>Val Score</th>\n",
       "      <th>X Val Score</th>\n",
       "      <th>RMSE Train</th>\n",
       "      <th>RMSE Val</th>\n",
       "    </tr>\n",
       "  </thead>\n",
       "  <tbody>\n",
       "    <tr>\n",
       "      <th>24</th>\n",
       "      <td>m025_NASOPCAc</td>\n",
       "      <td>0.812214</td>\n",
       "      <td>0.411716</td>\n",
       "      <td>-2.023701</td>\n",
       "      <td>4.483514</td>\n",
       "      <td>11.779016</td>\n",
       "    </tr>\n",
       "    <tr>\n",
       "      <th>25</th>\n",
       "      <td>m026_NPConlyc</td>\n",
       "      <td>0.801074</td>\n",
       "      <td>0.405544</td>\n",
       "      <td>-3.053718</td>\n",
       "      <td>4.579515</td>\n",
       "      <td>11.937376</td>\n",
       "    </tr>\n",
       "    <tr>\n",
       "      <th>41</th>\n",
       "      <td>m045_DIABETESc</td>\n",
       "      <td>0.741111</td>\n",
       "      <td>0.393631</td>\n",
       "      <td>-3.146512</td>\n",
       "      <td>2.019004</td>\n",
       "      <td>2.913084</td>\n",
       "    </tr>\n",
       "    <tr>\n",
       "      <th>29</th>\n",
       "      <td>m030_LIVERCAb</td>\n",
       "      <td>0.526453</td>\n",
       "      <td>0.295090</td>\n",
       "      <td>-42.214982</td>\n",
       "      <td>7.278264</td>\n",
       "      <td>8.388829</td>\n",
       "    </tr>\n",
       "    <tr>\n",
       "      <th>76</th>\n",
       "      <td>m080_TOTLIVRb</td>\n",
       "      <td>0.627599</td>\n",
       "      <td>0.271541</td>\n",
       "      <td>-13.593773</td>\n",
       "      <td>7.197837</td>\n",
       "      <td>11.307100</td>\n",
       "    </tr>\n",
       "    <tr>\n",
       "      <th>21</th>\n",
       "      <td>m022_ALLCAb</td>\n",
       "      <td>0.521752</td>\n",
       "      <td>0.221878</td>\n",
       "      <td>-13.424151</td>\n",
       "      <td>7.817681</td>\n",
       "      <td>9.584481</td>\n",
       "    </tr>\n",
       "    <tr>\n",
       "      <th>108</th>\n",
       "      <td>m116_RDSa</td>\n",
       "      <td>0.746723</td>\n",
       "      <td>0.192109</td>\n",
       "      <td>-13.229107</td>\n",
       "      <td>0.746684</td>\n",
       "      <td>1.821660</td>\n",
       "    </tr>\n",
       "    <tr>\n",
       "      <th>6</th>\n",
       "      <td>m007_MEDICALb</td>\n",
       "      <td>0.922245</td>\n",
       "      <td>0.134304</td>\n",
       "      <td>-1.166828</td>\n",
       "      <td>17.334181</td>\n",
       "      <td>48.664286</td>\n",
       "    </tr>\n",
       "    <tr>\n",
       "      <th>57</th>\n",
       "      <td>m061_RHEUMHDc</td>\n",
       "      <td>0.745856</td>\n",
       "      <td>0.128032</td>\n",
       "      <td>-4.563586</td>\n",
       "      <td>9.184965</td>\n",
       "      <td>16.692330</td>\n",
       "    </tr>\n",
       "    <tr>\n",
       "      <th>38</th>\n",
       "      <td>m042_LEUKEMIAc</td>\n",
       "      <td>0.579781</td>\n",
       "      <td>0.077252</td>\n",
       "      <td>-24.100916</td>\n",
       "      <td>3.045389</td>\n",
       "      <td>3.689613</td>\n",
       "    </tr>\n",
       "  </tbody>\n",
       "</table>\n",
       "</div>"
      ],
      "text/plain": [
       "              Model  Train Score  Val Score  X Val Score  RMSE Train  \\\n",
       "24    m025_NASOPCAc     0.812214   0.411716    -2.023701    4.483514   \n",
       "25    m026_NPConlyc     0.801074   0.405544    -3.053718    4.579515   \n",
       "41   m045_DIABETESc     0.741111   0.393631    -3.146512    2.019004   \n",
       "29    m030_LIVERCAb     0.526453   0.295090   -42.214982    7.278264   \n",
       "76    m080_TOTLIVRb     0.627599   0.271541   -13.593773    7.197837   \n",
       "21      m022_ALLCAb     0.521752   0.221878   -13.424151    7.817681   \n",
       "108       m116_RDSa     0.746723   0.192109   -13.229107    0.746684   \n",
       "6     m007_MEDICALb     0.922245   0.134304    -1.166828   17.334181   \n",
       "57    m061_RHEUMHDc     0.745856   0.128032    -4.563586    9.184965   \n",
       "38   m042_LEUKEMIAc     0.579781   0.077252   -24.100916    3.045389   \n",
       "\n",
       "      RMSE Val  \n",
       "24   11.779016  \n",
       "25   11.937376  \n",
       "41    2.913084  \n",
       "29    8.388829  \n",
       "76   11.307100  \n",
       "21    9.584481  \n",
       "108   1.821660  \n",
       "6    48.664286  \n",
       "57   16.692330  \n",
       "38    3.689613  "
      ]
     },
     "execution_count": 89,
     "metadata": {},
     "output_type": "execute_result"
    }
   ],
   "source": [
    "pca_m.sort_values(by='Val Score', ascending=False).head(10)"
   ]
  },
  {
   "cell_type": "code",
   "execution_count": 90,
   "id": "3b35cbc1-3613-4b84-aa7d-6c7224eddc00",
   "metadata": {
    "execution": {
     "iopub.execute_input": "2023-01-20T01:01:21.914627Z",
     "iopub.status.busy": "2023-01-20T01:01:21.914509Z",
     "iopub.status.idle": "2023-01-20T01:01:23.949829Z",
     "shell.execute_reply": "2023-01-20T01:01:23.949406Z",
     "shell.execute_reply.started": "2023-01-20T01:01:21.914615Z"
    },
    "tags": []
   },
   "outputs": [],
   "source": [
    "# for only female\n",
    "lr = LinearRegression()\n",
    "ss = StandardScaler()\n",
    "imputer = SimpleImputer(strategy='mean')\n",
    "\n",
    "for i in mortalities_f:\n",
    "\n",
    "    X = female_df.drop(columns = mortalities_f)\n",
    "    y = female_df[i]\n",
    "    \n",
    "    X_train, X_test, y_train, y_test = train_test_split(X, y, random_state=33)\n",
    "    # addressing NaN with Simple Imputer\n",
    "    pca_pipe = Pipeline([\n",
    "        ('imputer', SimpleImputer(strategy='mean')),\n",
    "        ('pca', PCA(n_components=30, random_state=33))\n",
    "    ])\n",
    "\n",
    "    pca_pipe.fit(X_train)\n",
    "    Z_train = pca_pipe.transform(X_train)\n",
    "    Z_test = pca_pipe.transform(X_test)\n",
    "    # There are missing Y values as well\n",
    "    Zy_train = imputer.fit_transform(y_train.values.reshape(-1,1))\n",
    "    Zy_test = imputer.transform(y_test.values.reshape(-1,1))\n",
    "\n",
    "    lr.fit(Z_train, Zy_train)\n",
    "    \n",
    "    mortal = i\n",
    "\n",
    "    update_dff(lr, mortal, Z_train, Z_test, Zy_train, Zy_test)"
   ]
  },
  {
   "cell_type": "code",
   "execution_count": 91,
   "id": "bade32a6-eecb-472c-ac81-51366dfba745",
   "metadata": {
    "execution": {
     "iopub.execute_input": "2023-01-20T01:01:23.950354Z",
     "iopub.status.busy": "2023-01-20T01:01:23.950259Z",
     "iopub.status.idle": "2023-01-20T01:01:23.956033Z",
     "shell.execute_reply": "2023-01-20T01:01:23.955631Z",
     "shell.execute_reply.started": "2023-01-20T01:01:23.950345Z"
    },
    "tags": []
   },
   "outputs": [
    {
     "data": {
      "text/html": [
       "<div>\n",
       "<style scoped>\n",
       "    .dataframe tbody tr th:only-of-type {\n",
       "        vertical-align: middle;\n",
       "    }\n",
       "\n",
       "    .dataframe tbody tr th {\n",
       "        vertical-align: top;\n",
       "    }\n",
       "\n",
       "    .dataframe thead th {\n",
       "        text-align: right;\n",
       "    }\n",
       "</style>\n",
       "<table border=\"1\" class=\"dataframe\">\n",
       "  <thead>\n",
       "    <tr style=\"text-align: right;\">\n",
       "      <th></th>\n",
       "      <th>Model</th>\n",
       "      <th>Train Score</th>\n",
       "      <th>Val Score</th>\n",
       "      <th>X Val Score</th>\n",
       "      <th>RMSE Train</th>\n",
       "      <th>RMSE Val</th>\n",
       "    </tr>\n",
       "  </thead>\n",
       "  <tbody>\n",
       "    <tr>\n",
       "      <th>65</th>\n",
       "      <td>m067_VASC-STRc</td>\n",
       "      <td>0.870691</td>\n",
       "      <td>0.623519</td>\n",
       "      <td>-7.248974</td>\n",
       "      <td>21.976172</td>\n",
       "      <td>46.208054</td>\n",
       "    </tr>\n",
       "    <tr>\n",
       "      <th>20</th>\n",
       "      <td>m021_SCHISTOc</td>\n",
       "      <td>0.617527</td>\n",
       "      <td>0.429294</td>\n",
       "      <td>-41.069671</td>\n",
       "      <td>8.533500</td>\n",
       "      <td>12.435517</td>\n",
       "    </tr>\n",
       "    <tr>\n",
       "      <th>57</th>\n",
       "      <td>m059_ALLVASCc</td>\n",
       "      <td>0.844042</td>\n",
       "      <td>0.418893</td>\n",
       "      <td>-2.748473</td>\n",
       "      <td>0.473971</td>\n",
       "      <td>1.807995</td>\n",
       "    </tr>\n",
       "    <tr>\n",
       "      <th>5</th>\n",
       "      <td>m006_ALL70_79</td>\n",
       "      <td>0.800076</td>\n",
       "      <td>0.370323</td>\n",
       "      <td>-5.957991</td>\n",
       "      <td>10.470767</td>\n",
       "      <td>17.789164</td>\n",
       "    </tr>\n",
       "    <tr>\n",
       "      <th>73</th>\n",
       "      <td>m075_PEPULCERc</td>\n",
       "      <td>0.753725</td>\n",
       "      <td>0.314051</td>\n",
       "      <td>-22.323206</td>\n",
       "      <td>6.056436</td>\n",
       "      <td>6.554557</td>\n",
       "    </tr>\n",
       "    <tr>\n",
       "      <th>59</th>\n",
       "      <td>m061_RHEUMHDc</td>\n",
       "      <td>0.699266</td>\n",
       "      <td>0.291097</td>\n",
       "      <td>-4.146401</td>\n",
       "      <td>12.084555</td>\n",
       "      <td>28.366838</td>\n",
       "    </tr>\n",
       "    <tr>\n",
       "      <th>63</th>\n",
       "      <td>m065_STROKEc</td>\n",
       "      <td>0.800397</td>\n",
       "      <td>0.286693</td>\n",
       "      <td>-8.826117</td>\n",
       "      <td>35.294302</td>\n",
       "      <td>139.065699</td>\n",
       "    </tr>\n",
       "    <tr>\n",
       "      <th>88</th>\n",
       "      <td>m091_ILL_DEFb</td>\n",
       "      <td>0.695072</td>\n",
       "      <td>0.244659</td>\n",
       "      <td>-8.591797</td>\n",
       "      <td>1.036602</td>\n",
       "      <td>1.691644</td>\n",
       "    </tr>\n",
       "    <tr>\n",
       "      <th>24</th>\n",
       "      <td>m025_NASOPCAc</td>\n",
       "      <td>0.622265</td>\n",
       "      <td>0.220303</td>\n",
       "      <td>-11.199763</td>\n",
       "      <td>2.707513</td>\n",
       "      <td>6.319335</td>\n",
       "    </tr>\n",
       "    <tr>\n",
       "      <th>25</th>\n",
       "      <td>m026_NPConlyc</td>\n",
       "      <td>0.598167</td>\n",
       "      <td>0.165908</td>\n",
       "      <td>-15.832704</td>\n",
       "      <td>2.832692</td>\n",
       "      <td>6.561821</td>\n",
       "    </tr>\n",
       "  </tbody>\n",
       "</table>\n",
       "</div>"
      ],
      "text/plain": [
       "             Model  Train Score  Val Score  X Val Score  RMSE Train  \\\n",
       "65  m067_VASC-STRc     0.870691   0.623519    -7.248974   21.976172   \n",
       "20   m021_SCHISTOc     0.617527   0.429294   -41.069671    8.533500   \n",
       "57   m059_ALLVASCc     0.844042   0.418893    -2.748473    0.473971   \n",
       "5    m006_ALL70_79     0.800076   0.370323    -5.957991   10.470767   \n",
       "73  m075_PEPULCERc     0.753725   0.314051   -22.323206    6.056436   \n",
       "59   m061_RHEUMHDc     0.699266   0.291097    -4.146401   12.084555   \n",
       "63    m065_STROKEc     0.800397   0.286693    -8.826117   35.294302   \n",
       "88   m091_ILL_DEFb     0.695072   0.244659    -8.591797    1.036602   \n",
       "24   m025_NASOPCAc     0.622265   0.220303   -11.199763    2.707513   \n",
       "25   m026_NPConlyc     0.598167   0.165908   -15.832704    2.832692   \n",
       "\n",
       "      RMSE Val  \n",
       "65   46.208054  \n",
       "20   12.435517  \n",
       "57    1.807995  \n",
       "5    17.789164  \n",
       "73    6.554557  \n",
       "59   28.366838  \n",
       "63  139.065699  \n",
       "88    1.691644  \n",
       "24    6.319335  \n",
       "25    6.561821  "
      ]
     },
     "execution_count": 91,
     "metadata": {},
     "output_type": "execute_result"
    }
   ],
   "source": [
    "pca_f.sort_values(by='Val Score', ascending=False).head(10)"
   ]
  },
  {
   "cell_type": "code",
   "execution_count": 92,
   "id": "1e992492-31dc-49ea-8c47-9b8eeea674b0",
   "metadata": {
    "execution": {
     "iopub.execute_input": "2023-01-20T01:01:23.957318Z",
     "iopub.status.busy": "2023-01-20T01:01:23.957116Z",
     "iopub.status.idle": "2023-01-20T01:02:01.092735Z",
     "shell.execute_reply": "2023-01-20T01:02:01.092253Z",
     "shell.execute_reply.started": "2023-01-20T01:01:23.957305Z"
    },
    "tags": []
   },
   "outputs": [],
   "source": [
    "# splitting male and female in base LR model\n",
    "# Male only:\n",
    "lr = LinearRegression()\n",
    "ss = StandardScaler()\n",
    "lasso = LassoCV(alphas = np.arange(0.001, 10, 1))\n",
    "# imp_features df will contain all the corr. coef/weights from each feature\n",
    "imp_features_m = pd.DataFrame()\n",
    "imputer = SimpleImputer(strategy='mean')\n",
    "\n",
    "for i in mortalities_m:\n",
    "    # suppressing the convergence warnings if any\n",
    "    import warnings\n",
    "    warnings.filterwarnings(\"ignore\")\n",
    "\n",
    "    X = male_df.drop(columns = mortalities_m)\n",
    "    y = male_df[i]\n",
    "    \n",
    "    X_train, X_test, y_train, y_test = train_test_split(X, y, random_state=33)\n",
    "    \n",
    "    X_train = imputer.fit_transform(X_train)\n",
    "    X_test = imputer.transform(X_test)\n",
    "    y_train = imputer.fit_transform(y_train.values.reshape(-1,1))\n",
    "    y_test = imputer.transform(y_test.values.reshape(-1,1))\n",
    "    \n",
    "    \n",
    "    ss.fit(X_train)\n",
    "    Xs_train = ss.transform(X_train)\n",
    "    Xs_test = ss.transform(X_test)\n",
    "    \n",
    "    lr.fit(Xs_train, y_train)\n",
    "    lasso.fit(Xs_train, y_train)\n",
    "    \n",
    "    mortal = i\n",
    "\n",
    "    update_lrm(lasso, mortal, Xs_train, Xs_test, y_train, y_test)\n",
    "    \n",
    "    # appending df to get feature importance (corr. coef) out\n",
    "    feature_imp = pd.Series(lasso.coef_, index = X.columns)\n",
    "    feature_imp = feature_imp.sort_values(ascending=False)\n",
    "    \n",
    "    imp_features_m[i] = feature_imp"
   ]
  },
  {
   "cell_type": "code",
   "execution_count": 93,
   "id": "c5053144-32ed-4aaf-81bf-ef230cfd9200",
   "metadata": {
    "execution": {
     "iopub.execute_input": "2023-01-20T01:02:01.093513Z",
     "iopub.status.busy": "2023-01-20T01:02:01.093389Z",
     "iopub.status.idle": "2023-01-20T01:02:42.936513Z",
     "shell.execute_reply": "2023-01-20T01:02:42.936059Z",
     "shell.execute_reply.started": "2023-01-20T01:02:01.093500Z"
    },
    "tags": []
   },
   "outputs": [],
   "source": [
    "# splitting male and female in base LR model\n",
    "# female only\n",
    "lr = LinearRegression()\n",
    "ss = StandardScaler()\n",
    "lasso = LassoCV(alphas = np.arange(0.001, 10, 1))\n",
    "# imp_features df will contain all the corr. coef/weights from each feature\n",
    "imp_features_f = pd.DataFrame()\n",
    "\n",
    "for i in mortalities_f:\n",
    "    # suppressing the convergence warnings if any\n",
    "    import warnings\n",
    "    warnings.filterwarnings(\"ignore\")\n",
    "\n",
    "    X = female_df.drop(columns = mortalities_f)\n",
    "    y = female_df[i]\n",
    "    \n",
    "    X_train, X_test, y_train, y_test = train_test_split(X, y, random_state=33)\n",
    "    \n",
    "    X_train = imputer.fit_transform(X_train)\n",
    "    X_test = imputer.transform(X_test)\n",
    "    y_train = imputer.fit_transform(y_train.values.reshape(-1,1))\n",
    "    y_test = imputer.transform(y_test.values.reshape(-1,1))\n",
    "    \n",
    "    \n",
    "    ss.fit(X_train)\n",
    "    Xs_train = ss.transform(X_train)\n",
    "    Xs_test = ss.transform(X_test)\n",
    "    \n",
    "    lr.fit(Xs_train, y_train)\n",
    "    lasso.fit(Xs_train, y_train)\n",
    "    \n",
    "    mortal = i\n",
    "\n",
    "    update_lrf(lasso, mortal, Xs_train, Xs_test, y_train, y_test)\n",
    "    \n",
    "    # appending df to get feature importance (corr. coef) out\n",
    "    feature_imp = pd.Series(lasso.coef_, index = X.columns)\n",
    "    feature_imp = feature_imp.sort_values(ascending=False)\n",
    "    \n",
    "    imp_features_f[i] = feature_imp"
   ]
  },
  {
   "cell_type": "code",
   "execution_count": 94,
   "id": "57e4106a-4a00-4d66-9eef-19c15a2b209f",
   "metadata": {
    "execution": {
     "iopub.execute_input": "2023-01-20T01:02:42.937404Z",
     "iopub.status.busy": "2023-01-20T01:02:42.937286Z",
     "iopub.status.idle": "2023-01-20T01:02:42.943842Z",
     "shell.execute_reply": "2023-01-20T01:02:42.943306Z",
     "shell.execute_reply.started": "2023-01-20T01:02:42.937395Z"
    },
    "tags": []
   },
   "outputs": [
    {
     "data": {
      "text/html": [
       "<div>\n",
       "<style scoped>\n",
       "    .dataframe tbody tr th:only-of-type {\n",
       "        vertical-align: middle;\n",
       "    }\n",
       "\n",
       "    .dataframe tbody tr th {\n",
       "        vertical-align: top;\n",
       "    }\n",
       "\n",
       "    .dataframe thead th {\n",
       "        text-align: right;\n",
       "    }\n",
       "</style>\n",
       "<table border=\"1\" class=\"dataframe\">\n",
       "  <thead>\n",
       "    <tr style=\"text-align: right;\">\n",
       "      <th></th>\n",
       "      <th>Model</th>\n",
       "      <th>Train Score</th>\n",
       "      <th>Val Score</th>\n",
       "      <th>X Val Score</th>\n",
       "      <th>RMSE Train</th>\n",
       "      <th>RMSE Val</th>\n",
       "    </tr>\n",
       "  </thead>\n",
       "  <tbody>\n",
       "    <tr>\n",
       "      <th>20</th>\n",
       "      <td>m021_SCHISTOc</td>\n",
       "      <td>0.905542</td>\n",
       "      <td>0.907366</td>\n",
       "      <td>-3.673384</td>\n",
       "      <td>2.974858e-14</td>\n",
       "      <td>14.432142</td>\n",
       "    </tr>\n",
       "    <tr>\n",
       "      <th>11</th>\n",
       "      <td>m012_INFECTc</td>\n",
       "      <td>0.784124</td>\n",
       "      <td>0.536770</td>\n",
       "      <td>-0.424291</td>\n",
       "      <td>1.409650e-13</td>\n",
       "      <td>46.694511</td>\n",
       "    </tr>\n",
       "    <tr>\n",
       "      <th>30</th>\n",
       "      <td>m031_LIVERCAc</td>\n",
       "      <td>0.686820</td>\n",
       "      <td>0.498407</td>\n",
       "      <td>-0.090399</td>\n",
       "      <td>1.735747e-13</td>\n",
       "      <td>72.214573</td>\n",
       "    </tr>\n",
       "    <tr>\n",
       "      <th>77</th>\n",
       "      <td>m081_TOTLIVRc</td>\n",
       "      <td>0.707458</td>\n",
       "      <td>0.490807</td>\n",
       "      <td>-0.295884</td>\n",
       "      <td>1.811700e-13</td>\n",
       "      <td>75.496279</td>\n",
       "    </tr>\n",
       "    <tr>\n",
       "      <th>69</th>\n",
       "      <td>m073_DIGESTIVb</td>\n",
       "      <td>0.863828</td>\n",
       "      <td>0.398663</td>\n",
       "      <td>-0.304247</td>\n",
       "      <td>2.366806e-14</td>\n",
       "      <td>7.630224</td>\n",
       "    </tr>\n",
       "  </tbody>\n",
       "</table>\n",
       "</div>"
      ],
      "text/plain": [
       "             Model  Train Score  Val Score  X Val Score    RMSE Train  \\\n",
       "20   m021_SCHISTOc     0.905542   0.907366    -3.673384  2.974858e-14   \n",
       "11    m012_INFECTc     0.784124   0.536770    -0.424291  1.409650e-13   \n",
       "30   m031_LIVERCAc     0.686820   0.498407    -0.090399  1.735747e-13   \n",
       "77   m081_TOTLIVRc     0.707458   0.490807    -0.295884  1.811700e-13   \n",
       "69  m073_DIGESTIVb     0.863828   0.398663    -0.304247  2.366806e-14   \n",
       "\n",
       "     RMSE Val  \n",
       "20  14.432142  \n",
       "11  46.694511  \n",
       "30  72.214573  \n",
       "77  75.496279  \n",
       "69   7.630224  "
      ]
     },
     "execution_count": 94,
     "metadata": {},
     "output_type": "execute_result"
    }
   ],
   "source": [
    "lr_m.sort_values(by = 'Val Score', ascending=False).head(5)"
   ]
  },
  {
   "cell_type": "code",
   "execution_count": 95,
   "id": "5e1b51ee-3cf9-46ec-ac91-ab74afb9efbe",
   "metadata": {
    "execution": {
     "iopub.execute_input": "2023-01-20T01:02:42.945062Z",
     "iopub.status.busy": "2023-01-20T01:02:42.944808Z",
     "iopub.status.idle": "2023-01-20T01:02:42.952229Z",
     "shell.execute_reply": "2023-01-20T01:02:42.951752Z",
     "shell.execute_reply.started": "2023-01-20T01:02:42.945048Z"
    },
    "tags": []
   },
   "outputs": [
    {
     "data": {
      "text/html": [
       "<div>\n",
       "<style scoped>\n",
       "    .dataframe tbody tr th:only-of-type {\n",
       "        vertical-align: middle;\n",
       "    }\n",
       "\n",
       "    .dataframe tbody tr th {\n",
       "        vertical-align: top;\n",
       "    }\n",
       "\n",
       "    .dataframe thead th {\n",
       "        text-align: right;\n",
       "    }\n",
       "</style>\n",
       "<table border=\"1\" class=\"dataframe\">\n",
       "  <thead>\n",
       "    <tr style=\"text-align: right;\">\n",
       "      <th></th>\n",
       "      <th>Model</th>\n",
       "      <th>Train Score</th>\n",
       "      <th>Val Score</th>\n",
       "      <th>X Val Score</th>\n",
       "      <th>RMSE Train</th>\n",
       "      <th>RMSE Val</th>\n",
       "    </tr>\n",
       "  </thead>\n",
       "  <tbody>\n",
       "    <tr>\n",
       "      <th>20</th>\n",
       "      <td>m021_SCHISTOc</td>\n",
       "      <td>0.920081</td>\n",
       "      <td>0.893889</td>\n",
       "      <td>-12.845717</td>\n",
       "      <td>2.664985e-14</td>\n",
       "      <td>12.300299</td>\n",
       "    </tr>\n",
       "    <tr>\n",
       "      <th>28</th>\n",
       "      <td>m029_COLRECCAc</td>\n",
       "      <td>0.712298</td>\n",
       "      <td>0.347226</td>\n",
       "      <td>-0.502163</td>\n",
       "      <td>2.347430e-14</td>\n",
       "      <td>10.957944</td>\n",
       "    </tr>\n",
       "    <tr>\n",
       "      <th>5</th>\n",
       "      <td>m006_ALL70_79</td>\n",
       "      <td>0.944305</td>\n",
       "      <td>0.345626</td>\n",
       "      <td>-0.835082</td>\n",
       "      <td>4.299385e-14</td>\n",
       "      <td>20.719266</td>\n",
       "    </tr>\n",
       "    <tr>\n",
       "      <th>94</th>\n",
       "      <td>m097_DROWNb</td>\n",
       "      <td>0.513302</td>\n",
       "      <td>0.332789</td>\n",
       "      <td>-0.297135</td>\n",
       "      <td>1.645438e-14</td>\n",
       "      <td>6.354911</td>\n",
       "    </tr>\n",
       "    <tr>\n",
       "      <th>30</th>\n",
       "      <td>m031_LIVERCAc</td>\n",
       "      <td>0.809288</td>\n",
       "      <td>0.301275</td>\n",
       "      <td>-0.204665</td>\n",
       "      <td>3.824287e-14</td>\n",
       "      <td>19.807011</td>\n",
       "    </tr>\n",
       "  </tbody>\n",
       "</table>\n",
       "</div>"
      ],
      "text/plain": [
       "             Model  Train Score  Val Score  X Val Score    RMSE Train  \\\n",
       "20   m021_SCHISTOc     0.920081   0.893889   -12.845717  2.664985e-14   \n",
       "28  m029_COLRECCAc     0.712298   0.347226    -0.502163  2.347430e-14   \n",
       "5    m006_ALL70_79     0.944305   0.345626    -0.835082  4.299385e-14   \n",
       "94     m097_DROWNb     0.513302   0.332789    -0.297135  1.645438e-14   \n",
       "30   m031_LIVERCAc     0.809288   0.301275    -0.204665  3.824287e-14   \n",
       "\n",
       "     RMSE Val  \n",
       "20  12.300299  \n",
       "28  10.957944  \n",
       "5   20.719266  \n",
       "94   6.354911  \n",
       "30  19.807011  "
      ]
     },
     "execution_count": 95,
     "metadata": {},
     "output_type": "execute_result"
    }
   ],
   "source": [
    "lr_f.sort_values(by = 'Val Score', ascending=False).head(5)"
   ]
  },
  {
   "cell_type": "code",
   "execution_count": 96,
   "id": "d627af4a-6afc-4cee-b3b6-e36a5dde0e50",
   "metadata": {
    "execution": {
     "iopub.execute_input": "2023-01-20T01:02:42.953247Z",
     "iopub.status.busy": "2023-01-20T01:02:42.952984Z",
     "iopub.status.idle": "2023-01-20T01:02:42.956705Z",
     "shell.execute_reply": "2023-01-20T01:02:42.956235Z",
     "shell.execute_reply.started": "2023-01-20T01:02:42.953232Z"
    },
    "tags": []
   },
   "outputs": [],
   "source": [
    "imp_features_m.reset_index(inplace=True)\n",
    "imp_features_f.reset_index(inplace=True)"
   ]
  },
  {
   "cell_type": "code",
   "execution_count": 97,
   "id": "6431eb12-0707-478b-b17a-b6957b02cad0",
   "metadata": {
    "execution": {
     "iopub.execute_input": "2023-01-20T01:02:42.957283Z",
     "iopub.status.busy": "2023-01-20T01:02:42.957172Z",
     "iopub.status.idle": "2023-01-20T01:02:42.964550Z",
     "shell.execute_reply": "2023-01-20T01:02:42.964196Z",
     "shell.execute_reply.started": "2023-01-20T01:02:42.957272Z"
    },
    "tags": []
   },
   "outputs": [],
   "source": [
    "feature_importance_male = imp_features_m.merge(text_df, left_on='index',\\\n",
    "                                               right_on='code', \\\n",
    "                                               how='left').drop(columns = ['index'])"
   ]
  },
  {
   "cell_type": "code",
   "execution_count": 98,
   "id": "d90bda43-46c2-4887-ba79-42dbf7d1ba54",
   "metadata": {
    "execution": {
     "iopub.execute_input": "2023-01-20T01:02:42.965179Z",
     "iopub.status.busy": "2023-01-20T01:02:42.965069Z",
     "iopub.status.idle": "2023-01-20T01:02:42.973064Z",
     "shell.execute_reply": "2023-01-20T01:02:42.972576Z",
     "shell.execute_reply.started": "2023-01-20T01:02:42.965168Z"
    },
    "tags": []
   },
   "outputs": [],
   "source": [
    "feature_importance_female = imp_features_f.merge(text_df,\\\n",
    "                                                 left_on='index',right_on='code', \\\n",
    "                                                 how='left').drop(columns = ['index'])"
   ]
  },
  {
   "cell_type": "code",
   "execution_count": 99,
   "id": "4702bd8c-4865-4573-861b-04d2f6f6c2c7",
   "metadata": {
    "execution": {
     "iopub.execute_input": "2023-01-20T01:02:42.973898Z",
     "iopub.status.busy": "2023-01-20T01:02:42.973725Z",
     "iopub.status.idle": "2023-01-20T01:02:42.976500Z",
     "shell.execute_reply": "2023-01-20T01:02:42.976241Z",
     "shell.execute_reply.started": "2023-01-20T01:02:42.973886Z"
    }
   },
   "outputs": [
    {
     "data": {
      "text/plain": [
       "Index(['m001_ALL0_4', 'm002_ALL5_14', 'm003_ALL15_34', 'm004_ALL0_34',\n",
       "       'm005_ALL35_69', 'm006_ALL70_79', 'm007_MEDICALb', 'm008_MEDICALc',\n",
       "       'm009_NONMEDb', 'm010_NONMEDc',\n",
       "       ...\n",
       "       'm112_CONGENHDa', 'm113_PERINATa', 'm114_LOWBTHWTa', 'm115_BTHTRAUMa',\n",
       "       'm116_RDSa', 'm117_NEOTETANa', 'm118_MALNUTRIa', 'm119_DROWNa',\n",
       "       'description', 'code'],\n",
       "      dtype='object', length=114)"
      ]
     },
     "execution_count": 99,
     "metadata": {},
     "output_type": "execute_result"
    }
   ],
   "source": [
    "feature_importance_male.columns"
   ]
  },
  {
   "cell_type": "code",
   "execution_count": 100,
   "id": "2dc0f464-cd07-4bab-b6b7-341e55435318",
   "metadata": {
    "execution": {
     "iopub.execute_input": "2023-01-20T01:02:42.977003Z",
     "iopub.status.busy": "2023-01-20T01:02:42.976927Z",
     "iopub.status.idle": "2023-01-20T01:02:42.982500Z",
     "shell.execute_reply": "2023-01-20T01:02:42.982081Z",
     "shell.execute_reply.started": "2023-01-20T01:02:42.976995Z"
    },
    "tags": []
   },
   "outputs": [
    {
     "data": {
      "text/html": [
       "<div>\n",
       "<style scoped>\n",
       "    .dataframe tbody tr th:only-of-type {\n",
       "        vertical-align: middle;\n",
       "    }\n",
       "\n",
       "    .dataframe tbody tr th {\n",
       "        vertical-align: top;\n",
       "    }\n",
       "\n",
       "    .dataframe thead th {\n",
       "        text-align: right;\n",
       "    }\n",
       "</style>\n",
       "<table border=\"1\" class=\"dataframe\">\n",
       "  <thead>\n",
       "    <tr style=\"text-align: right;\">\n",
       "      <th></th>\n",
       "      <th>m021_SCHISTOc</th>\n",
       "      <th>description</th>\n",
       "    </tr>\n",
       "  </thead>\n",
       "  <tbody>\n",
       "    <tr>\n",
       "      <th>119</th>\n",
       "      <td>9.815377</td>\n",
       "      <td>Q095 dSCHISTO   questionnaire PERCENTAGE WITH HISTORY OF SCHISTOSOMIASIS DIAGNOSIS</td>\n",
       "    </tr>\n",
       "    <tr>\n",
       "      <th>195</th>\n",
       "      <td>1.739100</td>\n",
       "      <td>Q179 dGREEN-T   questionnaire PERCENT DRINK GREEN TEA DAILY</td>\n",
       "    </tr>\n",
       "    <tr>\n",
       "      <th>144</th>\n",
       "      <td>1.655703</td>\n",
       "      <td>Q006 dNOTWED    questionnaire PERCENTAGE NEVER MARRIED</td>\n",
       "    </tr>\n",
       "    <tr>\n",
       "      <th>69</th>\n",
       "      <td>0.609387</td>\n",
       "      <td>U016 NSARa      nitrosamine study N-NITROSOSARCOSINE</td>\n",
       "    </tr>\n",
       "    <tr>\n",
       "      <th>192</th>\n",
       "      <td>0.267898</td>\n",
       "      <td>Q176 dEGGS      questionnaire DAYS PER YEAR EAT EGGS</td>\n",
       "    </tr>\n",
       "  </tbody>\n",
       "</table>\n",
       "</div>"
      ],
      "text/plain": [
       "     m021_SCHISTOc  \\\n",
       "119       9.815377   \n",
       "195       1.739100   \n",
       "144       1.655703   \n",
       "69        0.609387   \n",
       "192       0.267898   \n",
       "\n",
       "                                                                                                                           description  \n",
       "119  Q095 dSCHISTO   questionnaire PERCENTAGE WITH HISTORY OF SCHISTOSOMIASIS DIAGNOSIS                                                 \n",
       "195  Q179 dGREEN-T   questionnaire PERCENT DRINK GREEN TEA DAILY                                                                        \n",
       "144  Q006 dNOTWED    questionnaire PERCENTAGE NEVER MARRIED                                                                             \n",
       "69   U016 NSARa      nitrosamine study N-NITROSOSARCOSINE                                                                               \n",
       "192  Q176 dEGGS      questionnaire DAYS PER YEAR EAT EGGS                                                                               "
      ]
     },
     "execution_count": 100,
     "metadata": {},
     "output_type": "execute_result"
    }
   ],
   "source": [
    "feature_importance_male[['m021_SCHISTOc', 'description']]\\\n",
    "[np.abs(feature_importance_male['m021_SCHISTOc'])>0]\\\n",
    ".sort_values(by='m021_SCHISTOc',ascending=False).head()"
   ]
  },
  {
   "cell_type": "code",
   "execution_count": 101,
   "id": "7df72830-0c49-420a-af7e-fd782955c497",
   "metadata": {
    "execution": {
     "iopub.execute_input": "2023-01-20T01:02:42.982966Z",
     "iopub.status.busy": "2023-01-20T01:02:42.982878Z",
     "iopub.status.idle": "2023-01-20T01:02:42.987204Z",
     "shell.execute_reply": "2023-01-20T01:02:42.986912Z",
     "shell.execute_reply.started": "2023-01-20T01:02:42.982957Z"
    },
    "tags": []
   },
   "outputs": [
    {
     "data": {
      "text/html": [
       "<div>\n",
       "<style scoped>\n",
       "    .dataframe tbody tr th:only-of-type {\n",
       "        vertical-align: middle;\n",
       "    }\n",
       "\n",
       "    .dataframe tbody tr th {\n",
       "        vertical-align: top;\n",
       "    }\n",
       "\n",
       "    .dataframe thead th {\n",
       "        text-align: right;\n",
       "    }\n",
       "</style>\n",
       "<table border=\"1\" class=\"dataframe\">\n",
       "  <thead>\n",
       "    <tr style=\"text-align: right;\">\n",
       "      <th></th>\n",
       "      <th>m012_INFECTc</th>\n",
       "      <th>description</th>\n",
       "    </tr>\n",
       "  </thead>\n",
       "  <tbody>\n",
       "    <tr>\n",
       "      <th>85</th>\n",
       "      <td>7.742770</td>\n",
       "      <td>U032 TNOCa      nitrosamine study TOTAL NITROSO COMPOUNDS</td>\n",
       "    </tr>\n",
       "    <tr>\n",
       "      <th>198</th>\n",
       "      <td>5.660898</td>\n",
       "      <td>Q157 dRICE      questionnaire DAILY CONSUMPTION OF RICE (g/day air-dry basis)</td>\n",
       "    </tr>\n",
       "    <tr>\n",
       "      <th>212</th>\n",
       "      <td>5.516975</td>\n",
       "      <td>Q134 dSMOK&lt;25m  questionnaire PERCENT OF TOTAL MALE POPULATION WHO STARTED SMOKING BEFORE AGE 25 AND WHO CURRENTLY SMOKE</td>\n",
       "    </tr>\n",
       "    <tr>\n",
       "      <th>5</th>\n",
       "      <td>4.841607</td>\n",
       "      <td>P025 VITC       plasma VITAMIN C (ascorbic acid) (mg/dL)</td>\n",
       "    </tr>\n",
       "    <tr>\n",
       "      <th>31</th>\n",
       "      <td>3.707410</td>\n",
       "      <td>P021 NEURSPOR   plasma NEUROSPORENE (ug/dL)</td>\n",
       "    </tr>\n",
       "  </tbody>\n",
       "</table>\n",
       "</div>"
      ],
      "text/plain": [
       "     m012_INFECTc  \\\n",
       "85       7.742770   \n",
       "198      5.660898   \n",
       "212      5.516975   \n",
       "5        4.841607   \n",
       "31       3.707410   \n",
       "\n",
       "                                                                                                                           description  \n",
       "85   U032 TNOCa      nitrosamine study TOTAL NITROSO COMPOUNDS                                                                          \n",
       "198  Q157 dRICE      questionnaire DAILY CONSUMPTION OF RICE (g/day air-dry basis)                                                      \n",
       "212  Q134 dSMOK<25m  questionnaire PERCENT OF TOTAL MALE POPULATION WHO STARTED SMOKING BEFORE AGE 25 AND WHO CURRENTLY SMOKE           \n",
       "5    P025 VITC       plasma VITAMIN C (ascorbic acid) (mg/dL)                                                                           \n",
       "31   P021 NEURSPOR   plasma NEUROSPORENE (ug/dL)                                                                                        "
      ]
     },
     "execution_count": 101,
     "metadata": {},
     "output_type": "execute_result"
    }
   ],
   "source": [
    "feature_importance_male[['m012_INFECTc', 'description']]\\\n",
    "[np.abs(feature_importance_male['m012_INFECTc'])>0]\\\n",
    ".sort_values(by='m012_INFECTc',ascending=False).head()"
   ]
  },
  {
   "cell_type": "code",
   "execution_count": 102,
   "id": "d918fc5f-ad99-48c5-8914-0fe23fc8c2b6",
   "metadata": {
    "execution": {
     "iopub.execute_input": "2023-01-20T01:02:42.987940Z",
     "iopub.status.busy": "2023-01-20T01:02:42.987816Z",
     "iopub.status.idle": "2023-01-20T01:02:42.993411Z",
     "shell.execute_reply": "2023-01-20T01:02:42.993025Z",
     "shell.execute_reply.started": "2023-01-20T01:02:42.987929Z"
    },
    "tags": []
   },
   "outputs": [
    {
     "data": {
      "text/html": [
       "<div>\n",
       "<style scoped>\n",
       "    .dataframe tbody tr th:only-of-type {\n",
       "        vertical-align: middle;\n",
       "    }\n",
       "\n",
       "    .dataframe tbody tr th {\n",
       "        vertical-align: top;\n",
       "    }\n",
       "\n",
       "    .dataframe thead th {\n",
       "        text-align: right;\n",
       "    }\n",
       "</style>\n",
       "<table border=\"1\" class=\"dataframe\">\n",
       "  <thead>\n",
       "    <tr style=\"text-align: right;\">\n",
       "      <th></th>\n",
       "      <th>m031_LIVERCAc</th>\n",
       "      <th>description</th>\n",
       "    </tr>\n",
       "  </thead>\n",
       "  <tbody>\n",
       "    <tr>\n",
       "      <th>25</th>\n",
       "      <td>13.633332</td>\n",
       "      <td>P044 HPYLORI    plasma HELICOBACTER PYLORI IgG ANTIBODY (using cut-off 300)</td>\n",
       "    </tr>\n",
       "    <tr>\n",
       "      <th>142</th>\n",
       "      <td>13.065453</td>\n",
       "      <td>Q093 dPEPULCER  questionnaire PERCENTAGE WITH HISTORY OF PEPTIC ULCER DIAGNOSIS</td>\n",
       "    </tr>\n",
       "    <tr>\n",
       "      <th>41</th>\n",
       "      <td>9.960253</td>\n",
       "      <td>P005 APOB       plasma APOLIPOPROTEIN B (mg/dL) (non-pooled analysis)</td>\n",
       "    </tr>\n",
       "    <tr>\n",
       "      <th>185</th>\n",
       "      <td>6.332896</td>\n",
       "      <td>Q170 dLEGUMyr   questionnaire DAYS PER YEAR EAT LEGUMES AND LEGUME PRODUCTS</td>\n",
       "    </tr>\n",
       "    <tr>\n",
       "      <th>68</th>\n",
       "      <td>6.023733</td>\n",
       "      <td>U015 NSAR       nitrosamine study N-NITROSOSARCOSINE (ug excreted in 12 hours after ingesting 500mg L-proline)</td>\n",
       "    </tr>\n",
       "  </tbody>\n",
       "</table>\n",
       "</div>"
      ],
      "text/plain": [
       "     m031_LIVERCAc  \\\n",
       "25       13.633332   \n",
       "142      13.065453   \n",
       "41        9.960253   \n",
       "185       6.332896   \n",
       "68        6.023733   \n",
       "\n",
       "                                                                                                                           description  \n",
       "25   P044 HPYLORI    plasma HELICOBACTER PYLORI IgG ANTIBODY (using cut-off 300)                                                        \n",
       "142  Q093 dPEPULCER  questionnaire PERCENTAGE WITH HISTORY OF PEPTIC ULCER DIAGNOSIS                                                    \n",
       "41   P005 APOB       plasma APOLIPOPROTEIN B (mg/dL) (non-pooled analysis)                                                              \n",
       "185  Q170 dLEGUMyr   questionnaire DAYS PER YEAR EAT LEGUMES AND LEGUME PRODUCTS                                                        \n",
       "68   U015 NSAR       nitrosamine study N-NITROSOSARCOSINE (ug excreted in 12 hours after ingesting 500mg L-proline)                     "
      ]
     },
     "execution_count": 102,
     "metadata": {},
     "output_type": "execute_result"
    }
   ],
   "source": [
    "feature_importance_male[['m031_LIVERCAc', 'description']]\\\n",
    "[np.abs(feature_importance_male['m031_LIVERCAc'])>0]\\\n",
    ".sort_values(by='m031_LIVERCAc',ascending=False).head()"
   ]
  },
  {
   "cell_type": "code",
   "execution_count": 103,
   "id": "a97b63e7-86b6-4acf-8ee4-51eefb92a324",
   "metadata": {
    "execution": {
     "iopub.execute_input": "2023-01-20T01:02:42.994201Z",
     "iopub.status.busy": "2023-01-20T01:02:42.994080Z",
     "iopub.status.idle": "2023-01-20T01:02:42.999912Z",
     "shell.execute_reply": "2023-01-20T01:02:42.999511Z",
     "shell.execute_reply.started": "2023-01-20T01:02:42.994189Z"
    },
    "tags": []
   },
   "outputs": [
    {
     "data": {
      "text/html": [
       "<div>\n",
       "<style scoped>\n",
       "    .dataframe tbody tr th:only-of-type {\n",
       "        vertical-align: middle;\n",
       "    }\n",
       "\n",
       "    .dataframe tbody tr th {\n",
       "        vertical-align: top;\n",
       "    }\n",
       "\n",
       "    .dataframe thead th {\n",
       "        text-align: right;\n",
       "    }\n",
       "</style>\n",
       "<table border=\"1\" class=\"dataframe\">\n",
       "  <thead>\n",
       "    <tr style=\"text-align: right;\">\n",
       "      <th></th>\n",
       "      <th>m081_TOTLIVRc</th>\n",
       "      <th>description</th>\n",
       "    </tr>\n",
       "  </thead>\n",
       "  <tbody>\n",
       "    <tr>\n",
       "      <th>142</th>\n",
       "      <td>23.224819</td>\n",
       "      <td>Q093 dPEPULCER  questionnaire PERCENTAGE WITH HISTORY OF PEPTIC ULCER DIAGNOSIS</td>\n",
       "    </tr>\n",
       "    <tr>\n",
       "      <th>25</th>\n",
       "      <td>10.829628</td>\n",
       "      <td>P044 HPYLORI    plasma HELICOBACTER PYLORI IgG ANTIBODY (using cut-off 300)</td>\n",
       "    </tr>\n",
       "    <tr>\n",
       "      <th>28</th>\n",
       "      <td>6.189001</td>\n",
       "      <td>P024 FOLATE     plasma FOLATE (ng/mL)</td>\n",
       "    </tr>\n",
       "    <tr>\n",
       "      <th>170</th>\n",
       "      <td>5.892178</td>\n",
       "      <td>Q118 dBRONCH    questionnaire TIMES SUFFERED FROM BRONCHITIS DURING PAST YEAR</td>\n",
       "    </tr>\n",
       "    <tr>\n",
       "      <th>146</th>\n",
       "      <td>4.979984</td>\n",
       "      <td>Q012 dBUDDHIST  questionnaire PERCENTAGE WHO BELIEVE IN BUDDHIST RELIGION</td>\n",
       "    </tr>\n",
       "  </tbody>\n",
       "</table>\n",
       "</div>"
      ],
      "text/plain": [
       "     m081_TOTLIVRc  \\\n",
       "142      23.224819   \n",
       "25       10.829628   \n",
       "28        6.189001   \n",
       "170       5.892178   \n",
       "146       4.979984   \n",
       "\n",
       "                                                                                                                           description  \n",
       "142  Q093 dPEPULCER  questionnaire PERCENTAGE WITH HISTORY OF PEPTIC ULCER DIAGNOSIS                                                    \n",
       "25   P044 HPYLORI    plasma HELICOBACTER PYLORI IgG ANTIBODY (using cut-off 300)                                                        \n",
       "28   P024 FOLATE     plasma FOLATE (ng/mL)                                                                                              \n",
       "170  Q118 dBRONCH    questionnaire TIMES SUFFERED FROM BRONCHITIS DURING PAST YEAR                                                      \n",
       "146  Q012 dBUDDHIST  questionnaire PERCENTAGE WHO BELIEVE IN BUDDHIST RELIGION                                                          "
      ]
     },
     "execution_count": 103,
     "metadata": {},
     "output_type": "execute_result"
    }
   ],
   "source": [
    "feature_importance_male[['m081_TOTLIVRc', 'description']]\\\n",
    "[np.abs(feature_importance_male['m081_TOTLIVRc'])>0]\\\n",
    ".sort_values(by='m081_TOTLIVRc',ascending=False).head()"
   ]
  },
  {
   "cell_type": "code",
   "execution_count": 104,
   "id": "0ac2f2af-a4e0-477a-9774-e91fc4b97626",
   "metadata": {
    "execution": {
     "iopub.execute_input": "2023-01-20T01:02:43.000543Z",
     "iopub.status.busy": "2023-01-20T01:02:43.000427Z",
     "iopub.status.idle": "2023-01-20T01:02:43.006783Z",
     "shell.execute_reply": "2023-01-20T01:02:43.006220Z",
     "shell.execute_reply.started": "2023-01-20T01:02:43.000531Z"
    },
    "tags": []
   },
   "outputs": [
    {
     "data": {
      "text/html": [
       "<div>\n",
       "<style scoped>\n",
       "    .dataframe tbody tr th:only-of-type {\n",
       "        vertical-align: middle;\n",
       "    }\n",
       "\n",
       "    .dataframe tbody tr th {\n",
       "        vertical-align: top;\n",
       "    }\n",
       "\n",
       "    .dataframe thead th {\n",
       "        text-align: right;\n",
       "    }\n",
       "</style>\n",
       "<table border=\"1\" class=\"dataframe\">\n",
       "  <thead>\n",
       "    <tr style=\"text-align: right;\">\n",
       "      <th></th>\n",
       "      <th>m073_DIGESTIVb</th>\n",
       "      <th>description</th>\n",
       "    </tr>\n",
       "  </thead>\n",
       "  <tbody>\n",
       "    <tr>\n",
       "      <th>145</th>\n",
       "      <td>1.126877</td>\n",
       "      <td>Q055 dNSCLKID   questionnaire PERCENTAGE USED MAINLY SMOKELESS COAL FOR COOKING IN CHILDHOOD</td>\n",
       "    </tr>\n",
       "    <tr>\n",
       "      <th>207</th>\n",
       "      <td>0.997469</td>\n",
       "      <td>Q127 dFAMINILL  questionnaire PERCENTAGE WHO SUFFERED ILLNESS AS A RESULT OF FOOD SHORTAGE</td>\n",
       "    </tr>\n",
       "    <tr>\n",
       "      <th>29</th>\n",
       "      <td>0.851237</td>\n",
       "      <td>P022 PHYTOFLU   plasma PHYTOFLUENE (ug/dL)</td>\n",
       "    </tr>\n",
       "    <tr>\n",
       "      <th>212</th>\n",
       "      <td>0.849557</td>\n",
       "      <td>Q134 dSMOK&lt;25m  questionnaire PERCENT OF TOTAL MALE POPULATION WHO STARTED SMOKING BEFORE AGE 25 AND WHO CURRENTLY SMOKE</td>\n",
       "    </tr>\n",
       "    <tr>\n",
       "      <th>8</th>\n",
       "      <td>0.282070</td>\n",
       "      <td>P028 K          plasma POTASSIUM (mg/dL)</td>\n",
       "    </tr>\n",
       "  </tbody>\n",
       "</table>\n",
       "</div>"
      ],
      "text/plain": [
       "     m073_DIGESTIVb  \\\n",
       "145        1.126877   \n",
       "207        0.997469   \n",
       "29         0.851237   \n",
       "212        0.849557   \n",
       "8          0.282070   \n",
       "\n",
       "                                                                                                                           description  \n",
       "145  Q055 dNSCLKID   questionnaire PERCENTAGE USED MAINLY SMOKELESS COAL FOR COOKING IN CHILDHOOD                                       \n",
       "207  Q127 dFAMINILL  questionnaire PERCENTAGE WHO SUFFERED ILLNESS AS A RESULT OF FOOD SHORTAGE                                         \n",
       "29   P022 PHYTOFLU   plasma PHYTOFLUENE (ug/dL)                                                                                         \n",
       "212  Q134 dSMOK<25m  questionnaire PERCENT OF TOTAL MALE POPULATION WHO STARTED SMOKING BEFORE AGE 25 AND WHO CURRENTLY SMOKE           \n",
       "8    P028 K          plasma POTASSIUM (mg/dL)                                                                                           "
      ]
     },
     "execution_count": 104,
     "metadata": {},
     "output_type": "execute_result"
    }
   ],
   "source": [
    "feature_importance_male[['m073_DIGESTIVb', 'description']]\\\n",
    "[np.abs(feature_importance_male['m073_DIGESTIVb'])>0]\\\n",
    ".sort_values(by='m073_DIGESTIVb',ascending=False).head()"
   ]
  },
  {
   "cell_type": "code",
   "execution_count": 105,
   "id": "12e3f6c5-cea6-44db-815f-015b850d409b",
   "metadata": {
    "execution": {
     "iopub.execute_input": "2023-01-20T01:02:43.008257Z",
     "iopub.status.busy": "2023-01-20T01:02:43.007921Z",
     "iopub.status.idle": "2023-01-20T01:02:43.015884Z",
     "shell.execute_reply": "2023-01-20T01:02:43.015516Z",
     "shell.execute_reply.started": "2023-01-20T01:02:43.008239Z"
    },
    "tags": []
   },
   "outputs": [
    {
     "data": {
      "text/html": [
       "<div>\n",
       "<style scoped>\n",
       "    .dataframe tbody tr th:only-of-type {\n",
       "        vertical-align: middle;\n",
       "    }\n",
       "\n",
       "    .dataframe tbody tr th {\n",
       "        vertical-align: top;\n",
       "    }\n",
       "\n",
       "    .dataframe thead th {\n",
       "        text-align: right;\n",
       "    }\n",
       "</style>\n",
       "<table border=\"1\" class=\"dataframe\">\n",
       "  <thead>\n",
       "    <tr style=\"text-align: right;\">\n",
       "      <th></th>\n",
       "      <th>m021_SCHISTOc</th>\n",
       "      <th>description</th>\n",
       "    </tr>\n",
       "  </thead>\n",
       "  <tbody>\n",
       "    <tr>\n",
       "      <th>157</th>\n",
       "      <td>12.161426</td>\n",
       "      <td>Q095 dSCHISTO   questionnaire PERCENTAGE WITH HISTORY OF SCHISTOSOMIASIS DIAGNOSIS</td>\n",
       "    </tr>\n",
       "    <tr>\n",
       "      <th>62</th>\n",
       "      <td>0.751844</td>\n",
       "      <td>Q221 eBREASTFD  questionnaire 1987-9 BIRTHS: PERCENT OF BABIES WHO WERE BREAST FED</td>\n",
       "    </tr>\n",
       "    <tr>\n",
       "      <th>95</th>\n",
       "      <td>0.405699</td>\n",
       "      <td>P039 THYROXINE  plasma TOTAL THYROXINE (ug/dL)</td>\n",
       "    </tr>\n",
       "    <tr>\n",
       "      <th>79</th>\n",
       "      <td>-0.013815</td>\n",
       "      <td>R011 18:0       red blood cell TOTAL LIPID STEARIC ACID (18:0) (% of total fatty acid by weight)</td>\n",
       "    </tr>\n",
       "    <tr>\n",
       "      <th>179</th>\n",
       "      <td>-0.067087</td>\n",
       "      <td>Q061 dCLBRNOW   questionnaire PERCENTAGE USE MAINLY COAL BRICKS FOR COOKING NOW</td>\n",
       "    </tr>\n",
       "  </tbody>\n",
       "</table>\n",
       "</div>"
      ],
      "text/plain": [
       "     m021_SCHISTOc  \\\n",
       "157      12.161426   \n",
       "62        0.751844   \n",
       "95        0.405699   \n",
       "79       -0.013815   \n",
       "179      -0.067087   \n",
       "\n",
       "                                                                                                                           description  \n",
       "157  Q095 dSCHISTO   questionnaire PERCENTAGE WITH HISTORY OF SCHISTOSOMIASIS DIAGNOSIS                                                 \n",
       "62   Q221 eBREASTFD  questionnaire 1987-9 BIRTHS: PERCENT OF BABIES WHO WERE BREAST FED                                                 \n",
       "95   P039 THYROXINE  plasma TOTAL THYROXINE (ug/dL)                                                                                     \n",
       "79   R011 18:0       red blood cell TOTAL LIPID STEARIC ACID (18:0) (% of total fatty acid by weight)                                   \n",
       "179  Q061 dCLBRNOW   questionnaire PERCENTAGE USE MAINLY COAL BRICKS FOR COOKING NOW                                                    "
      ]
     },
     "execution_count": 105,
     "metadata": {},
     "output_type": "execute_result"
    }
   ],
   "source": [
    "feature_importance_female[['m021_SCHISTOc', 'description']]\\\n",
    "[np.abs(feature_importance_female['m021_SCHISTOc'])>0]\\\n",
    ".sort_values(by='m021_SCHISTOc',ascending=False).head()"
   ]
  },
  {
   "cell_type": "code",
   "execution_count": 106,
   "id": "7f50f2ac-ef77-4b83-9549-0fd4dcfdb06c",
   "metadata": {
    "execution": {
     "iopub.execute_input": "2023-01-20T01:02:43.016652Z",
     "iopub.status.busy": "2023-01-20T01:02:43.016531Z",
     "iopub.status.idle": "2023-01-20T01:02:43.022208Z",
     "shell.execute_reply": "2023-01-20T01:02:43.021722Z",
     "shell.execute_reply.started": "2023-01-20T01:02:43.016640Z"
    },
    "tags": []
   },
   "outputs": [
    {
     "data": {
      "text/html": [
       "<div>\n",
       "<style scoped>\n",
       "    .dataframe tbody tr th:only-of-type {\n",
       "        vertical-align: middle;\n",
       "    }\n",
       "\n",
       "    .dataframe tbody tr th {\n",
       "        vertical-align: top;\n",
       "    }\n",
       "\n",
       "    .dataframe thead th {\n",
       "        text-align: right;\n",
       "    }\n",
       "</style>\n",
       "<table border=\"1\" class=\"dataframe\">\n",
       "  <thead>\n",
       "    <tr style=\"text-align: right;\">\n",
       "      <th></th>\n",
       "      <th>m029_COLRECCAc</th>\n",
       "      <th>description</th>\n",
       "    </tr>\n",
       "  </thead>\n",
       "  <tbody>\n",
       "    <tr>\n",
       "      <th>157</th>\n",
       "      <td>3.031821</td>\n",
       "      <td>Q095 dSCHISTO   questionnaire PERCENTAGE WITH HISTORY OF SCHISTOSOMIASIS DIAGNOSIS</td>\n",
       "    </tr>\n",
       "    <tr>\n",
       "      <th>25</th>\n",
       "      <td>1.092013</td>\n",
       "      <td>Q245 fHTadj     questionnaire HEIGHT OF SCHOOLCHILDREN RELATIVE TO AGE-ADJUSTED MEAN</td>\n",
       "    </tr>\n",
       "    <tr>\n",
       "      <th>242</th>\n",
       "      <td>0.979894</td>\n",
       "      <td>Q151 dBEERday   questionnaire CURRENT DAILY CONSUMPTION OF BEER (g per person)</td>\n",
       "    </tr>\n",
       "    <tr>\n",
       "      <th>23</th>\n",
       "      <td>0.806137</td>\n",
       "      <td>Q243 fWTadj     questionnaire WEIGHT OF SCHOOLCHILDREN RELATIVE TO AGE-ADJUSTED MEAN</td>\n",
       "    </tr>\n",
       "    <tr>\n",
       "      <th>111</th>\n",
       "      <td>0.705052</td>\n",
       "      <td>P024 FOLATE     plasma FOLATE (ng/mL)</td>\n",
       "    </tr>\n",
       "  </tbody>\n",
       "</table>\n",
       "</div>"
      ],
      "text/plain": [
       "     m029_COLRECCAc  \\\n",
       "157        3.031821   \n",
       "25         1.092013   \n",
       "242        0.979894   \n",
       "23         0.806137   \n",
       "111        0.705052   \n",
       "\n",
       "                                                                                                                           description  \n",
       "157  Q095 dSCHISTO   questionnaire PERCENTAGE WITH HISTORY OF SCHISTOSOMIASIS DIAGNOSIS                                                 \n",
       "25   Q245 fHTadj     questionnaire HEIGHT OF SCHOOLCHILDREN RELATIVE TO AGE-ADJUSTED MEAN                                               \n",
       "242  Q151 dBEERday   questionnaire CURRENT DAILY CONSUMPTION OF BEER (g per person)                                                     \n",
       "23   Q243 fWTadj     questionnaire WEIGHT OF SCHOOLCHILDREN RELATIVE TO AGE-ADJUSTED MEAN                                               \n",
       "111  P024 FOLATE     plasma FOLATE (ng/mL)                                                                                              "
      ]
     },
     "execution_count": 106,
     "metadata": {},
     "output_type": "execute_result"
    }
   ],
   "source": [
    "feature_importance_female[['m029_COLRECCAc', 'description']]\\\n",
    "[np.abs(feature_importance_female['m029_COLRECCAc'])>0]\\\n",
    ".sort_values(by='m029_COLRECCAc',ascending=False).head()"
   ]
  },
  {
   "cell_type": "code",
   "execution_count": 107,
   "id": "e19a76f6-aa43-433a-8603-578bd67209c7",
   "metadata": {
    "execution": {
     "iopub.execute_input": "2023-01-20T01:02:43.023088Z",
     "iopub.status.busy": "2023-01-20T01:02:43.022904Z",
     "iopub.status.idle": "2023-01-20T01:02:43.029017Z",
     "shell.execute_reply": "2023-01-20T01:02:43.028637Z",
     "shell.execute_reply.started": "2023-01-20T01:02:43.023075Z"
    },
    "tags": []
   },
   "outputs": [
    {
     "data": {
      "text/html": [
       "<div>\n",
       "<style scoped>\n",
       "    .dataframe tbody tr th:only-of-type {\n",
       "        vertical-align: middle;\n",
       "    }\n",
       "\n",
       "    .dataframe tbody tr th {\n",
       "        vertical-align: top;\n",
       "    }\n",
       "\n",
       "    .dataframe thead th {\n",
       "        text-align: right;\n",
       "    }\n",
       "</style>\n",
       "<table border=\"1\" class=\"dataframe\">\n",
       "  <thead>\n",
       "    <tr style=\"text-align: right;\">\n",
       "      <th></th>\n",
       "      <th>m006_ALL70_79</th>\n",
       "      <th>description</th>\n",
       "    </tr>\n",
       "  </thead>\n",
       "  <tbody>\n",
       "    <tr>\n",
       "      <th>190</th>\n",
       "      <td>6.005089</td>\n",
       "      <td>Q126 dWTLOSS    questionnaire PERCENTAGE WHO LOST WEIGHT DURING FOOD SHORTAGE</td>\n",
       "    </tr>\n",
       "    <tr>\n",
       "      <th>2</th>\n",
       "      <td>5.348815</td>\n",
       "      <td>Q063 dSMCLNOW   questionnaire PERCENTAGE USE MAINLY SMOKY COAL FOR COOKING NOW</td>\n",
       "    </tr>\n",
       "    <tr>\n",
       "      <th>155</th>\n",
       "      <td>3.245554</td>\n",
       "      <td>Q122 dANTACID   questionnaire PERCENTAGE USED MAINLY WESTERN ANTACIDS DURING PAST 6 MONTHS</td>\n",
       "    </tr>\n",
       "    <tr>\n",
       "      <th>37</th>\n",
       "      <td>3.108303</td>\n",
       "      <td>Q195 eMOTHERS   questionnaire 1987-9 BIRTHS: NUMBER OF MOTHERS GIVING BIRTH DURING 1987-1989</td>\n",
       "    </tr>\n",
       "    <tr>\n",
       "      <th>156</th>\n",
       "      <td>2.773977</td>\n",
       "      <td>Q123 dANALGES   questionnaire PERCENTAGE USED MAINLY WESTERN ANALGESICS DURING PAST 6 MONTHS</td>\n",
       "    </tr>\n",
       "  </tbody>\n",
       "</table>\n",
       "</div>"
      ],
      "text/plain": [
       "     m006_ALL70_79  \\\n",
       "190       6.005089   \n",
       "2         5.348815   \n",
       "155       3.245554   \n",
       "37        3.108303   \n",
       "156       2.773977   \n",
       "\n",
       "                                                                                                                           description  \n",
       "190  Q126 dWTLOSS    questionnaire PERCENTAGE WHO LOST WEIGHT DURING FOOD SHORTAGE                                                      \n",
       "2    Q063 dSMCLNOW   questionnaire PERCENTAGE USE MAINLY SMOKY COAL FOR COOKING NOW                                                     \n",
       "155  Q122 dANTACID   questionnaire PERCENTAGE USED MAINLY WESTERN ANTACIDS DURING PAST 6 MONTHS                                         \n",
       "37   Q195 eMOTHERS   questionnaire 1987-9 BIRTHS: NUMBER OF MOTHERS GIVING BIRTH DURING 1987-1989                                       \n",
       "156  Q123 dANALGES   questionnaire PERCENTAGE USED MAINLY WESTERN ANALGESICS DURING PAST 6 MONTHS                                       "
      ]
     },
     "execution_count": 107,
     "metadata": {},
     "output_type": "execute_result"
    }
   ],
   "source": [
    "feature_importance_female[['m006_ALL70_79', 'description']]\\\n",
    "[np.abs(feature_importance_female['m006_ALL70_79'])>0]\\\n",
    ".sort_values(by='m006_ALL70_79',ascending=False).head()"
   ]
  },
  {
   "cell_type": "code",
   "execution_count": 108,
   "id": "cd44c857-8126-4223-891d-64bb0d79179d",
   "metadata": {
    "execution": {
     "iopub.execute_input": "2023-01-20T01:02:43.030142Z",
     "iopub.status.busy": "2023-01-20T01:02:43.029752Z",
     "iopub.status.idle": "2023-01-20T01:02:43.035541Z",
     "shell.execute_reply": "2023-01-20T01:02:43.035111Z",
     "shell.execute_reply.started": "2023-01-20T01:02:43.030131Z"
    },
    "tags": []
   },
   "outputs": [
    {
     "data": {
      "text/html": [
       "<div>\n",
       "<style scoped>\n",
       "    .dataframe tbody tr th:only-of-type {\n",
       "        vertical-align: middle;\n",
       "    }\n",
       "\n",
       "    .dataframe tbody tr th {\n",
       "        vertical-align: top;\n",
       "    }\n",
       "\n",
       "    .dataframe thead th {\n",
       "        text-align: right;\n",
       "    }\n",
       "</style>\n",
       "<table border=\"1\" class=\"dataframe\">\n",
       "  <thead>\n",
       "    <tr style=\"text-align: right;\">\n",
       "      <th></th>\n",
       "      <th>m097_DROWNb</th>\n",
       "      <th>description</th>\n",
       "    </tr>\n",
       "  </thead>\n",
       "  <tbody>\n",
       "    <tr>\n",
       "      <th>248</th>\n",
       "      <td>2.260906</td>\n",
       "      <td>Q157 dRICE      questionnaire DAILY CONSUMPTION OF RICE (g/day air-dry basis)</td>\n",
       "    </tr>\n",
       "    <tr>\n",
       "      <th>48</th>\n",
       "      <td>1.019016</td>\n",
       "      <td>Q206 eFARMER    questionnaire 1987-9 BIRTHS: PERCENT OF MOTHERS WHOSE PRIMARY OCCUPATION IS FARMING</td>\n",
       "    </tr>\n",
       "    <tr>\n",
       "      <th>129</th>\n",
       "      <td>0.538384</td>\n",
       "      <td>Q096 dMALARIA   questionnaire PERCENTAGE WITH HISTORY OF MALARIA DIAGNOSIS</td>\n",
       "    </tr>\n",
       "    <tr>\n",
       "      <th>17</th>\n",
       "      <td>0.334349</td>\n",
       "      <td>Q237 eSOLID     questionnaire 1987-9 BIRTHS: PERCENT OF MOTHERS WHO WOULD FEED SOLIDS TO A CHILD WITH SEVERE DIARRHOEA</td>\n",
       "    </tr>\n",
       "    <tr>\n",
       "      <th>10</th>\n",
       "      <td>0.075936</td>\n",
       "      <td>Q238 eTRADMED   questionnaire 1987-9 BIRTHS: PERCENT OF MOTHERS WHO WOULD GIVE LOCAL TRADITIONAL MEDICINE</td>\n",
       "    </tr>\n",
       "  </tbody>\n",
       "</table>\n",
       "</div>"
      ],
      "text/plain": [
       "     m097_DROWNb  \\\n",
       "248     2.260906   \n",
       "48      1.019016   \n",
       "129     0.538384   \n",
       "17      0.334349   \n",
       "10      0.075936   \n",
       "\n",
       "                                                                                                                           description  \n",
       "248  Q157 dRICE      questionnaire DAILY CONSUMPTION OF RICE (g/day air-dry basis)                                                      \n",
       "48   Q206 eFARMER    questionnaire 1987-9 BIRTHS: PERCENT OF MOTHERS WHOSE PRIMARY OCCUPATION IS FARMING                                \n",
       "129  Q096 dMALARIA   questionnaire PERCENTAGE WITH HISTORY OF MALARIA DIAGNOSIS                                                         \n",
       "17   Q237 eSOLID     questionnaire 1987-9 BIRTHS: PERCENT OF MOTHERS WHO WOULD FEED SOLIDS TO A CHILD WITH SEVERE DIARRHOEA             \n",
       "10   Q238 eTRADMED   questionnaire 1987-9 BIRTHS: PERCENT OF MOTHERS WHO WOULD GIVE LOCAL TRADITIONAL MEDICINE                          "
      ]
     },
     "execution_count": 108,
     "metadata": {},
     "output_type": "execute_result"
    }
   ],
   "source": [
    "feature_importance_female[['m097_DROWNb', 'description']]\\\n",
    "[np.abs(feature_importance_female['m097_DROWNb'])>0]\\\n",
    ".sort_values(by='m097_DROWNb',ascending=False).head()"
   ]
  },
  {
   "cell_type": "code",
   "execution_count": 109,
   "id": "47cd0aaa-2254-495c-ba03-8fc6edb0a326",
   "metadata": {
    "execution": {
     "iopub.execute_input": "2023-01-20T01:02:43.036611Z",
     "iopub.status.busy": "2023-01-20T01:02:43.036391Z",
     "iopub.status.idle": "2023-01-20T01:02:43.042213Z",
     "shell.execute_reply": "2023-01-20T01:02:43.041781Z",
     "shell.execute_reply.started": "2023-01-20T01:02:43.036599Z"
    },
    "tags": []
   },
   "outputs": [
    {
     "data": {
      "text/html": [
       "<div>\n",
       "<style scoped>\n",
       "    .dataframe tbody tr th:only-of-type {\n",
       "        vertical-align: middle;\n",
       "    }\n",
       "\n",
       "    .dataframe tbody tr th {\n",
       "        vertical-align: top;\n",
       "    }\n",
       "\n",
       "    .dataframe thead th {\n",
       "        text-align: right;\n",
       "    }\n",
       "</style>\n",
       "<table border=\"1\" class=\"dataframe\">\n",
       "  <thead>\n",
       "    <tr style=\"text-align: right;\">\n",
       "      <th></th>\n",
       "      <th>m031_LIVERCAc</th>\n",
       "      <th>description</th>\n",
       "    </tr>\n",
       "  </thead>\n",
       "  <tbody>\n",
       "    <tr>\n",
       "      <th>49</th>\n",
       "      <td>6.175102</td>\n",
       "      <td>Q208 eBORNHOSP  questionnaire 1987-9 BIRTHS: PERCENT OF BABIES BORN IN HOSPITAL/CLINIC</td>\n",
       "    </tr>\n",
       "    <tr>\n",
       "      <th>68</th>\n",
       "      <td>5.457379</td>\n",
       "      <td>P044 HPYLORI    plasma HELICOBACTER PYLORI IgG ANTIBODY (using cut-off 300)</td>\n",
       "    </tr>\n",
       "    <tr>\n",
       "      <th>235</th>\n",
       "      <td>5.261255</td>\n",
       "      <td>Q145 dPIPE      questionnaire PERCENTAGE WHO HAVE EVER SMOKED A PIPE DAILY FOR MORE THAN 6 MONTHS</td>\n",
       "    </tr>\n",
       "    <tr>\n",
       "      <th>198</th>\n",
       "      <td>5.124599</td>\n",
       "      <td>Q169 dVEGFAT    questionnaire DAILY CONSUMPTION OF VEGETABLE FAT (g/day)</td>\n",
       "    </tr>\n",
       "    <tr>\n",
       "      <th>144</th>\n",
       "      <td>4.085239</td>\n",
       "      <td>Q111 dFEV1adj   questionnaire FORCED EXPIRATORY VOLUME IN THE FIRST SECOND (L)</td>\n",
       "    </tr>\n",
       "  </tbody>\n",
       "</table>\n",
       "</div>"
      ],
      "text/plain": [
       "     m031_LIVERCAc  \\\n",
       "49        6.175102   \n",
       "68        5.457379   \n",
       "235       5.261255   \n",
       "198       5.124599   \n",
       "144       4.085239   \n",
       "\n",
       "                                                                                                                           description  \n",
       "49   Q208 eBORNHOSP  questionnaire 1987-9 BIRTHS: PERCENT OF BABIES BORN IN HOSPITAL/CLINIC                                             \n",
       "68   P044 HPYLORI    plasma HELICOBACTER PYLORI IgG ANTIBODY (using cut-off 300)                                                        \n",
       "235  Q145 dPIPE      questionnaire PERCENTAGE WHO HAVE EVER SMOKED A PIPE DAILY FOR MORE THAN 6 MONTHS                                  \n",
       "198  Q169 dVEGFAT    questionnaire DAILY CONSUMPTION OF VEGETABLE FAT (g/day)                                                           \n",
       "144  Q111 dFEV1adj   questionnaire FORCED EXPIRATORY VOLUME IN THE FIRST SECOND (L)                                                     "
      ]
     },
     "execution_count": 109,
     "metadata": {},
     "output_type": "execute_result"
    }
   ],
   "source": [
    "feature_importance_female[['m031_LIVERCAc', 'description']]\\\n",
    "[np.abs(feature_importance_female['m031_LIVERCAc'])>0]\\\n",
    ".sort_values(by='m031_LIVERCAc',ascending=False).head()"
   ]
  },
  {
   "cell_type": "code",
   "execution_count": 110,
   "id": "9613d91a-f90e-4015-8b72-6b8e31c5424a",
   "metadata": {
    "execution": {
     "iopub.execute_input": "2023-01-20T01:02:43.043080Z",
     "iopub.status.busy": "2023-01-20T01:02:43.042932Z",
     "iopub.status.idle": "2023-01-20T01:02:43.045177Z",
     "shell.execute_reply": "2023-01-20T01:02:43.044800Z",
     "shell.execute_reply.started": "2023-01-20T01:02:43.043066Z"
    },
    "tags": []
   },
   "outputs": [],
   "source": [
    "# imp_features_m.to_csv('./results/feature_importance_m.csv')\n",
    "# imp_features_f.to_csv('./results/feature_importance_f.csv')"
   ]
  },
  {
   "cell_type": "markdown",
   "id": "19a0a50f-b1b3-4a77-9aa0-4728d8300e1d",
   "metadata": {},
   "source": [
    "### Takeaways:\n",
    "\n",
    "Of course I'm looking at these importance features with some hesitation. While some of these features align with what limited knowledge I have on health and health practices, others are quite questionable. The relatively high relationship of drinking green tea with the schisto parasite deaths comes off as a bit odd to me. The schisto parasite is a worm that lives in fresh water and usually hangs out around plants so there may be a correlation there. I'm no professional on that matter and will leave it at that. \n",
    "\n",
    "Other observations make a great deal of sense like suffering illness due to famine or cancer and smoking. \n",
    "\n",
    "The one mortality I'm put off most of is the drowning and the daily consumption of rice. \n",
    "\n",
    "While some of the feature importance is questionable, a majority of them do make sense. It's difficult to discount anything without more granular data so we'll just have to take the information with a grain of salt."
   ]
  },
  {
   "cell_type": "code",
   "execution_count": 118,
   "id": "07eedfdb-6d27-432e-99ac-9caa1a7816fc",
   "metadata": {
    "execution": {
     "iopub.execute_input": "2023-01-20T01:22:42.199702Z",
     "iopub.status.busy": "2023-01-20T01:22:42.199143Z",
     "iopub.status.idle": "2023-01-20T01:22:42.206478Z",
     "shell.execute_reply": "2023-01-20T01:22:42.205801Z",
     "shell.execute_reply.started": "2023-01-20T01:22:42.199648Z"
    },
    "tags": []
   },
   "outputs": [],
   "source": [
    "# created a function to easily lookup targets by gender\n",
    "def feature_lookup(x, gender):\n",
    "    '''fn takes specific mortality feature \"x\" and gender to lookup \n",
    "    feauture importance with the associated mortality '''\n",
    "    gender = gender.lower()\n",
    "    \n",
    "    if gender == 'male' or gender =='m':\n",
    "        return feature_importance_male[[x, 'description']][feature_importance_male[x]>0]\\\n",
    "                .sort_values(by=x,ascending=False).head()\n",
    "    elif gender == 'female' or gender == 'f':\n",
    "        return feature_importance_female[[x, 'description']]\\\n",
    "                [np.abs(feature_importance_female[x])>0]\\\n",
    "                .sort_values(by=x,ascending=False).head()\n",
    "    else:\n",
    "        return print(f\"Please enter a valid input\")\n"
   ]
  },
  {
   "cell_type": "code",
   "execution_count": 117,
   "id": "0177b785-f745-4344-bf9f-c83348a1c063",
   "metadata": {
    "execution": {
     "iopub.execute_input": "2023-01-20T01:21:41.710558Z",
     "iopub.status.busy": "2023-01-20T01:21:41.709842Z",
     "iopub.status.idle": "2023-01-20T01:21:41.724125Z",
     "shell.execute_reply": "2023-01-20T01:21:41.723142Z",
     "shell.execute_reply.started": "2023-01-20T01:21:41.710492Z"
    },
    "tags": []
   },
   "outputs": [
    {
     "data": {
      "text/html": [
       "<div>\n",
       "<style scoped>\n",
       "    .dataframe tbody tr th:only-of-type {\n",
       "        vertical-align: middle;\n",
       "    }\n",
       "\n",
       "    .dataframe tbody tr th {\n",
       "        vertical-align: top;\n",
       "    }\n",
       "\n",
       "    .dataframe thead th {\n",
       "        text-align: right;\n",
       "    }\n",
       "</style>\n",
       "<table border=\"1\" class=\"dataframe\">\n",
       "  <thead>\n",
       "    <tr style=\"text-align: right;\">\n",
       "      <th></th>\n",
       "      <th>m031_LIVERCAc</th>\n",
       "      <th>description</th>\n",
       "    </tr>\n",
       "  </thead>\n",
       "  <tbody>\n",
       "    <tr>\n",
       "      <th>25</th>\n",
       "      <td>13.633332</td>\n",
       "      <td>P044 HPYLORI    plasma HELICOBACTER PYLORI IgG ANTIBODY (using cut-off 300)</td>\n",
       "    </tr>\n",
       "    <tr>\n",
       "      <th>142</th>\n",
       "      <td>13.065453</td>\n",
       "      <td>Q093 dPEPULCER  questionnaire PERCENTAGE WITH HISTORY OF PEPTIC ULCER DIAGNOSIS</td>\n",
       "    </tr>\n",
       "    <tr>\n",
       "      <th>41</th>\n",
       "      <td>9.960253</td>\n",
       "      <td>P005 APOB       plasma APOLIPOPROTEIN B (mg/dL) (non-pooled analysis)</td>\n",
       "    </tr>\n",
       "    <tr>\n",
       "      <th>185</th>\n",
       "      <td>6.332896</td>\n",
       "      <td>Q170 dLEGUMyr   questionnaire DAYS PER YEAR EAT LEGUMES AND LEGUME PRODUCTS</td>\n",
       "    </tr>\n",
       "    <tr>\n",
       "      <th>68</th>\n",
       "      <td>6.023733</td>\n",
       "      <td>U015 NSAR       nitrosamine study N-NITROSOSARCOSINE (ug excreted in 12 hours after ingesting 500mg L-proline)</td>\n",
       "    </tr>\n",
       "  </tbody>\n",
       "</table>\n",
       "</div>"
      ],
      "text/plain": [
       "     m031_LIVERCAc  \\\n",
       "25       13.633332   \n",
       "142      13.065453   \n",
       "41        9.960253   \n",
       "185       6.332896   \n",
       "68        6.023733   \n",
       "\n",
       "                                                                                                                           description  \n",
       "25   P044 HPYLORI    plasma HELICOBACTER PYLORI IgG ANTIBODY (using cut-off 300)                                                        \n",
       "142  Q093 dPEPULCER  questionnaire PERCENTAGE WITH HISTORY OF PEPTIC ULCER DIAGNOSIS                                                    \n",
       "41   P005 APOB       plasma APOLIPOPROTEIN B (mg/dL) (non-pooled analysis)                                                              \n",
       "185  Q170 dLEGUMyr   questionnaire DAYS PER YEAR EAT LEGUMES AND LEGUME PRODUCTS                                                        \n",
       "68   U015 NSAR       nitrosamine study N-NITROSOSARCOSINE (ug excreted in 12 hours after ingesting 500mg L-proline)                     "
      ]
     },
     "execution_count": 117,
     "metadata": {},
     "output_type": "execute_result"
    }
   ],
   "source": [
    "feature_lookup('m031_LIVERCAc', 'm')"
   ]
  },
  {
   "cell_type": "code",
   "execution_count": null,
   "id": "d53c7756-fa26-48ed-965d-eb64329b0b24",
   "metadata": {},
   "outputs": [],
   "source": []
  }
 ],
 "metadata": {
  "kernelspec": {
   "display_name": "Python 3 (ipykernel)",
   "language": "python",
   "name": "python3"
  },
  "language_info": {
   "codemirror_mode": {
    "name": "ipython",
    "version": 3
   },
   "file_extension": ".py",
   "mimetype": "text/x-python",
   "name": "python",
   "nbconvert_exporter": "python",
   "pygments_lexer": "ipython3",
   "version": "3.9.15"
  }
 },
 "nbformat": 4,
 "nbformat_minor": 5
}
