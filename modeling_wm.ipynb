{
 "cells": [
  {
   "cell_type": "code",
   "execution_count": 2,
   "id": "f09218d9-3003-44bd-80ea-e5777ae5f266",
   "metadata": {},
   "outputs": [],
   "source": [
    "import pandas as pd"
   ]
  },
  {
   "cell_type": "code",
   "execution_count": 3,
   "id": "b66e48a0-815d-4e53-9c59-f3e6237b5e52",
   "metadata": {},
   "outputs": [],
   "source": [
    "ch89dg = pd.read_csv('./cleaned_data/CH89DG.csv')\n",
    "ch89m = pd.read_csv('./cleaned_data_descriptive/ch89m.csv')\n",
    "ch89pru = pd.read_csv('./cleaned_data/ch89pru.csv')\n",
    "ch89q = pd.read_csv('./cleaned_data/ch89q.csv')"
   ]
  },
  {
   "cell_type": "code",
   "execution_count": 6,
   "id": "985142e2-c0a3-48a1-b9aa-96ef7af8037f",
   "metadata": {},
   "outputs": [],
   "source": [
    "ch89m.loc[ch89m.county.isna(), 'county'] = 'NA'"
   ]
  },
  {
   "cell_type": "markdown",
   "id": "df3408f6-cb26-4332-87ee-0dc35f319bf0",
   "metadata": {
    "tags": []
   },
   "source": [
    "###### merge tables"
   ]
  },
  {
   "cell_type": "code",
   "execution_count": 8,
   "id": "6a104398-ef61-43a8-8d55-e0c5341373fb",
   "metadata": {
    "tags": []
   },
   "outputs": [
    {
     "data": {
      "text/html": [
       "<div>\n",
       "<style scoped>\n",
       "    .dataframe tbody tr th:only-of-type {\n",
       "        vertical-align: middle;\n",
       "    }\n",
       "\n",
       "    .dataframe tbody tr th {\n",
       "        vertical-align: top;\n",
       "    }\n",
       "\n",
       "    .dataframe thead th {\n",
       "        text-align: right;\n",
       "    }\n",
       "</style>\n",
       "<table border=\"1\" class=\"dataframe\">\n",
       "  <thead>\n",
       "    <tr style=\"text-align: right;\">\n",
       "      <th></th>\n",
       "      <th>Unnamed: 0</th>\n",
       "      <th>mortality_targets</th>\n",
       "    </tr>\n",
       "  </thead>\n",
       "  <tbody>\n",
       "    <tr>\n",
       "      <th>0</th>\n",
       "      <td>0</td>\n",
       "      <td>m005_ALL35_69</td>\n",
       "    </tr>\n",
       "    <tr>\n",
       "      <th>1</th>\n",
       "      <td>1</td>\n",
       "      <td>m008_MEDICALc</td>\n",
       "    </tr>\n",
       "    <tr>\n",
       "      <th>2</th>\n",
       "      <td>2</td>\n",
       "      <td>m065_STROKEc</td>\n",
       "    </tr>\n",
       "    <tr>\n",
       "      <th>3</th>\n",
       "      <td>3</td>\n",
       "      <td>m023_ALLCAc</td>\n",
       "    </tr>\n",
       "    <tr>\n",
       "      <th>4</th>\n",
       "      <td>4</td>\n",
       "      <td>m059_ALLVASCc</td>\n",
       "    </tr>\n",
       "    <tr>\n",
       "      <th>5</th>\n",
       "      <td>5</td>\n",
       "      <td>m028_OESOPHCAc</td>\n",
       "    </tr>\n",
       "    <tr>\n",
       "      <th>6</th>\n",
       "      <td>6</td>\n",
       "      <td>m072_COPDc</td>\n",
       "    </tr>\n",
       "    <tr>\n",
       "      <th>7</th>\n",
       "      <td>7</td>\n",
       "      <td>m010_NONMEDc</td>\n",
       "    </tr>\n",
       "  </tbody>\n",
       "</table>\n",
       "</div>"
      ],
      "text/plain": [
       "   Unnamed: 0 mortality_targets\n",
       "0           0     m005_ALL35_69\n",
       "1           1     m008_MEDICALc\n",
       "2           2      m065_STROKEc\n",
       "3           3       m023_ALLCAc\n",
       "4           4     m059_ALLVASCc\n",
       "5           5    m028_OESOPHCAc\n",
       "6           6        m072_COPDc\n",
       "7           7      m010_NONMEDc"
      ]
     },
     "execution_count": 8,
     "metadata": {},
     "output_type": "execute_result"
    }
   ],
   "source": [
    "mortality_list = pd.read_csv('./cleaned_data_descriptive/mortality_list.csv')\n",
    "mortality_list"
   ]
  },
  {
   "cell_type": "code",
   "execution_count": 9,
   "id": "a5f7b892-3ec5-4f91-a1d5-4c0680b9506d",
   "metadata": {},
   "outputs": [
    {
     "data": {
      "text/plain": [
       "['m005_ALL35_69',\n",
       " 'm008_MEDICALc',\n",
       " 'm065_STROKEc',\n",
       " 'm023_ALLCAc',\n",
       " 'm059_ALLVASCc',\n",
       " 'm028_OESOPHCAc',\n",
       " 'm072_COPDc',\n",
       " 'm010_NONMEDc']"
      ]
     },
     "execution_count": 9,
     "metadata": {},
     "output_type": "execute_result"
    }
   ],
   "source": [
    "m_targets = pd.read_csv('./cleaned_data_descriptive/mortality_list.csv')\n",
    "m_targets = m_targets['mortality_targets']\n",
    "list(m_targets.values)"
   ]
  },
  {
   "cell_type": "code",
   "execution_count": 10,
   "id": "62fd4ae5-42b6-405d-a3b6-d9fefb3910e5",
   "metadata": {},
   "outputs": [],
   "source": [
    "questions = pd.read_csv('./cleaned_data_descriptive/questions_list.csv')\n",
    "questions = questions['question']\n",
    "questions\n",
    "m_targets = pd.read_csv('./cleaned_data_descriptive/mortality_list.csv')\n",
    "m_targets = m_targets['mortality_targets']\n",
    "dg_to_keep = ['d005','d006','d007','d008','d009', \n",
    "               'd012','d013','d014','d015','d016', \n",
    "               'd028','d029','d030','d031','d032','d033','d034','d035','d036', \n",
    "               'd037','d038','d039','d040', \n",
    "               'd041','d042','d043','d044','d045','d046', \n",
    "               'd047','d048','d049','d050','d051','d052', \n",
    "               'g001','g002','g003','g004','g005']\n",
    "ch89q_model = ch89q.loc[:,list(questions) + ['county', 'sex', 'xiang'] ]\n",
    "ch89dg_model = ch89dg.loc[:,list(dg_to_keep) + ['county', 'sex', 'xiang']]\n",
    "ch89m_model = ch89m.loc[:,list(m_targets.values) + ['county', 'sex', 'xiang']] "
   ]
  },
  {
   "cell_type": "code",
   "execution_count": 11,
   "id": "9dfcedb1-1110-41bb-adc5-f3ae97de1216",
   "metadata": {},
   "outputs": [],
   "source": [
    "bat = pd.merge(ch89q_model, ch89dg_model, \n",
    "               how='left',\n",
    "              left_on=['county', 'sex', 'xiang'],\n",
    "              right_on=['county', 'sex', 'xiang'])\n",
    "bat = pd.merge(bat, ch89m_model,\n",
    "               how='left',\n",
    "              left_on=['county', 'sex', 'xiang'],\n",
    "              right_on=['county', 'sex', 'xiang'])\n",
    "bat = pd.merge(bat, ch89pru,\n",
    "               how='left',\n",
    "              left_on=['county', 'sex', 'xiang'],\n",
    "              right_on=['county', 'sex', 'xiang'])\n"
   ]
  },
  {
   "cell_type": "code",
   "execution_count": 12,
   "id": "c889d1a1-94d8-4b13-9bf5-921ce393b21f",
   "metadata": {},
   "outputs": [
    {
     "data": {
      "text/plain": [
       "(621, 297)"
      ]
     },
     "execution_count": 12,
     "metadata": {},
     "output_type": "execute_result"
    }
   ],
   "source": [
    "bat.shape"
   ]
  },
  {
   "cell_type": "code",
   "execution_count": 13,
   "id": "8682baab-4fda-457f-9df7-1bdb86fca43c",
   "metadata": {},
   "outputs": [
    {
     "data": {
      "text/html": [
       "<div>\n",
       "<style scoped>\n",
       "    .dataframe tbody tr th:only-of-type {\n",
       "        vertical-align: middle;\n",
       "    }\n",
       "\n",
       "    .dataframe tbody tr th {\n",
       "        vertical-align: top;\n",
       "    }\n",
       "\n",
       "    .dataframe thead th {\n",
       "        text-align: right;\n",
       "    }\n",
       "</style>\n",
       "<table border=\"1\" class=\"dataframe\">\n",
       "  <thead>\n",
       "    <tr style=\"text-align: right;\">\n",
       "      <th></th>\n",
       "      <th>q010</th>\n",
       "      <th>q015</th>\n",
       "      <th>q016</th>\n",
       "      <th>q022</th>\n",
       "      <th>q023</th>\n",
       "      <th>q024</th>\n",
       "      <th>q025</th>\n",
       "      <th>q037</th>\n",
       "      <th>q038</th>\n",
       "      <th>q039</th>\n",
       "      <th>...</th>\n",
       "      <th>u024</th>\n",
       "      <th>u025</th>\n",
       "      <th>u026</th>\n",
       "      <th>u027</th>\n",
       "      <th>u028</th>\n",
       "      <th>u029</th>\n",
       "      <th>u030</th>\n",
       "      <th>u031</th>\n",
       "      <th>u032</th>\n",
       "      <th>u033</th>\n",
       "    </tr>\n",
       "  </thead>\n",
       "  <tbody>\n",
       "    <tr>\n",
       "      <th>0</th>\n",
       "      <td>NaN</td>\n",
       "      <td>NaN</td>\n",
       "      <td>NaN</td>\n",
       "      <td>3.3</td>\n",
       "      <td>NaN</td>\n",
       "      <td>NaN</td>\n",
       "      <td>NaN</td>\n",
       "      <td>NaN</td>\n",
       "      <td>NaN</td>\n",
       "      <td>NaN</td>\n",
       "      <td>...</td>\n",
       "      <td>1.87</td>\n",
       "      <td>12.76</td>\n",
       "      <td>13.66</td>\n",
       "      <td>0.26</td>\n",
       "      <td>3.10</td>\n",
       "      <td>1.03</td>\n",
       "      <td>8.82</td>\n",
       "      <td>NaN</td>\n",
       "      <td>NaN</td>\n",
       "      <td>NaN</td>\n",
       "    </tr>\n",
       "    <tr>\n",
       "      <th>1</th>\n",
       "      <td>NaN</td>\n",
       "      <td>NaN</td>\n",
       "      <td>NaN</td>\n",
       "      <td>10.0</td>\n",
       "      <td>NaN</td>\n",
       "      <td>NaN</td>\n",
       "      <td>NaN</td>\n",
       "      <td>NaN</td>\n",
       "      <td>NaN</td>\n",
       "      <td>NaN</td>\n",
       "      <td>...</td>\n",
       "      <td>15.93</td>\n",
       "      <td>42.81</td>\n",
       "      <td>8.79</td>\n",
       "      <td>2.21</td>\n",
       "      <td>10.75</td>\n",
       "      <td>1.31</td>\n",
       "      <td>11.53</td>\n",
       "      <td>NaN</td>\n",
       "      <td>NaN</td>\n",
       "      <td>NaN</td>\n",
       "    </tr>\n",
       "    <tr>\n",
       "      <th>2</th>\n",
       "      <td>NaN</td>\n",
       "      <td>NaN</td>\n",
       "      <td>NaN</td>\n",
       "      <td>6.7</td>\n",
       "      <td>NaN</td>\n",
       "      <td>NaN</td>\n",
       "      <td>NaN</td>\n",
       "      <td>NaN</td>\n",
       "      <td>NaN</td>\n",
       "      <td>NaN</td>\n",
       "      <td>...</td>\n",
       "      <td>8.90</td>\n",
       "      <td>27.79</td>\n",
       "      <td>11.22</td>\n",
       "      <td>1.24</td>\n",
       "      <td>6.92</td>\n",
       "      <td>1.17</td>\n",
       "      <td>10.18</td>\n",
       "      <td>0.61</td>\n",
       "      <td>0.478</td>\n",
       "      <td>0.132</td>\n",
       "    </tr>\n",
       "    <tr>\n",
       "      <th>3</th>\n",
       "      <td>NaN</td>\n",
       "      <td>NaN</td>\n",
       "      <td>NaN</td>\n",
       "      <td>0.0</td>\n",
       "      <td>NaN</td>\n",
       "      <td>NaN</td>\n",
       "      <td>NaN</td>\n",
       "      <td>NaN</td>\n",
       "      <td>NaN</td>\n",
       "      <td>NaN</td>\n",
       "      <td>...</td>\n",
       "      <td>NaN</td>\n",
       "      <td>NaN</td>\n",
       "      <td>NaN</td>\n",
       "      <td>NaN</td>\n",
       "      <td>NaN</td>\n",
       "      <td>NaN</td>\n",
       "      <td>NaN</td>\n",
       "      <td>NaN</td>\n",
       "      <td>NaN</td>\n",
       "      <td>NaN</td>\n",
       "    </tr>\n",
       "    <tr>\n",
       "      <th>4</th>\n",
       "      <td>NaN</td>\n",
       "      <td>NaN</td>\n",
       "      <td>NaN</td>\n",
       "      <td>0.0</td>\n",
       "      <td>NaN</td>\n",
       "      <td>NaN</td>\n",
       "      <td>NaN</td>\n",
       "      <td>NaN</td>\n",
       "      <td>NaN</td>\n",
       "      <td>NaN</td>\n",
       "      <td>...</td>\n",
       "      <td>NaN</td>\n",
       "      <td>NaN</td>\n",
       "      <td>NaN</td>\n",
       "      <td>NaN</td>\n",
       "      <td>NaN</td>\n",
       "      <td>NaN</td>\n",
       "      <td>NaN</td>\n",
       "      <td>NaN</td>\n",
       "      <td>NaN</td>\n",
       "      <td>NaN</td>\n",
       "    </tr>\n",
       "    <tr>\n",
       "      <th>...</th>\n",
       "      <td>...</td>\n",
       "      <td>...</td>\n",
       "      <td>...</td>\n",
       "      <td>...</td>\n",
       "      <td>...</td>\n",
       "      <td>...</td>\n",
       "      <td>...</td>\n",
       "      <td>...</td>\n",
       "      <td>...</td>\n",
       "      <td>...</td>\n",
       "      <td>...</td>\n",
       "      <td>...</td>\n",
       "      <td>...</td>\n",
       "      <td>...</td>\n",
       "      <td>...</td>\n",
       "      <td>...</td>\n",
       "      <td>...</td>\n",
       "      <td>...</td>\n",
       "      <td>...</td>\n",
       "      <td>...</td>\n",
       "      <td>...</td>\n",
       "    </tr>\n",
       "    <tr>\n",
       "      <th>616</th>\n",
       "      <td>NaN</td>\n",
       "      <td>NaN</td>\n",
       "      <td>NaN</td>\n",
       "      <td>0.0</td>\n",
       "      <td>NaN</td>\n",
       "      <td>NaN</td>\n",
       "      <td>NaN</td>\n",
       "      <td>NaN</td>\n",
       "      <td>NaN</td>\n",
       "      <td>NaN</td>\n",
       "      <td>...</td>\n",
       "      <td>NaN</td>\n",
       "      <td>NaN</td>\n",
       "      <td>NaN</td>\n",
       "      <td>NaN</td>\n",
       "      <td>NaN</td>\n",
       "      <td>NaN</td>\n",
       "      <td>NaN</td>\n",
       "      <td>NaN</td>\n",
       "      <td>NaN</td>\n",
       "      <td>NaN</td>\n",
       "    </tr>\n",
       "    <tr>\n",
       "      <th>617</th>\n",
       "      <td>NaN</td>\n",
       "      <td>NaN</td>\n",
       "      <td>NaN</td>\n",
       "      <td>0.0</td>\n",
       "      <td>NaN</td>\n",
       "      <td>NaN</td>\n",
       "      <td>NaN</td>\n",
       "      <td>NaN</td>\n",
       "      <td>NaN</td>\n",
       "      <td>NaN</td>\n",
       "      <td>...</td>\n",
       "      <td>NaN</td>\n",
       "      <td>NaN</td>\n",
       "      <td>NaN</td>\n",
       "      <td>NaN</td>\n",
       "      <td>NaN</td>\n",
       "      <td>NaN</td>\n",
       "      <td>NaN</td>\n",
       "      <td>NaN</td>\n",
       "      <td>NaN</td>\n",
       "      <td>NaN</td>\n",
       "    </tr>\n",
       "    <tr>\n",
       "      <th>618</th>\n",
       "      <td>0.0</td>\n",
       "      <td>70.0</td>\n",
       "      <td>85.0</td>\n",
       "      <td>NaN</td>\n",
       "      <td>16.7</td>\n",
       "      <td>46.7</td>\n",
       "      <td>35.0</td>\n",
       "      <td>7149.0</td>\n",
       "      <td>142.0</td>\n",
       "      <td>2142.0</td>\n",
       "      <td>...</td>\n",
       "      <td>NaN</td>\n",
       "      <td>NaN</td>\n",
       "      <td>NaN</td>\n",
       "      <td>NaN</td>\n",
       "      <td>NaN</td>\n",
       "      <td>NaN</td>\n",
       "      <td>NaN</td>\n",
       "      <td>NaN</td>\n",
       "      <td>NaN</td>\n",
       "      <td>NaN</td>\n",
       "    </tr>\n",
       "    <tr>\n",
       "      <th>619</th>\n",
       "      <td>0.0</td>\n",
       "      <td>70.0</td>\n",
       "      <td>85.0</td>\n",
       "      <td>NaN</td>\n",
       "      <td>28.3</td>\n",
       "      <td>58.3</td>\n",
       "      <td>11.7</td>\n",
       "      <td>7327.0</td>\n",
       "      <td>25.0</td>\n",
       "      <td>980.0</td>\n",
       "      <td>...</td>\n",
       "      <td>NaN</td>\n",
       "      <td>NaN</td>\n",
       "      <td>NaN</td>\n",
       "      <td>NaN</td>\n",
       "      <td>NaN</td>\n",
       "      <td>NaN</td>\n",
       "      <td>NaN</td>\n",
       "      <td>NaN</td>\n",
       "      <td>NaN</td>\n",
       "      <td>NaN</td>\n",
       "    </tr>\n",
       "    <tr>\n",
       "      <th>620</th>\n",
       "      <td>0.0</td>\n",
       "      <td>70.0</td>\n",
       "      <td>85.0</td>\n",
       "      <td>1.7</td>\n",
       "      <td>22.5</td>\n",
       "      <td>52.5</td>\n",
       "      <td>23.4</td>\n",
       "      <td>7238.0</td>\n",
       "      <td>84.0</td>\n",
       "      <td>1561.0</td>\n",
       "      <td>...</td>\n",
       "      <td>NaN</td>\n",
       "      <td>NaN</td>\n",
       "      <td>NaN</td>\n",
       "      <td>NaN</td>\n",
       "      <td>NaN</td>\n",
       "      <td>NaN</td>\n",
       "      <td>NaN</td>\n",
       "      <td>NaN</td>\n",
       "      <td>NaN</td>\n",
       "      <td>NaN</td>\n",
       "    </tr>\n",
       "  </tbody>\n",
       "</table>\n",
       "<p>621 rows × 297 columns</p>\n",
       "</div>"
      ],
      "text/plain": [
       "     q010  q015  q016  q022  q023  q024  q025    q037   q038    q039  ...  \\\n",
       "0     NaN   NaN   NaN   3.3   NaN   NaN   NaN     NaN    NaN     NaN  ...   \n",
       "1     NaN   NaN   NaN  10.0   NaN   NaN   NaN     NaN    NaN     NaN  ...   \n",
       "2     NaN   NaN   NaN   6.7   NaN   NaN   NaN     NaN    NaN     NaN  ...   \n",
       "3     NaN   NaN   NaN   0.0   NaN   NaN   NaN     NaN    NaN     NaN  ...   \n",
       "4     NaN   NaN   NaN   0.0   NaN   NaN   NaN     NaN    NaN     NaN  ...   \n",
       "..    ...   ...   ...   ...   ...   ...   ...     ...    ...     ...  ...   \n",
       "616   NaN   NaN   NaN   0.0   NaN   NaN   NaN     NaN    NaN     NaN  ...   \n",
       "617   NaN   NaN   NaN   0.0   NaN   NaN   NaN     NaN    NaN     NaN  ...   \n",
       "618   0.0  70.0  85.0   NaN  16.7  46.7  35.0  7149.0  142.0  2142.0  ...   \n",
       "619   0.0  70.0  85.0   NaN  28.3  58.3  11.7  7327.0   25.0   980.0  ...   \n",
       "620   0.0  70.0  85.0   1.7  22.5  52.5  23.4  7238.0   84.0  1561.0  ...   \n",
       "\n",
       "      u024   u025   u026  u027   u028  u029   u030  u031   u032   u033  \n",
       "0     1.87  12.76  13.66  0.26   3.10  1.03   8.82   NaN    NaN    NaN  \n",
       "1    15.93  42.81   8.79  2.21  10.75  1.31  11.53   NaN    NaN    NaN  \n",
       "2     8.90  27.79  11.22  1.24   6.92  1.17  10.18  0.61  0.478  0.132  \n",
       "3      NaN    NaN    NaN   NaN    NaN   NaN    NaN   NaN    NaN    NaN  \n",
       "4      NaN    NaN    NaN   NaN    NaN   NaN    NaN   NaN    NaN    NaN  \n",
       "..     ...    ...    ...   ...    ...   ...    ...   ...    ...    ...  \n",
       "616    NaN    NaN    NaN   NaN    NaN   NaN    NaN   NaN    NaN    NaN  \n",
       "617    NaN    NaN    NaN   NaN    NaN   NaN    NaN   NaN    NaN    NaN  \n",
       "618    NaN    NaN    NaN   NaN    NaN   NaN    NaN   NaN    NaN    NaN  \n",
       "619    NaN    NaN    NaN   NaN    NaN   NaN    NaN   NaN    NaN    NaN  \n",
       "620    NaN    NaN    NaN   NaN    NaN   NaN    NaN   NaN    NaN    NaN  \n",
       "\n",
       "[621 rows x 297 columns]"
      ]
     },
     "execution_count": 13,
     "metadata": {},
     "output_type": "execute_result"
    }
   ],
   "source": [
    "bat"
   ]
  },
  {
   "cell_type": "markdown",
   "id": "d1189fe7-c672-4b31-9fc8-c562e411af31",
   "metadata": {},
   "source": [
    "###### clustering analysis"
   ]
  },
  {
   "cell_type": "code",
   "execution_count": 14,
   "id": "033e91c8-ba43-40d4-ac6d-a7683888c529",
   "metadata": {},
   "outputs": [],
   "source": [
    "from sklearn.cluster import KMeans\n",
    "from sklearn.preprocessing import StandardScaler"
   ]
  },
  {
   "cell_type": "code",
   "execution_count": 15,
   "id": "16388ad2-a4e4-4ab0-9a53-1c7b84e83ef5",
   "metadata": {},
   "outputs": [],
   "source": [
    "km = KMeans()\n",
    "ss = StandardScaler()"
   ]
  },
  {
   "cell_type": "code",
   "execution_count": null,
   "id": "e1f52bd6-14ae-49b4-80cd-15fd3801ff22",
   "metadata": {},
   "outputs": [],
   "source": []
  },
  {
   "cell_type": "code",
   "execution_count": 16,
   "id": "f576d36c-b003-4e8a-8f4e-4499e788915a",
   "metadata": {},
   "outputs": [
    {
     "data": {
      "text/html": [
       "<div>\n",
       "<style scoped>\n",
       "    .dataframe tbody tr th:only-of-type {\n",
       "        vertical-align: middle;\n",
       "    }\n",
       "\n",
       "    .dataframe tbody tr th {\n",
       "        vertical-align: top;\n",
       "    }\n",
       "\n",
       "    .dataframe thead th {\n",
       "        text-align: right;\n",
       "    }\n",
       "</style>\n",
       "<table border=\"1\" class=\"dataframe\">\n",
       "  <thead>\n",
       "    <tr style=\"text-align: right;\">\n",
       "      <th></th>\n",
       "      <th>m005_ALL35_69</th>\n",
       "      <th>m008_MEDICALc</th>\n",
       "      <th>m065_STROKEc</th>\n",
       "      <th>m023_ALLCAc</th>\n",
       "      <th>m059_ALLVASCc</th>\n",
       "      <th>m028_OESOPHCAc</th>\n",
       "      <th>m072_COPDc</th>\n",
       "      <th>m010_NONMEDc</th>\n",
       "      <th>county</th>\n",
       "      <th>sex</th>\n",
       "      <th>xiang</th>\n",
       "    </tr>\n",
       "  </thead>\n",
       "  <tbody>\n",
       "    <tr>\n",
       "      <th>2</th>\n",
       "      <td>11.29</td>\n",
       "      <td>10.45</td>\n",
       "      <td>157.90</td>\n",
       "      <td>4.44</td>\n",
       "      <td>2.06</td>\n",
       "      <td>114.56</td>\n",
       "      <td>228.61</td>\n",
       "      <td>84.64</td>\n",
       "      <td>AA</td>\n",
       "      <td>T</td>\n",
       "      <td>3</td>\n",
       "    </tr>\n",
       "    <tr>\n",
       "      <th>5</th>\n",
       "      <td>11.82</td>\n",
       "      <td>11.04</td>\n",
       "      <td>164.02</td>\n",
       "      <td>4.50</td>\n",
       "      <td>2.07</td>\n",
       "      <td>112.05</td>\n",
       "      <td>243.96</td>\n",
       "      <td>77.64</td>\n",
       "      <td>AB</td>\n",
       "      <td>T</td>\n",
       "      <td>3</td>\n",
       "    </tr>\n",
       "    <tr>\n",
       "      <th>8</th>\n",
       "      <td>10.55</td>\n",
       "      <td>9.98</td>\n",
       "      <td>128.56</td>\n",
       "      <td>3.92</td>\n",
       "      <td>1.79</td>\n",
       "      <td>92.98</td>\n",
       "      <td>270.48</td>\n",
       "      <td>57.57</td>\n",
       "      <td>AC</td>\n",
       "      <td>T</td>\n",
       "      <td>3</td>\n",
       "    </tr>\n",
       "    <tr>\n",
       "      <th>11</th>\n",
       "      <td>16.19</td>\n",
       "      <td>15.56</td>\n",
       "      <td>297.25</td>\n",
       "      <td>6.72</td>\n",
       "      <td>4.82</td>\n",
       "      <td>110.26</td>\n",
       "      <td>208.06</td>\n",
       "      <td>64.14</td>\n",
       "      <td>BA</td>\n",
       "      <td>T</td>\n",
       "      <td>3</td>\n",
       "    </tr>\n",
       "    <tr>\n",
       "      <th>14</th>\n",
       "      <td>13.59</td>\n",
       "      <td>12.69</td>\n",
       "      <td>323.79</td>\n",
       "      <td>5.17</td>\n",
       "      <td>4.63</td>\n",
       "      <td>129.27</td>\n",
       "      <td>138.69</td>\n",
       "      <td>89.74</td>\n",
       "      <td>BB</td>\n",
       "      <td>T</td>\n",
       "      <td>3</td>\n",
       "    </tr>\n",
       "    <tr>\n",
       "      <th>...</th>\n",
       "      <td>...</td>\n",
       "      <td>...</td>\n",
       "      <td>...</td>\n",
       "      <td>...</td>\n",
       "      <td>...</td>\n",
       "      <td>...</td>\n",
       "      <td>...</td>\n",
       "      <td>...</td>\n",
       "      <td>...</td>\n",
       "      <td>...</td>\n",
       "      <td>...</td>\n",
       "    </tr>\n",
       "    <tr>\n",
       "      <th>188</th>\n",
       "      <td>17.05</td>\n",
       "      <td>16.19</td>\n",
       "      <td>245.72</td>\n",
       "      <td>4.69</td>\n",
       "      <td>6.36</td>\n",
       "      <td>117.41</td>\n",
       "      <td>204.89</td>\n",
       "      <td>86.74</td>\n",
       "      <td>WB</td>\n",
       "      <td>T</td>\n",
       "      <td>3</td>\n",
       "    </tr>\n",
       "    <tr>\n",
       "      <th>191</th>\n",
       "      <td>13.29</td>\n",
       "      <td>12.59</td>\n",
       "      <td>173.89</td>\n",
       "      <td>2.27</td>\n",
       "      <td>4.16</td>\n",
       "      <td>68.34</td>\n",
       "      <td>270.10</td>\n",
       "      <td>70.61</td>\n",
       "      <td>WC</td>\n",
       "      <td>T</td>\n",
       "      <td>3</td>\n",
       "    </tr>\n",
       "    <tr>\n",
       "      <th>194</th>\n",
       "      <td>15.63</td>\n",
       "      <td>14.41</td>\n",
       "      <td>230.15</td>\n",
       "      <td>5.32</td>\n",
       "      <td>4.29</td>\n",
       "      <td>229.77</td>\n",
       "      <td>274.38</td>\n",
       "      <td>122.03</td>\n",
       "      <td>XA</td>\n",
       "      <td>T</td>\n",
       "      <td>3</td>\n",
       "    </tr>\n",
       "    <tr>\n",
       "      <th>197</th>\n",
       "      <td>18.88</td>\n",
       "      <td>17.63</td>\n",
       "      <td>223.03</td>\n",
       "      <td>4.96</td>\n",
       "      <td>3.88</td>\n",
       "      <td>314.56</td>\n",
       "      <td>353.98</td>\n",
       "      <td>125.30</td>\n",
       "      <td>XB</td>\n",
       "      <td>T</td>\n",
       "      <td>3</td>\n",
       "    </tr>\n",
       "    <tr>\n",
       "      <th>200</th>\n",
       "      <td>17.95</td>\n",
       "      <td>16.95</td>\n",
       "      <td>404.00</td>\n",
       "      <td>6.94</td>\n",
       "      <td>5.33</td>\n",
       "      <td>165.81</td>\n",
       "      <td>330.51</td>\n",
       "      <td>99.56</td>\n",
       "      <td>YA</td>\n",
       "      <td>T</td>\n",
       "      <td>3</td>\n",
       "    </tr>\n",
       "  </tbody>\n",
       "</table>\n",
       "<p>67 rows × 11 columns</p>\n",
       "</div>"
      ],
      "text/plain": [
       "     m005_ALL35_69  m008_MEDICALc  m065_STROKEc  m023_ALLCAc  m059_ALLVASCc  \\\n",
       "2            11.29          10.45        157.90         4.44           2.06   \n",
       "5            11.82          11.04        164.02         4.50           2.07   \n",
       "8            10.55           9.98        128.56         3.92           1.79   \n",
       "11           16.19          15.56        297.25         6.72           4.82   \n",
       "14           13.59          12.69        323.79         5.17           4.63   \n",
       "..             ...            ...           ...          ...            ...   \n",
       "188          17.05          16.19        245.72         4.69           6.36   \n",
       "191          13.29          12.59        173.89         2.27           4.16   \n",
       "194          15.63          14.41        230.15         5.32           4.29   \n",
       "197          18.88          17.63        223.03         4.96           3.88   \n",
       "200          17.95          16.95        404.00         6.94           5.33   \n",
       "\n",
       "     m028_OESOPHCAc  m072_COPDc  m010_NONMEDc county sex  xiang  \n",
       "2            114.56      228.61         84.64     AA   T      3  \n",
       "5            112.05      243.96         77.64     AB   T      3  \n",
       "8             92.98      270.48         57.57     AC   T      3  \n",
       "11           110.26      208.06         64.14     BA   T      3  \n",
       "14           129.27      138.69         89.74     BB   T      3  \n",
       "..              ...         ...           ...    ...  ..    ...  \n",
       "188          117.41      204.89         86.74     WB   T      3  \n",
       "191           68.34      270.10         70.61     WC   T      3  \n",
       "194          229.77      274.38        122.03     XA   T      3  \n",
       "197          314.56      353.98        125.30     XB   T      3  \n",
       "200          165.81      330.51         99.56     YA   T      3  \n",
       "\n",
       "[67 rows x 11 columns]"
      ]
     },
     "execution_count": 16,
     "metadata": {},
     "output_type": "execute_result"
    }
   ],
   "source": [
    "ch89m_model.loc[ch89m_model['sex'] == 'T',]"
   ]
  },
  {
   "cell_type": "code",
   "execution_count": 17,
   "id": "3f3c03a0-dded-4cae-b11a-36800b90e1c8",
   "metadata": {},
   "outputs": [
    {
     "data": {
      "text/plain": [
       "2      AA\n",
       "5      AB\n",
       "8      AC\n",
       "11     BA\n",
       "14     BB\n",
       "       ..\n",
       "188    WB\n",
       "191    WC\n",
       "194    XA\n",
       "197    XB\n",
       "200    YA\n",
       "Name: county, Length: 67, dtype: object"
      ]
     },
     "execution_count": 17,
     "metadata": {},
     "output_type": "execute_result"
    }
   ],
   "source": [
    "ch89m_model.loc[ch89m_model['sex'] == 'T',]['county']"
   ]
  },
  {
   "cell_type": "code",
   "execution_count": 19,
   "id": "85d70af0-9582-4784-a450-7f72f053d206",
   "metadata": {},
   "outputs": [
    {
     "data": {
      "text/plain": [
       "(621, 297)"
      ]
     },
     "execution_count": 19,
     "metadata": {},
     "output_type": "execute_result"
    }
   ],
   "source": [
    "bat.shape"
   ]
  },
  {
   "cell_type": "code",
   "execution_count": 20,
   "id": "cf1f6217-3243-4162-8c9e-b8071cac9069",
   "metadata": {},
   "outputs": [
    {
     "data": {
      "text/plain": [
       "Index(['q010', 'q015', 'q016', 'q022', 'q023', 'q024', 'q025', 'q037', 'q038',\n",
       "       'q039',\n",
       "       ...\n",
       "       'r017', 'r018', 'r019', 'r020', 'r021', 'r022', 'r023', 'r024', 'r025',\n",
       "       'r026'],\n",
       "      dtype='object', length=193)"
      ]
     },
     "execution_count": 20,
     "metadata": {},
     "output_type": "execute_result"
    }
   ],
   "source": [
    "bat_km = bat[(bat['sex'] == 'T') & (bat['xiang'] == 3)]\n",
    "# bat_km.dropna(axis = 0, thresh=150)\n",
    "# sum(bat_km.isna().sum().sort_values(ascending=False) <100)\n",
    "bat_km.shape\n",
    "bat_km.county\n",
    "bat_km.isna().sum().sort_values(ascending=False).describe()\n",
    "bat_km = bat_km.dropna(axis=1)\n",
    "bat_km.isna().sum().describe()\n",
    "bat_km.columns"
   ]
  },
  {
   "cell_type": "code",
   "execution_count": 21,
   "id": "3fbc3c9d-0a5e-43c4-bea3-fe854f30fde2",
   "metadata": {},
   "outputs": [],
   "source": [
    "bat_km_sc = ss.fit_transform(bat_km.select_dtypes(exclude = 'object'))"
   ]
  },
  {
   "cell_type": "code",
   "execution_count": 22,
   "id": "138b42e4-53f1-4049-8f7c-d75dd22c485f",
   "metadata": {},
   "outputs": [
    {
     "data": {
      "text/plain": [
       "KMeans(n_clusters=3)"
      ]
     },
     "execution_count": 22,
     "metadata": {},
     "output_type": "execute_result"
    }
   ],
   "source": [
    "km = KMeans(n_clusters=3)\n",
    "km.fit(bat_km_sc)"
   ]
  },
  {
   "cell_type": "code",
   "execution_count": 23,
   "id": "4adf57b7-399c-489c-aa1e-b4167a725d0a",
   "metadata": {
    "tags": []
   },
   "outputs": [
    {
     "data": {
      "text/plain": [
       "array([[ 2.98553106e-01, -2.60910239e-01, -3.61417791e-01,\n",
       "         2.40277388e-01,  3.44990038e-01, -6.49151458e-01,\n",
       "         2.38597685e-01, -3.33817460e-01, -4.40834736e-01,\n",
       "        -5.73175495e-01,  9.48930648e-02, -2.46326299e-01,\n",
       "        -4.67505562e-01, -3.19325841e-01,  3.07232985e-02,\n",
       "         1.02794202e-01, -3.98752876e-01,  8.26984846e-01,\n",
       "         8.62755030e-01,  7.57665222e-01, -5.51670670e-01,\n",
       "        -2.80294399e-01, -2.63967577e-01, -4.12354358e-01,\n",
       "        -5.38730593e-03,  2.23679924e-01,  1.57620278e-01,\n",
       "         2.80000547e-01,  3.30930194e-01, -1.02353152e-01,\n",
       "        -1.03901158e-01, -3.04252290e-03, -3.46014851e-02,\n",
       "         3.76225877e-01,  3.23564698e-01,  3.72053356e-01,\n",
       "         4.33027074e-01,  4.35735070e-01, -1.22410454e-01,\n",
       "         2.99344143e-01, -6.16835650e-03,  1.96092568e-01,\n",
       "         5.35832482e-01,  2.17351667e-01,  2.73649360e-01,\n",
       "         1.70474572e-01, -4.86041069e-01,  2.18952370e-02,\n",
       "         1.85415972e-02, -3.61009230e-01, -4.59330866e-01,\n",
       "         3.48530533e-01, -1.03957784e-01,  2.81740633e-01,\n",
       "         2.64886675e-01, -1.81497210e-01,  4.23881530e-01,\n",
       "         3.33864906e-02, -5.50562247e-01, -3.51390179e-01,\n",
       "        -3.97963251e-01, -6.46147205e-01, -4.18943213e-01,\n",
       "        -2.16940287e-01, -3.94559953e-01, -5.86487515e-01,\n",
       "        -1.13144523e+00,  1.02969464e+00,  7.12955957e-01,\n",
       "         5.45633194e-01,  3.42835976e-01,  1.90493622e-01,\n",
       "        -1.73331933e-01, -2.96978402e-01, -5.18340249e-01,\n",
       "        -5.66509113e-01, -5.32345012e-01, -2.09838403e-01,\n",
       "        -5.83784722e-02, -2.93789334e-01, -7.77450662e-03,\n",
       "        -9.94299449e-01, -6.11634991e-02, -5.60867372e-01,\n",
       "        -3.23223436e-01,  8.97706177e-02,  2.27859111e-01,\n",
       "         0.00000000e+00, -6.14014175e-01,  6.04435902e-01,\n",
       "        -5.39702433e-01,  9.82869201e-01,  5.17585896e-01,\n",
       "        -5.23610308e-01,  1.08639128e-01, -3.87965921e-01,\n",
       "         7.42947353e-01, -9.39940744e-02,  1.68717633e-01,\n",
       "        -4.36447363e-01,  1.93542153e-02,  4.85579126e-01,\n",
       "        -4.84334780e-01,  8.46426984e-01, -5.30209439e-01,\n",
       "         6.17728193e-01, -6.17391437e-01, -1.11489467e+00,\n",
       "         1.02971887e+00,  6.91673938e-01,  1.56745258e-01,\n",
       "        -3.12430946e-01,  2.28432361e-01, -5.09852114e-01,\n",
       "        -4.78306125e-02, -1.54502174e-01,  1.02628475e-02,\n",
       "         1.99934736e-01, -2.25949238e-01, -5.65133415e-01,\n",
       "        -5.04914955e-01, -5.16983100e-01, -5.51246474e-01,\n",
       "         9.34646773e-01, -3.82813484e-01,  6.67399193e-01,\n",
       "         9.88723368e-01, -9.29627602e-01, -7.72456070e-02,\n",
       "        -1.19048196e-01, -4.43043477e-01,  8.52223381e-02,\n",
       "        -6.03127429e-01, -1.30062238e-01,  2.49805197e-01,\n",
       "         1.37850437e-01, -2.17318024e-01,  2.41239239e-01,\n",
       "         8.37399464e-01,  1.59638293e-01,  5.23702597e-02,\n",
       "         3.02753436e-01,  5.25979442e-01,  7.04981451e-01,\n",
       "         3.01333972e-01, -1.17795386e-01,  6.06667674e-01,\n",
       "        -1.48498361e-01, -2.67419415e-01,  8.18516871e-01,\n",
       "         6.92976908e-01, -6.07155604e-01, -2.33271085e-01,\n",
       "         2.25379055e-01,  1.22544325e-01, -1.64554604e-01,\n",
       "         1.11184928e-01,  4.61464550e-01,  1.36871788e-01,\n",
       "         2.34991451e-01,  1.16278540e-01,  7.12272096e-02,\n",
       "        -4.24842959e-01, -6.14028986e-01, -6.64946743e-02,\n",
       "        -2.90248450e-01,  3.59053568e-01,  3.36672601e-01,\n",
       "         4.74785445e-01, -3.74961876e-01, -9.80161892e-02,\n",
       "         4.35279663e-01,  7.80001027e-02, -1.18834391e-01,\n",
       "         5.12997864e-01,  4.28194465e-01,  5.69622234e-01,\n",
       "         1.77302271e-01,  5.39873433e-01, -4.87546937e-01,\n",
       "         1.66606376e-01, -3.70226174e-01, -1.93417549e-01,\n",
       "        -3.73949360e-01, -2.79363316e-01,  2.63703233e-01,\n",
       "        -2.36906261e-01,  4.75865126e-01,  3.60971550e-01,\n",
       "         2.39315193e-02,  1.13429466e-01, -2.81293507e-01],\n",
       "       [-5.53179003e-01,  1.00788217e-01,  2.09661149e-01,\n",
       "         5.66265110e-02, -5.01289988e-01,  6.76382555e-01,\n",
       "        -2.91189012e-02,  5.44461589e-01,  8.34561737e-01,\n",
       "         8.97860975e-01,  5.04028536e-02, -1.91373182e-01,\n",
       "         8.15306094e-03,  2.40052801e-03, -9.26525410e-02,\n",
       "        -6.25729163e-02,  3.69204260e-01, -3.01688713e-01,\n",
       "        -5.12430524e-01, -5.73963903e-01,  4.03933080e-01,\n",
       "         4.14544390e-01,  4.91978197e-01, -2.23626396e-01,\n",
       "        -5.45860851e-02, -1.11382305e-02, -1.77090236e-01,\n",
       "        -2.97087051e-01, -4.56369062e-01, -1.64965326e-01,\n",
       "        -1.25960174e-01, -2.93798847e-01, -3.86147507e-01,\n",
       "        -3.58065127e-01, -3.92197674e-01,  1.73425136e-03,\n",
       "        -1.82705076e-01, -8.37671259e-02,  2.71269152e-01,\n",
       "        -1.50130336e-01,  1.54919894e-01, -1.36382907e-01,\n",
       "        -4.32444978e-01, -4.59781522e-01, -4.99541815e-01,\n",
       "        -5.01985735e-01, -3.03097167e-02,  2.40575085e-02,\n",
       "         8.69241847e-05,  2.09602083e-01,  4.87781280e-01,\n",
       "        -3.06106214e-01,  1.77672679e-01, -1.19686911e-01,\n",
       "        -4.85333685e-01,  2.46086646e-01, -3.56107668e-01,\n",
       "        -1.71890843e-01,  5.59772184e-02,  4.02477784e-01,\n",
       "         4.74846405e-01,  3.82300563e-01,  1.95539428e-01,\n",
       "        -3.11056107e-01,  3.60080132e-02,  1.96630137e-01,\n",
       "         5.71274426e-01, -6.94679379e-01, -4.63473559e-01,\n",
       "        -3.67556366e-01, -2.71554745e-01, -2.24631365e-01,\n",
       "         9.08769795e-02,  4.16081881e-02,  1.63189951e-01,\n",
       "         8.17403742e-01,  8.38904609e-01,  1.05017263e-01,\n",
       "        -6.39056624e-02, -1.24453187e-02, -2.01900061e-01,\n",
       "         5.73729013e-01,  5.44810202e-01,  1.06798654e+00,\n",
       "         7.93723849e-01, -1.08883129e-03,  1.22047257e-03,\n",
       "         0.00000000e+00,  7.29919656e-01,  1.74261376e-02,\n",
       "         1.08473913e+00, -8.88609896e-01, -7.64041375e-01,\n",
       "         8.55876823e-02, -3.62174489e-01, -1.48093182e-01,\n",
       "        -6.72701696e-01,  3.70279687e-02, -7.87346497e-01,\n",
       "         9.05076640e-01, -5.34054398e-01, -9.95861314e-01,\n",
       "         9.95130515e-01, -1.08209681e+00,  1.05825712e+00,\n",
       "        -1.14988424e+00,  1.14942665e+00,  5.60233725e-01,\n",
       "        -6.71428198e-01, -4.95977250e-01, -3.50212725e-01,\n",
       "        -1.04737691e-01, -4.96613079e-01,  1.72391301e-01,\n",
       "        -8.67258215e-02,  3.09138667e-01, -3.81851026e-02,\n",
       "        -4.43586902e-02,  3.89070385e-01,  9.19252193e-01,\n",
       "         8.32986005e-01,  7.79128401e-01,  1.02996891e+00,\n",
       "        -8.45183945e-01,  3.11548218e-01, -5.72809428e-01,\n",
       "        -5.51806506e-01,  8.92653777e-01,  1.50628934e-01,\n",
       "         7.83895071e-01,  7.03323810e-01,  5.67208133e-01,\n",
       "         6.09699421e-01,  7.74295465e-01, -3.30389547e-01,\n",
       "        -2.30792571e-01,  4.05431967e-01,  1.04992605e-01,\n",
       "        -6.12635159e-01, -6.51797914e-02,  3.47200022e-01,\n",
       "        -1.58409534e-01, -5.47016449e-01, -4.55001246e-01,\n",
       "        -5.26253482e-01,  5.21569744e-02, -5.80694466e-01,\n",
       "         2.38079078e-01, -1.37623587e-02, -5.73313752e-01,\n",
       "        -5.06235042e-01,  2.24772760e-02,  1.18922514e-01,\n",
       "        -4.64841622e-02,  1.85551467e-01,  7.52414377e-01,\n",
       "         3.21501091e-01, -1.18403370e-01,  1.80955009e-01,\n",
       "         1.47159006e-01, -1.40858200e-01,  1.24480831e-01,\n",
       "         5.20381806e-02,  1.78146413e-01, -2.40345601e-01,\n",
       "         2.24905539e-01, -2.21579956e-02, -3.75139315e-01,\n",
       "        -3.17874014e-01, -3.20108319e-01,  5.29107376e-01,\n",
       "         2.80101505e-01,  5.54526718e-01,  6.02407344e-01,\n",
       "        -7.18114125e-01, -7.54799866e-01, -4.48159476e-01,\n",
       "        -2.70058733e-01, -1.33149473e-02,  1.02334345e+00,\n",
       "        -3.62803257e-01, -6.32518072e-02, -2.97265585e-01,\n",
       "        -2.37257060e-01, -3.21129291e-01, -1.80711857e-01,\n",
       "         7.21297086e-01,  1.79359384e-01, -1.31300981e-01,\n",
       "        -1.93265148e-01, -2.21278937e-02,  7.22789370e-01],\n",
       "       [ 2.09883681e-01,  2.17444068e-01,  2.27824634e-01,\n",
       "        -3.56809301e-01,  9.80304167e-02,  9.51200809e-02,\n",
       "        -2.64901143e-01, -1.57090523e-01, -3.28507385e-01,\n",
       "        -2.30970408e-01, -1.70289641e-01,  5.05461609e-01,\n",
       "         5.70275108e-01,  3.92840965e-01,  5.90261971e-02,\n",
       "        -6.17164332e-02,  1.06908621e-01, -7.07831157e-01,\n",
       "        -5.31340917e-01, -3.36766187e-01,  2.59852841e-01,\n",
       "        -8.72534389e-02, -1.88588730e-01,  7.44809240e-01,\n",
       "         6.38554203e-02, -2.65268426e-01, -9.62581074e-03,\n",
       "        -3.54332905e-02,  6.83778259e-02,  2.99543768e-01,\n",
       "         2.60597806e-01,  3.11556201e-01,  4.47375417e-01,\n",
       "        -9.06876188e-02,  1.02698419e-02, -4.62454324e-01,\n",
       "        -3.44723441e-01, -4.51725479e-01, -1.32630930e-01,\n",
       "        -2.13337158e-01, -1.54660019e-01, -9.99039437e-02,\n",
       "        -2.10374048e-01,  2.12573815e-01,  1.84525552e-01,\n",
       "         3.14826061e-01,  6.33518169e-01, -5.23114927e-02,\n",
       "        -2.30473267e-02,  2.27380674e-01,  5.76863984e-02,\n",
       "        -1.10831292e-01, -5.74236457e-02, -2.23435448e-01,\n",
       "         1.80489882e-01, -3.30942268e-02, -1.51740528e-01,\n",
       "         1.38740466e-01,  6.23005696e-01,  1.34111148e-02,\n",
       "        -4.74173288e-03,  3.99486427e-01,  3.13840768e-01,\n",
       "         5.94461038e-01,  4.50780119e-01,  5.20133922e-01,\n",
       "         8.02358978e-01, -5.47100682e-01, -3.97163647e-01,\n",
       "        -2.90486809e-01, -1.39977665e-01, -5.21149820e-04,\n",
       "         1.19396986e-01,  3.24098015e-01,  4.70793693e-01,\n",
       "        -1.54935495e-01, -2.19758623e-01,  1.49781842e-01,\n",
       "         1.39226898e-01,  3.76777129e-01,  2.21139929e-01,\n",
       "         6.29987971e-01, -4.95027308e-01, -4.24435819e-01,\n",
       "        -4.31338826e-01, -1.10003894e-01, -2.83389870e-01,\n",
       "         0.00000000e+00, -4.46970853e-03, -7.66605165e-01,\n",
       "        -4.68190359e-01, -2.85961024e-01,  1.59603665e-01,\n",
       "         5.58616142e-01,  2.44915306e-01,  6.35483998e-01,\n",
       "        -2.15104470e-01,  7.75824107e-02,  6.15950689e-01,\n",
       "        -4.07812125e-01,  5.35523198e-01,  4.42090078e-01,\n",
       "        -4.42865097e-01,  8.56680122e-02, -4.52200535e-01,\n",
       "         4.39834296e-01, -4.39771849e-01,  7.93434255e-01,\n",
       "        -5.71489054e-01, -3.36762996e-01,  1.72823965e-01,\n",
       "         4.96544466e-01,  2.37440302e-01,  4.50645064e-01,\n",
       "         1.50074476e-01, -1.32571150e-01,  2.72970583e-02,\n",
       "        -2.01067235e-01, -1.27850870e-01, -2.63337116e-01,\n",
       "        -2.47519203e-01, -1.76155440e-01, -3.96519419e-01,\n",
       "        -2.71750919e-01,  1.47575704e-01, -2.26217696e-01,\n",
       "        -6.46050687e-01,  2.15806408e-01, -6.21643218e-02,\n",
       "        -6.73830404e-01, -1.88285401e-01, -6.99731415e-01,\n",
       "         1.07996472e-01, -6.50137240e-01,  3.68397586e-02,\n",
       "         7.11107245e-02, -1.55677840e-01, -4.08669406e-01,\n",
       "        -3.94972026e-01, -1.29363819e-01, -4.28572726e-01,\n",
       "        -2.08884742e-01, -7.81477905e-02, -3.96166206e-01,\n",
       "         1.78233015e-01,  9.12012672e-02, -1.42765775e-01,\n",
       "        -6.55610627e-02,  3.45508413e-01, -4.12787434e-01,\n",
       "        -3.27629937e-01,  7.28168839e-01,  1.64226329e-01,\n",
       "        -2.30343041e-01, -3.46108797e-01, -5.84509362e-01,\n",
       "        -4.74468197e-01, -4.47295436e-01, -3.59032224e-01,\n",
       "        -4.45108375e-01,  3.60182632e-03, -2.18594559e-01,\n",
       "         4.71479855e-01,  5.73596789e-01,  3.34117369e-01,\n",
       "         1.23739898e-01, -4.21329375e-01, -2.38296522e-02,\n",
       "        -2.54818726e-01,  7.99590086e-01, -4.32949588e-01,\n",
       "        -8.32357350e-01, -6.77504308e-01, -4.83965114e-01,\n",
       "         1.17169823e-01,  2.60597189e-01, -2.35746172e-01,\n",
       "         6.34015752e-02, -6.54465734e-01, -4.68444550e-01,\n",
       "         1.73805042e-01,  5.24639061e-01,  5.50890436e-01,\n",
       "         7.11539937e-01,  6.82299554e-01, -1.37172533e-01,\n",
       "        -4.62332053e-01, -7.77066653e-01, -3.09363749e-01,\n",
       "         1.72838750e-01, -1.17254879e-01, -4.08939760e-01]])"
      ]
     },
     "execution_count": 23,
     "metadata": {},
     "output_type": "execute_result"
    }
   ],
   "source": [
    "km.cluster_centers_"
   ]
  },
  {
   "cell_type": "code",
   "execution_count": 24,
   "id": "09110d3b-afda-43ec-a027-e951a5bfb918",
   "metadata": {},
   "outputs": [
    {
     "data": {
      "text/plain": [
       "array([1, 1, 1, 0, 0, 0, 0, 0, 0, 0, 0, 0, 0, 0, 0, 0, 0, 2, 2, 2, 2, 2,\n",
       "       2, 2, 2, 1, 1, 1, 1, 1, 1, 2, 2, 2, 2, 2, 1, 1, 2, 2, 1, 1, 1, 1,\n",
       "       2, 2, 2, 0, 2, 2, 2, 0, 0, 0, 1, 1, 1, 1, 1, 1, 0, 0, 0, 0, 0, 0,\n",
       "       0, 0, 1], dtype=int32)"
      ]
     },
     "execution_count": 24,
     "metadata": {},
     "output_type": "execute_result"
    }
   ],
   "source": [
    "km.labels_"
   ]
  },
  {
   "cell_type": "code",
   "execution_count": 25,
   "id": "0fa2aa7a-22b1-4bc1-aa77-ff45287e1e8b",
   "metadata": {},
   "outputs": [],
   "source": [
    "from sklearn.metrics import silhouette_score\n"
   ]
  },
  {
   "cell_type": "code",
   "execution_count": 26,
   "id": "a8200584-97aa-437d-ab35-83a1fa86f829",
   "metadata": {},
   "outputs": [
    {
     "data": {
      "text/html": [
       "<div>\n",
       "<style scoped>\n",
       "    .dataframe tbody tr th:only-of-type {\n",
       "        vertical-align: middle;\n",
       "    }\n",
       "\n",
       "    .dataframe tbody tr th {\n",
       "        vertical-align: top;\n",
       "    }\n",
       "\n",
       "    .dataframe thead th {\n",
       "        text-align: right;\n",
       "    }\n",
       "</style>\n",
       "<table border=\"1\" class=\"dataframe\">\n",
       "  <thead>\n",
       "    <tr style=\"text-align: right;\">\n",
       "      <th></th>\n",
       "      <th>k</th>\n",
       "      <th>inertia</th>\n",
       "      <th>silhouette</th>\n",
       "    </tr>\n",
       "  </thead>\n",
       "  <tbody>\n",
       "    <tr>\n",
       "      <th>0</th>\n",
       "      <td>2</td>\n",
       "      <td>11600.388242</td>\n",
       "      <td>0.115461</td>\n",
       "    </tr>\n",
       "    <tr>\n",
       "      <th>1</th>\n",
       "      <td>3</td>\n",
       "      <td>10679.748541</td>\n",
       "      <td>0.087072</td>\n",
       "    </tr>\n",
       "    <tr>\n",
       "      <th>2</th>\n",
       "      <td>4</td>\n",
       "      <td>9843.205912</td>\n",
       "      <td>0.108149</td>\n",
       "    </tr>\n",
       "  </tbody>\n",
       "</table>\n",
       "</div>"
      ],
      "text/plain": [
       "   k       inertia  silhouette\n",
       "0  2  11600.388242    0.115461\n",
       "1  3  10679.748541    0.087072\n",
       "2  4   9843.205912    0.108149"
      ]
     },
     "execution_count": 26,
     "metadata": {},
     "output_type": "execute_result"
    }
   ],
   "source": [
    "# code from GA lesson 39 k_means\n",
    "scores = []\n",
    "\n",
    "for k in range(2, 5):\n",
    "    km = KMeans(n_clusters = k)\n",
    "    km.fit(bat_km_sc)\n",
    "    inertia = km.inertia_\n",
    "    silhouette = silhouette_score(bat_km_sc, km.labels_)\n",
    "    scores.append([k, inertia, silhouette])\n",
    "\n",
    "score_df = pd.DataFrame(scores, columns = ['k', 'inertia', 'silhouette'])\n",
    "score_df"
   ]
  },
  {
   "cell_type": "code",
   "execution_count": 27,
   "id": "9deaa678-5df3-4e0b-b603-4f9947daeab4",
   "metadata": {},
   "outputs": [],
   "source": [
    "import numpy as np"
   ]
  },
  {
   "cell_type": "code",
   "execution_count": 28,
   "id": "1717ff16-0004-4c1d-a9d7-4c59a0477a03",
   "metadata": {},
   "outputs": [
    {
     "name": "stderr",
     "output_type": "stream",
     "text": [
      "/var/folders/7q/63cgxnn50sl5zwxkchv_j2cr0000gn/T/ipykernel_11110/1765311509.py:13: SettingWithCopyWarning: \n",
      "A value is trying to be set on a copy of a slice from a DataFrame.\n",
      "Try using .loc[row_indexer,col_indexer] = value instead\n",
      "\n",
      "See the caveats in the documentation: https://pandas.pydata.org/pandas-docs/stable/user_guide/indexing.html#returning-a-view-versus-a-copy\n",
      "  text_df['code'] = text_df[0].str.split(expand=True).iloc[:,0]\n",
      "/var/folders/7q/63cgxnn50sl5zwxkchv_j2cr0000gn/T/ipykernel_11110/1765311509.py:14: SettingWithCopyWarning: \n",
      "A value is trying to be set on a copy of a slice from a DataFrame\n",
      "\n",
      "See the caveats in the documentation: https://pandas.pydata.org/pandas-docs/stable/user_guide/indexing.html#returning-a-view-versus-a-copy\n",
      "  text_df.rename(columns={0:'description'}, inplace=True)\n",
      "/var/folders/7q/63cgxnn50sl5zwxkchv_j2cr0000gn/T/ipykernel_11110/1765311509.py:15: SettingWithCopyWarning: \n",
      "A value is trying to be set on a copy of a slice from a DataFrame.\n",
      "Try using .loc[row_indexer,col_indexer] = value instead\n",
      "\n",
      "See the caveats in the documentation: https://pandas.pydata.org/pandas-docs/stable/user_guide/indexing.html#returning-a-view-versus-a-copy\n",
      "  text_df['code'] = text_df['code'].str.lower()\n"
     ]
    },
    {
     "data": {
      "text/html": [
       "<div>\n",
       "<style scoped>\n",
       "    .dataframe tbody tr th:only-of-type {\n",
       "        vertical-align: middle;\n",
       "    }\n",
       "\n",
       "    .dataframe tbody tr th {\n",
       "        vertical-align: top;\n",
       "    }\n",
       "\n",
       "    .dataframe thead th {\n",
       "        text-align: right;\n",
       "    }\n",
       "</style>\n",
       "<table border=\"1\" class=\"dataframe\">\n",
       "  <thead>\n",
       "    <tr style=\"text-align: right;\">\n",
       "      <th></th>\n",
       "      <th>description</th>\n",
       "      <th>code</th>\n",
       "    </tr>\n",
       "  </thead>\n",
       "  <tbody>\n",
       "    <tr>\n",
       "      <th>0</th>\n",
       "      <td>M001 ALL0-4     mortality ALL CAUSES AGE 0-4 (...</td>\n",
       "      <td>m001</td>\n",
       "    </tr>\n",
       "    <tr>\n",
       "      <th>2</th>\n",
       "      <td>M002 ALL5-14    mortality ALL CAUSES AGE 5-14 ...</td>\n",
       "      <td>m002</td>\n",
       "    </tr>\n",
       "    <tr>\n",
       "      <th>4</th>\n",
       "      <td>M003 ALL15-34   mortality ALL CAUSES AGE 15-34...</td>\n",
       "      <td>m003</td>\n",
       "    </tr>\n",
       "    <tr>\n",
       "      <th>6</th>\n",
       "      <td>M004 ALL0-34    mortality ALL CAUSES AGE 0-34 ...</td>\n",
       "      <td>m004</td>\n",
       "    </tr>\n",
       "    <tr>\n",
       "      <th>8</th>\n",
       "      <td>M005 ALL35-69   mortality ALL CAUSES AGE 35-69...</td>\n",
       "      <td>m005</td>\n",
       "    </tr>\n",
       "    <tr>\n",
       "      <th>...</th>\n",
       "      <td>...</td>\n",
       "      <td>...</td>\n",
       "    </tr>\n",
       "    <tr>\n",
       "      <th>1268</th>\n",
       "      <td>Q243 fWTadj     questionnaire WEIGHT OF SCHOOL...</td>\n",
       "      <td>q243</td>\n",
       "    </tr>\n",
       "    <tr>\n",
       "      <th>1270</th>\n",
       "      <td>Q244 fHT        questionnaire HEIGHT OF SCHOOL...</td>\n",
       "      <td>q244</td>\n",
       "    </tr>\n",
       "    <tr>\n",
       "      <th>1272</th>\n",
       "      <td>Q245 fHTadj     questionnaire HEIGHT OF SCHOOL...</td>\n",
       "      <td>q245</td>\n",
       "    </tr>\n",
       "    <tr>\n",
       "      <th>1274</th>\n",
       "      <td>Q246 fBMI       questionnaire WEIGHT/HEIGHT**2...</td>\n",
       "      <td>q246</td>\n",
       "    </tr>\n",
       "    <tr>\n",
       "      <th>1276</th>\n",
       "      <td>Q247 fBMIadj    questionnaire WEIGHT/HEIGHT**2...</td>\n",
       "      <td>q247</td>\n",
       "    </tr>\n",
       "  </tbody>\n",
       "</table>\n",
       "<p>639 rows × 2 columns</p>\n",
       "</div>"
      ],
      "text/plain": [
       "                                            description  code\n",
       "0     M001 ALL0-4     mortality ALL CAUSES AGE 0-4 (...  m001\n",
       "2     M002 ALL5-14    mortality ALL CAUSES AGE 5-14 ...  m002\n",
       "4     M003 ALL15-34   mortality ALL CAUSES AGE 15-34...  m003\n",
       "6     M004 ALL0-34    mortality ALL CAUSES AGE 0-34 ...  m004\n",
       "8     M005 ALL35-69   mortality ALL CAUSES AGE 35-69...  m005\n",
       "...                                                 ...   ...\n",
       "1268  Q243 fWTadj     questionnaire WEIGHT OF SCHOOL...  q243\n",
       "1270  Q244 fHT        questionnaire HEIGHT OF SCHOOL...  q244\n",
       "1272  Q245 fHTadj     questionnaire HEIGHT OF SCHOOL...  q245\n",
       "1274  Q246 fBMI       questionnaire WEIGHT/HEIGHT**2...  q246\n",
       "1276  Q247 fBMIadj    questionnaire WEIGHT/HEIGHT**2...  q247\n",
       "\n",
       "[639 rows x 2 columns]"
      ]
     },
     "execution_count": 28,
     "metadata": {},
     "output_type": "execute_result"
    }
   ],
   "source": [
    "# This code reads the text file with all the code descriptions as a single column and \n",
    "# will return a df. The last bits will match the imported text file to the features with an \n",
    "# importance > 0\n",
    "# After the initial modeling:\n",
    "\n",
    "with open('./data/CHNAME.txt', 'r') as file:\n",
    "    data = file.read()\n",
    "    rows = data.split('\\n')\n",
    "\n",
    "descriptions = pd.DataFrame(rows)\n",
    "\n",
    "text_df = descriptions.iloc[::2,:]\n",
    "text_df['code'] = text_df[0].str.split(expand=True).iloc[:,0]\n",
    "text_df.rename(columns={0:'description'}, inplace=True)\n",
    "text_df['code'] = text_df['code'].str.lower()\n",
    "text_df"
   ]
  },
  {
   "cell_type": "markdown",
   "id": "2a453bb3-786e-4f08-aef8-c95b6f091c42",
   "metadata": {},
   "source": [
    "k-means doesn't offer much of value here."
   ]
  },
  {
   "cell_type": "code",
   "execution_count": 29,
   "id": "948ed601-2eca-42a4-9686-f47b7275eb7c",
   "metadata": {},
   "outputs": [],
   "source": [
    "from sklearn.cluster import DBSCAN"
   ]
  },
  {
   "cell_type": "code",
   "execution_count": 30,
   "id": "8bbb481f-8f47-4529-b2c4-ab9c4ee9ade7",
   "metadata": {},
   "outputs": [
    {
     "data": {
      "text/plain": [
       "array([-1,  0,  0, -1, -1, -1, -1, -1, -1, -1, -1, -1, -1, -1, -1, -1, -1,\n",
       "       -1, -1, -1,  0,  0, -1,  1,  1, -1, -1, -1, -1, -1, -1,  2, -1,  2,\n",
       "       -1, -1, -1, -1, -1, -1,  3, -1, -1,  3,  4, -1,  4, -1, -1, -1, -1,\n",
       "       -1, -1, -1, -1,  5,  5, -1,  5, -1, -1, -1, -1, -1, -1, -1, -1, -1,\n",
       "       -1])"
      ]
     },
     "execution_count": 30,
     "metadata": {},
     "output_type": "execute_result"
    }
   ],
   "source": [
    "dbscan = DBSCAN(eps = 11, min_samples=2)\n",
    "dbscan.fit(bat_km_sc)\n",
    "silhouette_score(bat_km_sc, dbscan.labels_)\n",
    "dbscan.labels_"
   ]
  },
  {
   "cell_type": "code",
   "execution_count": null,
   "id": "085145e7-f1b2-441f-ab1d-9d572b2de272",
   "metadata": {},
   "outputs": [],
   "source": []
  },
  {
   "cell_type": "code",
   "execution_count": 31,
   "id": "09a81b06-9cc9-47b7-a101-7b4a1aebf544",
   "metadata": {
    "collapsed": true,
    "jupyter": {
     "outputs_hidden": true
    },
    "tags": []
   },
   "outputs": [
    {
     "data": {
      "text/plain": [
       "['q010',\n",
       " 'q015',\n",
       " 'q016',\n",
       " 'q022',\n",
       " 'q023',\n",
       " 'q024',\n",
       " 'q025',\n",
       " 'q037',\n",
       " 'q038',\n",
       " 'q039',\n",
       " 'q040',\n",
       " 'q082',\n",
       " 'q083',\n",
       " 'q084',\n",
       " 'q087',\n",
       " 'q088',\n",
       " 'q089',\n",
       " 'q090',\n",
       " 'q091',\n",
       " 'q092',\n",
       " 'q093',\n",
       " 'q094',\n",
       " 'q095',\n",
       " 'q096',\n",
       " 'q097',\n",
       " 'q098',\n",
       " 'q099',\n",
       " 'q100',\n",
       " 'q101',\n",
       " 'q102',\n",
       " 'q103',\n",
       " 'q104',\n",
       " 'q105',\n",
       " 'q106',\n",
       " 'q107',\n",
       " 'q108',\n",
       " 'q109',\n",
       " 'q110',\n",
       " 'q119',\n",
       " 'q120',\n",
       " 'q121',\n",
       " 'q122',\n",
       " 'q123',\n",
       " 'q124',\n",
       " 'q125',\n",
       " 'q126',\n",
       " 'q127',\n",
       " 'q128',\n",
       " 'q129',\n",
       " 'q136',\n",
       " 'q137',\n",
       " 'q140',\n",
       " 'q141',\n",
       " 'q144',\n",
       " 'q145',\n",
       " 'q146',\n",
       " 'q147',\n",
       " 'q148',\n",
       " 'q149',\n",
       " 'q150',\n",
       " 'q151',\n",
       " 'q152',\n",
       " 'q153',\n",
       " 'q154',\n",
       " 'q155',\n",
       " 'q156',\n",
       " 'q157',\n",
       " 'q158',\n",
       " 'q159',\n",
       " 'q160',\n",
       " 'q161',\n",
       " 'q162',\n",
       " 'q163',\n",
       " 'q164',\n",
       " 'q165',\n",
       " 'q166',\n",
       " 'q167',\n",
       " 'q168',\n",
       " 'q169',\n",
       " 'q170',\n",
       " 'q171',\n",
       " 'q172',\n",
       " 'q173',\n",
       " 'q174',\n",
       " 'q175',\n",
       " 'q176',\n",
       " 'q177',\n",
       " 'sex',\n",
       " 'xiang',\n",
       " 'd005',\n",
       " 'd006',\n",
       " 'd007',\n",
       " 'd008',\n",
       " 'd009',\n",
       " 'd012',\n",
       " 'd013',\n",
       " 'd014',\n",
       " 'd015',\n",
       " 'd016',\n",
       " 'd028',\n",
       " 'd029',\n",
       " 'd030',\n",
       " 'd031',\n",
       " 'd032',\n",
       " 'd033',\n",
       " 'd034',\n",
       " 'd035',\n",
       " 'd036',\n",
       " 'd037',\n",
       " 'd038',\n",
       " 'd039',\n",
       " 'd040',\n",
       " 'd041',\n",
       " 'd042',\n",
       " 'd043',\n",
       " 'd044',\n",
       " 'd045',\n",
       " 'd046',\n",
       " 'd047',\n",
       " 'd048',\n",
       " 'd049',\n",
       " 'd050',\n",
       " 'd051',\n",
       " 'd052',\n",
       " 'g001',\n",
       " 'g002',\n",
       " 'g003',\n",
       " 'g004',\n",
       " 'g005',\n",
       " 'Unnamed: 0',\n",
       " 'p001',\n",
       " 'p002',\n",
       " 'p003',\n",
       " 'p004',\n",
       " 'p005',\n",
       " 'p006',\n",
       " 'p008',\n",
       " 'p009',\n",
       " 'p010',\n",
       " 'p011',\n",
       " 'p012',\n",
       " 'p013',\n",
       " 'p014',\n",
       " 'p015',\n",
       " 'p016',\n",
       " 'p017',\n",
       " 'p018',\n",
       " 'p019',\n",
       " 'p020',\n",
       " 'p021',\n",
       " 'p022',\n",
       " 'p023',\n",
       " 'p024',\n",
       " 'p025',\n",
       " 'p026',\n",
       " 'p027',\n",
       " 'p030',\n",
       " 'p031',\n",
       " 'p032',\n",
       " 'p033',\n",
       " 'p034',\n",
       " 'p038',\n",
       " 'p039',\n",
       " 'p040',\n",
       " 'p042',\n",
       " 'p043',\n",
       " 'p044',\n",
       " 'r001',\n",
       " 'r002',\n",
       " 'r003',\n",
       " 'r004',\n",
       " 'r005',\n",
       " 'r006',\n",
       " 'r007',\n",
       " 'r008',\n",
       " 'r009',\n",
       " 'r010',\n",
       " 'r011',\n",
       " 'r012',\n",
       " 'r013',\n",
       " 'r014',\n",
       " 'r015',\n",
       " 'r016',\n",
       " 'r017',\n",
       " 'r018',\n",
       " 'r019',\n",
       " 'r020',\n",
       " 'r021',\n",
       " 'r022',\n",
       " 'r023',\n",
       " 'r024',\n",
       " 'r025',\n",
       " 'r026']"
      ]
     },
     "execution_count": 31,
     "metadata": {},
     "output_type": "execute_result"
    }
   ],
   "source": [
    "list(bat_km.columns)"
   ]
  },
  {
   "cell_type": "markdown",
   "id": "717ef1c1-6fac-4bd2-b6b6-11c6de92f875",
   "metadata": {},
   "source": [
    "adjusting the eps parameter did not reveal anything useful. The best silhouette score for .24 was seen with min_samples = 1, eps = 18.  "
   ]
  },
  {
   "cell_type": "markdown",
   "id": "112c8073-bb18-461c-9afc-a4faec2ccf40",
   "metadata": {},
   "source": [
    "spectral implementation from [source](https://www.youtube.com/watch?v=YHz0PHcuJnk)"
   ]
  },
  {
   "cell_type": "code",
   "execution_count": 32,
   "id": "6c015697-1127-49d0-a950-865e6f5d7548",
   "metadata": {},
   "outputs": [],
   "source": [
    "from sklearn.preprocessing import normalize\n",
    "from scipy import linalg\n",
    "import matplotlib.pyplot as plt"
   ]
  },
  {
   "cell_type": "code",
   "execution_count": 33,
   "id": "eced8d58-4faa-41ed-8fae-2bc330c9b988",
   "metadata": {},
   "outputs": [
    {
     "data": {
      "text/plain": [
       "array([0, 0, 0, 1, 1, 1, 1, 1, 1, 1, 1, 1, 1, 1, 1, 1, 1, 0, 0, 0, 0, 0,\n",
       "       0, 0, 0, 0, 0, 0, 0, 0, 0, 0, 0, 0, 0, 0, 0, 0, 0, 0, 0, 0, 0, 0,\n",
       "       0, 0, 0, 1, 0, 0, 0, 1, 1, 1, 0, 0, 0, 0, 0, 0, 1, 1, 1, 1, 1, 1,\n",
       "       1, 1, 1], dtype=int32)"
      ]
     },
     "execution_count": 33,
     "metadata": {},
     "output_type": "execute_result"
    }
   ],
   "source": [
    "U, sigma, _ = linalg.svd(bat_km_sc, full_matrices=False, lapack_driver='gesvd')\n",
    "\n",
    "Usubset = U[:,0:2]\n",
    "y_pred_sc = KMeans(n_clusters=2).fit_predict(normalize(Usubset))\n",
    "\n",
    "y_pred_sc\n",
    "# Usubset"
   ]
  },
  {
   "cell_type": "code",
   "execution_count": 34,
   "id": "35089647-e780-4b95-ab41-e796e3c2fd54",
   "metadata": {},
   "outputs": [
    {
     "data": {
      "text/plain": [
       "0.11546123963885838"
      ]
     },
     "execution_count": 34,
     "metadata": {},
     "output_type": "execute_result"
    }
   ],
   "source": [
    "silhouette_score(bat_km_sc,y_pred_sc)"
   ]
  },
  {
   "cell_type": "code",
   "execution_count": null,
   "id": "91d3ce0b-7371-4abd-96a4-2ec6b0b62311",
   "metadata": {},
   "outputs": [],
   "source": []
  },
  {
   "cell_type": "markdown",
   "id": "639937a6-f8bb-4407-9513-b1fc26e67921",
   "metadata": {},
   "source": [
    "###### I'll look at correlations"
   ]
  },
  {
   "cell_type": "code",
   "execution_count": 53,
   "id": "8212be66-ff30-483a-b04e-25f54cd53b43",
   "metadata": {},
   "outputs": [
    {
     "data": {
      "text/plain": [
       "m005_ALL35_69     1.000000\n",
       "m008_MEDICALc     0.994174\n",
       "m065_STROKEc      0.661894\n",
       "m023_ALLCAc       0.654656\n",
       "m059_ALLVASCc     0.636779\n",
       "q112              0.606668\n",
       "m028_OESOPHCAc    0.591774\n",
       "m010_NONMEDc      0.584551\n",
       "m072_COPDc        0.583482\n",
       "q129              0.567655\n",
       "q128              0.562904\n",
       "q111              0.551754\n",
       "q141              0.515579\n",
       "q090              0.510261\n",
       "q136              0.487015\n",
       "q154              0.455161\n",
       "q137              0.436147\n",
       "q023              0.428377\n",
       "q103              0.414731\n",
       "g003              0.402841\n",
       "Name: m005_ALL35_69, dtype: float64"
      ]
     },
     "execution_count": 53,
     "metadata": {},
     "output_type": "execute_result"
    }
   ],
   "source": [
    "bat.corr()[[col for col in bat.columns if col.startswith('m')]].iloc[:,0].sort_values(ascending = False)[0:20]"
   ]
  },
  {
   "cell_type": "code",
   "execution_count": 36,
   "id": "bc4c378f-fc4a-425e-92bf-2dd22572512b",
   "metadata": {},
   "outputs": [],
   "source": [
    "import numpy as np\n",
    "from sklearn.decomposition import PCA"
   ]
  },
  {
   "cell_type": "code",
   "execution_count": 69,
   "id": "c3e31a58-4d74-4f30-b6e9-73dc453dd502",
   "metadata": {},
   "outputs": [],
   "source": [
    "pca = PCA(n_components = 10)"
   ]
  },
  {
   "cell_type": "code",
   "execution_count": 64,
   "id": "08a6980e-9cde-4f18-87aa-8411c5046484",
   "metadata": {},
   "outputs": [
    {
     "data": {
      "text/plain": [
       "(69, 192)"
      ]
     },
     "execution_count": 64,
     "metadata": {},
     "output_type": "execute_result"
    }
   ],
   "source": [
    "bat_predictors.shape"
   ]
  },
  {
   "cell_type": "code",
   "execution_count": 70,
   "id": "0154cb94-4dad-453d-8c6a-e2d25f76dec5",
   "metadata": {},
   "outputs": [],
   "source": [
    "bat_predictors = bat_km[[col for col in bat_km.columns if not col.startswith('m')]].select_dtypes(exclude = 'object')"
   ]
  },
  {
   "cell_type": "code",
   "execution_count": 71,
   "id": "87019d2f-bea7-4c43-9a32-0a0e5567612c",
   "metadata": {},
   "outputs": [
    {
     "data": {
      "text/plain": [
       "(69, 192)"
      ]
     },
     "execution_count": 71,
     "metadata": {},
     "output_type": "execute_result"
    }
   ],
   "source": [
    "bat_predictors.shape"
   ]
  },
  {
   "cell_type": "code",
   "execution_count": 78,
   "id": "3de74ff2-1674-45ab-b6d8-061e49af5c6d",
   "metadata": {
    "tags": []
   },
   "outputs": [],
   "source": [
    "z_pred = pca.fit_transform(bat_predictors)"
   ]
  },
  {
   "cell_type": "code",
   "execution_count": null,
   "id": "96cdb71a-bbbd-4d62-a189-f88bc461cbf8",
   "metadata": {},
   "outputs": [],
   "source": [
    "z_"
   ]
  },
  {
   "cell_type": "code",
   "execution_count": 79,
   "id": "7d1cc0d6-a4c7-49fd-9040-e241a0ffda69",
   "metadata": {},
   "outputs": [
    {
     "data": {
      "text/plain": [
       "array([1170986.52172192,  922375.60933793,  312702.46625813,\n",
       "        187416.12338887,  126613.59706219,   99713.76894588,\n",
       "         52607.66904928,   28436.08853121,   23070.16260433,\n",
       "         15389.70906332])"
      ]
     },
     "execution_count": 79,
     "metadata": {},
     "output_type": "execute_result"
    }
   ],
   "source": [
    "pca.explained_variance_"
   ]
  },
  {
   "cell_type": "code",
   "execution_count": 83,
   "id": "68fa0fc8-b5ed-4701-bb33-b3d09a54eb6e",
   "metadata": {},
   "outputs": [],
   "source": [
    "from sklearn.linear_model import LogisticRegressionCV"
   ]
  },
  {
   "cell_type": "code",
   "execution_count": 84,
   "id": "0114e200-77be-47d8-94c5-e51abccf6373",
   "metadata": {},
   "outputs": [],
   "source": [
    "lr = LogisticRegressionCV()"
   ]
  },
  {
   "cell_type": "code",
   "execution_count": 113,
   "id": "37030ff4-82db-44d6-9ca6-4cb58d69b680",
   "metadata": {},
   "outputs": [],
   "source": [
    "Z_df = pd.DataFrame(z_pred)"
   ]
  },
  {
   "cell_type": "code",
   "execution_count": 114,
   "id": "d692f7c1-98e9-4d3d-9009-2636697bb399",
   "metadata": {},
   "outputs": [
    {
     "data": {
      "text/html": [
       "<div>\n",
       "<style scoped>\n",
       "    .dataframe tbody tr th:only-of-type {\n",
       "        vertical-align: middle;\n",
       "    }\n",
       "\n",
       "    .dataframe tbody tr th {\n",
       "        vertical-align: top;\n",
       "    }\n",
       "\n",
       "    .dataframe thead th {\n",
       "        text-align: right;\n",
       "    }\n",
       "</style>\n",
       "<table border=\"1\" class=\"dataframe\">\n",
       "  <thead>\n",
       "    <tr style=\"text-align: right;\">\n",
       "      <th></th>\n",
       "      <th>0</th>\n",
       "      <th>1</th>\n",
       "      <th>2</th>\n",
       "      <th>3</th>\n",
       "      <th>4</th>\n",
       "      <th>5</th>\n",
       "      <th>6</th>\n",
       "      <th>7</th>\n",
       "      <th>8</th>\n",
       "      <th>9</th>\n",
       "    </tr>\n",
       "  </thead>\n",
       "  <tbody>\n",
       "    <tr>\n",
       "      <th>0</th>\n",
       "      <td>1057.180171</td>\n",
       "      <td>-1531.932011</td>\n",
       "      <td>567.623623</td>\n",
       "      <td>-250.715392</td>\n",
       "      <td>1042.430534</td>\n",
       "      <td>10.723320</td>\n",
       "      <td>72.279224</td>\n",
       "      <td>67.278632</td>\n",
       "      <td>147.299898</td>\n",
       "      <td>114.766443</td>\n",
       "    </tr>\n",
       "    <tr>\n",
       "      <th>1</th>\n",
       "      <td>607.642702</td>\n",
       "      <td>-1433.121284</td>\n",
       "      <td>-117.699899</td>\n",
       "      <td>309.422667</td>\n",
       "      <td>601.171261</td>\n",
       "      <td>63.483420</td>\n",
       "      <td>-295.205706</td>\n",
       "      <td>-44.917021</td>\n",
       "      <td>284.778296</td>\n",
       "      <td>105.523753</td>\n",
       "    </tr>\n",
       "    <tr>\n",
       "      <th>2</th>\n",
       "      <td>-60.308067</td>\n",
       "      <td>-1213.154017</td>\n",
       "      <td>149.797054</td>\n",
       "      <td>-370.719153</td>\n",
       "      <td>919.556592</td>\n",
       "      <td>-82.544538</td>\n",
       "      <td>13.295270</td>\n",
       "      <td>-0.690093</td>\n",
       "      <td>35.653627</td>\n",
       "      <td>21.860627</td>\n",
       "    </tr>\n",
       "    <tr>\n",
       "      <th>3</th>\n",
       "      <td>-1363.417582</td>\n",
       "      <td>348.107468</td>\n",
       "      <td>-176.874795</td>\n",
       "      <td>-576.819087</td>\n",
       "      <td>-28.259225</td>\n",
       "      <td>578.140762</td>\n",
       "      <td>66.698293</td>\n",
       "      <td>-71.207856</td>\n",
       "      <td>80.676777</td>\n",
       "      <td>6.672653</td>\n",
       "    </tr>\n",
       "    <tr>\n",
       "      <th>4</th>\n",
       "      <td>-1587.033624</td>\n",
       "      <td>120.248834</td>\n",
       "      <td>82.625391</td>\n",
       "      <td>-760.347607</td>\n",
       "      <td>-276.994395</td>\n",
       "      <td>348.148529</td>\n",
       "      <td>102.193770</td>\n",
       "      <td>30.078145</td>\n",
       "      <td>38.768908</td>\n",
       "      <td>-259.584695</td>\n",
       "    </tr>\n",
       "    <tr>\n",
       "      <th>...</th>\n",
       "      <td>...</td>\n",
       "      <td>...</td>\n",
       "      <td>...</td>\n",
       "      <td>...</td>\n",
       "      <td>...</td>\n",
       "      <td>...</td>\n",
       "      <td>...</td>\n",
       "      <td>...</td>\n",
       "      <td>...</td>\n",
       "      <td>...</td>\n",
       "    </tr>\n",
       "    <tr>\n",
       "      <th>64</th>\n",
       "      <td>-514.315147</td>\n",
       "      <td>868.518076</td>\n",
       "      <td>1039.637726</td>\n",
       "      <td>223.099672</td>\n",
       "      <td>-84.590107</td>\n",
       "      <td>-97.872740</td>\n",
       "      <td>-228.082018</td>\n",
       "      <td>-352.665649</td>\n",
       "      <td>-28.717098</td>\n",
       "      <td>267.144433</td>\n",
       "    </tr>\n",
       "    <tr>\n",
       "      <th>65</th>\n",
       "      <td>1635.788212</td>\n",
       "      <td>974.434173</td>\n",
       "      <td>207.135152</td>\n",
       "      <td>-277.468690</td>\n",
       "      <td>-236.844065</td>\n",
       "      <td>639.724741</td>\n",
       "      <td>209.373471</td>\n",
       "      <td>-183.150189</td>\n",
       "      <td>-236.492600</td>\n",
       "      <td>-158.056583</td>\n",
       "    </tr>\n",
       "    <tr>\n",
       "      <th>66</th>\n",
       "      <td>387.558568</td>\n",
       "      <td>1212.436091</td>\n",
       "      <td>360.944207</td>\n",
       "      <td>576.803748</td>\n",
       "      <td>292.812047</td>\n",
       "      <td>-312.330207</td>\n",
       "      <td>224.353367</td>\n",
       "      <td>-110.271331</td>\n",
       "      <td>89.219491</td>\n",
       "      <td>-41.187639</td>\n",
       "    </tr>\n",
       "    <tr>\n",
       "      <th>67</th>\n",
       "      <td>-1574.918356</td>\n",
       "      <td>890.213872</td>\n",
       "      <td>1083.770610</td>\n",
       "      <td>315.215383</td>\n",
       "      <td>-152.063773</td>\n",
       "      <td>-235.933558</td>\n",
       "      <td>302.649978</td>\n",
       "      <td>-162.578725</td>\n",
       "      <td>-121.950167</td>\n",
       "      <td>434.905230</td>\n",
       "    </tr>\n",
       "    <tr>\n",
       "      <th>68</th>\n",
       "      <td>4122.436539</td>\n",
       "      <td>3306.529457</td>\n",
       "      <td>634.323895</td>\n",
       "      <td>254.565235</td>\n",
       "      <td>-216.076786</td>\n",
       "      <td>226.481056</td>\n",
       "      <td>-275.093969</td>\n",
       "      <td>180.233481</td>\n",
       "      <td>-9.573306</td>\n",
       "      <td>40.139982</td>\n",
       "    </tr>\n",
       "  </tbody>\n",
       "</table>\n",
       "<p>69 rows × 10 columns</p>\n",
       "</div>"
      ],
      "text/plain": [
       "              0            1            2           3            4  \\\n",
       "0   1057.180171 -1531.932011   567.623623 -250.715392  1042.430534   \n",
       "1    607.642702 -1433.121284  -117.699899  309.422667   601.171261   \n",
       "2    -60.308067 -1213.154017   149.797054 -370.719153   919.556592   \n",
       "3  -1363.417582   348.107468  -176.874795 -576.819087   -28.259225   \n",
       "4  -1587.033624   120.248834    82.625391 -760.347607  -276.994395   \n",
       "..          ...          ...          ...         ...          ...   \n",
       "64  -514.315147   868.518076  1039.637726  223.099672   -84.590107   \n",
       "65  1635.788212   974.434173   207.135152 -277.468690  -236.844065   \n",
       "66   387.558568  1212.436091   360.944207  576.803748   292.812047   \n",
       "67 -1574.918356   890.213872  1083.770610  315.215383  -152.063773   \n",
       "68  4122.436539  3306.529457   634.323895  254.565235  -216.076786   \n",
       "\n",
       "             5           6           7           8           9  \n",
       "0    10.723320   72.279224   67.278632  147.299898  114.766443  \n",
       "1    63.483420 -295.205706  -44.917021  284.778296  105.523753  \n",
       "2   -82.544538   13.295270   -0.690093   35.653627   21.860627  \n",
       "3   578.140762   66.698293  -71.207856   80.676777    6.672653  \n",
       "4   348.148529  102.193770   30.078145   38.768908 -259.584695  \n",
       "..         ...         ...         ...         ...         ...  \n",
       "64  -97.872740 -228.082018 -352.665649  -28.717098  267.144433  \n",
       "65  639.724741  209.373471 -183.150189 -236.492600 -158.056583  \n",
       "66 -312.330207  224.353367 -110.271331   89.219491  -41.187639  \n",
       "67 -235.933558  302.649978 -162.578725 -121.950167  434.905230  \n",
       "68  226.481056 -275.093969  180.233481   -9.573306   40.139982  \n",
       "\n",
       "[69 rows x 10 columns]"
      ]
     },
     "execution_count": 114,
     "metadata": {},
     "output_type": "execute_result"
    }
   ],
   "source": [
    "Z_df"
   ]
  },
  {
   "cell_type": "code",
   "execution_count": 99,
   "id": "d6bb62dc-b8a5-4226-b6ca-903f6a2532bb",
   "metadata": {},
   "outputs": [],
   "source": [
    "mort_df = bat[[col for col in bat.columns if  col.startswith('m')]].iloc[bat_km.index]"
   ]
  },
  {
   "cell_type": "code",
   "execution_count": 100,
   "id": "6b8857d2-f58e-43b2-8de8-a88cbbc9eb2c",
   "metadata": {},
   "outputs": [
    {
     "data": {
      "text/plain": [
       "Index(['m005_ALL35_69', 'm008_MEDICALc', 'm065_STROKEc', 'm023_ALLCAc',\n",
       "       'm059_ALLVASCc', 'm028_OESOPHCAc', 'm072_COPDc', 'm010_NONMEDc'],\n",
       "      dtype='object')"
      ]
     },
     "execution_count": 100,
     "metadata": {},
     "output_type": "execute_result"
    }
   ],
   "source": [
    "mort_df. columns"
   ]
  },
  {
   "cell_type": "code",
   "execution_count": null,
   "id": "f520b467-cfb8-4525-b50c-7048f812bd87",
   "metadata": {},
   "outputs": [],
   "source": [
    "bat_km['m005_']"
   ]
  },
  {
   "cell_type": "code",
   "execution_count": 97,
   "id": "088d2fcd-1f02-42b8-82e5-740751170ada",
   "metadata": {},
   "outputs": [
    {
     "data": {
      "text/plain": [
       "Int64Index([  8,  17,  26,  35,  44,  53,  62,  71,  80,  89,  98, 107, 116,\n",
       "            125, 134, 143, 152, 161, 170, 179, 188, 197, 206, 215, 224, 233,\n",
       "            242, 251, 260, 269, 278, 287, 296, 305, 314, 323, 332, 341, 350,\n",
       "            359, 368, 377, 386, 395, 404, 413, 422, 431, 440, 449, 458, 467,\n",
       "            476, 485, 494, 503, 512, 521, 530, 539, 548, 557, 566, 575, 584,\n",
       "            593, 602, 611, 620],\n",
       "           dtype='int64')"
      ]
     },
     "execution_count": 97,
     "metadata": {},
     "output_type": "execute_result"
    }
   ],
   "source": [
    "bat_km.index"
   ]
  },
  {
   "cell_type": "code",
   "execution_count": 108,
   "id": "2e88fc1d-be45-4dec-a984-f8bf57210925",
   "metadata": {},
   "outputs": [],
   "source": [
    "m005 = mort_df['m005_ALL35_69'].fillna(np.mean(mort_df['m005_ALL35_69']))"
   ]
  },
  {
   "cell_type": "code",
   "execution_count": 116,
   "id": "da84992f-a862-4e50-8d04-402361cf581b",
   "metadata": {},
   "outputs": [
    {
     "data": {
      "text/plain": [
       "((69,), (69, 10))"
      ]
     },
     "execution_count": 116,
     "metadata": {},
     "output_type": "execute_result"
    }
   ],
   "source": [
    "m005.shape, Z_df.shape"
   ]
  },
  {
   "cell_type": "code",
   "execution_count": 119,
   "id": "21334ff4-6c39-48bc-bd3a-f92caca3d649",
   "metadata": {
    "collapsed": true,
    "jupyter": {
     "outputs_hidden": true
    },
    "tags": []
   },
   "outputs": [
    {
     "data": {
      "text/plain": [
       "array([11.29      , 11.82      , 10.55      , 16.19      , 13.59      ,\n",
       "        9.58      , 15.32      , 14.55      , 10.84      , 10.        ,\n",
       "       13.85      , 13.81      , 10.11      , 14.36      , 14.38      ,\n",
       "       11.8       ,  9.45      , 16.75      , 17.7       , 15.8       ,\n",
       "       11.34      ,  8.76      , 15.86      , 14.05      , 16.09      ,\n",
       "       13.75      , 12.19      , 13.6       , 15.07      , 14.8       ,\n",
       "       14.7       , 15.7       , 19.05      , 13.73      , 14.03272727,\n",
       "        9.95      , 11.43      ,  9.82      , 15.89      , 23.45      ,\n",
       "       11.96      , 11.4       , 10.93      , 10.65      , 13.9       ,\n",
       "       15.96      , 11.74      , 18.12      , 14.19      , 16.75      ,\n",
       "       16.26      , 17.21      , 14.13      , 22.25      ,  9.47      ,\n",
       "       10.7       , 14.03272727, 14.74      , 14.03272727,  8.53      ,\n",
       "       17.93      , 20.54      , 14.82      , 10.21      , 17.05      ,\n",
       "       13.29      , 15.63      , 18.88      , 17.95      ])"
      ]
     },
     "execution_count": 119,
     "metadata": {},
     "output_type": "execute_result"
    }
   ],
   "source": [
    "m005.values"
   ]
  },
  {
   "cell_type": "code",
   "execution_count": 121,
   "id": "fca12b11-2b90-492b-978a-0eb0ac863a7c",
   "metadata": {
    "collapsed": true,
    "jupyter": {
     "outputs_hidden": true
    },
    "tags": []
   },
   "outputs": [
    {
     "data": {
      "text/html": [
       "<div>\n",
       "<style scoped>\n",
       "    .dataframe tbody tr th:only-of-type {\n",
       "        vertical-align: middle;\n",
       "    }\n",
       "\n",
       "    .dataframe tbody tr th {\n",
       "        vertical-align: top;\n",
       "    }\n",
       "\n",
       "    .dataframe thead th {\n",
       "        text-align: right;\n",
       "    }\n",
       "</style>\n",
       "<table border=\"1\" class=\"dataframe\">\n",
       "  <thead>\n",
       "    <tr style=\"text-align: right;\">\n",
       "      <th></th>\n",
       "      <th>0</th>\n",
       "      <th>1</th>\n",
       "      <th>2</th>\n",
       "      <th>3</th>\n",
       "      <th>4</th>\n",
       "      <th>5</th>\n",
       "      <th>6</th>\n",
       "      <th>7</th>\n",
       "      <th>8</th>\n",
       "      <th>9</th>\n",
       "    </tr>\n",
       "  </thead>\n",
       "  <tbody>\n",
       "    <tr>\n",
       "      <th>0</th>\n",
       "      <td>1057.180171</td>\n",
       "      <td>-1531.932011</td>\n",
       "      <td>567.623623</td>\n",
       "      <td>-250.715392</td>\n",
       "      <td>1042.430534</td>\n",
       "      <td>10.723320</td>\n",
       "      <td>72.279224</td>\n",
       "      <td>67.278632</td>\n",
       "      <td>147.299898</td>\n",
       "      <td>114.766443</td>\n",
       "    </tr>\n",
       "    <tr>\n",
       "      <th>1</th>\n",
       "      <td>607.642702</td>\n",
       "      <td>-1433.121284</td>\n",
       "      <td>-117.699899</td>\n",
       "      <td>309.422667</td>\n",
       "      <td>601.171261</td>\n",
       "      <td>63.483420</td>\n",
       "      <td>-295.205706</td>\n",
       "      <td>-44.917021</td>\n",
       "      <td>284.778296</td>\n",
       "      <td>105.523753</td>\n",
       "    </tr>\n",
       "    <tr>\n",
       "      <th>2</th>\n",
       "      <td>-60.308067</td>\n",
       "      <td>-1213.154017</td>\n",
       "      <td>149.797054</td>\n",
       "      <td>-370.719153</td>\n",
       "      <td>919.556592</td>\n",
       "      <td>-82.544538</td>\n",
       "      <td>13.295270</td>\n",
       "      <td>-0.690093</td>\n",
       "      <td>35.653627</td>\n",
       "      <td>21.860627</td>\n",
       "    </tr>\n",
       "    <tr>\n",
       "      <th>3</th>\n",
       "      <td>-1363.417582</td>\n",
       "      <td>348.107468</td>\n",
       "      <td>-176.874795</td>\n",
       "      <td>-576.819087</td>\n",
       "      <td>-28.259225</td>\n",
       "      <td>578.140762</td>\n",
       "      <td>66.698293</td>\n",
       "      <td>-71.207856</td>\n",
       "      <td>80.676777</td>\n",
       "      <td>6.672653</td>\n",
       "    </tr>\n",
       "    <tr>\n",
       "      <th>4</th>\n",
       "      <td>-1587.033624</td>\n",
       "      <td>120.248834</td>\n",
       "      <td>82.625391</td>\n",
       "      <td>-760.347607</td>\n",
       "      <td>-276.994395</td>\n",
       "      <td>348.148529</td>\n",
       "      <td>102.193770</td>\n",
       "      <td>30.078145</td>\n",
       "      <td>38.768908</td>\n",
       "      <td>-259.584695</td>\n",
       "    </tr>\n",
       "    <tr>\n",
       "      <th>...</th>\n",
       "      <td>...</td>\n",
       "      <td>...</td>\n",
       "      <td>...</td>\n",
       "      <td>...</td>\n",
       "      <td>...</td>\n",
       "      <td>...</td>\n",
       "      <td>...</td>\n",
       "      <td>...</td>\n",
       "      <td>...</td>\n",
       "      <td>...</td>\n",
       "    </tr>\n",
       "    <tr>\n",
       "      <th>64</th>\n",
       "      <td>-514.315147</td>\n",
       "      <td>868.518076</td>\n",
       "      <td>1039.637726</td>\n",
       "      <td>223.099672</td>\n",
       "      <td>-84.590107</td>\n",
       "      <td>-97.872740</td>\n",
       "      <td>-228.082018</td>\n",
       "      <td>-352.665649</td>\n",
       "      <td>-28.717098</td>\n",
       "      <td>267.144433</td>\n",
       "    </tr>\n",
       "    <tr>\n",
       "      <th>65</th>\n",
       "      <td>1635.788212</td>\n",
       "      <td>974.434173</td>\n",
       "      <td>207.135152</td>\n",
       "      <td>-277.468690</td>\n",
       "      <td>-236.844065</td>\n",
       "      <td>639.724741</td>\n",
       "      <td>209.373471</td>\n",
       "      <td>-183.150189</td>\n",
       "      <td>-236.492600</td>\n",
       "      <td>-158.056583</td>\n",
       "    </tr>\n",
       "    <tr>\n",
       "      <th>66</th>\n",
       "      <td>387.558568</td>\n",
       "      <td>1212.436091</td>\n",
       "      <td>360.944207</td>\n",
       "      <td>576.803748</td>\n",
       "      <td>292.812047</td>\n",
       "      <td>-312.330207</td>\n",
       "      <td>224.353367</td>\n",
       "      <td>-110.271331</td>\n",
       "      <td>89.219491</td>\n",
       "      <td>-41.187639</td>\n",
       "    </tr>\n",
       "    <tr>\n",
       "      <th>67</th>\n",
       "      <td>-1574.918356</td>\n",
       "      <td>890.213872</td>\n",
       "      <td>1083.770610</td>\n",
       "      <td>315.215383</td>\n",
       "      <td>-152.063773</td>\n",
       "      <td>-235.933558</td>\n",
       "      <td>302.649978</td>\n",
       "      <td>-162.578725</td>\n",
       "      <td>-121.950167</td>\n",
       "      <td>434.905230</td>\n",
       "    </tr>\n",
       "    <tr>\n",
       "      <th>68</th>\n",
       "      <td>4122.436539</td>\n",
       "      <td>3306.529457</td>\n",
       "      <td>634.323895</td>\n",
       "      <td>254.565235</td>\n",
       "      <td>-216.076786</td>\n",
       "      <td>226.481056</td>\n",
       "      <td>-275.093969</td>\n",
       "      <td>180.233481</td>\n",
       "      <td>-9.573306</td>\n",
       "      <td>40.139982</td>\n",
       "    </tr>\n",
       "  </tbody>\n",
       "</table>\n",
       "<p>69 rows × 10 columns</p>\n",
       "</div>"
      ],
      "text/plain": [
       "              0            1            2           3            4  \\\n",
       "0   1057.180171 -1531.932011   567.623623 -250.715392  1042.430534   \n",
       "1    607.642702 -1433.121284  -117.699899  309.422667   601.171261   \n",
       "2    -60.308067 -1213.154017   149.797054 -370.719153   919.556592   \n",
       "3  -1363.417582   348.107468  -176.874795 -576.819087   -28.259225   \n",
       "4  -1587.033624   120.248834    82.625391 -760.347607  -276.994395   \n",
       "..          ...          ...          ...         ...          ...   \n",
       "64  -514.315147   868.518076  1039.637726  223.099672   -84.590107   \n",
       "65  1635.788212   974.434173   207.135152 -277.468690  -236.844065   \n",
       "66   387.558568  1212.436091   360.944207  576.803748   292.812047   \n",
       "67 -1574.918356   890.213872  1083.770610  315.215383  -152.063773   \n",
       "68  4122.436539  3306.529457   634.323895  254.565235  -216.076786   \n",
       "\n",
       "             5           6           7           8           9  \n",
       "0    10.723320   72.279224   67.278632  147.299898  114.766443  \n",
       "1    63.483420 -295.205706  -44.917021  284.778296  105.523753  \n",
       "2   -82.544538   13.295270   -0.690093   35.653627   21.860627  \n",
       "3   578.140762   66.698293  -71.207856   80.676777    6.672653  \n",
       "4   348.148529  102.193770   30.078145   38.768908 -259.584695  \n",
       "..         ...         ...         ...         ...         ...  \n",
       "64  -97.872740 -228.082018 -352.665649  -28.717098  267.144433  \n",
       "65  639.724741  209.373471 -183.150189 -236.492600 -158.056583  \n",
       "66 -312.330207  224.353367 -110.271331   89.219491  -41.187639  \n",
       "67 -235.933558  302.649978 -162.578725 -121.950167  434.905230  \n",
       "68  226.481056 -275.093969  180.233481   -9.573306   40.139982  \n",
       "\n",
       "[69 rows x 10 columns]"
      ]
     },
     "execution_count": 121,
     "metadata": {},
     "output_type": "execute_result"
    }
   ],
   "source": [
    "Z_df"
   ]
  },
  {
   "cell_type": "code",
   "execution_count": 125,
   "id": "37bda995-e7bf-4cf6-be51-0745f920f5a9",
   "metadata": {},
   "outputs": [
    {
     "data": {
      "text/plain": [
       "numpy.ndarray"
      ]
     },
     "execution_count": 125,
     "metadata": {},
     "output_type": "execute_result"
    }
   ],
   "source": [
    "type(m005.values)"
   ]
  },
  {
   "cell_type": "code",
   "execution_count": 123,
   "id": "93fd27c7-b691-4cb6-b812-ab460530ebf2",
   "metadata": {},
   "outputs": [
    {
     "data": {
      "text/plain": [
       "0    float64\n",
       "1    float64\n",
       "2    float64\n",
       "3    float64\n",
       "4    float64\n",
       "5    float64\n",
       "6    float64\n",
       "7    float64\n",
       "8    float64\n",
       "9    float64\n",
       "dtype: object"
      ]
     },
     "execution_count": 123,
     "metadata": {},
     "output_type": "execute_result"
    }
   ],
   "source": [
    "Z_df.dtypes"
   ]
  },
  {
   "cell_type": "code",
   "execution_count": 132,
   "id": "7b5751c8-571a-4c12-9644-e1a72355dd40",
   "metadata": {},
   "outputs": [],
   "source": [
    "from sklearn.linear_model import LassoCV"
   ]
  },
  {
   "cell_type": "code",
   "execution_count": 134,
   "id": "c226a93d-7b2c-4b32-9aa1-f353baac650e",
   "metadata": {},
   "outputs": [],
   "source": [
    "lasso = LassoCV()"
   ]
  },
  {
   "cell_type": "code",
   "execution_count": 131,
   "id": "486c1930-2c78-4125-8617-26dca962d52c",
   "metadata": {},
   "outputs": [
    {
     "data": {
      "text/plain": [
       "array([-4.47248368, -4.42607186, -4.54102337, -4.10703902, -4.28473786,\n",
       "       -4.6384515 , -4.16315755, -4.2155074 , -4.5136131 , -4.59511985,\n",
       "       -4.26552324, -4.26845607, -4.58406879, -4.22884461, -4.22743253,\n",
       "       -4.42778557, -4.6522456 , -4.07246515, -4.01633212, -4.13181919,\n",
       "       -4.46801419, -4.72876078, -4.12796795, -4.25098325, -4.11333647,\n",
       "       -4.27287105, -4.39487443, -4.28399216, -4.17986456, -4.19821749,\n",
       "       -4.20509867, -4.13827002, -3.94145439, -4.27434693, -4.2522309 ,\n",
       "       -4.6001829 , -4.46001798, -4.61346562, -4.1260477 , -3.72915546,\n",
       "       -4.41415543, -4.46267645, -4.50525381, -4.53148827, -4.26186893,\n",
       "       -4.12158095, -4.43294401, -3.9924528 , -4.24092615, -4.07246515,\n",
       "       -4.10265353, -4.04490486, -4.2452243 , -3.78291201, -4.65011125,\n",
       "       -4.52675388, -4.2522309 , -4.20234068, -4.2522309 , -4.75559933,\n",
       "       -4.0031873 , -3.86462719, -4.19684675, -4.57412517, -4.05440805,\n",
       "       -4.3073643 , -4.1428097 , -3.95059162, -4.00205211])"
      ]
     },
     "execution_count": 131,
     "metadata": {},
     "output_type": "execute_result"
    }
   ],
   "source": [
    "p = m005.values/1_000\n",
    "np.log(p/(1-p))"
   ]
  },
  {
   "cell_type": "code",
   "execution_count": null,
   "id": "7ff784e0-41d6-412a-8712-4207329f7ea9",
   "metadata": {},
   "outputs": [],
   "source": [
    "lasso.predict()"
   ]
  },
  {
   "cell_type": "code",
   "execution_count": 135,
   "id": "cb168dd4-d2dc-42b5-bd9e-53762d6192e5",
   "metadata": {},
   "outputs": [
    {
     "data": {
      "text/plain": [
       "LassoCV()"
      ]
     },
     "execution_count": 135,
     "metadata": {},
     "output_type": "execute_result"
    }
   ],
   "source": [
    "lasso.fit(Z_df, np.log(p/(1-p)))"
   ]
  },
  {
   "cell_type": "code",
   "execution_count": 137,
   "id": "79929a47-0e5d-4523-a681-7979368255b3",
   "metadata": {},
   "outputs": [],
   "source": [
    "lasso.cv"
   ]
  },
  {
   "cell_type": "code",
   "execution_count": 128,
   "id": "a06c582b-b629-4e9f-b852-d0a4601d9dd3",
   "metadata": {},
   "outputs": [
    {
     "data": {
      "text/plain": [
       "(69,)"
      ]
     },
     "execution_count": 128,
     "metadata": {},
     "output_type": "execute_result"
    }
   ],
   "source": [
    "m005.values.shape"
   ]
  },
  {
   "cell_type": "code",
   "execution_count": null,
   "id": "18f5298b-83d2-48b2-b441-d4f26580ca6b",
   "metadata": {},
   "outputs": [],
   "source": []
  }
 ],
 "metadata": {
  "kernelspec": {
   "display_name": "Python 3 (ipykernel)",
   "language": "python",
   "name": "python3"
  },
  "language_info": {
   "codemirror_mode": {
    "name": "ipython",
    "version": 3
   },
   "file_extension": ".py",
   "mimetype": "text/x-python",
   "name": "python",
   "nbconvert_exporter": "python",
   "pygments_lexer": "ipython3",
   "version": "3.9.13"
  }
 },
 "nbformat": 4,
 "nbformat_minor": 5
}
