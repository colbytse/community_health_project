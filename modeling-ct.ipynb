{
 "cells": [
  {
   "cell_type": "code",
   "execution_count": 1,
   "id": "19d829c5-7f0b-4918-91ff-5f8b0dc18f5e",
   "metadata": {
    "execution": {
     "iopub.execute_input": "2023-01-19T00:30:18.041765Z",
     "iopub.status.busy": "2023-01-19T00:30:18.041572Z",
     "iopub.status.idle": "2023-01-19T00:30:19.913711Z",
     "shell.execute_reply": "2023-01-19T00:30:19.913423Z",
     "shell.execute_reply.started": "2023-01-19T00:30:18.041740Z"
    },
    "tags": []
   },
   "outputs": [],
   "source": [
    "import numpy as np\n",
    "import pandas as pd\n",
    "import matplotlib.pyplot as plt\n",
    "import seaborn as sns\n",
    "\n",
    "from sklearn.model_selection import train_test_split, cross_val_score\n",
    "from sklearn.linear_model import LinearRegression,\\\n",
    "                                RidgeCV, LassoCV, LogisticRegression\n",
    "from sklearn.preprocessing import StandardScaler, PolynomialFeatures, OneHotEncoder\n",
    "from sklearn.metrics import r2_score, mean_squared_error\n",
    "from tensorflow.keras.models import Sequential\n",
    "from tensorflow.keras.layers import Dense\n",
    "from sklearn.decomposition import PCA"
   ]
  },
  {
   "cell_type": "markdown",
   "id": "c95c3b26-058d-4f20-8359-f04112369bcb",
   "metadata": {},
   "source": [
    "[BOOKMARK](#BOOKMARK)"
   ]
  },
  {
   "cell_type": "markdown",
   "id": "089ef8c3-750c-4b57-a1fd-74f10674b8a5",
   "metadata": {},
   "source": [
    "### Functions"
   ]
  },
  {
   "cell_type": "code",
   "execution_count": 2,
   "id": "0995fed4-9c2e-4ca6-b541-4b586190707b",
   "metadata": {
    "execution": {
     "iopub.execute_input": "2023-01-19T00:30:19.915113Z",
     "iopub.status.busy": "2023-01-19T00:30:19.914880Z",
     "iopub.status.idle": "2023-01-19T00:30:19.919305Z",
     "shell.execute_reply": "2023-01-19T00:30:19.918969Z",
     "shell.execute_reply.started": "2023-01-19T00:30:19.915100Z"
    }
   },
   "outputs": [],
   "source": [
    "results = pd.DataFrame(columns = ['Model', 'Train Score', 'Val Score', 'X Val Score', 'RMSE Train', 'RMSE Val'])\n",
    "\n",
    "def update_df(model, model_name):\n",
    "    '''fn updates a dataframe for quick reference of R squared scores and RMSE'''\n",
    "    import warnings\n",
    "    with warnings.catch_warnings():\n",
    "        warnings.simplefilter(\"ignore\")\n",
    "        \n",
    "        train_score = model.score(Xs_train, y_train)\n",
    "        val_score = model.score(Xs_test, y_test)\n",
    "        x_val_score = cross_val_score(model, Xs_train, y_train).mean()\n",
    "        rmse1 = mean_squared_error(y_train, lr.predict(Xs_train))**0.5\n",
    "        rmse2 = mean_squared_error(y_test, lr.predict(Xs_test))**0.5\n",
    "        \n",
    "        results.loc[len(results.index)] = [model_name, train_score, val_score, x_val_score, rmse1, rmse2] \n",
    "        \n",
    "    return results"
   ]
  },
  {
   "cell_type": "markdown",
   "id": "7d0cbefb-b06f-4fe8-bbb0-aa97799c4f7e",
   "metadata": {},
   "source": [
    "### Read in data"
   ]
  },
  {
   "cell_type": "code",
   "execution_count": 3,
   "id": "d4298f6e-bd61-4362-95ad-dccf9d7a16e6",
   "metadata": {
    "execution": {
     "iopub.execute_input": "2023-01-19T00:30:19.920127Z",
     "iopub.status.busy": "2023-01-19T00:30:19.919953Z",
     "iopub.status.idle": "2023-01-19T00:30:19.928761Z",
     "shell.execute_reply": "2023-01-19T00:30:19.928463Z",
     "shell.execute_reply.started": "2023-01-19T00:30:19.920112Z"
    },
    "tags": []
   },
   "outputs": [],
   "source": [
    "df = pd.read_csv('./cleaned_data_descriptive/combined_df.csv',index_col=[0])"
   ]
  },
  {
   "cell_type": "code",
   "execution_count": 4,
   "id": "b83462ef-f795-4a78-8cda-087ba6d08238",
   "metadata": {
    "execution": {
     "iopub.execute_input": "2023-01-19T00:30:19.929362Z",
     "iopub.status.busy": "2023-01-19T00:30:19.929243Z",
     "iopub.status.idle": "2023-01-19T00:30:19.941018Z",
     "shell.execute_reply": "2023-01-19T00:30:19.940614Z",
     "shell.execute_reply.started": "2023-01-19T00:30:19.929350Z"
    },
    "tags": []
   },
   "outputs": [
    {
     "data": {
      "text/html": [
       "<div>\n",
       "<style scoped>\n",
       "    .dataframe tbody tr th:only-of-type {\n",
       "        vertical-align: middle;\n",
       "    }\n",
       "\n",
       "    .dataframe tbody tr th {\n",
       "        vertical-align: top;\n",
       "    }\n",
       "\n",
       "    .dataframe thead th {\n",
       "        text-align: right;\n",
       "    }\n",
       "</style>\n",
       "<table border=\"1\" class=\"dataframe\">\n",
       "  <thead>\n",
       "    <tr style=\"text-align: right;\">\n",
       "      <th></th>\n",
       "      <th>county</th>\n",
       "      <th>sex</th>\n",
       "      <th>xiang</th>\n",
       "      <th>q010</th>\n",
       "      <th>q015</th>\n",
       "      <th>q016</th>\n",
       "      <th>q022</th>\n",
       "      <th>q023</th>\n",
       "      <th>q024</th>\n",
       "      <th>q025</th>\n",
       "      <th>...</th>\n",
       "      <th>u024</th>\n",
       "      <th>u025</th>\n",
       "      <th>u026</th>\n",
       "      <th>u027</th>\n",
       "      <th>u028</th>\n",
       "      <th>u029</th>\n",
       "      <th>u030</th>\n",
       "      <th>u031</th>\n",
       "      <th>u032</th>\n",
       "      <th>u033</th>\n",
       "    </tr>\n",
       "  </thead>\n",
       "  <tbody>\n",
       "    <tr>\n",
       "      <th>0</th>\n",
       "      <td>AA</td>\n",
       "      <td>F</td>\n",
       "      <td>1</td>\n",
       "      <td>NaN</td>\n",
       "      <td>NaN</td>\n",
       "      <td>NaN</td>\n",
       "      <td>0.0</td>\n",
       "      <td>NaN</td>\n",
       "      <td>NaN</td>\n",
       "      <td>NaN</td>\n",
       "      <td>...</td>\n",
       "      <td>NaN</td>\n",
       "      <td>NaN</td>\n",
       "      <td>NaN</td>\n",
       "      <td>NaN</td>\n",
       "      <td>NaN</td>\n",
       "      <td>NaN</td>\n",
       "      <td>NaN</td>\n",
       "      <td>NaN</td>\n",
       "      <td>NaN</td>\n",
       "      <td>NaN</td>\n",
       "    </tr>\n",
       "    <tr>\n",
       "      <th>1</th>\n",
       "      <td>AA</td>\n",
       "      <td>F</td>\n",
       "      <td>2</td>\n",
       "      <td>NaN</td>\n",
       "      <td>NaN</td>\n",
       "      <td>NaN</td>\n",
       "      <td>0.0</td>\n",
       "      <td>NaN</td>\n",
       "      <td>NaN</td>\n",
       "      <td>NaN</td>\n",
       "      <td>...</td>\n",
       "      <td>NaN</td>\n",
       "      <td>NaN</td>\n",
       "      <td>NaN</td>\n",
       "      <td>NaN</td>\n",
       "      <td>NaN</td>\n",
       "      <td>NaN</td>\n",
       "      <td>NaN</td>\n",
       "      <td>NaN</td>\n",
       "      <td>NaN</td>\n",
       "      <td>NaN</td>\n",
       "    </tr>\n",
       "    <tr>\n",
       "      <th>2</th>\n",
       "      <td>AA</td>\n",
       "      <td>F</td>\n",
       "      <td>3</td>\n",
       "      <td>NaN</td>\n",
       "      <td>NaN</td>\n",
       "      <td>NaN</td>\n",
       "      <td>0.0</td>\n",
       "      <td>NaN</td>\n",
       "      <td>NaN</td>\n",
       "      <td>NaN</td>\n",
       "      <td>...</td>\n",
       "      <td>NaN</td>\n",
       "      <td>NaN</td>\n",
       "      <td>NaN</td>\n",
       "      <td>NaN</td>\n",
       "      <td>NaN</td>\n",
       "      <td>NaN</td>\n",
       "      <td>NaN</td>\n",
       "      <td>NaN</td>\n",
       "      <td>NaN</td>\n",
       "      <td>NaN</td>\n",
       "    </tr>\n",
       "    <tr>\n",
       "      <th>3</th>\n",
       "      <td>AA</td>\n",
       "      <td>T</td>\n",
       "      <td>3</td>\n",
       "      <td>40.2</td>\n",
       "      <td>60.0</td>\n",
       "      <td>70.0</td>\n",
       "      <td>3.3</td>\n",
       "      <td>22.4</td>\n",
       "      <td>41.9</td>\n",
       "      <td>35.7</td>\n",
       "      <td>...</td>\n",
       "      <td>NaN</td>\n",
       "      <td>NaN</td>\n",
       "      <td>NaN</td>\n",
       "      <td>NaN</td>\n",
       "      <td>NaN</td>\n",
       "      <td>NaN</td>\n",
       "      <td>NaN</td>\n",
       "      <td>NaN</td>\n",
       "      <td>NaN</td>\n",
       "      <td>NaN</td>\n",
       "    </tr>\n",
       "    <tr>\n",
       "      <th>4</th>\n",
       "      <td>AB</td>\n",
       "      <td>F</td>\n",
       "      <td>1</td>\n",
       "      <td>NaN</td>\n",
       "      <td>NaN</td>\n",
       "      <td>NaN</td>\n",
       "      <td>0.0</td>\n",
       "      <td>NaN</td>\n",
       "      <td>NaN</td>\n",
       "      <td>NaN</td>\n",
       "      <td>...</td>\n",
       "      <td>NaN</td>\n",
       "      <td>NaN</td>\n",
       "      <td>NaN</td>\n",
       "      <td>NaN</td>\n",
       "      <td>NaN</td>\n",
       "      <td>NaN</td>\n",
       "      <td>NaN</td>\n",
       "      <td>NaN</td>\n",
       "      <td>NaN</td>\n",
       "      <td>NaN</td>\n",
       "    </tr>\n",
       "  </tbody>\n",
       "</table>\n",
       "<p>5 rows × 296 columns</p>\n",
       "</div>"
      ],
      "text/plain": [
       "  county sex  xiang  q010  q015  q016  q022  q023  q024  q025  ...  u024  \\\n",
       "0     AA   F      1   NaN   NaN   NaN   0.0   NaN   NaN   NaN  ...   NaN   \n",
       "1     AA   F      2   NaN   NaN   NaN   0.0   NaN   NaN   NaN  ...   NaN   \n",
       "2     AA   F      3   NaN   NaN   NaN   0.0   NaN   NaN   NaN  ...   NaN   \n",
       "3     AA   T      3  40.2  60.0  70.0   3.3  22.4  41.9  35.7  ...   NaN   \n",
       "4     AB   F      1   NaN   NaN   NaN   0.0   NaN   NaN   NaN  ...   NaN   \n",
       "\n",
       "   u025  u026  u027  u028  u029  u030  u031  u032  u033  \n",
       "0   NaN   NaN   NaN   NaN   NaN   NaN   NaN   NaN   NaN  \n",
       "1   NaN   NaN   NaN   NaN   NaN   NaN   NaN   NaN   NaN  \n",
       "2   NaN   NaN   NaN   NaN   NaN   NaN   NaN   NaN   NaN  \n",
       "3   NaN   NaN   NaN   NaN   NaN   NaN   NaN   NaN   NaN  \n",
       "4   NaN   NaN   NaN   NaN   NaN   NaN   NaN   NaN   NaN  \n",
       "\n",
       "[5 rows x 296 columns]"
      ]
     },
     "execution_count": 4,
     "metadata": {},
     "output_type": "execute_result"
    }
   ],
   "source": [
    "df.head()"
   ]
  },
  {
   "cell_type": "code",
   "execution_count": 5,
   "id": "65da9bf1-daf3-4473-a836-8724c2c85d73",
   "metadata": {
    "execution": {
     "iopub.execute_input": "2023-01-19T00:30:19.941787Z",
     "iopub.status.busy": "2023-01-19T00:30:19.941665Z",
     "iopub.status.idle": "2023-01-19T00:30:19.944866Z",
     "shell.execute_reply": "2023-01-19T00:30:19.944430Z",
     "shell.execute_reply.started": "2023-01-19T00:30:19.941775Z"
    },
    "tags": []
   },
   "outputs": [
    {
     "data": {
      "text/plain": [
       "(275, 296)"
      ]
     },
     "execution_count": 5,
     "metadata": {},
     "output_type": "execute_result"
    }
   ],
   "source": [
    "df.shape"
   ]
  },
  {
   "cell_type": "code",
   "execution_count": 6,
   "id": "652ceaf4-0ca1-40e7-809d-4af211463245",
   "metadata": {
    "execution": {
     "iopub.execute_input": "2023-01-19T00:30:19.945830Z",
     "iopub.status.busy": "2023-01-19T00:30:19.945641Z",
     "iopub.status.idle": "2023-01-19T00:30:19.949615Z",
     "shell.execute_reply": "2023-01-19T00:30:19.949208Z",
     "shell.execute_reply.started": "2023-01-19T00:30:19.945817Z"
    },
    "tags": []
   },
   "outputs": [
    {
     "data": {
      "text/plain": [
       "(69, 296)"
      ]
     },
     "execution_count": 6,
     "metadata": {},
     "output_type": "execute_result"
    }
   ],
   "source": [
    "df[df['sex'] == 'T'].shape"
   ]
  },
  {
   "cell_type": "code",
   "execution_count": 7,
   "id": "8ca9665d-8ec7-45ce-96c5-fefd4aaf1a35",
   "metadata": {
    "execution": {
     "iopub.execute_input": "2023-01-19T00:30:19.952407Z",
     "iopub.status.busy": "2023-01-19T00:30:19.952258Z",
     "iopub.status.idle": "2023-01-19T00:30:19.954532Z",
     "shell.execute_reply": "2023-01-19T00:30:19.954132Z",
     "shell.execute_reply.started": "2023-01-19T00:30:19.952395Z"
    },
    "tags": []
   },
   "outputs": [],
   "source": [
    "ss = StandardScaler()"
   ]
  },
  {
   "cell_type": "code",
   "execution_count": 8,
   "id": "313a23a9-2096-41e8-bcf1-792c6b21e369",
   "metadata": {
    "execution": {
     "iopub.execute_input": "2023-01-19T00:30:19.955225Z",
     "iopub.status.busy": "2023-01-19T00:30:19.955099Z",
     "iopub.status.idle": "2023-01-19T00:30:19.957104Z",
     "shell.execute_reply": "2023-01-19T00:30:19.956808Z",
     "shell.execute_reply.started": "2023-01-19T00:30:19.955213Z"
    },
    "tags": []
   },
   "outputs": [],
   "source": [
    "# df.columns.to_list() # sanity check"
   ]
  },
  {
   "cell_type": "code",
   "execution_count": 9,
   "id": "66346def-6928-460e-bd86-5bcef9de8fad",
   "metadata": {
    "execution": {
     "iopub.execute_input": "2023-01-19T00:30:19.957652Z",
     "iopub.status.busy": "2023-01-19T00:30:19.957536Z",
     "iopub.status.idle": "2023-01-19T00:30:19.962329Z",
     "shell.execute_reply": "2023-01-19T00:30:19.961975Z",
     "shell.execute_reply.started": "2023-01-19T00:30:19.957640Z"
    },
    "tags": []
   },
   "outputs": [],
   "source": [
    "clean_df = df[(df['sex'] == 'T') & (df['xiang'] == 3)]\\\n",
    ".dropna(subset='m005_ALL35_69').dropna(axis = 'columns')"
   ]
  },
  {
   "cell_type": "code",
   "execution_count": 10,
   "id": "826be448-e763-41c9-a761-6bbd7fed9cee",
   "metadata": {
    "execution": {
     "iopub.execute_input": "2023-01-19T00:30:19.963066Z",
     "iopub.status.busy": "2023-01-19T00:30:19.962925Z",
     "iopub.status.idle": "2023-01-19T00:30:19.966613Z",
     "shell.execute_reply": "2023-01-19T00:30:19.966217Z",
     "shell.execute_reply.started": "2023-01-19T00:30:19.963054Z"
    },
    "tags": []
   },
   "outputs": [
    {
     "data": {
      "text/plain": [
       "3      11.29\n",
       "7      11.82\n",
       "11     10.55\n",
       "15     16.19\n",
       "19     13.59\n",
       "       ...  \n",
       "259    17.05\n",
       "263    13.29\n",
       "266    15.63\n",
       "270    18.88\n",
       "274    17.95\n",
       "Name: m005_ALL35_69, Length: 66, dtype: float64"
      ]
     },
     "execution_count": 10,
     "metadata": {},
     "output_type": "execute_result"
    }
   ],
   "source": [
    "clean_df['m005_ALL35_69']"
   ]
  },
  {
   "cell_type": "code",
   "execution_count": 11,
   "id": "6cdde86d-c049-4acc-a64a-f38c132f340e",
   "metadata": {
    "execution": {
     "iopub.execute_input": "2023-01-19T00:30:19.967291Z",
     "iopub.status.busy": "2023-01-19T00:30:19.967157Z",
     "iopub.status.idle": "2023-01-19T00:30:19.969783Z",
     "shell.execute_reply": "2023-01-19T00:30:19.969498Z",
     "shell.execute_reply.started": "2023-01-19T00:30:19.967279Z"
    },
    "tags": []
   },
   "outputs": [
    {
     "data": {
      "text/plain": [
       "(66, 201)"
      ]
     },
     "execution_count": 11,
     "metadata": {},
     "output_type": "execute_result"
    }
   ],
   "source": [
    "clean_df.shape"
   ]
  },
  {
   "cell_type": "code",
   "execution_count": 12,
   "id": "a367cf5d-db7b-4d4b-bf57-fa13f93066fd",
   "metadata": {
    "execution": {
     "iopub.execute_input": "2023-01-19T00:30:19.970473Z",
     "iopub.status.busy": "2023-01-19T00:30:19.970359Z",
     "iopub.status.idle": "2023-01-19T00:30:20.087624Z",
     "shell.execute_reply": "2023-01-19T00:30:20.087238Z",
     "shell.execute_reply.started": "2023-01-19T00:30:19.970462Z"
    }
   },
   "outputs": [
    {
     "data": {
      "text/html": [
       "<div>\n",
       "<style scoped>\n",
       "    .dataframe tbody tr th:only-of-type {\n",
       "        vertical-align: middle;\n",
       "    }\n",
       "\n",
       "    .dataframe tbody tr th {\n",
       "        vertical-align: top;\n",
       "    }\n",
       "\n",
       "    .dataframe thead th {\n",
       "        text-align: right;\n",
       "    }\n",
       "</style>\n",
       "<table border=\"1\" class=\"dataframe\">\n",
       "  <thead>\n",
       "    <tr style=\"text-align: right;\">\n",
       "      <th></th>\n",
       "      <th>xiang</th>\n",
       "      <th>q010</th>\n",
       "      <th>q015</th>\n",
       "      <th>q016</th>\n",
       "      <th>q022</th>\n",
       "      <th>q023</th>\n",
       "      <th>q024</th>\n",
       "      <th>q025</th>\n",
       "      <th>q037</th>\n",
       "      <th>q038</th>\n",
       "      <th>...</th>\n",
       "      <th>r017</th>\n",
       "      <th>r018</th>\n",
       "      <th>r019</th>\n",
       "      <th>r020</th>\n",
       "      <th>r021</th>\n",
       "      <th>r022</th>\n",
       "      <th>r023</th>\n",
       "      <th>r024</th>\n",
       "      <th>r025</th>\n",
       "      <th>r026</th>\n",
       "    </tr>\n",
       "  </thead>\n",
       "  <tbody>\n",
       "    <tr>\n",
       "      <th>count</th>\n",
       "      <td>66.0</td>\n",
       "      <td>66.000000</td>\n",
       "      <td>66.000000</td>\n",
       "      <td>66.000000</td>\n",
       "      <td>66.000000</td>\n",
       "      <td>66.000000</td>\n",
       "      <td>66.000000</td>\n",
       "      <td>66.000000</td>\n",
       "      <td>66.000000</td>\n",
       "      <td>66.000000</td>\n",
       "      <td>...</td>\n",
       "      <td>66.000000</td>\n",
       "      <td>66.000000</td>\n",
       "      <td>66.000000</td>\n",
       "      <td>66.000000</td>\n",
       "      <td>66.000000</td>\n",
       "      <td>66.000000</td>\n",
       "      <td>66.000000</td>\n",
       "      <td>66.000000</td>\n",
       "      <td>66.000000</td>\n",
       "      <td>66.000000</td>\n",
       "    </tr>\n",
       "    <tr>\n",
       "      <th>mean</th>\n",
       "      <td>3.0</td>\n",
       "      <td>75.156061</td>\n",
       "      <td>59.174242</td>\n",
       "      <td>72.848485</td>\n",
       "      <td>3.065152</td>\n",
       "      <td>29.019697</td>\n",
       "      <td>45.112121</td>\n",
       "      <td>24.787879</td>\n",
       "      <td>2112.939394</td>\n",
       "      <td>1004.287879</td>\n",
       "      <td>...</td>\n",
       "      <td>0.911818</td>\n",
       "      <td>0.855152</td>\n",
       "      <td>8.555152</td>\n",
       "      <td>0.394091</td>\n",
       "      <td>0.555303</td>\n",
       "      <td>3.926212</td>\n",
       "      <td>9.411364</td>\n",
       "      <td>0.537727</td>\n",
       "      <td>1.667424</td>\n",
       "      <td>11.307576</td>\n",
       "    </tr>\n",
       "    <tr>\n",
       "      <th>std</th>\n",
       "      <td>0.0</td>\n",
       "      <td>19.578026</td>\n",
       "      <td>19.377126</td>\n",
       "      <td>16.551544</td>\n",
       "      <td>2.691210</td>\n",
       "      <td>12.444637</td>\n",
       "      <td>9.117178</td>\n",
       "      <td>9.574333</td>\n",
       "      <td>1013.991153</td>\n",
       "      <td>832.391730</td>\n",
       "      <td>...</td>\n",
       "      <td>0.385239</td>\n",
       "      <td>0.739628</td>\n",
       "      <td>3.392067</td>\n",
       "      <td>0.313894</td>\n",
       "      <td>0.332858</td>\n",
       "      <td>1.557350</td>\n",
       "      <td>1.296920</td>\n",
       "      <td>0.093936</td>\n",
       "      <td>0.266373</td>\n",
       "      <td>2.896327</td>\n",
       "    </tr>\n",
       "    <tr>\n",
       "      <th>min</th>\n",
       "      <td>3.0</td>\n",
       "      <td>0.000000</td>\n",
       "      <td>13.000000</td>\n",
       "      <td>19.000000</td>\n",
       "      <td>0.000000</td>\n",
       "      <td>4.700000</td>\n",
       "      <td>19.400000</td>\n",
       "      <td>9.300000</td>\n",
       "      <td>691.000000</td>\n",
       "      <td>63.000000</td>\n",
       "      <td>...</td>\n",
       "      <td>0.280000</td>\n",
       "      <td>0.080000</td>\n",
       "      <td>3.730000</td>\n",
       "      <td>0.040000</td>\n",
       "      <td>0.130000</td>\n",
       "      <td>1.190000</td>\n",
       "      <td>6.540000</td>\n",
       "      <td>0.360000</td>\n",
       "      <td>1.170000</td>\n",
       "      <td>7.500000</td>\n",
       "    </tr>\n",
       "    <tr>\n",
       "      <th>25%</th>\n",
       "      <td>3.0</td>\n",
       "      <td>71.775000</td>\n",
       "      <td>45.625000</td>\n",
       "      <td>62.500000</td>\n",
       "      <td>1.600000</td>\n",
       "      <td>20.150000</td>\n",
       "      <td>38.900000</td>\n",
       "      <td>18.225000</td>\n",
       "      <td>1451.250000</td>\n",
       "      <td>418.750000</td>\n",
       "      <td>...</td>\n",
       "      <td>0.595000</td>\n",
       "      <td>0.312500</td>\n",
       "      <td>5.700000</td>\n",
       "      <td>0.200000</td>\n",
       "      <td>0.340000</td>\n",
       "      <td>2.625000</td>\n",
       "      <td>8.507500</td>\n",
       "      <td>0.490000</td>\n",
       "      <td>1.450000</td>\n",
       "      <td>9.200000</td>\n",
       "    </tr>\n",
       "    <tr>\n",
       "      <th>50%</th>\n",
       "      <td>3.0</td>\n",
       "      <td>81.950000</td>\n",
       "      <td>58.250000</td>\n",
       "      <td>75.000000</td>\n",
       "      <td>2.350000</td>\n",
       "      <td>28.350000</td>\n",
       "      <td>45.600000</td>\n",
       "      <td>23.400000</td>\n",
       "      <td>1983.000000</td>\n",
       "      <td>706.500000</td>\n",
       "      <td>...</td>\n",
       "      <td>0.830000</td>\n",
       "      <td>0.580000</td>\n",
       "      <td>7.700000</td>\n",
       "      <td>0.265000</td>\n",
       "      <td>0.465000</td>\n",
       "      <td>4.030000</td>\n",
       "      <td>9.300000</td>\n",
       "      <td>0.530000</td>\n",
       "      <td>1.625000</td>\n",
       "      <td>10.550000</td>\n",
       "    </tr>\n",
       "    <tr>\n",
       "      <th>75%</th>\n",
       "      <td>3.0</td>\n",
       "      <td>88.625000</td>\n",
       "      <td>72.375000</td>\n",
       "      <td>84.500000</td>\n",
       "      <td>4.375000</td>\n",
       "      <td>35.475000</td>\n",
       "      <td>51.675000</td>\n",
       "      <td>32.025000</td>\n",
       "      <td>2505.500000</td>\n",
       "      <td>1350.250000</td>\n",
       "      <td>...</td>\n",
       "      <td>1.250000</td>\n",
       "      <td>1.185000</td>\n",
       "      <td>11.312500</td>\n",
       "      <td>0.605000</td>\n",
       "      <td>0.682500</td>\n",
       "      <td>5.250000</td>\n",
       "      <td>10.060000</td>\n",
       "      <td>0.560000</td>\n",
       "      <td>1.817500</td>\n",
       "      <td>12.075000</td>\n",
       "    </tr>\n",
       "    <tr>\n",
       "      <th>max</th>\n",
       "      <td>3.0</td>\n",
       "      <td>96.700000</td>\n",
       "      <td>95.000000</td>\n",
       "      <td>100.000000</td>\n",
       "      <td>12.500000</td>\n",
       "      <td>63.000000</td>\n",
       "      <td>64.800000</td>\n",
       "      <td>49.600000</td>\n",
       "      <td>7238.000000</td>\n",
       "      <td>3925.000000</td>\n",
       "      <td>...</td>\n",
       "      <td>1.650000</td>\n",
       "      <td>2.720000</td>\n",
       "      <td>17.320000</td>\n",
       "      <td>1.830000</td>\n",
       "      <td>1.980000</td>\n",
       "      <td>6.460000</td>\n",
       "      <td>12.780000</td>\n",
       "      <td>0.780000</td>\n",
       "      <td>2.350000</td>\n",
       "      <td>19.600000</td>\n",
       "    </tr>\n",
       "  </tbody>\n",
       "</table>\n",
       "<p>8 rows × 199 columns</p>\n",
       "</div>"
      ],
      "text/plain": [
       "       xiang       q010       q015        q016       q022       q023  \\\n",
       "count   66.0  66.000000  66.000000   66.000000  66.000000  66.000000   \n",
       "mean     3.0  75.156061  59.174242   72.848485   3.065152  29.019697   \n",
       "std      0.0  19.578026  19.377126   16.551544   2.691210  12.444637   \n",
       "min      3.0   0.000000  13.000000   19.000000   0.000000   4.700000   \n",
       "25%      3.0  71.775000  45.625000   62.500000   1.600000  20.150000   \n",
       "50%      3.0  81.950000  58.250000   75.000000   2.350000  28.350000   \n",
       "75%      3.0  88.625000  72.375000   84.500000   4.375000  35.475000   \n",
       "max      3.0  96.700000  95.000000  100.000000  12.500000  63.000000   \n",
       "\n",
       "            q024       q025         q037         q038  ...       r017  \\\n",
       "count  66.000000  66.000000    66.000000    66.000000  ...  66.000000   \n",
       "mean   45.112121  24.787879  2112.939394  1004.287879  ...   0.911818   \n",
       "std     9.117178   9.574333  1013.991153   832.391730  ...   0.385239   \n",
       "min    19.400000   9.300000   691.000000    63.000000  ...   0.280000   \n",
       "25%    38.900000  18.225000  1451.250000   418.750000  ...   0.595000   \n",
       "50%    45.600000  23.400000  1983.000000   706.500000  ...   0.830000   \n",
       "75%    51.675000  32.025000  2505.500000  1350.250000  ...   1.250000   \n",
       "max    64.800000  49.600000  7238.000000  3925.000000  ...   1.650000   \n",
       "\n",
       "            r018       r019       r020       r021       r022       r023  \\\n",
       "count  66.000000  66.000000  66.000000  66.000000  66.000000  66.000000   \n",
       "mean    0.855152   8.555152   0.394091   0.555303   3.926212   9.411364   \n",
       "std     0.739628   3.392067   0.313894   0.332858   1.557350   1.296920   \n",
       "min     0.080000   3.730000   0.040000   0.130000   1.190000   6.540000   \n",
       "25%     0.312500   5.700000   0.200000   0.340000   2.625000   8.507500   \n",
       "50%     0.580000   7.700000   0.265000   0.465000   4.030000   9.300000   \n",
       "75%     1.185000  11.312500   0.605000   0.682500   5.250000  10.060000   \n",
       "max     2.720000  17.320000   1.830000   1.980000   6.460000  12.780000   \n",
       "\n",
       "            r024       r025       r026  \n",
       "count  66.000000  66.000000  66.000000  \n",
       "mean    0.537727   1.667424  11.307576  \n",
       "std     0.093936   0.266373   2.896327  \n",
       "min     0.360000   1.170000   7.500000  \n",
       "25%     0.490000   1.450000   9.200000  \n",
       "50%     0.530000   1.625000  10.550000  \n",
       "75%     0.560000   1.817500  12.075000  \n",
       "max     0.780000   2.350000  19.600000  \n",
       "\n",
       "[8 rows x 199 columns]"
      ]
     },
     "execution_count": 12,
     "metadata": {},
     "output_type": "execute_result"
    }
   ],
   "source": [
    "clean_df.describe()"
   ]
  },
  {
   "cell_type": "markdown",
   "id": "f8483677-fda8-48aa-872a-569d34474ede",
   "metadata": {},
   "source": [
    "### Linear Regression\n",
    "\n",
    "Linear Regression makes the most sense to do since all of our data is numeric albeit on different numeric scales. We can use standard scale and go from there."
   ]
  },
  {
   "cell_type": "code",
   "execution_count": 13,
   "id": "52eed53e-6216-4f95-b536-efcd48d84028",
   "metadata": {
    "execution": {
     "iopub.execute_input": "2023-01-19T00:30:20.088499Z",
     "iopub.status.busy": "2023-01-19T00:30:20.088349Z",
     "iopub.status.idle": "2023-01-19T00:30:20.091859Z",
     "shell.execute_reply": "2023-01-19T00:30:20.091541Z",
     "shell.execute_reply.started": "2023-01-19T00:30:20.088489Z"
    },
    "tags": []
   },
   "outputs": [],
   "source": [
    "X = clean_df.drop(columns = ['county', 'sex', 'xiang','m005_ALL35_69'])\n",
    "y = clean_df['m005_ALL35_69']\n",
    "\n",
    "X_train, X_test, y_train, y_test = train_test_split(X, y, random_state=33)"
   ]
  },
  {
   "cell_type": "markdown",
   "id": "5b37aa63-fdbc-49f2-b4a0-d32d99874089",
   "metadata": {},
   "source": [
    "We're suffering from dimensionality here; we have too many features. We need to figure out which ones to focus on; trying to limit to 10 features for our 69 or so rows. Lasso and/or Ridge could help us out here."
   ]
  },
  {
   "cell_type": "code",
   "execution_count": 14,
   "id": "fb1a77f0-3ea2-46ee-9bd0-64a5b0f78e50",
   "metadata": {
    "execution": {
     "iopub.execute_input": "2023-01-19T00:30:20.092313Z",
     "iopub.status.busy": "2023-01-19T00:30:20.092230Z",
     "iopub.status.idle": "2023-01-19T00:30:20.094720Z",
     "shell.execute_reply": "2023-01-19T00:30:20.094465Z",
     "shell.execute_reply.started": "2023-01-19T00:30:20.092305Z"
    },
    "tags": []
   },
   "outputs": [
    {
     "data": {
      "text/plain": [
       "((49, 197), (17, 197), (49,), (17,))"
      ]
     },
     "execution_count": 14,
     "metadata": {},
     "output_type": "execute_result"
    }
   ],
   "source": [
    "X_train.shape, X_test.shape, y_train.shape, y_test.shape"
   ]
  },
  {
   "cell_type": "markdown",
   "id": "2437cc61-aaec-4de8-8461-a4f05328c5df",
   "metadata": {},
   "source": [
    "Standard scaler to get everything on the same page."
   ]
  },
  {
   "cell_type": "code",
   "execution_count": 15,
   "id": "d38f35c1-d62f-439b-be79-699a53811cc0",
   "metadata": {
    "execution": {
     "iopub.execute_input": "2023-01-19T00:30:20.095164Z",
     "iopub.status.busy": "2023-01-19T00:30:20.095085Z",
     "iopub.status.idle": "2023-01-19T00:30:20.100520Z",
     "shell.execute_reply": "2023-01-19T00:30:20.100281Z",
     "shell.execute_reply.started": "2023-01-19T00:30:20.095156Z"
    },
    "tags": []
   },
   "outputs": [],
   "source": [
    "Xs_train = ss.fit_transform(X_train)\n",
    "Xs_test = ss.transform(X_test)"
   ]
  },
  {
   "cell_type": "code",
   "execution_count": 16,
   "id": "94edd8b9-0c2e-4180-b200-4632e4085cf2",
   "metadata": {
    "execution": {
     "iopub.execute_input": "2023-01-19T00:30:20.100979Z",
     "iopub.status.busy": "2023-01-19T00:30:20.100904Z",
     "iopub.status.idle": "2023-01-19T00:30:20.102798Z",
     "shell.execute_reply": "2023-01-19T00:30:20.102475Z",
     "shell.execute_reply.started": "2023-01-19T00:30:20.100971Z"
    },
    "tags": []
   },
   "outputs": [],
   "source": [
    "lr = LinearRegression()"
   ]
  },
  {
   "cell_type": "code",
   "execution_count": 17,
   "id": "65cad832-483b-4ce8-9a92-a1c736f89508",
   "metadata": {
    "execution": {
     "iopub.execute_input": "2023-01-19T00:30:20.103322Z",
     "iopub.status.busy": "2023-01-19T00:30:20.103208Z",
     "iopub.status.idle": "2023-01-19T00:30:20.109916Z",
     "shell.execute_reply": "2023-01-19T00:30:20.109571Z",
     "shell.execute_reply.started": "2023-01-19T00:30:20.103310Z"
    },
    "tags": []
   },
   "outputs": [
    {
     "data": {
      "text/html": [
       "<style>#sk-container-id-1 {color: black;background-color: white;}#sk-container-id-1 pre{padding: 0;}#sk-container-id-1 div.sk-toggleable {background-color: white;}#sk-container-id-1 label.sk-toggleable__label {cursor: pointer;display: block;width: 100%;margin-bottom: 0;padding: 0.3em;box-sizing: border-box;text-align: center;}#sk-container-id-1 label.sk-toggleable__label-arrow:before {content: \"▸\";float: left;margin-right: 0.25em;color: #696969;}#sk-container-id-1 label.sk-toggleable__label-arrow:hover:before {color: black;}#sk-container-id-1 div.sk-estimator:hover label.sk-toggleable__label-arrow:before {color: black;}#sk-container-id-1 div.sk-toggleable__content {max-height: 0;max-width: 0;overflow: hidden;text-align: left;background-color: #f0f8ff;}#sk-container-id-1 div.sk-toggleable__content pre {margin: 0.2em;color: black;border-radius: 0.25em;background-color: #f0f8ff;}#sk-container-id-1 input.sk-toggleable__control:checked~div.sk-toggleable__content {max-height: 200px;max-width: 100%;overflow: auto;}#sk-container-id-1 input.sk-toggleable__control:checked~label.sk-toggleable__label-arrow:before {content: \"▾\";}#sk-container-id-1 div.sk-estimator input.sk-toggleable__control:checked~label.sk-toggleable__label {background-color: #d4ebff;}#sk-container-id-1 div.sk-label input.sk-toggleable__control:checked~label.sk-toggleable__label {background-color: #d4ebff;}#sk-container-id-1 input.sk-hidden--visually {border: 0;clip: rect(1px 1px 1px 1px);clip: rect(1px, 1px, 1px, 1px);height: 1px;margin: -1px;overflow: hidden;padding: 0;position: absolute;width: 1px;}#sk-container-id-1 div.sk-estimator {font-family: monospace;background-color: #f0f8ff;border: 1px dotted black;border-radius: 0.25em;box-sizing: border-box;margin-bottom: 0.5em;}#sk-container-id-1 div.sk-estimator:hover {background-color: #d4ebff;}#sk-container-id-1 div.sk-parallel-item::after {content: \"\";width: 100%;border-bottom: 1px solid gray;flex-grow: 1;}#sk-container-id-1 div.sk-label:hover label.sk-toggleable__label {background-color: #d4ebff;}#sk-container-id-1 div.sk-serial::before {content: \"\";position: absolute;border-left: 1px solid gray;box-sizing: border-box;top: 0;bottom: 0;left: 50%;z-index: 0;}#sk-container-id-1 div.sk-serial {display: flex;flex-direction: column;align-items: center;background-color: white;padding-right: 0.2em;padding-left: 0.2em;position: relative;}#sk-container-id-1 div.sk-item {position: relative;z-index: 1;}#sk-container-id-1 div.sk-parallel {display: flex;align-items: stretch;justify-content: center;background-color: white;position: relative;}#sk-container-id-1 div.sk-item::before, #sk-container-id-1 div.sk-parallel-item::before {content: \"\";position: absolute;border-left: 1px solid gray;box-sizing: border-box;top: 0;bottom: 0;left: 50%;z-index: -1;}#sk-container-id-1 div.sk-parallel-item {display: flex;flex-direction: column;z-index: 1;position: relative;background-color: white;}#sk-container-id-1 div.sk-parallel-item:first-child::after {align-self: flex-end;width: 50%;}#sk-container-id-1 div.sk-parallel-item:last-child::after {align-self: flex-start;width: 50%;}#sk-container-id-1 div.sk-parallel-item:only-child::after {width: 0;}#sk-container-id-1 div.sk-dashed-wrapped {border: 1px dashed gray;margin: 0 0.4em 0.5em 0.4em;box-sizing: border-box;padding-bottom: 0.4em;background-color: white;}#sk-container-id-1 div.sk-label label {font-family: monospace;font-weight: bold;display: inline-block;line-height: 1.2em;}#sk-container-id-1 div.sk-label-container {text-align: center;}#sk-container-id-1 div.sk-container {/* jupyter's `normalize.less` sets `[hidden] { display: none; }` but bootstrap.min.css set `[hidden] { display: none !important; }` so we also need the `!important` here to be able to override the default hidden behavior on the sphinx rendered scikit-learn.org. See: https://github.com/scikit-learn/scikit-learn/issues/21755 */display: inline-block !important;position: relative;}#sk-container-id-1 div.sk-text-repr-fallback {display: none;}</style><div id=\"sk-container-id-1\" class=\"sk-top-container\"><div class=\"sk-text-repr-fallback\"><pre>LinearRegression()</pre><b>In a Jupyter environment, please rerun this cell to show the HTML representation or trust the notebook. <br />On GitHub, the HTML representation is unable to render, please try loading this page with nbviewer.org.</b></div><div class=\"sk-container\" hidden><div class=\"sk-item\"><div class=\"sk-estimator sk-toggleable\"><input class=\"sk-toggleable__control sk-hidden--visually\" id=\"sk-estimator-id-1\" type=\"checkbox\" checked><label for=\"sk-estimator-id-1\" class=\"sk-toggleable__label sk-toggleable__label-arrow\">LinearRegression</label><div class=\"sk-toggleable__content\"><pre>LinearRegression()</pre></div></div></div></div></div>"
      ],
      "text/plain": [
       "LinearRegression()"
      ]
     },
     "execution_count": 17,
     "metadata": {},
     "output_type": "execute_result"
    }
   ],
   "source": [
    "lr.fit(Xs_train, y_train)"
   ]
  },
  {
   "cell_type": "code",
   "execution_count": 18,
   "id": "020a8e63-56e2-474f-8d49-425d5fe59fe0",
   "metadata": {
    "execution": {
     "iopub.execute_input": "2023-01-19T00:30:20.110789Z",
     "iopub.status.busy": "2023-01-19T00:30:20.110646Z",
     "iopub.status.idle": "2023-01-19T00:30:20.128652Z",
     "shell.execute_reply": "2023-01-19T00:30:20.128183Z",
     "shell.execute_reply.started": "2023-01-19T00:30:20.110777Z"
    }
   },
   "outputs": [
    {
     "data": {
      "text/html": [
       "<div>\n",
       "<style scoped>\n",
       "    .dataframe tbody tr th:only-of-type {\n",
       "        vertical-align: middle;\n",
       "    }\n",
       "\n",
       "    .dataframe tbody tr th {\n",
       "        vertical-align: top;\n",
       "    }\n",
       "\n",
       "    .dataframe thead th {\n",
       "        text-align: right;\n",
       "    }\n",
       "</style>\n",
       "<table border=\"1\" class=\"dataframe\">\n",
       "  <thead>\n",
       "    <tr style=\"text-align: right;\">\n",
       "      <th></th>\n",
       "      <th>Model</th>\n",
       "      <th>Train Score</th>\n",
       "      <th>Val Score</th>\n",
       "      <th>X Val Score</th>\n",
       "      <th>RMSE Train</th>\n",
       "      <th>RMSE Val</th>\n",
       "    </tr>\n",
       "  </thead>\n",
       "  <tbody>\n",
       "    <tr>\n",
       "      <th>0</th>\n",
       "      <td>m005_ALL_35-69.LinReg</td>\n",
       "      <td>1.0</td>\n",
       "      <td>0.88294</td>\n",
       "      <td>0.616316</td>\n",
       "      <td>8.404957e-15</td>\n",
       "      <td>1.206978</td>\n",
       "    </tr>\n",
       "  </tbody>\n",
       "</table>\n",
       "</div>"
      ],
      "text/plain": [
       "                   Model  Train Score  Val Score  X Val Score    RMSE Train  \\\n",
       "0  m005_ALL_35-69.LinReg          1.0    0.88294     0.616316  8.404957e-15   \n",
       "\n",
       "   RMSE Val  \n",
       "0  1.206978  "
      ]
     },
     "execution_count": 18,
     "metadata": {},
     "output_type": "execute_result"
    }
   ],
   "source": [
    "update_df(lr, 'm005_ALL_35-69.LinReg')"
   ]
  },
  {
   "cell_type": "code",
   "execution_count": 19,
   "id": "b9b05d45-d227-45da-a109-8d622feb3ed6",
   "metadata": {
    "execution": {
     "iopub.execute_input": "2023-01-19T00:30:20.129343Z",
     "iopub.status.busy": "2023-01-19T00:30:20.129221Z",
     "iopub.status.idle": "2023-01-19T00:30:20.131928Z",
     "shell.execute_reply": "2023-01-19T00:30:20.131473Z",
     "shell.execute_reply.started": "2023-01-19T00:30:20.129333Z"
    },
    "tags": []
   },
   "outputs": [],
   "source": [
    "ridge = RidgeCV(alphas = np.logspace(0,2,100)) # "
   ]
  },
  {
   "cell_type": "code",
   "execution_count": 20,
   "id": "bf7e8c70-5ab7-44ba-8bba-73ae4a8257a9",
   "metadata": {
    "execution": {
     "iopub.execute_input": "2023-01-19T00:30:20.132636Z",
     "iopub.status.busy": "2023-01-19T00:30:20.132529Z",
     "iopub.status.idle": "2023-01-19T00:30:20.135215Z",
     "shell.execute_reply": "2023-01-19T00:30:20.134866Z",
     "shell.execute_reply.started": "2023-01-19T00:30:20.132625Z"
    }
   },
   "outputs": [],
   "source": [
    "lasso = LassoCV(alphas = np.arange(0.001, 10, 1))"
   ]
  },
  {
   "cell_type": "code",
   "execution_count": 21,
   "id": "ebaaad19-e003-47d0-9c1f-c829f47fca10",
   "metadata": {
    "execution": {
     "iopub.execute_input": "2023-01-19T00:30:20.135987Z",
     "iopub.status.busy": "2023-01-19T00:30:20.135876Z",
     "iopub.status.idle": "2023-01-19T00:30:20.151324Z",
     "shell.execute_reply": "2023-01-19T00:30:20.150854Z",
     "shell.execute_reply.started": "2023-01-19T00:30:20.135976Z"
    }
   },
   "outputs": [
    {
     "data": {
      "text/html": [
       "<style>#sk-container-id-2 {color: black;background-color: white;}#sk-container-id-2 pre{padding: 0;}#sk-container-id-2 div.sk-toggleable {background-color: white;}#sk-container-id-2 label.sk-toggleable__label {cursor: pointer;display: block;width: 100%;margin-bottom: 0;padding: 0.3em;box-sizing: border-box;text-align: center;}#sk-container-id-2 label.sk-toggleable__label-arrow:before {content: \"▸\";float: left;margin-right: 0.25em;color: #696969;}#sk-container-id-2 label.sk-toggleable__label-arrow:hover:before {color: black;}#sk-container-id-2 div.sk-estimator:hover label.sk-toggleable__label-arrow:before {color: black;}#sk-container-id-2 div.sk-toggleable__content {max-height: 0;max-width: 0;overflow: hidden;text-align: left;background-color: #f0f8ff;}#sk-container-id-2 div.sk-toggleable__content pre {margin: 0.2em;color: black;border-radius: 0.25em;background-color: #f0f8ff;}#sk-container-id-2 input.sk-toggleable__control:checked~div.sk-toggleable__content {max-height: 200px;max-width: 100%;overflow: auto;}#sk-container-id-2 input.sk-toggleable__control:checked~label.sk-toggleable__label-arrow:before {content: \"▾\";}#sk-container-id-2 div.sk-estimator input.sk-toggleable__control:checked~label.sk-toggleable__label {background-color: #d4ebff;}#sk-container-id-2 div.sk-label input.sk-toggleable__control:checked~label.sk-toggleable__label {background-color: #d4ebff;}#sk-container-id-2 input.sk-hidden--visually {border: 0;clip: rect(1px 1px 1px 1px);clip: rect(1px, 1px, 1px, 1px);height: 1px;margin: -1px;overflow: hidden;padding: 0;position: absolute;width: 1px;}#sk-container-id-2 div.sk-estimator {font-family: monospace;background-color: #f0f8ff;border: 1px dotted black;border-radius: 0.25em;box-sizing: border-box;margin-bottom: 0.5em;}#sk-container-id-2 div.sk-estimator:hover {background-color: #d4ebff;}#sk-container-id-2 div.sk-parallel-item::after {content: \"\";width: 100%;border-bottom: 1px solid gray;flex-grow: 1;}#sk-container-id-2 div.sk-label:hover label.sk-toggleable__label {background-color: #d4ebff;}#sk-container-id-2 div.sk-serial::before {content: \"\";position: absolute;border-left: 1px solid gray;box-sizing: border-box;top: 0;bottom: 0;left: 50%;z-index: 0;}#sk-container-id-2 div.sk-serial {display: flex;flex-direction: column;align-items: center;background-color: white;padding-right: 0.2em;padding-left: 0.2em;position: relative;}#sk-container-id-2 div.sk-item {position: relative;z-index: 1;}#sk-container-id-2 div.sk-parallel {display: flex;align-items: stretch;justify-content: center;background-color: white;position: relative;}#sk-container-id-2 div.sk-item::before, #sk-container-id-2 div.sk-parallel-item::before {content: \"\";position: absolute;border-left: 1px solid gray;box-sizing: border-box;top: 0;bottom: 0;left: 50%;z-index: -1;}#sk-container-id-2 div.sk-parallel-item {display: flex;flex-direction: column;z-index: 1;position: relative;background-color: white;}#sk-container-id-2 div.sk-parallel-item:first-child::after {align-self: flex-end;width: 50%;}#sk-container-id-2 div.sk-parallel-item:last-child::after {align-self: flex-start;width: 50%;}#sk-container-id-2 div.sk-parallel-item:only-child::after {width: 0;}#sk-container-id-2 div.sk-dashed-wrapped {border: 1px dashed gray;margin: 0 0.4em 0.5em 0.4em;box-sizing: border-box;padding-bottom: 0.4em;background-color: white;}#sk-container-id-2 div.sk-label label {font-family: monospace;font-weight: bold;display: inline-block;line-height: 1.2em;}#sk-container-id-2 div.sk-label-container {text-align: center;}#sk-container-id-2 div.sk-container {/* jupyter's `normalize.less` sets `[hidden] { display: none; }` but bootstrap.min.css set `[hidden] { display: none !important; }` so we also need the `!important` here to be able to override the default hidden behavior on the sphinx rendered scikit-learn.org. See: https://github.com/scikit-learn/scikit-learn/issues/21755 */display: inline-block !important;position: relative;}#sk-container-id-2 div.sk-text-repr-fallback {display: none;}</style><div id=\"sk-container-id-2\" class=\"sk-top-container\"><div class=\"sk-text-repr-fallback\"><pre>RidgeCV(alphas=array([  1.        ,   1.04761575,   1.09749877,   1.149757  ,\n",
       "         1.20450354,   1.26185688,   1.32194115,   1.38488637,\n",
       "         1.45082878,   1.51991108,   1.59228279,   1.66810054,\n",
       "         1.7475284 ,   1.83073828,   1.91791026,   2.009233  ,\n",
       "         2.10490414,   2.20513074,   2.3101297 ,   2.42012826,\n",
       "         2.53536449,   2.65608778,   2.7825594 ,   2.91505306,\n",
       "         3.05385551,   3.19926714,   3.35160265,   3.51119173,\n",
       "         3.67837977,   3.85352859,   4.03701726,   4....\n",
       "        23.64489413,  24.77076356,  25.95024211,  27.18588243,\n",
       "        28.48035868,  29.8364724 ,  31.2571585 ,  32.74549163,\n",
       "        34.30469286,  35.93813664,  37.64935807,  39.44206059,\n",
       "        41.320124  ,  43.28761281,  45.34878508,  47.50810162,\n",
       "        49.77023564,  52.14008288,  54.62277218,  57.22367659,\n",
       "        59.94842503,  62.80291442,  65.79332247,  68.92612104,\n",
       "        72.20809018,  75.64633276,  79.24828984,  83.02175681,\n",
       "        86.97490026,  91.11627561,  95.45484567, 100.        ]))</pre><b>In a Jupyter environment, please rerun this cell to show the HTML representation or trust the notebook. <br />On GitHub, the HTML representation is unable to render, please try loading this page with nbviewer.org.</b></div><div class=\"sk-container\" hidden><div class=\"sk-item\"><div class=\"sk-estimator sk-toggleable\"><input class=\"sk-toggleable__control sk-hidden--visually\" id=\"sk-estimator-id-2\" type=\"checkbox\" checked><label for=\"sk-estimator-id-2\" class=\"sk-toggleable__label sk-toggleable__label-arrow\">RidgeCV</label><div class=\"sk-toggleable__content\"><pre>RidgeCV(alphas=array([  1.        ,   1.04761575,   1.09749877,   1.149757  ,\n",
       "         1.20450354,   1.26185688,   1.32194115,   1.38488637,\n",
       "         1.45082878,   1.51991108,   1.59228279,   1.66810054,\n",
       "         1.7475284 ,   1.83073828,   1.91791026,   2.009233  ,\n",
       "         2.10490414,   2.20513074,   2.3101297 ,   2.42012826,\n",
       "         2.53536449,   2.65608778,   2.7825594 ,   2.91505306,\n",
       "         3.05385551,   3.19926714,   3.35160265,   3.51119173,\n",
       "         3.67837977,   3.85352859,   4.03701726,   4....\n",
       "        23.64489413,  24.77076356,  25.95024211,  27.18588243,\n",
       "        28.48035868,  29.8364724 ,  31.2571585 ,  32.74549163,\n",
       "        34.30469286,  35.93813664,  37.64935807,  39.44206059,\n",
       "        41.320124  ,  43.28761281,  45.34878508,  47.50810162,\n",
       "        49.77023564,  52.14008288,  54.62277218,  57.22367659,\n",
       "        59.94842503,  62.80291442,  65.79332247,  68.92612104,\n",
       "        72.20809018,  75.64633276,  79.24828984,  83.02175681,\n",
       "        86.97490026,  91.11627561,  95.45484567, 100.        ]))</pre></div></div></div></div></div>"
      ],
      "text/plain": [
       "RidgeCV(alphas=array([  1.        ,   1.04761575,   1.09749877,   1.149757  ,\n",
       "         1.20450354,   1.26185688,   1.32194115,   1.38488637,\n",
       "         1.45082878,   1.51991108,   1.59228279,   1.66810054,\n",
       "         1.7475284 ,   1.83073828,   1.91791026,   2.009233  ,\n",
       "         2.10490414,   2.20513074,   2.3101297 ,   2.42012826,\n",
       "         2.53536449,   2.65608778,   2.7825594 ,   2.91505306,\n",
       "         3.05385551,   3.19926714,   3.35160265,   3.51119173,\n",
       "         3.67837977,   3.85352859,   4.03701726,   4....\n",
       "        23.64489413,  24.77076356,  25.95024211,  27.18588243,\n",
       "        28.48035868,  29.8364724 ,  31.2571585 ,  32.74549163,\n",
       "        34.30469286,  35.93813664,  37.64935807,  39.44206059,\n",
       "        41.320124  ,  43.28761281,  45.34878508,  47.50810162,\n",
       "        49.77023564,  52.14008288,  54.62277218,  57.22367659,\n",
       "        59.94842503,  62.80291442,  65.79332247,  68.92612104,\n",
       "        72.20809018,  75.64633276,  79.24828984,  83.02175681,\n",
       "        86.97490026,  91.11627561,  95.45484567, 100.        ]))"
      ]
     },
     "execution_count": 21,
     "metadata": {},
     "output_type": "execute_result"
    }
   ],
   "source": [
    "ridge.fit(Xs_train, y_train)"
   ]
  },
  {
   "cell_type": "code",
   "execution_count": 22,
   "id": "5d28e5c4-1304-4414-bcc3-7bf1f291cc83",
   "metadata": {
    "execution": {
     "iopub.execute_input": "2023-01-19T00:30:20.157359Z",
     "iopub.status.busy": "2023-01-19T00:30:20.157221Z",
     "iopub.status.idle": "2023-01-19T00:30:20.160577Z",
     "shell.execute_reply": "2023-01-19T00:30:20.160050Z",
     "shell.execute_reply.started": "2023-01-19T00:30:20.157348Z"
    }
   },
   "outputs": [
    {
     "data": {
      "text/plain": [
       "1.0"
      ]
     },
     "execution_count": 22,
     "metadata": {},
     "output_type": "execute_result"
    }
   ],
   "source": [
    "ridge.alpha_"
   ]
  },
  {
   "cell_type": "code",
   "execution_count": 23,
   "id": "57d9a9ed-068c-4009-a2c3-a482f118a69a",
   "metadata": {
    "execution": {
     "iopub.execute_input": "2023-01-19T00:30:20.161602Z",
     "iopub.status.busy": "2023-01-19T00:30:20.161470Z",
     "iopub.status.idle": "2023-01-19T00:30:20.195029Z",
     "shell.execute_reply": "2023-01-19T00:30:20.194580Z",
     "shell.execute_reply.started": "2023-01-19T00:30:20.161590Z"
    }
   },
   "outputs": [
    {
     "data": {
      "text/html": [
       "<div>\n",
       "<style scoped>\n",
       "    .dataframe tbody tr th:only-of-type {\n",
       "        vertical-align: middle;\n",
       "    }\n",
       "\n",
       "    .dataframe tbody tr th {\n",
       "        vertical-align: top;\n",
       "    }\n",
       "\n",
       "    .dataframe thead th {\n",
       "        text-align: right;\n",
       "    }\n",
       "</style>\n",
       "<table border=\"1\" class=\"dataframe\">\n",
       "  <thead>\n",
       "    <tr style=\"text-align: right;\">\n",
       "      <th></th>\n",
       "      <th>Model</th>\n",
       "      <th>Train Score</th>\n",
       "      <th>Val Score</th>\n",
       "      <th>X Val Score</th>\n",
       "      <th>RMSE Train</th>\n",
       "      <th>RMSE Val</th>\n",
       "    </tr>\n",
       "  </thead>\n",
       "  <tbody>\n",
       "    <tr>\n",
       "      <th>0</th>\n",
       "      <td>m005_ALL_35-69.LinReg</td>\n",
       "      <td>1.000000</td>\n",
       "      <td>0.882940</td>\n",
       "      <td>0.616316</td>\n",
       "      <td>8.404957e-15</td>\n",
       "      <td>1.206978</td>\n",
       "    </tr>\n",
       "    <tr>\n",
       "      <th>1</th>\n",
       "      <td>m005_ALL_35-69.L2-1</td>\n",
       "      <td>0.999965</td>\n",
       "      <td>0.881611</td>\n",
       "      <td>0.614525</td>\n",
       "      <td>8.404957e-15</td>\n",
       "      <td>1.206978</td>\n",
       "    </tr>\n",
       "  </tbody>\n",
       "</table>\n",
       "</div>"
      ],
      "text/plain": [
       "                   Model  Train Score  Val Score  X Val Score    RMSE Train  \\\n",
       "0  m005_ALL_35-69.LinReg     1.000000   0.882940     0.616316  8.404957e-15   \n",
       "1    m005_ALL_35-69.L2-1     0.999965   0.881611     0.614525  8.404957e-15   \n",
       "\n",
       "   RMSE Val  \n",
       "0  1.206978  \n",
       "1  1.206978  "
      ]
     },
     "execution_count": 23,
     "metadata": {},
     "output_type": "execute_result"
    }
   ],
   "source": [
    "update_df(ridge, \"m005_ALL_35-69.L2-1\")"
   ]
  },
  {
   "cell_type": "code",
   "execution_count": 24,
   "id": "ea838d5d-de79-4499-8dbd-821a00d8a1be",
   "metadata": {
    "execution": {
     "iopub.execute_input": "2023-01-19T00:30:20.195612Z",
     "iopub.status.busy": "2023-01-19T00:30:20.195519Z",
     "iopub.status.idle": "2023-01-19T00:30:20.229101Z",
     "shell.execute_reply": "2023-01-19T00:30:20.228626Z",
     "shell.execute_reply.started": "2023-01-19T00:30:20.195603Z"
    },
    "tags": []
   },
   "outputs": [
    {
     "data": {
      "text/html": [
       "<style>#sk-container-id-3 {color: black;background-color: white;}#sk-container-id-3 pre{padding: 0;}#sk-container-id-3 div.sk-toggleable {background-color: white;}#sk-container-id-3 label.sk-toggleable__label {cursor: pointer;display: block;width: 100%;margin-bottom: 0;padding: 0.3em;box-sizing: border-box;text-align: center;}#sk-container-id-3 label.sk-toggleable__label-arrow:before {content: \"▸\";float: left;margin-right: 0.25em;color: #696969;}#sk-container-id-3 label.sk-toggleable__label-arrow:hover:before {color: black;}#sk-container-id-3 div.sk-estimator:hover label.sk-toggleable__label-arrow:before {color: black;}#sk-container-id-3 div.sk-toggleable__content {max-height: 0;max-width: 0;overflow: hidden;text-align: left;background-color: #f0f8ff;}#sk-container-id-3 div.sk-toggleable__content pre {margin: 0.2em;color: black;border-radius: 0.25em;background-color: #f0f8ff;}#sk-container-id-3 input.sk-toggleable__control:checked~div.sk-toggleable__content {max-height: 200px;max-width: 100%;overflow: auto;}#sk-container-id-3 input.sk-toggleable__control:checked~label.sk-toggleable__label-arrow:before {content: \"▾\";}#sk-container-id-3 div.sk-estimator input.sk-toggleable__control:checked~label.sk-toggleable__label {background-color: #d4ebff;}#sk-container-id-3 div.sk-label input.sk-toggleable__control:checked~label.sk-toggleable__label {background-color: #d4ebff;}#sk-container-id-3 input.sk-hidden--visually {border: 0;clip: rect(1px 1px 1px 1px);clip: rect(1px, 1px, 1px, 1px);height: 1px;margin: -1px;overflow: hidden;padding: 0;position: absolute;width: 1px;}#sk-container-id-3 div.sk-estimator {font-family: monospace;background-color: #f0f8ff;border: 1px dotted black;border-radius: 0.25em;box-sizing: border-box;margin-bottom: 0.5em;}#sk-container-id-3 div.sk-estimator:hover {background-color: #d4ebff;}#sk-container-id-3 div.sk-parallel-item::after {content: \"\";width: 100%;border-bottom: 1px solid gray;flex-grow: 1;}#sk-container-id-3 div.sk-label:hover label.sk-toggleable__label {background-color: #d4ebff;}#sk-container-id-3 div.sk-serial::before {content: \"\";position: absolute;border-left: 1px solid gray;box-sizing: border-box;top: 0;bottom: 0;left: 50%;z-index: 0;}#sk-container-id-3 div.sk-serial {display: flex;flex-direction: column;align-items: center;background-color: white;padding-right: 0.2em;padding-left: 0.2em;position: relative;}#sk-container-id-3 div.sk-item {position: relative;z-index: 1;}#sk-container-id-3 div.sk-parallel {display: flex;align-items: stretch;justify-content: center;background-color: white;position: relative;}#sk-container-id-3 div.sk-item::before, #sk-container-id-3 div.sk-parallel-item::before {content: \"\";position: absolute;border-left: 1px solid gray;box-sizing: border-box;top: 0;bottom: 0;left: 50%;z-index: -1;}#sk-container-id-3 div.sk-parallel-item {display: flex;flex-direction: column;z-index: 1;position: relative;background-color: white;}#sk-container-id-3 div.sk-parallel-item:first-child::after {align-self: flex-end;width: 50%;}#sk-container-id-3 div.sk-parallel-item:last-child::after {align-self: flex-start;width: 50%;}#sk-container-id-3 div.sk-parallel-item:only-child::after {width: 0;}#sk-container-id-3 div.sk-dashed-wrapped {border: 1px dashed gray;margin: 0 0.4em 0.5em 0.4em;box-sizing: border-box;padding-bottom: 0.4em;background-color: white;}#sk-container-id-3 div.sk-label label {font-family: monospace;font-weight: bold;display: inline-block;line-height: 1.2em;}#sk-container-id-3 div.sk-label-container {text-align: center;}#sk-container-id-3 div.sk-container {/* jupyter's `normalize.less` sets `[hidden] { display: none; }` but bootstrap.min.css set `[hidden] { display: none !important; }` so we also need the `!important` here to be able to override the default hidden behavior on the sphinx rendered scikit-learn.org. See: https://github.com/scikit-learn/scikit-learn/issues/21755 */display: inline-block !important;position: relative;}#sk-container-id-3 div.sk-text-repr-fallback {display: none;}</style><div id=\"sk-container-id-3\" class=\"sk-top-container\"><div class=\"sk-text-repr-fallback\"><pre>LassoCV(alphas=array([1.000e-03, 1.001e+00, 2.001e+00, 3.001e+00, 4.001e+00, 5.001e+00,\n",
       "       6.001e+00, 7.001e+00, 8.001e+00, 9.001e+00]))</pre><b>In a Jupyter environment, please rerun this cell to show the HTML representation or trust the notebook. <br />On GitHub, the HTML representation is unable to render, please try loading this page with nbviewer.org.</b></div><div class=\"sk-container\" hidden><div class=\"sk-item\"><div class=\"sk-estimator sk-toggleable\"><input class=\"sk-toggleable__control sk-hidden--visually\" id=\"sk-estimator-id-3\" type=\"checkbox\" checked><label for=\"sk-estimator-id-3\" class=\"sk-toggleable__label sk-toggleable__label-arrow\">LassoCV</label><div class=\"sk-toggleable__content\"><pre>LassoCV(alphas=array([1.000e-03, 1.001e+00, 2.001e+00, 3.001e+00, 4.001e+00, 5.001e+00,\n",
       "       6.001e+00, 7.001e+00, 8.001e+00, 9.001e+00]))</pre></div></div></div></div></div>"
      ],
      "text/plain": [
       "LassoCV(alphas=array([1.000e-03, 1.001e+00, 2.001e+00, 3.001e+00, 4.001e+00, 5.001e+00,\n",
       "       6.001e+00, 7.001e+00, 8.001e+00, 9.001e+00]))"
      ]
     },
     "execution_count": 24,
     "metadata": {},
     "output_type": "execute_result"
    }
   ],
   "source": [
    "lasso.fit(Xs_train, y_train)"
   ]
  },
  {
   "cell_type": "code",
   "execution_count": 25,
   "id": "9987b850-329b-43cf-b193-5a4b9774d91f",
   "metadata": {
    "execution": {
     "iopub.execute_input": "2023-01-19T00:30:20.229799Z",
     "iopub.status.busy": "2023-01-19T00:30:20.229667Z",
     "iopub.status.idle": "2023-01-19T00:30:20.402819Z",
     "shell.execute_reply": "2023-01-19T00:30:20.402256Z",
     "shell.execute_reply.started": "2023-01-19T00:30:20.229782Z"
    }
   },
   "outputs": [
    {
     "data": {
      "text/html": [
       "<div>\n",
       "<style scoped>\n",
       "    .dataframe tbody tr th:only-of-type {\n",
       "        vertical-align: middle;\n",
       "    }\n",
       "\n",
       "    .dataframe tbody tr th {\n",
       "        vertical-align: top;\n",
       "    }\n",
       "\n",
       "    .dataframe thead th {\n",
       "        text-align: right;\n",
       "    }\n",
       "</style>\n",
       "<table border=\"1\" class=\"dataframe\">\n",
       "  <thead>\n",
       "    <tr style=\"text-align: right;\">\n",
       "      <th></th>\n",
       "      <th>Model</th>\n",
       "      <th>Train Score</th>\n",
       "      <th>Val Score</th>\n",
       "      <th>X Val Score</th>\n",
       "      <th>RMSE Train</th>\n",
       "      <th>RMSE Val</th>\n",
       "    </tr>\n",
       "  </thead>\n",
       "  <tbody>\n",
       "    <tr>\n",
       "      <th>0</th>\n",
       "      <td>m005_ALL_35-69.LinReg</td>\n",
       "      <td>1.000000</td>\n",
       "      <td>0.882940</td>\n",
       "      <td>0.616316</td>\n",
       "      <td>8.404957e-15</td>\n",
       "      <td>1.206978</td>\n",
       "    </tr>\n",
       "    <tr>\n",
       "      <th>1</th>\n",
       "      <td>m005_ALL_35-69.L2-1</td>\n",
       "      <td>0.999965</td>\n",
       "      <td>0.881611</td>\n",
       "      <td>0.614525</td>\n",
       "      <td>8.404957e-15</td>\n",
       "      <td>1.206978</td>\n",
       "    </tr>\n",
       "    <tr>\n",
       "      <th>2</th>\n",
       "      <td>m005_ALL_35-69.L1-1</td>\n",
       "      <td>0.999998</td>\n",
       "      <td>0.999996</td>\n",
       "      <td>0.999285</td>\n",
       "      <td>8.404957e-15</td>\n",
       "      <td>1.206978</td>\n",
       "    </tr>\n",
       "  </tbody>\n",
       "</table>\n",
       "</div>"
      ],
      "text/plain": [
       "                   Model  Train Score  Val Score  X Val Score    RMSE Train  \\\n",
       "0  m005_ALL_35-69.LinReg     1.000000   0.882940     0.616316  8.404957e-15   \n",
       "1    m005_ALL_35-69.L2-1     0.999965   0.881611     0.614525  8.404957e-15   \n",
       "2    m005_ALL_35-69.L1-1     0.999998   0.999996     0.999285  8.404957e-15   \n",
       "\n",
       "   RMSE Val  \n",
       "0  1.206978  \n",
       "1  1.206978  \n",
       "2  1.206978  "
      ]
     },
     "execution_count": 25,
     "metadata": {},
     "output_type": "execute_result"
    }
   ],
   "source": [
    "update_df(lasso, \"m005_ALL_35-69.L1-1\")"
   ]
  },
  {
   "cell_type": "code",
   "execution_count": 26,
   "id": "08bd36d3-952a-492e-8b36-886a6c1a1fc9",
   "metadata": {
    "execution": {
     "iopub.execute_input": "2023-01-19T00:30:20.404077Z",
     "iopub.status.busy": "2023-01-19T00:30:20.403617Z",
     "iopub.status.idle": "2023-01-19T00:30:20.408143Z",
     "shell.execute_reply": "2023-01-19T00:30:20.407525Z",
     "shell.execute_reply.started": "2023-01-19T00:30:20.404060Z"
    },
    "tags": []
   },
   "outputs": [
    {
     "data": {
      "text/plain": [
       "array(['q022', 'q096', 'q102', 'q105', 'q121', 'q122', 'q126', 'q152',\n",
       "       'd038', 'm008_MEDICALc', 'm010_NONMEDc', 'p027', 'p034', 'p042',\n",
       "       'r002', 'r016', 'r026'], dtype=object)"
      ]
     },
     "execution_count": 26,
     "metadata": {},
     "output_type": "execute_result"
    }
   ],
   "source": [
    "importance = np.abs(lasso.coef_)\n",
    "features = X.columns\n",
    "np.array(features)[importance>0]"
   ]
  },
  {
   "cell_type": "code",
   "execution_count": 27,
   "id": "063869ca-3418-4d77-ae5b-c729b6243277",
   "metadata": {
    "execution": {
     "iopub.execute_input": "2023-01-19T00:30:20.409198Z",
     "iopub.status.busy": "2023-01-19T00:30:20.409047Z",
     "iopub.status.idle": "2023-01-19T00:30:20.412641Z",
     "shell.execute_reply": "2023-01-19T00:30:20.412176Z",
     "shell.execute_reply.started": "2023-01-19T00:30:20.409183Z"
    },
    "tags": []
   },
   "outputs": [],
   "source": [
    "# np.array(features)\n",
    "# importance\n",
    "feat_imp = pd.DataFrame({'features':features, 'importance':importance}, columns=['features','importance'])"
   ]
  },
  {
   "cell_type": "markdown",
   "id": "c8f5f131-72dd-4497-9bf2-7667d9b53907",
   "metadata": {},
   "source": [
    "It'd be nice to be able to pull the code descriptions without searching the whole sheet one at a time:"
   ]
  },
  {
   "cell_type": "code",
   "execution_count": 28,
   "id": "8d32645f-9592-44fb-a518-dc6bb08616f5",
   "metadata": {
    "execution": {
     "iopub.execute_input": "2023-01-19T00:30:20.413418Z",
     "iopub.status.busy": "2023-01-19T00:30:20.413301Z",
     "iopub.status.idle": "2023-01-19T00:30:20.416999Z",
     "shell.execute_reply": "2023-01-19T00:30:20.416497Z",
     "shell.execute_reply.started": "2023-01-19T00:30:20.413406Z"
    },
    "tags": []
   },
   "outputs": [],
   "source": [
    "with open('./data/CHNAME.txt', 'r') as file:\n",
    "    data = file.read()\n",
    "    rows = data.split('\\n')\n",
    "\n",
    "descriptions = pd.DataFrame(rows)"
   ]
  },
  {
   "cell_type": "code",
   "execution_count": 29,
   "id": "de082cd4-a5f9-4b62-a941-cd9c3bda3cac",
   "metadata": {
    "execution": {
     "iopub.execute_input": "2023-01-19T00:30:20.417541Z",
     "iopub.status.busy": "2023-01-19T00:30:20.417429Z",
     "iopub.status.idle": "2023-01-19T00:30:20.425091Z",
     "shell.execute_reply": "2023-01-19T00:30:20.424540Z",
     "shell.execute_reply.started": "2023-01-19T00:30:20.417529Z"
    },
    "tags": []
   },
   "outputs": [
    {
     "name": "stderr",
     "output_type": "stream",
     "text": [
      "/var/folders/2f/m4z0nfhn5px0p2mdppmmrlxr0000gn/T/ipykernel_31825/2593100514.py:4: SettingWithCopyWarning: \n",
      "A value is trying to be set on a copy of a slice from a DataFrame.\n",
      "Try using .loc[row_indexer,col_indexer] = value instead\n",
      "\n",
      "See the caveats in the documentation: https://pandas.pydata.org/pandas-docs/stable/user_guide/indexing.html#returning-a-view-versus-a-copy\n",
      "  text_df['code'] = text_df[0].str.split(expand=True).iloc[:,0]\n"
     ]
    },
    {
     "data": {
      "text/html": [
       "<div>\n",
       "<style scoped>\n",
       "    .dataframe tbody tr th:only-of-type {\n",
       "        vertical-align: middle;\n",
       "    }\n",
       "\n",
       "    .dataframe tbody tr th {\n",
       "        vertical-align: top;\n",
       "    }\n",
       "\n",
       "    .dataframe thead th {\n",
       "        text-align: right;\n",
       "    }\n",
       "</style>\n",
       "<table border=\"1\" class=\"dataframe\">\n",
       "  <thead>\n",
       "    <tr style=\"text-align: right;\">\n",
       "      <th></th>\n",
       "      <th>0</th>\n",
       "      <th>code</th>\n",
       "    </tr>\n",
       "  </thead>\n",
       "  <tbody>\n",
       "    <tr>\n",
       "      <th>0</th>\n",
       "      <td>M001 ALL0-4     mortality ALL CAUSES AGE 0-4 (...</td>\n",
       "      <td>M001</td>\n",
       "    </tr>\n",
       "    <tr>\n",
       "      <th>2</th>\n",
       "      <td>M002 ALL5-14    mortality ALL CAUSES AGE 5-14 ...</td>\n",
       "      <td>M002</td>\n",
       "    </tr>\n",
       "    <tr>\n",
       "      <th>4</th>\n",
       "      <td>M003 ALL15-34   mortality ALL CAUSES AGE 15-34...</td>\n",
       "      <td>M003</td>\n",
       "    </tr>\n",
       "    <tr>\n",
       "      <th>6</th>\n",
       "      <td>M004 ALL0-34    mortality ALL CAUSES AGE 0-34 ...</td>\n",
       "      <td>M004</td>\n",
       "    </tr>\n",
       "    <tr>\n",
       "      <th>8</th>\n",
       "      <td>M005 ALL35-69   mortality ALL CAUSES AGE 35-69...</td>\n",
       "      <td>M005</td>\n",
       "    </tr>\n",
       "  </tbody>\n",
       "</table>\n",
       "</div>"
      ],
      "text/plain": [
       "                                                   0  code\n",
       "0  M001 ALL0-4     mortality ALL CAUSES AGE 0-4 (...  M001\n",
       "2  M002 ALL5-14    mortality ALL CAUSES AGE 5-14 ...  M002\n",
       "4  M003 ALL15-34   mortality ALL CAUSES AGE 15-34...  M003\n",
       "6  M004 ALL0-34    mortality ALL CAUSES AGE 0-34 ...  M004\n",
       "8  M005 ALL35-69   mortality ALL CAUSES AGE 35-69...  M005"
      ]
     },
     "execution_count": 29,
     "metadata": {},
     "output_type": "execute_result"
    }
   ],
   "source": [
    "# descriptions.head()\n",
    "# return every other row\n",
    "text_df = descriptions.iloc[::2,:]\n",
    "text_df['code'] = text_df[0].str.split(expand=True).iloc[:,0]\n",
    "text_df.head()"
   ]
  },
  {
   "cell_type": "code",
   "execution_count": 30,
   "id": "a25b2aed-a0c3-40c4-b43b-8eafa4192151",
   "metadata": {
    "execution": {
     "iopub.execute_input": "2023-01-19T00:30:20.425878Z",
     "iopub.status.busy": "2023-01-19T00:30:20.425763Z",
     "iopub.status.idle": "2023-01-19T00:30:20.428728Z",
     "shell.execute_reply": "2023-01-19T00:30:20.428251Z",
     "shell.execute_reply.started": "2023-01-19T00:30:20.425866Z"
    },
    "tags": []
   },
   "outputs": [
    {
     "name": "stderr",
     "output_type": "stream",
     "text": [
      "/var/folders/2f/m4z0nfhn5px0p2mdppmmrlxr0000gn/T/ipykernel_31825/360386991.py:1: SettingWithCopyWarning: \n",
      "A value is trying to be set on a copy of a slice from a DataFrame\n",
      "\n",
      "See the caveats in the documentation: https://pandas.pydata.org/pandas-docs/stable/user_guide/indexing.html#returning-a-view-versus-a-copy\n",
      "  text_df.rename(columns={0:'description'}, inplace=True)\n"
     ]
    }
   ],
   "source": [
    "text_df.rename(columns={0:'description'}, inplace=True)"
   ]
  },
  {
   "cell_type": "code",
   "execution_count": 31,
   "id": "844bb26d-3fda-4cd4-9d4c-4c23d8165965",
   "metadata": {
    "execution": {
     "iopub.execute_input": "2023-01-19T00:30:20.429330Z",
     "iopub.status.busy": "2023-01-19T00:30:20.429222Z",
     "iopub.status.idle": "2023-01-19T00:30:20.432283Z",
     "shell.execute_reply": "2023-01-19T00:30:20.431776Z",
     "shell.execute_reply.started": "2023-01-19T00:30:20.429319Z"
    },
    "tags": []
   },
   "outputs": [
    {
     "name": "stderr",
     "output_type": "stream",
     "text": [
      "/var/folders/2f/m4z0nfhn5px0p2mdppmmrlxr0000gn/T/ipykernel_31825/2186823998.py:1: SettingWithCopyWarning: \n",
      "A value is trying to be set on a copy of a slice from a DataFrame.\n",
      "Try using .loc[row_indexer,col_indexer] = value instead\n",
      "\n",
      "See the caveats in the documentation: https://pandas.pydata.org/pandas-docs/stable/user_guide/indexing.html#returning-a-view-versus-a-copy\n",
      "  text_df['code'] = text_df['code'].str.lower()\n"
     ]
    }
   ],
   "source": [
    "text_df['code'] = text_df['code'].str.lower()"
   ]
  },
  {
   "cell_type": "code",
   "execution_count": 32,
   "id": "8756f353-5db8-4086-afd2-4d6faf6055de",
   "metadata": {
    "execution": {
     "iopub.execute_input": "2023-01-19T00:30:20.433469Z",
     "iopub.status.busy": "2023-01-19T00:30:20.433245Z",
     "iopub.status.idle": "2023-01-19T00:30:20.437773Z",
     "shell.execute_reply": "2023-01-19T00:30:20.437315Z",
     "shell.execute_reply.started": "2023-01-19T00:30:20.433456Z"
    }
   },
   "outputs": [
    {
     "data": {
      "text/html": [
       "<div>\n",
       "<style scoped>\n",
       "    .dataframe tbody tr th:only-of-type {\n",
       "        vertical-align: middle;\n",
       "    }\n",
       "\n",
       "    .dataframe tbody tr th {\n",
       "        vertical-align: top;\n",
       "    }\n",
       "\n",
       "    .dataframe thead th {\n",
       "        text-align: right;\n",
       "    }\n",
       "</style>\n",
       "<table border=\"1\" class=\"dataframe\">\n",
       "  <thead>\n",
       "    <tr style=\"text-align: right;\">\n",
       "      <th></th>\n",
       "      <th>description</th>\n",
       "      <th>code</th>\n",
       "    </tr>\n",
       "  </thead>\n",
       "  <tbody>\n",
       "    <tr>\n",
       "      <th>0</th>\n",
       "      <td>M001 ALL0-4     mortality ALL CAUSES AGE 0-4 (...</td>\n",
       "      <td>m001</td>\n",
       "    </tr>\n",
       "    <tr>\n",
       "      <th>2</th>\n",
       "      <td>M002 ALL5-14    mortality ALL CAUSES AGE 5-14 ...</td>\n",
       "      <td>m002</td>\n",
       "    </tr>\n",
       "    <tr>\n",
       "      <th>4</th>\n",
       "      <td>M003 ALL15-34   mortality ALL CAUSES AGE 15-34...</td>\n",
       "      <td>m003</td>\n",
       "    </tr>\n",
       "    <tr>\n",
       "      <th>6</th>\n",
       "      <td>M004 ALL0-34    mortality ALL CAUSES AGE 0-34 ...</td>\n",
       "      <td>m004</td>\n",
       "    </tr>\n",
       "    <tr>\n",
       "      <th>8</th>\n",
       "      <td>M005 ALL35-69   mortality ALL CAUSES AGE 35-69...</td>\n",
       "      <td>m005</td>\n",
       "    </tr>\n",
       "  </tbody>\n",
       "</table>\n",
       "</div>"
      ],
      "text/plain": [
       "                                         description  code\n",
       "0  M001 ALL0-4     mortality ALL CAUSES AGE 0-4 (...  m001\n",
       "2  M002 ALL5-14    mortality ALL CAUSES AGE 5-14 ...  m002\n",
       "4  M003 ALL15-34   mortality ALL CAUSES AGE 15-34...  m003\n",
       "6  M004 ALL0-34    mortality ALL CAUSES AGE 0-34 ...  m004\n",
       "8  M005 ALL35-69   mortality ALL CAUSES AGE 35-69...  m005"
      ]
     },
     "execution_count": 32,
     "metadata": {},
     "output_type": "execute_result"
    }
   ],
   "source": [
    "text_df.head()"
   ]
  },
  {
   "cell_type": "code",
   "execution_count": 33,
   "id": "1f5bbf94-7d15-4f7e-8a6c-ee2e1e057478",
   "metadata": {
    "execution": {
     "iopub.execute_input": "2023-01-19T00:30:20.438697Z",
     "iopub.status.busy": "2023-01-19T00:30:20.438431Z",
     "iopub.status.idle": "2023-01-19T00:30:20.443064Z",
     "shell.execute_reply": "2023-01-19T00:30:20.442602Z",
     "shell.execute_reply.started": "2023-01-19T00:30:20.438684Z"
    },
    "tags": []
   },
   "outputs": [],
   "source": [
    "feat_imp = feat_imp.merge(text_df, left_on='features', right_on='code', how='left').drop(columns = ['code'])"
   ]
  },
  {
   "cell_type": "code",
   "execution_count": 34,
   "id": "10d7111e-02ce-4031-a986-bb6c6991a9e9",
   "metadata": {
    "execution": {
     "iopub.execute_input": "2023-01-19T00:30:20.443624Z",
     "iopub.status.busy": "2023-01-19T00:30:20.443507Z",
     "iopub.status.idle": "2023-01-19T00:30:20.446224Z",
     "shell.execute_reply": "2023-01-19T00:30:20.445818Z",
     "shell.execute_reply.started": "2023-01-19T00:30:20.443613Z"
    },
    "tags": []
   },
   "outputs": [],
   "source": [
    "pd.set_option('max_colwidth', 150) # so I can see the full descriptions"
   ]
  },
  {
   "cell_type": "code",
   "execution_count": 35,
   "id": "7dc6061d-080b-4eb6-a6b1-e5f0690908a8",
   "metadata": {
    "execution": {
     "iopub.execute_input": "2023-01-19T00:30:20.446915Z",
     "iopub.status.busy": "2023-01-19T00:30:20.446803Z",
     "iopub.status.idle": "2023-01-19T00:30:20.452492Z",
     "shell.execute_reply": "2023-01-19T00:30:20.452096Z",
     "shell.execute_reply.started": "2023-01-19T00:30:20.446904Z"
    },
    "tags": []
   },
   "outputs": [
    {
     "data": {
      "text/html": [
       "<div>\n",
       "<style scoped>\n",
       "    .dataframe tbody tr th:only-of-type {\n",
       "        vertical-align: middle;\n",
       "    }\n",
       "\n",
       "    .dataframe tbody tr th {\n",
       "        vertical-align: top;\n",
       "    }\n",
       "\n",
       "    .dataframe thead th {\n",
       "        text-align: right;\n",
       "    }\n",
       "</style>\n",
       "<table border=\"1\" class=\"dataframe\">\n",
       "  <thead>\n",
       "    <tr style=\"text-align: right;\">\n",
       "      <th></th>\n",
       "      <th>features</th>\n",
       "      <th>importance</th>\n",
       "      <th>description</th>\n",
       "    </tr>\n",
       "  </thead>\n",
       "  <tbody>\n",
       "    <tr>\n",
       "      <th>3</th>\n",
       "      <td>q022</td>\n",
       "      <td>0.000505</td>\n",
       "      <td>Q022 dEDUCATED  questionnaire PERCENTAGE WHO ARE WELL-EDUCATED</td>\n",
       "    </tr>\n",
       "    <tr>\n",
       "      <th>23</th>\n",
       "      <td>q096</td>\n",
       "      <td>0.000027</td>\n",
       "      <td>Q096 dMALARIA   questionnaire PERCENTAGE WITH HISTORY OF MALARIA DIAGNOSIS</td>\n",
       "    </tr>\n",
       "    <tr>\n",
       "      <th>29</th>\n",
       "      <td>q102</td>\n",
       "      <td>0.000886</td>\n",
       "      <td>Q102 dPHLEGMw   questionnaire PERCENTAGE WHO COUGH UP PHLEGM MOST MORNINGS IN WINTER</td>\n",
       "    </tr>\n",
       "    <tr>\n",
       "      <th>32</th>\n",
       "      <td>q105</td>\n",
       "      <td>0.000454</td>\n",
       "      <td>Q105 dPHLEGMyr  questionnaire NUMBER OF YEARS TROUBLED BY PHLEGM (years)</td>\n",
       "    </tr>\n",
       "    <tr>\n",
       "      <th>40</th>\n",
       "      <td>q121</td>\n",
       "      <td>0.000025</td>\n",
       "      <td>Q121 dANTIBIOT  questionnaire PERCENTAGE USED MAINLY WESTERN ANTIBIOTICS DURING PAST 6 MONTHS</td>\n",
       "    </tr>\n",
       "    <tr>\n",
       "      <th>41</th>\n",
       "      <td>q122</td>\n",
       "      <td>0.000499</td>\n",
       "      <td>Q122 dANTACID   questionnaire PERCENTAGE USED MAINLY WESTERN ANTACIDS DURING PAST 6 MONTHS</td>\n",
       "    </tr>\n",
       "    <tr>\n",
       "      <th>45</th>\n",
       "      <td>q126</td>\n",
       "      <td>0.000855</td>\n",
       "      <td>Q126 dWTLOSS    questionnaire PERCENTAGE WHO LOST WEIGHT DURING FOOD SHORTAGE</td>\n",
       "    </tr>\n",
       "    <tr>\n",
       "      <th>61</th>\n",
       "      <td>q152</td>\n",
       "      <td>0.000007</td>\n",
       "      <td>Q152 dWINE      questionnaire PERCENTAGE WHO HAVE EVER DRUNK WINE 3 OR MORE DAYS A WEEK FOR 6 MONTHS</td>\n",
       "    </tr>\n",
       "    <tr>\n",
       "      <th>107</th>\n",
       "      <td>d038</td>\n",
       "      <td>0.000116</td>\n",
       "      <td>D038 WHTFLOUR   diet survey WHEAT FLOUR INTAKE (g/day/reference man, air-dry basis)</td>\n",
       "    </tr>\n",
       "    <tr>\n",
       "      <th>127</th>\n",
       "      <td>m008_MEDICALc</td>\n",
       "      <td>2.879213</td>\n",
       "      <td>NaN</td>\n",
       "    </tr>\n",
       "    <tr>\n",
       "      <th>133</th>\n",
       "      <td>m010_NONMEDc</td>\n",
       "      <td>0.441840</td>\n",
       "      <td>NaN</td>\n",
       "    </tr>\n",
       "    <tr>\n",
       "      <th>159</th>\n",
       "      <td>p027</td>\n",
       "      <td>0.000771</td>\n",
       "      <td>P027 Cu         plasma COPPER (mg/dL)</td>\n",
       "    </tr>\n",
       "    <tr>\n",
       "      <th>164</th>\n",
       "      <td>p034</td>\n",
       "      <td>0.000505</td>\n",
       "      <td>P034 TIBC       plasma TOTAL IRON BINDING CAPACITY (ug/dL)</td>\n",
       "    </tr>\n",
       "    <tr>\n",
       "      <th>168</th>\n",
       "      <td>p042</td>\n",
       "      <td>0.000800</td>\n",
       "      <td>P042 HBsAg      plasma HEPATITIS B SURFACE ANTIGEN</td>\n",
       "    </tr>\n",
       "    <tr>\n",
       "      <th>172</th>\n",
       "      <td>r002</td>\n",
       "      <td>0.000232</td>\n",
       "      <td>R002 RIBOFDEF   red blood cell RIBOFLAVIN DEFICIENCY (glutathione reductase activity coefficient)</td>\n",
       "    </tr>\n",
       "    <tr>\n",
       "      <th>186</th>\n",
       "      <td>r016</td>\n",
       "      <td>0.000822</td>\n",
       "      <td>R016 18:1n9     red blood cell TOTAL LIPID OLEIC ACID (18:1(9)) (% of total fatty acid by weight)</td>\n",
       "    </tr>\n",
       "    <tr>\n",
       "      <th>196</th>\n",
       "      <td>r026</td>\n",
       "      <td>0.000305</td>\n",
       "      <td>R026 20:4n6     red blood cell TOTAL LIPID ARACHIDONIC ACID (20:4(6)) (% of total fatty acid by weight)</td>\n",
       "    </tr>\n",
       "  </tbody>\n",
       "</table>\n",
       "</div>"
      ],
      "text/plain": [
       "          features  importance  \\\n",
       "3             q022    0.000505   \n",
       "23            q096    0.000027   \n",
       "29            q102    0.000886   \n",
       "32            q105    0.000454   \n",
       "40            q121    0.000025   \n",
       "41            q122    0.000499   \n",
       "45            q126    0.000855   \n",
       "61            q152    0.000007   \n",
       "107           d038    0.000116   \n",
       "127  m008_MEDICALc    2.879213   \n",
       "133   m010_NONMEDc    0.441840   \n",
       "159           p027    0.000771   \n",
       "164           p034    0.000505   \n",
       "168           p042    0.000800   \n",
       "172           r002    0.000232   \n",
       "186           r016    0.000822   \n",
       "196           r026    0.000305   \n",
       "\n",
       "                                                                                                                           description  \n",
       "3    Q022 dEDUCATED  questionnaire PERCENTAGE WHO ARE WELL-EDUCATED                                                                     \n",
       "23   Q096 dMALARIA   questionnaire PERCENTAGE WITH HISTORY OF MALARIA DIAGNOSIS                                                         \n",
       "29   Q102 dPHLEGMw   questionnaire PERCENTAGE WHO COUGH UP PHLEGM MOST MORNINGS IN WINTER                                               \n",
       "32   Q105 dPHLEGMyr  questionnaire NUMBER OF YEARS TROUBLED BY PHLEGM (years)                                                           \n",
       "40   Q121 dANTIBIOT  questionnaire PERCENTAGE USED MAINLY WESTERN ANTIBIOTICS DURING PAST 6 MONTHS                                      \n",
       "41   Q122 dANTACID   questionnaire PERCENTAGE USED MAINLY WESTERN ANTACIDS DURING PAST 6 MONTHS                                         \n",
       "45   Q126 dWTLOSS    questionnaire PERCENTAGE WHO LOST WEIGHT DURING FOOD SHORTAGE                                                      \n",
       "61   Q152 dWINE      questionnaire PERCENTAGE WHO HAVE EVER DRUNK WINE 3 OR MORE DAYS A WEEK FOR 6 MONTHS                               \n",
       "107  D038 WHTFLOUR   diet survey WHEAT FLOUR INTAKE (g/day/reference man, air-dry basis)                                                \n",
       "127                                                                                                                                NaN  \n",
       "133                                                                                                                                NaN  \n",
       "159  P027 Cu         plasma COPPER (mg/dL)                                                                                              \n",
       "164  P034 TIBC       plasma TOTAL IRON BINDING CAPACITY (ug/dL)                                                                         \n",
       "168  P042 HBsAg      plasma HEPATITIS B SURFACE ANTIGEN                                                                                 \n",
       "172  R002 RIBOFDEF   red blood cell RIBOFLAVIN DEFICIENCY (glutathione reductase activity coefficient)                                  \n",
       "186  R016 18:1n9     red blood cell TOTAL LIPID OLEIC ACID (18:1(9)) (% of total fatty acid by weight)                                  \n",
       "196  R026 20:4n6     red blood cell TOTAL LIPID ARACHIDONIC ACID (20:4(6)) (% of total fatty acid by weight)                            "
      ]
     },
     "execution_count": 35,
     "metadata": {},
     "output_type": "execute_result"
    }
   ],
   "source": [
    "feat_imp[feat_imp['importance']>0]"
   ]
  },
  {
   "cell_type": "code",
   "execution_count": 36,
   "id": "057b2380-6928-4daf-a72b-9ead71cc1e04",
   "metadata": {
    "execution": {
     "iopub.execute_input": "2023-01-19T00:30:20.453165Z",
     "iopub.status.busy": "2023-01-19T00:30:20.452958Z",
     "iopub.status.idle": "2023-01-19T00:30:20.456780Z",
     "shell.execute_reply": "2023-01-19T00:30:20.456395Z",
     "shell.execute_reply.started": "2023-01-19T00:30:20.453155Z"
    }
   },
   "outputs": [
    {
     "data": {
      "text/plain": [
       "count    66.000000\n",
       "mean     12.991667\n",
       "std       3.039937\n",
       "min       8.010000\n",
       "25%      10.467500\n",
       "50%      13.040000\n",
       "75%      14.940000\n",
       "max      21.230000\n",
       "Name: m008_MEDICALc, dtype: float64"
      ]
     },
     "execution_count": 36,
     "metadata": {},
     "output_type": "execute_result"
    }
   ],
   "source": [
    "clean_df['m008_MEDICALc'].describe()"
   ]
  },
  {
   "cell_type": "markdown",
   "id": "2645033f-49aa-4857-b5ac-15bcf398907a",
   "metadata": {
    "execution": {
     "iopub.execute_input": "2023-01-18T01:42:07.859347Z",
     "iopub.status.busy": "2023-01-18T01:42:07.858730Z",
     "iopub.status.idle": "2023-01-18T01:42:07.864720Z",
     "shell.execute_reply": "2023-01-18T01:42:07.863787Z",
     "shell.execute_reply.started": "2023-01-18T01:42:07.859303Z"
    }
   },
   "source": [
    "We don't want other mortality reasons to affect our predictors. We will remove them from the feature list moving forward."
   ]
  },
  {
   "cell_type": "code",
   "execution_count": 37,
   "id": "086200dc-8cd6-4fe4-83c6-8bd65e1d05d3",
   "metadata": {
    "execution": {
     "iopub.execute_input": "2023-01-19T00:30:20.457390Z",
     "iopub.status.busy": "2023-01-19T00:30:20.457303Z",
     "iopub.status.idle": "2023-01-19T00:30:20.459470Z",
     "shell.execute_reply": "2023-01-19T00:30:20.459191Z",
     "shell.execute_reply.started": "2023-01-19T00:30:20.457382Z"
    },
    "tags": []
   },
   "outputs": [],
   "source": [
    "drop_columns = ['county', 'sex', 'xiang','m010_NONMEDc','m005_ALL35_69']"
   ]
  },
  {
   "cell_type": "code",
   "execution_count": 38,
   "id": "e8af630d-2d68-46a9-ac2a-79acd547cb8e",
   "metadata": {
    "execution": {
     "iopub.execute_input": "2023-01-19T00:30:20.460099Z",
     "iopub.status.busy": "2023-01-19T00:30:20.460016Z",
     "iopub.status.idle": "2023-01-19T00:30:20.462787Z",
     "shell.execute_reply": "2023-01-19T00:30:20.462500Z",
     "shell.execute_reply.started": "2023-01-19T00:30:20.460091Z"
    },
    "tags": []
   },
   "outputs": [],
   "source": [
    "X = clean_df.drop(columns = drop_columns)\n",
    "y = clean_df['m005_ALL35_69']\n",
    "\n",
    "X_train, X_test, y_train, y_test = train_test_split(X, y, random_state=33)"
   ]
  },
  {
   "cell_type": "code",
   "execution_count": 39,
   "id": "bb228080-b961-4674-98be-af0c6128c929",
   "metadata": {
    "execution": {
     "iopub.execute_input": "2023-01-19T00:30:20.463278Z",
     "iopub.status.busy": "2023-01-19T00:30:20.463200Z",
     "iopub.status.idle": "2023-01-19T00:30:20.470007Z",
     "shell.execute_reply": "2023-01-19T00:30:20.469642Z",
     "shell.execute_reply.started": "2023-01-19T00:30:20.463270Z"
    }
   },
   "outputs": [],
   "source": [
    "Xs_train = ss.fit_transform(X_train)\n",
    "Xs_test = ss.transform(X_test)"
   ]
  },
  {
   "cell_type": "code",
   "execution_count": 40,
   "id": "aa0352cf-1a2e-4227-be4d-a9b031a763b3",
   "metadata": {
    "execution": {
     "iopub.execute_input": "2023-01-19T00:30:20.470649Z",
     "iopub.status.busy": "2023-01-19T00:30:20.470540Z",
     "iopub.status.idle": "2023-01-19T00:30:20.751642Z",
     "shell.execute_reply": "2023-01-19T00:30:20.751258Z",
     "shell.execute_reply.started": "2023-01-19T00:30:20.470638Z"
    },
    "tags": []
   },
   "outputs": [
    {
     "name": "stderr",
     "output_type": "stream",
     "text": [
      "/Users/colby/miniforge3/envs/tfm1/lib/python3.9/site-packages/sklearn/linear_model/_coordinate_descent.py:648: ConvergenceWarning: Objective did not converge. You might want to increase the number of iterations, check the scale of the features or consider increasing regularisation. Duality gap: 8.310e-02, tolerance: 4.664e-02\n",
      "  model = cd_fast.enet_coordinate_descent(\n"
     ]
    },
    {
     "data": {
      "text/html": [
       "<div>\n",
       "<style scoped>\n",
       "    .dataframe tbody tr th:only-of-type {\n",
       "        vertical-align: middle;\n",
       "    }\n",
       "\n",
       "    .dataframe tbody tr th {\n",
       "        vertical-align: top;\n",
       "    }\n",
       "\n",
       "    .dataframe thead th {\n",
       "        text-align: right;\n",
       "    }\n",
       "</style>\n",
       "<table border=\"1\" class=\"dataframe\">\n",
       "  <thead>\n",
       "    <tr style=\"text-align: right;\">\n",
       "      <th></th>\n",
       "      <th>Model</th>\n",
       "      <th>Train Score</th>\n",
       "      <th>Val Score</th>\n",
       "      <th>X Val Score</th>\n",
       "      <th>RMSE Train</th>\n",
       "      <th>RMSE Val</th>\n",
       "    </tr>\n",
       "  </thead>\n",
       "  <tbody>\n",
       "    <tr>\n",
       "      <th>0</th>\n",
       "      <td>m005_ALL_35-69.LinReg</td>\n",
       "      <td>1.000000</td>\n",
       "      <td>0.882940</td>\n",
       "      <td>0.616316</td>\n",
       "      <td>8.404957e-15</td>\n",
       "      <td>1.206978</td>\n",
       "    </tr>\n",
       "    <tr>\n",
       "      <th>1</th>\n",
       "      <td>m005_ALL_35-69.L2-1</td>\n",
       "      <td>0.999965</td>\n",
       "      <td>0.881611</td>\n",
       "      <td>0.614525</td>\n",
       "      <td>8.404957e-15</td>\n",
       "      <td>1.206978</td>\n",
       "    </tr>\n",
       "    <tr>\n",
       "      <th>2</th>\n",
       "      <td>m005_ALL_35-69.L1-1</td>\n",
       "      <td>0.999998</td>\n",
       "      <td>0.999996</td>\n",
       "      <td>0.999285</td>\n",
       "      <td>8.404957e-15</td>\n",
       "      <td>1.206978</td>\n",
       "    </tr>\n",
       "    <tr>\n",
       "      <th>3</th>\n",
       "      <td>m005_ALL_35-69.L1-2</td>\n",
       "      <td>0.999989</td>\n",
       "      <td>0.988186</td>\n",
       "      <td>0.931555</td>\n",
       "      <td>5.548124e-15</td>\n",
       "      <td>1.264333</td>\n",
       "    </tr>\n",
       "  </tbody>\n",
       "</table>\n",
       "</div>"
      ],
      "text/plain": [
       "                   Model  Train Score  Val Score  X Val Score    RMSE Train  \\\n",
       "0  m005_ALL_35-69.LinReg     1.000000   0.882940     0.616316  8.404957e-15   \n",
       "1    m005_ALL_35-69.L2-1     0.999965   0.881611     0.614525  8.404957e-15   \n",
       "2    m005_ALL_35-69.L1-1     0.999998   0.999996     0.999285  8.404957e-15   \n",
       "3    m005_ALL_35-69.L1-2     0.999989   0.988186     0.931555  5.548124e-15   \n",
       "\n",
       "   RMSE Val  \n",
       "0  1.206978  \n",
       "1  1.206978  \n",
       "2  1.206978  \n",
       "3  1.264333  "
      ]
     },
     "execution_count": 40,
     "metadata": {},
     "output_type": "execute_result"
    }
   ],
   "source": [
    "lr.fit(Xs_train, y_train)\n",
    "lasso.fit(Xs_train, y_train)\n",
    "update_df(lasso, \"m005_ALL_35-69.L1-2\")"
   ]
  },
  {
   "cell_type": "markdown",
   "id": "0ad7404d-0f84-44a2-a217-4cd190171096",
   "metadata": {},
   "source": [
    "Great scores for Lasso 2 overall. We can use this model's settings as a springboard for the other mortalities."
   ]
  },
  {
   "cell_type": "markdown",
   "id": "459dc544-be85-407b-8a1d-1a99a88df2ca",
   "metadata": {
    "tags": []
   },
   "source": [
    "## BOOKMARK"
   ]
  },
  {
   "cell_type": "code",
   "execution_count": 41,
   "id": "625feeb7-df3a-400b-ab01-61433eb1cdfd",
   "metadata": {
    "execution": {
     "iopub.execute_input": "2023-01-19T00:30:20.752342Z",
     "iopub.status.busy": "2023-01-19T00:30:20.752239Z",
     "iopub.status.idle": "2023-01-19T00:30:20.754324Z",
     "shell.execute_reply": "2023-01-19T00:30:20.753933Z",
     "shell.execute_reply.started": "2023-01-19T00:30:20.752333Z"
    },
    "tags": []
   },
   "outputs": [],
   "source": [
    "# clean_df.columns.to_list()\n",
    " # All the mortality columns\n",
    " # 'm005_ALL35_69',\n",
    " # 'm008_MEDICALc',\n",
    " # 'm065_STROKEc',\n",
    " # 'm023_ALLCAc',\n",
    " # 'm059_ALLVASCc',\n",
    " # 'm028_OESOPHCAc',\n",
    " # 'm072_COPDc',\n",
    " # 'm010_NONMEDc',"
   ]
  },
  {
   "cell_type": "code",
   "execution_count": 42,
   "id": "80913c17-3c62-4fd0-a224-cec91b6a9348",
   "metadata": {
    "execution": {
     "iopub.execute_input": "2023-01-19T00:30:20.754901Z",
     "iopub.status.busy": "2023-01-19T00:30:20.754815Z",
     "iopub.status.idle": "2023-01-19T00:30:20.757214Z",
     "shell.execute_reply": "2023-01-19T00:30:20.756873Z",
     "shell.execute_reply.started": "2023-01-19T00:30:20.754893Z"
    },
    "tags": []
   },
   "outputs": [],
   "source": [
    "features_dropped = ['county', 'sex', 'xiang','m010_NONMEDc',\\\n",
    "                    'm005_ALL35_69', 'm008_MEDICALc', 'm065_STROKEc',\\\n",
    "                   'm023_ALLCAc', 'm059_ALLVASCc', 'm028_OESOPHCAc', 'm072_COPDc',\\\n",
    "                   'm072_COPDc']\n",
    "\n",
    "mortality_feat = ['m010_NONMEDc', 'm005_ALL35_69', 'm008_MEDICALc', 'm065_STROKEc',\\\n",
    "                   'm023_ALLCAc', 'm059_ALLVASCc', 'm028_OESOPHCAc', 'm072_COPDc']"
   ]
  },
  {
   "cell_type": "code",
   "execution_count": 49,
   "id": "5f838ef6-7247-44f1-96f4-f4767202c6c6",
   "metadata": {
    "execution": {
     "iopub.execute_input": "2023-01-19T00:33:22.517140Z",
     "iopub.status.busy": "2023-01-19T00:33:22.516561Z",
     "iopub.status.idle": "2023-01-19T00:33:25.343709Z",
     "shell.execute_reply": "2023-01-19T00:33:25.343224Z",
     "shell.execute_reply.started": "2023-01-19T00:33:22.517113Z"
    },
    "tags": []
   },
   "outputs": [],
   "source": [
    "# Creating one code block to take care of all the models in one go:\n",
    "lr = LinearRegression()\n",
    "ss = StandardScaler()\n",
    "lasso = LassoCV(alphas = np.arange(0.001, 10, 1))\n",
    "\n",
    "imp_features = pd.DataFrame()\n",
    "\n",
    "# looping over each target\n",
    "for i in mortality_feat:\n",
    "    # suppressing the convergence warnings if any\n",
    "    import warnings\n",
    "    warnings.filterwarnings(\"ignore\")\n",
    "\n",
    "    X = clean_df.drop(columns = features_dropped)\n",
    "    y = clean_df[i]\n",
    "    # train test split ('X before y, train before test' -James 2022)\n",
    "    \n",
    "    X_train, X_test, y_train, y_test = train_test_split(X, y, random_state=33)\n",
    "    \n",
    "    ss.fit(X_train)\n",
    "    Xs_train = ss.transform(X_train)\n",
    "    Xs_test = ss.transform(X_test)\n",
    "    \n",
    "    lr.fit(Xs_train, y_train)\n",
    "    lasso.fit(Xs_train, y_train)\n",
    "    \n",
    "    mortal = i\n",
    "\n",
    "    update_df(lasso, mortal)\n",
    "    \n",
    "    # creating a df to get feature importance out\n",
    "    feature_imp = pd.Series(lasso.coef_, index = X.columns)\n",
    "    feature_imp = feature_imp.sort_values(ascending=False)\n",
    "    \n",
    "    imp_features[i] = feature_imp\n"
   ]
  },
  {
   "cell_type": "code",
   "execution_count": 50,
   "id": "449369f9-78c5-4301-9883-212bbc2c7f3b",
   "metadata": {
    "execution": {
     "iopub.execute_input": "2023-01-19T00:33:29.117626Z",
     "iopub.status.busy": "2023-01-19T00:33:29.117079Z",
     "iopub.status.idle": "2023-01-19T00:33:29.134011Z",
     "shell.execute_reply": "2023-01-19T00:33:29.133331Z",
     "shell.execute_reply.started": "2023-01-19T00:33:29.117592Z"
    },
    "tags": []
   },
   "outputs": [
    {
     "data": {
      "text/html": [
       "<div>\n",
       "<style scoped>\n",
       "    .dataframe tbody tr th:only-of-type {\n",
       "        vertical-align: middle;\n",
       "    }\n",
       "\n",
       "    .dataframe tbody tr th {\n",
       "        vertical-align: top;\n",
       "    }\n",
       "\n",
       "    .dataframe thead th {\n",
       "        text-align: right;\n",
       "    }\n",
       "</style>\n",
       "<table border=\"1\" class=\"dataframe\">\n",
       "  <thead>\n",
       "    <tr style=\"text-align: right;\">\n",
       "      <th></th>\n",
       "      <th>Model</th>\n",
       "      <th>Train Score</th>\n",
       "      <th>Val Score</th>\n",
       "      <th>X Val Score</th>\n",
       "      <th>RMSE Train</th>\n",
       "      <th>RMSE Val</th>\n",
       "    </tr>\n",
       "  </thead>\n",
       "  <tbody>\n",
       "    <tr>\n",
       "      <th>0</th>\n",
       "      <td>m005_ALL_35-69.LinReg</td>\n",
       "      <td>1.000000</td>\n",
       "      <td>0.882940</td>\n",
       "      <td>0.616316</td>\n",
       "      <td>8.404957e-15</td>\n",
       "      <td>1.206978</td>\n",
       "    </tr>\n",
       "    <tr>\n",
       "      <th>1</th>\n",
       "      <td>m005_ALL_35-69.L2-1</td>\n",
       "      <td>0.999965</td>\n",
       "      <td>0.881611</td>\n",
       "      <td>0.614525</td>\n",
       "      <td>8.404957e-15</td>\n",
       "      <td>1.206978</td>\n",
       "    </tr>\n",
       "    <tr>\n",
       "      <th>2</th>\n",
       "      <td>m005_ALL_35-69.L1-1</td>\n",
       "      <td>0.999998</td>\n",
       "      <td>0.999996</td>\n",
       "      <td>0.999285</td>\n",
       "      <td>8.404957e-15</td>\n",
       "      <td>1.206978</td>\n",
       "    </tr>\n",
       "    <tr>\n",
       "      <th>3</th>\n",
       "      <td>m005_ALL_35-69.L1-2</td>\n",
       "      <td>0.999989</td>\n",
       "      <td>0.988186</td>\n",
       "      <td>0.931555</td>\n",
       "      <td>5.548124e-15</td>\n",
       "      <td>1.264333</td>\n",
       "    </tr>\n",
       "    <tr>\n",
       "      <th>4</th>\n",
       "      <td>m010_NONMEDc</td>\n",
       "      <td>0.482118</td>\n",
       "      <td>0.169658</td>\n",
       "      <td>-0.124616</td>\n",
       "      <td>1.332323e-13</td>\n",
       "      <td>44.534195</td>\n",
       "    </tr>\n",
       "    <tr>\n",
       "      <th>5</th>\n",
       "      <td>m005_ALL35_69</td>\n",
       "      <td>0.999993</td>\n",
       "      <td>0.056338</td>\n",
       "      <td>0.070911</td>\n",
       "      <td>7.825686e-15</td>\n",
       "      <td>2.689775</td>\n",
       "    </tr>\n",
       "    <tr>\n",
       "      <th>6</th>\n",
       "      <td>m008_MEDICALc</td>\n",
       "      <td>0.999991</td>\n",
       "      <td>0.107569</td>\n",
       "      <td>0.160962</td>\n",
       "      <td>6.704399e-15</td>\n",
       "      <td>2.591834</td>\n",
       "    </tr>\n",
       "    <tr>\n",
       "      <th>7</th>\n",
       "      <td>m065_STROKEc</td>\n",
       "      <td>0.770332</td>\n",
       "      <td>0.290192</td>\n",
       "      <td>0.009490</td>\n",
       "      <td>2.591966e-13</td>\n",
       "      <td>130.003377</td>\n",
       "    </tr>\n",
       "    <tr>\n",
       "      <th>8</th>\n",
       "      <td>m023_ALLCAc</td>\n",
       "      <td>0.999981</td>\n",
       "      <td>-0.538021</td>\n",
       "      <td>-0.466490</td>\n",
       "      <td>5.398386e-15</td>\n",
       "      <td>1.862238</td>\n",
       "    </tr>\n",
       "    <tr>\n",
       "      <th>9</th>\n",
       "      <td>m059_ALLVASCc</td>\n",
       "      <td>0.999958</td>\n",
       "      <td>0.138958</td>\n",
       "      <td>-0.104030</td>\n",
       "      <td>3.350999e-15</td>\n",
       "      <td>1.742879</td>\n",
       "    </tr>\n",
       "    <tr>\n",
       "      <th>10</th>\n",
       "      <td>m028_OESOPHCAc</td>\n",
       "      <td>0.781582</td>\n",
       "      <td>-0.451826</td>\n",
       "      <td>0.175367</td>\n",
       "      <td>3.037803e-13</td>\n",
       "      <td>129.170541</td>\n",
       "    </tr>\n",
       "    <tr>\n",
       "      <th>11</th>\n",
       "      <td>m072_COPDc</td>\n",
       "      <td>0.862999</td>\n",
       "      <td>0.021564</td>\n",
       "      <td>-0.461298</td>\n",
       "      <td>3.149389e-13</td>\n",
       "      <td>109.827272</td>\n",
       "    </tr>\n",
       "  </tbody>\n",
       "</table>\n",
       "</div>"
      ],
      "text/plain": [
       "                    Model  Train Score  Val Score  X Val Score    RMSE Train  \\\n",
       "0   m005_ALL_35-69.LinReg     1.000000   0.882940     0.616316  8.404957e-15   \n",
       "1     m005_ALL_35-69.L2-1     0.999965   0.881611     0.614525  8.404957e-15   \n",
       "2     m005_ALL_35-69.L1-1     0.999998   0.999996     0.999285  8.404957e-15   \n",
       "3     m005_ALL_35-69.L1-2     0.999989   0.988186     0.931555  5.548124e-15   \n",
       "4            m010_NONMEDc     0.482118   0.169658    -0.124616  1.332323e-13   \n",
       "5           m005_ALL35_69     0.999993   0.056338     0.070911  7.825686e-15   \n",
       "6           m008_MEDICALc     0.999991   0.107569     0.160962  6.704399e-15   \n",
       "7            m065_STROKEc     0.770332   0.290192     0.009490  2.591966e-13   \n",
       "8             m023_ALLCAc     0.999981  -0.538021    -0.466490  5.398386e-15   \n",
       "9           m059_ALLVASCc     0.999958   0.138958    -0.104030  3.350999e-15   \n",
       "10         m028_OESOPHCAc     0.781582  -0.451826     0.175367  3.037803e-13   \n",
       "11             m072_COPDc     0.862999   0.021564    -0.461298  3.149389e-13   \n",
       "\n",
       "      RMSE Val  \n",
       "0     1.206978  \n",
       "1     1.206978  \n",
       "2     1.206978  \n",
       "3     1.264333  \n",
       "4    44.534195  \n",
       "5     2.689775  \n",
       "6     2.591834  \n",
       "7   130.003377  \n",
       "8     1.862238  \n",
       "9     1.742879  \n",
       "10  129.170541  \n",
       "11  109.827272  "
      ]
     },
     "execution_count": 50,
     "metadata": {},
     "output_type": "execute_result"
    }
   ],
   "source": [
    "results"
   ]
  },
  {
   "cell_type": "code",
   "execution_count": 68,
   "id": "2135cfa5-6188-46be-b266-c5350b2d1390",
   "metadata": {
    "execution": {
     "iopub.execute_input": "2023-01-19T00:55:02.948253Z",
     "iopub.status.busy": "2023-01-19T00:55:02.947678Z",
     "iopub.status.idle": "2023-01-19T00:55:02.963306Z",
     "shell.execute_reply": "2023-01-19T00:55:02.962235Z",
     "shell.execute_reply.started": "2023-01-19T00:55:02.948214Z"
    },
    "tags": []
   },
   "outputs": [
    {
     "data": {
      "text/html": [
       "<div>\n",
       "<style scoped>\n",
       "    .dataframe tbody tr th:only-of-type {\n",
       "        vertical-align: middle;\n",
       "    }\n",
       "\n",
       "    .dataframe tbody tr th {\n",
       "        vertical-align: top;\n",
       "    }\n",
       "\n",
       "    .dataframe thead th {\n",
       "        text-align: right;\n",
       "    }\n",
       "</style>\n",
       "<table border=\"1\" class=\"dataframe\">\n",
       "  <thead>\n",
       "    <tr style=\"text-align: right;\">\n",
       "      <th></th>\n",
       "      <th>m010_NONMEDc</th>\n",
       "    </tr>\n",
       "  </thead>\n",
       "  <tbody>\n",
       "    <tr>\n",
       "      <th>q153</th>\n",
       "      <td>7.084762</td>\n",
       "    </tr>\n",
       "    <tr>\n",
       "      <th>q023</th>\n",
       "      <td>5.215087</td>\n",
       "    </tr>\n",
       "    <tr>\n",
       "      <th>p025</th>\n",
       "      <td>4.552176</td>\n",
       "    </tr>\n",
       "    <tr>\n",
       "      <th>q105</th>\n",
       "      <td>4.505004</td>\n",
       "    </tr>\n",
       "    <tr>\n",
       "      <th>d030</th>\n",
       "      <td>3.514923</td>\n",
       "    </tr>\n",
       "    <tr>\n",
       "      <th>r024</th>\n",
       "      <td>2.796055</td>\n",
       "    </tr>\n",
       "    <tr>\n",
       "      <th>r016</th>\n",
       "      <td>2.492005</td>\n",
       "    </tr>\n",
       "    <tr>\n",
       "      <th>d028</th>\n",
       "      <td>1.967320</td>\n",
       "    </tr>\n",
       "    <tr>\n",
       "      <th>d044</th>\n",
       "      <td>0.017837</td>\n",
       "    </tr>\n",
       "    <tr>\n",
       "      <th>q108</th>\n",
       "      <td>-0.216117</td>\n",
       "    </tr>\n",
       "    <tr>\n",
       "      <th>p005</th>\n",
       "      <td>-2.268431</td>\n",
       "    </tr>\n",
       "    <tr>\n",
       "      <th>p027</th>\n",
       "      <td>-2.302231</td>\n",
       "    </tr>\n",
       "    <tr>\n",
       "      <th>q087</th>\n",
       "      <td>-2.465600</td>\n",
       "    </tr>\n",
       "  </tbody>\n",
       "</table>\n",
       "</div>"
      ],
      "text/plain": [
       "      m010_NONMEDc\n",
       "q153      7.084762\n",
       "q023      5.215087\n",
       "p025      4.552176\n",
       "q105      4.505004\n",
       "d030      3.514923\n",
       "r024      2.796055\n",
       "r016      2.492005\n",
       "d028      1.967320\n",
       "d044      0.017837\n",
       "q108     -0.216117\n",
       "p005     -2.268431\n",
       "p027     -2.302231\n",
       "q087     -2.465600"
      ]
     },
     "execution_count": 68,
     "metadata": {},
     "output_type": "execute_result"
    }
   ],
   "source": [
    "imp_features['m010_NONMEDc'][imp_features['m010_NONMEDc'] != 0].to_frame().sort_values(by='m010_NONMEDc', ascending=False)"
   ]
  },
  {
   "cell_type": "code",
   "execution_count": 69,
   "id": "6e634fd7-82b1-4b30-aef9-c45ff5fc729a",
   "metadata": {
    "execution": {
     "iopub.execute_input": "2023-01-19T00:55:03.291294Z",
     "iopub.status.busy": "2023-01-19T00:55:03.291054Z",
     "iopub.status.idle": "2023-01-19T00:55:03.297328Z",
     "shell.execute_reply": "2023-01-19T00:55:03.296805Z",
     "shell.execute_reply.started": "2023-01-19T00:55:03.291275Z"
    },
    "tags": []
   },
   "outputs": [
    {
     "data": {
      "text/html": [
       "<div>\n",
       "<style scoped>\n",
       "    .dataframe tbody tr th:only-of-type {\n",
       "        vertical-align: middle;\n",
       "    }\n",
       "\n",
       "    .dataframe tbody tr th {\n",
       "        vertical-align: top;\n",
       "    }\n",
       "\n",
       "    .dataframe thead th {\n",
       "        text-align: right;\n",
       "    }\n",
       "</style>\n",
       "<table border=\"1\" class=\"dataframe\">\n",
       "  <thead>\n",
       "    <tr style=\"text-align: right;\">\n",
       "      <th></th>\n",
       "      <th>m005_ALL35_69</th>\n",
       "    </tr>\n",
       "  </thead>\n",
       "  <tbody>\n",
       "    <tr>\n",
       "      <th>q099</th>\n",
       "      <td>1.352670</td>\n",
       "    </tr>\n",
       "    <tr>\n",
       "      <th>p043</th>\n",
       "      <td>0.726593</td>\n",
       "    </tr>\n",
       "    <tr>\n",
       "      <th>d044</th>\n",
       "      <td>0.658357</td>\n",
       "    </tr>\n",
       "    <tr>\n",
       "      <th>d042</th>\n",
       "      <td>0.482376</td>\n",
       "    </tr>\n",
       "    <tr>\n",
       "      <th>q171</th>\n",
       "      <td>0.454607</td>\n",
       "    </tr>\n",
       "    <tr>\n",
       "      <th>...</th>\n",
       "      <td>...</td>\n",
       "    </tr>\n",
       "    <tr>\n",
       "      <th>q155</th>\n",
       "      <td>-0.300691</td>\n",
       "    </tr>\n",
       "    <tr>\n",
       "      <th>q040</th>\n",
       "      <td>-0.410812</td>\n",
       "    </tr>\n",
       "    <tr>\n",
       "      <th>p009</th>\n",
       "      <td>-0.545873</td>\n",
       "    </tr>\n",
       "    <tr>\n",
       "      <th>p038</th>\n",
       "      <td>-0.673292</td>\n",
       "    </tr>\n",
       "    <tr>\n",
       "      <th>p027</th>\n",
       "      <td>-0.683745</td>\n",
       "    </tr>\n",
       "  </tbody>\n",
       "</table>\n",
       "<p>66 rows × 1 columns</p>\n",
       "</div>"
      ],
      "text/plain": [
       "      m005_ALL35_69\n",
       "q099       1.352670\n",
       "p043       0.726593\n",
       "d044       0.658357\n",
       "d042       0.482376\n",
       "q171       0.454607\n",
       "...             ...\n",
       "q155      -0.300691\n",
       "q040      -0.410812\n",
       "p009      -0.545873\n",
       "p038      -0.673292\n",
       "p027      -0.683745\n",
       "\n",
       "[66 rows x 1 columns]"
      ]
     },
     "execution_count": 69,
     "metadata": {},
     "output_type": "execute_result"
    }
   ],
   "source": [
    "imp_features['m005_ALL35_69'][imp_features['m005_ALL35_69'] != 0].to_frame().sort_values(by='m005_ALL35_69', ascending=False)"
   ]
  },
  {
   "cell_type": "code",
   "execution_count": 70,
   "id": "d928cf39-3c95-42ec-bb7c-d6cc4c064a56",
   "metadata": {
    "execution": {
     "iopub.execute_input": "2023-01-19T00:55:03.822213Z",
     "iopub.status.busy": "2023-01-19T00:55:03.821621Z",
     "iopub.status.idle": "2023-01-19T00:55:03.831714Z",
     "shell.execute_reply": "2023-01-19T00:55:03.831213Z",
     "shell.execute_reply.started": "2023-01-19T00:55:03.822176Z"
    },
    "tags": []
   },
   "outputs": [
    {
     "data": {
      "text/html": [
       "<div>\n",
       "<style scoped>\n",
       "    .dataframe tbody tr th:only-of-type {\n",
       "        vertical-align: middle;\n",
       "    }\n",
       "\n",
       "    .dataframe tbody tr th {\n",
       "        vertical-align: top;\n",
       "    }\n",
       "\n",
       "    .dataframe thead th {\n",
       "        text-align: right;\n",
       "    }\n",
       "</style>\n",
       "<table border=\"1\" class=\"dataframe\">\n",
       "  <thead>\n",
       "    <tr style=\"text-align: right;\">\n",
       "      <th></th>\n",
       "      <th>m008_MEDICALc</th>\n",
       "    </tr>\n",
       "  </thead>\n",
       "  <tbody>\n",
       "    <tr>\n",
       "      <th>q099</th>\n",
       "      <td>1.446953</td>\n",
       "    </tr>\n",
       "    <tr>\n",
       "      <th>p043</th>\n",
       "      <td>0.578106</td>\n",
       "    </tr>\n",
       "    <tr>\n",
       "      <th>d044</th>\n",
       "      <td>0.488523</td>\n",
       "    </tr>\n",
       "    <tr>\n",
       "      <th>d042</th>\n",
       "      <td>0.484209</td>\n",
       "    </tr>\n",
       "    <tr>\n",
       "      <th>q125</th>\n",
       "      <td>0.420315</td>\n",
       "    </tr>\n",
       "    <tr>\n",
       "      <th>...</th>\n",
       "      <td>...</td>\n",
       "    </tr>\n",
       "    <tr>\n",
       "      <th>p009</th>\n",
       "      <td>-0.368200</td>\n",
       "    </tr>\n",
       "    <tr>\n",
       "      <th>q010</th>\n",
       "      <td>-0.398946</td>\n",
       "    </tr>\n",
       "    <tr>\n",
       "      <th>p002</th>\n",
       "      <td>-0.489826</td>\n",
       "    </tr>\n",
       "    <tr>\n",
       "      <th>p027</th>\n",
       "      <td>-0.562347</td>\n",
       "    </tr>\n",
       "    <tr>\n",
       "      <th>p038</th>\n",
       "      <td>-0.663667</td>\n",
       "    </tr>\n",
       "  </tbody>\n",
       "</table>\n",
       "<p>65 rows × 1 columns</p>\n",
       "</div>"
      ],
      "text/plain": [
       "      m008_MEDICALc\n",
       "q099       1.446953\n",
       "p043       0.578106\n",
       "d044       0.488523\n",
       "d042       0.484209\n",
       "q125       0.420315\n",
       "...             ...\n",
       "p009      -0.368200\n",
       "q010      -0.398946\n",
       "p002      -0.489826\n",
       "p027      -0.562347\n",
       "p038      -0.663667\n",
       "\n",
       "[65 rows x 1 columns]"
      ]
     },
     "execution_count": 70,
     "metadata": {},
     "output_type": "execute_result"
    }
   ],
   "source": [
    "imp_features['m008_MEDICALc'][imp_features['m008_MEDICALc'] != 0].to_frame().sort_values(by='m008_MEDICALc', ascending=False)"
   ]
  },
  {
   "cell_type": "code",
   "execution_count": 71,
   "id": "ac739581-a6ff-4fdd-9bc8-c20efe124160",
   "metadata": {
    "execution": {
     "iopub.execute_input": "2023-01-19T00:55:04.359981Z",
     "iopub.status.busy": "2023-01-19T00:55:04.359477Z",
     "iopub.status.idle": "2023-01-19T00:55:04.375582Z",
     "shell.execute_reply": "2023-01-19T00:55:04.374843Z",
     "shell.execute_reply.started": "2023-01-19T00:55:04.359948Z"
    },
    "tags": []
   },
   "outputs": [
    {
     "data": {
      "text/html": [
       "<div>\n",
       "<style scoped>\n",
       "    .dataframe tbody tr th:only-of-type {\n",
       "        vertical-align: middle;\n",
       "    }\n",
       "\n",
       "    .dataframe tbody tr th {\n",
       "        vertical-align: top;\n",
       "    }\n",
       "\n",
       "    .dataframe thead th {\n",
       "        text-align: right;\n",
       "    }\n",
       "</style>\n",
       "<table border=\"1\" class=\"dataframe\">\n",
       "  <thead>\n",
       "    <tr style=\"text-align: right;\">\n",
       "      <th></th>\n",
       "      <th>m065_STROKEc</th>\n",
       "    </tr>\n",
       "  </thead>\n",
       "  <tbody>\n",
       "    <tr>\n",
       "      <th>q100</th>\n",
       "      <td>26.612120</td>\n",
       "    </tr>\n",
       "    <tr>\n",
       "      <th>q158</th>\n",
       "      <td>17.366433</td>\n",
       "    </tr>\n",
       "    <tr>\n",
       "      <th>q106</th>\n",
       "      <td>17.271656</td>\n",
       "    </tr>\n",
       "    <tr>\n",
       "      <th>r024</th>\n",
       "      <td>12.302131</td>\n",
       "    </tr>\n",
       "    <tr>\n",
       "      <th>r013</th>\n",
       "      <td>7.621683</td>\n",
       "    </tr>\n",
       "    <tr>\n",
       "      <th>p043</th>\n",
       "      <td>6.231466</td>\n",
       "    </tr>\n",
       "    <tr>\n",
       "      <th>q137</th>\n",
       "      <td>6.158920</td>\n",
       "    </tr>\n",
       "    <tr>\n",
       "      <th>q109</th>\n",
       "      <td>1.866571</td>\n",
       "    </tr>\n",
       "    <tr>\n",
       "      <th>r012</th>\n",
       "      <td>0.316645</td>\n",
       "    </tr>\n",
       "    <tr>\n",
       "      <th>q099</th>\n",
       "      <td>0.217354</td>\n",
       "    </tr>\n",
       "    <tr>\n",
       "      <th>p018</th>\n",
       "      <td>-1.757330</td>\n",
       "    </tr>\n",
       "    <tr>\n",
       "      <th>q023</th>\n",
       "      <td>-1.887450</td>\n",
       "    </tr>\n",
       "    <tr>\n",
       "      <th>q140</th>\n",
       "      <td>-2.738332</td>\n",
       "    </tr>\n",
       "    <tr>\n",
       "      <th>p027</th>\n",
       "      <td>-19.977605</td>\n",
       "    </tr>\n",
       "  </tbody>\n",
       "</table>\n",
       "</div>"
      ],
      "text/plain": [
       "      m065_STROKEc\n",
       "q100     26.612120\n",
       "q158     17.366433\n",
       "q106     17.271656\n",
       "r024     12.302131\n",
       "r013      7.621683\n",
       "p043      6.231466\n",
       "q137      6.158920\n",
       "q109      1.866571\n",
       "r012      0.316645\n",
       "q099      0.217354\n",
       "p018     -1.757330\n",
       "q023     -1.887450\n",
       "q140     -2.738332\n",
       "p027    -19.977605"
      ]
     },
     "execution_count": 71,
     "metadata": {},
     "output_type": "execute_result"
    }
   ],
   "source": [
    "imp_features['m065_STROKEc'][imp_features['m065_STROKEc'] != 0].to_frame().sort_values(by='m065_STROKEc', ascending=False)"
   ]
  },
  {
   "cell_type": "code",
   "execution_count": 72,
   "id": "f6d3ea7f-089f-4e6e-ba71-75041979f1aa",
   "metadata": {
    "execution": {
     "iopub.execute_input": "2023-01-19T00:55:04.747677Z",
     "iopub.status.busy": "2023-01-19T00:55:04.747301Z",
     "iopub.status.idle": "2023-01-19T00:55:04.758931Z",
     "shell.execute_reply": "2023-01-19T00:55:04.758186Z",
     "shell.execute_reply.started": "2023-01-19T00:55:04.747649Z"
    },
    "tags": []
   },
   "outputs": [
    {
     "data": {
      "text/html": [
       "<div>\n",
       "<style scoped>\n",
       "    .dataframe tbody tr th:only-of-type {\n",
       "        vertical-align: middle;\n",
       "    }\n",
       "\n",
       "    .dataframe tbody tr th {\n",
       "        vertical-align: top;\n",
       "    }\n",
       "\n",
       "    .dataframe thead th {\n",
       "        text-align: right;\n",
       "    }\n",
       "</style>\n",
       "<table border=\"1\" class=\"dataframe\">\n",
       "  <thead>\n",
       "    <tr style=\"text-align: right;\">\n",
       "      <th></th>\n",
       "      <th>m023_ALLCAc</th>\n",
       "    </tr>\n",
       "  </thead>\n",
       "  <tbody>\n",
       "    <tr>\n",
       "      <th>q099</th>\n",
       "      <td>0.683157</td>\n",
       "    </tr>\n",
       "    <tr>\n",
       "      <th>q125</th>\n",
       "      <td>0.576475</td>\n",
       "    </tr>\n",
       "    <tr>\n",
       "      <th>p008</th>\n",
       "      <td>0.483848</td>\n",
       "    </tr>\n",
       "    <tr>\n",
       "      <th>d013</th>\n",
       "      <td>0.475164</td>\n",
       "    </tr>\n",
       "    <tr>\n",
       "      <th>q039</th>\n",
       "      <td>0.453919</td>\n",
       "    </tr>\n",
       "    <tr>\n",
       "      <th>...</th>\n",
       "      <td>...</td>\n",
       "    </tr>\n",
       "    <tr>\n",
       "      <th>q152</th>\n",
       "      <td>-0.308406</td>\n",
       "    </tr>\n",
       "    <tr>\n",
       "      <th>q144</th>\n",
       "      <td>-0.308743</td>\n",
       "    </tr>\n",
       "    <tr>\n",
       "      <th>q147</th>\n",
       "      <td>-0.352945</td>\n",
       "    </tr>\n",
       "    <tr>\n",
       "      <th>p038</th>\n",
       "      <td>-0.630836</td>\n",
       "    </tr>\n",
       "    <tr>\n",
       "      <th>q010</th>\n",
       "      <td>-0.707586</td>\n",
       "    </tr>\n",
       "  </tbody>\n",
       "</table>\n",
       "<p>68 rows × 1 columns</p>\n",
       "</div>"
      ],
      "text/plain": [
       "      m023_ALLCAc\n",
       "q099     0.683157\n",
       "q125     0.576475\n",
       "p008     0.483848\n",
       "d013     0.475164\n",
       "q039     0.453919\n",
       "...           ...\n",
       "q152    -0.308406\n",
       "q144    -0.308743\n",
       "q147    -0.352945\n",
       "p038    -0.630836\n",
       "q010    -0.707586\n",
       "\n",
       "[68 rows x 1 columns]"
      ]
     },
     "execution_count": 72,
     "metadata": {},
     "output_type": "execute_result"
    }
   ],
   "source": [
    "imp_features['m023_ALLCAc'][imp_features['m023_ALLCAc'] != 0].to_frame().sort_values(by='m023_ALLCAc', ascending=False)"
   ]
  },
  {
   "cell_type": "code",
   "execution_count": 73,
   "id": "fe1d9a4f-db24-4d67-a05e-0423913cf9d8",
   "metadata": {
    "execution": {
     "iopub.execute_input": "2023-01-19T00:55:05.387986Z",
     "iopub.status.busy": "2023-01-19T00:55:05.387121Z",
     "iopub.status.idle": "2023-01-19T00:55:05.406531Z",
     "shell.execute_reply": "2023-01-19T00:55:05.405905Z",
     "shell.execute_reply.started": "2023-01-19T00:55:05.387927Z"
    },
    "tags": []
   },
   "outputs": [
    {
     "data": {
      "text/html": [
       "<div>\n",
       "<style scoped>\n",
       "    .dataframe tbody tr th:only-of-type {\n",
       "        vertical-align: middle;\n",
       "    }\n",
       "\n",
       "    .dataframe tbody tr th {\n",
       "        vertical-align: top;\n",
       "    }\n",
       "\n",
       "    .dataframe thead th {\n",
       "        text-align: right;\n",
       "    }\n",
       "</style>\n",
       "<table border=\"1\" class=\"dataframe\">\n",
       "  <thead>\n",
       "    <tr style=\"text-align: right;\">\n",
       "      <th></th>\n",
       "      <th>m059_ALLVASCc</th>\n",
       "    </tr>\n",
       "  </thead>\n",
       "  <tbody>\n",
       "    <tr>\n",
       "      <th>q099</th>\n",
       "      <td>0.400425</td>\n",
       "    </tr>\n",
       "    <tr>\n",
       "      <th>q158</th>\n",
       "      <td>0.376016</td>\n",
       "    </tr>\n",
       "    <tr>\n",
       "      <th>d042</th>\n",
       "      <td>0.315672</td>\n",
       "    </tr>\n",
       "    <tr>\n",
       "      <th>p043</th>\n",
       "      <td>0.229516</td>\n",
       "    </tr>\n",
       "    <tr>\n",
       "      <th>q037</th>\n",
       "      <td>0.221994</td>\n",
       "    </tr>\n",
       "    <tr>\n",
       "      <th>d043</th>\n",
       "      <td>0.159212</td>\n",
       "    </tr>\n",
       "    <tr>\n",
       "      <th>q176</th>\n",
       "      <td>0.150553</td>\n",
       "    </tr>\n",
       "    <tr>\n",
       "      <th>r022</th>\n",
       "      <td>0.147163</td>\n",
       "    </tr>\n",
       "    <tr>\n",
       "      <th>q100</th>\n",
       "      <td>0.142196</td>\n",
       "    </tr>\n",
       "    <tr>\n",
       "      <th>q106</th>\n",
       "      <td>0.135022</td>\n",
       "    </tr>\n",
       "    <tr>\n",
       "      <th>q123</th>\n",
       "      <td>0.102540</td>\n",
       "    </tr>\n",
       "    <tr>\n",
       "      <th>p020</th>\n",
       "      <td>0.085031</td>\n",
       "    </tr>\n",
       "    <tr>\n",
       "      <th>r024</th>\n",
       "      <td>0.074909</td>\n",
       "    </tr>\n",
       "    <tr>\n",
       "      <th>q146</th>\n",
       "      <td>0.067978</td>\n",
       "    </tr>\n",
       "    <tr>\n",
       "      <th>r025</th>\n",
       "      <td>0.063819</td>\n",
       "    </tr>\n",
       "    <tr>\n",
       "      <th>r012</th>\n",
       "      <td>0.053876</td>\n",
       "    </tr>\n",
       "    <tr>\n",
       "      <th>p022</th>\n",
       "      <td>0.050860</td>\n",
       "    </tr>\n",
       "    <tr>\n",
       "      <th>q016</th>\n",
       "      <td>0.047546</td>\n",
       "    </tr>\n",
       "    <tr>\n",
       "      <th>p042</th>\n",
       "      <td>0.039286</td>\n",
       "    </tr>\n",
       "    <tr>\n",
       "      <th>p016</th>\n",
       "      <td>0.035053</td>\n",
       "    </tr>\n",
       "    <tr>\n",
       "      <th>q094</th>\n",
       "      <td>0.032764</td>\n",
       "    </tr>\n",
       "    <tr>\n",
       "      <th>q152</th>\n",
       "      <td>0.030833</td>\n",
       "    </tr>\n",
       "    <tr>\n",
       "      <th>q145</th>\n",
       "      <td>0.026377</td>\n",
       "    </tr>\n",
       "    <tr>\n",
       "      <th>d046</th>\n",
       "      <td>0.017731</td>\n",
       "    </tr>\n",
       "    <tr>\n",
       "      <th>r006</th>\n",
       "      <td>0.015483</td>\n",
       "    </tr>\n",
       "    <tr>\n",
       "      <th>q024</th>\n",
       "      <td>0.007829</td>\n",
       "    </tr>\n",
       "    <tr>\n",
       "      <th>p023</th>\n",
       "      <td>0.005928</td>\n",
       "    </tr>\n",
       "    <tr>\n",
       "      <th>d041</th>\n",
       "      <td>-0.000231</td>\n",
       "    </tr>\n",
       "    <tr>\n",
       "      <th>q095</th>\n",
       "      <td>-0.001239</td>\n",
       "    </tr>\n",
       "    <tr>\n",
       "      <th>r018</th>\n",
       "      <td>-0.002414</td>\n",
       "    </tr>\n",
       "    <tr>\n",
       "      <th>q038</th>\n",
       "      <td>-0.003967</td>\n",
       "    </tr>\n",
       "    <tr>\n",
       "      <th>q039</th>\n",
       "      <td>-0.004446</td>\n",
       "    </tr>\n",
       "    <tr>\n",
       "      <th>r001</th>\n",
       "      <td>-0.017618</td>\n",
       "    </tr>\n",
       "    <tr>\n",
       "      <th>r020</th>\n",
       "      <td>-0.045971</td>\n",
       "    </tr>\n",
       "    <tr>\n",
       "      <th>q087</th>\n",
       "      <td>-0.046008</td>\n",
       "    </tr>\n",
       "    <tr>\n",
       "      <th>q023</th>\n",
       "      <td>-0.047364</td>\n",
       "    </tr>\n",
       "    <tr>\n",
       "      <th>p015</th>\n",
       "      <td>-0.047626</td>\n",
       "    </tr>\n",
       "    <tr>\n",
       "      <th>q124</th>\n",
       "      <td>-0.062622</td>\n",
       "    </tr>\n",
       "    <tr>\n",
       "      <th>p013</th>\n",
       "      <td>-0.063981</td>\n",
       "    </tr>\n",
       "    <tr>\n",
       "      <th>d040</th>\n",
       "      <td>-0.068414</td>\n",
       "    </tr>\n",
       "    <tr>\n",
       "      <th>q147</th>\n",
       "      <td>-0.069593</td>\n",
       "    </tr>\n",
       "    <tr>\n",
       "      <th>p002</th>\n",
       "      <td>-0.071037</td>\n",
       "    </tr>\n",
       "    <tr>\n",
       "      <th>q155</th>\n",
       "      <td>-0.081704</td>\n",
       "    </tr>\n",
       "    <tr>\n",
       "      <th>p008</th>\n",
       "      <td>-0.083470</td>\n",
       "    </tr>\n",
       "    <tr>\n",
       "      <th>p009</th>\n",
       "      <td>-0.090750</td>\n",
       "    </tr>\n",
       "    <tr>\n",
       "      <th>r003</th>\n",
       "      <td>-0.104384</td>\n",
       "    </tr>\n",
       "    <tr>\n",
       "      <th>p027</th>\n",
       "      <td>-0.110221</td>\n",
       "    </tr>\n",
       "    <tr>\n",
       "      <th>p018</th>\n",
       "      <td>-0.112936</td>\n",
       "    </tr>\n",
       "    <tr>\n",
       "      <th>q159</th>\n",
       "      <td>-0.116195</td>\n",
       "    </tr>\n",
       "    <tr>\n",
       "      <th>d051</th>\n",
       "      <td>-0.118067</td>\n",
       "    </tr>\n",
       "    <tr>\n",
       "      <th>q089</th>\n",
       "      <td>-0.118444</td>\n",
       "    </tr>\n",
       "    <tr>\n",
       "      <th>q125</th>\n",
       "      <td>-0.118810</td>\n",
       "    </tr>\n",
       "    <tr>\n",
       "      <th>p031</th>\n",
       "      <td>-0.149340</td>\n",
       "    </tr>\n",
       "    <tr>\n",
       "      <th>p012</th>\n",
       "      <td>-0.206653</td>\n",
       "    </tr>\n",
       "    <tr>\n",
       "      <th>p004</th>\n",
       "      <td>-0.264602</td>\n",
       "    </tr>\n",
       "  </tbody>\n",
       "</table>\n",
       "</div>"
      ],
      "text/plain": [
       "      m059_ALLVASCc\n",
       "q099       0.400425\n",
       "q158       0.376016\n",
       "d042       0.315672\n",
       "p043       0.229516\n",
       "q037       0.221994\n",
       "d043       0.159212\n",
       "q176       0.150553\n",
       "r022       0.147163\n",
       "q100       0.142196\n",
       "q106       0.135022\n",
       "q123       0.102540\n",
       "p020       0.085031\n",
       "r024       0.074909\n",
       "q146       0.067978\n",
       "r025       0.063819\n",
       "r012       0.053876\n",
       "p022       0.050860\n",
       "q016       0.047546\n",
       "p042       0.039286\n",
       "p016       0.035053\n",
       "q094       0.032764\n",
       "q152       0.030833\n",
       "q145       0.026377\n",
       "d046       0.017731\n",
       "r006       0.015483\n",
       "q024       0.007829\n",
       "p023       0.005928\n",
       "d041      -0.000231\n",
       "q095      -0.001239\n",
       "r018      -0.002414\n",
       "q038      -0.003967\n",
       "q039      -0.004446\n",
       "r001      -0.017618\n",
       "r020      -0.045971\n",
       "q087      -0.046008\n",
       "q023      -0.047364\n",
       "p015      -0.047626\n",
       "q124      -0.062622\n",
       "p013      -0.063981\n",
       "d040      -0.068414\n",
       "q147      -0.069593\n",
       "p002      -0.071037\n",
       "q155      -0.081704\n",
       "p008      -0.083470\n",
       "p009      -0.090750\n",
       "r003      -0.104384\n",
       "p027      -0.110221\n",
       "p018      -0.112936\n",
       "q159      -0.116195\n",
       "d051      -0.118067\n",
       "q089      -0.118444\n",
       "q125      -0.118810\n",
       "p031      -0.149340\n",
       "p012      -0.206653\n",
       "p004      -0.264602"
      ]
     },
     "execution_count": 73,
     "metadata": {},
     "output_type": "execute_result"
    }
   ],
   "source": [
    "imp_features['m059_ALLVASCc'][imp_features['m059_ALLVASCc'] != 0].to_frame().sort_values(by='m059_ALLVASCc', ascending=False)"
   ]
  },
  {
   "cell_type": "code",
   "execution_count": 74,
   "id": "d27f6966-818c-4bf8-8c25-70bfec80819a",
   "metadata": {
    "execution": {
     "iopub.execute_input": "2023-01-19T00:55:06.014504Z",
     "iopub.status.busy": "2023-01-19T00:55:06.014107Z",
     "iopub.status.idle": "2023-01-19T00:55:06.025783Z",
     "shell.execute_reply": "2023-01-19T00:55:06.024907Z",
     "shell.execute_reply.started": "2023-01-19T00:55:06.014468Z"
    },
    "tags": []
   },
   "outputs": [
    {
     "data": {
      "text/html": [
       "<div>\n",
       "<style scoped>\n",
       "    .dataframe tbody tr th:only-of-type {\n",
       "        vertical-align: middle;\n",
       "    }\n",
       "\n",
       "    .dataframe tbody tr th {\n",
       "        vertical-align: top;\n",
       "    }\n",
       "\n",
       "    .dataframe thead th {\n",
       "        text-align: right;\n",
       "    }\n",
       "</style>\n",
       "<table border=\"1\" class=\"dataframe\">\n",
       "  <thead>\n",
       "    <tr style=\"text-align: right;\">\n",
       "      <th></th>\n",
       "      <th>m028_OESOPHCAc</th>\n",
       "    </tr>\n",
       "  </thead>\n",
       "  <tbody>\n",
       "    <tr>\n",
       "      <th>p042</th>\n",
       "      <td>27.256861</td>\n",
       "    </tr>\n",
       "    <tr>\n",
       "      <th>p008</th>\n",
       "      <td>15.778510</td>\n",
       "    </tr>\n",
       "    <tr>\n",
       "      <th>d013</th>\n",
       "      <td>12.768285</td>\n",
       "    </tr>\n",
       "    <tr>\n",
       "      <th>q125</th>\n",
       "      <td>10.214094</td>\n",
       "    </tr>\n",
       "    <tr>\n",
       "      <th>p006</th>\n",
       "      <td>4.894704</td>\n",
       "    </tr>\n",
       "    <tr>\n",
       "      <th>q023</th>\n",
       "      <td>4.606957</td>\n",
       "    </tr>\n",
       "    <tr>\n",
       "      <th>g003</th>\n",
       "      <td>3.043453</td>\n",
       "    </tr>\n",
       "    <tr>\n",
       "      <th>q120</th>\n",
       "      <td>2.931746</td>\n",
       "    </tr>\n",
       "    <tr>\n",
       "      <th>q039</th>\n",
       "      <td>2.595203</td>\n",
       "    </tr>\n",
       "    <tr>\n",
       "      <th>q122</th>\n",
       "      <td>2.317649</td>\n",
       "    </tr>\n",
       "    <tr>\n",
       "      <th>q038</th>\n",
       "      <td>2.003818</td>\n",
       "    </tr>\n",
       "    <tr>\n",
       "      <th>q164</th>\n",
       "      <td>1.436970</td>\n",
       "    </tr>\n",
       "    <tr>\n",
       "      <th>p044</th>\n",
       "      <td>0.037986</td>\n",
       "    </tr>\n",
       "    <tr>\n",
       "      <th>q084</th>\n",
       "      <td>-1.734467</td>\n",
       "    </tr>\n",
       "    <tr>\n",
       "      <th>q156</th>\n",
       "      <td>-2.593406</td>\n",
       "    </tr>\n",
       "    <tr>\n",
       "      <th>p009</th>\n",
       "      <td>-5.616304</td>\n",
       "    </tr>\n",
       "    <tr>\n",
       "      <th>r025</th>\n",
       "      <td>-9.320177</td>\n",
       "    </tr>\n",
       "    <tr>\n",
       "      <th>p038</th>\n",
       "      <td>-12.848072</td>\n",
       "    </tr>\n",
       "    <tr>\n",
       "      <th>q149</th>\n",
       "      <td>-13.961973</td>\n",
       "    </tr>\n",
       "    <tr>\n",
       "      <th>r026</th>\n",
       "      <td>-18.799187</td>\n",
       "    </tr>\n",
       "    <tr>\n",
       "      <th>q165</th>\n",
       "      <td>-35.031992</td>\n",
       "    </tr>\n",
       "  </tbody>\n",
       "</table>\n",
       "</div>"
      ],
      "text/plain": [
       "      m028_OESOPHCAc\n",
       "p042       27.256861\n",
       "p008       15.778510\n",
       "d013       12.768285\n",
       "q125       10.214094\n",
       "p006        4.894704\n",
       "q023        4.606957\n",
       "g003        3.043453\n",
       "q120        2.931746\n",
       "q039        2.595203\n",
       "q122        2.317649\n",
       "q038        2.003818\n",
       "q164        1.436970\n",
       "p044        0.037986\n",
       "q084       -1.734467\n",
       "q156       -2.593406\n",
       "p009       -5.616304\n",
       "r025       -9.320177\n",
       "p038      -12.848072\n",
       "q149      -13.961973\n",
       "r026      -18.799187\n",
       "q165      -35.031992"
      ]
     },
     "execution_count": 74,
     "metadata": {},
     "output_type": "execute_result"
    }
   ],
   "source": [
    "imp_features['m028_OESOPHCAc'][imp_features['m028_OESOPHCAc'] != 0].to_frame().sort_values(by='m028_OESOPHCAc', ascending=False)"
   ]
  },
  {
   "cell_type": "code",
   "execution_count": 78,
   "id": "86d7cc92-7912-430c-b1b2-3941182ced64",
   "metadata": {
    "execution": {
     "iopub.execute_input": "2023-01-19T00:57:52.542691Z",
     "iopub.status.busy": "2023-01-19T00:57:52.542330Z",
     "iopub.status.idle": "2023-01-19T00:57:52.553899Z",
     "shell.execute_reply": "2023-01-19T00:57:52.553123Z",
     "shell.execute_reply.started": "2023-01-19T00:57:52.542666Z"
    },
    "tags": []
   },
   "outputs": [
    {
     "data": {
      "text/html": [
       "<div>\n",
       "<style scoped>\n",
       "    .dataframe tbody tr th:only-of-type {\n",
       "        vertical-align: middle;\n",
       "    }\n",
       "\n",
       "    .dataframe tbody tr th {\n",
       "        vertical-align: top;\n",
       "    }\n",
       "\n",
       "    .dataframe thead th {\n",
       "        text-align: right;\n",
       "    }\n",
       "</style>\n",
       "<table border=\"1\" class=\"dataframe\">\n",
       "  <thead>\n",
       "    <tr style=\"text-align: right;\">\n",
       "      <th></th>\n",
       "      <th>m072_COPDc</th>\n",
       "    </tr>\n",
       "  </thead>\n",
       "  <tbody>\n",
       "    <tr>\n",
       "      <th>q106</th>\n",
       "      <td>29.647219</td>\n",
       "    </tr>\n",
       "    <tr>\n",
       "      <th>q128</th>\n",
       "      <td>20.350247</td>\n",
       "    </tr>\n",
       "    <tr>\n",
       "      <th>r024</th>\n",
       "      <td>18.650919</td>\n",
       "    </tr>\n",
       "    <tr>\n",
       "      <th>d028</th>\n",
       "      <td>15.993840</td>\n",
       "    </tr>\n",
       "    <tr>\n",
       "      <th>p010</th>\n",
       "      <td>15.980178</td>\n",
       "    </tr>\n",
       "    <tr>\n",
       "      <th>d042</th>\n",
       "      <td>14.556566</td>\n",
       "    </tr>\n",
       "    <tr>\n",
       "      <th>d040</th>\n",
       "      <td>13.283286</td>\n",
       "    </tr>\n",
       "    <tr>\n",
       "      <th>q165</th>\n",
       "      <td>12.236443</td>\n",
       "    </tr>\n",
       "    <tr>\n",
       "      <th>d041</th>\n",
       "      <td>8.882953</td>\n",
       "    </tr>\n",
       "    <tr>\n",
       "      <th>p043</th>\n",
       "      <td>8.726487</td>\n",
       "    </tr>\n",
       "    <tr>\n",
       "      <th>q083</th>\n",
       "      <td>8.621850</td>\n",
       "    </tr>\n",
       "    <tr>\n",
       "      <th>q105</th>\n",
       "      <td>7.357121</td>\n",
       "    </tr>\n",
       "    <tr>\n",
       "      <th>d044</th>\n",
       "      <td>6.134413</td>\n",
       "    </tr>\n",
       "    <tr>\n",
       "      <th>q088</th>\n",
       "      <td>5.573334</td>\n",
       "    </tr>\n",
       "    <tr>\n",
       "      <th>q119</th>\n",
       "      <td>2.520254</td>\n",
       "    </tr>\n",
       "    <tr>\n",
       "      <th>q123</th>\n",
       "      <td>2.504654</td>\n",
       "    </tr>\n",
       "    <tr>\n",
       "      <th>p033</th>\n",
       "      <td>2.073356</td>\n",
       "    </tr>\n",
       "    <tr>\n",
       "      <th>p022</th>\n",
       "      <td>1.666628</td>\n",
       "    </tr>\n",
       "    <tr>\n",
       "      <th>p038</th>\n",
       "      <td>1.586715</td>\n",
       "    </tr>\n",
       "    <tr>\n",
       "      <th>p011</th>\n",
       "      <td>1.574665</td>\n",
       "    </tr>\n",
       "    <tr>\n",
       "      <th>p024</th>\n",
       "      <td>1.465187</td>\n",
       "    </tr>\n",
       "    <tr>\n",
       "      <th>q016</th>\n",
       "      <td>0.697035</td>\n",
       "    </tr>\n",
       "    <tr>\n",
       "      <th>q129</th>\n",
       "      <td>0.385879</td>\n",
       "    </tr>\n",
       "  </tbody>\n",
       "</table>\n",
       "</div>"
      ],
      "text/plain": [
       "      m072_COPDc\n",
       "q106   29.647219\n",
       "q128   20.350247\n",
       "r024   18.650919\n",
       "d028   15.993840\n",
       "p010   15.980178\n",
       "d042   14.556566\n",
       "d040   13.283286\n",
       "q165   12.236443\n",
       "d041    8.882953\n",
       "p043    8.726487\n",
       "q083    8.621850\n",
       "q105    7.357121\n",
       "d044    6.134413\n",
       "q088    5.573334\n",
       "q119    2.520254\n",
       "q123    2.504654\n",
       "p033    2.073356\n",
       "p022    1.666628\n",
       "p038    1.586715\n",
       "p011    1.574665\n",
       "p024    1.465187\n",
       "q016    0.697035\n",
       "q129    0.385879"
      ]
     },
     "execution_count": 78,
     "metadata": {},
     "output_type": "execute_result"
    }
   ],
   "source": [
    "imp_features['m072_COPDc'][imp_features['m072_COPDc'] > 0].to_frame().sort_values(by='m072_COPDc', ascending=False)"
   ]
  },
  {
   "cell_type": "code",
   "execution_count": null,
   "id": "2e92515e-9013-47e3-acf3-f4aa16b9fa6c",
   "metadata": {},
   "outputs": [],
   "source": []
  },
  {
   "cell_type": "code",
   "execution_count": null,
   "id": "d307f89c-f322-4dbc-81d9-84762accb7ae",
   "metadata": {},
   "outputs": [],
   "source": []
  }
 ],
 "metadata": {
  "kernelspec": {
   "display_name": "Python 3 (ipykernel)",
   "language": "python",
   "name": "python3"
  },
  "language_info": {
   "codemirror_mode": {
    "name": "ipython",
    "version": 3
   },
   "file_extension": ".py",
   "mimetype": "text/x-python",
   "name": "python",
   "nbconvert_exporter": "python",
   "pygments_lexer": "ipython3",
   "version": "3.9.15"
  }
 },
 "nbformat": 4,
 "nbformat_minor": 5
}
