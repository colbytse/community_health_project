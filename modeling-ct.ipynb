{
 "cells": [
  {
   "cell_type": "code",
   "execution_count": 1,
   "id": "19d829c5-7f0b-4918-91ff-5f8b0dc18f5e",
   "metadata": {
    "execution": {
     "iopub.execute_input": "2023-01-19T03:56:07.952834Z",
     "iopub.status.busy": "2023-01-19T03:56:07.952626Z",
     "iopub.status.idle": "2023-01-19T03:56:10.294389Z",
     "shell.execute_reply": "2023-01-19T03:56:10.294045Z",
     "shell.execute_reply.started": "2023-01-19T03:56:07.952810Z"
    },
    "tags": []
   },
   "outputs": [],
   "source": [
    "import numpy as np\n",
    "import pandas as pd\n",
    "import matplotlib.pyplot as plt\n",
    "import seaborn as sns\n",
    "\n",
    "from sklearn.model_selection import train_test_split, cross_val_score\n",
    "from sklearn.linear_model import LinearRegression,\\\n",
    "                                RidgeCV, LassoCV, LogisticRegression\n",
    "from sklearn.preprocessing import StandardScaler, PolynomialFeatures, OneHotEncoder\n",
    "from sklearn.metrics import r2_score, mean_squared_error\n",
    "from tensorflow.keras.models import Sequential\n",
    "from tensorflow.keras.layers import Dense\n",
    "from sklearn.decomposition import PCA\n",
    "import eli5"
   ]
  },
  {
   "cell_type": "markdown",
   "id": "089ef8c3-750c-4b57-a1fd-74f10674b8a5",
   "metadata": {},
   "source": [
    "### Functions"
   ]
  },
  {
   "cell_type": "code",
   "execution_count": 2,
   "id": "0995fed4-9c2e-4ca6-b541-4b586190707b",
   "metadata": {
    "execution": {
     "iopub.execute_input": "2023-01-19T03:56:10.295502Z",
     "iopub.status.busy": "2023-01-19T03:56:10.295332Z",
     "iopub.status.idle": "2023-01-19T03:56:10.299224Z",
     "shell.execute_reply": "2023-01-19T03:56:10.298980Z",
     "shell.execute_reply.started": "2023-01-19T03:56:10.295492Z"
    }
   },
   "outputs": [],
   "source": [
    "results = pd.DataFrame(columns = ['Model', 'Train Score', 'Val Score', 'X Val Score', 'RMSE Train', 'RMSE Val'])\n",
    "\n",
    "def update_df(model, model_name):\n",
    "    '''fn updates a dataframe for quick reference of R squared scores and RMSE'''\n",
    "    import warnings\n",
    "    with warnings.catch_warnings():\n",
    "        warnings.simplefilter(\"ignore\")\n",
    "        \n",
    "        train_score = model.score(Xs_train, y_train)\n",
    "        val_score = model.score(Xs_test, y_test)\n",
    "        x_val_score = cross_val_score(model, Xs_train, y_train).mean()\n",
    "        rmse1 = mean_squared_error(y_train, lr.predict(Xs_train))**0.5\n",
    "        rmse2 = mean_squared_error(y_test, lr.predict(Xs_test))**0.5\n",
    "        \n",
    "        results.loc[len(results.index)] = [model_name, train_score, val_score, x_val_score, rmse1, rmse2] \n",
    "        \n",
    "    return results"
   ]
  },
  {
   "cell_type": "markdown",
   "id": "ac7a48a4-e299-47dc-ad51-cf5ff7614e3b",
   "metadata": {},
   "source": [
    "#### Scope\n",
    "\n",
    "Using the data from The China Study we aim to create a predictive model for mortality rates/chances based on the various features collected by the study. Shy of a predictive model, we hope to glean any insights related to health and exume any correlations."
   ]
  },
  {
   "cell_type": "markdown",
   "id": "7d0cbefb-b06f-4fe8-bbb0-aa97799c4f7e",
   "metadata": {},
   "source": [
    "### Read in data"
   ]
  },
  {
   "cell_type": "code",
   "execution_count": 3,
   "id": "d4298f6e-bd61-4362-95ad-dccf9d7a16e6",
   "metadata": {
    "execution": {
     "iopub.execute_input": "2023-01-19T03:56:10.299794Z",
     "iopub.status.busy": "2023-01-19T03:56:10.299674Z",
     "iopub.status.idle": "2023-01-19T03:56:10.307952Z",
     "shell.execute_reply": "2023-01-19T03:56:10.307675Z",
     "shell.execute_reply.started": "2023-01-19T03:56:10.299786Z"
    },
    "tags": []
   },
   "outputs": [],
   "source": [
    "df = pd.read_csv('./cleaned_data_descriptive/combined_df.csv',index_col=[0])"
   ]
  },
  {
   "cell_type": "code",
   "execution_count": 4,
   "id": "b83462ef-f795-4a78-8cda-087ba6d08238",
   "metadata": {
    "execution": {
     "iopub.execute_input": "2023-01-19T03:56:10.308390Z",
     "iopub.status.busy": "2023-01-19T03:56:10.308317Z",
     "iopub.status.idle": "2023-01-19T03:56:10.318342Z",
     "shell.execute_reply": "2023-01-19T03:56:10.318066Z",
     "shell.execute_reply.started": "2023-01-19T03:56:10.308383Z"
    },
    "tags": []
   },
   "outputs": [
    {
     "data": {
      "text/html": [
       "<div>\n",
       "<style scoped>\n",
       "    .dataframe tbody tr th:only-of-type {\n",
       "        vertical-align: middle;\n",
       "    }\n",
       "\n",
       "    .dataframe tbody tr th {\n",
       "        vertical-align: top;\n",
       "    }\n",
       "\n",
       "    .dataframe thead th {\n",
       "        text-align: right;\n",
       "    }\n",
       "</style>\n",
       "<table border=\"1\" class=\"dataframe\">\n",
       "  <thead>\n",
       "    <tr style=\"text-align: right;\">\n",
       "      <th></th>\n",
       "      <th>county</th>\n",
       "      <th>sex</th>\n",
       "      <th>xiang</th>\n",
       "      <th>q010</th>\n",
       "      <th>q015</th>\n",
       "      <th>q016</th>\n",
       "      <th>q022</th>\n",
       "      <th>q023</th>\n",
       "      <th>q024</th>\n",
       "      <th>q025</th>\n",
       "      <th>...</th>\n",
       "      <th>u024</th>\n",
       "      <th>u025</th>\n",
       "      <th>u026</th>\n",
       "      <th>u027</th>\n",
       "      <th>u028</th>\n",
       "      <th>u029</th>\n",
       "      <th>u030</th>\n",
       "      <th>u031</th>\n",
       "      <th>u032</th>\n",
       "      <th>u033</th>\n",
       "    </tr>\n",
       "  </thead>\n",
       "  <tbody>\n",
       "    <tr>\n",
       "      <th>0</th>\n",
       "      <td>AA</td>\n",
       "      <td>F</td>\n",
       "      <td>1</td>\n",
       "      <td>NaN</td>\n",
       "      <td>NaN</td>\n",
       "      <td>NaN</td>\n",
       "      <td>0.0</td>\n",
       "      <td>NaN</td>\n",
       "      <td>NaN</td>\n",
       "      <td>NaN</td>\n",
       "      <td>...</td>\n",
       "      <td>NaN</td>\n",
       "      <td>NaN</td>\n",
       "      <td>NaN</td>\n",
       "      <td>NaN</td>\n",
       "      <td>NaN</td>\n",
       "      <td>NaN</td>\n",
       "      <td>NaN</td>\n",
       "      <td>NaN</td>\n",
       "      <td>NaN</td>\n",
       "      <td>NaN</td>\n",
       "    </tr>\n",
       "    <tr>\n",
       "      <th>1</th>\n",
       "      <td>AA</td>\n",
       "      <td>F</td>\n",
       "      <td>2</td>\n",
       "      <td>NaN</td>\n",
       "      <td>NaN</td>\n",
       "      <td>NaN</td>\n",
       "      <td>0.0</td>\n",
       "      <td>NaN</td>\n",
       "      <td>NaN</td>\n",
       "      <td>NaN</td>\n",
       "      <td>...</td>\n",
       "      <td>NaN</td>\n",
       "      <td>NaN</td>\n",
       "      <td>NaN</td>\n",
       "      <td>NaN</td>\n",
       "      <td>NaN</td>\n",
       "      <td>NaN</td>\n",
       "      <td>NaN</td>\n",
       "      <td>NaN</td>\n",
       "      <td>NaN</td>\n",
       "      <td>NaN</td>\n",
       "    </tr>\n",
       "    <tr>\n",
       "      <th>2</th>\n",
       "      <td>AA</td>\n",
       "      <td>F</td>\n",
       "      <td>3</td>\n",
       "      <td>NaN</td>\n",
       "      <td>NaN</td>\n",
       "      <td>NaN</td>\n",
       "      <td>0.0</td>\n",
       "      <td>NaN</td>\n",
       "      <td>NaN</td>\n",
       "      <td>NaN</td>\n",
       "      <td>...</td>\n",
       "      <td>NaN</td>\n",
       "      <td>NaN</td>\n",
       "      <td>NaN</td>\n",
       "      <td>NaN</td>\n",
       "      <td>NaN</td>\n",
       "      <td>NaN</td>\n",
       "      <td>NaN</td>\n",
       "      <td>NaN</td>\n",
       "      <td>NaN</td>\n",
       "      <td>NaN</td>\n",
       "    </tr>\n",
       "    <tr>\n",
       "      <th>3</th>\n",
       "      <td>AA</td>\n",
       "      <td>T</td>\n",
       "      <td>3</td>\n",
       "      <td>40.2</td>\n",
       "      <td>60.0</td>\n",
       "      <td>70.0</td>\n",
       "      <td>3.3</td>\n",
       "      <td>22.4</td>\n",
       "      <td>41.9</td>\n",
       "      <td>35.7</td>\n",
       "      <td>...</td>\n",
       "      <td>NaN</td>\n",
       "      <td>NaN</td>\n",
       "      <td>NaN</td>\n",
       "      <td>NaN</td>\n",
       "      <td>NaN</td>\n",
       "      <td>NaN</td>\n",
       "      <td>NaN</td>\n",
       "      <td>NaN</td>\n",
       "      <td>NaN</td>\n",
       "      <td>NaN</td>\n",
       "    </tr>\n",
       "    <tr>\n",
       "      <th>4</th>\n",
       "      <td>AB</td>\n",
       "      <td>F</td>\n",
       "      <td>1</td>\n",
       "      <td>NaN</td>\n",
       "      <td>NaN</td>\n",
       "      <td>NaN</td>\n",
       "      <td>0.0</td>\n",
       "      <td>NaN</td>\n",
       "      <td>NaN</td>\n",
       "      <td>NaN</td>\n",
       "      <td>...</td>\n",
       "      <td>NaN</td>\n",
       "      <td>NaN</td>\n",
       "      <td>NaN</td>\n",
       "      <td>NaN</td>\n",
       "      <td>NaN</td>\n",
       "      <td>NaN</td>\n",
       "      <td>NaN</td>\n",
       "      <td>NaN</td>\n",
       "      <td>NaN</td>\n",
       "      <td>NaN</td>\n",
       "    </tr>\n",
       "  </tbody>\n",
       "</table>\n",
       "<p>5 rows × 296 columns</p>\n",
       "</div>"
      ],
      "text/plain": [
       "  county sex  xiang  q010  q015  q016  q022  q023  q024  q025  ...  u024  \\\n",
       "0     AA   F      1   NaN   NaN   NaN   0.0   NaN   NaN   NaN  ...   NaN   \n",
       "1     AA   F      2   NaN   NaN   NaN   0.0   NaN   NaN   NaN  ...   NaN   \n",
       "2     AA   F      3   NaN   NaN   NaN   0.0   NaN   NaN   NaN  ...   NaN   \n",
       "3     AA   T      3  40.2  60.0  70.0   3.3  22.4  41.9  35.7  ...   NaN   \n",
       "4     AB   F      1   NaN   NaN   NaN   0.0   NaN   NaN   NaN  ...   NaN   \n",
       "\n",
       "   u025  u026  u027  u028  u029  u030  u031  u032  u033  \n",
       "0   NaN   NaN   NaN   NaN   NaN   NaN   NaN   NaN   NaN  \n",
       "1   NaN   NaN   NaN   NaN   NaN   NaN   NaN   NaN   NaN  \n",
       "2   NaN   NaN   NaN   NaN   NaN   NaN   NaN   NaN   NaN  \n",
       "3   NaN   NaN   NaN   NaN   NaN   NaN   NaN   NaN   NaN  \n",
       "4   NaN   NaN   NaN   NaN   NaN   NaN   NaN   NaN   NaN  \n",
       "\n",
       "[5 rows x 296 columns]"
      ]
     },
     "execution_count": 4,
     "metadata": {},
     "output_type": "execute_result"
    }
   ],
   "source": [
    "df.head()"
   ]
  },
  {
   "cell_type": "code",
   "execution_count": 5,
   "id": "65da9bf1-daf3-4473-a836-8724c2c85d73",
   "metadata": {
    "execution": {
     "iopub.execute_input": "2023-01-19T03:56:10.318947Z",
     "iopub.status.busy": "2023-01-19T03:56:10.318820Z",
     "iopub.status.idle": "2023-01-19T03:56:10.321053Z",
     "shell.execute_reply": "2023-01-19T03:56:10.320813Z",
     "shell.execute_reply.started": "2023-01-19T03:56:10.318938Z"
    },
    "tags": []
   },
   "outputs": [
    {
     "data": {
      "text/plain": [
       "(275, 296)"
      ]
     },
     "execution_count": 5,
     "metadata": {},
     "output_type": "execute_result"
    }
   ],
   "source": [
    "df.shape"
   ]
  },
  {
   "cell_type": "code",
   "execution_count": 6,
   "id": "652ceaf4-0ca1-40e7-809d-4af211463245",
   "metadata": {
    "execution": {
     "iopub.execute_input": "2023-01-19T03:56:10.321516Z",
     "iopub.status.busy": "2023-01-19T03:56:10.321397Z",
     "iopub.status.idle": "2023-01-19T03:56:10.324267Z",
     "shell.execute_reply": "2023-01-19T03:56:10.324040Z",
     "shell.execute_reply.started": "2023-01-19T03:56:10.321506Z"
    },
    "tags": []
   },
   "outputs": [
    {
     "data": {
      "text/plain": [
       "(69, 296)"
      ]
     },
     "execution_count": 6,
     "metadata": {},
     "output_type": "execute_result"
    }
   ],
   "source": [
    "df[df['sex'] == 'T'].shape"
   ]
  },
  {
   "cell_type": "code",
   "execution_count": 7,
   "id": "8ca9665d-8ec7-45ce-96c5-fefd4aaf1a35",
   "metadata": {
    "execution": {
     "iopub.execute_input": "2023-01-19T03:56:10.325935Z",
     "iopub.status.busy": "2023-01-19T03:56:10.325830Z",
     "iopub.status.idle": "2023-01-19T03:56:10.327962Z",
     "shell.execute_reply": "2023-01-19T03:56:10.327687Z",
     "shell.execute_reply.started": "2023-01-19T03:56:10.325926Z"
    },
    "tags": []
   },
   "outputs": [],
   "source": [
    "ss = StandardScaler()"
   ]
  },
  {
   "cell_type": "code",
   "execution_count": 8,
   "id": "313a23a9-2096-41e8-bcf1-792c6b21e369",
   "metadata": {
    "execution": {
     "iopub.execute_input": "2023-01-19T03:56:10.328544Z",
     "iopub.status.busy": "2023-01-19T03:56:10.328434Z",
     "iopub.status.idle": "2023-01-19T03:56:10.330756Z",
     "shell.execute_reply": "2023-01-19T03:56:10.330517Z",
     "shell.execute_reply.started": "2023-01-19T03:56:10.328534Z"
    },
    "tags": []
   },
   "outputs": [],
   "source": [
    "# df.columns.to_list() # sanity check"
   ]
  },
  {
   "cell_type": "markdown",
   "id": "0b931cce-2417-49ab-8129-cc1ec1533294",
   "metadata": {},
   "source": [
    "The data is separated by county -> sex -> xiang (village or small community)\n",
    "\n",
    "Since a great majority of the data is missing M and F specific values, we can only rely on sex = 'T' which is an average of male and female according to the documents. 'xiang' is also split into 1, 2, and 3 where 3 is the average of 1 and 2. Like the 'sex' column we also do not have the more granular breakdowns for xiang 1 and 2. Thus we must rely on 'sex' = 'T' and 'xiang' == 3 for our dataset. "
   ]
  },
  {
   "cell_type": "code",
   "execution_count": 9,
   "id": "66346def-6928-460e-bd86-5bcef9de8fad",
   "metadata": {
    "execution": {
     "iopub.execute_input": "2023-01-19T03:56:10.331205Z",
     "iopub.status.busy": "2023-01-19T03:56:10.331100Z",
     "iopub.status.idle": "2023-01-19T03:56:10.335451Z",
     "shell.execute_reply": "2023-01-19T03:56:10.335097Z",
     "shell.execute_reply.started": "2023-01-19T03:56:10.331172Z"
    },
    "tags": []
   },
   "outputs": [],
   "source": [
    "clean_df = df[(df['sex'] == 'T') & (df['xiang'] == 3)]\\\n",
    ".dropna(subset='m005_ALL35_69').dropna(axis = 'columns')"
   ]
  },
  {
   "cell_type": "code",
   "execution_count": 10,
   "id": "826be448-e763-41c9-a761-6bbd7fed9cee",
   "metadata": {
    "execution": {
     "iopub.execute_input": "2023-01-19T03:56:10.335939Z",
     "iopub.status.busy": "2023-01-19T03:56:10.335859Z",
     "iopub.status.idle": "2023-01-19T03:56:10.338908Z",
     "shell.execute_reply": "2023-01-19T03:56:10.338669Z",
     "shell.execute_reply.started": "2023-01-19T03:56:10.335931Z"
    },
    "tags": []
   },
   "outputs": [
    {
     "data": {
      "text/plain": [
       "3      11.29\n",
       "7      11.82\n",
       "11     10.55\n",
       "15     16.19\n",
       "19     13.59\n",
       "       ...  \n",
       "259    17.05\n",
       "263    13.29\n",
       "266    15.63\n",
       "270    18.88\n",
       "274    17.95\n",
       "Name: m005_ALL35_69, Length: 66, dtype: float64"
      ]
     },
     "execution_count": 10,
     "metadata": {},
     "output_type": "execute_result"
    }
   ],
   "source": [
    "clean_df['m005_ALL35_69']"
   ]
  },
  {
   "cell_type": "code",
   "execution_count": 11,
   "id": "6cdde86d-c049-4acc-a64a-f38c132f340e",
   "metadata": {
    "execution": {
     "iopub.execute_input": "2023-01-19T03:56:10.339429Z",
     "iopub.status.busy": "2023-01-19T03:56:10.339340Z",
     "iopub.status.idle": "2023-01-19T03:56:10.341461Z",
     "shell.execute_reply": "2023-01-19T03:56:10.341219Z",
     "shell.execute_reply.started": "2023-01-19T03:56:10.339422Z"
    },
    "tags": []
   },
   "outputs": [
    {
     "data": {
      "text/plain": [
       "(66, 201)"
      ]
     },
     "execution_count": 11,
     "metadata": {},
     "output_type": "execute_result"
    }
   ],
   "source": [
    "clean_df.shape"
   ]
  },
  {
   "cell_type": "markdown",
   "id": "f8483677-fda8-48aa-872a-569d34474ede",
   "metadata": {},
   "source": [
    "### Linear Regression\n",
    "\n",
    "Linear Regression makes the most sense. All of our data is continous and numeric albeit some on different numeric scales. We can use standard scaler and go from there."
   ]
  },
  {
   "cell_type": "code",
   "execution_count": 12,
   "id": "52eed53e-6216-4f95-b536-efcd48d84028",
   "metadata": {
    "execution": {
     "iopub.execute_input": "2023-01-19T03:56:10.342020Z",
     "iopub.status.busy": "2023-01-19T03:56:10.341901Z",
     "iopub.status.idle": "2023-01-19T03:56:10.345110Z",
     "shell.execute_reply": "2023-01-19T03:56:10.344870Z",
     "shell.execute_reply.started": "2023-01-19T03:56:10.342012Z"
    },
    "tags": []
   },
   "outputs": [],
   "source": [
    "X = clean_df.drop(columns = ['county', 'sex', 'xiang','m005_ALL35_69'])\n",
    "y = clean_df['m005_ALL35_69']\n",
    "\n",
    "X_train, X_test, y_train, y_test = train_test_split(X, y, random_state=33)"
   ]
  },
  {
   "cell_type": "markdown",
   "id": "5b37aa63-fdbc-49f2-b4a0-d32d99874089",
   "metadata": {},
   "source": [
    "We're suffering from dimensionality here; we have too many features. We need to figure out which ones to focus on; trying to limit to 10 features for our 69 or so rows. Lasso and/or Ridge could help us out here."
   ]
  },
  {
   "cell_type": "code",
   "execution_count": 13,
   "id": "fb1a77f0-3ea2-46ee-9bd0-64a5b0f78e50",
   "metadata": {
    "execution": {
     "iopub.execute_input": "2023-01-19T03:56:10.345662Z",
     "iopub.status.busy": "2023-01-19T03:56:10.345543Z",
     "iopub.status.idle": "2023-01-19T03:56:10.347689Z",
     "shell.execute_reply": "2023-01-19T03:56:10.347474Z",
     "shell.execute_reply.started": "2023-01-19T03:56:10.345653Z"
    },
    "tags": []
   },
   "outputs": [
    {
     "data": {
      "text/plain": [
       "((49, 197), (17, 197), (49,), (17,))"
      ]
     },
     "execution_count": 13,
     "metadata": {},
     "output_type": "execute_result"
    }
   ],
   "source": [
    "X_train.shape, X_test.shape, y_train.shape, y_test.shape"
   ]
  },
  {
   "cell_type": "markdown",
   "id": "2437cc61-aaec-4de8-8461-a4f05328c5df",
   "metadata": {},
   "source": [
    "Standard scaler to get everything on a comparable scale."
   ]
  },
  {
   "cell_type": "code",
   "execution_count": 14,
   "id": "d38f35c1-d62f-439b-be79-699a53811cc0",
   "metadata": {
    "execution": {
     "iopub.execute_input": "2023-01-19T03:56:10.348126Z",
     "iopub.status.busy": "2023-01-19T03:56:10.348049Z",
     "iopub.status.idle": "2023-01-19T03:56:10.353420Z",
     "shell.execute_reply": "2023-01-19T03:56:10.353115Z",
     "shell.execute_reply.started": "2023-01-19T03:56:10.348118Z"
    },
    "tags": []
   },
   "outputs": [],
   "source": [
    "Xs_train = ss.fit_transform(X_train)\n",
    "Xs_test = ss.transform(X_test)"
   ]
  },
  {
   "cell_type": "code",
   "execution_count": 15,
   "id": "94edd8b9-0c2e-4180-b200-4632e4085cf2",
   "metadata": {
    "execution": {
     "iopub.execute_input": "2023-01-19T03:56:10.353883Z",
     "iopub.status.busy": "2023-01-19T03:56:10.353781Z",
     "iopub.status.idle": "2023-01-19T03:56:10.355911Z",
     "shell.execute_reply": "2023-01-19T03:56:10.355618Z",
     "shell.execute_reply.started": "2023-01-19T03:56:10.353874Z"
    },
    "tags": []
   },
   "outputs": [],
   "source": [
    "lr = LinearRegression()"
   ]
  },
  {
   "cell_type": "code",
   "execution_count": 16,
   "id": "65cad832-483b-4ce8-9a92-a1c736f89508",
   "metadata": {
    "execution": {
     "iopub.execute_input": "2023-01-19T03:56:10.356364Z",
     "iopub.status.busy": "2023-01-19T03:56:10.356265Z",
     "iopub.status.idle": "2023-01-19T03:56:10.363572Z",
     "shell.execute_reply": "2023-01-19T03:56:10.363255Z",
     "shell.execute_reply.started": "2023-01-19T03:56:10.356353Z"
    },
    "tags": []
   },
   "outputs": [
    {
     "data": {
      "text/html": [
       "<style>#sk-container-id-1 {color: black;background-color: white;}#sk-container-id-1 pre{padding: 0;}#sk-container-id-1 div.sk-toggleable {background-color: white;}#sk-container-id-1 label.sk-toggleable__label {cursor: pointer;display: block;width: 100%;margin-bottom: 0;padding: 0.3em;box-sizing: border-box;text-align: center;}#sk-container-id-1 label.sk-toggleable__label-arrow:before {content: \"▸\";float: left;margin-right: 0.25em;color: #696969;}#sk-container-id-1 label.sk-toggleable__label-arrow:hover:before {color: black;}#sk-container-id-1 div.sk-estimator:hover label.sk-toggleable__label-arrow:before {color: black;}#sk-container-id-1 div.sk-toggleable__content {max-height: 0;max-width: 0;overflow: hidden;text-align: left;background-color: #f0f8ff;}#sk-container-id-1 div.sk-toggleable__content pre {margin: 0.2em;color: black;border-radius: 0.25em;background-color: #f0f8ff;}#sk-container-id-1 input.sk-toggleable__control:checked~div.sk-toggleable__content {max-height: 200px;max-width: 100%;overflow: auto;}#sk-container-id-1 input.sk-toggleable__control:checked~label.sk-toggleable__label-arrow:before {content: \"▾\";}#sk-container-id-1 div.sk-estimator input.sk-toggleable__control:checked~label.sk-toggleable__label {background-color: #d4ebff;}#sk-container-id-1 div.sk-label input.sk-toggleable__control:checked~label.sk-toggleable__label {background-color: #d4ebff;}#sk-container-id-1 input.sk-hidden--visually {border: 0;clip: rect(1px 1px 1px 1px);clip: rect(1px, 1px, 1px, 1px);height: 1px;margin: -1px;overflow: hidden;padding: 0;position: absolute;width: 1px;}#sk-container-id-1 div.sk-estimator {font-family: monospace;background-color: #f0f8ff;border: 1px dotted black;border-radius: 0.25em;box-sizing: border-box;margin-bottom: 0.5em;}#sk-container-id-1 div.sk-estimator:hover {background-color: #d4ebff;}#sk-container-id-1 div.sk-parallel-item::after {content: \"\";width: 100%;border-bottom: 1px solid gray;flex-grow: 1;}#sk-container-id-1 div.sk-label:hover label.sk-toggleable__label {background-color: #d4ebff;}#sk-container-id-1 div.sk-serial::before {content: \"\";position: absolute;border-left: 1px solid gray;box-sizing: border-box;top: 0;bottom: 0;left: 50%;z-index: 0;}#sk-container-id-1 div.sk-serial {display: flex;flex-direction: column;align-items: center;background-color: white;padding-right: 0.2em;padding-left: 0.2em;position: relative;}#sk-container-id-1 div.sk-item {position: relative;z-index: 1;}#sk-container-id-1 div.sk-parallel {display: flex;align-items: stretch;justify-content: center;background-color: white;position: relative;}#sk-container-id-1 div.sk-item::before, #sk-container-id-1 div.sk-parallel-item::before {content: \"\";position: absolute;border-left: 1px solid gray;box-sizing: border-box;top: 0;bottom: 0;left: 50%;z-index: -1;}#sk-container-id-1 div.sk-parallel-item {display: flex;flex-direction: column;z-index: 1;position: relative;background-color: white;}#sk-container-id-1 div.sk-parallel-item:first-child::after {align-self: flex-end;width: 50%;}#sk-container-id-1 div.sk-parallel-item:last-child::after {align-self: flex-start;width: 50%;}#sk-container-id-1 div.sk-parallel-item:only-child::after {width: 0;}#sk-container-id-1 div.sk-dashed-wrapped {border: 1px dashed gray;margin: 0 0.4em 0.5em 0.4em;box-sizing: border-box;padding-bottom: 0.4em;background-color: white;}#sk-container-id-1 div.sk-label label {font-family: monospace;font-weight: bold;display: inline-block;line-height: 1.2em;}#sk-container-id-1 div.sk-label-container {text-align: center;}#sk-container-id-1 div.sk-container {/* jupyter's `normalize.less` sets `[hidden] { display: none; }` but bootstrap.min.css set `[hidden] { display: none !important; }` so we also need the `!important` here to be able to override the default hidden behavior on the sphinx rendered scikit-learn.org. See: https://github.com/scikit-learn/scikit-learn/issues/21755 */display: inline-block !important;position: relative;}#sk-container-id-1 div.sk-text-repr-fallback {display: none;}</style><div id=\"sk-container-id-1\" class=\"sk-top-container\"><div class=\"sk-text-repr-fallback\"><pre>LinearRegression()</pre><b>In a Jupyter environment, please rerun this cell to show the HTML representation or trust the notebook. <br />On GitHub, the HTML representation is unable to render, please try loading this page with nbviewer.org.</b></div><div class=\"sk-container\" hidden><div class=\"sk-item\"><div class=\"sk-estimator sk-toggleable\"><input class=\"sk-toggleable__control sk-hidden--visually\" id=\"sk-estimator-id-1\" type=\"checkbox\" checked><label for=\"sk-estimator-id-1\" class=\"sk-toggleable__label sk-toggleable__label-arrow\">LinearRegression</label><div class=\"sk-toggleable__content\"><pre>LinearRegression()</pre></div></div></div></div></div>"
      ],
      "text/plain": [
       "LinearRegression()"
      ]
     },
     "execution_count": 16,
     "metadata": {},
     "output_type": "execute_result"
    }
   ],
   "source": [
    "lr.fit(Xs_train, y_train)"
   ]
  },
  {
   "cell_type": "code",
   "execution_count": 17,
   "id": "020a8e63-56e2-474f-8d49-425d5fe59fe0",
   "metadata": {
    "execution": {
     "iopub.execute_input": "2023-01-19T03:56:10.364225Z",
     "iopub.status.busy": "2023-01-19T03:56:10.364138Z",
     "iopub.status.idle": "2023-01-19T03:56:10.378350Z",
     "shell.execute_reply": "2023-01-19T03:56:10.377876Z",
     "shell.execute_reply.started": "2023-01-19T03:56:10.364216Z"
    }
   },
   "outputs": [
    {
     "data": {
      "text/html": [
       "<div>\n",
       "<style scoped>\n",
       "    .dataframe tbody tr th:only-of-type {\n",
       "        vertical-align: middle;\n",
       "    }\n",
       "\n",
       "    .dataframe tbody tr th {\n",
       "        vertical-align: top;\n",
       "    }\n",
       "\n",
       "    .dataframe thead th {\n",
       "        text-align: right;\n",
       "    }\n",
       "</style>\n",
       "<table border=\"1\" class=\"dataframe\">\n",
       "  <thead>\n",
       "    <tr style=\"text-align: right;\">\n",
       "      <th></th>\n",
       "      <th>Model</th>\n",
       "      <th>Train Score</th>\n",
       "      <th>Val Score</th>\n",
       "      <th>X Val Score</th>\n",
       "      <th>RMSE Train</th>\n",
       "      <th>RMSE Val</th>\n",
       "    </tr>\n",
       "  </thead>\n",
       "  <tbody>\n",
       "    <tr>\n",
       "      <th>0</th>\n",
       "      <td>m005_ALL_35-69.LinReg</td>\n",
       "      <td>1.0</td>\n",
       "      <td>0.88294</td>\n",
       "      <td>0.616316</td>\n",
       "      <td>8.404957e-15</td>\n",
       "      <td>1.206978</td>\n",
       "    </tr>\n",
       "  </tbody>\n",
       "</table>\n",
       "</div>"
      ],
      "text/plain": [
       "                   Model  Train Score  Val Score  X Val Score    RMSE Train  \\\n",
       "0  m005_ALL_35-69.LinReg          1.0    0.88294     0.616316  8.404957e-15   \n",
       "\n",
       "   RMSE Val  \n",
       "0  1.206978  "
      ]
     },
     "execution_count": 17,
     "metadata": {},
     "output_type": "execute_result"
    }
   ],
   "source": [
    "update_df(lr, 'm005_ALL_35-69.LinReg')"
   ]
  },
  {
   "cell_type": "markdown",
   "id": "55cec1bc-1384-4576-8ada-63ea1593c55b",
   "metadata": {
    "execution": {
     "iopub.execute_input": "2023-01-19T03:41:41.788861Z",
     "iopub.status.busy": "2023-01-19T03:41:41.788118Z",
     "iopub.status.idle": "2023-01-19T03:41:41.802559Z",
     "shell.execute_reply": "2023-01-19T03:41:41.801147Z",
     "shell.execute_reply.started": "2023-01-19T03:41:41.788815Z"
    }
   },
   "source": [
    "Basic regression model is overfit. Diving into Ridge and Lasso to see if we can address it. We suspect there may be data leakage between the mortality columns."
   ]
  },
  {
   "cell_type": "code",
   "execution_count": 18,
   "id": "b9b05d45-d227-45da-a109-8d622feb3ed6",
   "metadata": {
    "execution": {
     "iopub.execute_input": "2023-01-19T03:56:10.378982Z",
     "iopub.status.busy": "2023-01-19T03:56:10.378883Z",
     "iopub.status.idle": "2023-01-19T03:56:10.381346Z",
     "shell.execute_reply": "2023-01-19T03:56:10.381015Z",
     "shell.execute_reply.started": "2023-01-19T03:56:10.378974Z"
    },
    "tags": []
   },
   "outputs": [],
   "source": [
    "ridge = RidgeCV(alphas = np.logspace(0,2,100)) # "
   ]
  },
  {
   "cell_type": "code",
   "execution_count": 19,
   "id": "bf7e8c70-5ab7-44ba-8bba-73ae4a8257a9",
   "metadata": {
    "execution": {
     "iopub.execute_input": "2023-01-19T03:56:10.382287Z",
     "iopub.status.busy": "2023-01-19T03:56:10.381958Z",
     "iopub.status.idle": "2023-01-19T03:56:10.384538Z",
     "shell.execute_reply": "2023-01-19T03:56:10.384201Z",
     "shell.execute_reply.started": "2023-01-19T03:56:10.382253Z"
    }
   },
   "outputs": [],
   "source": [
    "lasso = LassoCV(alphas = np.arange(0.001, 10, 1))"
   ]
  },
  {
   "cell_type": "code",
   "execution_count": 20,
   "id": "ebaaad19-e003-47d0-9c1f-c829f47fca10",
   "metadata": {
    "execution": {
     "iopub.execute_input": "2023-01-19T03:56:10.385118Z",
     "iopub.status.busy": "2023-01-19T03:56:10.385037Z",
     "iopub.status.idle": "2023-01-19T03:56:10.396728Z",
     "shell.execute_reply": "2023-01-19T03:56:10.396426Z",
     "shell.execute_reply.started": "2023-01-19T03:56:10.385110Z"
    }
   },
   "outputs": [
    {
     "data": {
      "text/html": [
       "<style>#sk-container-id-2 {color: black;background-color: white;}#sk-container-id-2 pre{padding: 0;}#sk-container-id-2 div.sk-toggleable {background-color: white;}#sk-container-id-2 label.sk-toggleable__label {cursor: pointer;display: block;width: 100%;margin-bottom: 0;padding: 0.3em;box-sizing: border-box;text-align: center;}#sk-container-id-2 label.sk-toggleable__label-arrow:before {content: \"▸\";float: left;margin-right: 0.25em;color: #696969;}#sk-container-id-2 label.sk-toggleable__label-arrow:hover:before {color: black;}#sk-container-id-2 div.sk-estimator:hover label.sk-toggleable__label-arrow:before {color: black;}#sk-container-id-2 div.sk-toggleable__content {max-height: 0;max-width: 0;overflow: hidden;text-align: left;background-color: #f0f8ff;}#sk-container-id-2 div.sk-toggleable__content pre {margin: 0.2em;color: black;border-radius: 0.25em;background-color: #f0f8ff;}#sk-container-id-2 input.sk-toggleable__control:checked~div.sk-toggleable__content {max-height: 200px;max-width: 100%;overflow: auto;}#sk-container-id-2 input.sk-toggleable__control:checked~label.sk-toggleable__label-arrow:before {content: \"▾\";}#sk-container-id-2 div.sk-estimator input.sk-toggleable__control:checked~label.sk-toggleable__label {background-color: #d4ebff;}#sk-container-id-2 div.sk-label input.sk-toggleable__control:checked~label.sk-toggleable__label {background-color: #d4ebff;}#sk-container-id-2 input.sk-hidden--visually {border: 0;clip: rect(1px 1px 1px 1px);clip: rect(1px, 1px, 1px, 1px);height: 1px;margin: -1px;overflow: hidden;padding: 0;position: absolute;width: 1px;}#sk-container-id-2 div.sk-estimator {font-family: monospace;background-color: #f0f8ff;border: 1px dotted black;border-radius: 0.25em;box-sizing: border-box;margin-bottom: 0.5em;}#sk-container-id-2 div.sk-estimator:hover {background-color: #d4ebff;}#sk-container-id-2 div.sk-parallel-item::after {content: \"\";width: 100%;border-bottom: 1px solid gray;flex-grow: 1;}#sk-container-id-2 div.sk-label:hover label.sk-toggleable__label {background-color: #d4ebff;}#sk-container-id-2 div.sk-serial::before {content: \"\";position: absolute;border-left: 1px solid gray;box-sizing: border-box;top: 0;bottom: 0;left: 50%;z-index: 0;}#sk-container-id-2 div.sk-serial {display: flex;flex-direction: column;align-items: center;background-color: white;padding-right: 0.2em;padding-left: 0.2em;position: relative;}#sk-container-id-2 div.sk-item {position: relative;z-index: 1;}#sk-container-id-2 div.sk-parallel {display: flex;align-items: stretch;justify-content: center;background-color: white;position: relative;}#sk-container-id-2 div.sk-item::before, #sk-container-id-2 div.sk-parallel-item::before {content: \"\";position: absolute;border-left: 1px solid gray;box-sizing: border-box;top: 0;bottom: 0;left: 50%;z-index: -1;}#sk-container-id-2 div.sk-parallel-item {display: flex;flex-direction: column;z-index: 1;position: relative;background-color: white;}#sk-container-id-2 div.sk-parallel-item:first-child::after {align-self: flex-end;width: 50%;}#sk-container-id-2 div.sk-parallel-item:last-child::after {align-self: flex-start;width: 50%;}#sk-container-id-2 div.sk-parallel-item:only-child::after {width: 0;}#sk-container-id-2 div.sk-dashed-wrapped {border: 1px dashed gray;margin: 0 0.4em 0.5em 0.4em;box-sizing: border-box;padding-bottom: 0.4em;background-color: white;}#sk-container-id-2 div.sk-label label {font-family: monospace;font-weight: bold;display: inline-block;line-height: 1.2em;}#sk-container-id-2 div.sk-label-container {text-align: center;}#sk-container-id-2 div.sk-container {/* jupyter's `normalize.less` sets `[hidden] { display: none; }` but bootstrap.min.css set `[hidden] { display: none !important; }` so we also need the `!important` here to be able to override the default hidden behavior on the sphinx rendered scikit-learn.org. See: https://github.com/scikit-learn/scikit-learn/issues/21755 */display: inline-block !important;position: relative;}#sk-container-id-2 div.sk-text-repr-fallback {display: none;}</style><div id=\"sk-container-id-2\" class=\"sk-top-container\"><div class=\"sk-text-repr-fallback\"><pre>RidgeCV(alphas=array([  1.        ,   1.04761575,   1.09749877,   1.149757  ,\n",
       "         1.20450354,   1.26185688,   1.32194115,   1.38488637,\n",
       "         1.45082878,   1.51991108,   1.59228279,   1.66810054,\n",
       "         1.7475284 ,   1.83073828,   1.91791026,   2.009233  ,\n",
       "         2.10490414,   2.20513074,   2.3101297 ,   2.42012826,\n",
       "         2.53536449,   2.65608778,   2.7825594 ,   2.91505306,\n",
       "         3.05385551,   3.19926714,   3.35160265,   3.51119173,\n",
       "         3.67837977,   3.85352859,   4.03701726,   4....\n",
       "        23.64489413,  24.77076356,  25.95024211,  27.18588243,\n",
       "        28.48035868,  29.8364724 ,  31.2571585 ,  32.74549163,\n",
       "        34.30469286,  35.93813664,  37.64935807,  39.44206059,\n",
       "        41.320124  ,  43.28761281,  45.34878508,  47.50810162,\n",
       "        49.77023564,  52.14008288,  54.62277218,  57.22367659,\n",
       "        59.94842503,  62.80291442,  65.79332247,  68.92612104,\n",
       "        72.20809018,  75.64633276,  79.24828984,  83.02175681,\n",
       "        86.97490026,  91.11627561,  95.45484567, 100.        ]))</pre><b>In a Jupyter environment, please rerun this cell to show the HTML representation or trust the notebook. <br />On GitHub, the HTML representation is unable to render, please try loading this page with nbviewer.org.</b></div><div class=\"sk-container\" hidden><div class=\"sk-item\"><div class=\"sk-estimator sk-toggleable\"><input class=\"sk-toggleable__control sk-hidden--visually\" id=\"sk-estimator-id-2\" type=\"checkbox\" checked><label for=\"sk-estimator-id-2\" class=\"sk-toggleable__label sk-toggleable__label-arrow\">RidgeCV</label><div class=\"sk-toggleable__content\"><pre>RidgeCV(alphas=array([  1.        ,   1.04761575,   1.09749877,   1.149757  ,\n",
       "         1.20450354,   1.26185688,   1.32194115,   1.38488637,\n",
       "         1.45082878,   1.51991108,   1.59228279,   1.66810054,\n",
       "         1.7475284 ,   1.83073828,   1.91791026,   2.009233  ,\n",
       "         2.10490414,   2.20513074,   2.3101297 ,   2.42012826,\n",
       "         2.53536449,   2.65608778,   2.7825594 ,   2.91505306,\n",
       "         3.05385551,   3.19926714,   3.35160265,   3.51119173,\n",
       "         3.67837977,   3.85352859,   4.03701726,   4....\n",
       "        23.64489413,  24.77076356,  25.95024211,  27.18588243,\n",
       "        28.48035868,  29.8364724 ,  31.2571585 ,  32.74549163,\n",
       "        34.30469286,  35.93813664,  37.64935807,  39.44206059,\n",
       "        41.320124  ,  43.28761281,  45.34878508,  47.50810162,\n",
       "        49.77023564,  52.14008288,  54.62277218,  57.22367659,\n",
       "        59.94842503,  62.80291442,  65.79332247,  68.92612104,\n",
       "        72.20809018,  75.64633276,  79.24828984,  83.02175681,\n",
       "        86.97490026,  91.11627561,  95.45484567, 100.        ]))</pre></div></div></div></div></div>"
      ],
      "text/plain": [
       "RidgeCV(alphas=array([  1.        ,   1.04761575,   1.09749877,   1.149757  ,\n",
       "         1.20450354,   1.26185688,   1.32194115,   1.38488637,\n",
       "         1.45082878,   1.51991108,   1.59228279,   1.66810054,\n",
       "         1.7475284 ,   1.83073828,   1.91791026,   2.009233  ,\n",
       "         2.10490414,   2.20513074,   2.3101297 ,   2.42012826,\n",
       "         2.53536449,   2.65608778,   2.7825594 ,   2.91505306,\n",
       "         3.05385551,   3.19926714,   3.35160265,   3.51119173,\n",
       "         3.67837977,   3.85352859,   4.03701726,   4....\n",
       "        23.64489413,  24.77076356,  25.95024211,  27.18588243,\n",
       "        28.48035868,  29.8364724 ,  31.2571585 ,  32.74549163,\n",
       "        34.30469286,  35.93813664,  37.64935807,  39.44206059,\n",
       "        41.320124  ,  43.28761281,  45.34878508,  47.50810162,\n",
       "        49.77023564,  52.14008288,  54.62277218,  57.22367659,\n",
       "        59.94842503,  62.80291442,  65.79332247,  68.92612104,\n",
       "        72.20809018,  75.64633276,  79.24828984,  83.02175681,\n",
       "        86.97490026,  91.11627561,  95.45484567, 100.        ]))"
      ]
     },
     "execution_count": 20,
     "metadata": {},
     "output_type": "execute_result"
    }
   ],
   "source": [
    "ridge.fit(Xs_train, y_train)"
   ]
  },
  {
   "cell_type": "code",
   "execution_count": 21,
   "id": "5d28e5c4-1304-4414-bcc3-7bf1f291cc83",
   "metadata": {
    "execution": {
     "iopub.execute_input": "2023-01-19T03:56:10.397771Z",
     "iopub.status.busy": "2023-01-19T03:56:10.397391Z",
     "iopub.status.idle": "2023-01-19T03:56:10.400587Z",
     "shell.execute_reply": "2023-01-19T03:56:10.400302Z",
     "shell.execute_reply.started": "2023-01-19T03:56:10.397760Z"
    }
   },
   "outputs": [
    {
     "data": {
      "text/plain": [
       "1.0"
      ]
     },
     "execution_count": 21,
     "metadata": {},
     "output_type": "execute_result"
    }
   ],
   "source": [
    "ridge.alpha_"
   ]
  },
  {
   "cell_type": "code",
   "execution_count": 22,
   "id": "57d9a9ed-068c-4009-a2c3-a482f118a69a",
   "metadata": {
    "execution": {
     "iopub.execute_input": "2023-01-19T03:56:10.405256Z",
     "iopub.status.busy": "2023-01-19T03:56:10.405140Z",
     "iopub.status.idle": "2023-01-19T03:56:10.429930Z",
     "shell.execute_reply": "2023-01-19T03:56:10.429505Z",
     "shell.execute_reply.started": "2023-01-19T03:56:10.405246Z"
    }
   },
   "outputs": [
    {
     "data": {
      "text/html": [
       "<div>\n",
       "<style scoped>\n",
       "    .dataframe tbody tr th:only-of-type {\n",
       "        vertical-align: middle;\n",
       "    }\n",
       "\n",
       "    .dataframe tbody tr th {\n",
       "        vertical-align: top;\n",
       "    }\n",
       "\n",
       "    .dataframe thead th {\n",
       "        text-align: right;\n",
       "    }\n",
       "</style>\n",
       "<table border=\"1\" class=\"dataframe\">\n",
       "  <thead>\n",
       "    <tr style=\"text-align: right;\">\n",
       "      <th></th>\n",
       "      <th>Model</th>\n",
       "      <th>Train Score</th>\n",
       "      <th>Val Score</th>\n",
       "      <th>X Val Score</th>\n",
       "      <th>RMSE Train</th>\n",
       "      <th>RMSE Val</th>\n",
       "    </tr>\n",
       "  </thead>\n",
       "  <tbody>\n",
       "    <tr>\n",
       "      <th>0</th>\n",
       "      <td>m005_ALL_35-69.LinReg</td>\n",
       "      <td>1.000000</td>\n",
       "      <td>0.882940</td>\n",
       "      <td>0.616316</td>\n",
       "      <td>8.404957e-15</td>\n",
       "      <td>1.206978</td>\n",
       "    </tr>\n",
       "    <tr>\n",
       "      <th>1</th>\n",
       "      <td>m005_ALL_35-69.L2-1</td>\n",
       "      <td>0.999965</td>\n",
       "      <td>0.881611</td>\n",
       "      <td>0.614525</td>\n",
       "      <td>8.404957e-15</td>\n",
       "      <td>1.206978</td>\n",
       "    </tr>\n",
       "  </tbody>\n",
       "</table>\n",
       "</div>"
      ],
      "text/plain": [
       "                   Model  Train Score  Val Score  X Val Score    RMSE Train  \\\n",
       "0  m005_ALL_35-69.LinReg     1.000000   0.882940     0.616316  8.404957e-15   \n",
       "1    m005_ALL_35-69.L2-1     0.999965   0.881611     0.614525  8.404957e-15   \n",
       "\n",
       "   RMSE Val  \n",
       "0  1.206978  \n",
       "1  1.206978  "
      ]
     },
     "execution_count": 22,
     "metadata": {},
     "output_type": "execute_result"
    }
   ],
   "source": [
    "update_df(ridge, \"m005_ALL_35-69.L2-1\")"
   ]
  },
  {
   "cell_type": "code",
   "execution_count": 23,
   "id": "ea838d5d-de79-4499-8dbd-821a00d8a1be",
   "metadata": {
    "execution": {
     "iopub.execute_input": "2023-01-19T03:56:10.430659Z",
     "iopub.status.busy": "2023-01-19T03:56:10.430561Z",
     "iopub.status.idle": "2023-01-19T03:56:10.456781Z",
     "shell.execute_reply": "2023-01-19T03:56:10.456319Z",
     "shell.execute_reply.started": "2023-01-19T03:56:10.430651Z"
    },
    "tags": []
   },
   "outputs": [
    {
     "data": {
      "text/html": [
       "<style>#sk-container-id-3 {color: black;background-color: white;}#sk-container-id-3 pre{padding: 0;}#sk-container-id-3 div.sk-toggleable {background-color: white;}#sk-container-id-3 label.sk-toggleable__label {cursor: pointer;display: block;width: 100%;margin-bottom: 0;padding: 0.3em;box-sizing: border-box;text-align: center;}#sk-container-id-3 label.sk-toggleable__label-arrow:before {content: \"▸\";float: left;margin-right: 0.25em;color: #696969;}#sk-container-id-3 label.sk-toggleable__label-arrow:hover:before {color: black;}#sk-container-id-3 div.sk-estimator:hover label.sk-toggleable__label-arrow:before {color: black;}#sk-container-id-3 div.sk-toggleable__content {max-height: 0;max-width: 0;overflow: hidden;text-align: left;background-color: #f0f8ff;}#sk-container-id-3 div.sk-toggleable__content pre {margin: 0.2em;color: black;border-radius: 0.25em;background-color: #f0f8ff;}#sk-container-id-3 input.sk-toggleable__control:checked~div.sk-toggleable__content {max-height: 200px;max-width: 100%;overflow: auto;}#sk-container-id-3 input.sk-toggleable__control:checked~label.sk-toggleable__label-arrow:before {content: \"▾\";}#sk-container-id-3 div.sk-estimator input.sk-toggleable__control:checked~label.sk-toggleable__label {background-color: #d4ebff;}#sk-container-id-3 div.sk-label input.sk-toggleable__control:checked~label.sk-toggleable__label {background-color: #d4ebff;}#sk-container-id-3 input.sk-hidden--visually {border: 0;clip: rect(1px 1px 1px 1px);clip: rect(1px, 1px, 1px, 1px);height: 1px;margin: -1px;overflow: hidden;padding: 0;position: absolute;width: 1px;}#sk-container-id-3 div.sk-estimator {font-family: monospace;background-color: #f0f8ff;border: 1px dotted black;border-radius: 0.25em;box-sizing: border-box;margin-bottom: 0.5em;}#sk-container-id-3 div.sk-estimator:hover {background-color: #d4ebff;}#sk-container-id-3 div.sk-parallel-item::after {content: \"\";width: 100%;border-bottom: 1px solid gray;flex-grow: 1;}#sk-container-id-3 div.sk-label:hover label.sk-toggleable__label {background-color: #d4ebff;}#sk-container-id-3 div.sk-serial::before {content: \"\";position: absolute;border-left: 1px solid gray;box-sizing: border-box;top: 0;bottom: 0;left: 50%;z-index: 0;}#sk-container-id-3 div.sk-serial {display: flex;flex-direction: column;align-items: center;background-color: white;padding-right: 0.2em;padding-left: 0.2em;position: relative;}#sk-container-id-3 div.sk-item {position: relative;z-index: 1;}#sk-container-id-3 div.sk-parallel {display: flex;align-items: stretch;justify-content: center;background-color: white;position: relative;}#sk-container-id-3 div.sk-item::before, #sk-container-id-3 div.sk-parallel-item::before {content: \"\";position: absolute;border-left: 1px solid gray;box-sizing: border-box;top: 0;bottom: 0;left: 50%;z-index: -1;}#sk-container-id-3 div.sk-parallel-item {display: flex;flex-direction: column;z-index: 1;position: relative;background-color: white;}#sk-container-id-3 div.sk-parallel-item:first-child::after {align-self: flex-end;width: 50%;}#sk-container-id-3 div.sk-parallel-item:last-child::after {align-self: flex-start;width: 50%;}#sk-container-id-3 div.sk-parallel-item:only-child::after {width: 0;}#sk-container-id-3 div.sk-dashed-wrapped {border: 1px dashed gray;margin: 0 0.4em 0.5em 0.4em;box-sizing: border-box;padding-bottom: 0.4em;background-color: white;}#sk-container-id-3 div.sk-label label {font-family: monospace;font-weight: bold;display: inline-block;line-height: 1.2em;}#sk-container-id-3 div.sk-label-container {text-align: center;}#sk-container-id-3 div.sk-container {/* jupyter's `normalize.less` sets `[hidden] { display: none; }` but bootstrap.min.css set `[hidden] { display: none !important; }` so we also need the `!important` here to be able to override the default hidden behavior on the sphinx rendered scikit-learn.org. See: https://github.com/scikit-learn/scikit-learn/issues/21755 */display: inline-block !important;position: relative;}#sk-container-id-3 div.sk-text-repr-fallback {display: none;}</style><div id=\"sk-container-id-3\" class=\"sk-top-container\"><div class=\"sk-text-repr-fallback\"><pre>LassoCV(alphas=array([1.000e-03, 1.001e+00, 2.001e+00, 3.001e+00, 4.001e+00, 5.001e+00,\n",
       "       6.001e+00, 7.001e+00, 8.001e+00, 9.001e+00]))</pre><b>In a Jupyter environment, please rerun this cell to show the HTML representation or trust the notebook. <br />On GitHub, the HTML representation is unable to render, please try loading this page with nbviewer.org.</b></div><div class=\"sk-container\" hidden><div class=\"sk-item\"><div class=\"sk-estimator sk-toggleable\"><input class=\"sk-toggleable__control sk-hidden--visually\" id=\"sk-estimator-id-3\" type=\"checkbox\" checked><label for=\"sk-estimator-id-3\" class=\"sk-toggleable__label sk-toggleable__label-arrow\">LassoCV</label><div class=\"sk-toggleable__content\"><pre>LassoCV(alphas=array([1.000e-03, 1.001e+00, 2.001e+00, 3.001e+00, 4.001e+00, 5.001e+00,\n",
       "       6.001e+00, 7.001e+00, 8.001e+00, 9.001e+00]))</pre></div></div></div></div></div>"
      ],
      "text/plain": [
       "LassoCV(alphas=array([1.000e-03, 1.001e+00, 2.001e+00, 3.001e+00, 4.001e+00, 5.001e+00,\n",
       "       6.001e+00, 7.001e+00, 8.001e+00, 9.001e+00]))"
      ]
     },
     "execution_count": 23,
     "metadata": {},
     "output_type": "execute_result"
    }
   ],
   "source": [
    "lasso.fit(Xs_train, y_train)"
   ]
  },
  {
   "cell_type": "code",
   "execution_count": 24,
   "id": "9987b850-329b-43cf-b193-5a4b9774d91f",
   "metadata": {
    "execution": {
     "iopub.execute_input": "2023-01-19T03:56:10.457425Z",
     "iopub.status.busy": "2023-01-19T03:56:10.457320Z",
     "iopub.status.idle": "2023-01-19T03:56:10.593528Z",
     "shell.execute_reply": "2023-01-19T03:56:10.593087Z",
     "shell.execute_reply.started": "2023-01-19T03:56:10.457414Z"
    }
   },
   "outputs": [
    {
     "data": {
      "text/html": [
       "<div>\n",
       "<style scoped>\n",
       "    .dataframe tbody tr th:only-of-type {\n",
       "        vertical-align: middle;\n",
       "    }\n",
       "\n",
       "    .dataframe tbody tr th {\n",
       "        vertical-align: top;\n",
       "    }\n",
       "\n",
       "    .dataframe thead th {\n",
       "        text-align: right;\n",
       "    }\n",
       "</style>\n",
       "<table border=\"1\" class=\"dataframe\">\n",
       "  <thead>\n",
       "    <tr style=\"text-align: right;\">\n",
       "      <th></th>\n",
       "      <th>Model</th>\n",
       "      <th>Train Score</th>\n",
       "      <th>Val Score</th>\n",
       "      <th>X Val Score</th>\n",
       "      <th>RMSE Train</th>\n",
       "      <th>RMSE Val</th>\n",
       "    </tr>\n",
       "  </thead>\n",
       "  <tbody>\n",
       "    <tr>\n",
       "      <th>0</th>\n",
       "      <td>m005_ALL_35-69.LinReg</td>\n",
       "      <td>1.000000</td>\n",
       "      <td>0.882940</td>\n",
       "      <td>0.616316</td>\n",
       "      <td>8.404957e-15</td>\n",
       "      <td>1.206978</td>\n",
       "    </tr>\n",
       "    <tr>\n",
       "      <th>1</th>\n",
       "      <td>m005_ALL_35-69.L2-1</td>\n",
       "      <td>0.999965</td>\n",
       "      <td>0.881611</td>\n",
       "      <td>0.614525</td>\n",
       "      <td>8.404957e-15</td>\n",
       "      <td>1.206978</td>\n",
       "    </tr>\n",
       "    <tr>\n",
       "      <th>2</th>\n",
       "      <td>m005_ALL_35-69.L1-1</td>\n",
       "      <td>0.999998</td>\n",
       "      <td>0.999996</td>\n",
       "      <td>0.999285</td>\n",
       "      <td>8.404957e-15</td>\n",
       "      <td>1.206978</td>\n",
       "    </tr>\n",
       "  </tbody>\n",
       "</table>\n",
       "</div>"
      ],
      "text/plain": [
       "                   Model  Train Score  Val Score  X Val Score    RMSE Train  \\\n",
       "0  m005_ALL_35-69.LinReg     1.000000   0.882940     0.616316  8.404957e-15   \n",
       "1    m005_ALL_35-69.L2-1     0.999965   0.881611     0.614525  8.404957e-15   \n",
       "2    m005_ALL_35-69.L1-1     0.999998   0.999996     0.999285  8.404957e-15   \n",
       "\n",
       "   RMSE Val  \n",
       "0  1.206978  \n",
       "1  1.206978  \n",
       "2  1.206978  "
      ]
     },
     "execution_count": 24,
     "metadata": {},
     "output_type": "execute_result"
    }
   ],
   "source": [
    "update_df(lasso, \"m005_ALL_35-69.L1-1\")"
   ]
  },
  {
   "cell_type": "code",
   "execution_count": 25,
   "id": "08bd36d3-952a-492e-8b36-886a6c1a1fc9",
   "metadata": {
    "execution": {
     "iopub.execute_input": "2023-01-19T03:56:10.594293Z",
     "iopub.status.busy": "2023-01-19T03:56:10.594193Z",
     "iopub.status.idle": "2023-01-19T03:56:10.597382Z",
     "shell.execute_reply": "2023-01-19T03:56:10.597046Z",
     "shell.execute_reply.started": "2023-01-19T03:56:10.594284Z"
    },
    "tags": []
   },
   "outputs": [
    {
     "data": {
      "text/plain": [
       "array(['q022', 'q096', 'q102', 'q105', 'q121', 'q122', 'q126', 'q152',\n",
       "       'd038', 'm008_MEDICALc', 'm010_NONMEDc', 'p027', 'p034', 'p042',\n",
       "       'r002', 'r016', 'r026'], dtype=object)"
      ]
     },
     "execution_count": 25,
     "metadata": {},
     "output_type": "execute_result"
    }
   ],
   "source": [
    "importance = np.abs(lasso.coef_)\n",
    "features = X.columns\n",
    "np.array(features)[importance>0]"
   ]
  },
  {
   "cell_type": "code",
   "execution_count": 26,
   "id": "063869ca-3418-4d77-ae5b-c729b6243277",
   "metadata": {
    "execution": {
     "iopub.execute_input": "2023-01-19T03:56:10.597908Z",
     "iopub.status.busy": "2023-01-19T03:56:10.597777Z",
     "iopub.status.idle": "2023-01-19T03:56:10.600275Z",
     "shell.execute_reply": "2023-01-19T03:56:10.599972Z",
     "shell.execute_reply.started": "2023-01-19T03:56:10.597896Z"
    },
    "tags": []
   },
   "outputs": [],
   "source": [
    "# np.array(features)\n",
    "# importance\n",
    "feat_imp = pd.DataFrame({'features':features, 'importance':importance}, columns=['features','importance'])"
   ]
  },
  {
   "cell_type": "markdown",
   "id": "c8f5f131-72dd-4497-9bf2-7667d9b53907",
   "metadata": {},
   "source": [
    "It'd be nice to be able to pull the code descriptions without searching the whole sheet one at a time. "
   ]
  },
  {
   "cell_type": "code",
   "execution_count": 27,
   "id": "8d32645f-9592-44fb-a518-dc6bb08616f5",
   "metadata": {
    "execution": {
     "iopub.execute_input": "2023-01-19T03:56:10.600826Z",
     "iopub.status.busy": "2023-01-19T03:56:10.600748Z",
     "iopub.status.idle": "2023-01-19T03:56:10.604002Z",
     "shell.execute_reply": "2023-01-19T03:56:10.603622Z",
     "shell.execute_reply.started": "2023-01-19T03:56:10.600818Z"
    },
    "tags": []
   },
   "outputs": [],
   "source": [
    "with open('./data/CHNAME.txt', 'r') as file:\n",
    "    data = file.read()\n",
    "    rows = data.split('\\n')\n",
    "\n",
    "descriptions = pd.DataFrame(rows)"
   ]
  },
  {
   "cell_type": "code",
   "execution_count": 28,
   "id": "de082cd4-a5f9-4b62-a941-cd9c3bda3cac",
   "metadata": {
    "execution": {
     "iopub.execute_input": "2023-01-19T03:56:10.604534Z",
     "iopub.status.busy": "2023-01-19T03:56:10.604433Z",
     "iopub.status.idle": "2023-01-19T03:56:10.610159Z",
     "shell.execute_reply": "2023-01-19T03:56:10.609755Z",
     "shell.execute_reply.started": "2023-01-19T03:56:10.604525Z"
    },
    "tags": []
   },
   "outputs": [
    {
     "name": "stderr",
     "output_type": "stream",
     "text": [
      "/var/folders/2f/m4z0nfhn5px0p2mdppmmrlxr0000gn/T/ipykernel_45950/2593100514.py:4: SettingWithCopyWarning: \n",
      "A value is trying to be set on a copy of a slice from a DataFrame.\n",
      "Try using .loc[row_indexer,col_indexer] = value instead\n",
      "\n",
      "See the caveats in the documentation: https://pandas.pydata.org/pandas-docs/stable/user_guide/indexing.html#returning-a-view-versus-a-copy\n",
      "  text_df['code'] = text_df[0].str.split(expand=True).iloc[:,0]\n"
     ]
    },
    {
     "data": {
      "text/html": [
       "<div>\n",
       "<style scoped>\n",
       "    .dataframe tbody tr th:only-of-type {\n",
       "        vertical-align: middle;\n",
       "    }\n",
       "\n",
       "    .dataframe tbody tr th {\n",
       "        vertical-align: top;\n",
       "    }\n",
       "\n",
       "    .dataframe thead th {\n",
       "        text-align: right;\n",
       "    }\n",
       "</style>\n",
       "<table border=\"1\" class=\"dataframe\">\n",
       "  <thead>\n",
       "    <tr style=\"text-align: right;\">\n",
       "      <th></th>\n",
       "      <th>0</th>\n",
       "      <th>code</th>\n",
       "    </tr>\n",
       "  </thead>\n",
       "  <tbody>\n",
       "    <tr>\n",
       "      <th>0</th>\n",
       "      <td>M001 ALL0-4     mortality ALL CAUSES AGE 0-4 (...</td>\n",
       "      <td>M001</td>\n",
       "    </tr>\n",
       "    <tr>\n",
       "      <th>2</th>\n",
       "      <td>M002 ALL5-14    mortality ALL CAUSES AGE 5-14 ...</td>\n",
       "      <td>M002</td>\n",
       "    </tr>\n",
       "    <tr>\n",
       "      <th>4</th>\n",
       "      <td>M003 ALL15-34   mortality ALL CAUSES AGE 15-34...</td>\n",
       "      <td>M003</td>\n",
       "    </tr>\n",
       "    <tr>\n",
       "      <th>6</th>\n",
       "      <td>M004 ALL0-34    mortality ALL CAUSES AGE 0-34 ...</td>\n",
       "      <td>M004</td>\n",
       "    </tr>\n",
       "    <tr>\n",
       "      <th>8</th>\n",
       "      <td>M005 ALL35-69   mortality ALL CAUSES AGE 35-69...</td>\n",
       "      <td>M005</td>\n",
       "    </tr>\n",
       "  </tbody>\n",
       "</table>\n",
       "</div>"
      ],
      "text/plain": [
       "                                                   0  code\n",
       "0  M001 ALL0-4     mortality ALL CAUSES AGE 0-4 (...  M001\n",
       "2  M002 ALL5-14    mortality ALL CAUSES AGE 5-14 ...  M002\n",
       "4  M003 ALL15-34   mortality ALL CAUSES AGE 15-34...  M003\n",
       "6  M004 ALL0-34    mortality ALL CAUSES AGE 0-34 ...  M004\n",
       "8  M005 ALL35-69   mortality ALL CAUSES AGE 35-69...  M005"
      ]
     },
     "execution_count": 28,
     "metadata": {},
     "output_type": "execute_result"
    }
   ],
   "source": [
    "# descriptions.head()\n",
    "# return every other row\n",
    "text_df = descriptions.iloc[::2,:]\n",
    "text_df['code'] = text_df[0].str.split(expand=True).iloc[:,0]\n",
    "text_df.head()"
   ]
  },
  {
   "cell_type": "code",
   "execution_count": 29,
   "id": "a25b2aed-a0c3-40c4-b43b-8eafa4192151",
   "metadata": {
    "execution": {
     "iopub.execute_input": "2023-01-19T03:56:10.610775Z",
     "iopub.status.busy": "2023-01-19T03:56:10.610697Z",
     "iopub.status.idle": "2023-01-19T03:56:10.613336Z",
     "shell.execute_reply": "2023-01-19T03:56:10.612907Z",
     "shell.execute_reply.started": "2023-01-19T03:56:10.610767Z"
    },
    "tags": []
   },
   "outputs": [
    {
     "name": "stderr",
     "output_type": "stream",
     "text": [
      "/var/folders/2f/m4z0nfhn5px0p2mdppmmrlxr0000gn/T/ipykernel_45950/360386991.py:1: SettingWithCopyWarning: \n",
      "A value is trying to be set on a copy of a slice from a DataFrame\n",
      "\n",
      "See the caveats in the documentation: https://pandas.pydata.org/pandas-docs/stable/user_guide/indexing.html#returning-a-view-versus-a-copy\n",
      "  text_df.rename(columns={0:'description'}, inplace=True)\n"
     ]
    }
   ],
   "source": [
    "text_df.rename(columns={0:'description'}, inplace=True)"
   ]
  },
  {
   "cell_type": "code",
   "execution_count": 30,
   "id": "844bb26d-3fda-4cd4-9d4c-4c23d8165965",
   "metadata": {
    "execution": {
     "iopub.execute_input": "2023-01-19T03:56:10.613838Z",
     "iopub.status.busy": "2023-01-19T03:56:10.613751Z",
     "iopub.status.idle": "2023-01-19T03:56:10.616088Z",
     "shell.execute_reply": "2023-01-19T03:56:10.615755Z",
     "shell.execute_reply.started": "2023-01-19T03:56:10.613829Z"
    },
    "tags": []
   },
   "outputs": [
    {
     "name": "stderr",
     "output_type": "stream",
     "text": [
      "/var/folders/2f/m4z0nfhn5px0p2mdppmmrlxr0000gn/T/ipykernel_45950/2186823998.py:1: SettingWithCopyWarning: \n",
      "A value is trying to be set on a copy of a slice from a DataFrame.\n",
      "Try using .loc[row_indexer,col_indexer] = value instead\n",
      "\n",
      "See the caveats in the documentation: https://pandas.pydata.org/pandas-docs/stable/user_guide/indexing.html#returning-a-view-versus-a-copy\n",
      "  text_df['code'] = text_df['code'].str.lower()\n"
     ]
    }
   ],
   "source": [
    "text_df['code'] = text_df['code'].str.lower()"
   ]
  },
  {
   "cell_type": "code",
   "execution_count": 31,
   "id": "8756f353-5db8-4086-afd2-4d6faf6055de",
   "metadata": {
    "execution": {
     "iopub.execute_input": "2023-01-19T03:56:10.616671Z",
     "iopub.status.busy": "2023-01-19T03:56:10.616595Z",
     "iopub.status.idle": "2023-01-19T03:56:10.619931Z",
     "shell.execute_reply": "2023-01-19T03:56:10.619521Z",
     "shell.execute_reply.started": "2023-01-19T03:56:10.616664Z"
    }
   },
   "outputs": [
    {
     "data": {
      "text/html": [
       "<div>\n",
       "<style scoped>\n",
       "    .dataframe tbody tr th:only-of-type {\n",
       "        vertical-align: middle;\n",
       "    }\n",
       "\n",
       "    .dataframe tbody tr th {\n",
       "        vertical-align: top;\n",
       "    }\n",
       "\n",
       "    .dataframe thead th {\n",
       "        text-align: right;\n",
       "    }\n",
       "</style>\n",
       "<table border=\"1\" class=\"dataframe\">\n",
       "  <thead>\n",
       "    <tr style=\"text-align: right;\">\n",
       "      <th></th>\n",
       "      <th>description</th>\n",
       "      <th>code</th>\n",
       "    </tr>\n",
       "  </thead>\n",
       "  <tbody>\n",
       "    <tr>\n",
       "      <th>0</th>\n",
       "      <td>M001 ALL0-4     mortality ALL CAUSES AGE 0-4 (...</td>\n",
       "      <td>m001</td>\n",
       "    </tr>\n",
       "    <tr>\n",
       "      <th>2</th>\n",
       "      <td>M002 ALL5-14    mortality ALL CAUSES AGE 5-14 ...</td>\n",
       "      <td>m002</td>\n",
       "    </tr>\n",
       "    <tr>\n",
       "      <th>4</th>\n",
       "      <td>M003 ALL15-34   mortality ALL CAUSES AGE 15-34...</td>\n",
       "      <td>m003</td>\n",
       "    </tr>\n",
       "    <tr>\n",
       "      <th>6</th>\n",
       "      <td>M004 ALL0-34    mortality ALL CAUSES AGE 0-34 ...</td>\n",
       "      <td>m004</td>\n",
       "    </tr>\n",
       "    <tr>\n",
       "      <th>8</th>\n",
       "      <td>M005 ALL35-69   mortality ALL CAUSES AGE 35-69...</td>\n",
       "      <td>m005</td>\n",
       "    </tr>\n",
       "  </tbody>\n",
       "</table>\n",
       "</div>"
      ],
      "text/plain": [
       "                                         description  code\n",
       "0  M001 ALL0-4     mortality ALL CAUSES AGE 0-4 (...  m001\n",
       "2  M002 ALL5-14    mortality ALL CAUSES AGE 5-14 ...  m002\n",
       "4  M003 ALL15-34   mortality ALL CAUSES AGE 15-34...  m003\n",
       "6  M004 ALL0-34    mortality ALL CAUSES AGE 0-34 ...  m004\n",
       "8  M005 ALL35-69   mortality ALL CAUSES AGE 35-69...  m005"
      ]
     },
     "execution_count": 31,
     "metadata": {},
     "output_type": "execute_result"
    }
   ],
   "source": [
    "text_df.head()"
   ]
  },
  {
   "cell_type": "code",
   "execution_count": 32,
   "id": "1f5bbf94-7d15-4f7e-8a6c-ee2e1e057478",
   "metadata": {
    "execution": {
     "iopub.execute_input": "2023-01-19T03:56:10.620592Z",
     "iopub.status.busy": "2023-01-19T03:56:10.620460Z",
     "iopub.status.idle": "2023-01-19T03:56:10.624991Z",
     "shell.execute_reply": "2023-01-19T03:56:10.624688Z",
     "shell.execute_reply.started": "2023-01-19T03:56:10.620552Z"
    },
    "tags": []
   },
   "outputs": [],
   "source": [
    "feat_imp = feat_imp.merge(text_df, left_on='features', right_on='code', how='left').drop(columns = ['code'])"
   ]
  },
  {
   "cell_type": "code",
   "execution_count": 33,
   "id": "10d7111e-02ce-4031-a986-bb6c6991a9e9",
   "metadata": {
    "execution": {
     "iopub.execute_input": "2023-01-19T03:56:10.625548Z",
     "iopub.status.busy": "2023-01-19T03:56:10.625444Z",
     "iopub.status.idle": "2023-01-19T03:56:10.627971Z",
     "shell.execute_reply": "2023-01-19T03:56:10.627487Z",
     "shell.execute_reply.started": "2023-01-19T03:56:10.625538Z"
    },
    "tags": []
   },
   "outputs": [],
   "source": [
    "pd.set_option('max_colwidth', 150) # so I can see the full descriptions"
   ]
  },
  {
   "cell_type": "code",
   "execution_count": 34,
   "id": "7dc6061d-080b-4eb6-a6b1-e5f0690908a8",
   "metadata": {
    "execution": {
     "iopub.execute_input": "2023-01-19T03:56:10.628515Z",
     "iopub.status.busy": "2023-01-19T03:56:10.628409Z",
     "iopub.status.idle": "2023-01-19T03:56:10.633747Z",
     "shell.execute_reply": "2023-01-19T03:56:10.633286Z",
     "shell.execute_reply.started": "2023-01-19T03:56:10.628504Z"
    },
    "tags": []
   },
   "outputs": [
    {
     "data": {
      "text/html": [
       "<div>\n",
       "<style scoped>\n",
       "    .dataframe tbody tr th:only-of-type {\n",
       "        vertical-align: middle;\n",
       "    }\n",
       "\n",
       "    .dataframe tbody tr th {\n",
       "        vertical-align: top;\n",
       "    }\n",
       "\n",
       "    .dataframe thead th {\n",
       "        text-align: right;\n",
       "    }\n",
       "</style>\n",
       "<table border=\"1\" class=\"dataframe\">\n",
       "  <thead>\n",
       "    <tr style=\"text-align: right;\">\n",
       "      <th></th>\n",
       "      <th>features</th>\n",
       "      <th>importance</th>\n",
       "      <th>description</th>\n",
       "    </tr>\n",
       "  </thead>\n",
       "  <tbody>\n",
       "    <tr>\n",
       "      <th>3</th>\n",
       "      <td>q022</td>\n",
       "      <td>0.000505</td>\n",
       "      <td>Q022 dEDUCATED  questionnaire PERCENTAGE WHO ARE WELL-EDUCATED</td>\n",
       "    </tr>\n",
       "    <tr>\n",
       "      <th>23</th>\n",
       "      <td>q096</td>\n",
       "      <td>0.000027</td>\n",
       "      <td>Q096 dMALARIA   questionnaire PERCENTAGE WITH HISTORY OF MALARIA DIAGNOSIS</td>\n",
       "    </tr>\n",
       "    <tr>\n",
       "      <th>29</th>\n",
       "      <td>q102</td>\n",
       "      <td>0.000886</td>\n",
       "      <td>Q102 dPHLEGMw   questionnaire PERCENTAGE WHO COUGH UP PHLEGM MOST MORNINGS IN WINTER</td>\n",
       "    </tr>\n",
       "    <tr>\n",
       "      <th>32</th>\n",
       "      <td>q105</td>\n",
       "      <td>0.000454</td>\n",
       "      <td>Q105 dPHLEGMyr  questionnaire NUMBER OF YEARS TROUBLED BY PHLEGM (years)</td>\n",
       "    </tr>\n",
       "    <tr>\n",
       "      <th>40</th>\n",
       "      <td>q121</td>\n",
       "      <td>0.000025</td>\n",
       "      <td>Q121 dANTIBIOT  questionnaire PERCENTAGE USED MAINLY WESTERN ANTIBIOTICS DURING PAST 6 MONTHS</td>\n",
       "    </tr>\n",
       "    <tr>\n",
       "      <th>41</th>\n",
       "      <td>q122</td>\n",
       "      <td>0.000499</td>\n",
       "      <td>Q122 dANTACID   questionnaire PERCENTAGE USED MAINLY WESTERN ANTACIDS DURING PAST 6 MONTHS</td>\n",
       "    </tr>\n",
       "    <tr>\n",
       "      <th>45</th>\n",
       "      <td>q126</td>\n",
       "      <td>0.000855</td>\n",
       "      <td>Q126 dWTLOSS    questionnaire PERCENTAGE WHO LOST WEIGHT DURING FOOD SHORTAGE</td>\n",
       "    </tr>\n",
       "    <tr>\n",
       "      <th>61</th>\n",
       "      <td>q152</td>\n",
       "      <td>0.000007</td>\n",
       "      <td>Q152 dWINE      questionnaire PERCENTAGE WHO HAVE EVER DRUNK WINE 3 OR MORE DAYS A WEEK FOR 6 MONTHS</td>\n",
       "    </tr>\n",
       "    <tr>\n",
       "      <th>107</th>\n",
       "      <td>d038</td>\n",
       "      <td>0.000116</td>\n",
       "      <td>D038 WHTFLOUR   diet survey WHEAT FLOUR INTAKE (g/day/reference man, air-dry basis)</td>\n",
       "    </tr>\n",
       "    <tr>\n",
       "      <th>127</th>\n",
       "      <td>m008_MEDICALc</td>\n",
       "      <td>2.879213</td>\n",
       "      <td>NaN</td>\n",
       "    </tr>\n",
       "    <tr>\n",
       "      <th>133</th>\n",
       "      <td>m010_NONMEDc</td>\n",
       "      <td>0.441840</td>\n",
       "      <td>NaN</td>\n",
       "    </tr>\n",
       "    <tr>\n",
       "      <th>159</th>\n",
       "      <td>p027</td>\n",
       "      <td>0.000771</td>\n",
       "      <td>P027 Cu         plasma COPPER (mg/dL)</td>\n",
       "    </tr>\n",
       "    <tr>\n",
       "      <th>164</th>\n",
       "      <td>p034</td>\n",
       "      <td>0.000505</td>\n",
       "      <td>P034 TIBC       plasma TOTAL IRON BINDING CAPACITY (ug/dL)</td>\n",
       "    </tr>\n",
       "    <tr>\n",
       "      <th>168</th>\n",
       "      <td>p042</td>\n",
       "      <td>0.000800</td>\n",
       "      <td>P042 HBsAg      plasma HEPATITIS B SURFACE ANTIGEN</td>\n",
       "    </tr>\n",
       "    <tr>\n",
       "      <th>172</th>\n",
       "      <td>r002</td>\n",
       "      <td>0.000232</td>\n",
       "      <td>R002 RIBOFDEF   red blood cell RIBOFLAVIN DEFICIENCY (glutathione reductase activity coefficient)</td>\n",
       "    </tr>\n",
       "    <tr>\n",
       "      <th>186</th>\n",
       "      <td>r016</td>\n",
       "      <td>0.000822</td>\n",
       "      <td>R016 18:1n9     red blood cell TOTAL LIPID OLEIC ACID (18:1(9)) (% of total fatty acid by weight)</td>\n",
       "    </tr>\n",
       "    <tr>\n",
       "      <th>196</th>\n",
       "      <td>r026</td>\n",
       "      <td>0.000305</td>\n",
       "      <td>R026 20:4n6     red blood cell TOTAL LIPID ARACHIDONIC ACID (20:4(6)) (% of total fatty acid by weight)</td>\n",
       "    </tr>\n",
       "  </tbody>\n",
       "</table>\n",
       "</div>"
      ],
      "text/plain": [
       "          features  importance  \\\n",
       "3             q022    0.000505   \n",
       "23            q096    0.000027   \n",
       "29            q102    0.000886   \n",
       "32            q105    0.000454   \n",
       "40            q121    0.000025   \n",
       "41            q122    0.000499   \n",
       "45            q126    0.000855   \n",
       "61            q152    0.000007   \n",
       "107           d038    0.000116   \n",
       "127  m008_MEDICALc    2.879213   \n",
       "133   m010_NONMEDc    0.441840   \n",
       "159           p027    0.000771   \n",
       "164           p034    0.000505   \n",
       "168           p042    0.000800   \n",
       "172           r002    0.000232   \n",
       "186           r016    0.000822   \n",
       "196           r026    0.000305   \n",
       "\n",
       "                                                                                                                           description  \n",
       "3    Q022 dEDUCATED  questionnaire PERCENTAGE WHO ARE WELL-EDUCATED                                                                     \n",
       "23   Q096 dMALARIA   questionnaire PERCENTAGE WITH HISTORY OF MALARIA DIAGNOSIS                                                         \n",
       "29   Q102 dPHLEGMw   questionnaire PERCENTAGE WHO COUGH UP PHLEGM MOST MORNINGS IN WINTER                                               \n",
       "32   Q105 dPHLEGMyr  questionnaire NUMBER OF YEARS TROUBLED BY PHLEGM (years)                                                           \n",
       "40   Q121 dANTIBIOT  questionnaire PERCENTAGE USED MAINLY WESTERN ANTIBIOTICS DURING PAST 6 MONTHS                                      \n",
       "41   Q122 dANTACID   questionnaire PERCENTAGE USED MAINLY WESTERN ANTACIDS DURING PAST 6 MONTHS                                         \n",
       "45   Q126 dWTLOSS    questionnaire PERCENTAGE WHO LOST WEIGHT DURING FOOD SHORTAGE                                                      \n",
       "61   Q152 dWINE      questionnaire PERCENTAGE WHO HAVE EVER DRUNK WINE 3 OR MORE DAYS A WEEK FOR 6 MONTHS                               \n",
       "107  D038 WHTFLOUR   diet survey WHEAT FLOUR INTAKE (g/day/reference man, air-dry basis)                                                \n",
       "127                                                                                                                                NaN  \n",
       "133                                                                                                                                NaN  \n",
       "159  P027 Cu         plasma COPPER (mg/dL)                                                                                              \n",
       "164  P034 TIBC       plasma TOTAL IRON BINDING CAPACITY (ug/dL)                                                                         \n",
       "168  P042 HBsAg      plasma HEPATITIS B SURFACE ANTIGEN                                                                                 \n",
       "172  R002 RIBOFDEF   red blood cell RIBOFLAVIN DEFICIENCY (glutathione reductase activity coefficient)                                  \n",
       "186  R016 18:1n9     red blood cell TOTAL LIPID OLEIC ACID (18:1(9)) (% of total fatty acid by weight)                                  \n",
       "196  R026 20:4n6     red blood cell TOTAL LIPID ARACHIDONIC ACID (20:4(6)) (% of total fatty acid by weight)                            "
      ]
     },
     "execution_count": 34,
     "metadata": {},
     "output_type": "execute_result"
    }
   ],
   "source": [
    "feat_imp[feat_imp['importance']>0]"
   ]
  },
  {
   "cell_type": "markdown",
   "id": "2645033f-49aa-4857-b5ac-15bcf398907a",
   "metadata": {
    "execution": {
     "iopub.execute_input": "2023-01-18T01:42:07.859347Z",
     "iopub.status.busy": "2023-01-18T01:42:07.858730Z",
     "iopub.status.idle": "2023-01-18T01:42:07.864720Z",
     "shell.execute_reply": "2023-01-18T01:42:07.863787Z",
     "shell.execute_reply.started": "2023-01-18T01:42:07.859303Z"
    }
   },
   "source": [
    "We don't want other mortality reasons to affect our predictors. We will remove them from the feature list moving forward. For now, let's see what happens without the nonmedical mortality column"
   ]
  },
  {
   "cell_type": "code",
   "execution_count": 35,
   "id": "057b2380-6928-4daf-a72b-9ead71cc1e04",
   "metadata": {
    "execution": {
     "iopub.execute_input": "2023-01-19T03:56:10.634435Z",
     "iopub.status.busy": "2023-01-19T03:56:10.634276Z",
     "iopub.status.idle": "2023-01-19T03:56:10.638934Z",
     "shell.execute_reply": "2023-01-19T03:56:10.638567Z",
     "shell.execute_reply.started": "2023-01-19T03:56:10.634400Z"
    }
   },
   "outputs": [
    {
     "data": {
      "text/plain": [
       "count    66.000000\n",
       "mean     12.991667\n",
       "std       3.039937\n",
       "min       8.010000\n",
       "25%      10.467500\n",
       "50%      13.040000\n",
       "75%      14.940000\n",
       "max      21.230000\n",
       "Name: m008_MEDICALc, dtype: float64"
      ]
     },
     "execution_count": 35,
     "metadata": {},
     "output_type": "execute_result"
    }
   ],
   "source": [
    "clean_df['m008_MEDICALc'].describe()"
   ]
  },
  {
   "cell_type": "code",
   "execution_count": 36,
   "id": "086200dc-8cd6-4fe4-83c6-8bd65e1d05d3",
   "metadata": {
    "execution": {
     "iopub.execute_input": "2023-01-19T03:56:10.639394Z",
     "iopub.status.busy": "2023-01-19T03:56:10.639316Z",
     "iopub.status.idle": "2023-01-19T03:56:10.641533Z",
     "shell.execute_reply": "2023-01-19T03:56:10.641229Z",
     "shell.execute_reply.started": "2023-01-19T03:56:10.639386Z"
    },
    "tags": []
   },
   "outputs": [],
   "source": [
    "drop_columns = ['county', 'sex', 'xiang','m010_NONMEDc','m005_ALL35_69']"
   ]
  },
  {
   "cell_type": "code",
   "execution_count": 37,
   "id": "e8af630d-2d68-46a9-ac2a-79acd547cb8e",
   "metadata": {
    "execution": {
     "iopub.execute_input": "2023-01-19T03:56:10.641995Z",
     "iopub.status.busy": "2023-01-19T03:56:10.641917Z",
     "iopub.status.idle": "2023-01-19T03:56:10.644990Z",
     "shell.execute_reply": "2023-01-19T03:56:10.644708Z",
     "shell.execute_reply.started": "2023-01-19T03:56:10.641987Z"
    },
    "tags": []
   },
   "outputs": [],
   "source": [
    "X = clean_df.drop(columns = drop_columns)\n",
    "y = clean_df['m005_ALL35_69']\n",
    "\n",
    "X_train, X_test, y_train, y_test = train_test_split(X, y, random_state=33)"
   ]
  },
  {
   "cell_type": "code",
   "execution_count": 38,
   "id": "bb228080-b961-4674-98be-af0c6128c929",
   "metadata": {
    "execution": {
     "iopub.execute_input": "2023-01-19T03:56:10.645395Z",
     "iopub.status.busy": "2023-01-19T03:56:10.645319Z",
     "iopub.status.idle": "2023-01-19T03:56:10.651221Z",
     "shell.execute_reply": "2023-01-19T03:56:10.650833Z",
     "shell.execute_reply.started": "2023-01-19T03:56:10.645387Z"
    }
   },
   "outputs": [],
   "source": [
    "Xs_train = ss.fit_transform(X_train)\n",
    "Xs_test = ss.transform(X_test)"
   ]
  },
  {
   "cell_type": "code",
   "execution_count": 39,
   "id": "aa0352cf-1a2e-4227-be4d-a9b031a763b3",
   "metadata": {
    "execution": {
     "iopub.execute_input": "2023-01-19T03:56:10.651792Z",
     "iopub.status.busy": "2023-01-19T03:56:10.651690Z",
     "iopub.status.idle": "2023-01-19T03:56:10.872455Z",
     "shell.execute_reply": "2023-01-19T03:56:10.872083Z",
     "shell.execute_reply.started": "2023-01-19T03:56:10.651782Z"
    },
    "tags": []
   },
   "outputs": [
    {
     "name": "stderr",
     "output_type": "stream",
     "text": [
      "/Users/colby/miniforge3/envs/tfm1/lib/python3.9/site-packages/sklearn/linear_model/_coordinate_descent.py:648: ConvergenceWarning: Objective did not converge. You might want to increase the number of iterations, check the scale of the features or consider increasing regularisation. Duality gap: 8.310e-02, tolerance: 4.664e-02\n",
      "  model = cd_fast.enet_coordinate_descent(\n"
     ]
    },
    {
     "data": {
      "text/html": [
       "<div>\n",
       "<style scoped>\n",
       "    .dataframe tbody tr th:only-of-type {\n",
       "        vertical-align: middle;\n",
       "    }\n",
       "\n",
       "    .dataframe tbody tr th {\n",
       "        vertical-align: top;\n",
       "    }\n",
       "\n",
       "    .dataframe thead th {\n",
       "        text-align: right;\n",
       "    }\n",
       "</style>\n",
       "<table border=\"1\" class=\"dataframe\">\n",
       "  <thead>\n",
       "    <tr style=\"text-align: right;\">\n",
       "      <th></th>\n",
       "      <th>Model</th>\n",
       "      <th>Train Score</th>\n",
       "      <th>Val Score</th>\n",
       "      <th>X Val Score</th>\n",
       "      <th>RMSE Train</th>\n",
       "      <th>RMSE Val</th>\n",
       "    </tr>\n",
       "  </thead>\n",
       "  <tbody>\n",
       "    <tr>\n",
       "      <th>0</th>\n",
       "      <td>m005_ALL_35-69.LinReg</td>\n",
       "      <td>1.000000</td>\n",
       "      <td>0.882940</td>\n",
       "      <td>0.616316</td>\n",
       "      <td>8.404957e-15</td>\n",
       "      <td>1.206978</td>\n",
       "    </tr>\n",
       "    <tr>\n",
       "      <th>1</th>\n",
       "      <td>m005_ALL_35-69.L2-1</td>\n",
       "      <td>0.999965</td>\n",
       "      <td>0.881611</td>\n",
       "      <td>0.614525</td>\n",
       "      <td>8.404957e-15</td>\n",
       "      <td>1.206978</td>\n",
       "    </tr>\n",
       "    <tr>\n",
       "      <th>2</th>\n",
       "      <td>m005_ALL_35-69.L1-1</td>\n",
       "      <td>0.999998</td>\n",
       "      <td>0.999996</td>\n",
       "      <td>0.999285</td>\n",
       "      <td>8.404957e-15</td>\n",
       "      <td>1.206978</td>\n",
       "    </tr>\n",
       "    <tr>\n",
       "      <th>3</th>\n",
       "      <td>m005_ALL_35-69.L1-2</td>\n",
       "      <td>0.999989</td>\n",
       "      <td>0.988186</td>\n",
       "      <td>0.931555</td>\n",
       "      <td>5.548124e-15</td>\n",
       "      <td>1.264333</td>\n",
       "    </tr>\n",
       "  </tbody>\n",
       "</table>\n",
       "</div>"
      ],
      "text/plain": [
       "                   Model  Train Score  Val Score  X Val Score    RMSE Train  \\\n",
       "0  m005_ALL_35-69.LinReg     1.000000   0.882940     0.616316  8.404957e-15   \n",
       "1    m005_ALL_35-69.L2-1     0.999965   0.881611     0.614525  8.404957e-15   \n",
       "2    m005_ALL_35-69.L1-1     0.999998   0.999996     0.999285  8.404957e-15   \n",
       "3    m005_ALL_35-69.L1-2     0.999989   0.988186     0.931555  5.548124e-15   \n",
       "\n",
       "   RMSE Val  \n",
       "0  1.206978  \n",
       "1  1.206978  \n",
       "2  1.206978  \n",
       "3  1.264333  "
      ]
     },
     "execution_count": 39,
     "metadata": {},
     "output_type": "execute_result"
    }
   ],
   "source": [
    "lr.fit(Xs_train, y_train)\n",
    "lasso.fit(Xs_train, y_train)\n",
    "update_df(lasso, \"m005_ALL_35-69.L1-2\")"
   ]
  },
  {
   "cell_type": "markdown",
   "id": "0ad7404d-0f84-44a2-a217-4cd190171096",
   "metadata": {},
   "source": [
    "These initial models all hold the mortality columns to train off of. Since we want to predict these columns, let's remove them all from the training data entirely to see if we're truly leaking data."
   ]
  },
  {
   "cell_type": "code",
   "execution_count": 40,
   "id": "625feeb7-df3a-400b-ab01-61433eb1cdfd",
   "metadata": {
    "execution": {
     "iopub.execute_input": "2023-01-19T03:56:10.873147Z",
     "iopub.status.busy": "2023-01-19T03:56:10.872998Z",
     "iopub.status.idle": "2023-01-19T03:56:10.875331Z",
     "shell.execute_reply": "2023-01-19T03:56:10.875013Z",
     "shell.execute_reply.started": "2023-01-19T03:56:10.873135Z"
    },
    "tags": []
   },
   "outputs": [],
   "source": [
    "# clean_df.columns.to_list()\n",
    " # All the mortality columns\n",
    " # 'm005_ALL35_69',\n",
    " # 'm008_MEDICALc',\n",
    " # 'm065_STROKEc',\n",
    " # 'm023_ALLCAc',\n",
    " # 'm059_ALLVASCc',\n",
    " # 'm028_OESOPHCAc',\n",
    " # 'm072_COPDc',\n",
    " # 'm010_NONMEDc',"
   ]
  },
  {
   "cell_type": "code",
   "execution_count": 41,
   "id": "80913c17-3c62-4fd0-a224-cec91b6a9348",
   "metadata": {
    "execution": {
     "iopub.execute_input": "2023-01-19T03:56:10.875743Z",
     "iopub.status.busy": "2023-01-19T03:56:10.875660Z",
     "iopub.status.idle": "2023-01-19T03:56:10.878006Z",
     "shell.execute_reply": "2023-01-19T03:56:10.877678Z",
     "shell.execute_reply.started": "2023-01-19T03:56:10.875734Z"
    },
    "tags": []
   },
   "outputs": [],
   "source": [
    "features_dropped = ['county', 'sex', 'xiang','m010_NONMEDc',\\\n",
    "                    'm005_ALL35_69', 'm008_MEDICALc', 'm065_STROKEc',\\\n",
    "                   'm023_ALLCAc', 'm059_ALLVASCc', 'm028_OESOPHCAc', 'm072_COPDc',\\\n",
    "                   'm072_COPDc']\n",
    "\n",
    "mortality_feat = ['m010_NONMEDc', 'm005_ALL35_69', 'm008_MEDICALc', 'm065_STROKEc',\\\n",
    "                   'm023_ALLCAc', 'm059_ALLVASCc', 'm028_OESOPHCAc', 'm072_COPDc']"
   ]
  },
  {
   "cell_type": "code",
   "execution_count": 42,
   "id": "5f838ef6-7247-44f1-96f4-f4767202c6c6",
   "metadata": {
    "execution": {
     "iopub.execute_input": "2023-01-19T03:56:10.878680Z",
     "iopub.status.busy": "2023-01-19T03:56:10.878544Z",
     "iopub.status.idle": "2023-01-19T03:56:13.160492Z",
     "shell.execute_reply": "2023-01-19T03:56:13.160010Z",
     "shell.execute_reply.started": "2023-01-19T03:56:10.878670Z"
    },
    "tags": []
   },
   "outputs": [],
   "source": [
    "# Creating one code block to take care of all the models in one go:\n",
    "lr = LinearRegression()\n",
    "ss = StandardScaler()\n",
    "lasso = LassoCV(alphas = np.arange(0.001, 10, 1))\n",
    "# imp_features df will contain all the corr. coef/weights from each feature\n",
    "imp_features = pd.DataFrame()\n",
    "# base code modified from Jahnavi's new_model function\n",
    "# looping over each target\n",
    "for i in mortality_feat:\n",
    "    # suppressing the convergence warnings if any\n",
    "    import warnings\n",
    "    warnings.filterwarnings(\"ignore\")\n",
    "\n",
    "    X = clean_df.drop(columns = features_dropped)\n",
    "    y = clean_df[i]\n",
    "    # train test split ('X before y, train before test' -James 2022)\n",
    "    \n",
    "    X_train, X_test, y_train, y_test = train_test_split(X, y, random_state=33)\n",
    "    \n",
    "    ss.fit(X_train)\n",
    "    Xs_train = ss.transform(X_train)\n",
    "    Xs_test = ss.transform(X_test)\n",
    "    \n",
    "    lr.fit(Xs_train, y_train)\n",
    "    lasso.fit(Xs_train, y_train)\n",
    "    \n",
    "    mortal = i\n",
    "\n",
    "    update_df(lasso, mortal)\n",
    "    \n",
    "    # appending df to get feature importance (corr. coef) out\n",
    "    feature_imp = pd.Series(lasso.coef_, index = X.columns)\n",
    "    feature_imp = feature_imp.sort_values(ascending=False)\n",
    "    \n",
    "    imp_features[i] = feature_imp\n"
   ]
  },
  {
   "cell_type": "code",
   "execution_count": 43,
   "id": "449369f9-78c5-4301-9883-212bbc2c7f3b",
   "metadata": {
    "execution": {
     "iopub.execute_input": "2023-01-19T03:56:13.161154Z",
     "iopub.status.busy": "2023-01-19T03:56:13.161052Z",
     "iopub.status.idle": "2023-01-19T03:56:13.166584Z",
     "shell.execute_reply": "2023-01-19T03:56:13.166252Z",
     "shell.execute_reply.started": "2023-01-19T03:56:13.161144Z"
    },
    "tags": []
   },
   "outputs": [
    {
     "data": {
      "text/html": [
       "<div>\n",
       "<style scoped>\n",
       "    .dataframe tbody tr th:only-of-type {\n",
       "        vertical-align: middle;\n",
       "    }\n",
       "\n",
       "    .dataframe tbody tr th {\n",
       "        vertical-align: top;\n",
       "    }\n",
       "\n",
       "    .dataframe thead th {\n",
       "        text-align: right;\n",
       "    }\n",
       "</style>\n",
       "<table border=\"1\" class=\"dataframe\">\n",
       "  <thead>\n",
       "    <tr style=\"text-align: right;\">\n",
       "      <th></th>\n",
       "      <th>Model</th>\n",
       "      <th>Train Score</th>\n",
       "      <th>Val Score</th>\n",
       "      <th>X Val Score</th>\n",
       "      <th>RMSE Train</th>\n",
       "      <th>RMSE Val</th>\n",
       "    </tr>\n",
       "  </thead>\n",
       "  <tbody>\n",
       "    <tr>\n",
       "      <th>0</th>\n",
       "      <td>m005_ALL_35-69.LinReg</td>\n",
       "      <td>1.000000</td>\n",
       "      <td>0.882940</td>\n",
       "      <td>0.616316</td>\n",
       "      <td>8.404957e-15</td>\n",
       "      <td>1.206978</td>\n",
       "    </tr>\n",
       "    <tr>\n",
       "      <th>1</th>\n",
       "      <td>m005_ALL_35-69.L2-1</td>\n",
       "      <td>0.999965</td>\n",
       "      <td>0.881611</td>\n",
       "      <td>0.614525</td>\n",
       "      <td>8.404957e-15</td>\n",
       "      <td>1.206978</td>\n",
       "    </tr>\n",
       "    <tr>\n",
       "      <th>2</th>\n",
       "      <td>m005_ALL_35-69.L1-1</td>\n",
       "      <td>0.999998</td>\n",
       "      <td>0.999996</td>\n",
       "      <td>0.999285</td>\n",
       "      <td>8.404957e-15</td>\n",
       "      <td>1.206978</td>\n",
       "    </tr>\n",
       "    <tr>\n",
       "      <th>3</th>\n",
       "      <td>m005_ALL_35-69.L1-2</td>\n",
       "      <td>0.999989</td>\n",
       "      <td>0.988186</td>\n",
       "      <td>0.931555</td>\n",
       "      <td>5.548124e-15</td>\n",
       "      <td>1.264333</td>\n",
       "    </tr>\n",
       "    <tr>\n",
       "      <th>4</th>\n",
       "      <td>m010_NONMEDc</td>\n",
       "      <td>0.482118</td>\n",
       "      <td>0.169658</td>\n",
       "      <td>-0.124616</td>\n",
       "      <td>1.332323e-13</td>\n",
       "      <td>44.534195</td>\n",
       "    </tr>\n",
       "    <tr>\n",
       "      <th>5</th>\n",
       "      <td>m005_ALL35_69</td>\n",
       "      <td>0.999993</td>\n",
       "      <td>0.056338</td>\n",
       "      <td>0.070911</td>\n",
       "      <td>7.825686e-15</td>\n",
       "      <td>2.689775</td>\n",
       "    </tr>\n",
       "    <tr>\n",
       "      <th>6</th>\n",
       "      <td>m008_MEDICALc</td>\n",
       "      <td>0.999991</td>\n",
       "      <td>0.107569</td>\n",
       "      <td>0.160962</td>\n",
       "      <td>6.704399e-15</td>\n",
       "      <td>2.591834</td>\n",
       "    </tr>\n",
       "    <tr>\n",
       "      <th>7</th>\n",
       "      <td>m065_STROKEc</td>\n",
       "      <td>0.770332</td>\n",
       "      <td>0.290192</td>\n",
       "      <td>0.009490</td>\n",
       "      <td>2.591966e-13</td>\n",
       "      <td>130.003377</td>\n",
       "    </tr>\n",
       "    <tr>\n",
       "      <th>8</th>\n",
       "      <td>m023_ALLCAc</td>\n",
       "      <td>0.999981</td>\n",
       "      <td>-0.538021</td>\n",
       "      <td>-0.466490</td>\n",
       "      <td>5.398386e-15</td>\n",
       "      <td>1.862238</td>\n",
       "    </tr>\n",
       "    <tr>\n",
       "      <th>9</th>\n",
       "      <td>m059_ALLVASCc</td>\n",
       "      <td>0.999958</td>\n",
       "      <td>0.138958</td>\n",
       "      <td>-0.104030</td>\n",
       "      <td>3.350999e-15</td>\n",
       "      <td>1.742879</td>\n",
       "    </tr>\n",
       "    <tr>\n",
       "      <th>10</th>\n",
       "      <td>m028_OESOPHCAc</td>\n",
       "      <td>0.781582</td>\n",
       "      <td>-0.451826</td>\n",
       "      <td>0.175367</td>\n",
       "      <td>3.037803e-13</td>\n",
       "      <td>129.170541</td>\n",
       "    </tr>\n",
       "    <tr>\n",
       "      <th>11</th>\n",
       "      <td>m072_COPDc</td>\n",
       "      <td>0.862999</td>\n",
       "      <td>0.021564</td>\n",
       "      <td>-0.461298</td>\n",
       "      <td>3.149389e-13</td>\n",
       "      <td>109.827272</td>\n",
       "    </tr>\n",
       "  </tbody>\n",
       "</table>\n",
       "</div>"
      ],
      "text/plain": [
       "                    Model  Train Score  Val Score  X Val Score    RMSE Train  \\\n",
       "0   m005_ALL_35-69.LinReg     1.000000   0.882940     0.616316  8.404957e-15   \n",
       "1     m005_ALL_35-69.L2-1     0.999965   0.881611     0.614525  8.404957e-15   \n",
       "2     m005_ALL_35-69.L1-1     0.999998   0.999996     0.999285  8.404957e-15   \n",
       "3     m005_ALL_35-69.L1-2     0.999989   0.988186     0.931555  5.548124e-15   \n",
       "4            m010_NONMEDc     0.482118   0.169658    -0.124616  1.332323e-13   \n",
       "5           m005_ALL35_69     0.999993   0.056338     0.070911  7.825686e-15   \n",
       "6           m008_MEDICALc     0.999991   0.107569     0.160962  6.704399e-15   \n",
       "7            m065_STROKEc     0.770332   0.290192     0.009490  2.591966e-13   \n",
       "8             m023_ALLCAc     0.999981  -0.538021    -0.466490  5.398386e-15   \n",
       "9           m059_ALLVASCc     0.999958   0.138958    -0.104030  3.350999e-15   \n",
       "10         m028_OESOPHCAc     0.781582  -0.451826     0.175367  3.037803e-13   \n",
       "11             m072_COPDc     0.862999   0.021564    -0.461298  3.149389e-13   \n",
       "\n",
       "      RMSE Val  \n",
       "0     1.206978  \n",
       "1     1.206978  \n",
       "2     1.206978  \n",
       "3     1.264333  \n",
       "4    44.534195  \n",
       "5     2.689775  \n",
       "6     2.591834  \n",
       "7   130.003377  \n",
       "8     1.862238  \n",
       "9     1.742879  \n",
       "10  129.170541  \n",
       "11  109.827272  "
      ]
     },
     "execution_count": 43,
     "metadata": {},
     "output_type": "execute_result"
    }
   ],
   "source": [
    "results"
   ]
  },
  {
   "cell_type": "markdown",
   "id": "756a1737-081c-4d57-befa-3f8cea2e8fe4",
   "metadata": {},
   "source": [
    "We suspected as much. There is definitely a data leakage between the mortality features and should be withheld. With the data we have, there is effectively no predictive value in our models generated but may offer insight to any correlative features with mortality. \n",
    "\n",
    "Will is exploring PCA in his EDA notebook"
   ]
  },
  {
   "cell_type": "code",
   "execution_count": 44,
   "id": "2135cfa5-6188-46be-b266-c5350b2d1390",
   "metadata": {
    "execution": {
     "iopub.execute_input": "2023-01-19T03:56:13.167182Z",
     "iopub.status.busy": "2023-01-19T03:56:13.167097Z",
     "iopub.status.idle": "2023-01-19T03:56:13.169062Z",
     "shell.execute_reply": "2023-01-19T03:56:13.168774Z",
     "shell.execute_reply.started": "2023-01-19T03:56:13.167174Z"
    },
    "tags": []
   },
   "outputs": [],
   "source": [
    "# imp_features['m010_NONMEDc'][imp_features['m010_NONMEDc'] != 0].to_frame().sort_values(by='m010_NONMEDc', ascending=False)\n",
    "# Forming a new df to store scores with the desciptive codes"
   ]
  },
  {
   "cell_type": "code",
   "execution_count": 45,
   "id": "d218d997-d90a-4627-ad0d-75d6af36d869",
   "metadata": {
    "execution": {
     "iopub.execute_input": "2023-01-19T03:56:13.169482Z",
     "iopub.status.busy": "2023-01-19T03:56:13.169407Z",
     "iopub.status.idle": "2023-01-19T03:56:13.172120Z",
     "shell.execute_reply": "2023-01-19T03:56:13.171784Z",
     "shell.execute_reply.started": "2023-01-19T03:56:13.169474Z"
    },
    "tags": []
   },
   "outputs": [
    {
     "data": {
      "text/plain": [
       "Index(['description', 'code'], dtype='object')"
      ]
     },
     "execution_count": 45,
     "metadata": {},
     "output_type": "execute_result"
    }
   ],
   "source": [
    "text_df.columns"
   ]
  },
  {
   "cell_type": "code",
   "execution_count": 46,
   "id": "ea4e868d-b8b2-416f-bfa1-6af8e2de2cb6",
   "metadata": {
    "execution": {
     "iopub.execute_input": "2023-01-19T03:56:13.172576Z",
     "iopub.status.busy": "2023-01-19T03:56:13.172455Z",
     "iopub.status.idle": "2023-01-19T03:56:13.174862Z",
     "shell.execute_reply": "2023-01-19T03:56:13.174550Z",
     "shell.execute_reply.started": "2023-01-19T03:56:13.172567Z"
    },
    "tags": []
   },
   "outputs": [],
   "source": [
    "imp_features.reset_index(inplace=True)"
   ]
  },
  {
   "cell_type": "code",
   "execution_count": 47,
   "id": "92c0f248-0699-4399-b53a-4bc3f97e9c55",
   "metadata": {
    "execution": {
     "iopub.execute_input": "2023-01-19T03:56:13.175443Z",
     "iopub.status.busy": "2023-01-19T03:56:13.175362Z",
     "iopub.status.idle": "2023-01-19T03:56:13.179793Z",
     "shell.execute_reply": "2023-01-19T03:56:13.179419Z",
     "shell.execute_reply.started": "2023-01-19T03:56:13.175435Z"
    },
    "tags": []
   },
   "outputs": [],
   "source": [
    "score_df = imp_features.merge(text_df, left_on='index', right_on='code', how='left').drop(columns = ['index'])"
   ]
  },
  {
   "cell_type": "code",
   "execution_count": 48,
   "id": "85e51294-1288-43ea-95c5-cbf628b978eb",
   "metadata": {
    "execution": {
     "iopub.execute_input": "2023-01-19T03:56:13.180252Z",
     "iopub.status.busy": "2023-01-19T03:56:13.180174Z",
     "iopub.status.idle": "2023-01-19T03:56:13.185286Z",
     "shell.execute_reply": "2023-01-19T03:56:13.185004Z",
     "shell.execute_reply.started": "2023-01-19T03:56:13.180243Z"
    },
    "tags": []
   },
   "outputs": [
    {
     "data": {
      "text/html": [
       "<div>\n",
       "<style scoped>\n",
       "    .dataframe tbody tr th:only-of-type {\n",
       "        vertical-align: middle;\n",
       "    }\n",
       "\n",
       "    .dataframe tbody tr th {\n",
       "        vertical-align: top;\n",
       "    }\n",
       "\n",
       "    .dataframe thead th {\n",
       "        text-align: right;\n",
       "    }\n",
       "</style>\n",
       "<table border=\"1\" class=\"dataframe\">\n",
       "  <thead>\n",
       "    <tr style=\"text-align: right;\">\n",
       "      <th></th>\n",
       "      <th>m010_NONMEDc</th>\n",
       "      <th>m005_ALL35_69</th>\n",
       "      <th>m008_MEDICALc</th>\n",
       "      <th>m065_STROKEc</th>\n",
       "      <th>m023_ALLCAc</th>\n",
       "      <th>m059_ALLVASCc</th>\n",
       "      <th>m028_OESOPHCAc</th>\n",
       "      <th>m072_COPDc</th>\n",
       "      <th>description</th>\n",
       "      <th>code</th>\n",
       "    </tr>\n",
       "  </thead>\n",
       "  <tbody>\n",
       "    <tr>\n",
       "      <th>0</th>\n",
       "      <td>7.084762</td>\n",
       "      <td>0.000000</td>\n",
       "      <td>-0.0</td>\n",
       "      <td>0.00000</td>\n",
       "      <td>-0.000000</td>\n",
       "      <td>0.000000</td>\n",
       "      <td>-0.000000</td>\n",
       "      <td>0.0</td>\n",
       "      <td>Q153 dWINEday   questionnaire CURRENT DAILY CONSUMPTION OF WINE (g per person)</td>\n",
       "      <td>q153</td>\n",
       "    </tr>\n",
       "    <tr>\n",
       "      <th>1</th>\n",
       "      <td>5.215087</td>\n",
       "      <td>0.087319</td>\n",
       "      <td>0.0</td>\n",
       "      <td>-1.88745</td>\n",
       "      <td>0.056419</td>\n",
       "      <td>-0.047364</td>\n",
       "      <td>4.606957</td>\n",
       "      <td>0.0</td>\n",
       "      <td>Q023 c%NOSCHL   questionnaire PERCENTAGE OF HOUSEHOLD HEADS ATTENDED NO SCHOOL</td>\n",
       "      <td>q023</td>\n",
       "    </tr>\n",
       "  </tbody>\n",
       "</table>\n",
       "</div>"
      ],
      "text/plain": [
       "   m010_NONMEDc  m005_ALL35_69  m008_MEDICALc  m065_STROKEc  m023_ALLCAc  \\\n",
       "0      7.084762       0.000000           -0.0       0.00000    -0.000000   \n",
       "1      5.215087       0.087319            0.0      -1.88745     0.056419   \n",
       "\n",
       "   m059_ALLVASCc  m028_OESOPHCAc  m072_COPDc  \\\n",
       "0       0.000000       -0.000000         0.0   \n",
       "1      -0.047364        4.606957         0.0   \n",
       "\n",
       "                                                                                                                         description  \\\n",
       "0  Q153 dWINEday   questionnaire CURRENT DAILY CONSUMPTION OF WINE (g per person)                                                      \n",
       "1  Q023 c%NOSCHL   questionnaire PERCENTAGE OF HOUSEHOLD HEADS ATTENDED NO SCHOOL                                                      \n",
       "\n",
       "   code  \n",
       "0  q153  \n",
       "1  q023  "
      ]
     },
     "execution_count": 48,
     "metadata": {},
     "output_type": "execute_result"
    }
   ],
   "source": [
    "score_df.head(2)"
   ]
  },
  {
   "cell_type": "code",
   "execution_count": 71,
   "id": "ce2d303b-7592-471a-8f71-75c936a3230b",
   "metadata": {
    "execution": {
     "iopub.execute_input": "2023-01-19T04:04:07.868634Z",
     "iopub.status.busy": "2023-01-19T04:04:07.868114Z",
     "iopub.status.idle": "2023-01-19T04:04:07.873095Z",
     "shell.execute_reply": "2023-01-19T04:04:07.872403Z",
     "shell.execute_reply.started": "2023-01-19T04:04:07.868597Z"
    },
    "tags": []
   },
   "outputs": [],
   "source": [
    "pd.set_option('display.max_rows', 100) \n",
    "# To see all the descriptions we need. I'll filter this down to top 10 later."
   ]
  },
  {
   "cell_type": "code",
   "execution_count": 92,
   "id": "6e634fd7-82b1-4b30-aef9-c45ff5fc729a",
   "metadata": {
    "execution": {
     "iopub.execute_input": "2023-01-19T04:16:11.794431Z",
     "iopub.status.busy": "2023-01-19T04:16:11.794030Z",
     "iopub.status.idle": "2023-01-19T04:16:11.804932Z",
     "shell.execute_reply": "2023-01-19T04:16:11.804390Z",
     "shell.execute_reply.started": "2023-01-19T04:16:11.794405Z"
    },
    "tags": []
   },
   "outputs": [
    {
     "data": {
      "text/html": [
       "<div>\n",
       "<style scoped>\n",
       "    .dataframe tbody tr th:only-of-type {\n",
       "        vertical-align: middle;\n",
       "    }\n",
       "\n",
       "    .dataframe tbody tr th {\n",
       "        vertical-align: top;\n",
       "    }\n",
       "\n",
       "    .dataframe thead th {\n",
       "        text-align: right;\n",
       "    }\n",
       "</style>\n",
       "<table border=\"1\" class=\"dataframe\">\n",
       "  <thead>\n",
       "    <tr style=\"text-align: right;\">\n",
       "      <th></th>\n",
       "      <th>m005_ALL35_69</th>\n",
       "      <th>description</th>\n",
       "      <th>code</th>\n",
       "    </tr>\n",
       "  </thead>\n",
       "  <tbody>\n",
       "    <tr>\n",
       "      <th>117</th>\n",
       "      <td>1.352670</td>\n",
       "      <td>Q099 dBRTHFAST  questionnaire PERCENTAGE WHO SUFFER BREATHLESSNESS WHEN HURRYING OR WALKING UPHILL</td>\n",
       "      <td>q099</td>\n",
       "    </tr>\n",
       "    <tr>\n",
       "      <th>92</th>\n",
       "      <td>0.726593</td>\n",
       "      <td>P043 HBsAb      plasma HEPATITIS B ANTI-SURFACE ANTIGEN ANTIBODY</td>\n",
       "      <td>p043</td>\n",
       "    </tr>\n",
       "    <tr>\n",
       "      <th>8</th>\n",
       "      <td>0.658357</td>\n",
       "      <td>D044 SALTVEG    diet survey DRIED AND SALT-PRESERVED VEGETABLE INTAKE (g/day/reference man, as-consumed basis)</td>\n",
       "      <td>d044</td>\n",
       "    </tr>\n",
       "    <tr>\n",
       "      <th>42</th>\n",
       "      <td>0.482376</td>\n",
       "      <td>D042 LIGHTVEG   diet survey LIGHT COLOURED VEGETABLE INTAKE (g/day/reference man, fresh weight)</td>\n",
       "      <td>d042</td>\n",
       "    </tr>\n",
       "    <tr>\n",
       "      <th>150</th>\n",
       "      <td>0.454607</td>\n",
       "      <td>Q171 dSALTVEG   questionnaire DAYS PER YEAR EAT SALT PRESERVED VEGETABLES</td>\n",
       "      <td>q171</td>\n",
       "    </tr>\n",
       "    <tr>\n",
       "      <th>107</th>\n",
       "      <td>0.425345</td>\n",
       "      <td>Q119 dCHINAMED  questionnaire PERCENTAGE USED CHINESE MEDICINE REGULARLY DURING PAST 6 MONTHS</td>\n",
       "      <td>q119</td>\n",
       "    </tr>\n",
       "    <tr>\n",
       "      <th>128</th>\n",
       "      <td>-0.410812</td>\n",
       "      <td>Q040 c%INCALC   questionnaire PERCENTAGE OF 1989 HOUSEHOLD INCOME SPENT ON ALCOHOL</td>\n",
       "      <td>q040</td>\n",
       "    </tr>\n",
       "    <tr>\n",
       "      <th>25</th>\n",
       "      <td>-0.545873</td>\n",
       "      <td>P009 B-CAROT    plasma BETA CAROTENE (ug/dL)</td>\n",
       "      <td>p009</td>\n",
       "    </tr>\n",
       "    <tr>\n",
       "      <th>88</th>\n",
       "      <td>-0.673292</td>\n",
       "      <td>P038 PEPSIN     plasma PEPSINOGEN I/II</td>\n",
       "      <td>p038</td>\n",
       "    </tr>\n",
       "    <tr>\n",
       "      <th>188</th>\n",
       "      <td>-0.683745</td>\n",
       "      <td>P027 Cu         plasma COPPER (mg/dL)</td>\n",
       "      <td>p027</td>\n",
       "    </tr>\n",
       "  </tbody>\n",
       "</table>\n",
       "</div>"
      ],
      "text/plain": [
       "     m005_ALL35_69  \\\n",
       "117       1.352670   \n",
       "92        0.726593   \n",
       "8         0.658357   \n",
       "42        0.482376   \n",
       "150       0.454607   \n",
       "107       0.425345   \n",
       "128      -0.410812   \n",
       "25       -0.545873   \n",
       "88       -0.673292   \n",
       "188      -0.683745   \n",
       "\n",
       "                                                                                                                           description  \\\n",
       "117  Q099 dBRTHFAST  questionnaire PERCENTAGE WHO SUFFER BREATHLESSNESS WHEN HURRYING OR WALKING UPHILL                                  \n",
       "92   P043 HBsAb      plasma HEPATITIS B ANTI-SURFACE ANTIGEN ANTIBODY                                                                    \n",
       "8    D044 SALTVEG    diet survey DRIED AND SALT-PRESERVED VEGETABLE INTAKE (g/day/reference man, as-consumed basis)                      \n",
       "42   D042 LIGHTVEG   diet survey LIGHT COLOURED VEGETABLE INTAKE (g/day/reference man, fresh weight)                                     \n",
       "150  Q171 dSALTVEG   questionnaire DAYS PER YEAR EAT SALT PRESERVED VEGETABLES                                                           \n",
       "107  Q119 dCHINAMED  questionnaire PERCENTAGE USED CHINESE MEDICINE REGULARLY DURING PAST 6 MONTHS                                       \n",
       "128  Q040 c%INCALC   questionnaire PERCENTAGE OF 1989 HOUSEHOLD INCOME SPENT ON ALCOHOL                                                  \n",
       "25   P009 B-CAROT    plasma BETA CAROTENE (ug/dL)                                                                                        \n",
       "88   P038 PEPSIN     plasma PEPSINOGEN I/II                                                                                              \n",
       "188  P027 Cu         plasma COPPER (mg/dL)                                                                                               \n",
       "\n",
       "     code  \n",
       "117  q099  \n",
       "92   p043  \n",
       "8    d044  \n",
       "42   d042  \n",
       "150  q171  \n",
       "107  q119  \n",
       "128  q040  \n",
       "25   p009  \n",
       "88   p038  \n",
       "188  p027  "
      ]
     },
     "execution_count": 92,
     "metadata": {},
     "output_type": "execute_result"
    }
   ],
   "source": [
    "# This filtering will show only non-zero scores; \n",
    "# showing the weights of what the lasso regression actually used and how.\n",
    "score_df[['m005_ALL35_69', 'description', 'code']][np.abs(score_df['m005_ALL35_69']) >0.40]\\\n",
    ".sort_values(by='m005_ALL35_69', ascending=False)"
   ]
  },
  {
   "cell_type": "code",
   "execution_count": 70,
   "id": "d928cf39-3c95-42ec-bb7c-d6cc4c064a56",
   "metadata": {
    "execution": {
     "iopub.execute_input": "2023-01-19T04:02:54.659647Z",
     "iopub.status.busy": "2023-01-19T04:02:54.658939Z",
     "iopub.status.idle": "2023-01-19T04:02:54.675379Z",
     "shell.execute_reply": "2023-01-19T04:02:54.674741Z",
     "shell.execute_reply.started": "2023-01-19T04:02:54.659595Z"
    },
    "tags": []
   },
   "outputs": [
    {
     "data": {
      "text/html": [
       "<div>\n",
       "<style scoped>\n",
       "    .dataframe tbody tr th:only-of-type {\n",
       "        vertical-align: middle;\n",
       "    }\n",
       "\n",
       "    .dataframe tbody tr th {\n",
       "        vertical-align: top;\n",
       "    }\n",
       "\n",
       "    .dataframe thead th {\n",
       "        text-align: right;\n",
       "    }\n",
       "</style>\n",
       "<table border=\"1\" class=\"dataframe\">\n",
       "  <thead>\n",
       "    <tr style=\"text-align: right;\">\n",
       "      <th></th>\n",
       "      <th>m008_MEDICALc</th>\n",
       "      <th>description</th>\n",
       "      <th>code</th>\n",
       "    </tr>\n",
       "  </thead>\n",
       "  <tbody>\n",
       "    <tr>\n",
       "      <th>117</th>\n",
       "      <td>1.446953</td>\n",
       "      <td>Q099 dBRTHFAST  questionnaire PERCENTAGE WHO SUFFER BREATHLESSNESS WHEN HURRYING OR WALKING UPHILL</td>\n",
       "      <td>q099</td>\n",
       "    </tr>\n",
       "    <tr>\n",
       "      <th>92</th>\n",
       "      <td>0.578106</td>\n",
       "      <td>P043 HBsAb      plasma HEPATITIS B ANTI-SURFACE ANTIGEN ANTIBODY</td>\n",
       "      <td>p043</td>\n",
       "    </tr>\n",
       "    <tr>\n",
       "      <th>8</th>\n",
       "      <td>0.488523</td>\n",
       "      <td>D044 SALTVEG    diet survey DRIED AND SALT-PRESERVED VEGETABLE INTAKE (g/day/reference man, as-consumed basis)</td>\n",
       "      <td>d044</td>\n",
       "    </tr>\n",
       "    <tr>\n",
       "      <th>42</th>\n",
       "      <td>0.484209</td>\n",
       "      <td>D042 LIGHTVEG   diet survey LIGHT COLOURED VEGETABLE INTAKE (g/day/reference man, fresh weight)</td>\n",
       "      <td>d042</td>\n",
       "    </tr>\n",
       "    <tr>\n",
       "      <th>113</th>\n",
       "      <td>0.420315</td>\n",
       "      <td>Q125 dFAMINDUR  questionnaire TOTAL DURATION OF SEVERE FOOD SHORTAGES DURING THE LAST 30 YEARS (months)</td>\n",
       "      <td>q125</td>\n",
       "    </tr>\n",
       "    <tr>\n",
       "      <th>119</th>\n",
       "      <td>0.416942</td>\n",
       "      <td>Q136 dMFCTCIG   questionnaire PERCENTAGE WHO HAVE EVER SMOKED MANUFACTURED CIGARETTES DAILY FOR MORE THAN 6 MONTHS</td>\n",
       "      <td>q136</td>\n",
       "    </tr>\n",
       "    <tr>\n",
       "      <th>107</th>\n",
       "      <td>0.388985</td>\n",
       "      <td>Q119 dCHINAMED  questionnaire PERCENTAGE USED CHINESE MEDICINE REGULARLY DURING PAST 6 MONTHS</td>\n",
       "      <td>q119</td>\n",
       "    </tr>\n",
       "    <tr>\n",
       "      <th>150</th>\n",
       "      <td>0.378863</td>\n",
       "      <td>Q171 dSALTVEG   questionnaire DAYS PER YEAR EAT SALT PRESERVED VEGETABLES</td>\n",
       "      <td>q171</td>\n",
       "    </tr>\n",
       "    <tr>\n",
       "      <th>89</th>\n",
       "      <td>-0.354926</td>\n",
       "      <td>P039 THYROXINE  plasma TOTAL THYROXINE (ug/dL)</td>\n",
       "      <td>p039</td>\n",
       "    </tr>\n",
       "    <tr>\n",
       "      <th>28</th>\n",
       "      <td>-0.364767</td>\n",
       "      <td>D051 POULTRY    diet survey POULTRY INTAKE (g/day/reference man, as-consumed basis)</td>\n",
       "      <td>d051</td>\n",
       "    </tr>\n",
       "    <tr>\n",
       "      <th>25</th>\n",
       "      <td>-0.368200</td>\n",
       "      <td>P009 B-CAROT    plasma BETA CAROTENE (ug/dL)</td>\n",
       "      <td>p009</td>\n",
       "    </tr>\n",
       "    <tr>\n",
       "      <th>50</th>\n",
       "      <td>-0.398946</td>\n",
       "      <td>Q010 c%AGRICUL  questionnaire PERCENTAGE OF HOUSEHOLD HEADS WHOSE PRIMARY OCCUPATION IS AGRICULTURE</td>\n",
       "      <td>q010</td>\n",
       "    </tr>\n",
       "    <tr>\n",
       "      <th>10</th>\n",
       "      <td>-0.489826</td>\n",
       "      <td>P002 HDLCHOL    plasma HIGH DENSITY LIPOPROTEIN CHOLESTEROL (mg/dL)</td>\n",
       "      <td>p002</td>\n",
       "    </tr>\n",
       "    <tr>\n",
       "      <th>188</th>\n",
       "      <td>-0.562347</td>\n",
       "      <td>P027 Cu         plasma COPPER (mg/dL)</td>\n",
       "      <td>p027</td>\n",
       "    </tr>\n",
       "    <tr>\n",
       "      <th>88</th>\n",
       "      <td>-0.663667</td>\n",
       "      <td>P038 PEPSIN     plasma PEPSINOGEN I/II</td>\n",
       "      <td>p038</td>\n",
       "    </tr>\n",
       "  </tbody>\n",
       "</table>\n",
       "</div>"
      ],
      "text/plain": [
       "     m008_MEDICALc  \\\n",
       "117       1.446953   \n",
       "92        0.578106   \n",
       "8         0.488523   \n",
       "42        0.484209   \n",
       "113       0.420315   \n",
       "119       0.416942   \n",
       "107       0.388985   \n",
       "150       0.378863   \n",
       "89       -0.354926   \n",
       "28       -0.364767   \n",
       "25       -0.368200   \n",
       "50       -0.398946   \n",
       "10       -0.489826   \n",
       "188      -0.562347   \n",
       "88       -0.663667   \n",
       "\n",
       "                                                                                                                           description  \\\n",
       "117  Q099 dBRTHFAST  questionnaire PERCENTAGE WHO SUFFER BREATHLESSNESS WHEN HURRYING OR WALKING UPHILL                                  \n",
       "92   P043 HBsAb      plasma HEPATITIS B ANTI-SURFACE ANTIGEN ANTIBODY                                                                    \n",
       "8    D044 SALTVEG    diet survey DRIED AND SALT-PRESERVED VEGETABLE INTAKE (g/day/reference man, as-consumed basis)                      \n",
       "42   D042 LIGHTVEG   diet survey LIGHT COLOURED VEGETABLE INTAKE (g/day/reference man, fresh weight)                                     \n",
       "113  Q125 dFAMINDUR  questionnaire TOTAL DURATION OF SEVERE FOOD SHORTAGES DURING THE LAST 30 YEARS (months)                             \n",
       "119  Q136 dMFCTCIG   questionnaire PERCENTAGE WHO HAVE EVER SMOKED MANUFACTURED CIGARETTES DAILY FOR MORE THAN 6 MONTHS                  \n",
       "107  Q119 dCHINAMED  questionnaire PERCENTAGE USED CHINESE MEDICINE REGULARLY DURING PAST 6 MONTHS                                       \n",
       "150  Q171 dSALTVEG   questionnaire DAYS PER YEAR EAT SALT PRESERVED VEGETABLES                                                           \n",
       "89   P039 THYROXINE  plasma TOTAL THYROXINE (ug/dL)                                                                                      \n",
       "28   D051 POULTRY    diet survey POULTRY INTAKE (g/day/reference man, as-consumed basis)                                                 \n",
       "25   P009 B-CAROT    plasma BETA CAROTENE (ug/dL)                                                                                        \n",
       "50   Q010 c%AGRICUL  questionnaire PERCENTAGE OF HOUSEHOLD HEADS WHOSE PRIMARY OCCUPATION IS AGRICULTURE                                 \n",
       "10   P002 HDLCHOL    plasma HIGH DENSITY LIPOPROTEIN CHOLESTEROL (mg/dL)                                                                 \n",
       "188  P027 Cu         plasma COPPER (mg/dL)                                                                                               \n",
       "88   P038 PEPSIN     plasma PEPSINOGEN I/II                                                                                              \n",
       "\n",
       "     code  \n",
       "117  q099  \n",
       "92   p043  \n",
       "8    d044  \n",
       "42   d042  \n",
       "113  q125  \n",
       "119  q136  \n",
       "107  q119  \n",
       "150  q171  \n",
       "89   p039  \n",
       "28   d051  \n",
       "25   p009  \n",
       "50   q010  \n",
       "10   p002  \n",
       "188  p027  \n",
       "88   p038  "
      ]
     },
     "execution_count": 70,
     "metadata": {},
     "output_type": "execute_result"
    }
   ],
   "source": [
    "# imp_features['m008_MEDICALc'][imp_features['m008_MEDICALc'] != 0].to_frame().sort_values(by='m008_MEDICALc', ascending=False)\n",
    "score_df[['m008_MEDICALc', 'description', 'code']][np.abs(score_df['m008_MEDICALc']) > 0.35]\\\n",
    ".sort_values(by='m008_MEDICALc', ascending=False)"
   ]
  },
  {
   "cell_type": "code",
   "execution_count": 61,
   "id": "ac739581-a6ff-4fdd-9bc8-c20efe124160",
   "metadata": {
    "execution": {
     "iopub.execute_input": "2023-01-19T03:59:21.895610Z",
     "iopub.status.busy": "2023-01-19T03:59:21.895073Z",
     "iopub.status.idle": "2023-01-19T03:59:21.913795Z",
     "shell.execute_reply": "2023-01-19T03:59:21.912823Z",
     "shell.execute_reply.started": "2023-01-19T03:59:21.895583Z"
    },
    "tags": []
   },
   "outputs": [
    {
     "data": {
      "text/html": [
       "<div>\n",
       "<style scoped>\n",
       "    .dataframe tbody tr th:only-of-type {\n",
       "        vertical-align: middle;\n",
       "    }\n",
       "\n",
       "    .dataframe tbody tr th {\n",
       "        vertical-align: top;\n",
       "    }\n",
       "\n",
       "    .dataframe thead th {\n",
       "        text-align: right;\n",
       "    }\n",
       "</style>\n",
       "<table border=\"1\" class=\"dataframe\">\n",
       "  <thead>\n",
       "    <tr style=\"text-align: right;\">\n",
       "      <th></th>\n",
       "      <th>m065_STROKEc</th>\n",
       "      <th>description</th>\n",
       "      <th>code</th>\n",
       "    </tr>\n",
       "  </thead>\n",
       "  <tbody>\n",
       "    <tr>\n",
       "      <th>98</th>\n",
       "      <td>26.612120</td>\n",
       "      <td>Q100 dBRTHLEV   questionnaire PERCENTAGE WHO SUFFER BREATHLESSNESS WHEN WALKING WITH OTHERS ON LEVEL GROUND</td>\n",
       "      <td>q100</td>\n",
       "    </tr>\n",
       "    <tr>\n",
       "      <th>182</th>\n",
       "      <td>17.366433</td>\n",
       "      <td>Q158 dWHEAT     questionnaire DAILY CONSUMPTION OF WHEAT (g/day air-dry basis)</td>\n",
       "      <td>q158</td>\n",
       "    </tr>\n",
       "    <tr>\n",
       "      <th>103</th>\n",
       "      <td>17.271656</td>\n",
       "      <td>Q106 dWHEEZE    questionnaire PERCENTAGE WHOSE CHEST OFTEN SOUNDS WHEEZY</td>\n",
       "      <td>q106</td>\n",
       "    </tr>\n",
       "    <tr>\n",
       "      <th>5</th>\n",
       "      <td>12.302131</td>\n",
       "      <td>R024 20:2n6     red blood cell TOTAL LIPID EICOSADIENOIC ACID (20:2(6)) (% of total fatty acid by weight)</td>\n",
       "      <td>r024</td>\n",
       "    </tr>\n",
       "    <tr>\n",
       "      <th>61</th>\n",
       "      <td>7.621683</td>\n",
       "      <td>R013 22:0       red blood cell TOTAL LIPID BEHENIC ACID (22:0) (% of total fatty acid by weight)</td>\n",
       "      <td>r013</td>\n",
       "    </tr>\n",
       "    <tr>\n",
       "      <th>92</th>\n",
       "      <td>6.231466</td>\n",
       "      <td>P043 HBsAb      plasma HEPATITIS B ANTI-SURFACE ANTIGEN ANTIBODY</td>\n",
       "      <td>p043</td>\n",
       "    </tr>\n",
       "    <tr>\n",
       "      <th>142</th>\n",
       "      <td>6.158920</td>\n",
       "      <td>Q137 dCIGCONS   questionnaire CURRENT DAILY CONSUMPTION OF MANUFACTURED CIGARETTES (no. per person)</td>\n",
       "      <td>q137</td>\n",
       "    </tr>\n",
       "    <tr>\n",
       "      <th>105</th>\n",
       "      <td>1.866571</td>\n",
       "      <td>Q109 dDBP       questionnaire DIASTOLIC BLOOD PRESSURE (mm Hg)</td>\n",
       "      <td>q109</td>\n",
       "    </tr>\n",
       "    <tr>\n",
       "      <th>60</th>\n",
       "      <td>0.316645</td>\n",
       "      <td>R012 20:0       red blood cell TOTAL LIPID ARACHIDIC ACID (20:0) (% of total fatty acid by weight)</td>\n",
       "      <td>r012</td>\n",
       "    </tr>\n",
       "    <tr>\n",
       "      <th>117</th>\n",
       "      <td>0.217354</td>\n",
       "      <td>Q099 dBRTHFAST  questionnaire PERCENTAGE WHO SUFFER BREATHLESSNESS WHEN HURRYING OR WALKING UPHILL</td>\n",
       "      <td>q099</td>\n",
       "    </tr>\n",
       "    <tr>\n",
       "      <th>52</th>\n",
       "      <td>-1.757330</td>\n",
       "      <td>P018 ANHYDLUT   plasma ANHYDRO LUTEIN (ug/dL)</td>\n",
       "      <td>p018</td>\n",
       "    </tr>\n",
       "    <tr>\n",
       "      <th>1</th>\n",
       "      <td>-1.887450</td>\n",
       "      <td>Q023 c%NOSCHL   questionnaire PERCENTAGE OF HOUSEHOLD HEADS ATTENDED NO SCHOOL</td>\n",
       "      <td>q023</td>\n",
       "    </tr>\n",
       "    <tr>\n",
       "      <th>154</th>\n",
       "      <td>-2.738332</td>\n",
       "      <td>Q140 dTOBCONS   questionnaire CURRENT DAILY CONSUMPTION OF \"OTHER\" TOBACCO (EXCLUDING MANUFACTURED CIGARETTES)</td>\n",
       "      <td>q140</td>\n",
       "    </tr>\n",
       "    <tr>\n",
       "      <th>188</th>\n",
       "      <td>-19.977605</td>\n",
       "      <td>P027 Cu         plasma COPPER (mg/dL)</td>\n",
       "      <td>p027</td>\n",
       "    </tr>\n",
       "  </tbody>\n",
       "</table>\n",
       "</div>"
      ],
      "text/plain": [
       "     m065_STROKEc  \\\n",
       "98      26.612120   \n",
       "182     17.366433   \n",
       "103     17.271656   \n",
       "5       12.302131   \n",
       "61       7.621683   \n",
       "92       6.231466   \n",
       "142      6.158920   \n",
       "105      1.866571   \n",
       "60       0.316645   \n",
       "117      0.217354   \n",
       "52      -1.757330   \n",
       "1       -1.887450   \n",
       "154     -2.738332   \n",
       "188    -19.977605   \n",
       "\n",
       "                                                                                                                           description  \\\n",
       "98   Q100 dBRTHLEV   questionnaire PERCENTAGE WHO SUFFER BREATHLESSNESS WHEN WALKING WITH OTHERS ON LEVEL GROUND                         \n",
       "182  Q158 dWHEAT     questionnaire DAILY CONSUMPTION OF WHEAT (g/day air-dry basis)                                                      \n",
       "103  Q106 dWHEEZE    questionnaire PERCENTAGE WHOSE CHEST OFTEN SOUNDS WHEEZY                                                            \n",
       "5    R024 20:2n6     red blood cell TOTAL LIPID EICOSADIENOIC ACID (20:2(6)) (% of total fatty acid by weight)                           \n",
       "61   R013 22:0       red blood cell TOTAL LIPID BEHENIC ACID (22:0) (% of total fatty acid by weight)                                    \n",
       "92   P043 HBsAb      plasma HEPATITIS B ANTI-SURFACE ANTIGEN ANTIBODY                                                                    \n",
       "142  Q137 dCIGCONS   questionnaire CURRENT DAILY CONSUMPTION OF MANUFACTURED CIGARETTES (no. per person)                                 \n",
       "105  Q109 dDBP       questionnaire DIASTOLIC BLOOD PRESSURE (mm Hg)                                                                      \n",
       "60   R012 20:0       red blood cell TOTAL LIPID ARACHIDIC ACID (20:0) (% of total fatty acid by weight)                                  \n",
       "117  Q099 dBRTHFAST  questionnaire PERCENTAGE WHO SUFFER BREATHLESSNESS WHEN HURRYING OR WALKING UPHILL                                  \n",
       "52   P018 ANHYDLUT   plasma ANHYDRO LUTEIN (ug/dL)                                                                                       \n",
       "1    Q023 c%NOSCHL   questionnaire PERCENTAGE OF HOUSEHOLD HEADS ATTENDED NO SCHOOL                                                      \n",
       "154  Q140 dTOBCONS   questionnaire CURRENT DAILY CONSUMPTION OF \"OTHER\" TOBACCO (EXCLUDING MANUFACTURED CIGARETTES)                      \n",
       "188  P027 Cu         plasma COPPER (mg/dL)                                                                                               \n",
       "\n",
       "     code  \n",
       "98   q100  \n",
       "182  q158  \n",
       "103  q106  \n",
       "5    r024  \n",
       "61   r013  \n",
       "92   p043  \n",
       "142  q137  \n",
       "105  q109  \n",
       "60   r012  \n",
       "117  q099  \n",
       "52   p018  \n",
       "1    q023  \n",
       "154  q140  \n",
       "188  p027  "
      ]
     },
     "execution_count": 61,
     "metadata": {},
     "output_type": "execute_result"
    }
   ],
   "source": [
    "imp_features['m065_STROKEc'][imp_features['m065_STROKEc'] != 0].to_frame().sort_values(by='m065_STROKEc', ascending=False)\n",
    "score_df[['m065_STROKEc', 'description', 'code']][score_df['m065_STROKEc'] != 0]\\\n",
    ".sort_values(by='m065_STROKEc', ascending=False)"
   ]
  },
  {
   "cell_type": "code",
   "execution_count": 72,
   "id": "f6d3ea7f-089f-4e6e-ba71-75041979f1aa",
   "metadata": {
    "execution": {
     "iopub.execute_input": "2023-01-19T04:04:34.187308Z",
     "iopub.status.busy": "2023-01-19T04:04:34.186792Z",
     "iopub.status.idle": "2023-01-19T04:04:34.204962Z",
     "shell.execute_reply": "2023-01-19T04:04:34.204349Z",
     "shell.execute_reply.started": "2023-01-19T04:04:34.187272Z"
    },
    "tags": []
   },
   "outputs": [
    {
     "data": {
      "text/html": [
       "<div>\n",
       "<style scoped>\n",
       "    .dataframe tbody tr th:only-of-type {\n",
       "        vertical-align: middle;\n",
       "    }\n",
       "\n",
       "    .dataframe tbody tr th {\n",
       "        vertical-align: top;\n",
       "    }\n",
       "\n",
       "    .dataframe thead th {\n",
       "        text-align: right;\n",
       "    }\n",
       "</style>\n",
       "<table border=\"1\" class=\"dataframe\">\n",
       "  <thead>\n",
       "    <tr style=\"text-align: right;\">\n",
       "      <th></th>\n",
       "      <th>m023_ALLCAc</th>\n",
       "      <th>description</th>\n",
       "      <th>code</th>\n",
       "    </tr>\n",
       "  </thead>\n",
       "  <tbody>\n",
       "    <tr>\n",
       "      <th>117</th>\n",
       "      <td>0.683157</td>\n",
       "      <td>Q099 dBRTHFAST  questionnaire PERCENTAGE WHO SUFFER BREATHLESSNESS WHEN HURRYING OR WALKING UPHILL</td>\n",
       "      <td>q099</td>\n",
       "    </tr>\n",
       "    <tr>\n",
       "      <th>113</th>\n",
       "      <td>0.576475</td>\n",
       "      <td>Q125 dFAMINDUR  questionnaire TOTAL DURATION OF SEVERE FOOD SHORTAGES DURING THE LAST 30 YEARS (months)</td>\n",
       "      <td>q125</td>\n",
       "    </tr>\n",
       "    <tr>\n",
       "      <th>24</th>\n",
       "      <td>0.483848</td>\n",
       "      <td>P008 A-CAROT    plasma ALPHA CAROTENE (ug/dL)</td>\n",
       "      <td>p008</td>\n",
       "    </tr>\n",
       "    <tr>\n",
       "      <th>163</th>\n",
       "      <td>0.475164</td>\n",
       "      <td>D013 VITE       diet survey TOTAL VITAMIN E INTAKE (mg/day/reference man)</td>\n",
       "      <td>d013</td>\n",
       "    </tr>\n",
       "    <tr>\n",
       "      <th>127</th>\n",
       "      <td>0.453919</td>\n",
       "      <td>Q039 cSUPINC89  questionnaire HOUSEHOLD SIDELINE AND BUSINESS INCOME FOR 1989 (Yuan)</td>\n",
       "      <td>q039</td>\n",
       "    </tr>\n",
       "    <tr>\n",
       "      <th>21</th>\n",
       "      <td>0.366521</td>\n",
       "      <td>P006 ALBUMIN    plasma ALBUMIN (g/dL) (non-pooled analysis)</td>\n",
       "      <td>p006</td>\n",
       "    </tr>\n",
       "    <tr>\n",
       "      <th>164</th>\n",
       "      <td>0.335755</td>\n",
       "      <td>Q164 dOILFAT    questionnaire DAILY CONSUMPTION OF OIL AND FAT (g/day)</td>\n",
       "      <td>q164</td>\n",
       "    </tr>\n",
       "    <tr>\n",
       "      <th>58</th>\n",
       "      <td>0.328760</td>\n",
       "      <td>R010 16:0       red blood cell TOTAL LIPID PALMITIC ACID (16:0) (% of total fatty acid by weight)</td>\n",
       "      <td>r010</td>\n",
       "    </tr>\n",
       "    <tr>\n",
       "      <th>183</th>\n",
       "      <td>0.302693</td>\n",
       "      <td>Q159 dMAIZE     questionnaire DAILY CONSUMPTION OF MAIZE (g/day air-dry basis)</td>\n",
       "      <td>q159</td>\n",
       "    </tr>\n",
       "    <tr>\n",
       "      <th>177</th>\n",
       "      <td>-0.308406</td>\n",
       "      <td>Q152 dWINE      questionnaire PERCENTAGE WHO HAVE EVER DRUNK WINE 3 OR MORE DAYS A WEEK FOR 6 MONTHS</td>\n",
       "      <td>q152</td>\n",
       "    </tr>\n",
       "    <tr>\n",
       "      <th>169</th>\n",
       "      <td>-0.308743</td>\n",
       "      <td>Q144 dHOMECIG   questionnaire PERCENTAGE WHO HAVE EVER SMOKED HOMEMADE CIGARETTES DAILY FOR MORE THAN 6 MONTHS</td>\n",
       "      <td>q144</td>\n",
       "    </tr>\n",
       "    <tr>\n",
       "      <th>172</th>\n",
       "      <td>-0.352945</td>\n",
       "      <td>Q147 dCIGAR     questionnaire PERCENTAGE WHO HAVE EVER SMOKED CIGARS DAILY FOR MORE THAN 6 MONTHS</td>\n",
       "      <td>q147</td>\n",
       "    </tr>\n",
       "    <tr>\n",
       "      <th>88</th>\n",
       "      <td>-0.630836</td>\n",
       "      <td>P038 PEPSIN     plasma PEPSINOGEN I/II</td>\n",
       "      <td>p038</td>\n",
       "    </tr>\n",
       "    <tr>\n",
       "      <th>50</th>\n",
       "      <td>-0.707586</td>\n",
       "      <td>Q010 c%AGRICUL  questionnaire PERCENTAGE OF HOUSEHOLD HEADS WHOSE PRIMARY OCCUPATION IS AGRICULTURE</td>\n",
       "      <td>q010</td>\n",
       "    </tr>\n",
       "  </tbody>\n",
       "</table>\n",
       "</div>"
      ],
      "text/plain": [
       "     m023_ALLCAc  \\\n",
       "117     0.683157   \n",
       "113     0.576475   \n",
       "24      0.483848   \n",
       "163     0.475164   \n",
       "127     0.453919   \n",
       "21      0.366521   \n",
       "164     0.335755   \n",
       "58      0.328760   \n",
       "183     0.302693   \n",
       "177    -0.308406   \n",
       "169    -0.308743   \n",
       "172    -0.352945   \n",
       "88     -0.630836   \n",
       "50     -0.707586   \n",
       "\n",
       "                                                                                                                           description  \\\n",
       "117  Q099 dBRTHFAST  questionnaire PERCENTAGE WHO SUFFER BREATHLESSNESS WHEN HURRYING OR WALKING UPHILL                                  \n",
       "113  Q125 dFAMINDUR  questionnaire TOTAL DURATION OF SEVERE FOOD SHORTAGES DURING THE LAST 30 YEARS (months)                             \n",
       "24   P008 A-CAROT    plasma ALPHA CAROTENE (ug/dL)                                                                                       \n",
       "163  D013 VITE       diet survey TOTAL VITAMIN E INTAKE (mg/day/reference man)                                                           \n",
       "127  Q039 cSUPINC89  questionnaire HOUSEHOLD SIDELINE AND BUSINESS INCOME FOR 1989 (Yuan)                                                \n",
       "21   P006 ALBUMIN    plasma ALBUMIN (g/dL) (non-pooled analysis)                                                                         \n",
       "164  Q164 dOILFAT    questionnaire DAILY CONSUMPTION OF OIL AND FAT (g/day)                                                              \n",
       "58   R010 16:0       red blood cell TOTAL LIPID PALMITIC ACID (16:0) (% of total fatty acid by weight)                                   \n",
       "183  Q159 dMAIZE     questionnaire DAILY CONSUMPTION OF MAIZE (g/day air-dry basis)                                                      \n",
       "177  Q152 dWINE      questionnaire PERCENTAGE WHO HAVE EVER DRUNK WINE 3 OR MORE DAYS A WEEK FOR 6 MONTHS                                \n",
       "169  Q144 dHOMECIG   questionnaire PERCENTAGE WHO HAVE EVER SMOKED HOMEMADE CIGARETTES DAILY FOR MORE THAN 6 MONTHS                      \n",
       "172  Q147 dCIGAR     questionnaire PERCENTAGE WHO HAVE EVER SMOKED CIGARS DAILY FOR MORE THAN 6 MONTHS                                   \n",
       "88   P038 PEPSIN     plasma PEPSINOGEN I/II                                                                                              \n",
       "50   Q010 c%AGRICUL  questionnaire PERCENTAGE OF HOUSEHOLD HEADS WHOSE PRIMARY OCCUPATION IS AGRICULTURE                                 \n",
       "\n",
       "     code  \n",
       "117  q099  \n",
       "113  q125  \n",
       "24   p008  \n",
       "163  d013  \n",
       "127  q039  \n",
       "21   p006  \n",
       "164  q164  \n",
       "58   r010  \n",
       "183  q159  \n",
       "177  q152  \n",
       "169  q144  \n",
       "172  q147  \n",
       "88   p038  \n",
       "50   q010  "
      ]
     },
     "execution_count": 72,
     "metadata": {},
     "output_type": "execute_result"
    }
   ],
   "source": [
    "# imp_features['m023_ALLCAc'][imp_features['m023_ALLCAc'] != 0].to_frame().sort_values(by='m023_ALLCAc', ascending=False)\n",
    "score_df[['m023_ALLCAc', 'description', 'code']][np.abs(score_df['m023_ALLCAc']) > 0.30]\\\n",
    ".sort_values(by='m023_ALLCAc', ascending=False)"
   ]
  },
  {
   "cell_type": "code",
   "execution_count": 77,
   "id": "fe1d9a4f-db24-4d67-a05e-0423913cf9d8",
   "metadata": {
    "execution": {
     "iopub.execute_input": "2023-01-19T04:05:39.640226Z",
     "iopub.status.busy": "2023-01-19T04:05:39.639507Z",
     "iopub.status.idle": "2023-01-19T04:05:39.656028Z",
     "shell.execute_reply": "2023-01-19T04:05:39.655494Z",
     "shell.execute_reply.started": "2023-01-19T04:05:39.640166Z"
    },
    "tags": []
   },
   "outputs": [
    {
     "data": {
      "text/html": [
       "<div>\n",
       "<style scoped>\n",
       "    .dataframe tbody tr th:only-of-type {\n",
       "        vertical-align: middle;\n",
       "    }\n",
       "\n",
       "    .dataframe tbody tr th {\n",
       "        vertical-align: top;\n",
       "    }\n",
       "\n",
       "    .dataframe thead th {\n",
       "        text-align: right;\n",
       "    }\n",
       "</style>\n",
       "<table border=\"1\" class=\"dataframe\">\n",
       "  <thead>\n",
       "    <tr style=\"text-align: right;\">\n",
       "      <th></th>\n",
       "      <th>m059_ALLVASCc</th>\n",
       "      <th>description</th>\n",
       "      <th>code</th>\n",
       "    </tr>\n",
       "  </thead>\n",
       "  <tbody>\n",
       "    <tr>\n",
       "      <th>117</th>\n",
       "      <td>0.400425</td>\n",
       "      <td>Q099 dBRTHFAST  questionnaire PERCENTAGE WHO SUFFER BREATHLESSNESS WHEN HURRYING OR WALKING UPHILL</td>\n",
       "      <td>q099</td>\n",
       "    </tr>\n",
       "    <tr>\n",
       "      <th>182</th>\n",
       "      <td>0.376016</td>\n",
       "      <td>Q158 dWHEAT     questionnaire DAILY CONSUMPTION OF WHEAT (g/day air-dry basis)</td>\n",
       "      <td>q158</td>\n",
       "    </tr>\n",
       "    <tr>\n",
       "      <th>42</th>\n",
       "      <td>0.315672</td>\n",
       "      <td>D042 LIGHTVEG   diet survey LIGHT COLOURED VEGETABLE INTAKE (g/day/reference man, fresh weight)</td>\n",
       "      <td>d042</td>\n",
       "    </tr>\n",
       "    <tr>\n",
       "      <th>92</th>\n",
       "      <td>0.229516</td>\n",
       "      <td>P043 HBsAb      plasma HEPATITIS B ANTI-SURFACE ANTIGEN ANTIBODY</td>\n",
       "      <td>p043</td>\n",
       "    </tr>\n",
       "    <tr>\n",
       "      <th>125</th>\n",
       "      <td>0.221994</td>\n",
       "      <td>Q037 cAGINC89   questionnaire HOUSEHOLD AGRICULTURAL INCOME FOR 1989 (Yuan)</td>\n",
       "      <td>q037</td>\n",
       "    </tr>\n",
       "    <tr>\n",
       "      <th>43</th>\n",
       "      <td>0.159212</td>\n",
       "      <td>D043 GREENVEG   diet survey GREEN VEGETABLE INTAKE (g/day/reference man, fresh weight)</td>\n",
       "      <td>d043</td>\n",
       "    </tr>\n",
       "    <tr>\n",
       "      <th>155</th>\n",
       "      <td>0.150553</td>\n",
       "      <td>Q176 dEGGS      questionnaire DAYS PER YEAR EAT EGGS</td>\n",
       "      <td>q176</td>\n",
       "    </tr>\n",
       "    <tr>\n",
       "      <th>69</th>\n",
       "      <td>0.147163</td>\n",
       "      <td>R022 22:6n3     red blood cell TOTAL LIPID DOCOSAHEXAENOIC ACID (22:6(3)) (% of total fatty acid by weight)</td>\n",
       "      <td>r022</td>\n",
       "    </tr>\n",
       "    <tr>\n",
       "      <th>98</th>\n",
       "      <td>0.142196</td>\n",
       "      <td>Q100 dBRTHLEV   questionnaire PERCENTAGE WHO SUFFER BREATHLESSNESS WHEN WALKING WITH OTHERS ON LEVEL GROUND</td>\n",
       "      <td>q100</td>\n",
       "    </tr>\n",
       "    <tr>\n",
       "      <th>75</th>\n",
       "      <td>-0.149340</td>\n",
       "      <td>P031 Zn         plasma ZINC (mg/dL)</td>\n",
       "      <td>p031</td>\n",
       "    </tr>\n",
       "    <tr>\n",
       "      <th>23</th>\n",
       "      <td>-0.206653</td>\n",
       "      <td>P012 RETINOL    plasma RETINOL (ug/dL)</td>\n",
       "      <td>p012</td>\n",
       "    </tr>\n",
       "    <tr>\n",
       "      <th>20</th>\n",
       "      <td>-0.264602</td>\n",
       "      <td>P004 APOA1      plasma APOLIPOPROTEIN A1 (mg/dL) (non-pooled analysis)</td>\n",
       "      <td>p004</td>\n",
       "    </tr>\n",
       "  </tbody>\n",
       "</table>\n",
       "</div>"
      ],
      "text/plain": [
       "     m059_ALLVASCc  \\\n",
       "117       0.400425   \n",
       "182       0.376016   \n",
       "42        0.315672   \n",
       "92        0.229516   \n",
       "125       0.221994   \n",
       "43        0.159212   \n",
       "155       0.150553   \n",
       "69        0.147163   \n",
       "98        0.142196   \n",
       "75       -0.149340   \n",
       "23       -0.206653   \n",
       "20       -0.264602   \n",
       "\n",
       "                                                                                                                           description  \\\n",
       "117  Q099 dBRTHFAST  questionnaire PERCENTAGE WHO SUFFER BREATHLESSNESS WHEN HURRYING OR WALKING UPHILL                                  \n",
       "182  Q158 dWHEAT     questionnaire DAILY CONSUMPTION OF WHEAT (g/day air-dry basis)                                                      \n",
       "42   D042 LIGHTVEG   diet survey LIGHT COLOURED VEGETABLE INTAKE (g/day/reference man, fresh weight)                                     \n",
       "92   P043 HBsAb      plasma HEPATITIS B ANTI-SURFACE ANTIGEN ANTIBODY                                                                    \n",
       "125  Q037 cAGINC89   questionnaire HOUSEHOLD AGRICULTURAL INCOME FOR 1989 (Yuan)                                                         \n",
       "43   D043 GREENVEG   diet survey GREEN VEGETABLE INTAKE (g/day/reference man, fresh weight)                                              \n",
       "155  Q176 dEGGS      questionnaire DAYS PER YEAR EAT EGGS                                                                                \n",
       "69   R022 22:6n3     red blood cell TOTAL LIPID DOCOSAHEXAENOIC ACID (22:6(3)) (% of total fatty acid by weight)                         \n",
       "98   Q100 dBRTHLEV   questionnaire PERCENTAGE WHO SUFFER BREATHLESSNESS WHEN WALKING WITH OTHERS ON LEVEL GROUND                         \n",
       "75   P031 Zn         plasma ZINC (mg/dL)                                                                                                 \n",
       "23   P012 RETINOL    plasma RETINOL (ug/dL)                                                                                              \n",
       "20   P004 APOA1      plasma APOLIPOPROTEIN A1 (mg/dL) (non-pooled analysis)                                                              \n",
       "\n",
       "     code  \n",
       "117  q099  \n",
       "182  q158  \n",
       "42   d042  \n",
       "92   p043  \n",
       "125  q037  \n",
       "43   d043  \n",
       "155  q176  \n",
       "69   r022  \n",
       "98   q100  \n",
       "75   p031  \n",
       "23   p012  \n",
       "20   p004  "
      ]
     },
     "execution_count": 77,
     "metadata": {},
     "output_type": "execute_result"
    }
   ],
   "source": [
    "# imp_features['m059_ALLVASCc'][imp_features['m059_ALLVASCc'] != 0].to_frame().sort_values(by='m059_ALLVASCc', ascending=False)\n",
    "score_df[['m059_ALLVASCc', 'description', 'code']][np.abs(score_df['m059_ALLVASCc']) > 0.14]\\\n",
    ".sort_values(by='m059_ALLVASCc', ascending=False)"
   ]
  },
  {
   "cell_type": "code",
   "execution_count": 93,
   "id": "d27f6966-818c-4bf8-8c25-70bfec80819a",
   "metadata": {
    "execution": {
     "iopub.execute_input": "2023-01-19T04:17:15.826048Z",
     "iopub.status.busy": "2023-01-19T04:17:15.825364Z",
     "iopub.status.idle": "2023-01-19T04:17:15.842597Z",
     "shell.execute_reply": "2023-01-19T04:17:15.841972Z",
     "shell.execute_reply.started": "2023-01-19T04:17:15.825997Z"
    },
    "tags": []
   },
   "outputs": [
    {
     "data": {
      "text/html": [
       "<div>\n",
       "<style scoped>\n",
       "    .dataframe tbody tr th:only-of-type {\n",
       "        vertical-align: middle;\n",
       "    }\n",
       "\n",
       "    .dataframe tbody tr th {\n",
       "        vertical-align: top;\n",
       "    }\n",
       "\n",
       "    .dataframe thead th {\n",
       "        text-align: right;\n",
       "    }\n",
       "</style>\n",
       "<table border=\"1\" class=\"dataframe\">\n",
       "  <thead>\n",
       "    <tr style=\"text-align: right;\">\n",
       "      <th></th>\n",
       "      <th>m028_OESOPHCAc</th>\n",
       "      <th>description</th>\n",
       "      <th>code</th>\n",
       "    </tr>\n",
       "  </thead>\n",
       "  <tbody>\n",
       "    <tr>\n",
       "      <th>91</th>\n",
       "      <td>27.256861</td>\n",
       "      <td>P042 HBsAg      plasma HEPATITIS B SURFACE ANTIGEN</td>\n",
       "      <td>p042</td>\n",
       "    </tr>\n",
       "    <tr>\n",
       "      <th>24</th>\n",
       "      <td>15.778510</td>\n",
       "      <td>P008 A-CAROT    plasma ALPHA CAROTENE (ug/dL)</td>\n",
       "      <td>p008</td>\n",
       "    </tr>\n",
       "    <tr>\n",
       "      <th>163</th>\n",
       "      <td>12.768285</td>\n",
       "      <td>D013 VITE       diet survey TOTAL VITAMIN E INTAKE (mg/day/reference man)</td>\n",
       "      <td>d013</td>\n",
       "    </tr>\n",
       "    <tr>\n",
       "      <th>113</th>\n",
       "      <td>10.214094</td>\n",
       "      <td>Q125 dFAMINDUR  questionnaire TOTAL DURATION OF SEVERE FOOD SHORTAGES DURING THE LAST 30 YEARS (months)</td>\n",
       "      <td>q125</td>\n",
       "    </tr>\n",
       "    <tr>\n",
       "      <th>25</th>\n",
       "      <td>-5.616304</td>\n",
       "      <td>P009 B-CAROT    plasma BETA CAROTENE (ug/dL)</td>\n",
       "      <td>p009</td>\n",
       "    </tr>\n",
       "    <tr>\n",
       "      <th>71</th>\n",
       "      <td>-9.320177</td>\n",
       "      <td>R025 20:3n6     red blood cell TOTAL LIPID DI-HOMO-GAMMA-LINOLENIC ACID (20:3(6))</td>\n",
       "      <td>r025</td>\n",
       "    </tr>\n",
       "    <tr>\n",
       "      <th>88</th>\n",
       "      <td>-12.848072</td>\n",
       "      <td>P038 PEPSIN     plasma PEPSINOGEN I/II</td>\n",
       "      <td>p038</td>\n",
       "    </tr>\n",
       "    <tr>\n",
       "      <th>174</th>\n",
       "      <td>-13.961973</td>\n",
       "      <td>Q149 dALCEVER   questionnaire PERCENTAGE EVER DRUNK ALCOHOL 3 OR MORE DAYS A WEEK FOR MORE THAN 6 MONTHS</td>\n",
       "      <td>q149</td>\n",
       "    </tr>\n",
       "    <tr>\n",
       "      <th>185</th>\n",
       "      <td>-18.799187</td>\n",
       "      <td>R026 20:4n6     red blood cell TOTAL LIPID ARACHIDONIC ACID (20:4(6)) (% of total fatty acid by weight)</td>\n",
       "      <td>r026</td>\n",
       "    </tr>\n",
       "    <tr>\n",
       "      <th>144</th>\n",
       "      <td>-35.031992</td>\n",
       "      <td>Q165 dSMOKFOOD  questionnaire PERCENTAGE EVER EAT SMOKED FOOD</td>\n",
       "      <td>q165</td>\n",
       "    </tr>\n",
       "  </tbody>\n",
       "</table>\n",
       "</div>"
      ],
      "text/plain": [
       "     m028_OESOPHCAc  \\\n",
       "91        27.256861   \n",
       "24        15.778510   \n",
       "163       12.768285   \n",
       "113       10.214094   \n",
       "25        -5.616304   \n",
       "71        -9.320177   \n",
       "88       -12.848072   \n",
       "174      -13.961973   \n",
       "185      -18.799187   \n",
       "144      -35.031992   \n",
       "\n",
       "                                                                                                                           description  \\\n",
       "91   P042 HBsAg      plasma HEPATITIS B SURFACE ANTIGEN                                                                                  \n",
       "24   P008 A-CAROT    plasma ALPHA CAROTENE (ug/dL)                                                                                       \n",
       "163  D013 VITE       diet survey TOTAL VITAMIN E INTAKE (mg/day/reference man)                                                           \n",
       "113  Q125 dFAMINDUR  questionnaire TOTAL DURATION OF SEVERE FOOD SHORTAGES DURING THE LAST 30 YEARS (months)                             \n",
       "25   P009 B-CAROT    plasma BETA CAROTENE (ug/dL)                                                                                        \n",
       "71   R025 20:3n6     red blood cell TOTAL LIPID DI-HOMO-GAMMA-LINOLENIC ACID (20:3(6))                                                   \n",
       "88   P038 PEPSIN     plasma PEPSINOGEN I/II                                                                                              \n",
       "174  Q149 dALCEVER   questionnaire PERCENTAGE EVER DRUNK ALCOHOL 3 OR MORE DAYS A WEEK FOR MORE THAN 6 MONTHS                            \n",
       "185  R026 20:4n6     red blood cell TOTAL LIPID ARACHIDONIC ACID (20:4(6)) (% of total fatty acid by weight)                             \n",
       "144  Q165 dSMOKFOOD  questionnaire PERCENTAGE EVER EAT SMOKED FOOD                                                                       \n",
       "\n",
       "     code  \n",
       "91   p042  \n",
       "24   p008  \n",
       "163  d013  \n",
       "113  q125  \n",
       "25   p009  \n",
       "71   r025  \n",
       "88   p038  \n",
       "174  q149  \n",
       "185  r026  \n",
       "144  q165  "
      ]
     },
     "execution_count": 93,
     "metadata": {},
     "output_type": "execute_result"
    }
   ],
   "source": [
    "# imp_features['m028_OESOPHCAc'][imp_features['m028_OESOPHCAc'] != 0].to_frame().sort_values(by='m028_OESOPHCAc', ascending=False)\n",
    "score_df[['m028_OESOPHCAc', 'description', 'code']][np.abs(score_df['m028_OESOPHCAc']) > 5]\\\n",
    ".sort_values(by='m028_OESOPHCAc', ascending=False)"
   ]
  },
  {
   "cell_type": "code",
   "execution_count": 94,
   "id": "86d7cc92-7912-430c-b1b2-3941182ced64",
   "metadata": {
    "execution": {
     "iopub.execute_input": "2023-01-19T04:17:33.489780Z",
     "iopub.status.busy": "2023-01-19T04:17:33.489226Z",
     "iopub.status.idle": "2023-01-19T04:17:33.506081Z",
     "shell.execute_reply": "2023-01-19T04:17:33.505338Z",
     "shell.execute_reply.started": "2023-01-19T04:17:33.489737Z"
    },
    "tags": []
   },
   "outputs": [
    {
     "data": {
      "text/html": [
       "<div>\n",
       "<style scoped>\n",
       "    .dataframe tbody tr th:only-of-type {\n",
       "        vertical-align: middle;\n",
       "    }\n",
       "\n",
       "    .dataframe tbody tr th {\n",
       "        vertical-align: top;\n",
       "    }\n",
       "\n",
       "    .dataframe thead th {\n",
       "        text-align: right;\n",
       "    }\n",
       "</style>\n",
       "<table border=\"1\" class=\"dataframe\">\n",
       "  <thead>\n",
       "    <tr style=\"text-align: right;\">\n",
       "      <th></th>\n",
       "      <th>m072_COPDc</th>\n",
       "      <th>description</th>\n",
       "      <th>code</th>\n",
       "    </tr>\n",
       "  </thead>\n",
       "  <tbody>\n",
       "    <tr>\n",
       "      <th>103</th>\n",
       "      <td>29.647219</td>\n",
       "      <td>Q106 dWHEEZE    questionnaire PERCENTAGE WHOSE CHEST OFTEN SOUNDS WHEEZY</td>\n",
       "      <td>q106</td>\n",
       "    </tr>\n",
       "    <tr>\n",
       "      <th>116</th>\n",
       "      <td>20.350247</td>\n",
       "      <td>Q128 dSMOKE     questionnaire PERCENTAGE WHO HAVE EVER SMOKED ANY FORM OF TOBACCO DAILY FOR MORE THAN 6 MONTHS</td>\n",
       "      <td>q128</td>\n",
       "    </tr>\n",
       "    <tr>\n",
       "      <th>5</th>\n",
       "      <td>18.650919</td>\n",
       "      <td>R024 20:2n6     red blood cell TOTAL LIPID EICOSADIENOIC ACID (20:2(6)) (% of total fatty acid by weight)</td>\n",
       "      <td>r024</td>\n",
       "    </tr>\n",
       "    <tr>\n",
       "      <th>7</th>\n",
       "      <td>15.993840</td>\n",
       "      <td>D028 PLNTFOOD   diet survey PLANT FOOD INTAKE (g/day/reference man)</td>\n",
       "      <td>d028</td>\n",
       "    </tr>\n",
       "    <tr>\n",
       "      <th>18</th>\n",
       "      <td>15.980178</td>\n",
       "      <td>P010 G-CAROT    plasma GAMMA CAROTENE (ug/dL)</td>\n",
       "      <td>p010</td>\n",
       "    </tr>\n",
       "    <tr>\n",
       "      <th>42</th>\n",
       "      <td>14.556566</td>\n",
       "      <td>D042 LIGHTVEG   diet survey LIGHT COLOURED VEGETABLE INTAKE (g/day/reference man, fresh weight)</td>\n",
       "      <td>d042</td>\n",
       "    </tr>\n",
       "    <tr>\n",
       "      <th>40</th>\n",
       "      <td>13.283286</td>\n",
       "      <td>D040 STCHTUBER  diet survey STARCHY TUBER INTAKE (g/day/reference man, fresh weight)</td>\n",
       "      <td>d040</td>\n",
       "    </tr>\n",
       "    <tr>\n",
       "      <th>144</th>\n",
       "      <td>12.236443</td>\n",
       "      <td>Q165 dSMOKFOOD  questionnaire PERCENTAGE EVER EAT SMOKED FOOD</td>\n",
       "      <td>q165</td>\n",
       "    </tr>\n",
       "    <tr>\n",
       "      <th>142</th>\n",
       "      <td>-10.747447</td>\n",
       "      <td>Q137 dCIGCONS   questionnaire CURRENT DAILY CONSUMPTION OF MANUFACTURED CIGARETTES (no. per person)</td>\n",
       "      <td>q137</td>\n",
       "    </tr>\n",
       "    <tr>\n",
       "      <th>122</th>\n",
       "      <td>-14.221034</td>\n",
       "      <td>Q022 dEDUCATED  questionnaire PERCENTAGE WHO ARE WELL-EDUCATED</td>\n",
       "      <td>q022</td>\n",
       "    </tr>\n",
       "    <tr>\n",
       "      <th>124</th>\n",
       "      <td>-20.866185</td>\n",
       "      <td>Q025 c%2ndSCHL  questionnaire PERCENTAGE OF HOUSEHOLD HEADS ATTENDED UP TO JUNIOR SCHOOL ONLY</td>\n",
       "      <td>q025</td>\n",
       "    </tr>\n",
       "  </tbody>\n",
       "</table>\n",
       "</div>"
      ],
      "text/plain": [
       "     m072_COPDc  \\\n",
       "103   29.647219   \n",
       "116   20.350247   \n",
       "5     18.650919   \n",
       "7     15.993840   \n",
       "18    15.980178   \n",
       "42    14.556566   \n",
       "40    13.283286   \n",
       "144   12.236443   \n",
       "142  -10.747447   \n",
       "122  -14.221034   \n",
       "124  -20.866185   \n",
       "\n",
       "                                                                                                                           description  \\\n",
       "103  Q106 dWHEEZE    questionnaire PERCENTAGE WHOSE CHEST OFTEN SOUNDS WHEEZY                                                            \n",
       "116  Q128 dSMOKE     questionnaire PERCENTAGE WHO HAVE EVER SMOKED ANY FORM OF TOBACCO DAILY FOR MORE THAN 6 MONTHS                      \n",
       "5    R024 20:2n6     red blood cell TOTAL LIPID EICOSADIENOIC ACID (20:2(6)) (% of total fatty acid by weight)                           \n",
       "7    D028 PLNTFOOD   diet survey PLANT FOOD INTAKE (g/day/reference man)                                                                 \n",
       "18   P010 G-CAROT    plasma GAMMA CAROTENE (ug/dL)                                                                                       \n",
       "42   D042 LIGHTVEG   diet survey LIGHT COLOURED VEGETABLE INTAKE (g/day/reference man, fresh weight)                                     \n",
       "40   D040 STCHTUBER  diet survey STARCHY TUBER INTAKE (g/day/reference man, fresh weight)                                                \n",
       "144  Q165 dSMOKFOOD  questionnaire PERCENTAGE EVER EAT SMOKED FOOD                                                                       \n",
       "142  Q137 dCIGCONS   questionnaire CURRENT DAILY CONSUMPTION OF MANUFACTURED CIGARETTES (no. per person)                                 \n",
       "122  Q022 dEDUCATED  questionnaire PERCENTAGE WHO ARE WELL-EDUCATED                                                                      \n",
       "124  Q025 c%2ndSCHL  questionnaire PERCENTAGE OF HOUSEHOLD HEADS ATTENDED UP TO JUNIOR SCHOOL ONLY                                       \n",
       "\n",
       "     code  \n",
       "103  q106  \n",
       "116  q128  \n",
       "5    r024  \n",
       "7    d028  \n",
       "18   p010  \n",
       "42   d042  \n",
       "40   d040  \n",
       "144  q165  \n",
       "142  q137  \n",
       "122  q022  \n",
       "124  q025  "
      ]
     },
     "execution_count": 94,
     "metadata": {},
     "output_type": "execute_result"
    }
   ],
   "source": [
    "# imp_features['m072_COPDc'][imp_features['m072_COPDc'] > 0].to_frame().sort_values(by='m072_COPDc', ascending=False)\n",
    "score_df[['m072_COPDc', 'description', 'code']][np.abs(score_df['m072_COPDc']) >10]\\\n",
    ".sort_values(by='m072_COPDc', ascending=False)"
   ]
  },
  {
   "cell_type": "code",
   "execution_count": 66,
   "id": "2e92515e-9013-47e3-acf3-f4aa16b9fa6c",
   "metadata": {
    "execution": {
     "iopub.execute_input": "2023-01-19T03:59:23.279107Z",
     "iopub.status.busy": "2023-01-19T03:59:23.278421Z",
     "iopub.status.idle": "2023-01-19T03:59:23.286058Z",
     "shell.execute_reply": "2023-01-19T03:59:23.284382Z",
     "shell.execute_reply.started": "2023-01-19T03:59:23.279054Z"
    },
    "tags": []
   },
   "outputs": [],
   "source": [
    "# I have discovered eli5 package and installed it\n",
    "# <BIAS> is the expected average score of the model\n",
    "# eli5.show_weights(lasso, feature_names = X_train.columns.to_list(), top=-1)"
   ]
  },
  {
   "cell_type": "code",
   "execution_count": null,
   "id": "7418251d-c860-4957-989f-8e5b807537f7",
   "metadata": {},
   "outputs": [],
   "source": []
  }
 ],
 "metadata": {
  "kernelspec": {
   "display_name": "Python 3 (ipykernel)",
   "language": "python",
   "name": "python3"
  },
  "language_info": {
   "codemirror_mode": {
    "name": "ipython",
    "version": 3
   },
   "file_extension": ".py",
   "mimetype": "text/x-python",
   "name": "python",
   "nbconvert_exporter": "python",
   "pygments_lexer": "ipython3",
   "version": "3.9.15"
  }
 },
 "nbformat": 4,
 "nbformat_minor": 5
}
