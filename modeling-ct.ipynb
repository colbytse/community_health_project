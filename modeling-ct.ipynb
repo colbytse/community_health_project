{
 "cells": [
  {
   "cell_type": "code",
   "execution_count": 1,
   "id": "19d829c5-7f0b-4918-91ff-5f8b0dc18f5e",
   "metadata": {
    "execution": {
     "iopub.execute_input": "2023-01-18T04:13:14.571971Z",
     "iopub.status.busy": "2023-01-18T04:13:14.571828Z",
     "iopub.status.idle": "2023-01-18T04:13:16.801989Z",
     "shell.execute_reply": "2023-01-18T04:13:16.801476Z",
     "shell.execute_reply.started": "2023-01-18T04:13:14.571959Z"
    },
    "tags": []
   },
   "outputs": [],
   "source": [
    "import numpy as np\n",
    "import pandas as pd\n",
    "import matplotlib.pyplot as plt\n",
    "import seaborn as sns\n",
    "\n",
    "from sklearn.model_selection import train_test_split, cross_val_score\n",
    "from sklearn.linear_model import LinearRegression,\\\n",
    "                                RidgeCV, LassoCV, LogisticRegression\n",
    "from sklearn.preprocessing import StandardScaler, PolynomialFeatures, OneHotEncoder\n",
    "from sklearn.metrics import r2_score, mean_squared_error\n",
    "from tensorflow.keras.models import Sequential\n",
    "from tensorflow.keras.layers import Dense"
   ]
  },
  {
   "cell_type": "markdown",
   "id": "c95c3b26-058d-4f20-8359-f04112369bcb",
   "metadata": {},
   "source": [
    "[BOOKMARK](#BOOKMARK)"
   ]
  },
  {
   "cell_type": "markdown",
   "id": "089ef8c3-750c-4b57-a1fd-74f10674b8a5",
   "metadata": {},
   "source": [
    "### Functions"
   ]
  },
  {
   "cell_type": "code",
   "execution_count": 2,
   "id": "0995fed4-9c2e-4ca6-b541-4b586190707b",
   "metadata": {
    "execution": {
     "iopub.execute_input": "2023-01-18T04:13:16.803570Z",
     "iopub.status.busy": "2023-01-18T04:13:16.803365Z",
     "iopub.status.idle": "2023-01-18T04:13:16.807701Z",
     "shell.execute_reply": "2023-01-18T04:13:16.807443Z",
     "shell.execute_reply.started": "2023-01-18T04:13:16.803560Z"
    }
   },
   "outputs": [],
   "source": [
    "results = pd.DataFrame(columns = ['Model', 'Train Score', 'Val Score', 'X Val Score', 'RMSE Train', 'RMSE Val'])\n",
    "\n",
    "def update_df(model, model_name):\n",
    "    '''fn updates a dataframe for quick reference of R squared scores and RMSE'''\n",
    "    import warnings\n",
    "    with warnings.catch_warnings():\n",
    "        warnings.simplefilter(\"ignore\")\n",
    "        \n",
    "        train_score = model.score(Xs_train, y_train)\n",
    "        val_score = model.score(Xs_test, y_test)\n",
    "        x_val_score = cross_val_score(model, Xs_train, y_train).mean()\n",
    "        rmse1 = mean_squared_error(y_train, lr.predict(Xs_train))**0.5\n",
    "        rmse2 = mean_squared_error(y_test, lr.predict(Xs_test))**0.5\n",
    "        \n",
    "        results.loc[len(results.index)] = [model_name, train_score, val_score, x_val_score, rmse1, rmse2] \n",
    "        \n",
    "    return results"
   ]
  },
  {
   "cell_type": "markdown",
   "id": "7d0cbefb-b06f-4fe8-bbb0-aa97799c4f7e",
   "metadata": {},
   "source": [
    "### Read in data"
   ]
  },
  {
   "cell_type": "code",
   "execution_count": 3,
   "id": "d4298f6e-bd61-4362-95ad-dccf9d7a16e6",
   "metadata": {
    "execution": {
     "iopub.execute_input": "2023-01-18T04:13:16.808157Z",
     "iopub.status.busy": "2023-01-18T04:13:16.808071Z",
     "iopub.status.idle": "2023-01-18T04:13:16.817137Z",
     "shell.execute_reply": "2023-01-18T04:13:16.816905Z",
     "shell.execute_reply.started": "2023-01-18T04:13:16.808148Z"
    },
    "tags": []
   },
   "outputs": [],
   "source": [
    "df = pd.read_csv('./cleaned_data_descriptive/combined_df.csv',index_col=[0])"
   ]
  },
  {
   "cell_type": "code",
   "execution_count": 4,
   "id": "b83462ef-f795-4a78-8cda-087ba6d08238",
   "metadata": {
    "execution": {
     "iopub.execute_input": "2023-01-18T04:13:16.817676Z",
     "iopub.status.busy": "2023-01-18T04:13:16.817564Z",
     "iopub.status.idle": "2023-01-18T04:13:16.827448Z",
     "shell.execute_reply": "2023-01-18T04:13:16.827163Z",
     "shell.execute_reply.started": "2023-01-18T04:13:16.817667Z"
    },
    "tags": []
   },
   "outputs": [
    {
     "data": {
      "text/html": [
       "<div>\n",
       "<style scoped>\n",
       "    .dataframe tbody tr th:only-of-type {\n",
       "        vertical-align: middle;\n",
       "    }\n",
       "\n",
       "    .dataframe tbody tr th {\n",
       "        vertical-align: top;\n",
       "    }\n",
       "\n",
       "    .dataframe thead th {\n",
       "        text-align: right;\n",
       "    }\n",
       "</style>\n",
       "<table border=\"1\" class=\"dataframe\">\n",
       "  <thead>\n",
       "    <tr style=\"text-align: right;\">\n",
       "      <th></th>\n",
       "      <th>county</th>\n",
       "      <th>sex</th>\n",
       "      <th>xiang</th>\n",
       "      <th>q010</th>\n",
       "      <th>q015</th>\n",
       "      <th>q016</th>\n",
       "      <th>q022</th>\n",
       "      <th>q023</th>\n",
       "      <th>q024</th>\n",
       "      <th>q025</th>\n",
       "      <th>...</th>\n",
       "      <th>u024</th>\n",
       "      <th>u025</th>\n",
       "      <th>u026</th>\n",
       "      <th>u027</th>\n",
       "      <th>u028</th>\n",
       "      <th>u029</th>\n",
       "      <th>u030</th>\n",
       "      <th>u031</th>\n",
       "      <th>u032</th>\n",
       "      <th>u033</th>\n",
       "    </tr>\n",
       "  </thead>\n",
       "  <tbody>\n",
       "    <tr>\n",
       "      <th>0</th>\n",
       "      <td>AA</td>\n",
       "      <td>F</td>\n",
       "      <td>1</td>\n",
       "      <td>NaN</td>\n",
       "      <td>NaN</td>\n",
       "      <td>NaN</td>\n",
       "      <td>0.0</td>\n",
       "      <td>NaN</td>\n",
       "      <td>NaN</td>\n",
       "      <td>NaN</td>\n",
       "      <td>...</td>\n",
       "      <td>NaN</td>\n",
       "      <td>NaN</td>\n",
       "      <td>NaN</td>\n",
       "      <td>NaN</td>\n",
       "      <td>NaN</td>\n",
       "      <td>NaN</td>\n",
       "      <td>NaN</td>\n",
       "      <td>NaN</td>\n",
       "      <td>NaN</td>\n",
       "      <td>NaN</td>\n",
       "    </tr>\n",
       "    <tr>\n",
       "      <th>1</th>\n",
       "      <td>AA</td>\n",
       "      <td>F</td>\n",
       "      <td>2</td>\n",
       "      <td>NaN</td>\n",
       "      <td>NaN</td>\n",
       "      <td>NaN</td>\n",
       "      <td>0.0</td>\n",
       "      <td>NaN</td>\n",
       "      <td>NaN</td>\n",
       "      <td>NaN</td>\n",
       "      <td>...</td>\n",
       "      <td>NaN</td>\n",
       "      <td>NaN</td>\n",
       "      <td>NaN</td>\n",
       "      <td>NaN</td>\n",
       "      <td>NaN</td>\n",
       "      <td>NaN</td>\n",
       "      <td>NaN</td>\n",
       "      <td>NaN</td>\n",
       "      <td>NaN</td>\n",
       "      <td>NaN</td>\n",
       "    </tr>\n",
       "    <tr>\n",
       "      <th>2</th>\n",
       "      <td>AA</td>\n",
       "      <td>F</td>\n",
       "      <td>3</td>\n",
       "      <td>NaN</td>\n",
       "      <td>NaN</td>\n",
       "      <td>NaN</td>\n",
       "      <td>0.0</td>\n",
       "      <td>NaN</td>\n",
       "      <td>NaN</td>\n",
       "      <td>NaN</td>\n",
       "      <td>...</td>\n",
       "      <td>NaN</td>\n",
       "      <td>NaN</td>\n",
       "      <td>NaN</td>\n",
       "      <td>NaN</td>\n",
       "      <td>NaN</td>\n",
       "      <td>NaN</td>\n",
       "      <td>NaN</td>\n",
       "      <td>NaN</td>\n",
       "      <td>NaN</td>\n",
       "      <td>NaN</td>\n",
       "    </tr>\n",
       "    <tr>\n",
       "      <th>3</th>\n",
       "      <td>AA</td>\n",
       "      <td>T</td>\n",
       "      <td>3</td>\n",
       "      <td>40.2</td>\n",
       "      <td>60.0</td>\n",
       "      <td>70.0</td>\n",
       "      <td>3.3</td>\n",
       "      <td>22.4</td>\n",
       "      <td>41.9</td>\n",
       "      <td>35.7</td>\n",
       "      <td>...</td>\n",
       "      <td>NaN</td>\n",
       "      <td>NaN</td>\n",
       "      <td>NaN</td>\n",
       "      <td>NaN</td>\n",
       "      <td>NaN</td>\n",
       "      <td>NaN</td>\n",
       "      <td>NaN</td>\n",
       "      <td>NaN</td>\n",
       "      <td>NaN</td>\n",
       "      <td>NaN</td>\n",
       "    </tr>\n",
       "    <tr>\n",
       "      <th>4</th>\n",
       "      <td>AB</td>\n",
       "      <td>F</td>\n",
       "      <td>1</td>\n",
       "      <td>NaN</td>\n",
       "      <td>NaN</td>\n",
       "      <td>NaN</td>\n",
       "      <td>0.0</td>\n",
       "      <td>NaN</td>\n",
       "      <td>NaN</td>\n",
       "      <td>NaN</td>\n",
       "      <td>...</td>\n",
       "      <td>NaN</td>\n",
       "      <td>NaN</td>\n",
       "      <td>NaN</td>\n",
       "      <td>NaN</td>\n",
       "      <td>NaN</td>\n",
       "      <td>NaN</td>\n",
       "      <td>NaN</td>\n",
       "      <td>NaN</td>\n",
       "      <td>NaN</td>\n",
       "      <td>NaN</td>\n",
       "    </tr>\n",
       "  </tbody>\n",
       "</table>\n",
       "<p>5 rows × 296 columns</p>\n",
       "</div>"
      ],
      "text/plain": [
       "  county sex  xiang  q010  q015  q016  q022  q023  q024  q025  ...  u024  \\\n",
       "0     AA   F      1   NaN   NaN   NaN   0.0   NaN   NaN   NaN  ...   NaN   \n",
       "1     AA   F      2   NaN   NaN   NaN   0.0   NaN   NaN   NaN  ...   NaN   \n",
       "2     AA   F      3   NaN   NaN   NaN   0.0   NaN   NaN   NaN  ...   NaN   \n",
       "3     AA   T      3  40.2  60.0  70.0   3.3  22.4  41.9  35.7  ...   NaN   \n",
       "4     AB   F      1   NaN   NaN   NaN   0.0   NaN   NaN   NaN  ...   NaN   \n",
       "\n",
       "   u025  u026  u027  u028  u029  u030  u031  u032  u033  \n",
       "0   NaN   NaN   NaN   NaN   NaN   NaN   NaN   NaN   NaN  \n",
       "1   NaN   NaN   NaN   NaN   NaN   NaN   NaN   NaN   NaN  \n",
       "2   NaN   NaN   NaN   NaN   NaN   NaN   NaN   NaN   NaN  \n",
       "3   NaN   NaN   NaN   NaN   NaN   NaN   NaN   NaN   NaN  \n",
       "4   NaN   NaN   NaN   NaN   NaN   NaN   NaN   NaN   NaN  \n",
       "\n",
       "[5 rows x 296 columns]"
      ]
     },
     "execution_count": 4,
     "metadata": {},
     "output_type": "execute_result"
    }
   ],
   "source": [
    "df.head()"
   ]
  },
  {
   "cell_type": "code",
   "execution_count": 5,
   "id": "65da9bf1-daf3-4473-a836-8724c2c85d73",
   "metadata": {
    "execution": {
     "iopub.execute_input": "2023-01-18T04:13:16.828059Z",
     "iopub.status.busy": "2023-01-18T04:13:16.827923Z",
     "iopub.status.idle": "2023-01-18T04:13:16.830166Z",
     "shell.execute_reply": "2023-01-18T04:13:16.829889Z",
     "shell.execute_reply.started": "2023-01-18T04:13:16.828049Z"
    },
    "tags": []
   },
   "outputs": [
    {
     "data": {
      "text/plain": [
       "(275, 296)"
      ]
     },
     "execution_count": 5,
     "metadata": {},
     "output_type": "execute_result"
    }
   ],
   "source": [
    "df.shape"
   ]
  },
  {
   "cell_type": "code",
   "execution_count": 6,
   "id": "652ceaf4-0ca1-40e7-809d-4af211463245",
   "metadata": {
    "execution": {
     "iopub.execute_input": "2023-01-18T04:13:16.830688Z",
     "iopub.status.busy": "2023-01-18T04:13:16.830607Z",
     "iopub.status.idle": "2023-01-18T04:13:16.833555Z",
     "shell.execute_reply": "2023-01-18T04:13:16.833308Z",
     "shell.execute_reply.started": "2023-01-18T04:13:16.830680Z"
    },
    "tags": []
   },
   "outputs": [
    {
     "data": {
      "text/plain": [
       "(69, 296)"
      ]
     },
     "execution_count": 6,
     "metadata": {},
     "output_type": "execute_result"
    }
   ],
   "source": [
    "df[df['sex'] == 'T'].shape"
   ]
  },
  {
   "cell_type": "code",
   "execution_count": 7,
   "id": "8ca9665d-8ec7-45ce-96c5-fefd4aaf1a35",
   "metadata": {
    "execution": {
     "iopub.execute_input": "2023-01-18T04:13:16.835212Z",
     "iopub.status.busy": "2023-01-18T04:13:16.835131Z",
     "iopub.status.idle": "2023-01-18T04:13:16.837184Z",
     "shell.execute_reply": "2023-01-18T04:13:16.836798Z",
     "shell.execute_reply.started": "2023-01-18T04:13:16.835204Z"
    },
    "tags": []
   },
   "outputs": [],
   "source": [
    "ss = StandardScaler()"
   ]
  },
  {
   "cell_type": "code",
   "execution_count": 8,
   "id": "313a23a9-2096-41e8-bcf1-792c6b21e369",
   "metadata": {
    "execution": {
     "iopub.execute_input": "2023-01-18T04:13:16.837589Z",
     "iopub.status.busy": "2023-01-18T04:13:16.837513Z",
     "iopub.status.idle": "2023-01-18T04:13:16.839155Z",
     "shell.execute_reply": "2023-01-18T04:13:16.838917Z",
     "shell.execute_reply.started": "2023-01-18T04:13:16.837581Z"
    },
    "tags": []
   },
   "outputs": [],
   "source": [
    "# df.columns.to_list() # sanity check"
   ]
  },
  {
   "cell_type": "code",
   "execution_count": 9,
   "id": "66346def-6928-460e-bd86-5bcef9de8fad",
   "metadata": {
    "execution": {
     "iopub.execute_input": "2023-01-18T04:13:16.839724Z",
     "iopub.status.busy": "2023-01-18T04:13:16.839610Z",
     "iopub.status.idle": "2023-01-18T04:13:16.843743Z",
     "shell.execute_reply": "2023-01-18T04:13:16.843468Z",
     "shell.execute_reply.started": "2023-01-18T04:13:16.839716Z"
    },
    "tags": []
   },
   "outputs": [],
   "source": [
    "clean_df = df[(df['sex'] == 'T') & (df['xiang'] == 3)]\\\n",
    ".dropna(subset='m005_ALL35_69').dropna(axis = 'columns')"
   ]
  },
  {
   "cell_type": "code",
   "execution_count": 10,
   "id": "826be448-e763-41c9-a761-6bbd7fed9cee",
   "metadata": {
    "execution": {
     "iopub.execute_input": "2023-01-18T04:13:16.844369Z",
     "iopub.status.busy": "2023-01-18T04:13:16.844231Z",
     "iopub.status.idle": "2023-01-18T04:13:16.847716Z",
     "shell.execute_reply": "2023-01-18T04:13:16.847397Z",
     "shell.execute_reply.started": "2023-01-18T04:13:16.844360Z"
    },
    "tags": []
   },
   "outputs": [
    {
     "data": {
      "text/plain": [
       "3      11.29\n",
       "7      11.82\n",
       "11     10.55\n",
       "15     16.19\n",
       "19     13.59\n",
       "       ...  \n",
       "259    17.05\n",
       "263    13.29\n",
       "266    15.63\n",
       "270    18.88\n",
       "274    17.95\n",
       "Name: m005_ALL35_69, Length: 66, dtype: float64"
      ]
     },
     "execution_count": 10,
     "metadata": {},
     "output_type": "execute_result"
    }
   ],
   "source": [
    "clean_df['m005_ALL35_69']"
   ]
  },
  {
   "cell_type": "code",
   "execution_count": 11,
   "id": "6cdde86d-c049-4acc-a64a-f38c132f340e",
   "metadata": {
    "execution": {
     "iopub.execute_input": "2023-01-18T04:13:16.848327Z",
     "iopub.status.busy": "2023-01-18T04:13:16.848209Z",
     "iopub.status.idle": "2023-01-18T04:13:16.850460Z",
     "shell.execute_reply": "2023-01-18T04:13:16.850204Z",
     "shell.execute_reply.started": "2023-01-18T04:13:16.848318Z"
    },
    "tags": []
   },
   "outputs": [
    {
     "data": {
      "text/plain": [
       "(66, 201)"
      ]
     },
     "execution_count": 11,
     "metadata": {},
     "output_type": "execute_result"
    }
   ],
   "source": [
    "clean_df.shape"
   ]
  },
  {
   "cell_type": "code",
   "execution_count": 12,
   "id": "a367cf5d-db7b-4d4b-bf57-fa13f93066fd",
   "metadata": {
    "execution": {
     "iopub.execute_input": "2023-01-18T04:13:16.850978Z",
     "iopub.status.busy": "2023-01-18T04:13:16.850851Z",
     "iopub.status.idle": "2023-01-18T04:13:16.960372Z",
     "shell.execute_reply": "2023-01-18T04:13:16.960010Z",
     "shell.execute_reply.started": "2023-01-18T04:13:16.850968Z"
    }
   },
   "outputs": [
    {
     "data": {
      "text/html": [
       "<div>\n",
       "<style scoped>\n",
       "    .dataframe tbody tr th:only-of-type {\n",
       "        vertical-align: middle;\n",
       "    }\n",
       "\n",
       "    .dataframe tbody tr th {\n",
       "        vertical-align: top;\n",
       "    }\n",
       "\n",
       "    .dataframe thead th {\n",
       "        text-align: right;\n",
       "    }\n",
       "</style>\n",
       "<table border=\"1\" class=\"dataframe\">\n",
       "  <thead>\n",
       "    <tr style=\"text-align: right;\">\n",
       "      <th></th>\n",
       "      <th>xiang</th>\n",
       "      <th>q010</th>\n",
       "      <th>q015</th>\n",
       "      <th>q016</th>\n",
       "      <th>q022</th>\n",
       "      <th>q023</th>\n",
       "      <th>q024</th>\n",
       "      <th>q025</th>\n",
       "      <th>q037</th>\n",
       "      <th>q038</th>\n",
       "      <th>...</th>\n",
       "      <th>r017</th>\n",
       "      <th>r018</th>\n",
       "      <th>r019</th>\n",
       "      <th>r020</th>\n",
       "      <th>r021</th>\n",
       "      <th>r022</th>\n",
       "      <th>r023</th>\n",
       "      <th>r024</th>\n",
       "      <th>r025</th>\n",
       "      <th>r026</th>\n",
       "    </tr>\n",
       "  </thead>\n",
       "  <tbody>\n",
       "    <tr>\n",
       "      <th>count</th>\n",
       "      <td>66.0</td>\n",
       "      <td>66.000000</td>\n",
       "      <td>66.000000</td>\n",
       "      <td>66.000000</td>\n",
       "      <td>66.000000</td>\n",
       "      <td>66.000000</td>\n",
       "      <td>66.000000</td>\n",
       "      <td>66.000000</td>\n",
       "      <td>66.000000</td>\n",
       "      <td>66.000000</td>\n",
       "      <td>...</td>\n",
       "      <td>66.000000</td>\n",
       "      <td>66.000000</td>\n",
       "      <td>66.000000</td>\n",
       "      <td>66.000000</td>\n",
       "      <td>66.000000</td>\n",
       "      <td>66.000000</td>\n",
       "      <td>66.000000</td>\n",
       "      <td>66.000000</td>\n",
       "      <td>66.000000</td>\n",
       "      <td>66.000000</td>\n",
       "    </tr>\n",
       "    <tr>\n",
       "      <th>mean</th>\n",
       "      <td>3.0</td>\n",
       "      <td>75.156061</td>\n",
       "      <td>59.174242</td>\n",
       "      <td>72.848485</td>\n",
       "      <td>3.065152</td>\n",
       "      <td>29.019697</td>\n",
       "      <td>45.112121</td>\n",
       "      <td>24.787879</td>\n",
       "      <td>2112.939394</td>\n",
       "      <td>1004.287879</td>\n",
       "      <td>...</td>\n",
       "      <td>0.911818</td>\n",
       "      <td>0.855152</td>\n",
       "      <td>8.555152</td>\n",
       "      <td>0.394091</td>\n",
       "      <td>0.555303</td>\n",
       "      <td>3.926212</td>\n",
       "      <td>9.411364</td>\n",
       "      <td>0.537727</td>\n",
       "      <td>1.667424</td>\n",
       "      <td>11.307576</td>\n",
       "    </tr>\n",
       "    <tr>\n",
       "      <th>std</th>\n",
       "      <td>0.0</td>\n",
       "      <td>19.578026</td>\n",
       "      <td>19.377126</td>\n",
       "      <td>16.551544</td>\n",
       "      <td>2.691210</td>\n",
       "      <td>12.444637</td>\n",
       "      <td>9.117178</td>\n",
       "      <td>9.574333</td>\n",
       "      <td>1013.991153</td>\n",
       "      <td>832.391730</td>\n",
       "      <td>...</td>\n",
       "      <td>0.385239</td>\n",
       "      <td>0.739628</td>\n",
       "      <td>3.392067</td>\n",
       "      <td>0.313894</td>\n",
       "      <td>0.332858</td>\n",
       "      <td>1.557350</td>\n",
       "      <td>1.296920</td>\n",
       "      <td>0.093936</td>\n",
       "      <td>0.266373</td>\n",
       "      <td>2.896327</td>\n",
       "    </tr>\n",
       "    <tr>\n",
       "      <th>min</th>\n",
       "      <td>3.0</td>\n",
       "      <td>0.000000</td>\n",
       "      <td>13.000000</td>\n",
       "      <td>19.000000</td>\n",
       "      <td>0.000000</td>\n",
       "      <td>4.700000</td>\n",
       "      <td>19.400000</td>\n",
       "      <td>9.300000</td>\n",
       "      <td>691.000000</td>\n",
       "      <td>63.000000</td>\n",
       "      <td>...</td>\n",
       "      <td>0.280000</td>\n",
       "      <td>0.080000</td>\n",
       "      <td>3.730000</td>\n",
       "      <td>0.040000</td>\n",
       "      <td>0.130000</td>\n",
       "      <td>1.190000</td>\n",
       "      <td>6.540000</td>\n",
       "      <td>0.360000</td>\n",
       "      <td>1.170000</td>\n",
       "      <td>7.500000</td>\n",
       "    </tr>\n",
       "    <tr>\n",
       "      <th>25%</th>\n",
       "      <td>3.0</td>\n",
       "      <td>71.775000</td>\n",
       "      <td>45.625000</td>\n",
       "      <td>62.500000</td>\n",
       "      <td>1.600000</td>\n",
       "      <td>20.150000</td>\n",
       "      <td>38.900000</td>\n",
       "      <td>18.225000</td>\n",
       "      <td>1451.250000</td>\n",
       "      <td>418.750000</td>\n",
       "      <td>...</td>\n",
       "      <td>0.595000</td>\n",
       "      <td>0.312500</td>\n",
       "      <td>5.700000</td>\n",
       "      <td>0.200000</td>\n",
       "      <td>0.340000</td>\n",
       "      <td>2.625000</td>\n",
       "      <td>8.507500</td>\n",
       "      <td>0.490000</td>\n",
       "      <td>1.450000</td>\n",
       "      <td>9.200000</td>\n",
       "    </tr>\n",
       "    <tr>\n",
       "      <th>50%</th>\n",
       "      <td>3.0</td>\n",
       "      <td>81.950000</td>\n",
       "      <td>58.250000</td>\n",
       "      <td>75.000000</td>\n",
       "      <td>2.350000</td>\n",
       "      <td>28.350000</td>\n",
       "      <td>45.600000</td>\n",
       "      <td>23.400000</td>\n",
       "      <td>1983.000000</td>\n",
       "      <td>706.500000</td>\n",
       "      <td>...</td>\n",
       "      <td>0.830000</td>\n",
       "      <td>0.580000</td>\n",
       "      <td>7.700000</td>\n",
       "      <td>0.265000</td>\n",
       "      <td>0.465000</td>\n",
       "      <td>4.030000</td>\n",
       "      <td>9.300000</td>\n",
       "      <td>0.530000</td>\n",
       "      <td>1.625000</td>\n",
       "      <td>10.550000</td>\n",
       "    </tr>\n",
       "    <tr>\n",
       "      <th>75%</th>\n",
       "      <td>3.0</td>\n",
       "      <td>88.625000</td>\n",
       "      <td>72.375000</td>\n",
       "      <td>84.500000</td>\n",
       "      <td>4.375000</td>\n",
       "      <td>35.475000</td>\n",
       "      <td>51.675000</td>\n",
       "      <td>32.025000</td>\n",
       "      <td>2505.500000</td>\n",
       "      <td>1350.250000</td>\n",
       "      <td>...</td>\n",
       "      <td>1.250000</td>\n",
       "      <td>1.185000</td>\n",
       "      <td>11.312500</td>\n",
       "      <td>0.605000</td>\n",
       "      <td>0.682500</td>\n",
       "      <td>5.250000</td>\n",
       "      <td>10.060000</td>\n",
       "      <td>0.560000</td>\n",
       "      <td>1.817500</td>\n",
       "      <td>12.075000</td>\n",
       "    </tr>\n",
       "    <tr>\n",
       "      <th>max</th>\n",
       "      <td>3.0</td>\n",
       "      <td>96.700000</td>\n",
       "      <td>95.000000</td>\n",
       "      <td>100.000000</td>\n",
       "      <td>12.500000</td>\n",
       "      <td>63.000000</td>\n",
       "      <td>64.800000</td>\n",
       "      <td>49.600000</td>\n",
       "      <td>7238.000000</td>\n",
       "      <td>3925.000000</td>\n",
       "      <td>...</td>\n",
       "      <td>1.650000</td>\n",
       "      <td>2.720000</td>\n",
       "      <td>17.320000</td>\n",
       "      <td>1.830000</td>\n",
       "      <td>1.980000</td>\n",
       "      <td>6.460000</td>\n",
       "      <td>12.780000</td>\n",
       "      <td>0.780000</td>\n",
       "      <td>2.350000</td>\n",
       "      <td>19.600000</td>\n",
       "    </tr>\n",
       "  </tbody>\n",
       "</table>\n",
       "<p>8 rows × 199 columns</p>\n",
       "</div>"
      ],
      "text/plain": [
       "       xiang       q010       q015        q016       q022       q023  \\\n",
       "count   66.0  66.000000  66.000000   66.000000  66.000000  66.000000   \n",
       "mean     3.0  75.156061  59.174242   72.848485   3.065152  29.019697   \n",
       "std      0.0  19.578026  19.377126   16.551544   2.691210  12.444637   \n",
       "min      3.0   0.000000  13.000000   19.000000   0.000000   4.700000   \n",
       "25%      3.0  71.775000  45.625000   62.500000   1.600000  20.150000   \n",
       "50%      3.0  81.950000  58.250000   75.000000   2.350000  28.350000   \n",
       "75%      3.0  88.625000  72.375000   84.500000   4.375000  35.475000   \n",
       "max      3.0  96.700000  95.000000  100.000000  12.500000  63.000000   \n",
       "\n",
       "            q024       q025         q037         q038  ...       r017  \\\n",
       "count  66.000000  66.000000    66.000000    66.000000  ...  66.000000   \n",
       "mean   45.112121  24.787879  2112.939394  1004.287879  ...   0.911818   \n",
       "std     9.117178   9.574333  1013.991153   832.391730  ...   0.385239   \n",
       "min    19.400000   9.300000   691.000000    63.000000  ...   0.280000   \n",
       "25%    38.900000  18.225000  1451.250000   418.750000  ...   0.595000   \n",
       "50%    45.600000  23.400000  1983.000000   706.500000  ...   0.830000   \n",
       "75%    51.675000  32.025000  2505.500000  1350.250000  ...   1.250000   \n",
       "max    64.800000  49.600000  7238.000000  3925.000000  ...   1.650000   \n",
       "\n",
       "            r018       r019       r020       r021       r022       r023  \\\n",
       "count  66.000000  66.000000  66.000000  66.000000  66.000000  66.000000   \n",
       "mean    0.855152   8.555152   0.394091   0.555303   3.926212   9.411364   \n",
       "std     0.739628   3.392067   0.313894   0.332858   1.557350   1.296920   \n",
       "min     0.080000   3.730000   0.040000   0.130000   1.190000   6.540000   \n",
       "25%     0.312500   5.700000   0.200000   0.340000   2.625000   8.507500   \n",
       "50%     0.580000   7.700000   0.265000   0.465000   4.030000   9.300000   \n",
       "75%     1.185000  11.312500   0.605000   0.682500   5.250000  10.060000   \n",
       "max     2.720000  17.320000   1.830000   1.980000   6.460000  12.780000   \n",
       "\n",
       "            r024       r025       r026  \n",
       "count  66.000000  66.000000  66.000000  \n",
       "mean    0.537727   1.667424  11.307576  \n",
       "std     0.093936   0.266373   2.896327  \n",
       "min     0.360000   1.170000   7.500000  \n",
       "25%     0.490000   1.450000   9.200000  \n",
       "50%     0.530000   1.625000  10.550000  \n",
       "75%     0.560000   1.817500  12.075000  \n",
       "max     0.780000   2.350000  19.600000  \n",
       "\n",
       "[8 rows x 199 columns]"
      ]
     },
     "execution_count": 12,
     "metadata": {},
     "output_type": "execute_result"
    }
   ],
   "source": [
    "clean_df.describe()"
   ]
  },
  {
   "cell_type": "markdown",
   "id": "f8483677-fda8-48aa-872a-569d34474ede",
   "metadata": {},
   "source": [
    "### Linear Regression\n",
    "\n",
    "Trying out the most basic model first and seeing if anything sticks."
   ]
  },
  {
   "cell_type": "code",
   "execution_count": 13,
   "id": "52eed53e-6216-4f95-b536-efcd48d84028",
   "metadata": {
    "execution": {
     "iopub.execute_input": "2023-01-18T04:13:16.960924Z",
     "iopub.status.busy": "2023-01-18T04:13:16.960830Z",
     "iopub.status.idle": "2023-01-18T04:13:16.964198Z",
     "shell.execute_reply": "2023-01-18T04:13:16.963893Z",
     "shell.execute_reply.started": "2023-01-18T04:13:16.960915Z"
    },
    "tags": []
   },
   "outputs": [],
   "source": [
    "X = clean_df.drop(columns = ['county', 'sex', 'xiang','m005_ALL35_69'])\n",
    "y = clean_df['m005_ALL35_69']\n",
    "\n",
    "X_train, X_test, y_train, y_test = train_test_split(X, y, random_state=33)"
   ]
  },
  {
   "cell_type": "markdown",
   "id": "5b37aa63-fdbc-49f2-b4a0-d32d99874089",
   "metadata": {},
   "source": [
    "We're suffering from dimensionality here; we have too many features. We need to figure out which ones to focus on; trying to limit to 10 features for our 69 or so rows. Lasso and/or Ridge could help us out here."
   ]
  },
  {
   "cell_type": "code",
   "execution_count": 14,
   "id": "fb1a77f0-3ea2-46ee-9bd0-64a5b0f78e50",
   "metadata": {
    "execution": {
     "iopub.execute_input": "2023-01-18T04:13:16.964772Z",
     "iopub.status.busy": "2023-01-18T04:13:16.964686Z",
     "iopub.status.idle": "2023-01-18T04:13:16.967053Z",
     "shell.execute_reply": "2023-01-18T04:13:16.966838Z",
     "shell.execute_reply.started": "2023-01-18T04:13:16.964763Z"
    },
    "tags": []
   },
   "outputs": [
    {
     "data": {
      "text/plain": [
       "((49, 197), (17, 197), (49,), (17,))"
      ]
     },
     "execution_count": 14,
     "metadata": {},
     "output_type": "execute_result"
    }
   ],
   "source": [
    "X_train.shape, X_test.shape, y_train.shape, y_test.shape"
   ]
  },
  {
   "cell_type": "markdown",
   "id": "2437cc61-aaec-4de8-8461-a4f05328c5df",
   "metadata": {},
   "source": [
    "Standard scaler to get everything on the same page."
   ]
  },
  {
   "cell_type": "code",
   "execution_count": 15,
   "id": "d38f35c1-d62f-439b-be79-699a53811cc0",
   "metadata": {
    "execution": {
     "iopub.execute_input": "2023-01-18T04:13:16.967603Z",
     "iopub.status.busy": "2023-01-18T04:13:16.967517Z",
     "iopub.status.idle": "2023-01-18T04:13:16.973029Z",
     "shell.execute_reply": "2023-01-18T04:13:16.972791Z",
     "shell.execute_reply.started": "2023-01-18T04:13:16.967595Z"
    },
    "tags": []
   },
   "outputs": [],
   "source": [
    "Xs_train = ss.fit_transform(X_train)\n",
    "Xs_test = ss.transform(X_test)"
   ]
  },
  {
   "cell_type": "code",
   "execution_count": 16,
   "id": "94edd8b9-0c2e-4180-b200-4632e4085cf2",
   "metadata": {
    "execution": {
     "iopub.execute_input": "2023-01-18T04:13:16.973583Z",
     "iopub.status.busy": "2023-01-18T04:13:16.973455Z",
     "iopub.status.idle": "2023-01-18T04:13:16.975154Z",
     "shell.execute_reply": "2023-01-18T04:13:16.974852Z",
     "shell.execute_reply.started": "2023-01-18T04:13:16.973573Z"
    },
    "tags": []
   },
   "outputs": [],
   "source": [
    "lr = LinearRegression()"
   ]
  },
  {
   "cell_type": "code",
   "execution_count": 17,
   "id": "65cad832-483b-4ce8-9a92-a1c736f89508",
   "metadata": {
    "execution": {
     "iopub.execute_input": "2023-01-18T04:13:16.975633Z",
     "iopub.status.busy": "2023-01-18T04:13:16.975521Z",
     "iopub.status.idle": "2023-01-18T04:13:16.980786Z",
     "shell.execute_reply": "2023-01-18T04:13:16.980504Z",
     "shell.execute_reply.started": "2023-01-18T04:13:16.975625Z"
    },
    "tags": []
   },
   "outputs": [
    {
     "data": {
      "text/html": [
       "<style>#sk-container-id-1 {color: black;background-color: white;}#sk-container-id-1 pre{padding: 0;}#sk-container-id-1 div.sk-toggleable {background-color: white;}#sk-container-id-1 label.sk-toggleable__label {cursor: pointer;display: block;width: 100%;margin-bottom: 0;padding: 0.3em;box-sizing: border-box;text-align: center;}#sk-container-id-1 label.sk-toggleable__label-arrow:before {content: \"▸\";float: left;margin-right: 0.25em;color: #696969;}#sk-container-id-1 label.sk-toggleable__label-arrow:hover:before {color: black;}#sk-container-id-1 div.sk-estimator:hover label.sk-toggleable__label-arrow:before {color: black;}#sk-container-id-1 div.sk-toggleable__content {max-height: 0;max-width: 0;overflow: hidden;text-align: left;background-color: #f0f8ff;}#sk-container-id-1 div.sk-toggleable__content pre {margin: 0.2em;color: black;border-radius: 0.25em;background-color: #f0f8ff;}#sk-container-id-1 input.sk-toggleable__control:checked~div.sk-toggleable__content {max-height: 200px;max-width: 100%;overflow: auto;}#sk-container-id-1 input.sk-toggleable__control:checked~label.sk-toggleable__label-arrow:before {content: \"▾\";}#sk-container-id-1 div.sk-estimator input.sk-toggleable__control:checked~label.sk-toggleable__label {background-color: #d4ebff;}#sk-container-id-1 div.sk-label input.sk-toggleable__control:checked~label.sk-toggleable__label {background-color: #d4ebff;}#sk-container-id-1 input.sk-hidden--visually {border: 0;clip: rect(1px 1px 1px 1px);clip: rect(1px, 1px, 1px, 1px);height: 1px;margin: -1px;overflow: hidden;padding: 0;position: absolute;width: 1px;}#sk-container-id-1 div.sk-estimator {font-family: monospace;background-color: #f0f8ff;border: 1px dotted black;border-radius: 0.25em;box-sizing: border-box;margin-bottom: 0.5em;}#sk-container-id-1 div.sk-estimator:hover {background-color: #d4ebff;}#sk-container-id-1 div.sk-parallel-item::after {content: \"\";width: 100%;border-bottom: 1px solid gray;flex-grow: 1;}#sk-container-id-1 div.sk-label:hover label.sk-toggleable__label {background-color: #d4ebff;}#sk-container-id-1 div.sk-serial::before {content: \"\";position: absolute;border-left: 1px solid gray;box-sizing: border-box;top: 0;bottom: 0;left: 50%;z-index: 0;}#sk-container-id-1 div.sk-serial {display: flex;flex-direction: column;align-items: center;background-color: white;padding-right: 0.2em;padding-left: 0.2em;position: relative;}#sk-container-id-1 div.sk-item {position: relative;z-index: 1;}#sk-container-id-1 div.sk-parallel {display: flex;align-items: stretch;justify-content: center;background-color: white;position: relative;}#sk-container-id-1 div.sk-item::before, #sk-container-id-1 div.sk-parallel-item::before {content: \"\";position: absolute;border-left: 1px solid gray;box-sizing: border-box;top: 0;bottom: 0;left: 50%;z-index: -1;}#sk-container-id-1 div.sk-parallel-item {display: flex;flex-direction: column;z-index: 1;position: relative;background-color: white;}#sk-container-id-1 div.sk-parallel-item:first-child::after {align-self: flex-end;width: 50%;}#sk-container-id-1 div.sk-parallel-item:last-child::after {align-self: flex-start;width: 50%;}#sk-container-id-1 div.sk-parallel-item:only-child::after {width: 0;}#sk-container-id-1 div.sk-dashed-wrapped {border: 1px dashed gray;margin: 0 0.4em 0.5em 0.4em;box-sizing: border-box;padding-bottom: 0.4em;background-color: white;}#sk-container-id-1 div.sk-label label {font-family: monospace;font-weight: bold;display: inline-block;line-height: 1.2em;}#sk-container-id-1 div.sk-label-container {text-align: center;}#sk-container-id-1 div.sk-container {/* jupyter's `normalize.less` sets `[hidden] { display: none; }` but bootstrap.min.css set `[hidden] { display: none !important; }` so we also need the `!important` here to be able to override the default hidden behavior on the sphinx rendered scikit-learn.org. See: https://github.com/scikit-learn/scikit-learn/issues/21755 */display: inline-block !important;position: relative;}#sk-container-id-1 div.sk-text-repr-fallback {display: none;}</style><div id=\"sk-container-id-1\" class=\"sk-top-container\"><div class=\"sk-text-repr-fallback\"><pre>LinearRegression()</pre><b>In a Jupyter environment, please rerun this cell to show the HTML representation or trust the notebook. <br />On GitHub, the HTML representation is unable to render, please try loading this page with nbviewer.org.</b></div><div class=\"sk-container\" hidden><div class=\"sk-item\"><div class=\"sk-estimator sk-toggleable\"><input class=\"sk-toggleable__control sk-hidden--visually\" id=\"sk-estimator-id-1\" type=\"checkbox\" checked><label for=\"sk-estimator-id-1\" class=\"sk-toggleable__label sk-toggleable__label-arrow\">LinearRegression</label><div class=\"sk-toggleable__content\"><pre>LinearRegression()</pre></div></div></div></div></div>"
      ],
      "text/plain": [
       "LinearRegression()"
      ]
     },
     "execution_count": 17,
     "metadata": {},
     "output_type": "execute_result"
    }
   ],
   "source": [
    "lr.fit(Xs_train, y_train)"
   ]
  },
  {
   "cell_type": "code",
   "execution_count": 18,
   "id": "020a8e63-56e2-474f-8d49-425d5fe59fe0",
   "metadata": {
    "execution": {
     "iopub.execute_input": "2023-01-18T04:13:16.981268Z",
     "iopub.status.busy": "2023-01-18T04:13:16.981188Z",
     "iopub.status.idle": "2023-01-18T04:13:16.995469Z",
     "shell.execute_reply": "2023-01-18T04:13:16.995147Z",
     "shell.execute_reply.started": "2023-01-18T04:13:16.981261Z"
    }
   },
   "outputs": [
    {
     "data": {
      "text/html": [
       "<div>\n",
       "<style scoped>\n",
       "    .dataframe tbody tr th:only-of-type {\n",
       "        vertical-align: middle;\n",
       "    }\n",
       "\n",
       "    .dataframe tbody tr th {\n",
       "        vertical-align: top;\n",
       "    }\n",
       "\n",
       "    .dataframe thead th {\n",
       "        text-align: right;\n",
       "    }\n",
       "</style>\n",
       "<table border=\"1\" class=\"dataframe\">\n",
       "  <thead>\n",
       "    <tr style=\"text-align: right;\">\n",
       "      <th></th>\n",
       "      <th>Model</th>\n",
       "      <th>Train Score</th>\n",
       "      <th>Val Score</th>\n",
       "      <th>X Val Score</th>\n",
       "      <th>RMSE Train</th>\n",
       "      <th>RMSE Val</th>\n",
       "    </tr>\n",
       "  </thead>\n",
       "  <tbody>\n",
       "    <tr>\n",
       "      <th>0</th>\n",
       "      <td>m005_ALL_35-69.LinReg</td>\n",
       "      <td>1.0</td>\n",
       "      <td>0.88294</td>\n",
       "      <td>0.616316</td>\n",
       "      <td>8.404957e-15</td>\n",
       "      <td>1.206978</td>\n",
       "    </tr>\n",
       "  </tbody>\n",
       "</table>\n",
       "</div>"
      ],
      "text/plain": [
       "                   Model  Train Score  Val Score  X Val Score    RMSE Train  \\\n",
       "0  m005_ALL_35-69.LinReg          1.0    0.88294     0.616316  8.404957e-15   \n",
       "\n",
       "   RMSE Val  \n",
       "0  1.206978  "
      ]
     },
     "execution_count": 18,
     "metadata": {},
     "output_type": "execute_result"
    }
   ],
   "source": [
    "update_df(lr, 'm005_ALL_35-69.LinReg')"
   ]
  },
  {
   "cell_type": "code",
   "execution_count": 19,
   "id": "b9b05d45-d227-45da-a109-8d622feb3ed6",
   "metadata": {
    "execution": {
     "iopub.execute_input": "2023-01-18T04:13:16.996184Z",
     "iopub.status.busy": "2023-01-18T04:13:16.996029Z",
     "iopub.status.idle": "2023-01-18T04:13:16.998371Z",
     "shell.execute_reply": "2023-01-18T04:13:16.997800Z",
     "shell.execute_reply.started": "2023-01-18T04:13:16.996175Z"
    },
    "tags": []
   },
   "outputs": [],
   "source": [
    "ridge = RidgeCV(alphas = np.logspace(0,2,100)) # "
   ]
  },
  {
   "cell_type": "code",
   "execution_count": 20,
   "id": "bf7e8c70-5ab7-44ba-8bba-73ae4a8257a9",
   "metadata": {
    "execution": {
     "iopub.execute_input": "2023-01-18T04:13:16.998824Z",
     "iopub.status.busy": "2023-01-18T04:13:16.998743Z",
     "iopub.status.idle": "2023-01-18T04:13:17.000979Z",
     "shell.execute_reply": "2023-01-18T04:13:17.000567Z",
     "shell.execute_reply.started": "2023-01-18T04:13:16.998816Z"
    }
   },
   "outputs": [],
   "source": [
    "lasso = LassoCV(alphas = np.arange(0.001, 10, 1))"
   ]
  },
  {
   "cell_type": "code",
   "execution_count": 21,
   "id": "ebaaad19-e003-47d0-9c1f-c829f47fca10",
   "metadata": {
    "execution": {
     "iopub.execute_input": "2023-01-18T04:13:17.001529Z",
     "iopub.status.busy": "2023-01-18T04:13:17.001418Z",
     "iopub.status.idle": "2023-01-18T04:13:17.015206Z",
     "shell.execute_reply": "2023-01-18T04:13:17.014622Z",
     "shell.execute_reply.started": "2023-01-18T04:13:17.001517Z"
    }
   },
   "outputs": [
    {
     "data": {
      "text/html": [
       "<style>#sk-container-id-2 {color: black;background-color: white;}#sk-container-id-2 pre{padding: 0;}#sk-container-id-2 div.sk-toggleable {background-color: white;}#sk-container-id-2 label.sk-toggleable__label {cursor: pointer;display: block;width: 100%;margin-bottom: 0;padding: 0.3em;box-sizing: border-box;text-align: center;}#sk-container-id-2 label.sk-toggleable__label-arrow:before {content: \"▸\";float: left;margin-right: 0.25em;color: #696969;}#sk-container-id-2 label.sk-toggleable__label-arrow:hover:before {color: black;}#sk-container-id-2 div.sk-estimator:hover label.sk-toggleable__label-arrow:before {color: black;}#sk-container-id-2 div.sk-toggleable__content {max-height: 0;max-width: 0;overflow: hidden;text-align: left;background-color: #f0f8ff;}#sk-container-id-2 div.sk-toggleable__content pre {margin: 0.2em;color: black;border-radius: 0.25em;background-color: #f0f8ff;}#sk-container-id-2 input.sk-toggleable__control:checked~div.sk-toggleable__content {max-height: 200px;max-width: 100%;overflow: auto;}#sk-container-id-2 input.sk-toggleable__control:checked~label.sk-toggleable__label-arrow:before {content: \"▾\";}#sk-container-id-2 div.sk-estimator input.sk-toggleable__control:checked~label.sk-toggleable__label {background-color: #d4ebff;}#sk-container-id-2 div.sk-label input.sk-toggleable__control:checked~label.sk-toggleable__label {background-color: #d4ebff;}#sk-container-id-2 input.sk-hidden--visually {border: 0;clip: rect(1px 1px 1px 1px);clip: rect(1px, 1px, 1px, 1px);height: 1px;margin: -1px;overflow: hidden;padding: 0;position: absolute;width: 1px;}#sk-container-id-2 div.sk-estimator {font-family: monospace;background-color: #f0f8ff;border: 1px dotted black;border-radius: 0.25em;box-sizing: border-box;margin-bottom: 0.5em;}#sk-container-id-2 div.sk-estimator:hover {background-color: #d4ebff;}#sk-container-id-2 div.sk-parallel-item::after {content: \"\";width: 100%;border-bottom: 1px solid gray;flex-grow: 1;}#sk-container-id-2 div.sk-label:hover label.sk-toggleable__label {background-color: #d4ebff;}#sk-container-id-2 div.sk-serial::before {content: \"\";position: absolute;border-left: 1px solid gray;box-sizing: border-box;top: 0;bottom: 0;left: 50%;z-index: 0;}#sk-container-id-2 div.sk-serial {display: flex;flex-direction: column;align-items: center;background-color: white;padding-right: 0.2em;padding-left: 0.2em;position: relative;}#sk-container-id-2 div.sk-item {position: relative;z-index: 1;}#sk-container-id-2 div.sk-parallel {display: flex;align-items: stretch;justify-content: center;background-color: white;position: relative;}#sk-container-id-2 div.sk-item::before, #sk-container-id-2 div.sk-parallel-item::before {content: \"\";position: absolute;border-left: 1px solid gray;box-sizing: border-box;top: 0;bottom: 0;left: 50%;z-index: -1;}#sk-container-id-2 div.sk-parallel-item {display: flex;flex-direction: column;z-index: 1;position: relative;background-color: white;}#sk-container-id-2 div.sk-parallel-item:first-child::after {align-self: flex-end;width: 50%;}#sk-container-id-2 div.sk-parallel-item:last-child::after {align-self: flex-start;width: 50%;}#sk-container-id-2 div.sk-parallel-item:only-child::after {width: 0;}#sk-container-id-2 div.sk-dashed-wrapped {border: 1px dashed gray;margin: 0 0.4em 0.5em 0.4em;box-sizing: border-box;padding-bottom: 0.4em;background-color: white;}#sk-container-id-2 div.sk-label label {font-family: monospace;font-weight: bold;display: inline-block;line-height: 1.2em;}#sk-container-id-2 div.sk-label-container {text-align: center;}#sk-container-id-2 div.sk-container {/* jupyter's `normalize.less` sets `[hidden] { display: none; }` but bootstrap.min.css set `[hidden] { display: none !important; }` so we also need the `!important` here to be able to override the default hidden behavior on the sphinx rendered scikit-learn.org. See: https://github.com/scikit-learn/scikit-learn/issues/21755 */display: inline-block !important;position: relative;}#sk-container-id-2 div.sk-text-repr-fallback {display: none;}</style><div id=\"sk-container-id-2\" class=\"sk-top-container\"><div class=\"sk-text-repr-fallback\"><pre>RidgeCV(alphas=array([  1.        ,   1.04761575,   1.09749877,   1.149757  ,\n",
       "         1.20450354,   1.26185688,   1.32194115,   1.38488637,\n",
       "         1.45082878,   1.51991108,   1.59228279,   1.66810054,\n",
       "         1.7475284 ,   1.83073828,   1.91791026,   2.009233  ,\n",
       "         2.10490414,   2.20513074,   2.3101297 ,   2.42012826,\n",
       "         2.53536449,   2.65608778,   2.7825594 ,   2.91505306,\n",
       "         3.05385551,   3.19926714,   3.35160265,   3.51119173,\n",
       "         3.67837977,   3.85352859,   4.03701726,   4....\n",
       "        23.64489413,  24.77076356,  25.95024211,  27.18588243,\n",
       "        28.48035868,  29.8364724 ,  31.2571585 ,  32.74549163,\n",
       "        34.30469286,  35.93813664,  37.64935807,  39.44206059,\n",
       "        41.320124  ,  43.28761281,  45.34878508,  47.50810162,\n",
       "        49.77023564,  52.14008288,  54.62277218,  57.22367659,\n",
       "        59.94842503,  62.80291442,  65.79332247,  68.92612104,\n",
       "        72.20809018,  75.64633276,  79.24828984,  83.02175681,\n",
       "        86.97490026,  91.11627561,  95.45484567, 100.        ]))</pre><b>In a Jupyter environment, please rerun this cell to show the HTML representation or trust the notebook. <br />On GitHub, the HTML representation is unable to render, please try loading this page with nbviewer.org.</b></div><div class=\"sk-container\" hidden><div class=\"sk-item\"><div class=\"sk-estimator sk-toggleable\"><input class=\"sk-toggleable__control sk-hidden--visually\" id=\"sk-estimator-id-2\" type=\"checkbox\" checked><label for=\"sk-estimator-id-2\" class=\"sk-toggleable__label sk-toggleable__label-arrow\">RidgeCV</label><div class=\"sk-toggleable__content\"><pre>RidgeCV(alphas=array([  1.        ,   1.04761575,   1.09749877,   1.149757  ,\n",
       "         1.20450354,   1.26185688,   1.32194115,   1.38488637,\n",
       "         1.45082878,   1.51991108,   1.59228279,   1.66810054,\n",
       "         1.7475284 ,   1.83073828,   1.91791026,   2.009233  ,\n",
       "         2.10490414,   2.20513074,   2.3101297 ,   2.42012826,\n",
       "         2.53536449,   2.65608778,   2.7825594 ,   2.91505306,\n",
       "         3.05385551,   3.19926714,   3.35160265,   3.51119173,\n",
       "         3.67837977,   3.85352859,   4.03701726,   4....\n",
       "        23.64489413,  24.77076356,  25.95024211,  27.18588243,\n",
       "        28.48035868,  29.8364724 ,  31.2571585 ,  32.74549163,\n",
       "        34.30469286,  35.93813664,  37.64935807,  39.44206059,\n",
       "        41.320124  ,  43.28761281,  45.34878508,  47.50810162,\n",
       "        49.77023564,  52.14008288,  54.62277218,  57.22367659,\n",
       "        59.94842503,  62.80291442,  65.79332247,  68.92612104,\n",
       "        72.20809018,  75.64633276,  79.24828984,  83.02175681,\n",
       "        86.97490026,  91.11627561,  95.45484567, 100.        ]))</pre></div></div></div></div></div>"
      ],
      "text/plain": [
       "RidgeCV(alphas=array([  1.        ,   1.04761575,   1.09749877,   1.149757  ,\n",
       "         1.20450354,   1.26185688,   1.32194115,   1.38488637,\n",
       "         1.45082878,   1.51991108,   1.59228279,   1.66810054,\n",
       "         1.7475284 ,   1.83073828,   1.91791026,   2.009233  ,\n",
       "         2.10490414,   2.20513074,   2.3101297 ,   2.42012826,\n",
       "         2.53536449,   2.65608778,   2.7825594 ,   2.91505306,\n",
       "         3.05385551,   3.19926714,   3.35160265,   3.51119173,\n",
       "         3.67837977,   3.85352859,   4.03701726,   4....\n",
       "        23.64489413,  24.77076356,  25.95024211,  27.18588243,\n",
       "        28.48035868,  29.8364724 ,  31.2571585 ,  32.74549163,\n",
       "        34.30469286,  35.93813664,  37.64935807,  39.44206059,\n",
       "        41.320124  ,  43.28761281,  45.34878508,  47.50810162,\n",
       "        49.77023564,  52.14008288,  54.62277218,  57.22367659,\n",
       "        59.94842503,  62.80291442,  65.79332247,  68.92612104,\n",
       "        72.20809018,  75.64633276,  79.24828984,  83.02175681,\n",
       "        86.97490026,  91.11627561,  95.45484567, 100.        ]))"
      ]
     },
     "execution_count": 21,
     "metadata": {},
     "output_type": "execute_result"
    }
   ],
   "source": [
    "ridge.fit(Xs_train, y_train)"
   ]
  },
  {
   "cell_type": "code",
   "execution_count": 22,
   "id": "5d28e5c4-1304-4414-bcc3-7bf1f291cc83",
   "metadata": {
    "execution": {
     "iopub.execute_input": "2023-01-18T04:13:17.020823Z",
     "iopub.status.busy": "2023-01-18T04:13:17.020668Z",
     "iopub.status.idle": "2023-01-18T04:13:17.024889Z",
     "shell.execute_reply": "2023-01-18T04:13:17.024355Z",
     "shell.execute_reply.started": "2023-01-18T04:13:17.020811Z"
    }
   },
   "outputs": [
    {
     "data": {
      "text/plain": [
       "1.0"
      ]
     },
     "execution_count": 22,
     "metadata": {},
     "output_type": "execute_result"
    }
   ],
   "source": [
    "ridge.alpha_"
   ]
  },
  {
   "cell_type": "code",
   "execution_count": 23,
   "id": "57d9a9ed-068c-4009-a2c3-a482f118a69a",
   "metadata": {
    "execution": {
     "iopub.execute_input": "2023-01-18T04:13:17.025877Z",
     "iopub.status.busy": "2023-01-18T04:13:17.025601Z",
     "iopub.status.idle": "2023-01-18T04:13:17.051935Z",
     "shell.execute_reply": "2023-01-18T04:13:17.051481Z",
     "shell.execute_reply.started": "2023-01-18T04:13:17.025868Z"
    }
   },
   "outputs": [
    {
     "data": {
      "text/html": [
       "<div>\n",
       "<style scoped>\n",
       "    .dataframe tbody tr th:only-of-type {\n",
       "        vertical-align: middle;\n",
       "    }\n",
       "\n",
       "    .dataframe tbody tr th {\n",
       "        vertical-align: top;\n",
       "    }\n",
       "\n",
       "    .dataframe thead th {\n",
       "        text-align: right;\n",
       "    }\n",
       "</style>\n",
       "<table border=\"1\" class=\"dataframe\">\n",
       "  <thead>\n",
       "    <tr style=\"text-align: right;\">\n",
       "      <th></th>\n",
       "      <th>Model</th>\n",
       "      <th>Train Score</th>\n",
       "      <th>Val Score</th>\n",
       "      <th>X Val Score</th>\n",
       "      <th>RMSE Train</th>\n",
       "      <th>RMSE Val</th>\n",
       "    </tr>\n",
       "  </thead>\n",
       "  <tbody>\n",
       "    <tr>\n",
       "      <th>0</th>\n",
       "      <td>m005_ALL_35-69.LinReg</td>\n",
       "      <td>1.000000</td>\n",
       "      <td>0.882940</td>\n",
       "      <td>0.616316</td>\n",
       "      <td>8.404957e-15</td>\n",
       "      <td>1.206978</td>\n",
       "    </tr>\n",
       "    <tr>\n",
       "      <th>1</th>\n",
       "      <td>m005_ALL_35-69.L2-1</td>\n",
       "      <td>0.999965</td>\n",
       "      <td>0.881611</td>\n",
       "      <td>0.614525</td>\n",
       "      <td>8.404957e-15</td>\n",
       "      <td>1.206978</td>\n",
       "    </tr>\n",
       "  </tbody>\n",
       "</table>\n",
       "</div>"
      ],
      "text/plain": [
       "                   Model  Train Score  Val Score  X Val Score    RMSE Train  \\\n",
       "0  m005_ALL_35-69.LinReg     1.000000   0.882940     0.616316  8.404957e-15   \n",
       "1    m005_ALL_35-69.L2-1     0.999965   0.881611     0.614525  8.404957e-15   \n",
       "\n",
       "   RMSE Val  \n",
       "0  1.206978  \n",
       "1  1.206978  "
      ]
     },
     "execution_count": 23,
     "metadata": {},
     "output_type": "execute_result"
    }
   ],
   "source": [
    "update_df(ridge, \"m005_ALL_35-69.L2-1\")"
   ]
  },
  {
   "cell_type": "code",
   "execution_count": 24,
   "id": "ea838d5d-de79-4499-8dbd-821a00d8a1be",
   "metadata": {
    "execution": {
     "iopub.execute_input": "2023-01-18T04:13:17.052747Z",
     "iopub.status.busy": "2023-01-18T04:13:17.052647Z",
     "iopub.status.idle": "2023-01-18T04:13:17.078239Z",
     "shell.execute_reply": "2023-01-18T04:13:17.077869Z",
     "shell.execute_reply.started": "2023-01-18T04:13:17.052737Z"
    },
    "tags": []
   },
   "outputs": [
    {
     "data": {
      "text/html": [
       "<style>#sk-container-id-3 {color: black;background-color: white;}#sk-container-id-3 pre{padding: 0;}#sk-container-id-3 div.sk-toggleable {background-color: white;}#sk-container-id-3 label.sk-toggleable__label {cursor: pointer;display: block;width: 100%;margin-bottom: 0;padding: 0.3em;box-sizing: border-box;text-align: center;}#sk-container-id-3 label.sk-toggleable__label-arrow:before {content: \"▸\";float: left;margin-right: 0.25em;color: #696969;}#sk-container-id-3 label.sk-toggleable__label-arrow:hover:before {color: black;}#sk-container-id-3 div.sk-estimator:hover label.sk-toggleable__label-arrow:before {color: black;}#sk-container-id-3 div.sk-toggleable__content {max-height: 0;max-width: 0;overflow: hidden;text-align: left;background-color: #f0f8ff;}#sk-container-id-3 div.sk-toggleable__content pre {margin: 0.2em;color: black;border-radius: 0.25em;background-color: #f0f8ff;}#sk-container-id-3 input.sk-toggleable__control:checked~div.sk-toggleable__content {max-height: 200px;max-width: 100%;overflow: auto;}#sk-container-id-3 input.sk-toggleable__control:checked~label.sk-toggleable__label-arrow:before {content: \"▾\";}#sk-container-id-3 div.sk-estimator input.sk-toggleable__control:checked~label.sk-toggleable__label {background-color: #d4ebff;}#sk-container-id-3 div.sk-label input.sk-toggleable__control:checked~label.sk-toggleable__label {background-color: #d4ebff;}#sk-container-id-3 input.sk-hidden--visually {border: 0;clip: rect(1px 1px 1px 1px);clip: rect(1px, 1px, 1px, 1px);height: 1px;margin: -1px;overflow: hidden;padding: 0;position: absolute;width: 1px;}#sk-container-id-3 div.sk-estimator {font-family: monospace;background-color: #f0f8ff;border: 1px dotted black;border-radius: 0.25em;box-sizing: border-box;margin-bottom: 0.5em;}#sk-container-id-3 div.sk-estimator:hover {background-color: #d4ebff;}#sk-container-id-3 div.sk-parallel-item::after {content: \"\";width: 100%;border-bottom: 1px solid gray;flex-grow: 1;}#sk-container-id-3 div.sk-label:hover label.sk-toggleable__label {background-color: #d4ebff;}#sk-container-id-3 div.sk-serial::before {content: \"\";position: absolute;border-left: 1px solid gray;box-sizing: border-box;top: 0;bottom: 0;left: 50%;z-index: 0;}#sk-container-id-3 div.sk-serial {display: flex;flex-direction: column;align-items: center;background-color: white;padding-right: 0.2em;padding-left: 0.2em;position: relative;}#sk-container-id-3 div.sk-item {position: relative;z-index: 1;}#sk-container-id-3 div.sk-parallel {display: flex;align-items: stretch;justify-content: center;background-color: white;position: relative;}#sk-container-id-3 div.sk-item::before, #sk-container-id-3 div.sk-parallel-item::before {content: \"\";position: absolute;border-left: 1px solid gray;box-sizing: border-box;top: 0;bottom: 0;left: 50%;z-index: -1;}#sk-container-id-3 div.sk-parallel-item {display: flex;flex-direction: column;z-index: 1;position: relative;background-color: white;}#sk-container-id-3 div.sk-parallel-item:first-child::after {align-self: flex-end;width: 50%;}#sk-container-id-3 div.sk-parallel-item:last-child::after {align-self: flex-start;width: 50%;}#sk-container-id-3 div.sk-parallel-item:only-child::after {width: 0;}#sk-container-id-3 div.sk-dashed-wrapped {border: 1px dashed gray;margin: 0 0.4em 0.5em 0.4em;box-sizing: border-box;padding-bottom: 0.4em;background-color: white;}#sk-container-id-3 div.sk-label label {font-family: monospace;font-weight: bold;display: inline-block;line-height: 1.2em;}#sk-container-id-3 div.sk-label-container {text-align: center;}#sk-container-id-3 div.sk-container {/* jupyter's `normalize.less` sets `[hidden] { display: none; }` but bootstrap.min.css set `[hidden] { display: none !important; }` so we also need the `!important` here to be able to override the default hidden behavior on the sphinx rendered scikit-learn.org. See: https://github.com/scikit-learn/scikit-learn/issues/21755 */display: inline-block !important;position: relative;}#sk-container-id-3 div.sk-text-repr-fallback {display: none;}</style><div id=\"sk-container-id-3\" class=\"sk-top-container\"><div class=\"sk-text-repr-fallback\"><pre>LassoCV(alphas=array([1.000e-03, 1.001e+00, 2.001e+00, 3.001e+00, 4.001e+00, 5.001e+00,\n",
       "       6.001e+00, 7.001e+00, 8.001e+00, 9.001e+00]))</pre><b>In a Jupyter environment, please rerun this cell to show the HTML representation or trust the notebook. <br />On GitHub, the HTML representation is unable to render, please try loading this page with nbviewer.org.</b></div><div class=\"sk-container\" hidden><div class=\"sk-item\"><div class=\"sk-estimator sk-toggleable\"><input class=\"sk-toggleable__control sk-hidden--visually\" id=\"sk-estimator-id-3\" type=\"checkbox\" checked><label for=\"sk-estimator-id-3\" class=\"sk-toggleable__label sk-toggleable__label-arrow\">LassoCV</label><div class=\"sk-toggleable__content\"><pre>LassoCV(alphas=array([1.000e-03, 1.001e+00, 2.001e+00, 3.001e+00, 4.001e+00, 5.001e+00,\n",
       "       6.001e+00, 7.001e+00, 8.001e+00, 9.001e+00]))</pre></div></div></div></div></div>"
      ],
      "text/plain": [
       "LassoCV(alphas=array([1.000e-03, 1.001e+00, 2.001e+00, 3.001e+00, 4.001e+00, 5.001e+00,\n",
       "       6.001e+00, 7.001e+00, 8.001e+00, 9.001e+00]))"
      ]
     },
     "execution_count": 24,
     "metadata": {},
     "output_type": "execute_result"
    }
   ],
   "source": [
    "lasso.fit(Xs_train, y_train)"
   ]
  },
  {
   "cell_type": "code",
   "execution_count": 25,
   "id": "9987b850-329b-43cf-b193-5a4b9774d91f",
   "metadata": {
    "execution": {
     "iopub.execute_input": "2023-01-18T04:13:17.079077Z",
     "iopub.status.busy": "2023-01-18T04:13:17.078977Z",
     "iopub.status.idle": "2023-01-18T04:13:17.221003Z",
     "shell.execute_reply": "2023-01-18T04:13:17.220661Z",
     "shell.execute_reply.started": "2023-01-18T04:13:17.079068Z"
    }
   },
   "outputs": [
    {
     "data": {
      "text/html": [
       "<div>\n",
       "<style scoped>\n",
       "    .dataframe tbody tr th:only-of-type {\n",
       "        vertical-align: middle;\n",
       "    }\n",
       "\n",
       "    .dataframe tbody tr th {\n",
       "        vertical-align: top;\n",
       "    }\n",
       "\n",
       "    .dataframe thead th {\n",
       "        text-align: right;\n",
       "    }\n",
       "</style>\n",
       "<table border=\"1\" class=\"dataframe\">\n",
       "  <thead>\n",
       "    <tr style=\"text-align: right;\">\n",
       "      <th></th>\n",
       "      <th>Model</th>\n",
       "      <th>Train Score</th>\n",
       "      <th>Val Score</th>\n",
       "      <th>X Val Score</th>\n",
       "      <th>RMSE Train</th>\n",
       "      <th>RMSE Val</th>\n",
       "    </tr>\n",
       "  </thead>\n",
       "  <tbody>\n",
       "    <tr>\n",
       "      <th>0</th>\n",
       "      <td>m005_ALL_35-69.LinReg</td>\n",
       "      <td>1.000000</td>\n",
       "      <td>0.882940</td>\n",
       "      <td>0.616316</td>\n",
       "      <td>8.404957e-15</td>\n",
       "      <td>1.206978</td>\n",
       "    </tr>\n",
       "    <tr>\n",
       "      <th>1</th>\n",
       "      <td>m005_ALL_35-69.L2-1</td>\n",
       "      <td>0.999965</td>\n",
       "      <td>0.881611</td>\n",
       "      <td>0.614525</td>\n",
       "      <td>8.404957e-15</td>\n",
       "      <td>1.206978</td>\n",
       "    </tr>\n",
       "    <tr>\n",
       "      <th>2</th>\n",
       "      <td>m005_ALL_35-69.L1-1</td>\n",
       "      <td>0.999998</td>\n",
       "      <td>0.999996</td>\n",
       "      <td>0.999285</td>\n",
       "      <td>8.404957e-15</td>\n",
       "      <td>1.206978</td>\n",
       "    </tr>\n",
       "  </tbody>\n",
       "</table>\n",
       "</div>"
      ],
      "text/plain": [
       "                   Model  Train Score  Val Score  X Val Score    RMSE Train  \\\n",
       "0  m005_ALL_35-69.LinReg     1.000000   0.882940     0.616316  8.404957e-15   \n",
       "1    m005_ALL_35-69.L2-1     0.999965   0.881611     0.614525  8.404957e-15   \n",
       "2    m005_ALL_35-69.L1-1     0.999998   0.999996     0.999285  8.404957e-15   \n",
       "\n",
       "   RMSE Val  \n",
       "0  1.206978  \n",
       "1  1.206978  \n",
       "2  1.206978  "
      ]
     },
     "execution_count": 25,
     "metadata": {},
     "output_type": "execute_result"
    }
   ],
   "source": [
    "update_df(lasso, \"m005_ALL_35-69.L1-1\")"
   ]
  },
  {
   "cell_type": "code",
   "execution_count": 26,
   "id": "08bd36d3-952a-492e-8b36-886a6c1a1fc9",
   "metadata": {
    "execution": {
     "iopub.execute_input": "2023-01-18T04:13:17.221764Z",
     "iopub.status.busy": "2023-01-18T04:13:17.221646Z",
     "iopub.status.idle": "2023-01-18T04:13:17.225158Z",
     "shell.execute_reply": "2023-01-18T04:13:17.224592Z",
     "shell.execute_reply.started": "2023-01-18T04:13:17.221753Z"
    },
    "tags": []
   },
   "outputs": [
    {
     "data": {
      "text/plain": [
       "array(['q022', 'q096', 'q102', 'q105', 'q121', 'q122', 'q126', 'q152',\n",
       "       'd038', 'm008_MEDICALc', 'm010_NONMEDc', 'p027', 'p034', 'p042',\n",
       "       'r002', 'r016', 'r026'], dtype=object)"
      ]
     },
     "execution_count": 26,
     "metadata": {},
     "output_type": "execute_result"
    }
   ],
   "source": [
    "importance = np.abs(lasso.coef_)\n",
    "features = X.columns\n",
    "np.array(features)[importance>0]"
   ]
  },
  {
   "cell_type": "code",
   "execution_count": 27,
   "id": "063869ca-3418-4d77-ae5b-c729b6243277",
   "metadata": {
    "execution": {
     "iopub.execute_input": "2023-01-18T04:13:17.225723Z",
     "iopub.status.busy": "2023-01-18T04:13:17.225635Z",
     "iopub.status.idle": "2023-01-18T04:13:17.228562Z",
     "shell.execute_reply": "2023-01-18T04:13:17.228116Z",
     "shell.execute_reply.started": "2023-01-18T04:13:17.225714Z"
    },
    "tags": []
   },
   "outputs": [],
   "source": [
    "# np.array(features)\n",
    "# importance\n",
    "feat_imp = pd.DataFrame({'features':features, 'importance':importance}, columns=['features','importance'])"
   ]
  },
  {
   "cell_type": "markdown",
   "id": "c8f5f131-72dd-4497-9bf2-7667d9b53907",
   "metadata": {},
   "source": [
    "It'd be nice to be able to pull the code descriptions without searching the whole sheet one at a time:"
   ]
  },
  {
   "cell_type": "code",
   "execution_count": 28,
   "id": "8d32645f-9592-44fb-a518-dc6bb08616f5",
   "metadata": {
    "execution": {
     "iopub.execute_input": "2023-01-18T04:13:17.229140Z",
     "iopub.status.busy": "2023-01-18T04:13:17.228968Z",
     "iopub.status.idle": "2023-01-18T04:13:17.232230Z",
     "shell.execute_reply": "2023-01-18T04:13:17.231783Z",
     "shell.execute_reply.started": "2023-01-18T04:13:17.229128Z"
    },
    "tags": []
   },
   "outputs": [],
   "source": [
    "with open('./data/CHNAME.txt', 'r') as file:\n",
    "    data = file.read()\n",
    "    rows = data.split('\\n')\n",
    "\n",
    "descriptions = pd.DataFrame(rows)"
   ]
  },
  {
   "cell_type": "code",
   "execution_count": 29,
   "id": "de082cd4-a5f9-4b62-a941-cd9c3bda3cac",
   "metadata": {
    "execution": {
     "iopub.execute_input": "2023-01-18T04:13:17.232718Z",
     "iopub.status.busy": "2023-01-18T04:13:17.232640Z",
     "iopub.status.idle": "2023-01-18T04:13:17.238305Z",
     "shell.execute_reply": "2023-01-18T04:13:17.237919Z",
     "shell.execute_reply.started": "2023-01-18T04:13:17.232710Z"
    },
    "tags": []
   },
   "outputs": [
    {
     "name": "stderr",
     "output_type": "stream",
     "text": [
      "/var/folders/2f/m4z0nfhn5px0p2mdppmmrlxr0000gn/T/ipykernel_53033/2593100514.py:4: SettingWithCopyWarning: \n",
      "A value is trying to be set on a copy of a slice from a DataFrame.\n",
      "Try using .loc[row_indexer,col_indexer] = value instead\n",
      "\n",
      "See the caveats in the documentation: https://pandas.pydata.org/pandas-docs/stable/user_guide/indexing.html#returning-a-view-versus-a-copy\n",
      "  text_df['code'] = text_df[0].str.split(expand=True).iloc[:,0]\n"
     ]
    },
    {
     "data": {
      "text/html": [
       "<div>\n",
       "<style scoped>\n",
       "    .dataframe tbody tr th:only-of-type {\n",
       "        vertical-align: middle;\n",
       "    }\n",
       "\n",
       "    .dataframe tbody tr th {\n",
       "        vertical-align: top;\n",
       "    }\n",
       "\n",
       "    .dataframe thead th {\n",
       "        text-align: right;\n",
       "    }\n",
       "</style>\n",
       "<table border=\"1\" class=\"dataframe\">\n",
       "  <thead>\n",
       "    <tr style=\"text-align: right;\">\n",
       "      <th></th>\n",
       "      <th>0</th>\n",
       "      <th>code</th>\n",
       "    </tr>\n",
       "  </thead>\n",
       "  <tbody>\n",
       "    <tr>\n",
       "      <th>0</th>\n",
       "      <td>M001 ALL0-4     mortality ALL CAUSES AGE 0-4 (...</td>\n",
       "      <td>M001</td>\n",
       "    </tr>\n",
       "    <tr>\n",
       "      <th>2</th>\n",
       "      <td>M002 ALL5-14    mortality ALL CAUSES AGE 5-14 ...</td>\n",
       "      <td>M002</td>\n",
       "    </tr>\n",
       "    <tr>\n",
       "      <th>4</th>\n",
       "      <td>M003 ALL15-34   mortality ALL CAUSES AGE 15-34...</td>\n",
       "      <td>M003</td>\n",
       "    </tr>\n",
       "    <tr>\n",
       "      <th>6</th>\n",
       "      <td>M004 ALL0-34    mortality ALL CAUSES AGE 0-34 ...</td>\n",
       "      <td>M004</td>\n",
       "    </tr>\n",
       "    <tr>\n",
       "      <th>8</th>\n",
       "      <td>M005 ALL35-69   mortality ALL CAUSES AGE 35-69...</td>\n",
       "      <td>M005</td>\n",
       "    </tr>\n",
       "  </tbody>\n",
       "</table>\n",
       "</div>"
      ],
      "text/plain": [
       "                                                   0  code\n",
       "0  M001 ALL0-4     mortality ALL CAUSES AGE 0-4 (...  M001\n",
       "2  M002 ALL5-14    mortality ALL CAUSES AGE 5-14 ...  M002\n",
       "4  M003 ALL15-34   mortality ALL CAUSES AGE 15-34...  M003\n",
       "6  M004 ALL0-34    mortality ALL CAUSES AGE 0-34 ...  M004\n",
       "8  M005 ALL35-69   mortality ALL CAUSES AGE 35-69...  M005"
      ]
     },
     "execution_count": 29,
     "metadata": {},
     "output_type": "execute_result"
    }
   ],
   "source": [
    "# descriptions.head()\n",
    "# return every other row\n",
    "text_df = descriptions.iloc[::2,:]\n",
    "text_df['code'] = text_df[0].str.split(expand=True).iloc[:,0]\n",
    "text_df.head()"
   ]
  },
  {
   "cell_type": "code",
   "execution_count": 30,
   "id": "a25b2aed-a0c3-40c4-b43b-8eafa4192151",
   "metadata": {
    "execution": {
     "iopub.execute_input": "2023-01-18T04:13:17.238935Z",
     "iopub.status.busy": "2023-01-18T04:13:17.238832Z",
     "iopub.status.idle": "2023-01-18T04:13:17.241563Z",
     "shell.execute_reply": "2023-01-18T04:13:17.241206Z",
     "shell.execute_reply.started": "2023-01-18T04:13:17.238924Z"
    },
    "tags": []
   },
   "outputs": [
    {
     "name": "stderr",
     "output_type": "stream",
     "text": [
      "/var/folders/2f/m4z0nfhn5px0p2mdppmmrlxr0000gn/T/ipykernel_53033/360386991.py:1: SettingWithCopyWarning: \n",
      "A value is trying to be set on a copy of a slice from a DataFrame\n",
      "\n",
      "See the caveats in the documentation: https://pandas.pydata.org/pandas-docs/stable/user_guide/indexing.html#returning-a-view-versus-a-copy\n",
      "  text_df.rename(columns={0:'description'}, inplace=True)\n"
     ]
    }
   ],
   "source": [
    "text_df.rename(columns={0:'description'}, inplace=True)"
   ]
  },
  {
   "cell_type": "code",
   "execution_count": 31,
   "id": "844bb26d-3fda-4cd4-9d4c-4c23d8165965",
   "metadata": {
    "execution": {
     "iopub.execute_input": "2023-01-18T04:13:17.242151Z",
     "iopub.status.busy": "2023-01-18T04:13:17.242038Z",
     "iopub.status.idle": "2023-01-18T04:13:17.244850Z",
     "shell.execute_reply": "2023-01-18T04:13:17.244532Z",
     "shell.execute_reply.started": "2023-01-18T04:13:17.242139Z"
    },
    "tags": []
   },
   "outputs": [
    {
     "name": "stderr",
     "output_type": "stream",
     "text": [
      "/var/folders/2f/m4z0nfhn5px0p2mdppmmrlxr0000gn/T/ipykernel_53033/2186823998.py:1: SettingWithCopyWarning: \n",
      "A value is trying to be set on a copy of a slice from a DataFrame.\n",
      "Try using .loc[row_indexer,col_indexer] = value instead\n",
      "\n",
      "See the caveats in the documentation: https://pandas.pydata.org/pandas-docs/stable/user_guide/indexing.html#returning-a-view-versus-a-copy\n",
      "  text_df['code'] = text_df['code'].str.lower()\n"
     ]
    }
   ],
   "source": [
    "text_df['code'] = text_df['code'].str.lower()"
   ]
  },
  {
   "cell_type": "code",
   "execution_count": 32,
   "id": "8756f353-5db8-4086-afd2-4d6faf6055de",
   "metadata": {
    "execution": {
     "iopub.execute_input": "2023-01-18T04:13:17.245267Z",
     "iopub.status.busy": "2023-01-18T04:13:17.245186Z",
     "iopub.status.idle": "2023-01-18T04:13:17.248721Z",
     "shell.execute_reply": "2023-01-18T04:13:17.248410Z",
     "shell.execute_reply.started": "2023-01-18T04:13:17.245259Z"
    }
   },
   "outputs": [
    {
     "data": {
      "text/html": [
       "<div>\n",
       "<style scoped>\n",
       "    .dataframe tbody tr th:only-of-type {\n",
       "        vertical-align: middle;\n",
       "    }\n",
       "\n",
       "    .dataframe tbody tr th {\n",
       "        vertical-align: top;\n",
       "    }\n",
       "\n",
       "    .dataframe thead th {\n",
       "        text-align: right;\n",
       "    }\n",
       "</style>\n",
       "<table border=\"1\" class=\"dataframe\">\n",
       "  <thead>\n",
       "    <tr style=\"text-align: right;\">\n",
       "      <th></th>\n",
       "      <th>description</th>\n",
       "      <th>code</th>\n",
       "    </tr>\n",
       "  </thead>\n",
       "  <tbody>\n",
       "    <tr>\n",
       "      <th>0</th>\n",
       "      <td>M001 ALL0-4     mortality ALL CAUSES AGE 0-4 (...</td>\n",
       "      <td>m001</td>\n",
       "    </tr>\n",
       "    <tr>\n",
       "      <th>2</th>\n",
       "      <td>M002 ALL5-14    mortality ALL CAUSES AGE 5-14 ...</td>\n",
       "      <td>m002</td>\n",
       "    </tr>\n",
       "    <tr>\n",
       "      <th>4</th>\n",
       "      <td>M003 ALL15-34   mortality ALL CAUSES AGE 15-34...</td>\n",
       "      <td>m003</td>\n",
       "    </tr>\n",
       "    <tr>\n",
       "      <th>6</th>\n",
       "      <td>M004 ALL0-34    mortality ALL CAUSES AGE 0-34 ...</td>\n",
       "      <td>m004</td>\n",
       "    </tr>\n",
       "    <tr>\n",
       "      <th>8</th>\n",
       "      <td>M005 ALL35-69   mortality ALL CAUSES AGE 35-69...</td>\n",
       "      <td>m005</td>\n",
       "    </tr>\n",
       "  </tbody>\n",
       "</table>\n",
       "</div>"
      ],
      "text/plain": [
       "                                         description  code\n",
       "0  M001 ALL0-4     mortality ALL CAUSES AGE 0-4 (...  m001\n",
       "2  M002 ALL5-14    mortality ALL CAUSES AGE 5-14 ...  m002\n",
       "4  M003 ALL15-34   mortality ALL CAUSES AGE 15-34...  m003\n",
       "6  M004 ALL0-34    mortality ALL CAUSES AGE 0-34 ...  m004\n",
       "8  M005 ALL35-69   mortality ALL CAUSES AGE 35-69...  m005"
      ]
     },
     "execution_count": 32,
     "metadata": {},
     "output_type": "execute_result"
    }
   ],
   "source": [
    "text_df.head()"
   ]
  },
  {
   "cell_type": "code",
   "execution_count": 33,
   "id": "1f5bbf94-7d15-4f7e-8a6c-ee2e1e057478",
   "metadata": {
    "execution": {
     "iopub.execute_input": "2023-01-18T04:13:17.249660Z",
     "iopub.status.busy": "2023-01-18T04:13:17.249476Z",
     "iopub.status.idle": "2023-01-18T04:13:17.252695Z",
     "shell.execute_reply": "2023-01-18T04:13:17.252398Z",
     "shell.execute_reply.started": "2023-01-18T04:13:17.249652Z"
    },
    "tags": []
   },
   "outputs": [],
   "source": [
    "feat_imp = feat_imp.merge(text_df, left_on='features', right_on='code', how='left').drop(columns = ['code'])"
   ]
  },
  {
   "cell_type": "code",
   "execution_count": 34,
   "id": "10d7111e-02ce-4031-a986-bb6c6991a9e9",
   "metadata": {
    "execution": {
     "iopub.execute_input": "2023-01-18T04:13:17.253431Z",
     "iopub.status.busy": "2023-01-18T04:13:17.253351Z",
     "iopub.status.idle": "2023-01-18T04:13:17.255366Z",
     "shell.execute_reply": "2023-01-18T04:13:17.255072Z",
     "shell.execute_reply.started": "2023-01-18T04:13:17.253424Z"
    },
    "tags": []
   },
   "outputs": [],
   "source": [
    "pd.set_option('max_colwidth', 150) # so I can see the full descriptions"
   ]
  },
  {
   "cell_type": "code",
   "execution_count": 35,
   "id": "7dc6061d-080b-4eb6-a6b1-e5f0690908a8",
   "metadata": {
    "execution": {
     "iopub.execute_input": "2023-01-18T04:13:17.256008Z",
     "iopub.status.busy": "2023-01-18T04:13:17.255842Z",
     "iopub.status.idle": "2023-01-18T04:13:17.260154Z",
     "shell.execute_reply": "2023-01-18T04:13:17.259877Z",
     "shell.execute_reply.started": "2023-01-18T04:13:17.256000Z"
    },
    "tags": []
   },
   "outputs": [
    {
     "data": {
      "text/html": [
       "<div>\n",
       "<style scoped>\n",
       "    .dataframe tbody tr th:only-of-type {\n",
       "        vertical-align: middle;\n",
       "    }\n",
       "\n",
       "    .dataframe tbody tr th {\n",
       "        vertical-align: top;\n",
       "    }\n",
       "\n",
       "    .dataframe thead th {\n",
       "        text-align: right;\n",
       "    }\n",
       "</style>\n",
       "<table border=\"1\" class=\"dataframe\">\n",
       "  <thead>\n",
       "    <tr style=\"text-align: right;\">\n",
       "      <th></th>\n",
       "      <th>features</th>\n",
       "      <th>importance</th>\n",
       "      <th>description</th>\n",
       "    </tr>\n",
       "  </thead>\n",
       "  <tbody>\n",
       "    <tr>\n",
       "      <th>3</th>\n",
       "      <td>q022</td>\n",
       "      <td>0.000505</td>\n",
       "      <td>Q022 dEDUCATED  questionnaire PERCENTAGE WHO ARE WELL-EDUCATED</td>\n",
       "    </tr>\n",
       "    <tr>\n",
       "      <th>23</th>\n",
       "      <td>q096</td>\n",
       "      <td>0.000027</td>\n",
       "      <td>Q096 dMALARIA   questionnaire PERCENTAGE WITH HISTORY OF MALARIA DIAGNOSIS</td>\n",
       "    </tr>\n",
       "    <tr>\n",
       "      <th>29</th>\n",
       "      <td>q102</td>\n",
       "      <td>0.000886</td>\n",
       "      <td>Q102 dPHLEGMw   questionnaire PERCENTAGE WHO COUGH UP PHLEGM MOST MORNINGS IN WINTER</td>\n",
       "    </tr>\n",
       "    <tr>\n",
       "      <th>32</th>\n",
       "      <td>q105</td>\n",
       "      <td>0.000454</td>\n",
       "      <td>Q105 dPHLEGMyr  questionnaire NUMBER OF YEARS TROUBLED BY PHLEGM (years)</td>\n",
       "    </tr>\n",
       "    <tr>\n",
       "      <th>40</th>\n",
       "      <td>q121</td>\n",
       "      <td>0.000025</td>\n",
       "      <td>Q121 dANTIBIOT  questionnaire PERCENTAGE USED MAINLY WESTERN ANTIBIOTICS DURING PAST 6 MONTHS</td>\n",
       "    </tr>\n",
       "    <tr>\n",
       "      <th>41</th>\n",
       "      <td>q122</td>\n",
       "      <td>0.000499</td>\n",
       "      <td>Q122 dANTACID   questionnaire PERCENTAGE USED MAINLY WESTERN ANTACIDS DURING PAST 6 MONTHS</td>\n",
       "    </tr>\n",
       "    <tr>\n",
       "      <th>45</th>\n",
       "      <td>q126</td>\n",
       "      <td>0.000855</td>\n",
       "      <td>Q126 dWTLOSS    questionnaire PERCENTAGE WHO LOST WEIGHT DURING FOOD SHORTAGE</td>\n",
       "    </tr>\n",
       "    <tr>\n",
       "      <th>61</th>\n",
       "      <td>q152</td>\n",
       "      <td>0.000007</td>\n",
       "      <td>Q152 dWINE      questionnaire PERCENTAGE WHO HAVE EVER DRUNK WINE 3 OR MORE DAYS A WEEK FOR 6 MONTHS</td>\n",
       "    </tr>\n",
       "    <tr>\n",
       "      <th>107</th>\n",
       "      <td>d038</td>\n",
       "      <td>0.000116</td>\n",
       "      <td>D038 WHTFLOUR   diet survey WHEAT FLOUR INTAKE (g/day/reference man, air-dry basis)</td>\n",
       "    </tr>\n",
       "    <tr>\n",
       "      <th>127</th>\n",
       "      <td>m008_MEDICALc</td>\n",
       "      <td>2.879213</td>\n",
       "      <td>NaN</td>\n",
       "    </tr>\n",
       "    <tr>\n",
       "      <th>133</th>\n",
       "      <td>m010_NONMEDc</td>\n",
       "      <td>0.441840</td>\n",
       "      <td>NaN</td>\n",
       "    </tr>\n",
       "    <tr>\n",
       "      <th>159</th>\n",
       "      <td>p027</td>\n",
       "      <td>0.000771</td>\n",
       "      <td>P027 Cu         plasma COPPER (mg/dL)</td>\n",
       "    </tr>\n",
       "    <tr>\n",
       "      <th>164</th>\n",
       "      <td>p034</td>\n",
       "      <td>0.000505</td>\n",
       "      <td>P034 TIBC       plasma TOTAL IRON BINDING CAPACITY (ug/dL)</td>\n",
       "    </tr>\n",
       "    <tr>\n",
       "      <th>168</th>\n",
       "      <td>p042</td>\n",
       "      <td>0.000800</td>\n",
       "      <td>P042 HBsAg      plasma HEPATITIS B SURFACE ANTIGEN</td>\n",
       "    </tr>\n",
       "    <tr>\n",
       "      <th>172</th>\n",
       "      <td>r002</td>\n",
       "      <td>0.000232</td>\n",
       "      <td>R002 RIBOFDEF   red blood cell RIBOFLAVIN DEFICIENCY (glutathione reductase activity coefficient)</td>\n",
       "    </tr>\n",
       "    <tr>\n",
       "      <th>186</th>\n",
       "      <td>r016</td>\n",
       "      <td>0.000822</td>\n",
       "      <td>R016 18:1n9     red blood cell TOTAL LIPID OLEIC ACID (18:1(9)) (% of total fatty acid by weight)</td>\n",
       "    </tr>\n",
       "    <tr>\n",
       "      <th>196</th>\n",
       "      <td>r026</td>\n",
       "      <td>0.000305</td>\n",
       "      <td>R026 20:4n6     red blood cell TOTAL LIPID ARACHIDONIC ACID (20:4(6)) (% of total fatty acid by weight)</td>\n",
       "    </tr>\n",
       "  </tbody>\n",
       "</table>\n",
       "</div>"
      ],
      "text/plain": [
       "          features  importance  \\\n",
       "3             q022    0.000505   \n",
       "23            q096    0.000027   \n",
       "29            q102    0.000886   \n",
       "32            q105    0.000454   \n",
       "40            q121    0.000025   \n",
       "41            q122    0.000499   \n",
       "45            q126    0.000855   \n",
       "61            q152    0.000007   \n",
       "107           d038    0.000116   \n",
       "127  m008_MEDICALc    2.879213   \n",
       "133   m010_NONMEDc    0.441840   \n",
       "159           p027    0.000771   \n",
       "164           p034    0.000505   \n",
       "168           p042    0.000800   \n",
       "172           r002    0.000232   \n",
       "186           r016    0.000822   \n",
       "196           r026    0.000305   \n",
       "\n",
       "                                                                                                                           description  \n",
       "3    Q022 dEDUCATED  questionnaire PERCENTAGE WHO ARE WELL-EDUCATED                                                                     \n",
       "23   Q096 dMALARIA   questionnaire PERCENTAGE WITH HISTORY OF MALARIA DIAGNOSIS                                                         \n",
       "29   Q102 dPHLEGMw   questionnaire PERCENTAGE WHO COUGH UP PHLEGM MOST MORNINGS IN WINTER                                               \n",
       "32   Q105 dPHLEGMyr  questionnaire NUMBER OF YEARS TROUBLED BY PHLEGM (years)                                                           \n",
       "40   Q121 dANTIBIOT  questionnaire PERCENTAGE USED MAINLY WESTERN ANTIBIOTICS DURING PAST 6 MONTHS                                      \n",
       "41   Q122 dANTACID   questionnaire PERCENTAGE USED MAINLY WESTERN ANTACIDS DURING PAST 6 MONTHS                                         \n",
       "45   Q126 dWTLOSS    questionnaire PERCENTAGE WHO LOST WEIGHT DURING FOOD SHORTAGE                                                      \n",
       "61   Q152 dWINE      questionnaire PERCENTAGE WHO HAVE EVER DRUNK WINE 3 OR MORE DAYS A WEEK FOR 6 MONTHS                               \n",
       "107  D038 WHTFLOUR   diet survey WHEAT FLOUR INTAKE (g/day/reference man, air-dry basis)                                                \n",
       "127                                                                                                                                NaN  \n",
       "133                                                                                                                                NaN  \n",
       "159  P027 Cu         plasma COPPER (mg/dL)                                                                                              \n",
       "164  P034 TIBC       plasma TOTAL IRON BINDING CAPACITY (ug/dL)                                                                         \n",
       "168  P042 HBsAg      plasma HEPATITIS B SURFACE ANTIGEN                                                                                 \n",
       "172  R002 RIBOFDEF   red blood cell RIBOFLAVIN DEFICIENCY (glutathione reductase activity coefficient)                                  \n",
       "186  R016 18:1n9     red blood cell TOTAL LIPID OLEIC ACID (18:1(9)) (% of total fatty acid by weight)                                  \n",
       "196  R026 20:4n6     red blood cell TOTAL LIPID ARACHIDONIC ACID (20:4(6)) (% of total fatty acid by weight)                            "
      ]
     },
     "execution_count": 35,
     "metadata": {},
     "output_type": "execute_result"
    }
   ],
   "source": [
    "feat_imp[feat_imp['importance']>0]"
   ]
  },
  {
   "cell_type": "code",
   "execution_count": 36,
   "id": "057b2380-6928-4daf-a72b-9ead71cc1e04",
   "metadata": {
    "execution": {
     "iopub.execute_input": "2023-01-18T04:13:17.260604Z",
     "iopub.status.busy": "2023-01-18T04:13:17.260535Z",
     "iopub.status.idle": "2023-01-18T04:13:17.263857Z",
     "shell.execute_reply": "2023-01-18T04:13:17.263597Z",
     "shell.execute_reply.started": "2023-01-18T04:13:17.260597Z"
    }
   },
   "outputs": [
    {
     "data": {
      "text/plain": [
       "count    66.000000\n",
       "mean     12.991667\n",
       "std       3.039937\n",
       "min       8.010000\n",
       "25%      10.467500\n",
       "50%      13.040000\n",
       "75%      14.940000\n",
       "max      21.230000\n",
       "Name: m008_MEDICALc, dtype: float64"
      ]
     },
     "execution_count": 36,
     "metadata": {},
     "output_type": "execute_result"
    }
   ],
   "source": [
    "clean_df['m008_MEDICALc'].describe()"
   ]
  },
  {
   "cell_type": "markdown",
   "id": "2645033f-49aa-4857-b5ac-15bcf398907a",
   "metadata": {
    "execution": {
     "iopub.execute_input": "2023-01-18T01:42:07.859347Z",
     "iopub.status.busy": "2023-01-18T01:42:07.858730Z",
     "iopub.status.idle": "2023-01-18T01:42:07.864720Z",
     "shell.execute_reply": "2023-01-18T01:42:07.863787Z",
     "shell.execute_reply.started": "2023-01-18T01:42:07.859303Z"
    }
   },
   "source": [
    "We have some data leakage between some of the columns. The m008 and m010 codes are for medical and nonmedical reasons. I'll have to remove these features from the model."
   ]
  },
  {
   "cell_type": "code",
   "execution_count": 37,
   "id": "086200dc-8cd6-4fe4-83c6-8bd65e1d05d3",
   "metadata": {
    "execution": {
     "iopub.execute_input": "2023-01-18T04:13:17.264287Z",
     "iopub.status.busy": "2023-01-18T04:13:17.264213Z",
     "iopub.status.idle": "2023-01-18T04:13:17.266416Z",
     "shell.execute_reply": "2023-01-18T04:13:17.265937Z",
     "shell.execute_reply.started": "2023-01-18T04:13:17.264279Z"
    },
    "tags": []
   },
   "outputs": [],
   "source": [
    "drop_columns = ['county', 'sex', 'xiang','m010_NONMEDc','m005_ALL35_69']"
   ]
  },
  {
   "cell_type": "code",
   "execution_count": 38,
   "id": "e8af630d-2d68-46a9-ac2a-79acd547cb8e",
   "metadata": {
    "execution": {
     "iopub.execute_input": "2023-01-18T04:13:17.266824Z",
     "iopub.status.busy": "2023-01-18T04:13:17.266739Z",
     "iopub.status.idle": "2023-01-18T04:13:17.270011Z",
     "shell.execute_reply": "2023-01-18T04:13:17.269566Z",
     "shell.execute_reply.started": "2023-01-18T04:13:17.266812Z"
    },
    "tags": []
   },
   "outputs": [],
   "source": [
    "X = clean_df.drop(columns = drop_columns)\n",
    "y = clean_df['m005_ALL35_69']\n",
    "\n",
    "X_train, X_test, y_train, y_test = train_test_split(X, y, random_state=33)"
   ]
  },
  {
   "cell_type": "code",
   "execution_count": 39,
   "id": "bb228080-b961-4674-98be-af0c6128c929",
   "metadata": {
    "execution": {
     "iopub.execute_input": "2023-01-18T04:13:17.270591Z",
     "iopub.status.busy": "2023-01-18T04:13:17.270508Z",
     "iopub.status.idle": "2023-01-18T04:13:17.276416Z",
     "shell.execute_reply": "2023-01-18T04:13:17.276103Z",
     "shell.execute_reply.started": "2023-01-18T04:13:17.270583Z"
    }
   },
   "outputs": [],
   "source": [
    "Xs_train = ss.fit_transform(X_train)\n",
    "Xs_test = ss.transform(X_test)"
   ]
  },
  {
   "cell_type": "code",
   "execution_count": 40,
   "id": "aa0352cf-1a2e-4227-be4d-a9b031a763b3",
   "metadata": {
    "execution": {
     "iopub.execute_input": "2023-01-18T04:13:17.276926Z",
     "iopub.status.busy": "2023-01-18T04:13:17.276833Z",
     "iopub.status.idle": "2023-01-18T04:13:17.504119Z",
     "shell.execute_reply": "2023-01-18T04:13:17.503727Z",
     "shell.execute_reply.started": "2023-01-18T04:13:17.276917Z"
    },
    "tags": []
   },
   "outputs": [
    {
     "name": "stderr",
     "output_type": "stream",
     "text": [
      "/Users/colby/miniforge3/envs/tfm1/lib/python3.9/site-packages/sklearn/linear_model/_coordinate_descent.py:648: ConvergenceWarning: Objective did not converge. You might want to increase the number of iterations, check the scale of the features or consider increasing regularisation. Duality gap: 8.310e-02, tolerance: 4.664e-02\n",
      "  model = cd_fast.enet_coordinate_descent(\n"
     ]
    },
    {
     "data": {
      "text/html": [
       "<div>\n",
       "<style scoped>\n",
       "    .dataframe tbody tr th:only-of-type {\n",
       "        vertical-align: middle;\n",
       "    }\n",
       "\n",
       "    .dataframe tbody tr th {\n",
       "        vertical-align: top;\n",
       "    }\n",
       "\n",
       "    .dataframe thead th {\n",
       "        text-align: right;\n",
       "    }\n",
       "</style>\n",
       "<table border=\"1\" class=\"dataframe\">\n",
       "  <thead>\n",
       "    <tr style=\"text-align: right;\">\n",
       "      <th></th>\n",
       "      <th>Model</th>\n",
       "      <th>Train Score</th>\n",
       "      <th>Val Score</th>\n",
       "      <th>X Val Score</th>\n",
       "      <th>RMSE Train</th>\n",
       "      <th>RMSE Val</th>\n",
       "    </tr>\n",
       "  </thead>\n",
       "  <tbody>\n",
       "    <tr>\n",
       "      <th>0</th>\n",
       "      <td>m005_ALL_35-69.LinReg</td>\n",
       "      <td>1.000000</td>\n",
       "      <td>0.882940</td>\n",
       "      <td>0.616316</td>\n",
       "      <td>8.404957e-15</td>\n",
       "      <td>1.206978</td>\n",
       "    </tr>\n",
       "    <tr>\n",
       "      <th>1</th>\n",
       "      <td>m005_ALL_35-69.L2-1</td>\n",
       "      <td>0.999965</td>\n",
       "      <td>0.881611</td>\n",
       "      <td>0.614525</td>\n",
       "      <td>8.404957e-15</td>\n",
       "      <td>1.206978</td>\n",
       "    </tr>\n",
       "    <tr>\n",
       "      <th>2</th>\n",
       "      <td>m005_ALL_35-69.L1-1</td>\n",
       "      <td>0.999998</td>\n",
       "      <td>0.999996</td>\n",
       "      <td>0.999285</td>\n",
       "      <td>8.404957e-15</td>\n",
       "      <td>1.206978</td>\n",
       "    </tr>\n",
       "    <tr>\n",
       "      <th>3</th>\n",
       "      <td>m005_ALL_35-69.L2-2</td>\n",
       "      <td>0.999989</td>\n",
       "      <td>0.988186</td>\n",
       "      <td>0.931555</td>\n",
       "      <td>5.548124e-15</td>\n",
       "      <td>1.264333</td>\n",
       "    </tr>\n",
       "  </tbody>\n",
       "</table>\n",
       "</div>"
      ],
      "text/plain": [
       "                   Model  Train Score  Val Score  X Val Score    RMSE Train  \\\n",
       "0  m005_ALL_35-69.LinReg     1.000000   0.882940     0.616316  8.404957e-15   \n",
       "1    m005_ALL_35-69.L2-1     0.999965   0.881611     0.614525  8.404957e-15   \n",
       "2    m005_ALL_35-69.L1-1     0.999998   0.999996     0.999285  8.404957e-15   \n",
       "3    m005_ALL_35-69.L2-2     0.999989   0.988186     0.931555  5.548124e-15   \n",
       "\n",
       "   RMSE Val  \n",
       "0  1.206978  \n",
       "1  1.206978  \n",
       "2  1.206978  \n",
       "3  1.264333  "
      ]
     },
     "execution_count": 40,
     "metadata": {},
     "output_type": "execute_result"
    }
   ],
   "source": [
    "lr.fit(Xs_train, y_train)\n",
    "lasso.fit(Xs_train, y_train)\n",
    "update_df(lasso, \"m005_ALL_35-69.L2-2\")"
   ]
  },
  {
   "cell_type": "markdown",
   "id": "459dc544-be85-407b-8a1d-1a99a88df2ca",
   "metadata": {
    "tags": []
   },
   "source": [
    "## BOOKMARK"
   ]
  },
  {
   "cell_type": "code",
   "execution_count": null,
   "id": "625feeb7-df3a-400b-ab01-61433eb1cdfd",
   "metadata": {},
   "outputs": [],
   "source": []
  }
 ],
 "metadata": {
  "kernelspec": {
   "display_name": "Python 3 (ipykernel)",
   "language": "python",
   "name": "python3"
  },
  "language_info": {
   "codemirror_mode": {
    "name": "ipython",
    "version": 3
   },
   "file_extension": ".py",
   "mimetype": "text/x-python",
   "name": "python",
   "nbconvert_exporter": "python",
   "pygments_lexer": "ipython3",
   "version": "3.9.15"
  }
 },
 "nbformat": 4,
 "nbformat_minor": 5
}
