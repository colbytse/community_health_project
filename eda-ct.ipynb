{
 "cells": [
  {
   "cell_type": "code",
   "execution_count": 1,
   "id": "46d11ea6-fe3d-435c-a5e2-a3155321eed5",
   "metadata": {
    "execution": {
     "iopub.execute_input": "2023-01-12T00:26:11.442369Z",
     "iopub.status.busy": "2023-01-12T00:26:11.441846Z",
     "iopub.status.idle": "2023-01-12T00:26:11.733530Z",
     "shell.execute_reply": "2023-01-12T00:26:11.733242Z",
     "shell.execute_reply.started": "2023-01-12T00:26:11.442335Z"
    },
    "tags": []
   },
   "outputs": [],
   "source": [
    "import numpy as np\n",
    "import pandas as pd\n",
    "import matplotlib as plt"
   ]
  },
  {
   "cell_type": "code",
   "execution_count": 4,
   "id": "872990ab-9bb7-438d-9c7a-71d38bad4256",
   "metadata": {
    "execution": {
     "iopub.execute_input": "2023-01-12T00:28:11.653636Z",
     "iopub.status.busy": "2023-01-12T00:28:11.652747Z",
     "iopub.status.idle": "2023-01-12T00:28:11.717680Z",
     "shell.execute_reply": "2023-01-12T00:28:11.717284Z",
     "shell.execute_reply.started": "2023-01-12T00:28:11.653573Z"
    },
    "tags": []
   },
   "outputs": [],
   "source": [
    "ch83dg = pd.read_csv('./cleaned_data/ch83dg.csv')\n",
    "ch83m = pd.read_csv('./cleaned_data/ch83m.csv')\n",
    "ch83pru = pd.read_csv('./cleaned_data/ch83pru.csv')\n",
    "ch83q = pd.read_csv('./cleaned_data/ch83q.csv')\n",
    "ch89dg = pd.read_csv('./cleaned_data/CH89DG.csv')\n",
    "ch89m = pd.read_csv('./cleaned_data/ch89m.csv')\n",
    "ch89pru = pd.read_csv('./cleaned_data/ch89pru.csv')\n",
    "ch89q = pd.read_csv('./cleaned_data/ch89q.csv')\n",
    "ch93pru = pd.read_csv('./cleaned_data/ch93pru.csv')\n",
    "ch93q = pd.read_csv('./cleaned_data/ch93q.csv')\n",
    "chtaim = pd.read_csv('./cleaned_data/chtaim.csv')\n",
    "chtaipru = pd.read_csv('./cleaned_data/chtaipru.csv')\n",
    "chtaiq = pd.read_csv('./cleaned_data/chtaiq.csv')"
   ]
  },
  {
   "cell_type": "code",
   "execution_count": 6,
   "id": "c9e3f6a9-1eb9-43e4-8e2c-01cc49dafa1e",
   "metadata": {
    "execution": {
     "iopub.execute_input": "2023-01-12T00:28:48.719732Z",
     "iopub.status.busy": "2023-01-12T00:28:48.719279Z",
     "iopub.status.idle": "2023-01-12T00:28:48.746805Z",
     "shell.execute_reply": "2023-01-12T00:28:48.746377Z",
     "shell.execute_reply.started": "2023-01-12T00:28:48.719701Z"
    },
    "tags": []
   },
   "outputs": [
    {
     "data": {
      "text/html": [
       "<div>\n",
       "<style scoped>\n",
       "    .dataframe tbody tr th:only-of-type {\n",
       "        vertical-align: middle;\n",
       "    }\n",
       "\n",
       "    .dataframe tbody tr th {\n",
       "        vertical-align: top;\n",
       "    }\n",
       "\n",
       "    .dataframe thead th {\n",
       "        text-align: right;\n",
       "    }\n",
       "</style>\n",
       "<table border=\"1\" class=\"dataframe\">\n",
       "  <thead>\n",
       "    <tr style=\"text-align: right;\">\n",
       "      <th></th>\n",
       "      <th>Unnamed: 0</th>\n",
       "      <th>county</th>\n",
       "      <th>sex</th>\n",
       "      <th>xiang</th>\n",
       "      <th>q001</th>\n",
       "      <th>q002</th>\n",
       "      <th>q003</th>\n",
       "      <th>q004</th>\n",
       "      <th>q005</th>\n",
       "      <th>q006</th>\n",
       "      <th>...</th>\n",
       "      <th>q238</th>\n",
       "      <th>q239</th>\n",
       "      <th>q240</th>\n",
       "      <th>q241</th>\n",
       "      <th>q242</th>\n",
       "      <th>q243</th>\n",
       "      <th>q244</th>\n",
       "      <th>q245</th>\n",
       "      <th>q246</th>\n",
       "      <th>q247</th>\n",
       "    </tr>\n",
       "  </thead>\n",
       "  <tbody>\n",
       "    <tr>\n",
       "      <th>0</th>\n",
       "      <td>0</td>\n",
       "      <td>AA</td>\n",
       "      <td>M</td>\n",
       "      <td>1</td>\n",
       "      <td>NaN</td>\n",
       "      <td>NaN</td>\n",
       "      <td>NaN</td>\n",
       "      <td>NaN</td>\n",
       "      <td>3.3</td>\n",
       "      <td>0.0</td>\n",
       "      <td>...</td>\n",
       "      <td>NaN</td>\n",
       "      <td>NaN</td>\n",
       "      <td>NaN</td>\n",
       "      <td>NaN</td>\n",
       "      <td>33.8</td>\n",
       "      <td>1.13</td>\n",
       "      <td>1.42</td>\n",
       "      <td>1.05</td>\n",
       "      <td>16.6</td>\n",
       "      <td>1.03</td>\n",
       "    </tr>\n",
       "    <tr>\n",
       "      <th>1</th>\n",
       "      <td>1</td>\n",
       "      <td>AA</td>\n",
       "      <td>M</td>\n",
       "      <td>2</td>\n",
       "      <td>NaN</td>\n",
       "      <td>NaN</td>\n",
       "      <td>NaN</td>\n",
       "      <td>NaN</td>\n",
       "      <td>3.3</td>\n",
       "      <td>0.0</td>\n",
       "      <td>...</td>\n",
       "      <td>NaN</td>\n",
       "      <td>NaN</td>\n",
       "      <td>NaN</td>\n",
       "      <td>NaN</td>\n",
       "      <td>29.6</td>\n",
       "      <td>1.09</td>\n",
       "      <td>1.36</td>\n",
       "      <td>1.05</td>\n",
       "      <td>15.7</td>\n",
       "      <td>0.99</td>\n",
       "    </tr>\n",
       "    <tr>\n",
       "      <th>2</th>\n",
       "      <td>2</td>\n",
       "      <td>AA</td>\n",
       "      <td>M</td>\n",
       "      <td>3</td>\n",
       "      <td>NaN</td>\n",
       "      <td>NaN</td>\n",
       "      <td>NaN</td>\n",
       "      <td>NaN</td>\n",
       "      <td>3.3</td>\n",
       "      <td>0.0</td>\n",
       "      <td>...</td>\n",
       "      <td>NaN</td>\n",
       "      <td>NaN</td>\n",
       "      <td>NaN</td>\n",
       "      <td>NaN</td>\n",
       "      <td>31.7</td>\n",
       "      <td>1.11</td>\n",
       "      <td>1.39</td>\n",
       "      <td>1.05</td>\n",
       "      <td>16.2</td>\n",
       "      <td>1.01</td>\n",
       "    </tr>\n",
       "    <tr>\n",
       "      <th>3</th>\n",
       "      <td>3</td>\n",
       "      <td>AA</td>\n",
       "      <td>F</td>\n",
       "      <td>1</td>\n",
       "      <td>NaN</td>\n",
       "      <td>NaN</td>\n",
       "      <td>NaN</td>\n",
       "      <td>NaN</td>\n",
       "      <td>10.0</td>\n",
       "      <td>0.0</td>\n",
       "      <td>...</td>\n",
       "      <td>11.5</td>\n",
       "      <td>92.3</td>\n",
       "      <td>88.5</td>\n",
       "      <td>3.8</td>\n",
       "      <td>31.8</td>\n",
       "      <td>1.08</td>\n",
       "      <td>1.41</td>\n",
       "      <td>1.04</td>\n",
       "      <td>15.9</td>\n",
       "      <td>0.99</td>\n",
       "    </tr>\n",
       "    <tr>\n",
       "      <th>4</th>\n",
       "      <td>4</td>\n",
       "      <td>AA</td>\n",
       "      <td>F</td>\n",
       "      <td>2</td>\n",
       "      <td>NaN</td>\n",
       "      <td>NaN</td>\n",
       "      <td>NaN</td>\n",
       "      <td>NaN</td>\n",
       "      <td>12.5</td>\n",
       "      <td>0.0</td>\n",
       "      <td>...</td>\n",
       "      <td>12.0</td>\n",
       "      <td>88.0</td>\n",
       "      <td>80.0</td>\n",
       "      <td>6.0</td>\n",
       "      <td>28.5</td>\n",
       "      <td>1.04</td>\n",
       "      <td>1.34</td>\n",
       "      <td>1.03</td>\n",
       "      <td>15.4</td>\n",
       "      <td>0.98</td>\n",
       "    </tr>\n",
       "  </tbody>\n",
       "</table>\n",
       "<p>5 rows × 251 columns</p>\n",
       "</div>"
      ],
      "text/plain": [
       "   Unnamed: 0 county sex  xiang  q001  q002  q003  q004  q005  q006  ...  \\\n",
       "0           0     AA   M      1   NaN   NaN   NaN   NaN   3.3   0.0  ...   \n",
       "1           1     AA   M      2   NaN   NaN   NaN   NaN   3.3   0.0  ...   \n",
       "2           2     AA   M      3   NaN   NaN   NaN   NaN   3.3   0.0  ...   \n",
       "3           3     AA   F      1   NaN   NaN   NaN   NaN  10.0   0.0  ...   \n",
       "4           4     AA   F      2   NaN   NaN   NaN   NaN  12.5   0.0  ...   \n",
       "\n",
       "   q238  q239  q240  q241  q242  q243  q244  q245  q246  q247  \n",
       "0   NaN   NaN   NaN   NaN  33.8  1.13  1.42  1.05  16.6  1.03  \n",
       "1   NaN   NaN   NaN   NaN  29.6  1.09  1.36  1.05  15.7  0.99  \n",
       "2   NaN   NaN   NaN   NaN  31.7  1.11  1.39  1.05  16.2  1.01  \n",
       "3  11.5  92.3  88.5   3.8  31.8  1.08  1.41  1.04  15.9  0.99  \n",
       "4  12.0  88.0  80.0   6.0  28.5  1.04  1.34  1.03  15.4  0.98  \n",
       "\n",
       "[5 rows x 251 columns]"
      ]
     },
     "execution_count": 6,
     "metadata": {},
     "output_type": "execute_result"
    }
   ],
   "source": [
    "# taking a closer look at the questionaire from 1989\n",
    "ch89q.head()"
   ]
  },
  {
   "cell_type": "code",
   "execution_count": 12,
   "id": "3470d22b-078b-4915-a8b6-71e1b62bfc1e",
   "metadata": {
    "execution": {
     "iopub.execute_input": "2023-01-12T00:39:58.108993Z",
     "iopub.status.busy": "2023-01-12T00:39:58.108631Z",
     "iopub.status.idle": "2023-01-12T00:39:58.120940Z",
     "shell.execute_reply": "2023-01-12T00:39:58.120323Z",
     "shell.execute_reply.started": "2023-01-12T00:39:58.108965Z"
    },
    "tags": []
   },
   "outputs": [
    {
     "data": {
      "text/plain": [
       "count    207.000000\n",
       "mean      27.582126\n",
       "std       19.162509\n",
       "min        1.400000\n",
       "25%       13.700000\n",
       "50%       21.300000\n",
       "75%       37.315000\n",
       "max       91.820000\n",
       "Name: q001, dtype: float64"
      ]
     },
     "execution_count": 12,
     "metadata": {},
     "output_type": "execute_result"
    }
   ],
   "source": [
    "# q001: TOTAL 1989 XIANG POPULATION (1000s) \n",
    "ch89q['q001'].loc[ch89q['q001'].notnull()].describe()"
   ]
  },
  {
   "cell_type": "code",
   "execution_count": 13,
   "id": "09abacb2-88fa-4c56-92f2-07cf1e77cc55",
   "metadata": {
    "execution": {
     "iopub.execute_input": "2023-01-12T00:42:59.458584Z",
     "iopub.status.busy": "2023-01-12T00:42:59.458097Z",
     "iopub.status.idle": "2023-01-12T00:42:59.462587Z",
     "shell.execute_reply": "2023-01-12T00:42:59.461687Z",
     "shell.execute_reply.started": "2023-01-12T00:42:59.458549Z"
    }
   },
   "outputs": [],
   "source": [
    "# Average population size 27,582\n",
    "# largest population 91,8200\n",
    "# smallest population 1,400"
   ]
  },
  {
   "cell_type": "code",
   "execution_count": 14,
   "id": "a72cac51-7142-4a28-945c-7560ba34b809",
   "metadata": {
    "execution": {
     "iopub.execute_input": "2023-01-12T00:43:11.850808Z",
     "iopub.status.busy": "2023-01-12T00:43:11.850269Z",
     "iopub.status.idle": "2023-01-12T00:43:11.862274Z",
     "shell.execute_reply": "2023-01-12T00:43:11.861529Z",
     "shell.execute_reply.started": "2023-01-12T00:43:11.850772Z"
    }
   },
   "outputs": [
    {
     "data": {
      "text/plain": [
       "count    207.000000\n",
       "mean      19.454106\n",
       "std       19.446381\n",
       "min        4.000000\n",
       "25%       11.000000\n",
       "50%       15.000000\n",
       "75%       22.000000\n",
       "max      155.000000\n",
       "Name: q002, dtype: float64"
      ]
     },
     "execution_count": 14,
     "metadata": {},
     "output_type": "execute_result"
    }
   ],
   "source": [
    "# q002: NUMBER OF VILLAGES IN XIANG\n",
    "ch89q['q002'].loc[ch89q['q002'].notnull()].describe()"
   ]
  },
  {
   "cell_type": "code",
   "execution_count": 15,
   "id": "93c9d8a4-fc74-4d42-813e-2a63a4df196b",
   "metadata": {
    "execution": {
     "iopub.execute_input": "2023-01-12T00:44:44.937395Z",
     "iopub.status.busy": "2023-01-12T00:44:44.936830Z",
     "iopub.status.idle": "2023-01-12T00:44:44.947903Z",
     "shell.execute_reply": "2023-01-12T00:44:44.947024Z",
     "shell.execute_reply.started": "2023-01-12T00:44:44.937341Z"
    }
   },
   "outputs": [
    {
     "data": {
      "text/plain": [
       "count    207.000000\n",
       "mean      17.186473\n",
       "std       11.921813\n",
       "min        0.000000\n",
       "25%        7.900000\n",
       "50%       14.500000\n",
       "75%       24.350000\n",
       "max       47.500000\n",
       "Name: q008, dtype: float64"
      ]
     },
     "execution_count": 15,
     "metadata": {},
     "output_type": "execute_result"
    }
   ],
   "source": [
    "ch89q['q008'].loc[ch89q['q008'].notnull()].describe()"
   ]
  },
  {
   "cell_type": "code",
   "execution_count": null,
   "id": "d50b7cb4-5b0b-4b90-a328-53c844ca9b36",
   "metadata": {},
   "outputs": [],
   "source": []
  }
 ],
 "metadata": {
  "kernelspec": {
   "display_name": "Python 3 (ipykernel)",
   "language": "python",
   "name": "python3"
  },
  "language_info": {
   "codemirror_mode": {
    "name": "ipython",
    "version": 3
   },
   "file_extension": ".py",
   "mimetype": "text/x-python",
   "name": "python",
   "nbconvert_exporter": "python",
   "pygments_lexer": "ipython3",
   "version": "3.9.15"
  }
 },
 "nbformat": 4,
 "nbformat_minor": 5
}
